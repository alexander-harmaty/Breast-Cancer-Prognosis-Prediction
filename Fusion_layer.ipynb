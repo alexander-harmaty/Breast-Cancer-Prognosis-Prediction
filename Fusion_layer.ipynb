{
  "nbformat": 4,
  "nbformat_minor": 0,
  "metadata": {
    "colab": {
      "provenance": [],
      "gpuType": "T4",
      "authorship_tag": "ABX9TyNKM/uDlF8Q3lkYqTqCfmqs",
      "include_colab_link": true
    },
    "kernelspec": {
      "name": "python3",
      "display_name": "Python 3"
    },
    "language_info": {
      "name": "python"
    },
    "accelerator": "GPU"
  },
  "cells": [
    {
      "cell_type": "markdown",
      "metadata": {
        "id": "view-in-github",
        "colab_type": "text"
      },
      "source": [
        "<a href=\"https://colab.research.google.com/github/alexander-harmaty/Breast-Cancer-Prognosis-Prediction/blob/main/Fusion_layer.ipynb\" target=\"_parent\"><img src=\"https://colab.research.google.com/assets/colab-badge.svg\" alt=\"Open In Colab\"/></a>"
      ]
    },
    {
      "cell_type": "markdown",
      "source": [
        "# **Environment Setup and Imports**"
      ],
      "metadata": {
        "id": "CpFWLiq8mwvE"
      }
    },
    {
      "cell_type": "code",
      "source": [
        "import pickle\n",
        "import numpy as np\n",
        "import pandas as pd\n",
        "import tensorflow as tf\n",
        "from collections import Counter\n",
        "from sklearn.metrics import confusion_matrix, classification_report\n",
        "from sklearn.model_selection import train_test_split\n",
        "from tensorflow.keras.models import Sequential\n",
        "from tensorflow.keras.layers import Dense, Dropout"
      ],
      "metadata": {
        "id": "OeqA27HFmy3e"
      },
      "execution_count": 84,
      "outputs": []
    },
    {
      "cell_type": "markdown",
      "source": [
        "# **Data Preprocessing**\n"
      ],
      "metadata": {
        "id": "mkGP7z-Fn8zW"
      }
    },
    {
      "cell_type": "markdown",
      "source": [
        "## *Data Loading*"
      ],
      "metadata": {
        "id": "2-ud0hHOpThF"
      }
    },
    {
      "cell_type": "code",
      "source": [
        "# LOAD both pickles\n",
        "with open('rnn_features.pkl','rb') as f:\n",
        "    rnn = pickle.load(f)\n",
        "with open('cnn_features.pkl','rb') as f:\n",
        "    cnn = pickle.load(f)\n",
        "\n",
        "df_rnn = pd.DataFrame(rnn['features'], index=rnn['ids'])\n",
        "df_rnn['label'] = rnn['labels']\n",
        "df_cnn = pd.DataFrame(cnn['features'], index=cnn['ids'])\n",
        "df_cnn['label'] = cnn['labels']\n",
        "\n",
        "# ALIGN on common IDs\n",
        "common = df_rnn.index.intersection(df_cnn.index)\n",
        "print(f\"Found {len(common)} common patient IDs.\")\n",
        "if len(common)==0:\n",
        "    raise RuntimeError(\"No overlapping IDs!\")\n",
        "\n",
        "df_rnn = df_rnn.loc[common]\n",
        "df_cnn = df_cnn.loc[common]\n",
        "\n",
        "# FIND mismatches\n",
        "mismatch = df_rnn['label'] != df_cnn['label']\n",
        "if mismatch.any():\n",
        "    mids = df_rnn.index[mismatch].tolist()\n",
        "    print(f\"⚠️  Found {len(mids)} label mismatches:\", mids)\n",
        "    display(pd.DataFrame({\n",
        "      'rnn_label': df_rnn.loc[mids,'label'],\n",
        "      'cnn_label': df_cnn.loc[mids,'label'],\n",
        "    }))\n",
        "    # override RNN → CNN\n",
        "    print(\"→ overriding RNN labels to match CNN for those IDs\")\n",
        "    df_rnn.loc[mismatch,'label'] = df_cnn.loc[mismatch,'label']\n",
        "\n",
        "assert (df_rnn['label']==df_cnn['label']).all()\n",
        "\n",
        "# BUILD fusion matrices\n",
        "X_rnn = df_rnn.drop(columns='label').values\n",
        "X_cnn = df_cnn.drop(columns='label').values\n",
        "y     = df_cnn['label'].values\n",
        "print(\"Fused data shapes:\", X_rnn.shape, X_cnn.shape, y.shape)"
      ],
      "metadata": {
        "colab": {
          "base_uri": "https://localhost:8080/",
          "height": 609
        },
        "id": "RTpIGq8GowzI",
        "outputId": "6a33f3ff-4c50-45e7-efed-f302548db70b"
      },
      "execution_count": 85,
      "outputs": [
        {
          "output_type": "stream",
          "name": "stdout",
          "text": [
            "Found 100 common patient IDs.\n",
            "⚠️  Found 15 label mismatches: ['Breast_MRI_018', 'Breast_MRI_054', 'Breast_MRI_124', 'Breast_MRI_141', 'Breast_MRI_246', 'Breast_MRI_280', 'Breast_MRI_290', 'Breast_MRI_339', 'Breast_MRI_466', 'Breast_MRI_595', 'Breast_MRI_723', 'Breast_MRI_726', 'Breast_MRI_797', 'Breast_MRI_805', 'Breast_MRI_832']\n"
          ]
        },
        {
          "output_type": "display_data",
          "data": {
            "text/plain": [
              "                rnn_label  cnn_label\n",
              "Breast_MRI_018        0.0        1.0\n",
              "Breast_MRI_054        0.0        1.0\n",
              "Breast_MRI_124        1.0        0.0\n",
              "Breast_MRI_141        0.0        1.0\n",
              "Breast_MRI_246        1.0        0.0\n",
              "Breast_MRI_280        0.0        1.0\n",
              "Breast_MRI_290        1.0        0.0\n",
              "Breast_MRI_339        1.0        0.0\n",
              "Breast_MRI_466        1.0        0.0\n",
              "Breast_MRI_595        1.0        0.0\n",
              "Breast_MRI_723        1.0        0.0\n",
              "Breast_MRI_726        0.0        1.0\n",
              "Breast_MRI_797        1.0        0.0\n",
              "Breast_MRI_805        1.0        0.0\n",
              "Breast_MRI_832        1.0        0.0"
            ],
            "text/html": [
              "\n",
              "  <div id=\"df-955a12b5-8fe3-4140-97b4-d04cf1c63cf2\" class=\"colab-df-container\">\n",
              "    <div>\n",
              "<style scoped>\n",
              "    .dataframe tbody tr th:only-of-type {\n",
              "        vertical-align: middle;\n",
              "    }\n",
              "\n",
              "    .dataframe tbody tr th {\n",
              "        vertical-align: top;\n",
              "    }\n",
              "\n",
              "    .dataframe thead th {\n",
              "        text-align: right;\n",
              "    }\n",
              "</style>\n",
              "<table border=\"1\" class=\"dataframe\">\n",
              "  <thead>\n",
              "    <tr style=\"text-align: right;\">\n",
              "      <th></th>\n",
              "      <th>rnn_label</th>\n",
              "      <th>cnn_label</th>\n",
              "    </tr>\n",
              "  </thead>\n",
              "  <tbody>\n",
              "    <tr>\n",
              "      <th>Breast_MRI_018</th>\n",
              "      <td>0.0</td>\n",
              "      <td>1.0</td>\n",
              "    </tr>\n",
              "    <tr>\n",
              "      <th>Breast_MRI_054</th>\n",
              "      <td>0.0</td>\n",
              "      <td>1.0</td>\n",
              "    </tr>\n",
              "    <tr>\n",
              "      <th>Breast_MRI_124</th>\n",
              "      <td>1.0</td>\n",
              "      <td>0.0</td>\n",
              "    </tr>\n",
              "    <tr>\n",
              "      <th>Breast_MRI_141</th>\n",
              "      <td>0.0</td>\n",
              "      <td>1.0</td>\n",
              "    </tr>\n",
              "    <tr>\n",
              "      <th>Breast_MRI_246</th>\n",
              "      <td>1.0</td>\n",
              "      <td>0.0</td>\n",
              "    </tr>\n",
              "    <tr>\n",
              "      <th>Breast_MRI_280</th>\n",
              "      <td>0.0</td>\n",
              "      <td>1.0</td>\n",
              "    </tr>\n",
              "    <tr>\n",
              "      <th>Breast_MRI_290</th>\n",
              "      <td>1.0</td>\n",
              "      <td>0.0</td>\n",
              "    </tr>\n",
              "    <tr>\n",
              "      <th>Breast_MRI_339</th>\n",
              "      <td>1.0</td>\n",
              "      <td>0.0</td>\n",
              "    </tr>\n",
              "    <tr>\n",
              "      <th>Breast_MRI_466</th>\n",
              "      <td>1.0</td>\n",
              "      <td>0.0</td>\n",
              "    </tr>\n",
              "    <tr>\n",
              "      <th>Breast_MRI_595</th>\n",
              "      <td>1.0</td>\n",
              "      <td>0.0</td>\n",
              "    </tr>\n",
              "    <tr>\n",
              "      <th>Breast_MRI_723</th>\n",
              "      <td>1.0</td>\n",
              "      <td>0.0</td>\n",
              "    </tr>\n",
              "    <tr>\n",
              "      <th>Breast_MRI_726</th>\n",
              "      <td>0.0</td>\n",
              "      <td>1.0</td>\n",
              "    </tr>\n",
              "    <tr>\n",
              "      <th>Breast_MRI_797</th>\n",
              "      <td>1.0</td>\n",
              "      <td>0.0</td>\n",
              "    </tr>\n",
              "    <tr>\n",
              "      <th>Breast_MRI_805</th>\n",
              "      <td>1.0</td>\n",
              "      <td>0.0</td>\n",
              "    </tr>\n",
              "    <tr>\n",
              "      <th>Breast_MRI_832</th>\n",
              "      <td>1.0</td>\n",
              "      <td>0.0</td>\n",
              "    </tr>\n",
              "  </tbody>\n",
              "</table>\n",
              "</div>\n",
              "    <div class=\"colab-df-buttons\">\n",
              "\n",
              "  <div class=\"colab-df-container\">\n",
              "    <button class=\"colab-df-convert\" onclick=\"convertToInteractive('df-955a12b5-8fe3-4140-97b4-d04cf1c63cf2')\"\n",
              "            title=\"Convert this dataframe to an interactive table.\"\n",
              "            style=\"display:none;\">\n",
              "\n",
              "  <svg xmlns=\"http://www.w3.org/2000/svg\" height=\"24px\" viewBox=\"0 -960 960 960\">\n",
              "    <path d=\"M120-120v-720h720v720H120Zm60-500h600v-160H180v160Zm220 220h160v-160H400v160Zm0 220h160v-160H400v160ZM180-400h160v-160H180v160Zm440 0h160v-160H620v160ZM180-180h160v-160H180v160Zm440 0h160v-160H620v160Z\"/>\n",
              "  </svg>\n",
              "    </button>\n",
              "\n",
              "  <style>\n",
              "    .colab-df-container {\n",
              "      display:flex;\n",
              "      gap: 12px;\n",
              "    }\n",
              "\n",
              "    .colab-df-convert {\n",
              "      background-color: #E8F0FE;\n",
              "      border: none;\n",
              "      border-radius: 50%;\n",
              "      cursor: pointer;\n",
              "      display: none;\n",
              "      fill: #1967D2;\n",
              "      height: 32px;\n",
              "      padding: 0 0 0 0;\n",
              "      width: 32px;\n",
              "    }\n",
              "\n",
              "    .colab-df-convert:hover {\n",
              "      background-color: #E2EBFA;\n",
              "      box-shadow: 0px 1px 2px rgba(60, 64, 67, 0.3), 0px 1px 3px 1px rgba(60, 64, 67, 0.15);\n",
              "      fill: #174EA6;\n",
              "    }\n",
              "\n",
              "    .colab-df-buttons div {\n",
              "      margin-bottom: 4px;\n",
              "    }\n",
              "\n",
              "    [theme=dark] .colab-df-convert {\n",
              "      background-color: #3B4455;\n",
              "      fill: #D2E3FC;\n",
              "    }\n",
              "\n",
              "    [theme=dark] .colab-df-convert:hover {\n",
              "      background-color: #434B5C;\n",
              "      box-shadow: 0px 1px 3px 1px rgba(0, 0, 0, 0.15);\n",
              "      filter: drop-shadow(0px 1px 2px rgba(0, 0, 0, 0.3));\n",
              "      fill: #FFFFFF;\n",
              "    }\n",
              "  </style>\n",
              "\n",
              "    <script>\n",
              "      const buttonEl =\n",
              "        document.querySelector('#df-955a12b5-8fe3-4140-97b4-d04cf1c63cf2 button.colab-df-convert');\n",
              "      buttonEl.style.display =\n",
              "        google.colab.kernel.accessAllowed ? 'block' : 'none';\n",
              "\n",
              "      async function convertToInteractive(key) {\n",
              "        const element = document.querySelector('#df-955a12b5-8fe3-4140-97b4-d04cf1c63cf2');\n",
              "        const dataTable =\n",
              "          await google.colab.kernel.invokeFunction('convertToInteractive',\n",
              "                                                    [key], {});\n",
              "        if (!dataTable) return;\n",
              "\n",
              "        const docLinkHtml = 'Like what you see? Visit the ' +\n",
              "          '<a target=\"_blank\" href=https://colab.research.google.com/notebooks/data_table.ipynb>data table notebook</a>'\n",
              "          + ' to learn more about interactive tables.';\n",
              "        element.innerHTML = '';\n",
              "        dataTable['output_type'] = 'display_data';\n",
              "        await google.colab.output.renderOutput(dataTable, element);\n",
              "        const docLink = document.createElement('div');\n",
              "        docLink.innerHTML = docLinkHtml;\n",
              "        element.appendChild(docLink);\n",
              "      }\n",
              "    </script>\n",
              "  </div>\n",
              "\n",
              "\n",
              "<div id=\"df-87601219-441e-4eab-a5b4-70604f0467a2\">\n",
              "  <button class=\"colab-df-quickchart\" onclick=\"quickchart('df-87601219-441e-4eab-a5b4-70604f0467a2')\"\n",
              "            title=\"Suggest charts\"\n",
              "            style=\"display:none;\">\n",
              "\n",
              "<svg xmlns=\"http://www.w3.org/2000/svg\" height=\"24px\"viewBox=\"0 0 24 24\"\n",
              "     width=\"24px\">\n",
              "    <g>\n",
              "        <path d=\"M19 3H5c-1.1 0-2 .9-2 2v14c0 1.1.9 2 2 2h14c1.1 0 2-.9 2-2V5c0-1.1-.9-2-2-2zM9 17H7v-7h2v7zm4 0h-2V7h2v10zm4 0h-2v-4h2v4z\"/>\n",
              "    </g>\n",
              "</svg>\n",
              "  </button>\n",
              "\n",
              "<style>\n",
              "  .colab-df-quickchart {\n",
              "      --bg-color: #E8F0FE;\n",
              "      --fill-color: #1967D2;\n",
              "      --hover-bg-color: #E2EBFA;\n",
              "      --hover-fill-color: #174EA6;\n",
              "      --disabled-fill-color: #AAA;\n",
              "      --disabled-bg-color: #DDD;\n",
              "  }\n",
              "\n",
              "  [theme=dark] .colab-df-quickchart {\n",
              "      --bg-color: #3B4455;\n",
              "      --fill-color: #D2E3FC;\n",
              "      --hover-bg-color: #434B5C;\n",
              "      --hover-fill-color: #FFFFFF;\n",
              "      --disabled-bg-color: #3B4455;\n",
              "      --disabled-fill-color: #666;\n",
              "  }\n",
              "\n",
              "  .colab-df-quickchart {\n",
              "    background-color: var(--bg-color);\n",
              "    border: none;\n",
              "    border-radius: 50%;\n",
              "    cursor: pointer;\n",
              "    display: none;\n",
              "    fill: var(--fill-color);\n",
              "    height: 32px;\n",
              "    padding: 0;\n",
              "    width: 32px;\n",
              "  }\n",
              "\n",
              "  .colab-df-quickchart:hover {\n",
              "    background-color: var(--hover-bg-color);\n",
              "    box-shadow: 0 1px 2px rgba(60, 64, 67, 0.3), 0 1px 3px 1px rgba(60, 64, 67, 0.15);\n",
              "    fill: var(--button-hover-fill-color);\n",
              "  }\n",
              "\n",
              "  .colab-df-quickchart-complete:disabled,\n",
              "  .colab-df-quickchart-complete:disabled:hover {\n",
              "    background-color: var(--disabled-bg-color);\n",
              "    fill: var(--disabled-fill-color);\n",
              "    box-shadow: none;\n",
              "  }\n",
              "\n",
              "  .colab-df-spinner {\n",
              "    border: 2px solid var(--fill-color);\n",
              "    border-color: transparent;\n",
              "    border-bottom-color: var(--fill-color);\n",
              "    animation:\n",
              "      spin 1s steps(1) infinite;\n",
              "  }\n",
              "\n",
              "  @keyframes spin {\n",
              "    0% {\n",
              "      border-color: transparent;\n",
              "      border-bottom-color: var(--fill-color);\n",
              "      border-left-color: var(--fill-color);\n",
              "    }\n",
              "    20% {\n",
              "      border-color: transparent;\n",
              "      border-left-color: var(--fill-color);\n",
              "      border-top-color: var(--fill-color);\n",
              "    }\n",
              "    30% {\n",
              "      border-color: transparent;\n",
              "      border-left-color: var(--fill-color);\n",
              "      border-top-color: var(--fill-color);\n",
              "      border-right-color: var(--fill-color);\n",
              "    }\n",
              "    40% {\n",
              "      border-color: transparent;\n",
              "      border-right-color: var(--fill-color);\n",
              "      border-top-color: var(--fill-color);\n",
              "    }\n",
              "    60% {\n",
              "      border-color: transparent;\n",
              "      border-right-color: var(--fill-color);\n",
              "    }\n",
              "    80% {\n",
              "      border-color: transparent;\n",
              "      border-right-color: var(--fill-color);\n",
              "      border-bottom-color: var(--fill-color);\n",
              "    }\n",
              "    90% {\n",
              "      border-color: transparent;\n",
              "      border-bottom-color: var(--fill-color);\n",
              "    }\n",
              "  }\n",
              "</style>\n",
              "\n",
              "  <script>\n",
              "    async function quickchart(key) {\n",
              "      const quickchartButtonEl =\n",
              "        document.querySelector('#' + key + ' button');\n",
              "      quickchartButtonEl.disabled = true;  // To prevent multiple clicks.\n",
              "      quickchartButtonEl.classList.add('colab-df-spinner');\n",
              "      try {\n",
              "        const charts = await google.colab.kernel.invokeFunction(\n",
              "            'suggestCharts', [key], {});\n",
              "      } catch (error) {\n",
              "        console.error('Error during call to suggestCharts:', error);\n",
              "      }\n",
              "      quickchartButtonEl.classList.remove('colab-df-spinner');\n",
              "      quickchartButtonEl.classList.add('colab-df-quickchart-complete');\n",
              "    }\n",
              "    (() => {\n",
              "      let quickchartButtonEl =\n",
              "        document.querySelector('#df-87601219-441e-4eab-a5b4-70604f0467a2 button');\n",
              "      quickchartButtonEl.style.display =\n",
              "        google.colab.kernel.accessAllowed ? 'block' : 'none';\n",
              "    })();\n",
              "  </script>\n",
              "</div>\n",
              "\n",
              "    </div>\n",
              "  </div>\n"
            ],
            "application/vnd.google.colaboratory.intrinsic+json": {
              "type": "dataframe",
              "summary": "{\n  \"name\": \"print(\\\"Fused data shapes:\\\", X_rnn\",\n  \"rows\": 15,\n  \"fields\": [\n    {\n      \"column\": \"rnn_label\",\n      \"properties\": {\n        \"dtype\": \"number\",\n        \"std\": 0.4879500364742666,\n        \"min\": 0.0,\n        \"max\": 1.0,\n        \"num_unique_values\": 2,\n        \"samples\": [\n          1.0,\n          0.0\n        ],\n        \"semantic_type\": \"\",\n        \"description\": \"\"\n      }\n    },\n    {\n      \"column\": \"cnn_label\",\n      \"properties\": {\n        \"dtype\": \"float32\",\n        \"num_unique_values\": 2,\n        \"samples\": [\n          0.0,\n          1.0\n        ],\n        \"semantic_type\": \"\",\n        \"description\": \"\"\n      }\n    }\n  ]\n}"
            }
          },
          "metadata": {}
        },
        {
          "output_type": "stream",
          "name": "stdout",
          "text": [
            "→ overriding RNN labels to match CNN for those IDs\n",
            "Fused data shapes: (100, 32) (100, 128) (100,)\n"
          ]
        }
      ]
    },
    {
      "cell_type": "markdown",
      "source": [
        "## *Feature Merging*\n",
        "single-input vs dual-input (choose which one to run)\n",
        "\n",
        "plan:\n",
        "\n",
        "*   single‑input fusion for baseline\n",
        "*   dual‑input fusion for fine tuning\n",
        "\n",
        "\n"
      ],
      "metadata": {
        "id": "DsoAX3h5pWIY"
      }
    },
    {
      "cell_type": "markdown",
      "source": [
        "### single-input"
      ],
      "metadata": {
        "id": "H3gjjyEDoC9Q"
      }
    },
    {
      "cell_type": "code",
      "source": [
        "# MERGE features (single‑input fusion)\n",
        "X = np.concatenate([X_cnn, X_rnn], axis=1)\n",
        "print(\"Fused feature shape:\", X.shape)\n",
        "print(\"Post‑fusion label distribution:\", Counter(y))"
      ],
      "metadata": {
        "id": "kIbEEWmpoFY-",
        "colab": {
          "base_uri": "https://localhost:8080/"
        },
        "outputId": "96140cbb-560a-47f9-b023-b8512ef72404"
      },
      "execution_count": 86,
      "outputs": [
        {
          "output_type": "stream",
          "name": "stdout",
          "text": [
            "Fused feature shape: (100, 160)\n",
            "Post‑fusion label distribution: Counter({np.float32(0.0): 95, np.float32(1.0): 5})\n"
          ]
        }
      ]
    },
    {
      "cell_type": "markdown",
      "source": [
        "## *Data Splitting*"
      ],
      "metadata": {
        "id": "1I_1yxg4pAYG"
      }
    },
    {
      "cell_type": "code",
      "source": [
        "# FIRST SPLIT (train vs temp)\n",
        "strat1 = y if len(set(y))>1 else None\n",
        "X_train, X_temp, y_train, y_temp = train_test_split(\n",
        "    X, y,\n",
        "    test_size=0.30,\n",
        "    random_state=42,\n",
        "    stratify=strat1\n",
        ")\n",
        "\n",
        "# SECOND SPLIT (val vs test) with pre-check\n",
        "counts_temp = Counter(y_temp)\n",
        "# if any class has <2 samples, drop stratify\n",
        "if any(c<2 for c in counts_temp.values()):\n",
        "    print(\"Too few examples in one class for stratified split, splitting WITHOUT stratify\")\n",
        "    strat2 = None\n",
        "else:\n",
        "    strat2 = y_temp\n",
        "\n",
        "X_val, X_test, y_val, y_test = train_test_split(\n",
        "    X_temp, y_temp,\n",
        "    test_size=0.50,\n",
        "    random_state=42,\n",
        "    stratify=strat2\n",
        ")\n",
        "\n",
        "print(\"\\nSplit sizes:\")\n",
        "print(\" Train:\", X_train.shape, Counter(y_train))\n",
        "print(\" Val:  \", X_val.shape,   Counter(y_val))\n",
        "print(\" Test: \", X_test.shape,  Counter(y_test))"
      ],
      "metadata": {
        "id": "4I6NDQPaqDfs",
        "colab": {
          "base_uri": "https://localhost:8080/"
        },
        "outputId": "b9126a2e-8093-43d1-bf8f-8b995edb366f"
      },
      "execution_count": 87,
      "outputs": [
        {
          "output_type": "stream",
          "name": "stdout",
          "text": [
            "Too few examples in one class for stratified split, splitting WITHOUT stratify\n",
            "\n",
            "Split sizes:\n",
            " Train: (70, 160) Counter({np.float32(0.0): 66, np.float32(1.0): 4})\n",
            " Val:   (15, 160) Counter({np.float32(0.0): 15})\n",
            " Test:  (15, 160) Counter({np.float32(0.0): 14, np.float32(1.0): 1})\n"
          ]
        }
      ]
    },
    {
      "cell_type": "markdown",
      "source": [
        "# **Fusion Model**"
      ],
      "metadata": {
        "id": "isl162_wqe42"
      }
    },
    {
      "cell_type": "markdown",
      "source": [
        "## *Model Building*"
      ],
      "metadata": {
        "id": "haIRA7jOqjIJ"
      }
    },
    {
      "cell_type": "code",
      "source": [
        "# BUILD model\n",
        "model = Sequential([\n",
        "    tf.keras.Input(shape=(X.shape[1],)),\n",
        "    Dense(128, activation='relu'),\n",
        "    Dropout(0.3),\n",
        "    Dense(64,  activation='relu'),\n",
        "    Dropout(0.3),\n",
        "    Dense(1,   activation='sigmoid'),\n",
        "])\n",
        "model.compile(\n",
        "    optimizer='adam',\n",
        "    loss='binary_crossentropy',\n",
        "    metrics=['accuracy', tf.keras.metrics.AUC(name='auc')]\n",
        ")\n",
        "model.summary()"
      ],
      "metadata": {
        "id": "rbSYV-b-qlSH",
        "colab": {
          "base_uri": "https://localhost:8080/",
          "height": 306
        },
        "outputId": "e740327a-d543-4543-c93e-6bfd89d8989d"
      },
      "execution_count": 88,
      "outputs": [
        {
          "output_type": "display_data",
          "data": {
            "text/plain": [
              "\u001b[1mModel: \"sequential_8\"\u001b[0m\n"
            ],
            "text/html": [
              "<pre style=\"white-space:pre;overflow-x:auto;line-height:normal;font-family:Menlo,'DejaVu Sans Mono',consolas,'Courier New',monospace\"><span style=\"font-weight: bold\">Model: \"sequential_8\"</span>\n",
              "</pre>\n"
            ]
          },
          "metadata": {}
        },
        {
          "output_type": "display_data",
          "data": {
            "text/plain": [
              "┏━━━━━━━━━━━━━━━━━━━━━━━━━━━━━━━━━┳━━━━━━━━━━━━━━━━━━━━━━━━┳━━━━━━━━━━━━━━━┓\n",
              "┃\u001b[1m \u001b[0m\u001b[1mLayer (type)                   \u001b[0m\u001b[1m \u001b[0m┃\u001b[1m \u001b[0m\u001b[1mOutput Shape          \u001b[0m\u001b[1m \u001b[0m┃\u001b[1m \u001b[0m\u001b[1m      Param #\u001b[0m\u001b[1m \u001b[0m┃\n",
              "┡━━━━━━━━━━━━━━━━━━━━━━━━━━━━━━━━━╇━━━━━━━━━━━━━━━━━━━━━━━━╇━━━━━━━━━━━━━━━┩\n",
              "│ dense_24 (\u001b[38;5;33mDense\u001b[0m)                │ (\u001b[38;5;45mNone\u001b[0m, \u001b[38;5;34m128\u001b[0m)            │        \u001b[38;5;34m20,608\u001b[0m │\n",
              "├─────────────────────────────────┼────────────────────────┼───────────────┤\n",
              "│ dropout_16 (\u001b[38;5;33mDropout\u001b[0m)            │ (\u001b[38;5;45mNone\u001b[0m, \u001b[38;5;34m128\u001b[0m)            │             \u001b[38;5;34m0\u001b[0m │\n",
              "├─────────────────────────────────┼────────────────────────┼───────────────┤\n",
              "│ dense_25 (\u001b[38;5;33mDense\u001b[0m)                │ (\u001b[38;5;45mNone\u001b[0m, \u001b[38;5;34m64\u001b[0m)             │         \u001b[38;5;34m8,256\u001b[0m │\n",
              "├─────────────────────────────────┼────────────────────────┼───────────────┤\n",
              "│ dropout_17 (\u001b[38;5;33mDropout\u001b[0m)            │ (\u001b[38;5;45mNone\u001b[0m, \u001b[38;5;34m64\u001b[0m)             │             \u001b[38;5;34m0\u001b[0m │\n",
              "├─────────────────────────────────┼────────────────────────┼───────────────┤\n",
              "│ dense_26 (\u001b[38;5;33mDense\u001b[0m)                │ (\u001b[38;5;45mNone\u001b[0m, \u001b[38;5;34m1\u001b[0m)              │            \u001b[38;5;34m65\u001b[0m │\n",
              "└─────────────────────────────────┴────────────────────────┴───────────────┘\n"
            ],
            "text/html": [
              "<pre style=\"white-space:pre;overflow-x:auto;line-height:normal;font-family:Menlo,'DejaVu Sans Mono',consolas,'Courier New',monospace\">┏━━━━━━━━━━━━━━━━━━━━━━━━━━━━━━━━━┳━━━━━━━━━━━━━━━━━━━━━━━━┳━━━━━━━━━━━━━━━┓\n",
              "┃<span style=\"font-weight: bold\"> Layer (type)                    </span>┃<span style=\"font-weight: bold\"> Output Shape           </span>┃<span style=\"font-weight: bold\">       Param # </span>┃\n",
              "┡━━━━━━━━━━━━━━━━━━━━━━━━━━━━━━━━━╇━━━━━━━━━━━━━━━━━━━━━━━━╇━━━━━━━━━━━━━━━┩\n",
              "│ dense_24 (<span style=\"color: #0087ff; text-decoration-color: #0087ff\">Dense</span>)                │ (<span style=\"color: #00d7ff; text-decoration-color: #00d7ff\">None</span>, <span style=\"color: #00af00; text-decoration-color: #00af00\">128</span>)            │        <span style=\"color: #00af00; text-decoration-color: #00af00\">20,608</span> │\n",
              "├─────────────────────────────────┼────────────────────────┼───────────────┤\n",
              "│ dropout_16 (<span style=\"color: #0087ff; text-decoration-color: #0087ff\">Dropout</span>)            │ (<span style=\"color: #00d7ff; text-decoration-color: #00d7ff\">None</span>, <span style=\"color: #00af00; text-decoration-color: #00af00\">128</span>)            │             <span style=\"color: #00af00; text-decoration-color: #00af00\">0</span> │\n",
              "├─────────────────────────────────┼────────────────────────┼───────────────┤\n",
              "│ dense_25 (<span style=\"color: #0087ff; text-decoration-color: #0087ff\">Dense</span>)                │ (<span style=\"color: #00d7ff; text-decoration-color: #00d7ff\">None</span>, <span style=\"color: #00af00; text-decoration-color: #00af00\">64</span>)             │         <span style=\"color: #00af00; text-decoration-color: #00af00\">8,256</span> │\n",
              "├─────────────────────────────────┼────────────────────────┼───────────────┤\n",
              "│ dropout_17 (<span style=\"color: #0087ff; text-decoration-color: #0087ff\">Dropout</span>)            │ (<span style=\"color: #00d7ff; text-decoration-color: #00d7ff\">None</span>, <span style=\"color: #00af00; text-decoration-color: #00af00\">64</span>)             │             <span style=\"color: #00af00; text-decoration-color: #00af00\">0</span> │\n",
              "├─────────────────────────────────┼────────────────────────┼───────────────┤\n",
              "│ dense_26 (<span style=\"color: #0087ff; text-decoration-color: #0087ff\">Dense</span>)                │ (<span style=\"color: #00d7ff; text-decoration-color: #00d7ff\">None</span>, <span style=\"color: #00af00; text-decoration-color: #00af00\">1</span>)              │            <span style=\"color: #00af00; text-decoration-color: #00af00\">65</span> │\n",
              "└─────────────────────────────────┴────────────────────────┴───────────────┘\n",
              "</pre>\n"
            ]
          },
          "metadata": {}
        },
        {
          "output_type": "display_data",
          "data": {
            "text/plain": [
              "\u001b[1m Total params: \u001b[0m\u001b[38;5;34m28,929\u001b[0m (113.00 KB)\n"
            ],
            "text/html": [
              "<pre style=\"white-space:pre;overflow-x:auto;line-height:normal;font-family:Menlo,'DejaVu Sans Mono',consolas,'Courier New',monospace\"><span style=\"font-weight: bold\"> Total params: </span><span style=\"color: #00af00; text-decoration-color: #00af00\">28,929</span> (113.00 KB)\n",
              "</pre>\n"
            ]
          },
          "metadata": {}
        },
        {
          "output_type": "display_data",
          "data": {
            "text/plain": [
              "\u001b[1m Trainable params: \u001b[0m\u001b[38;5;34m28,929\u001b[0m (113.00 KB)\n"
            ],
            "text/html": [
              "<pre style=\"white-space:pre;overflow-x:auto;line-height:normal;font-family:Menlo,'DejaVu Sans Mono',consolas,'Courier New',monospace\"><span style=\"font-weight: bold\"> Trainable params: </span><span style=\"color: #00af00; text-decoration-color: #00af00\">28,929</span> (113.00 KB)\n",
              "</pre>\n"
            ]
          },
          "metadata": {}
        },
        {
          "output_type": "display_data",
          "data": {
            "text/plain": [
              "\u001b[1m Non-trainable params: \u001b[0m\u001b[38;5;34m0\u001b[0m (0.00 B)\n"
            ],
            "text/html": [
              "<pre style=\"white-space:pre;overflow-x:auto;line-height:normal;font-family:Menlo,'DejaVu Sans Mono',consolas,'Courier New',monospace\"><span style=\"font-weight: bold\"> Non-trainable params: </span><span style=\"color: #00af00; text-decoration-color: #00af00\">0</span> (0.00 B)\n",
              "</pre>\n"
            ]
          },
          "metadata": {}
        }
      ]
    },
    {
      "cell_type": "markdown",
      "source": [
        "## *Model Training*"
      ],
      "metadata": {
        "id": "QdU_P90_qnEm"
      }
    },
    {
      "cell_type": "code",
      "source": [
        "# TRAIN\n",
        "history = model.fit(\n",
        "    X_train, y_train,\n",
        "    validation_data=(X_val, y_val),\n",
        "    epochs=50,\n",
        "    batch_size=32,\n",
        "    verbose=2\n",
        ")"
      ],
      "metadata": {
        "id": "CrG_1R4qqou2",
        "colab": {
          "base_uri": "https://localhost:8080/"
        },
        "outputId": "fcecd517-ed21-4504-f740-14aa1dd74c8f"
      },
      "execution_count": 89,
      "outputs": [
        {
          "output_type": "stream",
          "name": "stdout",
          "text": [
            "Epoch 1/50\n",
            "3/3 - 2s - 658ms/step - accuracy: 0.3714 - auc: 0.5682 - loss: 0.7292 - val_accuracy: 0.9333 - val_auc: 0.0000e+00 - val_loss: 0.5633\n",
            "Epoch 2/50\n",
            "3/3 - 0s - 107ms/step - accuracy: 0.8286 - auc: 0.6761 - loss: 0.5436 - val_accuracy: 1.0000 - val_auc: 0.0000e+00 - val_loss: 0.4144\n",
            "Epoch 3/50\n",
            "3/3 - 0s - 44ms/step - accuracy: 0.9286 - auc: 0.5189 - loss: 0.4751 - val_accuracy: 1.0000 - val_auc: 0.0000e+00 - val_loss: 0.3051\n",
            "Epoch 4/50\n",
            "3/3 - 0s - 33ms/step - accuracy: 0.9429 - auc: 0.6402 - loss: 0.3672 - val_accuracy: 1.0000 - val_auc: 0.0000e+00 - val_loss: 0.2280\n",
            "Epoch 5/50\n",
            "3/3 - 0s - 46ms/step - accuracy: 0.9429 - auc: 0.7917 - loss: 0.2892 - val_accuracy: 1.0000 - val_auc: 0.0000e+00 - val_loss: 0.1735\n",
            "Epoch 6/50\n",
            "3/3 - 0s - 33ms/step - accuracy: 0.9429 - auc: 0.6288 - loss: 0.2685 - val_accuracy: 1.0000 - val_auc: 0.0000e+00 - val_loss: 0.1308\n",
            "Epoch 7/50\n",
            "3/3 - 0s - 34ms/step - accuracy: 0.9429 - auc: 0.9072 - loss: 0.2195 - val_accuracy: 1.0000 - val_auc: 0.0000e+00 - val_loss: 0.0980\n",
            "Epoch 8/50\n",
            "3/3 - 0s - 45ms/step - accuracy: 0.9429 - auc: 0.5739 - loss: 0.2437 - val_accuracy: 1.0000 - val_auc: 0.0000e+00 - val_loss: 0.0734\n",
            "Epoch 9/50\n",
            "3/3 - 0s - 38ms/step - accuracy: 0.9429 - auc: 0.7746 - loss: 0.2061 - val_accuracy: 1.0000 - val_auc: 0.0000e+00 - val_loss: 0.0558\n",
            "Epoch 10/50\n",
            "3/3 - 0s - 44ms/step - accuracy: 0.9429 - auc: 0.7917 - loss: 0.1949 - val_accuracy: 1.0000 - val_auc: 0.0000e+00 - val_loss: 0.0441\n",
            "Epoch 11/50\n",
            "3/3 - 0s - 49ms/step - accuracy: 0.9429 - auc: 0.6534 - loss: 0.2135 - val_accuracy: 1.0000 - val_auc: 0.0000e+00 - val_loss: 0.0381\n",
            "Epoch 12/50\n",
            "3/3 - 0s - 94ms/step - accuracy: 0.9429 - auc: 0.7576 - loss: 0.1920 - val_accuracy: 1.0000 - val_auc: 0.0000e+00 - val_loss: 0.0351\n",
            "Epoch 13/50\n",
            "3/3 - 0s - 49ms/step - accuracy: 0.9429 - auc: 0.7348 - loss: 0.2039 - val_accuracy: 1.0000 - val_auc: 0.0000e+00 - val_loss: 0.0331\n",
            "Epoch 14/50\n",
            "3/3 - 0s - 45ms/step - accuracy: 0.9429 - auc: 0.8314 - loss: 0.1851 - val_accuracy: 1.0000 - val_auc: 0.0000e+00 - val_loss: 0.0307\n",
            "Epoch 15/50\n",
            "3/3 - 0s - 99ms/step - accuracy: 0.9429 - auc: 0.9356 - loss: 0.1679 - val_accuracy: 1.0000 - val_auc: 0.0000e+00 - val_loss: 0.0288\n",
            "Epoch 16/50\n",
            "3/3 - 0s - 59ms/step - accuracy: 0.9429 - auc: 0.8504 - loss: 0.1674 - val_accuracy: 1.0000 - val_auc: 0.0000e+00 - val_loss: 0.0282\n",
            "Epoch 17/50\n",
            "3/3 - 0s - 102ms/step - accuracy: 0.9429 - auc: 0.7102 - loss: 0.2015 - val_accuracy: 1.0000 - val_auc: 0.0000e+00 - val_loss: 0.0278\n",
            "Epoch 18/50\n",
            "3/3 - 0s - 49ms/step - accuracy: 0.9429 - auc: 0.9242 - loss: 0.1686 - val_accuracy: 1.0000 - val_auc: 0.0000e+00 - val_loss: 0.0277\n",
            "Epoch 19/50\n",
            "3/3 - 0s - 111ms/step - accuracy: 0.9429 - auc: 0.8466 - loss: 0.1883 - val_accuracy: 1.0000 - val_auc: 0.0000e+00 - val_loss: 0.0280\n",
            "Epoch 20/50\n",
            "3/3 - 0s - 39ms/step - accuracy: 0.9429 - auc: 0.9451 - loss: 0.1701 - val_accuracy: 1.0000 - val_auc: 0.0000e+00 - val_loss: 0.0289\n",
            "Epoch 21/50\n",
            "3/3 - 0s - 44ms/step - accuracy: 0.9429 - auc: 0.9186 - loss: 0.1661 - val_accuracy: 1.0000 - val_auc: 0.0000e+00 - val_loss: 0.0318\n",
            "Epoch 22/50\n",
            "3/3 - 0s - 34ms/step - accuracy: 0.9429 - auc: 0.8939 - loss: 0.1707 - val_accuracy: 1.0000 - val_auc: 0.0000e+00 - val_loss: 0.0357\n",
            "Epoch 23/50\n",
            "3/3 - 0s - 34ms/step - accuracy: 0.9429 - auc: 0.8996 - loss: 0.1681 - val_accuracy: 1.0000 - val_auc: 0.0000e+00 - val_loss: 0.0396\n",
            "Epoch 24/50\n",
            "3/3 - 0s - 33ms/step - accuracy: 0.9429 - auc: 0.9223 - loss: 0.1612 - val_accuracy: 1.0000 - val_auc: 0.0000e+00 - val_loss: 0.0415\n",
            "Epoch 25/50\n",
            "3/3 - 0s - 45ms/step - accuracy: 0.9429 - auc: 0.9167 - loss: 0.1618 - val_accuracy: 1.0000 - val_auc: 0.0000e+00 - val_loss: 0.0421\n",
            "Epoch 26/50\n",
            "3/3 - 0s - 49ms/step - accuracy: 0.9429 - auc: 0.8807 - loss: 0.1628 - val_accuracy: 1.0000 - val_auc: 0.0000e+00 - val_loss: 0.0413\n",
            "Epoch 27/50\n",
            "3/3 - 0s - 34ms/step - accuracy: 0.9429 - auc: 0.9848 - loss: 0.1335 - val_accuracy: 1.0000 - val_auc: 0.0000e+00 - val_loss: 0.0404\n",
            "Epoch 28/50\n",
            "3/3 - 0s - 46ms/step - accuracy: 0.9429 - auc: 0.9773 - loss: 0.1303 - val_accuracy: 1.0000 - val_auc: 0.0000e+00 - val_loss: 0.0400\n",
            "Epoch 29/50\n",
            "3/3 - 0s - 45ms/step - accuracy: 0.9429 - auc: 0.9527 - loss: 0.1541 - val_accuracy: 1.0000 - val_auc: 0.0000e+00 - val_loss: 0.0390\n",
            "Epoch 30/50\n",
            "3/3 - 0s - 33ms/step - accuracy: 0.9429 - auc: 0.9811 - loss: 0.1316 - val_accuracy: 1.0000 - val_auc: 0.0000e+00 - val_loss: 0.0383\n",
            "Epoch 31/50\n",
            "3/3 - 0s - 45ms/step - accuracy: 0.9429 - auc: 0.9337 - loss: 0.1453 - val_accuracy: 1.0000 - val_auc: 0.0000e+00 - val_loss: 0.0371\n",
            "Epoch 32/50\n",
            "3/3 - 0s - 33ms/step - accuracy: 0.9429 - auc: 0.9356 - loss: 0.1470 - val_accuracy: 1.0000 - val_auc: 0.0000e+00 - val_loss: 0.0351\n",
            "Epoch 33/50\n",
            "3/3 - 0s - 33ms/step - accuracy: 0.9429 - auc: 0.9659 - loss: 0.1384 - val_accuracy: 1.0000 - val_auc: 0.0000e+00 - val_loss: 0.0330\n",
            "Epoch 34/50\n",
            "3/3 - 0s - 49ms/step - accuracy: 0.9429 - auc: 0.9545 - loss: 0.1419 - val_accuracy: 1.0000 - val_auc: 0.0000e+00 - val_loss: 0.0315\n",
            "Epoch 35/50\n",
            "3/3 - 0s - 42ms/step - accuracy: 0.9429 - auc: 0.8580 - loss: 0.1509 - val_accuracy: 1.0000 - val_auc: 0.0000e+00 - val_loss: 0.0298\n",
            "Epoch 36/50\n",
            "3/3 - 0s - 45ms/step - accuracy: 0.9429 - auc: 0.9564 - loss: 0.1366 - val_accuracy: 1.0000 - val_auc: 0.0000e+00 - val_loss: 0.0284\n",
            "Epoch 37/50\n",
            "3/3 - 0s - 33ms/step - accuracy: 0.9429 - auc: 0.9830 - loss: 0.1193 - val_accuracy: 1.0000 - val_auc: 0.0000e+00 - val_loss: 0.0274\n",
            "Epoch 38/50\n",
            "3/3 - 0s - 33ms/step - accuracy: 0.9429 - auc: 0.9470 - loss: 0.1446 - val_accuracy: 1.0000 - val_auc: 0.0000e+00 - val_loss: 0.0283\n",
            "Epoch 39/50\n",
            "3/3 - 0s - 34ms/step - accuracy: 0.9429 - auc: 0.9924 - loss: 0.1072 - val_accuracy: 1.0000 - val_auc: 0.0000e+00 - val_loss: 0.0314\n",
            "Epoch 40/50\n",
            "3/3 - 0s - 45ms/step - accuracy: 0.9429 - auc: 0.9792 - loss: 0.1150 - val_accuracy: 1.0000 - val_auc: 0.0000e+00 - val_loss: 0.0339\n",
            "Epoch 41/50\n",
            "3/3 - 0s - 33ms/step - accuracy: 0.9429 - auc: 0.9924 - loss: 0.1028 - val_accuracy: 1.0000 - val_auc: 0.0000e+00 - val_loss: 0.0357\n",
            "Epoch 42/50\n",
            "3/3 - 0s - 33ms/step - accuracy: 0.9429 - auc: 0.9678 - loss: 0.1234 - val_accuracy: 1.0000 - val_auc: 0.0000e+00 - val_loss: 0.0367\n",
            "Epoch 43/50\n",
            "3/3 - 0s - 36ms/step - accuracy: 0.9429 - auc: 0.9735 - loss: 0.1164 - val_accuracy: 1.0000 - val_auc: 0.0000e+00 - val_loss: 0.0362\n",
            "Epoch 44/50\n",
            "3/3 - 0s - 45ms/step - accuracy: 0.9429 - auc: 0.9773 - loss: 0.1127 - val_accuracy: 1.0000 - val_auc: 0.0000e+00 - val_loss: 0.0359\n",
            "Epoch 45/50\n",
            "3/3 - 0s - 33ms/step - accuracy: 0.9429 - auc: 0.9697 - loss: 0.1218 - val_accuracy: 1.0000 - val_auc: 0.0000e+00 - val_loss: 0.0367\n",
            "Epoch 46/50\n",
            "3/3 - 0s - 44ms/step - accuracy: 0.9429 - auc: 0.9886 - loss: 0.1253 - val_accuracy: 1.0000 - val_auc: 0.0000e+00 - val_loss: 0.0372\n",
            "Epoch 47/50\n",
            "3/3 - 0s - 46ms/step - accuracy: 0.9429 - auc: 0.9924 - loss: 0.0972 - val_accuracy: 1.0000 - val_auc: 0.0000e+00 - val_loss: 0.0383\n",
            "Epoch 48/50\n",
            "3/3 - 0s - 46ms/step - accuracy: 0.9429 - auc: 0.9848 - loss: 0.1073 - val_accuracy: 1.0000 - val_auc: 0.0000e+00 - val_loss: 0.0399\n",
            "Epoch 49/50\n",
            "3/3 - 0s - 34ms/step - accuracy: 0.9429 - auc: 0.9640 - loss: 0.1242 - val_accuracy: 1.0000 - val_auc: 0.0000e+00 - val_loss: 0.0430\n",
            "Epoch 50/50\n",
            "3/3 - 0s - 34ms/step - accuracy: 0.9429 - auc: 0.9811 - loss: 0.1093 - val_accuracy: 1.0000 - val_auc: 0.0000e+00 - val_loss: 0.0452\n"
          ]
        }
      ]
    },
    {
      "cell_type": "markdown",
      "source": [
        "## *Model Evaluation*"
      ],
      "metadata": {
        "id": "7bDFZhSCqo5X"
      }
    },
    {
      "cell_type": "code",
      "source": [
        "# EVALUATE\n",
        "test_loss, test_acc, test_auc = model.evaluate(X_test, y_test, verbose=0)\n",
        "print(f\"\\nTest Loss: {test_loss:.3f}  Accuracy: {test_acc:.3f}  AUC: {test_auc:.3f}\")\n",
        "\n",
        "y_pred_prob = model.predict(X_test).ravel()\n",
        "y_pred      = (y_pred_prob>0.5).astype(int)\n",
        "\n",
        "print(\"\\nTest labels distribution:\", Counter(y_test))\n",
        "print(\"\\nConfusion matrix:\\n\", confusion_matrix(y_test, y_pred))\n",
        "print(\"\\nClassification report:\\n\", classification_report(y_test, y_pred))"
      ],
      "metadata": {
        "id": "O1R760-Zqq4S",
        "colab": {
          "base_uri": "https://localhost:8080/"
        },
        "outputId": "8c18c337-5b70-4d28-c691-fc3faf708347"
      },
      "execution_count": 90,
      "outputs": [
        {
          "output_type": "stream",
          "name": "stdout",
          "text": [
            "\n",
            "Test Loss: 0.323  Accuracy: 0.933  AUC: 0.679\n",
            "\u001b[1m1/1\u001b[0m \u001b[32m━━━━━━━━━━━━━━━━━━━━\u001b[0m\u001b[37m\u001b[0m \u001b[1m0s\u001b[0m 69ms/step\n",
            "\n",
            "Test labels distribution: Counter({np.float32(0.0): 14, np.float32(1.0): 1})\n",
            "\n",
            "Confusion matrix:\n",
            " [[14  0]\n",
            " [ 1  0]]\n",
            "\n",
            "Classification report:\n",
            "               precision    recall  f1-score   support\n",
            "\n",
            "         0.0       0.93      1.00      0.97        14\n",
            "         1.0       0.00      0.00      0.00         1\n",
            "\n",
            "    accuracy                           0.93        15\n",
            "   macro avg       0.47      0.50      0.48        15\n",
            "weighted avg       0.87      0.93      0.90        15\n",
            "\n"
          ]
        },
        {
          "output_type": "stream",
          "name": "stderr",
          "text": [
            "/usr/local/lib/python3.11/dist-packages/sklearn/metrics/_classification.py:1565: UndefinedMetricWarning: Precision is ill-defined and being set to 0.0 in labels with no predicted samples. Use `zero_division` parameter to control this behavior.\n",
            "  _warn_prf(average, modifier, f\"{metric.capitalize()} is\", len(result))\n",
            "/usr/local/lib/python3.11/dist-packages/sklearn/metrics/_classification.py:1565: UndefinedMetricWarning: Precision is ill-defined and being set to 0.0 in labels with no predicted samples. Use `zero_division` parameter to control this behavior.\n",
            "  _warn_prf(average, modifier, f\"{metric.capitalize()} is\", len(result))\n",
            "/usr/local/lib/python3.11/dist-packages/sklearn/metrics/_classification.py:1565: UndefinedMetricWarning: Precision is ill-defined and being set to 0.0 in labels with no predicted samples. Use `zero_division` parameter to control this behavior.\n",
            "  _warn_prf(average, modifier, f\"{metric.capitalize()} is\", len(result))\n"
          ]
        }
      ]
    }
  ]
}