{
  "nbformat": 4,
  "nbformat_minor": 0,
  "metadata": {
    "colab": {
      "provenance": [],
      "gpuType": "T4",
      "authorship_tag": "ABX9TyODK6mLWwHNXA97Dk+WyKTN",
      "include_colab_link": true
    },
    "kernelspec": {
      "name": "python3",
      "display_name": "Python 3"
    },
    "language_info": {
      "name": "python"
    },
    "accelerator": "GPU"
  },
  "cells": [
    {
      "cell_type": "markdown",
      "metadata": {
        "id": "view-in-github",
        "colab_type": "text"
      },
      "source": [
        "<a href=\"https://colab.research.google.com/github/alexander-harmaty/Breast-Cancer-Prognosis-Prediction/blob/main/Fusion_layer.ipynb\" target=\"_parent\"><img src=\"https://colab.research.google.com/assets/colab-badge.svg\" alt=\"Open In Colab\"/></a>"
      ]
    },
    {
      "cell_type": "markdown",
      "source": [
        "# **Environment Setup and Imports**"
      ],
      "metadata": {
        "id": "CpFWLiq8mwvE"
      }
    },
    {
      "cell_type": "code",
      "source": [
        "import pickle\n",
        "import numpy as np\n",
        "import pandas as pd\n",
        "from collections import Counter\n",
        "from sklearn.model_selection import train_test_split\n",
        "from sklearn.metrics import confusion_matrix, classification_report, roc_auc_score\n",
        "from tensorflow.keras.models import Sequential\n",
        "from tensorflow.keras.layers import Dense, Dropout\n",
        "import tensorflow as tf"
      ],
      "metadata": {
        "id": "OeqA27HFmy3e"
      },
      "execution_count": 203,
      "outputs": []
    },
    {
      "cell_type": "markdown",
      "source": [
        "# **Data Preprocessing**\n"
      ],
      "metadata": {
        "id": "mkGP7z-Fn8zW"
      }
    },
    {
      "cell_type": "markdown",
      "source": [
        "## *Data Loading*"
      ],
      "metadata": {
        "id": "2-ud0hHOpThF"
      }
    },
    {
      "cell_type": "code",
      "source": [
        "# --- Data Loading & Alignment ---\n",
        "with open('rnn_features.pkl','rb') as f:\n",
        "    rnn = pickle.load(f)\n",
        "with open('cnn_features.pkl','rb') as f:\n",
        "    cnn = pickle.load(f)\n",
        "\n",
        "# Build DataFrames\n",
        "df_rnn = pd.DataFrame(rnn['features'], index=rnn['ids'])\n",
        "df_rnn['label'] = rnn['labels']\n",
        "df_cnn = pd.DataFrame(cnn['features'], index=cnn['ids'])\n",
        "df_cnn['label'] = cnn['labels']\n",
        "\n",
        "# Align on common IDs and sync labels\n",
        "common = df_rnn.index.intersection(df_cnn.index)\n",
        "df_rnn = df_rnn.loc[common]\n",
        "df_cnn = df_cnn.loc[common]\n",
        "mismatch = df_rnn['label'] != df_cnn['label']\n",
        "if mismatch.any():\n",
        "    df_rnn.loc[mismatch, 'label'] = df_cnn.loc[mismatch, 'label']\n",
        "assert (df_rnn['label'] == df_cnn['label']).all(), \"Label sync failed\"\n",
        "\n",
        "# Prepare fused features and labels\n",
        "X = np.concatenate([\n",
        "    df_cnn.drop(columns='label').values,\n",
        "    df_rnn.drop(columns='label').values\n",
        "], axis=1)\n",
        "y = df_cnn['label'].values\n",
        "print(\"Fused feature shape:\", X.shape, \"Label distribution:\", Counter(y))"
      ],
      "metadata": {
        "colab": {
          "base_uri": "https://localhost:8080/"
        },
        "id": "RTpIGq8GowzI",
        "outputId": "a011a6dd-7491-4d00-f8d2-f2ae53b62281"
      },
      "execution_count": 204,
      "outputs": [
        {
          "output_type": "stream",
          "name": "stdout",
          "text": [
            "Fused feature shape: (100, 160) Label distribution: Counter({np.float32(0.0): 95, np.float32(1.0): 5})\n"
          ]
        }
      ]
    },
    {
      "cell_type": "markdown",
      "source": [
        "## *Feature Merging*\n",
        "single-input vs dual-input (choose which one to run)\n",
        "\n",
        "plan:\n",
        "\n",
        "*   single‑input fusion for baseline\n",
        "*   dual‑input fusion for fine tuning\n",
        "\n",
        "\n"
      ],
      "metadata": {
        "id": "DsoAX3h5pWIY"
      }
    },
    {
      "cell_type": "markdown",
      "source": [
        "### single-input"
      ],
      "metadata": {
        "id": "H3gjjyEDoC9Q"
      }
    },
    {
      "cell_type": "code",
      "source": [
        "# Single-input fusion (concatenate CNN + RNN)\n",
        "#X = np.concatenate([X_cnn, X_rnn], axis=1)\n",
        "#print(\"Fused feature shape:\", X.shape, \"Label distribution:\", Counter(y))"
      ],
      "metadata": {
        "id": "kIbEEWmpoFY-"
      },
      "execution_count": 205,
      "outputs": []
    },
    {
      "cell_type": "markdown",
      "source": [
        "## *Data Splitting*"
      ],
      "metadata": {
        "id": "1I_1yxg4pAYG"
      }
    },
    {
      "cell_type": "code",
      "source": [
        "# --- Train/Validation/Test Split ---\n",
        "X_train, X_temp, y_train, y_temp = train_test_split(\n",
        "    X, y, test_size=0.30, random_state=42, stratify=y\n",
        ")\n",
        "# Second split: try stratified, fallback to unstratified if too few samples\n",
        "try:\n",
        "    X_val, X_test, y_val, y_test = train_test_split(\n",
        "        X_temp, y_temp, test_size=0.50, random_state=42, stratify=y_temp\n",
        "    )\n",
        "except ValueError:\n",
        "    X_val, X_test, y_val, y_test = train_test_split(\n",
        "        X_temp, y_temp, test_size=0.50, random_state=42\n",
        "    )\n",
        "print(\"Split sizes:\", Counter(y_train), Counter(y_val), Counter(y_test))"
      ],
      "metadata": {
        "colab": {
          "base_uri": "https://localhost:8080/"
        },
        "id": "aG2PUeSIyV6d",
        "outputId": "47512efa-a375-42e3-c1c3-73c0c0564925"
      },
      "execution_count": 206,
      "outputs": [
        {
          "output_type": "stream",
          "name": "stdout",
          "text": [
            "Split sizes: Counter({np.float32(0.0): 66, np.float32(1.0): 4}) Counter({np.float32(0.0): 15}) Counter({np.float32(0.0): 14, np.float32(1.0): 1})\n"
          ]
        }
      ]
    },
    {
      "cell_type": "code",
      "source": [
        "# FIRST SPLIT (train vs temp)\n",
        "#strat1 = y if len(set(y))>1 else None\n",
        "#X_train, X_temp, y_train, y_temp = train_test_split(\n",
        "#    X, y,\n",
        "#    test_size=0.30,\n",
        "#    random_state=42,\n",
        "#    stratify=strat1\n",
        "#)\n",
        "#\n",
        "## SECOND SPLIT (val vs test) with pre-check\n",
        "#counts_temp = Counter(y_temp)\n",
        "## if any class has <2 samples, drop stratify\n",
        "#if any(c<2 for c in counts_temp.values()):\n",
        "#    print(\"Too few examples in one class for stratified split, splitting WITHOUT stratify\")\n",
        "#    strat2 = None\n",
        "#else:\n",
        "#    strat2 = y_temp\n",
        "#\n",
        "#X_val, X_test, y_val, y_test = train_test_split(\n",
        "#    X_temp, y_temp,\n",
        "#    test_size=0.50,\n",
        "#    random_state=42,\n",
        "#    stratify=strat2\n",
        "#)\n",
        "#\n",
        "#print(\"\\nSplit sizes:\")\n",
        "#print(\" Train:\", X_train.shape, Counter(y_train))\n",
        "#print(\" Val:  \", X_val.shape,   Counter(y_val))\n",
        "#print(\" Test: \", X_test.shape,  Counter(y_test))"
      ],
      "metadata": {
        "id": "4I6NDQPaqDfs"
      },
      "execution_count": 207,
      "outputs": []
    },
    {
      "cell_type": "markdown",
      "source": [
        "# **Fusion Model**"
      ],
      "metadata": {
        "id": "isl162_wqe42"
      }
    },
    {
      "cell_type": "markdown",
      "source": [
        "## *Model Building*"
      ],
      "metadata": {
        "id": "haIRA7jOqjIJ"
      }
    },
    {
      "cell_type": "code",
      "source": [
        "# --- Baseline Fusion Model ---\n",
        "model = Sequential([\n",
        "    tf.keras.Input(shape=(X.shape[1],)),\n",
        "    Dense(128, activation='relu'), Dropout(0.3),\n",
        "    Dense(64, activation='relu'),  Dropout(0.3),\n",
        "    Dense(1, activation='sigmoid')\n",
        "])\n",
        "model.compile(\n",
        "    optimizer='adam',\n",
        "    loss='binary_crossentropy',\n",
        "    metrics=['accuracy', tf.keras.metrics.AUC(name='auc')]\n",
        ")\n",
        "model.summary()"
      ],
      "metadata": {
        "id": "rbSYV-b-qlSH",
        "colab": {
          "base_uri": "https://localhost:8080/",
          "height": 306
        },
        "outputId": "716838b6-4740-440f-86ed-f30e987685cd"
      },
      "execution_count": 208,
      "outputs": [
        {
          "output_type": "display_data",
          "data": {
            "text/plain": [
              "\u001b[1mModel: \"sequential_338\"\u001b[0m\n"
            ],
            "text/html": [
              "<pre style=\"white-space:pre;overflow-x:auto;line-height:normal;font-family:Menlo,'DejaVu Sans Mono',consolas,'Courier New',monospace\"><span style=\"font-weight: bold\">Model: \"sequential_338\"</span>\n",
              "</pre>\n"
            ]
          },
          "metadata": {}
        },
        {
          "output_type": "display_data",
          "data": {
            "text/plain": [
              "┏━━━━━━━━━━━━━━━━━━━━━━━━━━━━━━━━━┳━━━━━━━━━━━━━━━━━━━━━━━━┳━━━━━━━━━━━━━━━┓\n",
              "┃\u001b[1m \u001b[0m\u001b[1mLayer (type)                   \u001b[0m\u001b[1m \u001b[0m┃\u001b[1m \u001b[0m\u001b[1mOutput Shape          \u001b[0m\u001b[1m \u001b[0m┃\u001b[1m \u001b[0m\u001b[1m      Param #\u001b[0m\u001b[1m \u001b[0m┃\n",
              "┡━━━━━━━━━━━━━━━━━━━━━━━━━━━━━━━━━╇━━━━━━━━━━━━━━━━━━━━━━━━╇━━━━━━━━━━━━━━━┩\n",
              "│ dense_1014 (\u001b[38;5;33mDense\u001b[0m)              │ (\u001b[38;5;45mNone\u001b[0m, \u001b[38;5;34m128\u001b[0m)            │        \u001b[38;5;34m20,608\u001b[0m │\n",
              "├─────────────────────────────────┼────────────────────────┼───────────────┤\n",
              "│ dropout_676 (\u001b[38;5;33mDropout\u001b[0m)           │ (\u001b[38;5;45mNone\u001b[0m, \u001b[38;5;34m128\u001b[0m)            │             \u001b[38;5;34m0\u001b[0m │\n",
              "├─────────────────────────────────┼────────────────────────┼───────────────┤\n",
              "│ dense_1015 (\u001b[38;5;33mDense\u001b[0m)              │ (\u001b[38;5;45mNone\u001b[0m, \u001b[38;5;34m64\u001b[0m)             │         \u001b[38;5;34m8,256\u001b[0m │\n",
              "├─────────────────────────────────┼────────────────────────┼───────────────┤\n",
              "│ dropout_677 (\u001b[38;5;33mDropout\u001b[0m)           │ (\u001b[38;5;45mNone\u001b[0m, \u001b[38;5;34m64\u001b[0m)             │             \u001b[38;5;34m0\u001b[0m │\n",
              "├─────────────────────────────────┼────────────────────────┼───────────────┤\n",
              "│ dense_1016 (\u001b[38;5;33mDense\u001b[0m)              │ (\u001b[38;5;45mNone\u001b[0m, \u001b[38;5;34m1\u001b[0m)              │            \u001b[38;5;34m65\u001b[0m │\n",
              "└─────────────────────────────────┴────────────────────────┴───────────────┘\n"
            ],
            "text/html": [
              "<pre style=\"white-space:pre;overflow-x:auto;line-height:normal;font-family:Menlo,'DejaVu Sans Mono',consolas,'Courier New',monospace\">┏━━━━━━━━━━━━━━━━━━━━━━━━━━━━━━━━━┳━━━━━━━━━━━━━━━━━━━━━━━━┳━━━━━━━━━━━━━━━┓\n",
              "┃<span style=\"font-weight: bold\"> Layer (type)                    </span>┃<span style=\"font-weight: bold\"> Output Shape           </span>┃<span style=\"font-weight: bold\">       Param # </span>┃\n",
              "┡━━━━━━━━━━━━━━━━━━━━━━━━━━━━━━━━━╇━━━━━━━━━━━━━━━━━━━━━━━━╇━━━━━━━━━━━━━━━┩\n",
              "│ dense_1014 (<span style=\"color: #0087ff; text-decoration-color: #0087ff\">Dense</span>)              │ (<span style=\"color: #00d7ff; text-decoration-color: #00d7ff\">None</span>, <span style=\"color: #00af00; text-decoration-color: #00af00\">128</span>)            │        <span style=\"color: #00af00; text-decoration-color: #00af00\">20,608</span> │\n",
              "├─────────────────────────────────┼────────────────────────┼───────────────┤\n",
              "│ dropout_676 (<span style=\"color: #0087ff; text-decoration-color: #0087ff\">Dropout</span>)           │ (<span style=\"color: #00d7ff; text-decoration-color: #00d7ff\">None</span>, <span style=\"color: #00af00; text-decoration-color: #00af00\">128</span>)            │             <span style=\"color: #00af00; text-decoration-color: #00af00\">0</span> │\n",
              "├─────────────────────────────────┼────────────────────────┼───────────────┤\n",
              "│ dense_1015 (<span style=\"color: #0087ff; text-decoration-color: #0087ff\">Dense</span>)              │ (<span style=\"color: #00d7ff; text-decoration-color: #00d7ff\">None</span>, <span style=\"color: #00af00; text-decoration-color: #00af00\">64</span>)             │         <span style=\"color: #00af00; text-decoration-color: #00af00\">8,256</span> │\n",
              "├─────────────────────────────────┼────────────────────────┼───────────────┤\n",
              "│ dropout_677 (<span style=\"color: #0087ff; text-decoration-color: #0087ff\">Dropout</span>)           │ (<span style=\"color: #00d7ff; text-decoration-color: #00d7ff\">None</span>, <span style=\"color: #00af00; text-decoration-color: #00af00\">64</span>)             │             <span style=\"color: #00af00; text-decoration-color: #00af00\">0</span> │\n",
              "├─────────────────────────────────┼────────────────────────┼───────────────┤\n",
              "│ dense_1016 (<span style=\"color: #0087ff; text-decoration-color: #0087ff\">Dense</span>)              │ (<span style=\"color: #00d7ff; text-decoration-color: #00d7ff\">None</span>, <span style=\"color: #00af00; text-decoration-color: #00af00\">1</span>)              │            <span style=\"color: #00af00; text-decoration-color: #00af00\">65</span> │\n",
              "└─────────────────────────────────┴────────────────────────┴───────────────┘\n",
              "</pre>\n"
            ]
          },
          "metadata": {}
        },
        {
          "output_type": "display_data",
          "data": {
            "text/plain": [
              "\u001b[1m Total params: \u001b[0m\u001b[38;5;34m28,929\u001b[0m (113.00 KB)\n"
            ],
            "text/html": [
              "<pre style=\"white-space:pre;overflow-x:auto;line-height:normal;font-family:Menlo,'DejaVu Sans Mono',consolas,'Courier New',monospace\"><span style=\"font-weight: bold\"> Total params: </span><span style=\"color: #00af00; text-decoration-color: #00af00\">28,929</span> (113.00 KB)\n",
              "</pre>\n"
            ]
          },
          "metadata": {}
        },
        {
          "output_type": "display_data",
          "data": {
            "text/plain": [
              "\u001b[1m Trainable params: \u001b[0m\u001b[38;5;34m28,929\u001b[0m (113.00 KB)\n"
            ],
            "text/html": [
              "<pre style=\"white-space:pre;overflow-x:auto;line-height:normal;font-family:Menlo,'DejaVu Sans Mono',consolas,'Courier New',monospace\"><span style=\"font-weight: bold\"> Trainable params: </span><span style=\"color: #00af00; text-decoration-color: #00af00\">28,929</span> (113.00 KB)\n",
              "</pre>\n"
            ]
          },
          "metadata": {}
        },
        {
          "output_type": "display_data",
          "data": {
            "text/plain": [
              "\u001b[1m Non-trainable params: \u001b[0m\u001b[38;5;34m0\u001b[0m (0.00 B)\n"
            ],
            "text/html": [
              "<pre style=\"white-space:pre;overflow-x:auto;line-height:normal;font-family:Menlo,'DejaVu Sans Mono',consolas,'Courier New',monospace\"><span style=\"font-weight: bold\"> Non-trainable params: </span><span style=\"color: #00af00; text-decoration-color: #00af00\">0</span> (0.00 B)\n",
              "</pre>\n"
            ]
          },
          "metadata": {}
        }
      ]
    },
    {
      "cell_type": "markdown",
      "source": [
        "## *Model Training*"
      ],
      "metadata": {
        "id": "QdU_P90_qnEm"
      }
    },
    {
      "cell_type": "code",
      "source": [
        "# --- Training ---\n",
        "history = model.fit(\n",
        "    X_train, y_train,\n",
        "    validation_data=(X_val, y_val),\n",
        "    epochs=50, batch_size=32, verbose=2\n",
        ")"
      ],
      "metadata": {
        "id": "CrG_1R4qqou2",
        "colab": {
          "base_uri": "https://localhost:8080/"
        },
        "outputId": "6b74ac78-7aaa-45e1-a0f6-aab028c9635c"
      },
      "execution_count": 209,
      "outputs": [
        {
          "output_type": "stream",
          "name": "stdout",
          "text": [
            "Epoch 1/50\n",
            "3/3 - 3s - 857ms/step - accuracy: 0.4429 - auc: 0.4299 - loss: 0.7192 - val_accuracy: 0.9333 - val_auc: 0.0000e+00 - val_loss: 0.5732\n",
            "Epoch 2/50\n",
            "3/3 - 0s - 108ms/step - accuracy: 0.7429 - auc: 0.3731 - loss: 0.6288 - val_accuracy: 1.0000 - val_auc: 0.0000e+00 - val_loss: 0.4166\n",
            "Epoch 3/50\n",
            "3/3 - 0s - 34ms/step - accuracy: 0.9143 - auc: 0.3598 - loss: 0.4803 - val_accuracy: 1.0000 - val_auc: 0.0000e+00 - val_loss: 0.3034\n",
            "Epoch 4/50\n",
            "3/3 - 0s - 49ms/step - accuracy: 0.9429 - auc: 0.4792 - loss: 0.3833 - val_accuracy: 1.0000 - val_auc: 0.0000e+00 - val_loss: 0.2216\n",
            "Epoch 5/50\n",
            "3/3 - 0s - 42ms/step - accuracy: 0.9429 - auc: 0.5473 - loss: 0.3178 - val_accuracy: 1.0000 - val_auc: 0.0000e+00 - val_loss: 0.1628\n",
            "Epoch 6/50\n",
            "3/3 - 0s - 33ms/step - accuracy: 0.9429 - auc: 0.4659 - loss: 0.2885 - val_accuracy: 1.0000 - val_auc: 0.0000e+00 - val_loss: 0.1194\n",
            "Epoch 7/50\n",
            "3/3 - 0s - 35ms/step - accuracy: 0.9429 - auc: 0.6477 - loss: 0.2467 - val_accuracy: 1.0000 - val_auc: 0.0000e+00 - val_loss: 0.0871\n",
            "Epoch 8/50\n",
            "3/3 - 0s - 56ms/step - accuracy: 0.9429 - auc: 0.4867 - loss: 0.2459 - val_accuracy: 1.0000 - val_auc: 0.0000e+00 - val_loss: 0.0646\n",
            "Epoch 9/50\n",
            "3/3 - 0s - 32ms/step - accuracy: 0.9429 - auc: 0.6269 - loss: 0.2159 - val_accuracy: 1.0000 - val_auc: 0.0000e+00 - val_loss: 0.0499\n",
            "Epoch 10/50\n",
            "3/3 - 0s - 33ms/step - accuracy: 0.9429 - auc: 0.6591 - loss: 0.2107 - val_accuracy: 1.0000 - val_auc: 0.0000e+00 - val_loss: 0.0403\n",
            "Epoch 11/50\n",
            "3/3 - 0s - 33ms/step - accuracy: 0.9429 - auc: 0.7443 - loss: 0.2021 - val_accuracy: 1.0000 - val_auc: 0.0000e+00 - val_loss: 0.0355\n",
            "Epoch 12/50\n",
            "3/3 - 0s - 38ms/step - accuracy: 0.9429 - auc: 0.8295 - loss: 0.1904 - val_accuracy: 1.0000 - val_auc: 0.0000e+00 - val_loss: 0.0326\n",
            "Epoch 13/50\n",
            "3/3 - 0s - 32ms/step - accuracy: 0.9429 - auc: 0.5966 - loss: 0.2205 - val_accuracy: 1.0000 - val_auc: 0.0000e+00 - val_loss: 0.0321\n",
            "Epoch 14/50\n",
            "3/3 - 0s - 45ms/step - accuracy: 0.9429 - auc: 0.7273 - loss: 0.2016 - val_accuracy: 1.0000 - val_auc: 0.0000e+00 - val_loss: 0.0317\n",
            "Epoch 15/50\n",
            "3/3 - 0s - 45ms/step - accuracy: 0.9429 - auc: 0.8409 - loss: 0.1793 - val_accuracy: 1.0000 - val_auc: 0.0000e+00 - val_loss: 0.0311\n",
            "Epoch 16/50\n",
            "3/3 - 0s - 34ms/step - accuracy: 0.9429 - auc: 0.6326 - loss: 0.2162 - val_accuracy: 1.0000 - val_auc: 0.0000e+00 - val_loss: 0.0311\n",
            "Epoch 17/50\n",
            "3/3 - 0s - 56ms/step - accuracy: 0.9429 - auc: 0.8939 - loss: 0.1707 - val_accuracy: 1.0000 - val_auc: 0.0000e+00 - val_loss: 0.0310\n",
            "Epoch 18/50\n",
            "3/3 - 0s - 32ms/step - accuracy: 0.9429 - auc: 0.8807 - loss: 0.1790 - val_accuracy: 1.0000 - val_auc: 0.0000e+00 - val_loss: 0.0311\n",
            "Epoch 19/50\n",
            "3/3 - 0s - 32ms/step - accuracy: 0.9429 - auc: 0.9015 - loss: 0.1844 - val_accuracy: 1.0000 - val_auc: 0.0000e+00 - val_loss: 0.0313\n",
            "Epoch 20/50\n",
            "3/3 - 0s - 59ms/step - accuracy: 0.9429 - auc: 0.9337 - loss: 0.1557 - val_accuracy: 1.0000 - val_auc: 0.0000e+00 - val_loss: 0.0313\n",
            "Epoch 21/50\n",
            "3/3 - 0s - 33ms/step - accuracy: 0.9429 - auc: 0.8655 - loss: 0.1719 - val_accuracy: 1.0000 - val_auc: 0.0000e+00 - val_loss: 0.0324\n",
            "Epoch 22/50\n",
            "3/3 - 0s - 32ms/step - accuracy: 0.9429 - auc: 0.7784 - loss: 0.1880 - val_accuracy: 1.0000 - val_auc: 0.0000e+00 - val_loss: 0.0375\n",
            "Epoch 23/50\n",
            "3/3 - 0s - 33ms/step - accuracy: 0.9429 - auc: 0.8769 - loss: 0.1694 - val_accuracy: 1.0000 - val_auc: 0.0000e+00 - val_loss: 0.0439\n",
            "Epoch 24/50\n",
            "3/3 - 0s - 33ms/step - accuracy: 0.9429 - auc: 0.9489 - loss: 0.1552 - val_accuracy: 1.0000 - val_auc: 0.0000e+00 - val_loss: 0.0491\n",
            "Epoch 25/50\n",
            "3/3 - 0s - 36ms/step - accuracy: 0.9429 - auc: 0.8731 - loss: 0.1635 - val_accuracy: 1.0000 - val_auc: 0.0000e+00 - val_loss: 0.0514\n",
            "Epoch 26/50\n",
            "3/3 - 0s - 37ms/step - accuracy: 0.9429 - auc: 0.8750 - loss: 0.1662 - val_accuracy: 1.0000 - val_auc: 0.0000e+00 - val_loss: 0.0520\n",
            "Epoch 27/50\n",
            "3/3 - 0s - 41ms/step - accuracy: 0.9429 - auc: 0.9602 - loss: 0.1545 - val_accuracy: 1.0000 - val_auc: 0.0000e+00 - val_loss: 0.0526\n",
            "Epoch 28/50\n",
            "3/3 - 0s - 46ms/step - accuracy: 0.9429 - auc: 0.9678 - loss: 0.1556 - val_accuracy: 1.0000 - val_auc: 0.0000e+00 - val_loss: 0.0512\n",
            "Epoch 29/50\n",
            "3/3 - 0s - 37ms/step - accuracy: 0.9429 - auc: 0.9167 - loss: 0.1637 - val_accuracy: 1.0000 - val_auc: 0.0000e+00 - val_loss: 0.0494\n",
            "Epoch 30/50\n",
            "3/3 - 0s - 42ms/step - accuracy: 0.9429 - auc: 0.9811 - loss: 0.1383 - val_accuracy: 1.0000 - val_auc: 0.0000e+00 - val_loss: 0.0461\n",
            "Epoch 31/50\n",
            "3/3 - 0s - 45ms/step - accuracy: 0.9429 - auc: 0.9489 - loss: 0.1538 - val_accuracy: 1.0000 - val_auc: 0.0000e+00 - val_loss: 0.0427\n",
            "Epoch 32/50\n",
            "3/3 - 0s - 32ms/step - accuracy: 0.9429 - auc: 0.8977 - loss: 0.1607 - val_accuracy: 1.0000 - val_auc: 0.0000e+00 - val_loss: 0.0405\n",
            "Epoch 33/50\n",
            "3/3 - 0s - 33ms/step - accuracy: 0.9429 - auc: 0.9621 - loss: 0.1381 - val_accuracy: 1.0000 - val_auc: 0.0000e+00 - val_loss: 0.0409\n",
            "Epoch 34/50\n",
            "3/3 - 0s - 33ms/step - accuracy: 0.9429 - auc: 0.9545 - loss: 0.1425 - val_accuracy: 1.0000 - val_auc: 0.0000e+00 - val_loss: 0.0426\n",
            "Epoch 35/50\n",
            "3/3 - 0s - 48ms/step - accuracy: 0.9429 - auc: 0.9394 - loss: 0.1509 - val_accuracy: 1.0000 - val_auc: 0.0000e+00 - val_loss: 0.0437\n",
            "Epoch 36/50\n",
            "3/3 - 0s - 44ms/step - accuracy: 0.9429 - auc: 0.9545 - loss: 0.1404 - val_accuracy: 1.0000 - val_auc: 0.0000e+00 - val_loss: 0.0441\n",
            "Epoch 37/50\n",
            "3/3 - 0s - 39ms/step - accuracy: 0.9429 - auc: 0.9924 - loss: 0.1272 - val_accuracy: 1.0000 - val_auc: 0.0000e+00 - val_loss: 0.0442\n",
            "Epoch 38/50\n",
            "3/3 - 0s - 39ms/step - accuracy: 0.9429 - auc: 0.9697 - loss: 0.1431 - val_accuracy: 1.0000 - val_auc: 0.0000e+00 - val_loss: 0.0441\n",
            "Epoch 39/50\n",
            "3/3 - 0s - 34ms/step - accuracy: 0.9429 - auc: 0.9848 - loss: 0.1192 - val_accuracy: 1.0000 - val_auc: 0.0000e+00 - val_loss: 0.0430\n",
            "Epoch 40/50\n",
            "3/3 - 0s - 34ms/step - accuracy: 0.9429 - auc: 0.9697 - loss: 0.1315 - val_accuracy: 1.0000 - val_auc: 0.0000e+00 - val_loss: 0.0420\n",
            "Epoch 41/50\n",
            "3/3 - 0s - 44ms/step - accuracy: 0.9429 - auc: 0.9394 - loss: 0.1445 - val_accuracy: 1.0000 - val_auc: 0.0000e+00 - val_loss: 0.0411\n",
            "Epoch 42/50\n",
            "3/3 - 0s - 32ms/step - accuracy: 0.9429 - auc: 0.9735 - loss: 0.1295 - val_accuracy: 1.0000 - val_auc: 0.0000e+00 - val_loss: 0.0414\n",
            "Epoch 43/50\n",
            "3/3 - 0s - 45ms/step - accuracy: 0.9429 - auc: 0.9773 - loss: 0.1293 - val_accuracy: 1.0000 - val_auc: 0.0000e+00 - val_loss: 0.0410\n",
            "Epoch 44/50\n",
            "3/3 - 0s - 46ms/step - accuracy: 0.9429 - auc: 0.9034 - loss: 0.1433 - val_accuracy: 1.0000 - val_auc: 0.0000e+00 - val_loss: 0.0413\n",
            "Epoch 45/50\n",
            "3/3 - 0s - 49ms/step - accuracy: 0.9429 - auc: 0.9924 - loss: 0.1207 - val_accuracy: 1.0000 - val_auc: 0.0000e+00 - val_loss: 0.0424\n",
            "Epoch 46/50\n",
            "3/3 - 0s - 33ms/step - accuracy: 0.9429 - auc: 0.9848 - loss: 0.1311 - val_accuracy: 1.0000 - val_auc: 0.0000e+00 - val_loss: 0.0427\n",
            "Epoch 47/50\n",
            "3/3 - 0s - 45ms/step - accuracy: 0.9429 - auc: 0.9848 - loss: 0.1148 - val_accuracy: 1.0000 - val_auc: 0.0000e+00 - val_loss: 0.0429\n",
            "Epoch 48/50\n",
            "3/3 - 0s - 32ms/step - accuracy: 0.9429 - auc: 0.9830 - loss: 0.1137 - val_accuracy: 1.0000 - val_auc: 0.0000e+00 - val_loss: 0.0444\n",
            "Epoch 49/50\n",
            "3/3 - 0s - 45ms/step - accuracy: 0.9429 - auc: 0.9792 - loss: 0.1188 - val_accuracy: 1.0000 - val_auc: 0.0000e+00 - val_loss: 0.0440\n",
            "Epoch 50/50\n",
            "3/3 - 0s - 44ms/step - accuracy: 0.9429 - auc: 0.9848 - loss: 0.1212 - val_accuracy: 1.0000 - val_auc: 0.0000e+00 - val_loss: 0.0437\n"
          ]
        }
      ]
    },
    {
      "cell_type": "markdown",
      "source": [
        "## *Model Evaluation*"
      ],
      "metadata": {
        "id": "7bDFZhSCqo5X"
      }
    },
    {
      "cell_type": "code",
      "source": [
        "# --- Evaluation on Test Set ---\n",
        "y_test_prob = model.predict(X_test).ravel()\n",
        "y_test_pred = (y_test_prob >= 0.5).astype(int)\n",
        "print(\"Confusion matrix on test set:\")\n",
        "print(confusion_matrix(y_test, y_test_pred))\n",
        "print(classification_report(y_test, y_test_pred))\n",
        "print(\"Test ROC AUC:\", roc_auc_score(y_test, y_test_prob))\n",
        "\n",
        "# --- Stratified K‑Fold Cross‑Validation ---\n",
        "from sklearn.model_selection import StratifiedKFold\n",
        "skf = StratifiedKFold(n_splits=5, shuffle=True, random_state=42)\n",
        "auc_scores = []\n",
        "for train_idx, test_idx in skf.split(X, y):\n",
        "    X_tr, X_te = X[train_idx], X[test_idx]\n",
        "    y_tr, y_te = y[train_idx], y[test_idx]\n",
        "    m = Sequential([\n",
        "        tf.keras.Input(shape=(X.shape[1],)),\n",
        "        Dense(128, activation='relu'), Dropout(0.3),\n",
        "        Dense(64, activation='relu'),  Dropout(0.3),\n",
        "        Dense(1, activation='sigmoid')\n",
        "    ])\n",
        "    m.compile(optimizer='adam', loss='binary_crossentropy', metrics=[])\n",
        "    m.fit(X_tr, y_tr, epochs=30, batch_size=32, verbose=0)\n",
        "    prob = m.predict(X_te).ravel()\n",
        "    auc_scores.append(roc_auc_score(y_te, prob))\n",
        "print(\"Stratified K-Fold mean ROC AUC:\", np.mean(auc_scores))\n"
      ],
      "metadata": {
        "id": "O1R760-Zqq4S",
        "colab": {
          "base_uri": "https://localhost:8080/"
        },
        "outputId": "d5bba16c-4675-4613-8b8b-3328dee670e0"
      },
      "execution_count": 210,
      "outputs": [
        {
          "output_type": "stream",
          "name": "stdout",
          "text": [
            "\u001b[1m1/1\u001b[0m \u001b[32m━━━━━━━━━━━━━━━━━━━━\u001b[0m\u001b[37m\u001b[0m \u001b[1m0s\u001b[0m 70ms/step\n",
            "Confusion matrix on test set:\n",
            "[[14  0]\n",
            " [ 1  0]]\n",
            "              precision    recall  f1-score   support\n",
            "\n",
            "         0.0       0.93      1.00      0.97        14\n",
            "         1.0       0.00      0.00      0.00         1\n",
            "\n",
            "    accuracy                           0.93        15\n",
            "   macro avg       0.47      0.50      0.48        15\n",
            "weighted avg       0.87      0.93      0.90        15\n",
            "\n",
            "Test ROC AUC: 0.7142857142857143\n"
          ]
        },
        {
          "output_type": "stream",
          "name": "stderr",
          "text": [
            "/usr/local/lib/python3.11/dist-packages/sklearn/metrics/_classification.py:1565: UndefinedMetricWarning: Precision is ill-defined and being set to 0.0 in labels with no predicted samples. Use `zero_division` parameter to control this behavior.\n",
            "  _warn_prf(average, modifier, f\"{metric.capitalize()} is\", len(result))\n",
            "/usr/local/lib/python3.11/dist-packages/sklearn/metrics/_classification.py:1565: UndefinedMetricWarning: Precision is ill-defined and being set to 0.0 in labels with no predicted samples. Use `zero_division` parameter to control this behavior.\n",
            "  _warn_prf(average, modifier, f\"{metric.capitalize()} is\", len(result))\n",
            "/usr/local/lib/python3.11/dist-packages/sklearn/metrics/_classification.py:1565: UndefinedMetricWarning: Precision is ill-defined and being set to 0.0 in labels with no predicted samples. Use `zero_division` parameter to control this behavior.\n",
            "  _warn_prf(average, modifier, f\"{metric.capitalize()} is\", len(result))\n"
          ]
        },
        {
          "output_type": "stream",
          "name": "stdout",
          "text": [
            "\u001b[1m1/1\u001b[0m \u001b[32m━━━━━━━━━━━━━━━━━━━━\u001b[0m\u001b[37m\u001b[0m \u001b[1m0s\u001b[0m 69ms/step\n",
            "\u001b[1m1/1\u001b[0m \u001b[32m━━━━━━━━━━━━━━━━━━━━\u001b[0m\u001b[37m\u001b[0m \u001b[1m0s\u001b[0m 67ms/step\n",
            "\u001b[1m1/1\u001b[0m \u001b[32m━━━━━━━━━━━━━━━━━━━━\u001b[0m\u001b[37m\u001b[0m \u001b[1m0s\u001b[0m 66ms/step\n",
            "\u001b[1m1/1\u001b[0m \u001b[32m━━━━━━━━━━━━━━━━━━━━\u001b[0m\u001b[37m\u001b[0m \u001b[1m0s\u001b[0m 70ms/step\n",
            "\u001b[1m1/1\u001b[0m \u001b[32m━━━━━━━━━━━━━━━━━━━━\u001b[0m\u001b[37m\u001b[0m \u001b[1m0s\u001b[0m 72ms/step\n",
            "Stratified K-Fold mean ROC AUC: 0.5684210526315789\n"
          ]
        }
      ]
    }
  ]
}