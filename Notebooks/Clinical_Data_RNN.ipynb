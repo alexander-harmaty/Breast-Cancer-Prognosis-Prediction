{
  "nbformat": 4,
  "nbformat_minor": 0,
  "metadata": {
    "colab": {
      "provenance": [],
      "gpuType": "T4",
      "include_colab_link": true
    },
    "kernelspec": {
      "name": "python3",
      "display_name": "Python 3"
    },
    "language_info": {
      "name": "python"
    },
    "accelerator": "GPU"
  },
  "cells": [
    {
      "cell_type": "markdown",
      "metadata": {
        "id": "view-in-github",
        "colab_type": "text"
      },
      "source": [
        "<a href=\"https://colab.research.google.com/github/alexander-harmaty/Breast-Cancer-Prognosis-Prediction/blob/main/Clinical_Data_RNN.ipynb\" target=\"_parent\"><img src=\"https://colab.research.google.com/assets/colab-badge.svg\" alt=\"Open In Colab\"/></a>"
      ]
    },
    {
      "cell_type": "markdown",
      "source": [
        "# **Environment Setup and Imports**"
      ],
      "metadata": {
        "id": "X4jWesX_BBkN"
      }
    },
    {
      "cell_type": "code",
      "execution_count": 13,
      "metadata": {
        "colab": {
          "base_uri": "https://localhost:8080/"
        },
        "id": "jxaoLrIWTcu4",
        "outputId": "a8f22f49-8ad1-4f85-f7fe-0aed8d478dd1"
      },
      "outputs": [
        {
          "output_type": "stream",
          "name": "stdout",
          "text": [
            "Cloning into 'Breast-Cancer-Prognosis-Prediction'...\n",
            "remote: Enumerating objects: 32, done.\u001b[K\n",
            "remote: Counting objects: 100% (32/32), done.\u001b[K\n",
            "remote: Compressing objects: 100% (28/28), done.\u001b[K\n",
            "remote: Total 32 (delta 9), reused 0 (delta 0), pack-reused 0 (from 0)\u001b[K\n",
            "Receiving objects: 100% (32/32), 661.06 KiB | 2.02 MiB/s, done.\n",
            "Resolving deltas: 100% (9/9), done.\n",
            "/content/Breast-Cancer-Prognosis-Prediction/Breast-Cancer-Prognosis-Prediction\n"
          ]
        }
      ],
      "source": [
        "import torch\n",
        "import re\n",
        "import torch.nn as nn\n",
        "import torch.optim as optim\n",
        "import tensorflow as tf\n",
        "from tensorflow import keras\n",
        "import numpy as np\n",
        "import pandas as pd\n",
        "import matplotlib.pyplot as plt\n",
        "from sklearn.preprocessing import LabelEncoder, StandardScaler\n",
        "from sklearn.impute import SimpleImputer\n",
        "from sklearn.model_selection import train_test_split\n",
        "from tensorflow.keras.models import Sequential\n",
        "from tensorflow.keras.layers import SimpleRNN, LSTM, GRU, Dense, Dropout\n",
        "from tensorflow.keras.optimizers import Adam\n",
        "from sklearn.metrics import classification_report, confusion_matrix, roc_curve, auc\n",
        "from tensorflow.keras.layers import Concatenate, BatchNormalization, Input, Bidirectional\n",
        "from tensorflow.keras.callbacks import EarlyStopping, ModelCheckpoint, ReduceLROnPlateau\n",
        "from tensorflow.keras.regularizers import l1_l2\n",
        "from tensorflow.keras.models import Sequential, Model\n",
        "from sklearn.metrics import classification_report, confusion_matrix, roc_curve, auc, precision_recall_curve\n",
        "\n",
        "# Clone repository and set working directory\n",
        "!git clone https://github.com/alexander-harmaty/Breast-Cancer-Prognosis-Prediction.git\n",
        "%cd Breast-Cancer-Prognosis-Prediction\n",
        "\n",
        "# Now you can load the dataset from the repo root\n",
        "file_path = './Clinical_and_Other_Features.xlsx'\n",
        "clinical_df = pd.read_excel(file_path, header=[1,2])"
      ]
    },
    {
      "cell_type": "markdown",
      "source": [
        "# **Data Preprocessing**"
      ],
      "metadata": {
        "id": "BMZPhb6TyB_-"
      }
    },
    {
      "cell_type": "markdown",
      "source": [
        "## *Data Loading and Header Processing*"
      ],
      "metadata": {
        "id": "dna3-dPtc2T4"
      }
    },
    {
      "cell_type": "markdown",
      "source": [
        "### utilities"
      ],
      "metadata": {
        "id": "-yIcEz5S1FK3"
      }
    },
    {
      "cell_type": "code",
      "source": [
        "# Function to merge multi-index headers to single index headers\n",
        "def merge_headers(col_tuple):\n",
        "    # Unpack the tuple: first-level and second-level names\n",
        "    first, second = col_tuple\n",
        "\n",
        "    # If newline characters exist, remove and replace with space\n",
        "    if isinstance(first, str):\n",
        "        first = first.replace('\\n', ' ').strip()\n",
        "    if isinstance(second, str):\n",
        "        second = second.replace('\\n', ' ').strip()\n",
        "\n",
        "    # If blank second-headers exist, return first-header only\n",
        "    if not second or 'Unnamed' in second:\n",
        "        return first\n",
        "    # Otherwise, return merged header\n",
        "    else:\n",
        "        return f\"{first} - {second}\""
      ],
      "metadata": {
        "id": "Zc2fAw6J0qQk"
      },
      "execution_count": 14,
      "outputs": []
    },
    {
      "cell_type": "markdown",
      "source": [
        "### scripts"
      ],
      "metadata": {
        "id": "pijA_DhC1MbZ"
      }
    },
    {
      "cell_type": "code",
      "source": [
        "# Load the data\n",
        "file_path = './Clinical_and_Other_Features.xlsx'\n",
        "clinical_df = pd.read_excel(file_path, header=[1, 2])\n",
        "\n",
        "# Preprocess the column headers\n",
        "# Merge multi-index headers for all columns\n",
        "new_columns = [merge_headers(col) for col in clinical_df.columns]\n",
        "clinical_df.columns = new_columns\n",
        "\n",
        "# Print column info\n",
        "print(f\"Total columns: {len(clinical_df.columns)}\")\n",
        "print(f\"Sample size: {len(clinical_df)}\")"
      ],
      "metadata": {
        "colab": {
          "base_uri": "https://localhost:8080/"
        },
        "id": "PMAI1NtwbQYa",
        "outputId": "54326a67-65dc-45a5-df3d-af004d65495f"
      },
      "execution_count": 15,
      "outputs": [
        {
          "output_type": "stream",
          "name": "stdout",
          "text": [
            "Total columns: 98\n",
            "Sample size: 922\n"
          ]
        }
      ]
    },
    {
      "cell_type": "markdown",
      "source": [
        "## *Data Encoding*\n"
      ],
      "metadata": {
        "id": "orrqr5RtBTS8"
      }
    },
    {
      "cell_type": "markdown",
      "source": [
        "### utilities"
      ],
      "metadata": {
        "id": "JqCBfzi91VHg"
      }
    },
    {
      "cell_type": "code",
      "source": [
        "def encode_clinical_data(df):\n",
        "    \"\"\"\n",
        "    Encodes clinical data with the understanding that real data starts at row 4.\n",
        "    Rows 1-3 contain header/metadata information.\n",
        "\n",
        "    Parameters:\n",
        "    -----------\n",
        "    df : pandas.DataFrame\n",
        "        The clinical dataframe to encode\n",
        "\n",
        "    Returns:\n",
        "    --------\n",
        "    pandas.DataFrame\n",
        "        The encoded dataframe with all columns properly processed\n",
        "    \"\"\"\n",
        "    # Create a copy to avoid modifying the original\n",
        "    encoded_df = df.copy()\n",
        "\n",
        "    # First, check if we need to handle the header rows\n",
        "    # If the dataframe has already been loaded with headers processed\n",
        "    # (i.e., headers are in column names), we don't need this step\n",
        "    if encoded_df.shape[0] >= 4:\n",
        "        print(\"Checking if data starts at row 4...\")\n",
        "        # Sample some values to see if first 3 rows appear to be headers\n",
        "        sample_col = encoded_df.columns[0]\n",
        "        first_rows = encoded_df.loc[0:3, sample_col].tolist()\n",
        "        print(f\"First rows of sample column: {first_rows}\")\n",
        "\n",
        "        # If first rows look like headers, remove them\n",
        "        if any(isinstance(val, str) and '=' in str(val) for val in first_rows):\n",
        "            print(\"First rows appear to contain metadata. Removing rows 0-3...\")\n",
        "            encoded_df = encoded_df.iloc[3:].reset_index(drop=True)\n",
        "            print(f\"Dataframe shape after removing header rows: {encoded_df.shape}\")\n",
        "\n",
        "    # Identify the target column\n",
        "    target_col = None\n",
        "    for col in encoded_df.columns:\n",
        "        if \"Recurrence event\" in col:\n",
        "            target_col = col\n",
        "            target_values = encoded_df[target_col].copy()\n",
        "            print(f\"Identified target column: {target_col}\")\n",
        "            break\n",
        "\n",
        "    # Process each column individually\n",
        "    all_columns = encoded_df.columns.tolist()\n",
        "    print(f\"Processing {len(all_columns)} total columns\")\n",
        "\n",
        "    for col in all_columns:\n",
        "        # Skip target column for now\n",
        "        if col == target_col:\n",
        "            continue\n",
        "\n",
        "        print(f\"Processing column: {col}\")\n",
        "\n",
        "        try:\n",
        "            # Check column data type\n",
        "            if encoded_df[col].dtype == 'object':\n",
        "                # Categorical column\n",
        "                print(f\"  Processing as categorical\")\n",
        "\n",
        "                # Fill missing values\n",
        "                encoded_df[col] = encoded_df[col].fillna(\"MISSING\")\n",
        "\n",
        "                # Convert to string\n",
        "                encoded_df[col] = encoded_df[col].astype(str)\n",
        "\n",
        "                # Apply label encoding\n",
        "                le = LabelEncoder()\n",
        "                encoded_df[col] = le.fit_transform(encoded_df[col])\n",
        "                print(f\"  Encoded {len(le.classes_)} unique values\")\n",
        "\n",
        "            else:\n",
        "                # Numeric column\n",
        "                print(f\"  Processing as numeric\")\n",
        "\n",
        "                # Handle missing values\n",
        "                if encoded_df[col].isna().any():\n",
        "                    if encoded_df[col].isna().all():\n",
        "                        encoded_df[col] = 0\n",
        "                        print(f\"  All values missing, filled with 0\")\n",
        "                    else:\n",
        "                        median = encoded_df[col].median()\n",
        "                        encoded_df[col] = encoded_df[col].fillna(median)\n",
        "                        print(f\"  Filled missing values with median: {median}\")\n",
        "\n",
        "                # Standardize if there's variance\n",
        "                if encoded_df[col].std() > 0:\n",
        "                    mean_val = encoded_df[col].mean()\n",
        "                    std_val = encoded_df[col].std()\n",
        "                    encoded_df[col] = (encoded_df[col] - mean_val) / std_val\n",
        "                    print(f\"  Standardized numeric column\")\n",
        "\n",
        "        except Exception as e:\n",
        "            print(f\"Error processing column {col}: {str(e)}\")\n",
        "\n",
        "            # Try alternative approach\n",
        "            try:\n",
        "                print(f\"  Trying alternative encoding approach\")\n",
        "\n",
        "                # Force to string and encode\n",
        "                encoded_df[col] = encoded_df[col].fillna(\"MISSING\")\n",
        "                encoded_df[col] = encoded_df[col].astype(str)\n",
        "                le = LabelEncoder()\n",
        "                encoded_df[col] = le.fit_transform(encoded_df[col])\n",
        "                print(f\"  Alternative encoding successful\")\n",
        "\n",
        "            except Exception as e2:\n",
        "                print(f\"  Alternative approach failed: {str(e2)}\")\n",
        "                print(f\"  Setting column to 0\")\n",
        "                encoded_df[col] = 0\n",
        "\n",
        "    # Restore target column\n",
        "    if target_col and 'target_values' in locals():\n",
        "        encoded_df[target_col] = target_values\n",
        "        print(f\"Restored target column: {target_col}\")\n",
        "\n",
        "    # Final check for any NaN values\n",
        "    if encoded_df.isna().any().any():\n",
        "        nan_cols = encoded_df.columns[encoded_df.isna().any()].tolist()\n",
        "        print(f\"Filling NaN values in {len(nan_cols)} columns\")\n",
        "        encoded_df = encoded_df.fillna(0)\n",
        "\n",
        "    print(f\"Final encoded dataframe shape: {encoded_df.shape}\")\n",
        "    return encoded_df"
      ],
      "metadata": {
        "id": "7BiYt8Pt4ubu"
      },
      "execution_count": 16,
      "outputs": []
    },
    {
      "cell_type": "markdown",
      "source": [
        "### scripts"
      ],
      "metadata": {
        "id": "ufnoaq6i1XA5"
      }
    },
    {
      "cell_type": "code",
      "source": [
        "# target variable\n",
        "target_col = \"Recurrence event(s) - {0 = no, 1 = yes}\"\n",
        "if target_col not in clinical_df.columns:\n",
        "    # Find the correct column name by looking for a substring match\n",
        "    matching_cols = [col for col in clinical_df.columns if \"Recurrence event\" in col]\n",
        "    if matching_cols:\n",
        "        target_col = matching_cols[0]\n",
        "        print(f\"Found target column: {target_col}\")\n",
        "    else:\n",
        "        raise ValueError(\"Target column not found! Please check the column names.\")\n",
        "\n",
        "# Encode the data\n",
        "encoded_df = encode_clinical_data(clinical_df)\n",
        "print(f\"Encoded data shape: {encoded_df.shape}\")\n"
      ],
      "metadata": {
        "colab": {
          "base_uri": "https://localhost:8080/"
        },
        "collapsed": true,
        "id": "IQC5qbxJNonu",
        "outputId": "62c8942b-ba46-447d-d7ad-aa94ef35ea16"
      },
      "execution_count": 17,
      "outputs": [
        {
          "output_type": "stream",
          "name": "stdout",
          "text": [
            "Checking if data starts at row 4...\n",
            "First rows of sample column: ['Breast_MRI_001', 'Breast_MRI_002', 'Breast_MRI_003', 'Breast_MRI_004']\n",
            "Identified target column: Recurrence event(s) - {0 = no, 1 = yes}\n",
            "Processing 98 total columns\n",
            "Processing column: Patient ID\n",
            "  Processing as categorical\n",
            "  Encoded 922 unique values\n",
            "Processing column: Days to MRI (From the Date of Diagnosis)\n",
            "  Processing as numeric\n",
            "  Standardized numeric column\n",
            "Processing column: Manufacturer - GE MEDICAL SYSTEMS=0, MPTronic software=1, SIEMENS=2\n",
            "  Processing as numeric\n",
            "  Standardized numeric column\n",
            "Processing column: Manufacturer Model Name - Avanto=0, Optima MR450w=1, SIGNA EXCITE=2, SIGNA HDx=3, Signa HDxt=4, Skyra=5, Trio=6, TrioTim=7\n",
            "  Processing as numeric\n",
            "  Standardized numeric column\n",
            "Processing column: Scan Options - FAST_GEMS\\SAT_GEMS\\ACC_GEMS\\PFP\\FS=0,FAST_GEMS\\SAT_GEMS\\MP_GEMS\\ACC_GEMS\\PFP\\FS=1,FAST_GEMS\\SAT_GEMS\\MP_GEMS\\PFP\\FS=2,FAST_GEMS\\SAT_GEMS\\PFP\\FS=3,FS=4,PFP\\FS=5,PFP\\SFS=6,SAT_GEMS\\PFP\\FS=7,SFS=8\n",
            "  Processing as numeric\n",
            "  Standardized numeric column\n",
            "Processing column: Field Strength (Tesla) - 1.494=0,1.5=1,2.8936=2,3=3\n",
            "  Processing as numeric\n",
            "  Standardized numeric column\n",
            "Processing column: Patient Position During MRI - FFP=0,HFP=1\n",
            "  Processing as numeric\n",
            "  Standardized numeric column\n",
            "Processing column: Image Position of Patient\n",
            "  Processing as categorical\n",
            "  Encoded 921 unique values\n",
            "Processing column: Contrast Agent - GADAVIST=0,MAGNEVIST=1,MMAGNEVIST=2,MULTIHANCE=3,Name of agent not stated(but ContrastBolusAgent tag was present)=4, ContrastBolusAgent Tag Absent = 5\n",
            "  Processing as numeric\n",
            "  Filled missing values with median: 1.0\n",
            "  Standardized numeric column\n",
            "Processing column: Contrast Bolus Volume (mL) - 6=0,7=1,8=2,9=3,10=4,11=5,11.88=6,12=7,13=8,13.6=9,14=10,14.5=11,15=12,16=13,17=14,18=15,19=16,20=17,25=18\n",
            "  Processing as numeric\n",
            "  Filled missing values with median: 12.0\n",
            "  Standardized numeric column\n",
            "Processing column: TR (Repetition Time)\n",
            "  Processing as numeric\n",
            "  Standardized numeric column\n",
            "Processing column: TE (Echo Time)\n",
            "  Processing as numeric\n",
            "  Standardized numeric column\n",
            "Processing column: Acquisition Matrix - 320 X 320=0,340 X 340=1,350 X 350=2,360 X 360=3,384 X 360=4,384 X 384=5,448 X 251=6,448 X 381=7,448 X 430=8,448 X 448=9,512 X 358=10\n",
            "  Processing as numeric\n",
            "  Standardized numeric column\n",
            "Processing column: Slice Thickness - 0.9=0,0.95=1,1=2,1.04=3,1.06=4,1.1=5,1.12=6,1.15=7,1.2=8,1.23=9,1.24=10,1.25=11,1.3=12,1.4=13,1.45=14,1.5=15,1.6=16,1.8=17,2=18,2.2=19,2.5=20\n",
            "  Processing as numeric\n",
            "  Standardized numeric column\n",
            "Processing column: Rows - 320=0,448=1,512=2\n",
            "  Processing as numeric\n",
            "  Standardized numeric column\n",
            "Processing column: Columns - 320=0,448=1,512=2\n",
            "  Processing as numeric\n",
            "  Standardized numeric column\n",
            "Processing column: Reconstruction Diameter - 260=0,270=1,280=2,290=3,300=4,305=5,310=6,320=7,330=8,340=9,350=10,360=11,370=12,380=13,390=14,400=15,410=16,420=17,430=18,480=19\n",
            "  Processing as numeric\n",
            "  Filled missing values with median: 10.0\n",
            "  Standardized numeric column\n",
            "Processing column: Flip Angle - 7=0,8=1,10=2,12=3\n",
            "  Processing as numeric\n",
            "  Standardized numeric column\n",
            "Processing column: FOV Computed (Field of View) in cm - 250=0,260=1,270=2,280=3,290=4,300=5,303=6,305=7,310=8,320=9,330=10,340=11,345=12,346=13,350=14,360=15,365=16,370=17,375=18,380=19,390=20,400=21,410=22,420=23,430=24,440=25,480=26\n",
            "  Processing as numeric\n",
            "  Standardized numeric column\n",
            "Processing column: Date of Birth (Days) - (Taking date of diagnosis as day 0) [Functional Check : numeric entries will be negative only, non-numeric ones will be NA or NC ]\n",
            "  Processing as numeric\n",
            "  Standardized numeric column\n",
            "Processing column: Menopause (at diagnosis) - {0 = pre, 1 = post, 2 = N/A}\n",
            "  Processing as numeric\n",
            "  Standardized numeric column\n",
            "Processing column: Race and Ethnicity - {0 = N/A 1 = white, 2 = black, 3 = asian, 4 = native, 5 = hispanic, 6 = multi, 7 = hawa,    8 = amer indian}\n",
            "  Processing as numeric\n",
            "  Standardized numeric column\n",
            "Processing column: Metastatic at Presentation (Outside of Lymph Nodes) - {0 = no 1 = yes}\n",
            "  Processing as numeric\n",
            "  Standardized numeric column\n",
            "Processing column: ER - {0 = neg, 1 = pos}\n",
            "  Processing as numeric\n",
            "  Standardized numeric column\n",
            "Processing column: PR - {0 = neg, 1 = pos}\n",
            "  Processing as numeric\n",
            "  Standardized numeric column\n",
            "Processing column: HER2 - {0 = neg, 1 = pos, 2 = borderline}\n",
            "  Processing as numeric\n",
            "  Standardized numeric column\n",
            "Processing column: Mol Subtype - {0 = luminal-like, 1 = ER/PR pos, HER2 pos, 2 = her2, 3 = trip neg}\n",
            "  Processing as numeric\n",
            "  Standardized numeric column\n",
            "Processing column: Oncotype score\n",
            "  Processing as numeric\n",
            "  Filled missing values with median: 16.0\n",
            "  Standardized numeric column\n",
            "Processing column: Staging(Tumor Size)# [T]\n",
            "  Processing as numeric\n",
            "  Filled missing values with median: 2.0\n",
            "  Standardized numeric column\n",
            "Processing column: Staging(Nodes)#(Nx replaced by -1)[N]\n",
            "  Processing as numeric\n",
            "  Filled missing values with median: 0.0\n",
            "  Standardized numeric column\n",
            "Processing column: Staging(Metastasis)#(Mx -replaced by -1)[M]\n",
            "  Processing as numeric\n",
            "  Standardized numeric column\n",
            "Processing column: Tumor Grade - Tumor Grade(T) (Tubule)\n",
            "  Processing as numeric\n",
            "  Filled missing values with median: 3.0\n",
            "  Standardized numeric column\n",
            "Processing column: Tumor Grade - Tumor Grade(N) (Nuclear)\n",
            "  Processing as numeric\n",
            "  Filled missing values with median: 3.0\n",
            "  Standardized numeric column\n",
            "Processing column: Tumor Grade - Tumor Grade(M) (Mitotic)\n",
            "  Processing as numeric\n",
            "  Filled missing values with median: 1.0\n",
            "  Standardized numeric column\n",
            "Processing column: Nottingham grade - 1=low 2=intermediate 3=high\n",
            "  Processing as numeric\n",
            "  Filled missing values with median: 2.0\n",
            "  Standardized numeric column\n",
            "Processing column: Histologic type - 0=DCIS 1=ductal 2=lobular 3=metaplastic 4=LCIS 5=tubular 6=mixed 7=micropapillary 8=colloid 9=mucinous 10=medullary\n",
            "  Processing as numeric\n",
            "  Filled missing values with median: 1.0\n",
            "  Standardized numeric column\n",
            "Processing column: Tumor Location - Side of cancer L=left R=right\n",
            "  Processing as categorical\n",
            "  Encoded 3 unique values\n",
            "Processing column: Position - Position (every bx positive for invasive cancer)(used during annotation)\n",
            "  Processing as categorical\n",
            "  Encoded 261 unique values\n",
            "Processing column: Bilateral Information - Bilateral breast cancer? { 0=no 1=yes}\n",
            "  Processing as categorical\n",
            "  Encoded 3 unique values\n",
            "Processing column: Bilateral Information - If Bilateral, Different Rec Status {0=no 1=yes}\n",
            "  Processing as categorical\n",
            "  Encoded 4 unique values\n",
            "Processing column: Bilateral Information - Side Annotated {L=left R=right}\n",
            "  Processing as categorical\n",
            "  Encoded 4 unique values\n",
            "Processing column: For Other Side If Bilateral - Side of cancer (for the other side) {L=left, R=right}\n",
            "  Processing as categorical\n",
            "  Encoded 4 unique values\n",
            "Processing column: For Other Side If Bilateral - Oncotype score (for the other side){##}\n",
            "  Processing as categorical\n",
            "  Encoded 5 unique values\n",
            "Processing column: For Other Side If Bilateral - Nottingham grade (for the other side){#}\n",
            "  Processing as categorical\n",
            "  Encoded 6 unique values\n",
            "Processing column: For Other Side If Bilateral - ER (for the other side) {0 = neg, 1 = pos}\n",
            "  Processing as categorical\n",
            "  Encoded 3 unique values\n",
            "Processing column: For Other Side If Bilateral - PR (for the other side) {0 = neg, 1 = pos}\n",
            "  Processing as categorical\n",
            "  Encoded 3 unique values\n",
            "Processing column: For Other Side If Bilateral - HER2 (for the other side) {0 = neg, 1 = pos, 2=borderline}\n",
            "  Processing as categorical\n",
            "  Encoded 4 unique values\n",
            "Processing column: For Other Side If Bilateral - Mol Subtype (for the other side) {0 = luminal-like, 1 = ER/PR pos, HER2 pos, 2 = her2, 3 = trip neg}\n",
            "  Processing as categorical\n",
            "  Encoded 4 unique values\n",
            "Processing column: Multicentric/Multifocal - {0 = no, 1 = yes}\n",
            "  Processing as numeric\n",
            "  Standardized numeric column\n",
            "Processing column: Contralateral Breast Involvement - {0 = no, 1 = yes}\n",
            "  Processing as numeric\n",
            "  Standardized numeric column\n",
            "Processing column: Lymphadenopathy or Suspicious Nodes - {0 = no, 1 = yes}\n",
            "  Processing as numeric\n",
            "  Standardized numeric column\n",
            "Processing column: Skin/Nipple Invovlement - {0 = no, 1 = yes}\n",
            "  Processing as numeric\n",
            "  Standardized numeric column\n",
            "Processing column: Pec/Chest Involvement - {0 = no, 1 = yes}\n",
            "  Processing as numeric\n",
            "  Standardized numeric column\n",
            "Processing column: Surgery - {0 = no,1 = yes}\n",
            "  Processing as numeric\n",
            "  Filled missing values with median: 1.0\n",
            "  Standardized numeric column\n",
            "Processing column: Days to Surgery (from the date of diagnosis)\n",
            "  Processing as categorical\n",
            "  Encoded 232 unique values\n",
            "Processing column: Definitive Surgery Type - {0=BCS, 1=mastectomy}\n",
            "  Processing as categorical\n",
            "  Encoded 4 unique values\n",
            "Processing column: Neoadjuvant Radiation Therapy - {0 = no, 1 = yes}\n",
            "  Processing as numeric\n",
            "  Filled missing values with median: 0.0\n",
            "  Standardized numeric column\n",
            "Processing column: Adjuvant Radiation Therapy - {0 = no, 1 = yes}\n",
            "  Processing as numeric\n",
            "  Filled missing values with median: 1.0\n",
            "  Standardized numeric column\n",
            "Processing column: Clinical Response, Evaluated Through Imaging - {1=complete response on imaging, 2=not complete response, 3=imaging to assess treatment response is unavailable, NA=no neoadjuvant therapy or not enough information to assess neoadjuvant therapy status}\n",
            "  Processing as numeric\n",
            "  Filled missing values with median: 2.0\n",
            "  Standardized numeric column\n",
            "Processing column: Pathologic Response to Neoadjuvant Therapy - {1=complete response, 2=not complete response, 3=DCIS only remaining, 4=LCIS only remaining, 5=treatment response assessment unavailable, NA=no neoadjuvant therapy or not enough information to assess neoadjuvant therapy status}\n",
            "  Processing as numeric\n",
            "  Filled missing values with median: 2.0\n",
            "  Standardized numeric column\n",
            "Processing column: Days to local recurrence (from the date of diagnosis)\n",
            "  Processing as categorical\n",
            "  Encoded 17 unique values\n",
            "Processing column: Days to distant recurrence(from the date of diagnosis)\n",
            "  Processing as categorical\n",
            "  Encoded 73 unique values\n",
            "Processing column: Days to death (from the date of diagnosis)\n",
            "  Processing as categorical\n",
            "  Encoded 63 unique values\n",
            "Processing column: Days to last local recurrence free assessment (from the date of diagnosis)\n",
            "  Processing as categorical\n",
            "  Encoded 728 unique values\n",
            "Processing column: Days to last distant recurrence free assemssment(from the date of diagnosis)\n",
            "  Processing as categorical\n",
            "  Encoded 723 unique values\n",
            "Processing column: Age at last contact in EMR f/u(days)(from the date of diagnosis) ,last time patient known to be alive, unless age of death is reported(in such case the age of death\n",
            "Error processing column Age at last contact in EMR f/u(days)(from the date of diagnosis) ,last time patient known to be alive, unless age of death is reported(in such case the age of death: 'DataFrame' object has no attribute 'dtype'\n",
            "  Trying alternative encoding approach\n",
            "  Alternative approach failed: y should be a 1d array, got an array of shape (922, 2) instead.\n",
            "  Setting column to 0\n",
            "Processing column: Age at last contact in EMR f/u(days)(from the date of diagnosis) ,last time patient known to be alive, unless age of death is reported(in such case the age of death\n",
            "Error processing column Age at last contact in EMR f/u(days)(from the date of diagnosis) ,last time patient known to be alive, unless age of death is reported(in such case the age of death: 'DataFrame' object has no attribute 'dtype'\n",
            "  Trying alternative encoding approach\n",
            "  Alternative approach failed: y should be a 1d array, got an array of shape (922, 2) instead.\n",
            "  Setting column to 0\n",
            "Processing column: Age at mammo (days)\n",
            "  Processing as categorical\n",
            "  Encoded 55 unique values\n",
            "Processing column: Breast Density - {0=heterogeneous, 1=scattered, 2=minimal, 3=moderate, 4=extremely, 5=predominantly fatty}\n",
            "  Processing as categorical\n",
            "  Encoded 7 unique values\n",
            "Processing column: Shape - {0=oval, 1=irregular, 2=lobular, 3=reniform, 4=stellate}\n",
            "  Processing as categorical\n",
            "  Encoded 5 unique values\n",
            "Processing column: Margin - {0=obscured, 2=spiculated, 3=indistinct/ill-defined, 4=circumscribed}\n",
            "  Processing as categorical\n",
            "  Encoded 6 unique values\n",
            "Processing column: Architectural distortion\n",
            "  Processing as categorical\n",
            "  Encoded 3 unique values\n",
            "Processing column: Mass Density\n",
            "  Processing as categorical\n",
            "  Encoded 4 unique values\n",
            "Processing column: Calcifications - {0=pleomorphic, 1=yes, 2=heterogeneous 3=microcalc 4=linear, 5=clustered, 6=amorphous, 7=branching}\n",
            "  Processing as categorical\n",
            "  Encoded 16 unique values\n",
            "Processing column: Tumor Size (cm)\n",
            "Error processing column Tumor Size (cm): 'DataFrame' object has no attribute 'dtype'\n",
            "  Trying alternative encoding approach\n",
            "  Alternative approach failed: y should be a 1d array, got an array of shape (922, 2) instead.\n",
            "  Setting column to 0\n",
            "Processing column: Shape - {0=oval, 1=irregular, 2=lobular}\n",
            "  Processing as categorical\n",
            "  Encoded 10 unique values\n",
            "Processing column: Margin - {0=obscured, 1=ill-defined, 2=spiculated, 3=indistinct, 4=circumscribed, 5=microlobulated, 6=angular, 7=irregular}\n",
            "  Processing as categorical\n",
            "  Encoded 14 unique values\n",
            "Processing column: Tumor Size (cm)\n",
            "Error processing column Tumor Size (cm): 'DataFrame' object has no attribute 'dtype'\n",
            "  Trying alternative encoding approach\n",
            "  Alternative approach failed: y should be a 1d array, got an array of shape (922, 2) instead.\n",
            "  Setting column to 0\n",
            "Processing column: Echogenicity - {0=hypoechoic, 1=hyperechoic, 2=isoechoic, 3=anechoic, 4=irregular, 5=mixed, 6=boundary}\n",
            "  Processing as categorical\n",
            "  Encoded 18 unique values\n",
            "Processing column: Solid\n",
            "  Processing as categorical\n",
            "  Encoded 3 unique values\n",
            "Processing column: Posterior acoustic shadowing\n",
            "  Processing as categorical\n",
            "  Encoded 6 unique values\n",
            "Processing column: Neoadjuvant Chemotherapy - {0 = no, 1 = yes}\n",
            "  Processing as numeric\n",
            "  Filled missing values with median: 0.0\n",
            "  Standardized numeric column\n",
            "Processing column: Adjuvant Chemotherapy - {0 = no, 1 = yes}\n",
            "  Processing as numeric\n",
            "  Filled missing values with median: 0.0\n",
            "  Standardized numeric column\n",
            "Processing column: Neoadjuvant Endocrine Therapy Medications - {0 = no, 1 = yes}\n",
            "  Processing as numeric\n",
            "  Filled missing values with median: 0.0\n",
            "  Standardized numeric column\n",
            "Processing column: Adjuvant Endocrine Therapy Medications - {0 = no, 1 = yes}\n",
            "  Processing as numeric\n",
            "  Filled missing values with median: 1.0\n",
            "  Standardized numeric column\n",
            "Processing column: Known Ovarian Status - {0 = no, 1 = yes}\n",
            "  Processing as numeric\n",
            "  Standardized numeric column\n",
            "Processing column: Number of Ovaries In Situ - {0 = no ovaries intact, 1 = 1 ovary intact, 2 = 2 ovaries intact, NP = not pertinent to this case}\n",
            "  Processing as categorical\n",
            "  Encoded 4 unique values\n",
            "Processing column: Therapeutic or Prophylactic Oophorectomy as part of Endocrine Therapy - {0 = no, 1 = yes, NP = not pertinent}\n",
            "  Processing as numeric\n",
            "  Standardized numeric column\n",
            "Processing column: Neoadjuvant Anti-Her2 Neu Therapy - {0 = no, 1 = yes}\n",
            "  Processing as numeric\n",
            "  Filled missing values with median: 0.0\n",
            "  Standardized numeric column\n",
            "Processing column: Adjuvant Anti-Her2 Neu Therapy - {0 = no, 1 = yes}\n",
            "  Processing as numeric\n",
            "  Filled missing values with median: 0.0\n",
            "  Standardized numeric column\n",
            "Processing column: Received Neoadjuvant Therapy or Not - {1 = yes, 2 = no, NA = not applicable}\n",
            "  Processing as numeric\n",
            "  Filled missing values with median: 2.0\n",
            "  Standardized numeric column\n",
            "Processing column: Pathologic response to Neoadjuvant therapy: Pathologic stage (T) following neoadjuvant therapy - { -1 = TX;  0 = T0;  1 = T1;  2 = T2;  3 = T3;  4 = T4;  5 = Tis (DCIS);  NA = not applicable}\n",
            "  Processing as numeric\n",
            "  Filled missing values with median: 1.0\n",
            "  Standardized numeric column\n",
            "Processing column: Pathologic response to Neoadjuvant therapy:  Pathologic stage (N) following neoadjuvant therapy - { -1 = NX;  0 = N0;  1 = N1;  2 = N2;  3 = N3; NA = not applicable}\n",
            "  Processing as numeric\n",
            "  Filled missing values with median: 0.0\n",
            "  Standardized numeric column\n",
            "Processing column: Pathologic response to Neoadjuvant therapy:  Pathologic stage (M) following neoadjuvant therapy - { -1 = MX;  0 = M0;  1 = M1;  NA = not applicable}\n",
            "  Processing as numeric\n",
            "  Filled missing values with median: -1.0\n",
            "  Standardized numeric column\n",
            "Processing column: Overall Near-complete Response:  Stricter Definition - {0 = not complete or near-complete, 1 = complete, 2 = near-complete, 3 = pathologic assessment not available, NA = not applicable}  *Strict definition of Near-complete includes the following definitions [from column QK \"Near complete response (graded measure)\"]: 2 = Near complete (pathology report noted results constituted near-complete response to NAT) 3 = No residual disease, only atypical ductal hyperplasia 4 = No invasive carcinoma, DCIS only 5 = No invasive carcinoma, LCIS only 6 = 90% reduction in tumor volume 7 = 95% reduction 18 = 99% of tumor obliterated but extensive residual DCIS\n",
            "  Processing as numeric\n",
            "  Filled missing values with median: 0.0\n",
            "  Standardized numeric column\n",
            "Processing column: Overall Near-complete Response:  Looser Definition - {0 = not complete or near-complete, 1 = complete, 2 = near-complete, 3 = pathologic assessment not available, NA = not applicable}  *Loose definition of Near-complete includes the following definitions [from column QK \"Near complete response (graded measure)\"]: 2 = Near complete (pathology report noted results constituted near-complete response to NAT) 3 = No residual disease, only atypical ductal hyperplasia 4 = No invasive carcinoma, DCIS only 5 = No invasive carcinoma, LCIS only 6 = 90% reduction in tumor volume 7 = 95% reduction 8 = Near complete but DCIS 9 = 90% reduction with DCIS present 10 = No invasive disease but lymph nodes positive 11 = No residual disease, but positive LNs and DCIS 12 = Near complete response noted on path report, but positive LNs 13 = 98% reduction with positive LNs 14 = 95% fibrosis but positive lymph nodes 15 = 90% reduction with positive LNs 16 = > 95% reduction with only mucinous pools remaining 17 = 1mm residual invasive but extensive DCIS 18 = 99% of tumor obliterated but extensive residual DCIS\n",
            "  Processing as numeric\n",
            "  Filled missing values with median: 0.0\n",
            "  Standardized numeric column\n",
            "Processing column: Near-complete Response (Graded Measure) - {0 = Not complete or near-complete;  1 = Complete;  2 = Near complete (pathology report noted results constituted near-complete response to NAT);  3 = No residual disease, only atypical ductal hyperplasia;  4 = No invasive carcinoma, DCIS only;  5 = No invasive carcinoma, LCIS only;  6 = 90% reduction in tumor volume;  7 = 95% reduction;  8 = Near complete but DCIS;  9 = 90% reduction with DCIS present;  10 = No invasive disease but lymph nodes positive;  11 = No residual disease, but positive LNs and DCIS;  12 = Near complete response noted on path report, but positive LNs;  13 = 98% reduction with positive LNs;  14 = 95% fibrosis but positive lymph nodes;  15 = 90% reduction with positive LNs;  16 = > 95% reduction with only mucinous pools remaining;  17 = 1mm residual invasive but extensive DCIS;  18 = 99% of tumor obliterated but extensive residual DCIS;  19 = pathologic assessment not available; NA = not applicable} 0 = Not complete or near-complete 1 = Complete 2 = Near complete (pathology report noted results constituted near-complete response to NAT) 3 = No residual disease, only atypical ductal hyperplasia 4 = No invasive carcinoma, DCIS only 5 = No invasive carcinoma, LCIS only 6 = 90% reduction in tumor volume 7 = 95% reduction 8 = Near complete but DCIS 9 = 90% reduction with DCIS present 10 = No invasive disease but lymph nodes positive 11 = No residual disease, but positive LNs and DCIS 12 = Near complete response noted on path report, but positive LNs 13 = 98% reduction with positive LNs 14 = 95% fibrosis but positive lymph nodes 15 = 90% reduction with positive LNs 16 = > 95% reduction with only mucinous pools remaining 17 = 1mm residual invasive but extensive DCIS 18 = 99% of tumor obliterated but extensive residual DCIS 19 = pathologic assessment not available NA = not applicable\n",
            "  Processing as numeric\n",
            "  Filled missing values with median: 0.0\n",
            "  Standardized numeric column\n",
            "Restored target column: Recurrence event(s) - {0 = no, 1 = yes}\n",
            "Filling NaN values in 1 columns\n",
            "Final encoded dataframe shape: (922, 98)\n",
            "Encoded data shape: (922, 98)\n"
          ]
        }
      ]
    },
    {
      "cell_type": "markdown",
      "source": [
        "## *Data Spliitting and Reshaping*"
      ],
      "metadata": {
        "id": "eGfMLPPDdlru"
      }
    },
    {
      "cell_type": "markdown",
      "source": [
        "### utilities"
      ],
      "metadata": {
        "id": "8HEbY35u1ifD"
      }
    },
    {
      "cell_type": "code",
      "source": [],
      "metadata": {
        "id": "Tutwigmg1mFt"
      },
      "execution_count": 17,
      "outputs": []
    },
    {
      "cell_type": "markdown",
      "source": [
        "### scripts"
      ],
      "metadata": {
        "id": "jqKEyyZw1j11"
      }
    },
    {
      "cell_type": "code",
      "source": [
        "# Split the data into features and target\n",
        "X = encoded_df.drop(columns=[target_col]) if target_col in encoded_df.columns else encoded_df\n",
        "y = encoded_df[target_col] if target_col in encoded_df.columns else None\n",
        "\n",
        "# Print info about target distribution\n",
        "if y is not None:\n",
        "    print(f\"Target distribution:\\n{y.value_counts()}\")\n",
        "else:\n",
        "    print(\"Warning: Target column not found in encoded dataframe!\")\n",
        "\n",
        "# Split data into train, validation, and test sets\n",
        "X_train, X_temp, y_train, y_temp = train_test_split(X, y, test_size=0.30, random_state=42)\n",
        "X_val, X_test, y_val, y_test = train_test_split(X_temp, y_temp, test_size=0.50, random_state=42)\n",
        "\n",
        "print(\"Training set size:\", X_train.shape, y_train.shape)\n",
        "print(\"Validation set size:\", X_val.shape, y_val.shape)\n",
        "print(\"Test set size:\", X_test.shape, y_test.shape)\n",
        "\n",
        "# Reshape data for RNN (sequence data)\n",
        "# RNNs expect input of shape (batch_size, time_steps, features)\n",
        "X_train_seq = np.expand_dims(X_train.values, axis=1)  # shape: (samples, 1, features)\n",
        "X_val_seq = np.expand_dims(X_val.values, axis=1)\n",
        "X_test_seq = np.expand_dims(X_test.values, axis=1)\n",
        "\n",
        "\n",
        "# Check for NaN values using np.isnan for NumPy arrays\n",
        "if np.isnan(X_test_seq).any():\n",
        "    print(\"Warning: NaN values found in test data! Filling with 0...\")\n",
        "    X_test_seq = np.nan_to_num(X_test_seq, nan=0.0)\n",
        "\n",
        "X_train_seq = np.nan_to_num(X_train_seq, nan=0.0)\n",
        "X_val_seq = np.nan_to_num(X_val_seq, nan=0.0)\n",
        "\n",
        "print(\"Sequence shapes:\")\n",
        "print(\"X_train_seq:\", X_train_seq.shape)\n",
        "print(\"X_val_seq:\", X_val_seq.shape)\n",
        "print(\"X_test_seq:\", X_test_seq.shape)"
      ],
      "metadata": {
        "colab": {
          "base_uri": "https://localhost:8080/"
        },
        "id": "hNL_3JdqbRR4",
        "outputId": "0bc7d0a5-d906-42d1-e333-deddd4d5da25"
      },
      "execution_count": 18,
      "outputs": [
        {
          "output_type": "stream",
          "name": "stdout",
          "text": [
            "Target distribution:\n",
            "Recurrence event(s) - {0 = no, 1 = yes}\n",
            "0.0    835\n",
            "1.0     87\n",
            "Name: count, dtype: int64\n",
            "Training set size: (645, 97) (645,)\n",
            "Validation set size: (138, 97) (138,)\n",
            "Test set size: (139, 97) (139,)\n",
            "Sequence shapes:\n",
            "X_train_seq: (645, 1, 97)\n",
            "X_val_seq: (138, 1, 97)\n",
            "X_test_seq: (139, 1, 97)\n"
          ]
        }
      ]
    },
    {
      "cell_type": "markdown",
      "source": [
        "# **RNN Model**"
      ],
      "metadata": {
        "id": "4kXymPIuyRHe"
      }
    },
    {
      "cell_type": "markdown",
      "source": [
        "## *Model Building*"
      ],
      "metadata": {
        "id": "iyIn2j1lducS"
      }
    },
    {
      "cell_type": "markdown",
      "source": [
        "### utilities"
      ],
      "metadata": {
        "id": "dEccHIv91x6Z"
      }
    },
    {
      "cell_type": "code",
      "source": [
        "def build_advanced_rnn_model(input_shape, rnn_type='LSTM', units=64,\n",
        "                            bidirectional=True, attention=False,\n",
        "                            dropout_rate=0.3, l1_reg=0.0001, l2_reg=0.0001):\n",
        "    \"\"\"\n",
        "    Build an advanced RNN model with various architectural improvements:\n",
        "    - Bidirectional RNN layers\n",
        "    - Batch normalization\n",
        "    - Regularization (dropout, L1, L2)\n",
        "\n",
        "    Parameters:\n",
        "    -----------\n",
        "    input_shape : tuple\n",
        "        Shape of input data (time_steps, features)\n",
        "    rnn_type : str, default='LSTM'\n",
        "        Type of RNN layer ('LSTM' or 'GRU')\n",
        "    units : int, default=64\n",
        "        Number of RNN units\n",
        "    bidirectional : bool, default=True\n",
        "        Whether to use bidirectional RNNs\n",
        "    attention : bool, default=False\n",
        "        Whether to add an attention mechanism (simplified)\n",
        "    dropout_rate : float, default=0.3\n",
        "        Dropout rate for regularization\n",
        "    l1_reg : float, default=0.0001\n",
        "        L1 regularization strength\n",
        "    l2_reg : float, default=0.0001\n",
        "        L2 regularization strength\n",
        "\n",
        "    Returns:\n",
        "    --------\n",
        "    keras.Model\n",
        "        Compiled RNN model\n",
        "    \"\"\"\n",
        "    # Simple version for simpler architectural choices\n",
        "    if not bidirectional:\n",
        "        model = Sequential()\n",
        "\n",
        "        # Use specified RNN type\n",
        "        if rnn_type == 'LSTM':\n",
        "            model.add(LSTM(units, input_shape=input_shape,\n",
        "                          kernel_regularizer=l1_l2(l1=l1_reg, l2=l2_reg),\n",
        "                          recurrent_regularizer=l1_l2(l1=l1_reg, l2=l2_reg),\n",
        "                          return_sequences=False))\n",
        "        elif rnn_type == 'GRU':\n",
        "            model.add(GRU(units, input_shape=input_shape,\n",
        "                         kernel_regularizer=l1_l2(l1=l1_reg, l2=l2_reg),\n",
        "                         recurrent_regularizer=l1_l2(l1=l1_reg, l2=l2_reg),\n",
        "                         return_sequences=False))\n",
        "        else:\n",
        "            raise ValueError(f\"Unknown RNN type: {rnn_type}\")\n",
        "\n",
        "        model.add(BatchNormalization())\n",
        "        model.add(Dropout(dropout_rate))\n",
        "        model.add(Dense(32, activation='relu', kernel_regularizer=l1_l2(l1=l1_reg, l2=l2_reg)))\n",
        "        model.add(BatchNormalization())\n",
        "        model.add(Dropout(dropout_rate))\n",
        "        model.add(Dense(1, activation='sigmoid'))\n",
        "\n",
        "    # More complex model with bidirectional RNNs\n",
        "    else:\n",
        "        # Create functional API model for more flexibility\n",
        "        inputs = Input(shape=input_shape)\n",
        "\n",
        "        # Configure RNN layer based on parameters\n",
        "        if rnn_type == 'LSTM':\n",
        "            rnn_layer = LSTM(units,\n",
        "                            kernel_regularizer=l1_l2(l1=l1_reg, l2=l2_reg),\n",
        "                            recurrent_regularizer=l1_l2(l1=l1_reg, l2=l2_reg),\n",
        "                            return_sequences=False)  # No need for sequences in this implementation\n",
        "        elif rnn_type == 'GRU':\n",
        "            rnn_layer = GRU(units,\n",
        "                           kernel_regularizer=l1_l2(l1=l1_reg, l2=l2_reg),\n",
        "                           recurrent_regularizer=l1_l2(l1=l1_reg, l2=l2_reg),\n",
        "                           return_sequences=False)  # No need for sequences in this implementation\n",
        "        else:\n",
        "            raise ValueError(f\"Unknown RNN type: {rnn_type}\")\n",
        "\n",
        "        # Add bidirectional wrapper\n",
        "        rnn_output = Bidirectional(rnn_layer)(inputs)\n",
        "\n",
        "        # Add dense layers with regularization\n",
        "        x = BatchNormalization()(rnn_output)\n",
        "        x = Dropout(dropout_rate)(x)\n",
        "        x = Dense(32, activation='relu', kernel_regularizer=l1_l2(l1=l1_reg, l2=l2_reg))(x)\n",
        "        x = BatchNormalization()(x)\n",
        "        x = Dropout(dropout_rate)(x)\n",
        "        outputs = Dense(1, activation='sigmoid')(x)\n",
        "\n",
        "        model = Model(inputs=inputs, outputs=outputs)\n",
        "\n",
        "    # Compile model\n",
        "    model.compile(\n",
        "        optimizer=Adam(learning_rate=0.001),\n",
        "        loss='binary_crossentropy',\n",
        "        metrics=['accuracy', tf.keras.metrics.AUC(), tf.keras.metrics.Precision(), tf.keras.metrics.Recall()]\n",
        "    )\n",
        "\n",
        "    return model"
      ],
      "metadata": {
        "id": "1tS-F_e110-u"
      },
      "execution_count": 19,
      "outputs": []
    },
    {
      "cell_type": "markdown",
      "source": [
        "### scripts"
      ],
      "metadata": {
        "id": "m590WBVs1yr3"
      }
    },
    {
      "cell_type": "code",
      "source": [
        "# Build the advanced RNN model\n",
        "input_shape = (X_train_seq.shape[1], X_train_seq.shape[2])  # (time_steps, features)\n",
        "advanced_model = build_advanced_rnn_model(\n",
        "    input_shape=input_shape,\n",
        "    rnn_type='LSTM',       # 'LSTM' or 'GRU'\n",
        "    units=128,             # Number of RNN units\n",
        "    bidirectional=True,    # Use bidirectional RNN\n",
        "    attention=False,       # Attention mechanism not needed for this data\n",
        "    dropout_rate=0.3,      # Dropout rate for regularization\n",
        "    l1_reg=0.0001,         # L1 regularization strength\n",
        "    l2_reg=0.0001          # L2 regularization strength\n",
        ")"
      ],
      "metadata": {
        "id": "osJrHsBW11gq"
      },
      "execution_count": 20,
      "outputs": []
    },
    {
      "cell_type": "markdown",
      "source": [
        "## *Model Training with Callbacks*\n"
      ],
      "metadata": {
        "id": "-lXUsuB3eaf3"
      }
    },
    {
      "cell_type": "markdown",
      "source": [
        "### utilities"
      ],
      "metadata": {
        "id": "Ez4KTLkV13ah"
      }
    },
    {
      "cell_type": "code",
      "source": [
        "def train_with_advanced_callbacks(model, X_train, y_train, X_val, y_val,\n",
        "                                 batch_size=32, epochs=100,\n",
        "                                 early_stopping_patience=10,\n",
        "                                 reduce_lr_patience=5,\n",
        "                                 model_checkpoint_path='best_model.h5'):\n",
        "    \"\"\"\n",
        "    Train model with advanced callbacks for better performance\n",
        "\n",
        "    Parameters:\n",
        "    -----------\n",
        "    model : keras.Model\n",
        "        The compiled model to train\n",
        "    X_train, y_train : array-like\n",
        "        Training data and labels\n",
        "    X_val, y_val : array-like\n",
        "        Validation data and labels\n",
        "    batch_size : int, default=32\n",
        "        Batch size for training\n",
        "    epochs : int, default=100\n",
        "        Maximum number of epochs\n",
        "    early_stopping_patience : int, default=10\n",
        "        Patience for early stopping\n",
        "    reduce_lr_patience : int, default=5\n",
        "        Patience for learning rate reduction\n",
        "    model_checkpoint_path : str, default='best_model.h5'\n",
        "        Path to save the best model weights\n",
        "\n",
        "    Returns:\n",
        "    --------\n",
        "    history : dict\n",
        "        Training history\n",
        "    \"\"\"\n",
        "    # Define callbacks\n",
        "    callbacks = [\n",
        "        # Early stopping to prevent overfitting\n",
        "        EarlyStopping(\n",
        "            monitor='val_loss',\n",
        "            patience=early_stopping_patience,\n",
        "            restore_best_weights=True,\n",
        "            verbose=1\n",
        "        ),\n",
        "        # Reduce learning rate when validation loss plateaus\n",
        "        ReduceLROnPlateau(\n",
        "            monitor='val_loss',\n",
        "            factor=0.5,\n",
        "            patience=reduce_lr_patience,\n",
        "            min_lr=1e-6,\n",
        "            verbose=1\n",
        "        ),\n",
        "        # Save the best model based on validation loss\n",
        "        ModelCheckpoint(\n",
        "            filepath=model_checkpoint_path,\n",
        "            monitor='val_loss',\n",
        "            save_best_only=True,\n",
        "            verbose=1\n",
        "        )\n",
        "    ]\n",
        "\n",
        "    # Train the model\n",
        "    history = model.fit(\n",
        "        X_train, y_train,\n",
        "        validation_data=(X_val, y_val),\n",
        "        epochs=epochs,\n",
        "        batch_size=batch_size,\n",
        "        callbacks=callbacks,\n",
        "        verbose=1\n",
        "    )\n",
        "\n",
        "    return history"
      ],
      "metadata": {
        "id": "RHKFuH1neeUO"
      },
      "execution_count": 21,
      "outputs": []
    },
    {
      "cell_type": "markdown",
      "source": [
        "### scripts"
      ],
      "metadata": {
        "id": "Fj-ZCiPe15i0"
      }
    },
    {
      "cell_type": "code",
      "source": [
        "# Train the model with advanced callbacks\n",
        "history = train_with_advanced_callbacks(\n",
        "    model=advanced_model,\n",
        "    X_train=X_train_seq,\n",
        "    y_train=y_train,\n",
        "    X_val=X_val_seq,\n",
        "    y_val=y_val,\n",
        "    batch_size=32,\n",
        "    epochs=100,\n",
        "    early_stopping_patience=10,\n",
        "    reduce_lr_patience=5\n",
        ")"
      ],
      "metadata": {
        "colab": {
          "base_uri": "https://localhost:8080/"
        },
        "id": "wAzHvS3UfZmN",
        "outputId": "d650ee04-d08c-4064-c3eb-e62cc1e5c1d8",
        "collapsed": true
      },
      "execution_count": 22,
      "outputs": [
        {
          "output_type": "stream",
          "name": "stdout",
          "text": [
            "Epoch 1/100\n",
            "\u001b[1m19/21\u001b[0m \u001b[32m━━━━━━━━━━━━━━━━━━\u001b[0m\u001b[37m━━\u001b[0m \u001b[1m0s\u001b[0m 9ms/step - accuracy: 0.4964 - auc_1: 0.5870 - loss: 1.9171 - precision_1: 0.1110 - recall_1: 0.6560 \n",
            "Epoch 1: val_loss improved from inf to 1.19122, saving model to best_model.h5\n"
          ]
        },
        {
          "output_type": "stream",
          "name": "stderr",
          "text": [
            "WARNING:absl:You are saving your model as an HDF5 file via `model.save()` or `keras.saving.save_model(model)`. This file format is considered legacy. We recommend using instead the native Keras format, e.g. `model.save('my_model.keras')` or `keras.saving.save_model(model, 'my_model.keras')`. \n"
          ]
        },
        {
          "output_type": "stream",
          "name": "stdout",
          "text": [
            "\b\b\b\b\b\b\b\b\b\b\b\b\b\b\b\b\b\b\b\b\b\b\b\b\b\b\b\b\b\b\b\b\b\b\b\b\b\b\b\b\b\b\b\b\b\b\b\b\b\b\b\b\b\b\b\b\b\b\b\b\b\b\b\b\b\b\b\b\b\b\b\b\b\b\b\b\b\b\b\b\b\b\b\b\b\b\b\b\b\b\b\b\b\b\b\b\b\b\b\b\b\b\b\b\b\b\b\b\b\b\b\b\b\b\b\b\b\b\b\b\b\b\b\b\b\b\b\b\b\r\u001b[1m21/21\u001b[0m \u001b[32m━━━━━━━━━━━━━━━━━━━━\u001b[0m\u001b[37m\u001b[0m \u001b[1m5s\u001b[0m 54ms/step - accuracy: 0.4978 - auc_1: 0.5793 - loss: 1.8997 - precision_1: 0.1084 - recall_1: 0.6405 - val_accuracy: 0.8768 - val_auc_1: 0.5469 - val_loss: 1.1912 - val_precision_1: 0.0000e+00 - val_recall_1: 0.0000e+00 - learning_rate: 0.0010\n",
            "Epoch 2/100\n",
            "\u001b[1m19/21\u001b[0m \u001b[32m━━━━━━━━━━━━━━━━━━\u001b[0m\u001b[37m━━\u001b[0m \u001b[1m0s\u001b[0m 9ms/step - accuracy: 0.5461 - auc_1: 0.5850 - loss: 1.4536 - precision_1: 0.0992 - recall_1: 0.5786\n",
            "Epoch 2: val_loss improved from 1.19122 to 0.96528, saving model to best_model.h5\n"
          ]
        },
        {
          "output_type": "stream",
          "name": "stderr",
          "text": [
            "WARNING:absl:You are saving your model as an HDF5 file via `model.save()` or `keras.saving.save_model(model)`. This file format is considered legacy. We recommend using instead the native Keras format, e.g. `model.save('my_model.keras')` or `keras.saving.save_model(model, 'my_model.keras')`. \n"
          ]
        },
        {
          "output_type": "stream",
          "name": "stdout",
          "text": [
            "\b\b\b\b\b\b\b\b\b\b\b\b\b\b\b\b\b\b\b\b\b\b\b\b\b\b\b\b\b\b\b\b\b\b\b\b\b\b\b\b\b\b\b\b\b\b\b\b\b\b\b\b\b\b\b\b\b\b\b\b\b\b\b\b\b\b\b\b\b\b\b\b\b\b\b\b\b\b\b\b\b\b\b\b\b\b\b\b\b\b\b\b\b\b\b\b\b\b\b\b\b\b\b\b\b\b\b\b\b\b\b\b\b\b\b\b\b\b\b\b\b\b\b\b\b\b\b\b\b\r\u001b[1m21/21\u001b[0m \u001b[32m━━━━━━━━━━━━━━━━━━━━\u001b[0m\u001b[37m\u001b[0m \u001b[1m0s\u001b[0m 18ms/step - accuracy: 0.5500 - auc_1: 0.5773 - loss: 1.4420 - precision_1: 0.0990 - recall_1: 0.5663 - val_accuracy: 0.8768 - val_auc_1: 0.5763 - val_loss: 0.9653 - val_precision_1: 0.5000 - val_recall_1: 0.0588 - learning_rate: 0.0010\n",
            "Epoch 3/100\n",
            "\u001b[1m18/21\u001b[0m \u001b[32m━━━━━━━━━━━━━━━━━\u001b[0m\u001b[37m━━━\u001b[0m \u001b[1m0s\u001b[0m 10ms/step - accuracy: 0.6361 - auc_1: 0.6311 - loss: 1.0971 - precision_1: 0.1430 - recall_1: 0.5475\n",
            "Epoch 3: val_loss improved from 0.96528 to 0.82763, saving model to best_model.h5\n"
          ]
        },
        {
          "output_type": "stream",
          "name": "stderr",
          "text": [
            "WARNING:absl:You are saving your model as an HDF5 file via `model.save()` or `keras.saving.save_model(model)`. This file format is considered legacy. We recommend using instead the native Keras format, e.g. `model.save('my_model.keras')` or `keras.saving.save_model(model, 'my_model.keras')`. \n"
          ]
        },
        {
          "output_type": "stream",
          "name": "stdout",
          "text": [
            "\b\b\b\b\b\b\b\b\b\b\b\b\b\b\b\b\b\b\b\b\b\b\b\b\b\b\b\b\b\b\b\b\b\b\b\b\b\b\b\b\b\b\b\b\b\b\b\b\b\b\b\b\b\b\b\b\b\b\b\b\b\b\b\b\b\b\b\b\b\b\b\b\b\b\b\b\b\b\b\b\b\b\b\b\b\b\b\b\b\b\b\b\b\b\b\b\b\b\b\b\b\b\b\b\b\b\b\b\b\b\b\b\b\b\b\b\b\b\b\b\b\b\b\b\b\b\b\b\b\b\r\u001b[1m21/21\u001b[0m \u001b[32m━━━━━━━━━━━━━━━━━━━━\u001b[0m\u001b[37m\u001b[0m \u001b[1m0s\u001b[0m 18ms/step - accuracy: 0.6352 - auc_1: 0.6287 - loss: 1.0914 - precision_1: 0.1389 - recall_1: 0.5434 - val_accuracy: 0.8551 - val_auc_1: 0.5688 - val_loss: 0.8276 - val_precision_1: 0.2000 - val_recall_1: 0.0588 - learning_rate: 0.0010\n",
            "Epoch 4/100\n",
            "\u001b[1m19/21\u001b[0m \u001b[32m━━━━━━━━━━━━━━━━━━\u001b[0m\u001b[37m━━\u001b[0m \u001b[1m0s\u001b[0m 10ms/step - accuracy: 0.6680 - auc_1: 0.5901 - loss: 0.9402 - precision_1: 0.1101 - recall_1: 0.5023\n",
            "Epoch 4: val_loss improved from 0.82763 to 0.72995, saving model to best_model.h5\n"
          ]
        },
        {
          "output_type": "stream",
          "name": "stderr",
          "text": [
            "WARNING:absl:You are saving your model as an HDF5 file via `model.save()` or `keras.saving.save_model(model)`. This file format is considered legacy. We recommend using instead the native Keras format, e.g. `model.save('my_model.keras')` or `keras.saving.save_model(model, 'my_model.keras')`. \n"
          ]
        },
        {
          "output_type": "stream",
          "name": "stdout",
          "text": [
            "\b\b\b\b\b\b\b\b\b\b\b\b\b\b\b\b\b\b\b\b\b\b\b\b\b\b\b\b\b\b\b\b\b\b\b\b\b\b\b\b\b\b\b\b\b\b\b\b\b\b\b\b\b\b\b\b\b\b\b\b\b\b\b\b\b\b\b\b\b\b\b\b\b\b\b\b\b\b\b\b\b\b\b\b\b\b\b\b\b\b\b\b\b\b\b\b\b\b\b\b\b\b\b\b\b\b\b\b\b\b\b\b\b\b\b\b\b\b\b\b\b\b\b\b\b\b\b\b\b\b\r\u001b[1m21/21\u001b[0m \u001b[32m━━━━━━━━━━━━━━━━━━━━\u001b[0m\u001b[37m\u001b[0m \u001b[1m0s\u001b[0m 18ms/step - accuracy: 0.6679 - auc_1: 0.5919 - loss: 0.9368 - precision_1: 0.1118 - recall_1: 0.4987 - val_accuracy: 0.8768 - val_auc_1: 0.5518 - val_loss: 0.7300 - val_precision_1: 0.5000 - val_recall_1: 0.0588 - learning_rate: 0.0010\n",
            "Epoch 5/100\n",
            "\u001b[1m18/21\u001b[0m \u001b[32m━━━━━━━━━━━━━━━━━\u001b[0m\u001b[37m━━━\u001b[0m \u001b[1m0s\u001b[0m 10ms/step - accuracy: 0.6906 - auc_1: 0.6934 - loss: 0.8022 - precision_1: 0.1251 - recall_1: 0.4599\n",
            "Epoch 5: val_loss improved from 0.72995 to 0.69105, saving model to best_model.h5\n"
          ]
        },
        {
          "output_type": "stream",
          "name": "stderr",
          "text": [
            "WARNING:absl:You are saving your model as an HDF5 file via `model.save()` or `keras.saving.save_model(model)`. This file format is considered legacy. We recommend using instead the native Keras format, e.g. `model.save('my_model.keras')` or `keras.saving.save_model(model, 'my_model.keras')`. \n"
          ]
        },
        {
          "output_type": "stream",
          "name": "stdout",
          "text": [
            "\b\b\b\b\b\b\b\b\b\b\b\b\b\b\b\b\b\b\b\b\b\b\b\b\b\b\b\b\b\b\b\b\b\b\b\b\b\b\b\b\b\b\b\b\b\b\b\b\b\b\b\b\b\b\b\b\b\b\b\b\b\b\b\b\b\b\b\b\b\b\b\b\b\b\b\b\b\b\b\b\b\b\b\b\b\b\b\b\b\b\b\b\b\b\b\b\b\b\b\b\b\b\b\b\b\b\b\b\b\b\b\b\b\b\b\b\b\b\b\b\b\b\b\b\b\b\b\b\b\b\r\u001b[1m21/21\u001b[0m \u001b[32m━━━━━━━━━━━━━━━━━━━━\u001b[0m\u001b[37m\u001b[0m \u001b[1m1s\u001b[0m 17ms/step - accuracy: 0.6938 - auc_1: 0.6829 - loss: 0.7995 - precision_1: 0.1255 - recall_1: 0.4527 - val_accuracy: 0.8768 - val_auc_1: 0.5216 - val_loss: 0.6911 - val_precision_1: 0.0000e+00 - val_recall_1: 0.0000e+00 - learning_rate: 0.0010\n",
            "Epoch 6/100\n",
            "\u001b[1m19/21\u001b[0m \u001b[32m━━━━━━━━━━━━━━━━━━\u001b[0m\u001b[37m━━\u001b[0m \u001b[1m0s\u001b[0m 9ms/step - accuracy: 0.7131 - auc_1: 0.5994 - loss: 0.7789 - precision_1: 0.0798 - recall_1: 0.3289\n",
            "Epoch 6: val_loss improved from 0.69105 to 0.68096, saving model to best_model.h5\n"
          ]
        },
        {
          "output_type": "stream",
          "name": "stderr",
          "text": [
            "WARNING:absl:You are saving your model as an HDF5 file via `model.save()` or `keras.saving.save_model(model)`. This file format is considered legacy. We recommend using instead the native Keras format, e.g. `model.save('my_model.keras')` or `keras.saving.save_model(model, 'my_model.keras')`. \n"
          ]
        },
        {
          "output_type": "stream",
          "name": "stdout",
          "text": [
            "\b\b\b\b\b\b\b\b\b\b\b\b\b\b\b\b\b\b\b\b\b\b\b\b\b\b\b\b\b\b\b\b\b\b\b\b\b\b\b\b\b\b\b\b\b\b\b\b\b\b\b\b\b\b\b\b\b\b\b\b\b\b\b\b\b\b\b\b\b\b\b\b\b\b\b\b\b\b\b\b\b\b\b\b\b\b\b\b\b\b\b\b\b\b\b\b\b\b\b\b\b\b\b\b\b\b\b\b\b\b\b\b\b\b\b\b\b\b\b\b\b\b\b\b\b\b\b\b\b\r\u001b[1m21/21\u001b[0m \u001b[32m━━━━━━━━━━━━━━━━━━━━\u001b[0m\u001b[37m\u001b[0m \u001b[1m0s\u001b[0m 23ms/step - accuracy: 0.7156 - auc_1: 0.6072 - loss: 0.7732 - precision_1: 0.0875 - recall_1: 0.3386 - val_accuracy: 0.8841 - val_auc_1: 0.5537 - val_loss: 0.6810 - val_precision_1: 1.0000 - val_recall_1: 0.0588 - learning_rate: 0.0010\n",
            "Epoch 7/100\n",
            "\u001b[1m21/21\u001b[0m \u001b[32m━━━━━━━━━━━━━━━━━━━━\u001b[0m\u001b[37m\u001b[0m \u001b[1m0s\u001b[0m 14ms/step - accuracy: 0.7705 - auc_1: 0.7440 - loss: 0.6766 - precision_1: 0.2127 - recall_1: 0.5013\n",
            "Epoch 7: val_loss improved from 0.68096 to 0.64772, saving model to best_model.h5\n"
          ]
        },
        {
          "output_type": "stream",
          "name": "stderr",
          "text": [
            "WARNING:absl:You are saving your model as an HDF5 file via `model.save()` or `keras.saving.save_model(model)`. This file format is considered legacy. We recommend using instead the native Keras format, e.g. `model.save('my_model.keras')` or `keras.saving.save_model(model, 'my_model.keras')`. \n"
          ]
        },
        {
          "output_type": "stream",
          "name": "stdout",
          "text": [
            "\b\b\b\b\b\b\b\b\b\b\b\b\b\b\b\b\b\b\b\b\b\b\b\b\b\b\b\b\b\b\b\b\b\b\b\b\b\b\b\b\b\b\b\b\b\b\b\b\b\b\b\b\b\b\b\b\b\b\b\b\b\b\b\b\b\b\b\b\b\b\b\b\b\b\b\b\b\b\b\b\b\b\b\b\b\b\b\b\b\b\b\b\b\b\b\b\b\b\b\b\b\b\b\b\b\b\b\b\b\b\b\b\b\b\b\b\b\b\b\b\b\b\b\b\b\b\b\b\b\b\r\u001b[1m21/21\u001b[0m \u001b[32m━━━━━━━━━━━━━━━━━━━━\u001b[0m\u001b[37m\u001b[0m \u001b[1m1s\u001b[0m 29ms/step - accuracy: 0.7706 - auc_1: 0.7423 - loss: 0.6763 - precision_1: 0.2109 - recall_1: 0.4983 - val_accuracy: 0.8768 - val_auc_1: 0.6218 - val_loss: 0.6477 - val_precision_1: 0.0000e+00 - val_recall_1: 0.0000e+00 - learning_rate: 0.0010\n",
            "Epoch 8/100\n",
            "\u001b[1m19/21\u001b[0m \u001b[32m━━━━━━━━━━━━━━━━━━\u001b[0m\u001b[37m━━\u001b[0m \u001b[1m0s\u001b[0m 9ms/step - accuracy: 0.8283 - auc_1: 0.6948 - loss: 0.6299 - precision_1: 0.1993 - recall_1: 0.4101\n",
            "Epoch 8: val_loss improved from 0.64772 to 0.60389, saving model to best_model.h5\n"
          ]
        },
        {
          "output_type": "stream",
          "name": "stderr",
          "text": [
            "WARNING:absl:You are saving your model as an HDF5 file via `model.save()` or `keras.saving.save_model(model)`. This file format is considered legacy. We recommend using instead the native Keras format, e.g. `model.save('my_model.keras')` or `keras.saving.save_model(model, 'my_model.keras')`. \n"
          ]
        },
        {
          "output_type": "stream",
          "name": "stdout",
          "text": [
            "\b\b\b\b\b\b\b\b\b\b\b\b\b\b\b\b\b\b\b\b\b\b\b\b\b\b\b\b\b\b\b\b\b\b\b\b\b\b\b\b\b\b\b\b\b\b\b\b\b\b\b\b\b\b\b\b\b\b\b\b\b\b\b\b\b\b\b\b\b\b\b\b\b\b\b\b\b\b\b\b\b\b\b\b\b\b\b\b\b\b\b\b\b\b\b\b\b\b\b\b\b\b\b\b\b\b\b\b\b\b\b\b\b\b\b\b\b\b\b\b\b\b\b\b\b\b\b\b\b\r\u001b[1m21/21\u001b[0m \u001b[32m━━━━━━━━━━━━━━━━━━━━\u001b[0m\u001b[37m\u001b[0m \u001b[1m1s\u001b[0m 16ms/step - accuracy: 0.8289 - auc_1: 0.6885 - loss: 0.6308 - precision_1: 0.2007 - recall_1: 0.4013 - val_accuracy: 0.8768 - val_auc_1: 0.6653 - val_loss: 0.6039 - val_precision_1: 0.0000e+00 - val_recall_1: 0.0000e+00 - learning_rate: 0.0010\n",
            "Epoch 9/100\n",
            "\u001b[1m18/21\u001b[0m \u001b[32m━━━━━━━━━━━━━━━━━\u001b[0m\u001b[37m━━━\u001b[0m \u001b[1m0s\u001b[0m 10ms/step - accuracy: 0.8054 - auc_1: 0.6796 - loss: 0.6037 - precision_1: 0.1052 - recall_1: 0.1499\n",
            "Epoch 9: val_loss improved from 0.60389 to 0.57022, saving model to best_model.h5\n"
          ]
        },
        {
          "output_type": "stream",
          "name": "stderr",
          "text": [
            "WARNING:absl:You are saving your model as an HDF5 file via `model.save()` or `keras.saving.save_model(model)`. This file format is considered legacy. We recommend using instead the native Keras format, e.g. `model.save('my_model.keras')` or `keras.saving.save_model(model, 'my_model.keras')`. \n"
          ]
        },
        {
          "output_type": "stream",
          "name": "stdout",
          "text": [
            "\b\b\b\b\b\b\b\b\b\b\b\b\b\b\b\b\b\b\b\b\b\b\b\b\b\b\b\b\b\b\b\b\b\b\b\b\b\b\b\b\b\b\b\b\b\b\b\b\b\b\b\b\b\b\b\b\b\b\b\b\b\b\b\b\b\b\b\b\b\b\b\b\b\b\b\b\b\b\b\b\b\b\b\b\b\b\b\b\b\b\b\b\b\b\b\b\b\b\b\b\b\b\b\b\b\b\b\b\b\b\b\b\b\b\b\b\b\b\b\b\b\b\b\b\b\b\b\b\b\b\r\u001b[1m21/21\u001b[0m \u001b[32m━━━━━━━━━━━━━━━━━━━━\u001b[0m\u001b[37m\u001b[0m \u001b[1m1s\u001b[0m 17ms/step - accuracy: 0.8097 - auc_1: 0.6797 - loss: 0.6009 - precision_1: 0.1173 - recall_1: 0.1703 - val_accuracy: 0.8768 - val_auc_1: 0.6624 - val_loss: 0.5702 - val_precision_1: 0.0000e+00 - val_recall_1: 0.0000e+00 - learning_rate: 0.0010\n",
            "Epoch 10/100\n",
            "\u001b[1m19/21\u001b[0m \u001b[32m━━━━━━━━━━━━━━━━━━\u001b[0m\u001b[37m━━\u001b[0m \u001b[1m0s\u001b[0m 9ms/step - accuracy: 0.8686 - auc_1: 0.6196 - loss: 0.5645 - precision_1: 0.2176 - recall_1: 0.3626\n",
            "Epoch 10: val_loss improved from 0.57022 to 0.54449, saving model to best_model.h5\n"
          ]
        },
        {
          "output_type": "stream",
          "name": "stderr",
          "text": [
            "WARNING:absl:You are saving your model as an HDF5 file via `model.save()` or `keras.saving.save_model(model)`. This file format is considered legacy. We recommend using instead the native Keras format, e.g. `model.save('my_model.keras')` or `keras.saving.save_model(model, 'my_model.keras')`. \n"
          ]
        },
        {
          "output_type": "stream",
          "name": "stdout",
          "text": [
            "\b\b\b\b\b\b\b\b\b\b\b\b\b\b\b\b\b\b\b\b\b\b\b\b\b\b\b\b\b\b\b\b\b\b\b\b\b\b\b\b\b\b\b\b\b\b\b\b\b\b\b\b\b\b\b\b\b\b\b\b\b\b\b\b\b\b\b\b\b\b\b\b\b\b\b\b\b\b\b\b\b\b\b\b\b\b\b\b\b\b\b\b\b\b\b\b\b\b\b\b\b\b\b\b\b\b\b\b\b\b\b\b\b\b\b\b\b\b\b\b\b\b\b\b\b\b\b\b\b\r\u001b[1m21/21\u001b[0m \u001b[32m━━━━━━━━━━━━━━━━━━━━\u001b[0m\u001b[37m\u001b[0m \u001b[1m0s\u001b[0m 17ms/step - accuracy: 0.8660 - auc_1: 0.6277 - loss: 0.5661 - precision_1: 0.2194 - recall_1: 0.3578 - val_accuracy: 0.8768 - val_auc_1: 0.6410 - val_loss: 0.5445 - val_precision_1: 0.0000e+00 - val_recall_1: 0.0000e+00 - learning_rate: 0.0010\n",
            "Epoch 11/100\n",
            "\u001b[1m19/21\u001b[0m \u001b[32m━━━━━━━━━━━━━━━━━━\u001b[0m\u001b[37m━━\u001b[0m \u001b[1m0s\u001b[0m 9ms/step - accuracy: 0.8689 - auc_1: 0.7392 - loss: 0.5295 - precision_1: 0.3518 - recall_1: 0.3892\n",
            "Epoch 11: val_loss improved from 0.54449 to 0.53728, saving model to best_model.h5\n"
          ]
        },
        {
          "output_type": "stream",
          "name": "stderr",
          "text": [
            "WARNING:absl:You are saving your model as an HDF5 file via `model.save()` or `keras.saving.save_model(model)`. This file format is considered legacy. We recommend using instead the native Keras format, e.g. `model.save('my_model.keras')` or `keras.saving.save_model(model, 'my_model.keras')`. \n"
          ]
        },
        {
          "output_type": "stream",
          "name": "stdout",
          "text": [
            "\b\b\b\b\b\b\b\b\b\b\b\b\b\b\b\b\b\b\b\b\b\b\b\b\b\b\b\b\b\b\b\b\b\b\b\b\b\b\b\b\b\b\b\b\b\b\b\b\b\b\b\b\b\b\b\b\b\b\b\b\b\b\b\b\b\b\b\b\b\b\b\b\b\b\b\b\b\b\b\b\b\b\b\b\b\b\b\b\b\b\b\b\b\b\b\b\b\b\b\b\b\b\b\b\b\b\b\b\b\b\b\b\b\b\b\b\b\b\b\b\b\b\b\b\b\b\b\b\b\r\u001b[1m21/21\u001b[0m \u001b[32m━━━━━━━━━━━━━━━━━━━━\u001b[0m\u001b[37m\u001b[0m \u001b[1m0s\u001b[0m 16ms/step - accuracy: 0.8673 - auc_1: 0.7364 - loss: 0.5295 - precision_1: 0.3394 - recall_1: 0.3857 - val_accuracy: 0.8768 - val_auc_1: 0.6454 - val_loss: 0.5373 - val_precision_1: 0.0000e+00 - val_recall_1: 0.0000e+00 - learning_rate: 0.0010\n",
            "Epoch 12/100\n",
            "\u001b[1m17/21\u001b[0m \u001b[32m━━━━━━━━━━━━━━━━\u001b[0m\u001b[37m━━━━\u001b[0m \u001b[1m0s\u001b[0m 10ms/step - accuracy: 0.8567 - auc_1: 0.7777 - loss: 0.5088 - precision_1: 0.3173 - recall_1: 0.3366\n",
            "Epoch 12: val_loss improved from 0.53728 to 0.51965, saving model to best_model.h5\n"
          ]
        },
        {
          "output_type": "stream",
          "name": "stderr",
          "text": [
            "WARNING:absl:You are saving your model as an HDF5 file via `model.save()` or `keras.saving.save_model(model)`. This file format is considered legacy. We recommend using instead the native Keras format, e.g. `model.save('my_model.keras')` or `keras.saving.save_model(model, 'my_model.keras')`. \n"
          ]
        },
        {
          "output_type": "stream",
          "name": "stdout",
          "text": [
            "\b\b\b\b\b\b\b\b\b\b\b\b\b\b\b\b\b\b\b\b\b\b\b\b\b\b\b\b\b\b\b\b\b\b\b\b\b\b\b\b\b\b\b\b\b\b\b\b\b\b\b\b\b\b\b\b\b\b\b\b\b\b\b\b\b\b\b\b\b\b\b\b\b\b\b\b\b\b\b\b\b\b\b\b\b\b\b\b\b\b\b\b\b\b\b\b\b\b\b\b\b\b\b\b\b\b\b\b\b\b\b\b\b\b\b\b\b\b\b\b\b\b\b\b\b\b\b\b\b\b\r\u001b[1m21/21\u001b[0m \u001b[32m━━━━━━━━━━━━━━━━━━━━\u001b[0m\u001b[37m\u001b[0m \u001b[1m0s\u001b[0m 17ms/step - accuracy: 0.8630 - auc_1: 0.7739 - loss: 0.5044 - precision_1: 0.3178 - recall_1: 0.3278 - val_accuracy: 0.8768 - val_auc_1: 0.6787 - val_loss: 0.5196 - val_precision_1: 0.0000e+00 - val_recall_1: 0.0000e+00 - learning_rate: 0.0010\n",
            "Epoch 13/100\n",
            "\u001b[1m19/21\u001b[0m \u001b[32m━━━━━━━━━━━━━━━━━━\u001b[0m\u001b[37m━━\u001b[0m \u001b[1m0s\u001b[0m 9ms/step - accuracy: 0.8615 - auc_1: 0.6173 - loss: 0.5366 - precision_1: 0.2284 - recall_1: 0.1621\n",
            "Epoch 13: val_loss improved from 0.51965 to 0.50253, saving model to best_model.h5\n"
          ]
        },
        {
          "output_type": "stream",
          "name": "stderr",
          "text": [
            "WARNING:absl:You are saving your model as an HDF5 file via `model.save()` or `keras.saving.save_model(model)`. This file format is considered legacy. We recommend using instead the native Keras format, e.g. `model.save('my_model.keras')` or `keras.saving.save_model(model, 'my_model.keras')`. \n"
          ]
        },
        {
          "output_type": "stream",
          "name": "stdout",
          "text": [
            "\b\b\b\b\b\b\b\b\b\b\b\b\b\b\b\b\b\b\b\b\b\b\b\b\b\b\b\b\b\b\b\b\b\b\b\b\b\b\b\b\b\b\b\b\b\b\b\b\b\b\b\b\b\b\b\b\b\b\b\b\b\b\b\b\b\b\b\b\b\b\b\b\b\b\b\b\b\b\b\b\b\b\b\b\b\b\b\b\b\b\b\b\b\b\b\b\b\b\b\b\b\b\b\b\b\b\b\b\b\b\b\b\b\b\b\b\b\b\b\b\b\b\b\b\b\b\b\b\b\r\u001b[1m21/21\u001b[0m \u001b[32m━━━━━━━━━━━━━━━━━━━━\u001b[0m\u001b[37m\u001b[0m \u001b[1m0s\u001b[0m 16ms/step - accuracy: 0.8628 - auc_1: 0.6169 - loss: 0.5343 - precision_1: 0.2273 - recall_1: 0.1672 - val_accuracy: 0.8768 - val_auc_1: 0.6607 - val_loss: 0.5025 - val_precision_1: 0.0000e+00 - val_recall_1: 0.0000e+00 - learning_rate: 0.0010\n",
            "Epoch 14/100\n",
            "\u001b[1m18/21\u001b[0m \u001b[32m━━━━━━━━━━━━━━━━━\u001b[0m\u001b[37m━━━\u001b[0m \u001b[1m0s\u001b[0m 9ms/step - accuracy: 0.8650 - auc_1: 0.6748 - loss: 0.4919 - precision_1: 0.1563 - recall_1: 0.1444 \n",
            "Epoch 14: val_loss improved from 0.50253 to 0.48531, saving model to best_model.h5\n"
          ]
        },
        {
          "output_type": "stream",
          "name": "stderr",
          "text": [
            "WARNING:absl:You are saving your model as an HDF5 file via `model.save()` or `keras.saving.save_model(model)`. This file format is considered legacy. We recommend using instead the native Keras format, e.g. `model.save('my_model.keras')` or `keras.saving.save_model(model, 'my_model.keras')`. \n"
          ]
        },
        {
          "output_type": "stream",
          "name": "stdout",
          "text": [
            "\b\b\b\b\b\b\b\b\b\b\b\b\b\b\b\b\b\b\b\b\b\b\b\b\b\b\b\b\b\b\b\b\b\b\b\b\b\b\b\b\b\b\b\b\b\b\b\b\b\b\b\b\b\b\b\b\b\b\b\b\b\b\b\b\b\b\b\b\b\b\b\b\b\b\b\b\b\b\b\b\b\b\b\b\b\b\b\b\b\b\b\b\b\b\b\b\b\b\b\b\b\b\b\b\b\b\b\b\b\b\b\b\b\b\b\b\b\b\b\b\b\b\b\b\b\b\b\b\b\r\u001b[1m21/21\u001b[0m \u001b[32m━━━━━━━━━━━━━━━━━━━━\u001b[0m\u001b[37m\u001b[0m \u001b[1m0s\u001b[0m 17ms/step - accuracy: 0.8663 - auc_1: 0.6682 - loss: 0.4929 - precision_1: 0.1647 - recall_1: 0.1481 - val_accuracy: 0.8768 - val_auc_1: 0.7504 - val_loss: 0.4853 - val_precision_1: 0.0000e+00 - val_recall_1: 0.0000e+00 - learning_rate: 0.0010\n",
            "Epoch 15/100\n",
            "\u001b[1m19/21\u001b[0m \u001b[32m━━━━━━━━━━━━━━━━━━\u001b[0m\u001b[37m━━\u001b[0m \u001b[1m0s\u001b[0m 9ms/step - accuracy: 0.8760 - auc_1: 0.7315 - loss: 0.4911 - precision_1: 0.3797 - recall_1: 0.2618\n",
            "Epoch 15: val_loss did not improve from 0.48531\n",
            "\u001b[1m21/21\u001b[0m \u001b[32m━━━━━━━━━━━━━━━━━━━━\u001b[0m\u001b[37m\u001b[0m \u001b[1m1s\u001b[0m 13ms/step - accuracy: 0.8779 - auc_1: 0.7315 - loss: 0.4875 - precision_1: 0.3662 - recall_1: 0.2509 - val_accuracy: 0.8768 - val_auc_1: 0.6821 - val_loss: 0.4942 - val_precision_1: 0.0000e+00 - val_recall_1: 0.0000e+00 - learning_rate: 0.0010\n",
            "Epoch 16/100\n",
            "\u001b[1m19/21\u001b[0m \u001b[32m━━━━━━━━━━━━━━━━━━\u001b[0m\u001b[37m━━\u001b[0m \u001b[1m0s\u001b[0m 9ms/step - accuracy: 0.9133 - auc_1: 0.7325 - loss: 0.4234 - precision_1: 0.2699 - recall_1: 0.1410\n",
            "Epoch 16: val_loss did not improve from 0.48531\n",
            "\u001b[1m21/21\u001b[0m \u001b[32m━━━━━━━━━━━━━━━━━━━━\u001b[0m\u001b[37m\u001b[0m \u001b[1m0s\u001b[0m 14ms/step - accuracy: 0.9120 - auc_1: 0.7301 - loss: 0.4257 - precision_1: 0.2855 - recall_1: 0.1491 - val_accuracy: 0.8768 - val_auc_1: 0.6410 - val_loss: 0.5005 - val_precision_1: 0.0000e+00 - val_recall_1: 0.0000e+00 - learning_rate: 0.0010\n",
            "Epoch 17/100\n",
            "\u001b[1m17/21\u001b[0m \u001b[32m━━━━━━━━━━━━━━━━\u001b[0m\u001b[37m━━━━\u001b[0m \u001b[1m0s\u001b[0m 10ms/step - accuracy: 0.8959 - auc_1: 0.7462 - loss: 0.4409 - precision_1: 0.3110 - recall_1: 0.1637\n",
            "Epoch 17: val_loss improved from 0.48531 to 0.46775, saving model to best_model.h5\n"
          ]
        },
        {
          "output_type": "stream",
          "name": "stderr",
          "text": [
            "WARNING:absl:You are saving your model as an HDF5 file via `model.save()` or `keras.saving.save_model(model)`. This file format is considered legacy. We recommend using instead the native Keras format, e.g. `model.save('my_model.keras')` or `keras.saving.save_model(model, 'my_model.keras')`. \n"
          ]
        },
        {
          "output_type": "stream",
          "name": "stdout",
          "text": [
            "\b\b\b\b\b\b\b\b\b\b\b\b\b\b\b\b\b\b\b\b\b\b\b\b\b\b\b\b\b\b\b\b\b\b\b\b\b\b\b\b\b\b\b\b\b\b\b\b\b\b\b\b\b\b\b\b\b\b\b\b\b\b\b\b\b\b\b\b\b\b\b\b\b\b\b\b\b\b\b\b\b\b\b\b\b\b\b\b\b\b\b\b\b\b\b\b\b\b\b\b\b\b\b\b\b\b\b\b\b\b\b\b\b\b\b\b\b\b\b\b\b\b\b\b\b\b\b\b\b\b\r\u001b[1m21/21\u001b[0m \u001b[32m━━━━━━━━━━━━━━━━━━━━\u001b[0m\u001b[37m\u001b[0m \u001b[1m0s\u001b[0m 17ms/step - accuracy: 0.8970 - auc_1: 0.7385 - loss: 0.4409 - precision_1: 0.3184 - recall_1: 0.1638 - val_accuracy: 0.8768 - val_auc_1: 0.7530 - val_loss: 0.4677 - val_precision_1: 0.0000e+00 - val_recall_1: 0.0000e+00 - learning_rate: 0.0010\n",
            "Epoch 18/100\n",
            "\u001b[1m19/21\u001b[0m \u001b[32m━━━━━━━━━━━━━━━━━━\u001b[0m\u001b[37m━━\u001b[0m \u001b[1m0s\u001b[0m 9ms/step - accuracy: 0.9222 - auc_1: 0.7637 - loss: 0.3978 - precision_1: 0.3776 - recall_1: 0.3329\n",
            "Epoch 18: val_loss did not improve from 0.46775\n",
            "\u001b[1m21/21\u001b[0m \u001b[32m━━━━━━━━━━━━━━━━━━━━\u001b[0m\u001b[37m\u001b[0m \u001b[1m1s\u001b[0m 14ms/step - accuracy: 0.9201 - auc_1: 0.7628 - loss: 0.4006 - precision_1: 0.3815 - recall_1: 0.3166 - val_accuracy: 0.8768 - val_auc_1: 0.6337 - val_loss: 0.4991 - val_precision_1: 0.5000 - val_recall_1: 0.0588 - learning_rate: 0.0010\n",
            "Epoch 19/100\n",
            "\u001b[1m19/21\u001b[0m \u001b[32m━━━━━━━━━━━━━━━━━━\u001b[0m\u001b[37m━━\u001b[0m \u001b[1m0s\u001b[0m 9ms/step - accuracy: 0.9152 - auc_1: 0.7936 - loss: 0.3999 - precision_1: 0.4705 - recall_1: 0.1845\n",
            "Epoch 19: val_loss did not improve from 0.46775\n",
            "\u001b[1m21/21\u001b[0m \u001b[32m━━━━━━━━━━━━━━━━━━━━\u001b[0m\u001b[37m\u001b[0m \u001b[1m0s\u001b[0m 14ms/step - accuracy: 0.9139 - auc_1: 0.7915 - loss: 0.4004 - precision_1: 0.4608 - recall_1: 0.1891 - val_accuracy: 0.8696 - val_auc_1: 0.6281 - val_loss: 0.4990 - val_precision_1: 0.0000e+00 - val_recall_1: 0.0000e+00 - learning_rate: 0.0010\n",
            "Epoch 20/100\n",
            "\u001b[1m19/21\u001b[0m \u001b[32m━━━━━━━━━━━━━━━━━━\u001b[0m\u001b[37m━━\u001b[0m \u001b[1m0s\u001b[0m 10ms/step - accuracy: 0.8875 - auc_1: 0.7839 - loss: 0.4156 - precision_1: 0.3202 - recall_1: 0.1918\n",
            "Epoch 20: val_loss did not improve from 0.46775\n",
            "\u001b[1m21/21\u001b[0m \u001b[32m━━━━━━━━━━━━━━━━━━━━\u001b[0m\u001b[37m\u001b[0m \u001b[1m0s\u001b[0m 15ms/step - accuracy: 0.8886 - auc_1: 0.7819 - loss: 0.4141 - precision_1: 0.3183 - recall_1: 0.1906 - val_accuracy: 0.8768 - val_auc_1: 0.6706 - val_loss: 0.5285 - val_precision_1: 0.0000e+00 - val_recall_1: 0.0000e+00 - learning_rate: 0.0010\n",
            "Epoch 21/100\n",
            "\u001b[1m18/21\u001b[0m \u001b[32m━━━━━━━━━━━━━━━━━\u001b[0m\u001b[37m━━━\u001b[0m \u001b[1m0s\u001b[0m 10ms/step - accuracy: 0.9009 - auc_1: 0.6400 - loss: 0.4352 - precision_1: 0.2636 - recall_1: 0.0919\n",
            "Epoch 21: val_loss did not improve from 0.46775\n",
            "\u001b[1m21/21\u001b[0m \u001b[32m━━━━━━━━━━━━━━━━━━━━\u001b[0m\u001b[37m\u001b[0m \u001b[1m1s\u001b[0m 15ms/step - accuracy: 0.9022 - auc_1: 0.6473 - loss: 0.4327 - precision_1: 0.2874 - recall_1: 0.0986 - val_accuracy: 0.8768 - val_auc_1: 0.6592 - val_loss: 0.4723 - val_precision_1: 0.5000 - val_recall_1: 0.0588 - learning_rate: 0.0010\n",
            "Epoch 22/100\n",
            "\u001b[1m19/21\u001b[0m \u001b[32m━━━━━━━━━━━━━━━━━━\u001b[0m\u001b[37m━━\u001b[0m \u001b[1m0s\u001b[0m 9ms/step - accuracy: 0.9221 - auc_1: 0.7240 - loss: 0.3914 - precision_1: 0.6154 - recall_1: 0.2396\n",
            "Epoch 22: val_loss improved from 0.46775 to 0.44415, saving model to best_model.h5\n"
          ]
        },
        {
          "output_type": "stream",
          "name": "stderr",
          "text": [
            "WARNING:absl:You are saving your model as an HDF5 file via `model.save()` or `keras.saving.save_model(model)`. This file format is considered legacy. We recommend using instead the native Keras format, e.g. `model.save('my_model.keras')` or `keras.saving.save_model(model, 'my_model.keras')`. \n"
          ]
        },
        {
          "output_type": "stream",
          "name": "stdout",
          "text": [
            "\b\b\b\b\b\b\b\b\b\b\b\b\b\b\b\b\b\b\b\b\b\b\b\b\b\b\b\b\b\b\b\b\b\b\b\b\b\b\b\b\b\b\b\b\b\b\b\b\b\b\b\b\b\b\b\b\b\b\b\b\b\b\b\b\b\b\b\b\b\b\b\b\b\b\b\b\b\b\b\b\b\b\b\b\b\b\b\b\b\b\b\b\b\b\b\b\b\b\b\b\b\b\b\b\b\b\b\b\b\b\b\b\b\b\b\b\b\b\b\b\b\b\b\b\b\b\b\b\b\r\u001b[1m21/21\u001b[0m \u001b[32m━━━━━━━━━━━━━━━━━━━━\u001b[0m\u001b[37m\u001b[0m \u001b[1m0s\u001b[0m 17ms/step - accuracy: 0.9206 - auc_1: 0.7227 - loss: 0.3929 - precision_1: 0.5916 - recall_1: 0.2319 - val_accuracy: 0.8841 - val_auc_1: 0.7929 - val_loss: 0.4442 - val_precision_1: 1.0000 - val_recall_1: 0.0588 - learning_rate: 0.0010\n",
            "Epoch 23/100\n",
            "\u001b[1m19/21\u001b[0m \u001b[32m━━━━━━━━━━━━━━━━━━\u001b[0m\u001b[37m━━\u001b[0m \u001b[1m0s\u001b[0m 9ms/step - accuracy: 0.9230 - auc_1: 0.7695 - loss: 0.3795 - precision_1: 0.6719 - recall_1: 0.1980\n",
            "Epoch 23: val_loss did not improve from 0.44415\n",
            "\u001b[1m21/21\u001b[0m \u001b[32m━━━━━━━━━━━━━━━━━━━━\u001b[0m\u001b[37m\u001b[0m \u001b[1m0s\u001b[0m 14ms/step - accuracy: 0.9214 - auc_1: 0.7633 - loss: 0.3825 - precision_1: 0.6423 - recall_1: 0.1958 - val_accuracy: 0.8768 - val_auc_1: 0.7071 - val_loss: 0.4620 - val_precision_1: 0.5000 - val_recall_1: 0.0588 - learning_rate: 0.0010\n",
            "Epoch 24/100\n",
            "\u001b[1m19/21\u001b[0m \u001b[32m━━━━━━━━━━━━━━━━━━\u001b[0m\u001b[37m━━\u001b[0m \u001b[1m0s\u001b[0m 9ms/step - accuracy: 0.9175 - auc_1: 0.6978 - loss: 0.3682 - precision_1: 0.2780 - recall_1: 0.1133\n",
            "Epoch 24: val_loss did not improve from 0.44415\n",
            "\u001b[1m21/21\u001b[0m \u001b[32m━━━━━━━━━━━━━━━━━━━━\u001b[0m\u001b[37m\u001b[0m \u001b[1m0s\u001b[0m 14ms/step - accuracy: 0.9169 - auc_1: 0.7024 - loss: 0.3711 - precision_1: 0.3053 - recall_1: 0.1253 - val_accuracy: 0.8768 - val_auc_1: 0.7637 - val_loss: 0.4530 - val_precision_1: 0.0000e+00 - val_recall_1: 0.0000e+00 - learning_rate: 0.0010\n",
            "Epoch 25/100\n",
            "\u001b[1m19/21\u001b[0m \u001b[32m━━━━━━━━━━━━━━━━━━\u001b[0m\u001b[37m━━\u001b[0m \u001b[1m0s\u001b[0m 9ms/step - accuracy: 0.9028 - auc_1: 0.7391 - loss: 0.4133 - precision_1: 0.3891 - recall_1: 0.2019 \n",
            "Epoch 25: val_loss did not improve from 0.44415\n",
            "\u001b[1m21/21\u001b[0m \u001b[32m━━━━━━━━━━━━━━━━━━━━\u001b[0m\u001b[37m\u001b[0m \u001b[1m0s\u001b[0m 14ms/step - accuracy: 0.9041 - auc_1: 0.7436 - loss: 0.4092 - precision_1: 0.4015 - recall_1: 0.2041 - val_accuracy: 0.8696 - val_auc_1: 0.7543 - val_loss: 0.4551 - val_precision_1: 0.3333 - val_recall_1: 0.0588 - learning_rate: 0.0010\n",
            "Epoch 26/100\n",
            "\u001b[1m18/21\u001b[0m \u001b[32m━━━━━━━━━━━━━━━━━\u001b[0m\u001b[37m━━━\u001b[0m \u001b[1m0s\u001b[0m 10ms/step - accuracy: 0.9033 - auc_1: 0.8198 - loss: 0.3724 - precision_1: 0.5256 - recall_1: 0.2442\n",
            "Epoch 26: val_loss improved from 0.44415 to 0.43489, saving model to best_model.h5\n"
          ]
        },
        {
          "output_type": "stream",
          "name": "stderr",
          "text": [
            "WARNING:absl:You are saving your model as an HDF5 file via `model.save()` or `keras.saving.save_model(model)`. This file format is considered legacy. We recommend using instead the native Keras format, e.g. `model.save('my_model.keras')` or `keras.saving.save_model(model, 'my_model.keras')`. \n"
          ]
        },
        {
          "output_type": "stream",
          "name": "stdout",
          "text": [
            "\b\b\b\b\b\b\b\b\b\b\b\b\b\b\b\b\b\b\b\b\b\b\b\b\b\b\b\b\b\b\b\b\b\b\b\b\b\b\b\b\b\b\b\b\b\b\b\b\b\b\b\b\b\b\b\b\b\b\b\b\b\b\b\b\b\b\b\b\b\b\b\b\b\b\b\b\b\b\b\b\b\b\b\b\b\b\b\b\b\b\b\b\b\b\b\b\b\b\b\b\b\b\b\b\b\b\b\b\b\b\b\b\b\b\b\b\b\b\b\b\b\b\b\b\b\b\b\b\b\b\r\u001b[1m21/21\u001b[0m \u001b[32m━━━━━━━━━━━━━━━━━━━━\u001b[0m\u001b[37m\u001b[0m \u001b[1m0s\u001b[0m 17ms/step - accuracy: 0.9065 - auc_1: 0.8194 - loss: 0.3686 - precision_1: 0.5334 - recall_1: 0.2488 - val_accuracy: 0.8986 - val_auc_1: 0.7535 - val_loss: 0.4349 - val_precision_1: 1.0000 - val_recall_1: 0.1765 - learning_rate: 0.0010\n",
            "Epoch 27/100\n",
            "\u001b[1m19/21\u001b[0m \u001b[32m━━━━━━━━━━━━━━━━━━\u001b[0m\u001b[37m━━\u001b[0m \u001b[1m0s\u001b[0m 9ms/step - accuracy: 0.9378 - auc_1: 0.7871 - loss: 0.3524 - precision_1: 0.5738 - recall_1: 0.2364\n",
            "Epoch 27: val_loss improved from 0.43489 to 0.42241, saving model to best_model.h5\n"
          ]
        },
        {
          "output_type": "stream",
          "name": "stderr",
          "text": [
            "WARNING:absl:You are saving your model as an HDF5 file via `model.save()` or `keras.saving.save_model(model)`. This file format is considered legacy. We recommend using instead the native Keras format, e.g. `model.save('my_model.keras')` or `keras.saving.save_model(model, 'my_model.keras')`. \n"
          ]
        },
        {
          "output_type": "stream",
          "name": "stdout",
          "text": [
            "\b\b\b\b\b\b\b\b\b\b\b\b\b\b\b\b\b\b\b\b\b\b\b\b\b\b\b\b\b\b\b\b\b\b\b\b\b\b\b\b\b\b\b\b\b\b\b\b\b\b\b\b\b\b\b\b\b\b\b\b\b\b\b\b\b\b\b\b\b\b\b\b\b\b\b\b\b\b\b\b\b\b\b\b\b\b\b\b\b\b\b\b\b\b\b\b\b\b\b\b\b\b\b\b\b\b\b\b\b\b\b\b\b\b\b\b\b\b\b\b\b\b\b\b\b\b\b\b\b\r\u001b[1m21/21\u001b[0m \u001b[32m━━━━━━━━━━━━━━━━━━━━\u001b[0m\u001b[37m\u001b[0m \u001b[1m0s\u001b[0m 17ms/step - accuracy: 0.9361 - auc_1: 0.7848 - loss: 0.3551 - precision_1: 0.5889 - recall_1: 0.2364 - val_accuracy: 0.8913 - val_auc_1: 0.8046 - val_loss: 0.4224 - val_precision_1: 1.0000 - val_recall_1: 0.1176 - learning_rate: 0.0010\n",
            "Epoch 28/100\n",
            "\u001b[1m19/21\u001b[0m \u001b[32m━━━━━━━━━━━━━━━━━━\u001b[0m\u001b[37m━━\u001b[0m \u001b[1m0s\u001b[0m 9ms/step - accuracy: 0.9211 - auc_1: 0.8663 - loss: 0.3385 - precision_1: 0.7843 - recall_1: 0.2890\n",
            "Epoch 28: val_loss did not improve from 0.42241\n",
            "\u001b[1m21/21\u001b[0m \u001b[32m━━━━━━━━━━━━━━━━━━━━\u001b[0m\u001b[37m\u001b[0m \u001b[1m1s\u001b[0m 13ms/step - accuracy: 0.9219 - auc_1: 0.8644 - loss: 0.3373 - precision_1: 0.7758 - recall_1: 0.2818 - val_accuracy: 0.8913 - val_auc_1: 0.7453 - val_loss: 0.4345 - val_precision_1: 1.0000 - val_recall_1: 0.1176 - learning_rate: 0.0010\n",
            "Epoch 29/100\n",
            "\u001b[1m19/21\u001b[0m \u001b[32m━━━━━━━━━━━━━━━━━━\u001b[0m\u001b[37m━━\u001b[0m \u001b[1m0s\u001b[0m 9ms/step - accuracy: 0.9100 - auc_1: 0.8046 - loss: 0.3653 - precision_1: 0.6832 - recall_1: 0.1757\n",
            "Epoch 29: val_loss did not improve from 0.42241\n",
            "\u001b[1m21/21\u001b[0m \u001b[32m━━━━━━━━━━━━━━━━━━━━\u001b[0m\u001b[37m\u001b[0m \u001b[1m0s\u001b[0m 14ms/step - accuracy: 0.9119 - auc_1: 0.8041 - loss: 0.3623 - precision_1: 0.6810 - recall_1: 0.1815 - val_accuracy: 0.8913 - val_auc_1: 0.7635 - val_loss: 0.4331 - val_precision_1: 1.0000 - val_recall_1: 0.1176 - learning_rate: 0.0010\n",
            "Epoch 30/100\n",
            "\u001b[1m18/21\u001b[0m \u001b[32m━━━━━━━━━━━━━━━━━\u001b[0m\u001b[37m━━━\u001b[0m \u001b[1m0s\u001b[0m 9ms/step - accuracy: 0.9448 - auc_1: 0.8091 - loss: 0.3332 - precision_1: 0.8030 - recall_1: 0.4030 \n",
            "Epoch 30: val_loss did not improve from 0.42241\n",
            "\u001b[1m21/21\u001b[0m \u001b[32m━━━━━━━━━━━━━━━━━━━━\u001b[0m\u001b[37m\u001b[0m \u001b[1m0s\u001b[0m 14ms/step - accuracy: 0.9418 - auc_1: 0.8117 - loss: 0.3346 - precision_1: 0.7756 - recall_1: 0.3925 - val_accuracy: 0.8913 - val_auc_1: 0.7460 - val_loss: 0.4707 - val_precision_1: 1.0000 - val_recall_1: 0.1176 - learning_rate: 0.0010\n",
            "Epoch 31/100\n",
            "\u001b[1m19/21\u001b[0m \u001b[32m━━━━━━━━━━━━━━━━━━\u001b[0m\u001b[37m━━\u001b[0m \u001b[1m0s\u001b[0m 9ms/step - accuracy: 0.9162 - auc_1: 0.8421 - loss: 0.3310 - precision_1: 0.4342 - recall_1: 0.2410\n",
            "Epoch 31: val_loss did not improve from 0.42241\n",
            "\u001b[1m21/21\u001b[0m \u001b[32m━━━━━━━━━━━━━━━━━━━━\u001b[0m\u001b[37m\u001b[0m \u001b[1m0s\u001b[0m 14ms/step - accuracy: 0.9155 - auc_1: 0.8426 - loss: 0.3321 - precision_1: 0.4386 - recall_1: 0.2429 - val_accuracy: 0.8841 - val_auc_1: 0.8474 - val_loss: 0.4357 - val_precision_1: 1.0000 - val_recall_1: 0.0588 - learning_rate: 0.0010\n",
            "Epoch 32/100\n",
            "\u001b[1m17/21\u001b[0m \u001b[32m━━━━━━━━━━━━━━━━\u001b[0m\u001b[37m━━━━\u001b[0m \u001b[1m0s\u001b[0m 10ms/step - accuracy: 0.9066 - auc_1: 0.7611 - loss: 0.3906 - precision_1: 0.6130 - recall_1: 0.1802\n",
            "Epoch 32: val_loss improved from 0.42241 to 0.41263, saving model to best_model.h5\n"
          ]
        },
        {
          "output_type": "stream",
          "name": "stderr",
          "text": [
            "WARNING:absl:You are saving your model as an HDF5 file via `model.save()` or `keras.saving.save_model(model)`. This file format is considered legacy. We recommend using instead the native Keras format, e.g. `model.save('my_model.keras')` or `keras.saving.save_model(model, 'my_model.keras')`. \n"
          ]
        },
        {
          "output_type": "stream",
          "name": "stdout",
          "text": [
            "\b\b\b\b\b\b\b\b\b\b\b\b\b\b\b\b\b\b\b\b\b\b\b\b\b\b\b\b\b\b\b\b\b\b\b\b\b\b\b\b\b\b\b\b\b\b\b\b\b\b\b\b\b\b\b\b\b\b\b\b\b\b\b\b\b\b\b\b\b\b\b\b\b\b\b\b\b\b\b\b\b\b\b\b\b\b\b\b\b\b\b\b\b\b\b\b\b\b\b\b\b\b\b\b\b\b\b\b\b\b\b\b\b\b\b\b\b\b\b\b\b\b\b\b\b\b\b\b\b\b\r\u001b[1m21/21\u001b[0m \u001b[32m━━━━━━━━━━━━━━━━━━━━\u001b[0m\u001b[37m\u001b[0m \u001b[1m0s\u001b[0m 17ms/step - accuracy: 0.9084 - auc_1: 0.7638 - loss: 0.3834 - precision_1: 0.5862 - recall_1: 0.1845 - val_accuracy: 0.8986 - val_auc_1: 0.7693 - val_loss: 0.4126 - val_precision_1: 1.0000 - val_recall_1: 0.1765 - learning_rate: 0.0010\n",
            "Epoch 33/100\n",
            "\u001b[1m21/21\u001b[0m \u001b[32m━━━━━━━━━━━━━━━━━━━━\u001b[0m\u001b[37m\u001b[0m \u001b[1m0s\u001b[0m 14ms/step - accuracy: 0.9189 - auc_1: 0.8421 - loss: 0.3334 - precision_1: 0.6300 - recall_1: 0.2173\n",
            "Epoch 33: val_loss did not improve from 0.41263\n",
            "\u001b[1m21/21\u001b[0m \u001b[32m━━━━━━━━━━━━━━━━━━━━\u001b[0m\u001b[37m\u001b[0m \u001b[1m1s\u001b[0m 20ms/step - accuracy: 0.9188 - auc_1: 0.8410 - loss: 0.3337 - precision_1: 0.6251 - recall_1: 0.2173 - val_accuracy: 0.8913 - val_auc_1: 0.7465 - val_loss: 0.4603 - val_precision_1: 1.0000 - val_recall_1: 0.1176 - learning_rate: 0.0010\n",
            "Epoch 34/100\n",
            "\u001b[1m21/21\u001b[0m \u001b[32m━━━━━━━━━━━━━━━━━━━━\u001b[0m\u001b[37m\u001b[0m \u001b[1m0s\u001b[0m 14ms/step - accuracy: 0.9064 - auc_1: 0.7983 - loss: 0.3546 - precision_1: 0.4570 - recall_1: 0.1200\n",
            "Epoch 34: val_loss did not improve from 0.41263\n",
            "\u001b[1m21/21\u001b[0m \u001b[32m━━━━━━━━━━━━━━━━━━━━\u001b[0m\u001b[37m\u001b[0m \u001b[1m1s\u001b[0m 25ms/step - accuracy: 0.9070 - auc_1: 0.7983 - loss: 0.3540 - precision_1: 0.4647 - recall_1: 0.1228 - val_accuracy: 0.8913 - val_auc_1: 0.7261 - val_loss: 0.4708 - val_precision_1: 1.0000 - val_recall_1: 0.1176 - learning_rate: 0.0010\n",
            "Epoch 35/100\n",
            "\u001b[1m21/21\u001b[0m \u001b[32m━━━━━━━━━━━━━━━━━━━━\u001b[0m\u001b[37m\u001b[0m \u001b[1m0s\u001b[0m 17ms/step - accuracy: 0.9344 - auc_1: 0.8167 - loss: 0.3218 - precision_1: 0.6831 - recall_1: 0.2572\n",
            "Epoch 35: val_loss did not improve from 0.41263\n",
            "\u001b[1m21/21\u001b[0m \u001b[32m━━━━━━━━━━━━━━━━━━━━\u001b[0m\u001b[37m\u001b[0m \u001b[1m1s\u001b[0m 23ms/step - accuracy: 0.9337 - auc_1: 0.8151 - loss: 0.3231 - precision_1: 0.6793 - recall_1: 0.2529 - val_accuracy: 0.8913 - val_auc_1: 0.7620 - val_loss: 0.4725 - val_precision_1: 1.0000 - val_recall_1: 0.1176 - learning_rate: 0.0010\n",
            "Epoch 36/100\n",
            "\u001b[1m18/21\u001b[0m \u001b[32m━━━━━━━━━━━━━━━━━\u001b[0m\u001b[37m━━━\u001b[0m \u001b[1m0s\u001b[0m 10ms/step - accuracy: 0.9158 - auc_1: 0.8500 - loss: 0.3374 - precision_1: 0.6754 - recall_1: 0.2705\n",
            "Epoch 36: val_loss did not improve from 0.41263\n",
            "\u001b[1m21/21\u001b[0m \u001b[32m━━━━━━━━━━━━━━━━━━━━\u001b[0m\u001b[37m\u001b[0m \u001b[1m0s\u001b[0m 14ms/step - accuracy: 0.9163 - auc_1: 0.8470 - loss: 0.3361 - precision_1: 0.6528 - recall_1: 0.2577 - val_accuracy: 0.8841 - val_auc_1: 0.7805 - val_loss: 0.5011 - val_precision_1: 1.0000 - val_recall_1: 0.0588 - learning_rate: 0.0010\n",
            "Epoch 37/100\n",
            "\u001b[1m18/21\u001b[0m \u001b[32m━━━━━━━━━━━━━━━━━\u001b[0m\u001b[37m━━━\u001b[0m \u001b[1m0s\u001b[0m 10ms/step - accuracy: 0.9174 - auc_1: 0.8443 - loss: 0.3370 - precision_1: 0.6381 - recall_1: 0.2950\n",
            "Epoch 37: ReduceLROnPlateau reducing learning rate to 0.0005000000237487257.\n",
            "\n",
            "Epoch 37: val_loss did not improve from 0.41263\n",
            "\u001b[1m21/21\u001b[0m \u001b[32m━━━━━━━━━━━━━━━━━━━━\u001b[0m\u001b[37m\u001b[0m \u001b[1m1s\u001b[0m 14ms/step - accuracy: 0.9188 - auc_1: 0.8451 - loss: 0.3339 - precision_1: 0.6366 - recall_1: 0.2981 - val_accuracy: 0.8986 - val_auc_1: 0.7533 - val_loss: 0.5431 - val_precision_1: 1.0000 - val_recall_1: 0.1765 - learning_rate: 0.0010\n",
            "Epoch 38/100\n",
            "\u001b[1m19/21\u001b[0m \u001b[32m━━━━━━━━━━━━━━━━━━\u001b[0m\u001b[37m━━\u001b[0m \u001b[1m0s\u001b[0m 9ms/step - accuracy: 0.9044 - auc_1: 0.8068 - loss: 0.3762 - precision_1: 0.6421 - recall_1: 0.1613\n",
            "Epoch 38: val_loss did not improve from 0.41263\n",
            "\u001b[1m21/21\u001b[0m \u001b[32m━━━━━━━━━━━━━━━━━━━━\u001b[0m\u001b[37m\u001b[0m \u001b[1m1s\u001b[0m 14ms/step - accuracy: 0.9073 - auc_1: 0.8088 - loss: 0.3701 - precision_1: 0.6528 - recall_1: 0.1691 - val_accuracy: 0.8986 - val_auc_1: 0.7479 - val_loss: 0.5307 - val_precision_1: 1.0000 - val_recall_1: 0.1765 - learning_rate: 5.0000e-04\n",
            "Epoch 39/100\n",
            "\u001b[1m19/21\u001b[0m \u001b[32m━━━━━━━━━━━━━━━━━━\u001b[0m\u001b[37m━━\u001b[0m \u001b[1m0s\u001b[0m 9ms/step - accuracy: 0.9233 - auc_1: 0.8325 - loss: 0.3342 - precision_1: 0.8707 - recall_1: 0.2538\n",
            "Epoch 39: val_loss did not improve from 0.41263\n",
            "\u001b[1m21/21\u001b[0m \u001b[32m━━━━━━━━━━━━━━━━━━━━\u001b[0m\u001b[37m\u001b[0m \u001b[1m0s\u001b[0m 14ms/step - accuracy: 0.9247 - auc_1: 0.8348 - loss: 0.3294 - precision_1: 0.8713 - recall_1: 0.2541 - val_accuracy: 0.8986 - val_auc_1: 0.6855 - val_loss: 0.5283 - val_precision_1: 1.0000 - val_recall_1: 0.1765 - learning_rate: 5.0000e-04\n",
            "Epoch 40/100\n",
            "\u001b[1m19/21\u001b[0m \u001b[32m━━━━━━━━━━━━━━━━━━\u001b[0m\u001b[37m━━\u001b[0m \u001b[1m0s\u001b[0m 9ms/step - accuracy: 0.9256 - auc_1: 0.8613 - loss: 0.3099 - precision_1: 0.8069 - recall_1: 0.2408\n",
            "Epoch 40: val_loss did not improve from 0.41263\n",
            "\u001b[1m21/21\u001b[0m \u001b[32m━━━━━━━━━━━━━━━━━━━━\u001b[0m\u001b[37m\u001b[0m \u001b[1m1s\u001b[0m 14ms/step - accuracy: 0.9263 - auc_1: 0.8631 - loss: 0.3079 - precision_1: 0.7960 - recall_1: 0.2479 - val_accuracy: 0.8986 - val_auc_1: 0.7178 - val_loss: 0.5171 - val_precision_1: 1.0000 - val_recall_1: 0.1765 - learning_rate: 5.0000e-04\n",
            "Epoch 41/100\n",
            "\u001b[1m19/21\u001b[0m \u001b[32m━━━━━━━━━━━━━━━━━━\u001b[0m\u001b[37m━━\u001b[0m \u001b[1m0s\u001b[0m 9ms/step - accuracy: 0.9486 - auc_1: 0.9196 - loss: 0.2597 - precision_1: 0.7494 - recall_1: 0.5551\n",
            "Epoch 41: val_loss did not improve from 0.41263\n",
            "\u001b[1m21/21\u001b[0m \u001b[32m━━━━━━━━━━━━━━━━━━━━\u001b[0m\u001b[37m\u001b[0m \u001b[1m0s\u001b[0m 14ms/step - accuracy: 0.9476 - auc_1: 0.9181 - loss: 0.2618 - precision_1: 0.7553 - recall_1: 0.5364 - val_accuracy: 0.9058 - val_auc_1: 0.7786 - val_loss: 0.4551 - val_precision_1: 1.0000 - val_recall_1: 0.2353 - learning_rate: 5.0000e-04\n",
            "Epoch 42/100\n",
            "\u001b[1m19/21\u001b[0m \u001b[32m━━━━━━━━━━━━━━━━━━\u001b[0m\u001b[37m━━\u001b[0m \u001b[1m0s\u001b[0m 9ms/step - accuracy: 0.9335 - auc_1: 0.8924 - loss: 0.2810 - precision_1: 0.7148 - recall_1: 0.2534\n",
            "Epoch 42: val_loss improved from 0.41263 to 0.33048, saving model to best_model.h5\n"
          ]
        },
        {
          "output_type": "stream",
          "name": "stderr",
          "text": [
            "WARNING:absl:You are saving your model as an HDF5 file via `model.save()` or `keras.saving.save_model(model)`. This file format is considered legacy. We recommend using instead the native Keras format, e.g. `model.save('my_model.keras')` or `keras.saving.save_model(model, 'my_model.keras')`. \n"
          ]
        },
        {
          "output_type": "stream",
          "name": "stdout",
          "text": [
            "\b\b\b\b\b\b\b\b\b\b\b\b\b\b\b\b\b\b\b\b\b\b\b\b\b\b\b\b\b\b\b\b\b\b\b\b\b\b\b\b\b\b\b\b\b\b\b\b\b\b\b\b\b\b\b\b\b\b\b\b\b\b\b\b\b\b\b\b\b\b\b\b\b\b\b\b\b\b\b\b\b\b\b\b\b\b\b\b\b\b\b\b\b\b\b\b\b\b\b\b\b\b\b\b\b\b\b\b\b\b\b\b\b\b\b\b\b\b\b\b\b\b\b\b\b\b\b\b\b\r\u001b[1m21/21\u001b[0m \u001b[32m━━━━━━━━━━━━━━━━━━━━\u001b[0m\u001b[37m\u001b[0m \u001b[1m1s\u001b[0m 16ms/step - accuracy: 0.9343 - auc_1: 0.8922 - loss: 0.2806 - precision_1: 0.7401 - recall_1: 0.2634 - val_accuracy: 0.9275 - val_auc_1: 0.8639 - val_loss: 0.3305 - val_precision_1: 0.8889 - val_recall_1: 0.4706 - learning_rate: 5.0000e-04\n",
            "Epoch 43/100\n",
            "\u001b[1m19/21\u001b[0m \u001b[32m━━━━━━━━━━━━━━━━━━\u001b[0m\u001b[37m━━\u001b[0m \u001b[1m0s\u001b[0m 9ms/step - accuracy: 0.9317 - auc_1: 0.9041 - loss: 0.2918 - precision_1: 0.8554 - recall_1: 0.4591\n",
            "Epoch 43: val_loss improved from 0.33048 to 0.29257, saving model to best_model.h5\n"
          ]
        },
        {
          "output_type": "stream",
          "name": "stderr",
          "text": [
            "WARNING:absl:You are saving your model as an HDF5 file via `model.save()` or `keras.saving.save_model(model)`. This file format is considered legacy. We recommend using instead the native Keras format, e.g. `model.save('my_model.keras')` or `keras.saving.save_model(model, 'my_model.keras')`. \n"
          ]
        },
        {
          "output_type": "stream",
          "name": "stdout",
          "text": [
            "\b\b\b\b\b\b\b\b\b\b\b\b\b\b\b\b\b\b\b\b\b\b\b\b\b\b\b\b\b\b\b\b\b\b\b\b\b\b\b\b\b\b\b\b\b\b\b\b\b\b\b\b\b\b\b\b\b\b\b\b\b\b\b\b\b\b\b\b\b\b\b\b\b\b\b\b\b\b\b\b\b\b\b\b\b\b\b\b\b\b\b\b\b\b\b\b\b\b\b\b\b\b\b\b\b\b\b\b\b\b\b\b\b\b\b\b\b\b\b\b\b\b\b\b\b\b\b\b\b\r\u001b[1m21/21\u001b[0m \u001b[32m━━━━━━━━━━━━━━━━━━━━\u001b[0m\u001b[37m\u001b[0m \u001b[1m0s\u001b[0m 17ms/step - accuracy: 0.9335 - auc_1: 0.9023 - loss: 0.2898 - precision_1: 0.8487 - recall_1: 0.4589 - val_accuracy: 0.9420 - val_auc_1: 0.9142 - val_loss: 0.2926 - val_precision_1: 1.0000 - val_recall_1: 0.5294 - learning_rate: 5.0000e-04\n",
            "Epoch 44/100\n",
            "\u001b[1m19/21\u001b[0m \u001b[32m━━━━━━━━━━━━━━━━━━\u001b[0m\u001b[37m━━\u001b[0m \u001b[1m0s\u001b[0m 9ms/step - accuracy: 0.9255 - auc_1: 0.9058 - loss: 0.2893 - precision_1: 0.7413 - recall_1: 0.3464\n",
            "Epoch 44: val_loss did not improve from 0.29257\n",
            "\u001b[1m21/21\u001b[0m \u001b[32m━━━━━━━━━━━━━━━━━━━━\u001b[0m\u001b[37m\u001b[0m \u001b[1m0s\u001b[0m 14ms/step - accuracy: 0.9268 - auc_1: 0.9062 - loss: 0.2874 - precision_1: 0.7380 - recall_1: 0.3501 - val_accuracy: 0.9203 - val_auc_1: 0.8367 - val_loss: 0.3829 - val_precision_1: 1.0000 - val_recall_1: 0.3529 - learning_rate: 5.0000e-04\n",
            "Epoch 45/100\n",
            "\u001b[1m19/21\u001b[0m \u001b[32m━━━━━━━━━━━━━━━━━━\u001b[0m\u001b[37m━━\u001b[0m \u001b[1m0s\u001b[0m 9ms/step - accuracy: 0.9428 - auc_1: 0.9210 - loss: 0.2705 - precision_1: 0.8742 - recall_1: 0.4838\n",
            "Epoch 45: val_loss did not improve from 0.29257\n",
            "\u001b[1m21/21\u001b[0m \u001b[32m━━━━━━━━━━━━━━━━━━━━\u001b[0m\u001b[37m\u001b[0m \u001b[1m0s\u001b[0m 13ms/step - accuracy: 0.9411 - auc_1: 0.9166 - loss: 0.2727 - precision_1: 0.8421 - recall_1: 0.4752 - val_accuracy: 0.9203 - val_auc_1: 0.8935 - val_loss: 0.3257 - val_precision_1: 1.0000 - val_recall_1: 0.3529 - learning_rate: 5.0000e-04\n",
            "Epoch 46/100\n",
            "\u001b[1m19/21\u001b[0m \u001b[32m━━━━━━━━━━━━━━━━━━\u001b[0m\u001b[37m━━\u001b[0m \u001b[1m0s\u001b[0m 9ms/step - accuracy: 0.9317 - auc_1: 0.9320 - loss: 0.2679 - precision_1: 0.7437 - recall_1: 0.4111\n",
            "Epoch 46: val_loss did not improve from 0.29257\n",
            "\u001b[1m21/21\u001b[0m \u001b[32m━━━━━━━━━━━━━━━━━━━━\u001b[0m\u001b[37m\u001b[0m \u001b[1m0s\u001b[0m 14ms/step - accuracy: 0.9336 - auc_1: 0.9300 - loss: 0.2676 - precision_1: 0.7559 - recall_1: 0.4170 - val_accuracy: 0.9058 - val_auc_1: 0.8996 - val_loss: 0.3706 - val_precision_1: 1.0000 - val_recall_1: 0.2353 - learning_rate: 5.0000e-04\n",
            "Epoch 47/100\n",
            "\u001b[1m19/21\u001b[0m \u001b[32m━━━━━━━━━━━━━━━━━━\u001b[0m\u001b[37m━━\u001b[0m \u001b[1m0s\u001b[0m 9ms/step - accuracy: 0.9273 - auc_1: 0.9033 - loss: 0.2804 - precision_1: 0.7020 - recall_1: 0.4212\n",
            "Epoch 47: val_loss did not improve from 0.29257\n",
            "\u001b[1m21/21\u001b[0m \u001b[32m━━━━━━━━━━━━━━━━━━━━\u001b[0m\u001b[37m\u001b[0m \u001b[1m0s\u001b[0m 13ms/step - accuracy: 0.9296 - auc_1: 0.9047 - loss: 0.2767 - precision_1: 0.7115 - recall_1: 0.4307 - val_accuracy: 0.9203 - val_auc_1: 0.9288 - val_loss: 0.3245 - val_precision_1: 1.0000 - val_recall_1: 0.3529 - learning_rate: 5.0000e-04\n",
            "Epoch 48/100\n",
            "\u001b[1m18/21\u001b[0m \u001b[32m━━━━━━━━━━━━━━━━━\u001b[0m\u001b[37m━━━\u001b[0m \u001b[1m0s\u001b[0m 10ms/step - accuracy: 0.9562 - auc_1: 0.8649 - loss: 0.2582 - precision_1: 0.8235 - recall_1: 0.4919\n",
            "Epoch 48: ReduceLROnPlateau reducing learning rate to 0.0002500000118743628.\n",
            "\n",
            "Epoch 48: val_loss did not improve from 0.29257\n",
            "\u001b[1m21/21\u001b[0m \u001b[32m━━━━━━━━━━━━━━━━━━━━\u001b[0m\u001b[37m\u001b[0m \u001b[1m0s\u001b[0m 14ms/step - accuracy: 0.9554 - auc_1: 0.8719 - loss: 0.2583 - precision_1: 0.8252 - recall_1: 0.5026 - val_accuracy: 0.9275 - val_auc_1: 0.8892 - val_loss: 0.3090 - val_precision_1: 1.0000 - val_recall_1: 0.4118 - learning_rate: 5.0000e-04\n",
            "Epoch 49/100\n",
            "\u001b[1m17/21\u001b[0m \u001b[32m━━━━━━━━━━━━━━━━\u001b[0m\u001b[37m━━━━\u001b[0m \u001b[1m0s\u001b[0m 10ms/step - accuracy: 0.9363 - auc_1: 0.9304 - loss: 0.2601 - precision_1: 0.7685 - recall_1: 0.4315\n",
            "Epoch 49: val_loss did not improve from 0.29257\n",
            "\u001b[1m21/21\u001b[0m \u001b[32m━━━━━━━━━━━━━━━━━━━━\u001b[0m\u001b[37m\u001b[0m \u001b[1m1s\u001b[0m 15ms/step - accuracy: 0.9376 - auc_1: 0.9217 - loss: 0.2621 - precision_1: 0.7740 - recall_1: 0.4320 - val_accuracy: 0.9348 - val_auc_1: 0.9016 - val_loss: 0.3128 - val_precision_1: 1.0000 - val_recall_1: 0.4706 - learning_rate: 2.5000e-04\n",
            "Epoch 50/100\n",
            "\u001b[1m18/21\u001b[0m \u001b[32m━━━━━━━━━━━━━━━━━\u001b[0m\u001b[37m━━━\u001b[0m \u001b[1m0s\u001b[0m 10ms/step - accuracy: 0.9685 - auc_1: 0.9030 - loss: 0.2116 - precision_1: 0.7748 - recall_1: 0.6381\n",
            "Epoch 50: val_loss improved from 0.29257 to 0.26834, saving model to best_model.h5\n"
          ]
        },
        {
          "output_type": "stream",
          "name": "stderr",
          "text": [
            "WARNING:absl:You are saving your model as an HDF5 file via `model.save()` or `keras.saving.save_model(model)`. This file format is considered legacy. We recommend using instead the native Keras format, e.g. `model.save('my_model.keras')` or `keras.saving.save_model(model, 'my_model.keras')`. \n"
          ]
        },
        {
          "output_type": "stream",
          "name": "stdout",
          "text": [
            "\b\b\b\b\b\b\b\b\b\b\b\b\b\b\b\b\b\b\b\b\b\b\b\b\b\b\b\b\b\b\b\b\b\b\b\b\b\b\b\b\b\b\b\b\b\b\b\b\b\b\b\b\b\b\b\b\b\b\b\b\b\b\b\b\b\b\b\b\b\b\b\b\b\b\b\b\b\b\b\b\b\b\b\b\b\b\b\b\b\b\b\b\b\b\b\b\b\b\b\b\b\b\b\b\b\b\b\b\b\b\b\b\b\b\b\b\b\b\b\b\b\b\b\b\b\b\b\b\b\b\r\u001b[1m21/21\u001b[0m \u001b[32m━━━━━━━━━━━━━━━━━━━━\u001b[0m\u001b[37m\u001b[0m \u001b[1m1s\u001b[0m 17ms/step - accuracy: 0.9658 - auc_1: 0.9075 - loss: 0.2167 - precision_1: 0.7813 - recall_1: 0.6261 - val_accuracy: 0.9420 - val_auc_1: 0.9463 - val_loss: 0.2683 - val_precision_1: 1.0000 - val_recall_1: 0.5294 - learning_rate: 2.5000e-04\n",
            "Epoch 51/100\n",
            "\u001b[1m18/21\u001b[0m \u001b[32m━━━━━━━━━━━━━━━━━\u001b[0m\u001b[37m━━━\u001b[0m \u001b[1m0s\u001b[0m 9ms/step - accuracy: 0.9722 - auc_1: 0.9702 - loss: 0.1990 - precision_1: 0.9983 - recall_1: 0.6999 \n",
            "Epoch 51: val_loss improved from 0.26834 to 0.25716, saving model to best_model.h5\n"
          ]
        },
        {
          "output_type": "stream",
          "name": "stderr",
          "text": [
            "WARNING:absl:You are saving your model as an HDF5 file via `model.save()` or `keras.saving.save_model(model)`. This file format is considered legacy. We recommend using instead the native Keras format, e.g. `model.save('my_model.keras')` or `keras.saving.save_model(model, 'my_model.keras')`. \n"
          ]
        },
        {
          "output_type": "stream",
          "name": "stdout",
          "text": [
            "\b\b\b\b\b\b\b\b\b\b\b\b\b\b\b\b\b\b\b\b\b\b\b\b\b\b\b\b\b\b\b\b\b\b\b\b\b\b\b\b\b\b\b\b\b\b\b\b\b\b\b\b\b\b\b\b\b\b\b\b\b\b\b\b\b\b\b\b\b\b\b\b\b\b\b\b\b\b\b\b\b\b\b\b\b\b\b\b\b\b\b\b\b\b\b\b\b\b\b\b\b\b\b\b\b\b\b\b\b\b\b\b\b\b\b\b\b\b\b\b\b\b\b\b\b\b\b\b\b\r\u001b[1m21/21\u001b[0m \u001b[32m━━━━━━━━━━━━━━━━━━━━\u001b[0m\u001b[37m\u001b[0m \u001b[1m1s\u001b[0m 17ms/step - accuracy: 0.9709 - auc_1: 0.9680 - loss: 0.2012 - precision_1: 0.9933 - recall_1: 0.6844 - val_accuracy: 0.9420 - val_auc_1: 0.9426 - val_loss: 0.2572 - val_precision_1: 1.0000 - val_recall_1: 0.5294 - learning_rate: 2.5000e-04\n",
            "Epoch 52/100\n",
            "\u001b[1m18/21\u001b[0m \u001b[32m━━━━━━━━━━━━━━━━━\u001b[0m\u001b[37m━━━\u001b[0m \u001b[1m0s\u001b[0m 10ms/step - accuracy: 0.9557 - auc_1: 0.9434 - loss: 0.2279 - precision_1: 0.7901 - recall_1: 0.6255\n",
            "Epoch 52: val_loss did not improve from 0.25716\n",
            "\u001b[1m21/21\u001b[0m \u001b[32m━━━━━━━━━━━━━━━━━━━━\u001b[0m\u001b[37m\u001b[0m \u001b[1m1s\u001b[0m 15ms/step - accuracy: 0.9555 - auc_1: 0.9383 - loss: 0.2302 - precision_1: 0.7983 - recall_1: 0.6154 - val_accuracy: 0.9275 - val_auc_1: 0.9378 - val_loss: 0.2989 - val_precision_1: 1.0000 - val_recall_1: 0.4118 - learning_rate: 2.5000e-04\n",
            "Epoch 53/100\n",
            "\u001b[1m19/21\u001b[0m \u001b[32m━━━━━━━━━━━━━━━━━━\u001b[0m\u001b[37m━━\u001b[0m \u001b[1m0s\u001b[0m 9ms/step - accuracy: 0.9656 - auc_1: 0.9459 - loss: 0.2113 - precision_1: 0.9388 - recall_1: 0.6416\n",
            "Epoch 53: val_loss did not improve from 0.25716\n",
            "\u001b[1m21/21\u001b[0m \u001b[32m━━━━━━━━━━━━━━━━━━━━\u001b[0m\u001b[37m\u001b[0m \u001b[1m1s\u001b[0m 14ms/step - accuracy: 0.9657 - auc_1: 0.9462 - loss: 0.2117 - precision_1: 0.9397 - recall_1: 0.6415 - val_accuracy: 0.9420 - val_auc_1: 0.9490 - val_loss: 0.2706 - val_precision_1: 1.0000 - val_recall_1: 0.5294 - learning_rate: 2.5000e-04\n",
            "Epoch 54/100\n",
            "\u001b[1m16/21\u001b[0m \u001b[32m━━━━━━━━━━━━━━━\u001b[0m\u001b[37m━━━━━\u001b[0m \u001b[1m0s\u001b[0m 16ms/step - accuracy: 0.9494 - auc_1: 0.9642 - loss: 0.2289 - precision_1: 0.9148 - recall_1: 0.6051\n",
            "Epoch 54: val_loss did not improve from 0.25716\n",
            "\u001b[1m21/21\u001b[0m \u001b[32m━━━━━━━━━━━━━━━━━━━━\u001b[0m\u001b[37m\u001b[0m \u001b[1m1s\u001b[0m 20ms/step - accuracy: 0.9507 - auc_1: 0.9628 - loss: 0.2259 - precision_1: 0.8855 - recall_1: 0.6090 - val_accuracy: 0.9275 - val_auc_1: 0.9453 - val_loss: 0.3060 - val_precision_1: 1.0000 - val_recall_1: 0.4118 - learning_rate: 2.5000e-04\n",
            "Epoch 55/100\n",
            "\u001b[1m21/21\u001b[0m \u001b[32m━━━━━━━━━━━━━━━━━━━━\u001b[0m\u001b[37m\u001b[0m \u001b[1m0s\u001b[0m 26ms/step - accuracy: 0.9378 - auc_1: 0.9358 - loss: 0.2442 - precision_1: 0.8472 - recall_1: 0.4628\n",
            "Epoch 55: val_loss did not improve from 0.25716\n",
            "\u001b[1m21/21\u001b[0m \u001b[32m━━━━━━━━━━━━━━━━━━━━\u001b[0m\u001b[37m\u001b[0m \u001b[1m1s\u001b[0m 42ms/step - accuracy: 0.9383 - auc_1: 0.9352 - loss: 0.2437 - precision_1: 0.8453 - recall_1: 0.4657 - val_accuracy: 0.9275 - val_auc_1: 0.9013 - val_loss: 0.3132 - val_precision_1: 1.0000 - val_recall_1: 0.4118 - learning_rate: 2.5000e-04\n",
            "Epoch 56/100\n",
            "\u001b[1m21/21\u001b[0m \u001b[32m━━━━━━━━━━━━━━━━━━━━\u001b[0m\u001b[37m\u001b[0m \u001b[1m0s\u001b[0m 14ms/step - accuracy: 0.9724 - auc_1: 0.9134 - loss: 0.2034 - precision_1: 0.9280 - recall_1: 0.5665\n",
            "Epoch 56: val_loss improved from 0.25716 to 0.24711, saving model to best_model.h5\n"
          ]
        },
        {
          "output_type": "stream",
          "name": "stderr",
          "text": [
            "WARNING:absl:You are saving your model as an HDF5 file via `model.save()` or `keras.saving.save_model(model)`. This file format is considered legacy. We recommend using instead the native Keras format, e.g. `model.save('my_model.keras')` or `keras.saving.save_model(model, 'my_model.keras')`. \n"
          ]
        },
        {
          "output_type": "stream",
          "name": "stdout",
          "text": [
            "\b\b\b\b\b\b\b\b\b\b\b\b\b\b\b\b\b\b\b\b\b\b\b\b\b\b\b\b\b\b\b\b\b\b\b\b\b\b\b\b\b\b\b\b\b\b\b\b\b\b\b\b\b\b\b\b\b\b\b\b\b\b\b\b\b\b\b\b\b\b\b\b\b\b\b\b\b\b\b\b\b\b\b\b\b\b\b\b\b\b\b\b\b\b\b\b\b\b\b\b\b\b\b\b\b\b\b\b\b\b\b\b\b\b\b\b\b\b\b\b\b\b\b\b\b\b\b\b\b\b\r\u001b[1m21/21\u001b[0m \u001b[32m━━━━━━━━━━━━━━━━━━━━\u001b[0m\u001b[37m\u001b[0m \u001b[1m1s\u001b[0m 24ms/step - accuracy: 0.9721 - auc_1: 0.9157 - loss: 0.2037 - precision_1: 0.9277 - recall_1: 0.5705 - val_accuracy: 0.9493 - val_auc_1: 0.9412 - val_loss: 0.2471 - val_precision_1: 1.0000 - val_recall_1: 0.5882 - learning_rate: 2.5000e-04\n",
            "Epoch 57/100\n",
            "\u001b[1m20/21\u001b[0m \u001b[32m━━━━━━━━━━━━━━━━━━━\u001b[0m\u001b[37m━\u001b[0m \u001b[1m0s\u001b[0m 15ms/step - accuracy: 0.9659 - auc_1: 0.8866 - loss: 0.2300 - precision_1: 0.8290 - recall_1: 0.6248\n",
            "Epoch 57: val_loss did not improve from 0.24711\n",
            "\u001b[1m21/21\u001b[0m \u001b[32m━━━━━━━━━━━━━━━━━━━━\u001b[0m\u001b[37m\u001b[0m \u001b[1m0s\u001b[0m 21ms/step - accuracy: 0.9656 - auc_1: 0.8925 - loss: 0.2287 - precision_1: 0.8394 - recall_1: 0.6225 - val_accuracy: 0.9493 - val_auc_1: 0.9332 - val_loss: 0.2673 - val_precision_1: 1.0000 - val_recall_1: 0.5882 - learning_rate: 2.5000e-04\n",
            "Epoch 58/100\n",
            "\u001b[1m19/21\u001b[0m \u001b[32m━━━━━━━━━━━━━━━━━━\u001b[0m\u001b[37m━━\u001b[0m \u001b[1m0s\u001b[0m 9ms/step - accuracy: 0.9605 - auc_1: 0.8353 - loss: 0.2176 - precision_1: 0.7067 - recall_1: 0.5022\n",
            "Epoch 58: val_loss did not improve from 0.24711\n",
            "\u001b[1m21/21\u001b[0m \u001b[32m━━━━━━━━━━━━━━━━━━━━\u001b[0m\u001b[37m\u001b[0m \u001b[1m0s\u001b[0m 13ms/step - accuracy: 0.9600 - auc_1: 0.8516 - loss: 0.2168 - precision_1: 0.7283 - recall_1: 0.5136 - val_accuracy: 0.9420 - val_auc_1: 0.9353 - val_loss: 0.2556 - val_precision_1: 1.0000 - val_recall_1: 0.5294 - learning_rate: 2.5000e-04\n",
            "Epoch 59/100\n",
            "\u001b[1m19/21\u001b[0m \u001b[32m━━━━━━━━━━━━━━━━━━\u001b[0m\u001b[37m━━\u001b[0m \u001b[1m0s\u001b[0m 9ms/step - accuracy: 0.9617 - auc_1: 0.9460 - loss: 0.2208 - precision_1: 0.9028 - recall_1: 0.7096\n",
            "Epoch 59: val_loss did not improve from 0.24711\n",
            "\u001b[1m21/21\u001b[0m \u001b[32m━━━━━━━━━━━━━━━━━━━━\u001b[0m\u001b[37m\u001b[0m \u001b[1m0s\u001b[0m 14ms/step - accuracy: 0.9620 - auc_1: 0.9450 - loss: 0.2197 - precision_1: 0.8953 - recall_1: 0.7096 - val_accuracy: 0.9348 - val_auc_1: 0.9220 - val_loss: 0.3056 - val_precision_1: 0.9000 - val_recall_1: 0.5294 - learning_rate: 2.5000e-04\n",
            "Epoch 60/100\n",
            "\u001b[1m19/21\u001b[0m \u001b[32m━━━━━━━━━━━━━━━━━━\u001b[0m\u001b[37m━━\u001b[0m \u001b[1m0s\u001b[0m 9ms/step - accuracy: 0.9642 - auc_1: 0.9411 - loss: 0.2135 - precision_1: 0.9695 - recall_1: 0.6550\n",
            "Epoch 60: val_loss improved from 0.24711 to 0.24346, saving model to best_model.h5\n"
          ]
        },
        {
          "output_type": "stream",
          "name": "stderr",
          "text": [
            "WARNING:absl:You are saving your model as an HDF5 file via `model.save()` or `keras.saving.save_model(model)`. This file format is considered legacy. We recommend using instead the native Keras format, e.g. `model.save('my_model.keras')` or `keras.saving.save_model(model, 'my_model.keras')`. \n"
          ]
        },
        {
          "output_type": "stream",
          "name": "stdout",
          "text": [
            "\b\b\b\b\b\b\b\b\b\b\b\b\b\b\b\b\b\b\b\b\b\b\b\b\b\b\b\b\b\b\b\b\b\b\b\b\b\b\b\b\b\b\b\b\b\b\b\b\b\b\b\b\b\b\b\b\b\b\b\b\b\b\b\b\b\b\b\b\b\b\b\b\b\b\b\b\b\b\b\b\b\b\b\b\b\b\b\b\b\b\b\b\b\b\b\b\b\b\b\b\b\b\b\b\b\b\b\b\b\b\b\b\b\b\b\b\b\b\b\b\b\b\b\b\b\b\b\b\b\r\u001b[1m21/21\u001b[0m \u001b[32m━━━━━━━━━━━━━━━━━━━━\u001b[0m\u001b[37m\u001b[0m \u001b[1m1s\u001b[0m 16ms/step - accuracy: 0.9646 - auc_1: 0.9429 - loss: 0.2118 - precision_1: 0.9665 - recall_1: 0.6549 - val_accuracy: 0.9493 - val_auc_1: 0.9290 - val_loss: 0.2435 - val_precision_1: 1.0000 - val_recall_1: 0.5882 - learning_rate: 2.5000e-04\n",
            "Epoch 61/100\n",
            "\u001b[1m18/21\u001b[0m \u001b[32m━━━━━━━━━━━━━━━━━\u001b[0m\u001b[37m━━━\u001b[0m \u001b[1m0s\u001b[0m 10ms/step - accuracy: 0.9527 - auc_1: 0.9033 - loss: 0.2444 - precision_1: 0.9582 - recall_1: 0.5442\n",
            "Epoch 61: val_loss did not improve from 0.24346\n",
            "\u001b[1m21/21\u001b[0m \u001b[32m━━━━━━━━━━━━━━━━━━━━\u001b[0m\u001b[37m\u001b[0m \u001b[1m1s\u001b[0m 14ms/step - accuracy: 0.9532 - auc_1: 0.9121 - loss: 0.2375 - precision_1: 0.9443 - recall_1: 0.5455 - val_accuracy: 0.9565 - val_auc_1: 0.9225 - val_loss: 0.2452 - val_precision_1: 1.0000 - val_recall_1: 0.6471 - learning_rate: 2.5000e-04\n",
            "Epoch 62/100\n",
            "\u001b[1m19/21\u001b[0m \u001b[32m━━━━━━━━━━━━━━━━━━\u001b[0m\u001b[37m━━\u001b[0m \u001b[1m0s\u001b[0m 9ms/step - accuracy: 0.9625 - auc_1: 0.8925 - loss: 0.2296 - precision_1: 0.8015 - recall_1: 0.5916\n",
            "Epoch 62: val_loss did not improve from 0.24346\n",
            "\u001b[1m21/21\u001b[0m \u001b[32m━━━━━━━━━━━━━━━━━━━━\u001b[0m\u001b[37m\u001b[0m \u001b[1m0s\u001b[0m 15ms/step - accuracy: 0.9614 - auc_1: 0.8985 - loss: 0.2302 - precision_1: 0.8026 - recall_1: 0.5952 - val_accuracy: 0.9565 - val_auc_1: 0.9198 - val_loss: 0.2499 - val_precision_1: 1.0000 - val_recall_1: 0.6471 - learning_rate: 2.5000e-04\n",
            "Epoch 63/100\n",
            "\u001b[1m19/21\u001b[0m \u001b[32m━━━━━━━━━━━━━━━━━━\u001b[0m\u001b[37m━━\u001b[0m \u001b[1m0s\u001b[0m 9ms/step - accuracy: 0.9540 - auc_1: 0.9654 - loss: 0.2097 - precision_1: 0.9065 - recall_1: 0.6060\n",
            "Epoch 63: val_loss did not improve from 0.24346\n",
            "\u001b[1m21/21\u001b[0m \u001b[32m━━━━━━━━━━━━━━━━━━━━\u001b[0m\u001b[37m\u001b[0m \u001b[1m0s\u001b[0m 13ms/step - accuracy: 0.9552 - auc_1: 0.9635 - loss: 0.2097 - precision_1: 0.9082 - recall_1: 0.6077 - val_accuracy: 0.9493 - val_auc_1: 0.9098 - val_loss: 0.2837 - val_precision_1: 1.0000 - val_recall_1: 0.5882 - learning_rate: 2.5000e-04\n",
            "Epoch 64/100\n",
            "\u001b[1m19/21\u001b[0m \u001b[32m━━━━━━━━━━━━━━━━━━\u001b[0m\u001b[37m━━\u001b[0m \u001b[1m0s\u001b[0m 9ms/step - accuracy: 0.9587 - auc_1: 0.9419 - loss: 0.2150 - precision_1: 0.9073 - recall_1: 0.6397\n",
            "Epoch 64: val_loss improved from 0.24346 to 0.23444, saving model to best_model.h5\n"
          ]
        },
        {
          "output_type": "stream",
          "name": "stderr",
          "text": [
            "WARNING:absl:You are saving your model as an HDF5 file via `model.save()` or `keras.saving.save_model(model)`. This file format is considered legacy. We recommend using instead the native Keras format, e.g. `model.save('my_model.keras')` or `keras.saving.save_model(model, 'my_model.keras')`. \n"
          ]
        },
        {
          "output_type": "stream",
          "name": "stdout",
          "text": [
            "\b\b\b\b\b\b\b\b\b\b\b\b\b\b\b\b\b\b\b\b\b\b\b\b\b\b\b\b\b\b\b\b\b\b\b\b\b\b\b\b\b\b\b\b\b\b\b\b\b\b\b\b\b\b\b\b\b\b\b\b\b\b\b\b\b\b\b\b\b\b\b\b\b\b\b\b\b\b\b\b\b\b\b\b\b\b\b\b\b\b\b\b\b\b\b\b\b\b\b\b\b\b\b\b\b\b\b\b\b\b\b\b\b\b\b\b\b\b\b\b\b\b\b\b\b\b\b\b\b\r\u001b[1m21/21\u001b[0m \u001b[32m━━━━━━━━━━━━━━━━━━━━\u001b[0m\u001b[37m\u001b[0m \u001b[1m1s\u001b[0m 18ms/step - accuracy: 0.9582 - auc_1: 0.9365 - loss: 0.2184 - precision_1: 0.9072 - recall_1: 0.6243 - val_accuracy: 0.9638 - val_auc_1: 0.9161 - val_loss: 0.2344 - val_precision_1: 1.0000 - val_recall_1: 0.7059 - learning_rate: 2.5000e-04\n",
            "Epoch 65/100\n",
            "\u001b[1m19/21\u001b[0m \u001b[32m━━━━━━━━━━━━━━━━━━\u001b[0m\u001b[37m━━\u001b[0m \u001b[1m0s\u001b[0m 9ms/step - accuracy: 0.9675 - auc_1: 0.9505 - loss: 0.1970 - precision_1: 0.7353 - recall_1: 0.7318\n",
            "Epoch 65: val_loss did not improve from 0.23444\n",
            "\u001b[1m21/21\u001b[0m \u001b[32m━━━━━━━━━━━━━━━━━━━━\u001b[0m\u001b[37m\u001b[0m \u001b[1m0s\u001b[0m 13ms/step - accuracy: 0.9673 - auc_1: 0.9522 - loss: 0.1973 - precision_1: 0.7490 - recall_1: 0.7335 - val_accuracy: 0.9565 - val_auc_1: 0.9256 - val_loss: 0.2475 - val_precision_1: 1.0000 - val_recall_1: 0.6471 - learning_rate: 2.5000e-04\n",
            "Epoch 66/100\n",
            "\u001b[1m17/21\u001b[0m \u001b[32m━━━━━━━━━━━━━━━━\u001b[0m\u001b[37m━━━━\u001b[0m \u001b[1m0s\u001b[0m 10ms/step - accuracy: 0.9766 - auc_1: 0.9519 - loss: 0.1880 - precision_1: 0.9867 - recall_1: 0.7460\n",
            "Epoch 66: val_loss improved from 0.23444 to 0.23211, saving model to best_model.h5\n"
          ]
        },
        {
          "output_type": "stream",
          "name": "stderr",
          "text": [
            "WARNING:absl:You are saving your model as an HDF5 file via `model.save()` or `keras.saving.save_model(model)`. This file format is considered legacy. We recommend using instead the native Keras format, e.g. `model.save('my_model.keras')` or `keras.saving.save_model(model, 'my_model.keras')`. \n"
          ]
        },
        {
          "output_type": "stream",
          "name": "stdout",
          "text": [
            "\b\b\b\b\b\b\b\b\b\b\b\b\b\b\b\b\b\b\b\b\b\b\b\b\b\b\b\b\b\b\b\b\b\b\b\b\b\b\b\b\b\b\b\b\b\b\b\b\b\b\b\b\b\b\b\b\b\b\b\b\b\b\b\b\b\b\b\b\b\b\b\b\b\b\b\b\b\b\b\b\b\b\b\b\b\b\b\b\b\b\b\b\b\b\b\b\b\b\b\b\b\b\b\b\b\b\b\b\b\b\b\b\b\b\b\b\b\b\b\b\b\b\b\b\b\b\b\b\b\b\r\u001b[1m21/21\u001b[0m \u001b[32m━━━━━━━━━━━━━━━━━━━━\u001b[0m\u001b[37m\u001b[0m \u001b[1m0s\u001b[0m 18ms/step - accuracy: 0.9768 - auc_1: 0.9563 - loss: 0.1879 - precision_1: 0.9789 - recall_1: 0.7516 - val_accuracy: 0.9710 - val_auc_1: 0.9195 - val_loss: 0.2321 - val_precision_1: 1.0000 - val_recall_1: 0.7647 - learning_rate: 2.5000e-04\n",
            "Epoch 67/100\n",
            "\u001b[1m18/21\u001b[0m \u001b[32m━━━━━━━━━━━━━━━━━\u001b[0m\u001b[37m━━━\u001b[0m \u001b[1m0s\u001b[0m 9ms/step - accuracy: 0.9572 - auc_1: 0.9785 - loss: 0.1977 - precision_1: 0.8284 - recall_1: 0.6966\n",
            "Epoch 67: val_loss improved from 0.23211 to 0.23058, saving model to best_model.h5\n"
          ]
        },
        {
          "output_type": "stream",
          "name": "stderr",
          "text": [
            "WARNING:absl:You are saving your model as an HDF5 file via `model.save()` or `keras.saving.save_model(model)`. This file format is considered legacy. We recommend using instead the native Keras format, e.g. `model.save('my_model.keras')` or `keras.saving.save_model(model, 'my_model.keras')`. \n"
          ]
        },
        {
          "output_type": "stream",
          "name": "stdout",
          "text": [
            "\b\b\b\b\b\b\b\b\b\b\b\b\b\b\b\b\b\b\b\b\b\b\b\b\b\b\b\b\b\b\b\b\b\b\b\b\b\b\b\b\b\b\b\b\b\b\b\b\b\b\b\b\b\b\b\b\b\b\b\b\b\b\b\b\b\b\b\b\b\b\b\b\b\b\b\b\b\b\b\b\b\b\b\b\b\b\b\b\b\b\b\b\b\b\b\b\b\b\b\b\b\b\b\b\b\b\b\b\b\b\b\b\b\b\b\b\b\b\b\b\b\b\b\b\b\b\b\b\b\r\u001b[1m21/21\u001b[0m \u001b[32m━━━━━━━━━━━━━━━━━━━━\u001b[0m\u001b[37m\u001b[0m \u001b[1m0s\u001b[0m 17ms/step - accuracy: 0.9590 - auc_1: 0.9767 - loss: 0.1966 - precision_1: 0.8359 - recall_1: 0.7022 - val_accuracy: 0.9565 - val_auc_1: 0.9341 - val_loss: 0.2306 - val_precision_1: 1.0000 - val_recall_1: 0.6471 - learning_rate: 2.5000e-04\n",
            "Epoch 68/100\n",
            "\u001b[1m17/21\u001b[0m \u001b[32m━━━━━━━━━━━━━━━━\u001b[0m\u001b[37m━━━━\u001b[0m \u001b[1m0s\u001b[0m 10ms/step - accuracy: 0.9784 - auc_1: 0.9603 - loss: 0.1784 - precision_1: 0.9357 - recall_1: 0.7340\n",
            "Epoch 68: val_loss improved from 0.23058 to 0.21467, saving model to best_model.h5\n"
          ]
        },
        {
          "output_type": "stream",
          "name": "stderr",
          "text": [
            "WARNING:absl:You are saving your model as an HDF5 file via `model.save()` or `keras.saving.save_model(model)`. This file format is considered legacy. We recommend using instead the native Keras format, e.g. `model.save('my_model.keras')` or `keras.saving.save_model(model, 'my_model.keras')`. \n"
          ]
        },
        {
          "output_type": "stream",
          "name": "stdout",
          "text": [
            "\b\b\b\b\b\b\b\b\b\b\b\b\b\b\b\b\b\b\b\b\b\b\b\b\b\b\b\b\b\b\b\b\b\b\b\b\b\b\b\b\b\b\b\b\b\b\b\b\b\b\b\b\b\b\b\b\b\b\b\b\b\b\b\b\b\b\b\b\b\b\b\b\b\b\b\b\b\b\b\b\b\b\b\b\b\b\b\b\b\b\b\b\b\b\b\b\b\b\b\b\b\b\b\b\b\b\b\b\b\b\b\b\b\b\b\b\b\b\b\b\b\b\b\b\b\b\b\b\b\b\r\u001b[1m21/21\u001b[0m \u001b[32m━━━━━━━━━━━━━━━━━━━━\u001b[0m\u001b[37m\u001b[0m \u001b[1m1s\u001b[0m 17ms/step - accuracy: 0.9774 - auc_1: 0.9650 - loss: 0.1776 - precision_1: 0.9339 - recall_1: 0.7362 - val_accuracy: 0.9638 - val_auc_1: 0.9332 - val_loss: 0.2147 - val_precision_1: 1.0000 - val_recall_1: 0.7059 - learning_rate: 2.5000e-04\n",
            "Epoch 69/100\n",
            "\u001b[1m19/21\u001b[0m \u001b[32m━━━━━━━━━━━━━━━━━━\u001b[0m\u001b[37m━━\u001b[0m \u001b[1m0s\u001b[0m 9ms/step - accuracy: 0.9576 - auc_1: 0.9484 - loss: 0.2054 - precision_1: 0.7801 - recall_1: 0.5510\n",
            "Epoch 69: val_loss did not improve from 0.21467\n",
            "\u001b[1m21/21\u001b[0m \u001b[32m━━━━━━━━━━━━━━━━━━━━\u001b[0m\u001b[37m\u001b[0m \u001b[1m0s\u001b[0m 15ms/step - accuracy: 0.9583 - auc_1: 0.9483 - loss: 0.2048 - precision_1: 0.7961 - recall_1: 0.5627 - val_accuracy: 0.9565 - val_auc_1: 0.9327 - val_loss: 0.2180 - val_precision_1: 1.0000 - val_recall_1: 0.6471 - learning_rate: 2.5000e-04\n",
            "Epoch 70/100\n",
            "\u001b[1m18/21\u001b[0m \u001b[32m━━━━━━━━━━━━━━━━━\u001b[0m\u001b[37m━━━\u001b[0m \u001b[1m0s\u001b[0m 10ms/step - accuracy: 0.9716 - auc_1: 0.9756 - loss: 0.1890 - precision_1: 0.9611 - recall_1: 0.6915\n",
            "Epoch 70: val_loss did not improve from 0.21467\n",
            "\u001b[1m21/21\u001b[0m \u001b[32m━━━━━━━━━━━━━━━━━━━━\u001b[0m\u001b[37m\u001b[0m \u001b[1m0s\u001b[0m 15ms/step - accuracy: 0.9714 - auc_1: 0.9759 - loss: 0.1880 - precision_1: 0.9588 - recall_1: 0.6909 - val_accuracy: 0.9565 - val_auc_1: 0.9412 - val_loss: 0.2419 - val_precision_1: 1.0000 - val_recall_1: 0.6471 - learning_rate: 2.5000e-04\n",
            "Epoch 71/100\n",
            "\u001b[1m19/21\u001b[0m \u001b[32m━━━━━━━━━━━━━━━━━━\u001b[0m\u001b[37m━━\u001b[0m \u001b[1m0s\u001b[0m 9ms/step - accuracy: 0.9692 - auc_1: 0.9757 - loss: 0.1807 - precision_1: 0.8560 - recall_1: 0.6930\n",
            "Epoch 71: val_loss did not improve from 0.21467\n",
            "\u001b[1m21/21\u001b[0m \u001b[32m━━━━━━━━━━━━━━━━━━━━\u001b[0m\u001b[37m\u001b[0m \u001b[1m1s\u001b[0m 14ms/step - accuracy: 0.9677 - auc_1: 0.9723 - loss: 0.1844 - precision_1: 0.8552 - recall_1: 0.6828 - val_accuracy: 0.9565 - val_auc_1: 0.9302 - val_loss: 0.2218 - val_precision_1: 1.0000 - val_recall_1: 0.6471 - learning_rate: 2.5000e-04\n",
            "Epoch 72/100\n",
            "\u001b[1m19/21\u001b[0m \u001b[32m━━━━━━━━━━━━━━━━━━\u001b[0m\u001b[37m━━\u001b[0m \u001b[1m0s\u001b[0m 9ms/step - accuracy: 0.9692 - auc_1: 0.9601 - loss: 0.1902 - precision_1: 0.9256 - recall_1: 0.7197\n",
            "Epoch 72: val_loss did not improve from 0.21467\n",
            "\u001b[1m21/21\u001b[0m \u001b[32m━━━━━━━━━━━━━━━━━━━━\u001b[0m\u001b[37m\u001b[0m \u001b[1m0s\u001b[0m 14ms/step - accuracy: 0.9687 - auc_1: 0.9618 - loss: 0.1898 - precision_1: 0.9199 - recall_1: 0.7157 - val_accuracy: 0.9565 - val_auc_1: 0.9254 - val_loss: 0.2152 - val_precision_1: 1.0000 - val_recall_1: 0.6471 - learning_rate: 2.5000e-04\n",
            "Epoch 73/100\n",
            "\u001b[1m17/21\u001b[0m \u001b[32m━━━━━━━━━━━━━━━━\u001b[0m\u001b[37m━━━━\u001b[0m \u001b[1m0s\u001b[0m 10ms/step - accuracy: 0.9708 - auc_1: 0.9797 - loss: 0.1828 - precision_1: 0.9128 - recall_1: 0.7334\n",
            "Epoch 73: ReduceLROnPlateau reducing learning rate to 0.0001250000059371814.\n",
            "\n",
            "Epoch 73: val_loss did not improve from 0.21467\n",
            "\u001b[1m21/21\u001b[0m \u001b[32m━━━━━━━━━━━━━━━━━━━━\u001b[0m\u001b[37m\u001b[0m \u001b[1m0s\u001b[0m 15ms/step - accuracy: 0.9701 - auc_1: 0.9783 - loss: 0.1837 - precision_1: 0.9107 - recall_1: 0.7251 - val_accuracy: 0.9565 - val_auc_1: 0.9480 - val_loss: 0.2218 - val_precision_1: 1.0000 - val_recall_1: 0.6471 - learning_rate: 2.5000e-04\n",
            "Epoch 74/100\n",
            "\u001b[1m18/21\u001b[0m \u001b[32m━━━━━━━━━━━━━━━━━\u001b[0m\u001b[37m━━━\u001b[0m \u001b[1m0s\u001b[0m 10ms/step - accuracy: 0.9715 - auc_1: 0.9218 - loss: 0.1741 - precision_1: 0.8690 - recall_1: 0.5575\n",
            "Epoch 74: val_loss improved from 0.21467 to 0.21445, saving model to best_model.h5\n"
          ]
        },
        {
          "output_type": "stream",
          "name": "stderr",
          "text": [
            "WARNING:absl:You are saving your model as an HDF5 file via `model.save()` or `keras.saving.save_model(model)`. This file format is considered legacy. We recommend using instead the native Keras format, e.g. `model.save('my_model.keras')` or `keras.saving.save_model(model, 'my_model.keras')`. \n"
          ]
        },
        {
          "output_type": "stream",
          "name": "stdout",
          "text": [
            "\b\b\b\b\b\b\b\b\b\b\b\b\b\b\b\b\b\b\b\b\b\b\b\b\b\b\b\b\b\b\b\b\b\b\b\b\b\b\b\b\b\b\b\b\b\b\b\b\b\b\b\b\b\b\b\b\b\b\b\b\b\b\b\b\b\b\b\b\b\b\b\b\b\b\b\b\b\b\b\b\b\b\b\b\b\b\b\b\b\b\b\b\b\b\b\b\b\b\b\b\b\b\b\b\b\b\b\b\b\b\b\b\b\b\b\b\b\b\b\b\b\b\b\b\b\b\b\b\b\b\r\u001b[1m21/21\u001b[0m \u001b[32m━━━━━━━━━━━━━━━━━━━━\u001b[0m\u001b[37m\u001b[0m \u001b[1m0s\u001b[0m 18ms/step - accuracy: 0.9718 - auc_1: 0.9325 - loss: 0.1734 - precision_1: 0.8882 - recall_1: 0.5846 - val_accuracy: 0.9638 - val_auc_1: 0.9528 - val_loss: 0.2144 - val_precision_1: 1.0000 - val_recall_1: 0.7059 - learning_rate: 1.2500e-04\n",
            "Epoch 75/100\n",
            "\u001b[1m19/21\u001b[0m \u001b[32m━━━━━━━━━━━━━━━━━━\u001b[0m\u001b[37m━━\u001b[0m \u001b[1m0s\u001b[0m 9ms/step - accuracy: 0.9756 - auc_1: 0.9824 - loss: 0.1735 - precision_1: 0.9344 - recall_1: 0.7455\n",
            "Epoch 75: val_loss improved from 0.21445 to 0.20903, saving model to best_model.h5\n"
          ]
        },
        {
          "output_type": "stream",
          "name": "stderr",
          "text": [
            "WARNING:absl:You are saving your model as an HDF5 file via `model.save()` or `keras.saving.save_model(model)`. This file format is considered legacy. We recommend using instead the native Keras format, e.g. `model.save('my_model.keras')` or `keras.saving.save_model(model, 'my_model.keras')`. \n"
          ]
        },
        {
          "output_type": "stream",
          "name": "stdout",
          "text": [
            "\b\b\b\b\b\b\b\b\b\b\b\b\b\b\b\b\b\b\b\b\b\b\b\b\b\b\b\b\b\b\b\b\b\b\b\b\b\b\b\b\b\b\b\b\b\b\b\b\b\b\b\b\b\b\b\b\b\b\b\b\b\b\b\b\b\b\b\b\b\b\b\b\b\b\b\b\b\b\b\b\b\b\b\b\b\b\b\b\b\b\b\b\b\b\b\b\b\b\b\b\b\b\b\b\b\b\b\b\b\b\b\b\b\b\b\b\b\b\b\b\b\b\b\b\b\b\b\b\b\r\u001b[1m21/21\u001b[0m \u001b[32m━━━━━━━━━━━━━━━━━━━━\u001b[0m\u001b[37m\u001b[0m \u001b[1m0s\u001b[0m 17ms/step - accuracy: 0.9745 - auc_1: 0.9818 - loss: 0.1756 - precision_1: 0.9303 - recall_1: 0.7380 - val_accuracy: 0.9638 - val_auc_1: 0.9541 - val_loss: 0.2090 - val_precision_1: 1.0000 - val_recall_1: 0.7059 - learning_rate: 1.2500e-04\n",
            "Epoch 76/100\n",
            "\u001b[1m18/21\u001b[0m \u001b[32m━━━━━━━━━━━━━━━━━\u001b[0m\u001b[37m━━━\u001b[0m \u001b[1m0s\u001b[0m 10ms/step - accuracy: 0.9790 - auc_1: 0.9924 - loss: 0.1511 - precision_1: 1.0000 - recall_1: 0.7570\n",
            "Epoch 76: val_loss improved from 0.20903 to 0.20540, saving model to best_model.h5\n"
          ]
        },
        {
          "output_type": "stream",
          "name": "stderr",
          "text": [
            "WARNING:absl:You are saving your model as an HDF5 file via `model.save()` or `keras.saving.save_model(model)`. This file format is considered legacy. We recommend using instead the native Keras format, e.g. `model.save('my_model.keras')` or `keras.saving.save_model(model, 'my_model.keras')`. \n"
          ]
        },
        {
          "output_type": "stream",
          "name": "stdout",
          "text": [
            "\b\b\b\b\b\b\b\b\b\b\b\b\b\b\b\b\b\b\b\b\b\b\b\b\b\b\b\b\b\b\b\b\b\b\b\b\b\b\b\b\b\b\b\b\b\b\b\b\b\b\b\b\b\b\b\b\b\b\b\b\b\b\b\b\b\b\b\b\b\b\b\b\b\b\b\b\b\b\b\b\b\b\b\b\b\b\b\b\b\b\b\b\b\b\b\b\b\b\b\b\b\b\b\b\b\b\b\b\b\b\b\b\b\b\b\b\b\b\b\b\b\b\b\b\b\b\b\b\b\b\r\u001b[1m21/21\u001b[0m \u001b[32m━━━━━━━━━━━━━━━━━━━━\u001b[0m\u001b[37m\u001b[0m \u001b[1m0s\u001b[0m 17ms/step - accuracy: 0.9782 - auc_1: 0.9910 - loss: 0.1538 - precision_1: 0.9955 - recall_1: 0.7514 - val_accuracy: 0.9638 - val_auc_1: 0.9409 - val_loss: 0.2054 - val_precision_1: 1.0000 - val_recall_1: 0.7059 - learning_rate: 1.2500e-04\n",
            "Epoch 77/100\n",
            "\u001b[1m19/21\u001b[0m \u001b[32m━━━━━━━━━━━━━━━━━━\u001b[0m\u001b[37m━━\u001b[0m \u001b[1m0s\u001b[0m 9ms/step - accuracy: 0.9804 - auc_1: 0.9784 - loss: 0.1718 - precision_1: 0.9507 - recall_1: 0.8024\n",
            "Epoch 77: val_loss did not improve from 0.20540\n",
            "\u001b[1m21/21\u001b[0m \u001b[32m━━━━━━━━━━━━━━━━━━━━\u001b[0m\u001b[37m\u001b[0m \u001b[1m1s\u001b[0m 14ms/step - accuracy: 0.9789 - auc_1: 0.9787 - loss: 0.1729 - precision_1: 0.9423 - recall_1: 0.7928 - val_accuracy: 0.9565 - val_auc_1: 0.9373 - val_loss: 0.2349 - val_precision_1: 1.0000 - val_recall_1: 0.6471 - learning_rate: 1.2500e-04\n",
            "Epoch 78/100\n",
            "\u001b[1m18/21\u001b[0m \u001b[32m━━━━━━━━━━━━━━━━━\u001b[0m\u001b[37m━━━\u001b[0m \u001b[1m0s\u001b[0m 10ms/step - accuracy: 0.9672 - auc_1: 0.9662 - loss: 0.1827 - precision_1: 0.9756 - recall_1: 0.6632\n",
            "Epoch 78: val_loss did not improve from 0.20540\n",
            "\u001b[1m21/21\u001b[0m \u001b[32m━━━━━━━━━━━━━━━━━━━━\u001b[0m\u001b[37m\u001b[0m \u001b[1m0s\u001b[0m 15ms/step - accuracy: 0.9676 - auc_1: 0.9646 - loss: 0.1832 - precision_1: 0.9704 - recall_1: 0.6656 - val_accuracy: 0.9565 - val_auc_1: 0.9336 - val_loss: 0.2201 - val_precision_1: 1.0000 - val_recall_1: 0.6471 - learning_rate: 1.2500e-04\n",
            "Epoch 79/100\n",
            "\u001b[1m18/21\u001b[0m \u001b[32m━━━━━━━━━━━━━━━━━\u001b[0m\u001b[37m━━━\u001b[0m \u001b[1m0s\u001b[0m 10ms/step - accuracy: 0.9715 - auc_1: 0.9937 - loss: 0.1646 - precision_1: 0.9142 - recall_1: 0.7357\n",
            "Epoch 79: val_loss did not improve from 0.20540\n",
            "\u001b[1m21/21\u001b[0m \u001b[32m━━━━━━━━━━━━━━━━━━━━\u001b[0m\u001b[37m\u001b[0m \u001b[1m1s\u001b[0m 14ms/step - accuracy: 0.9708 - auc_1: 0.9919 - loss: 0.1677 - precision_1: 0.9058 - recall_1: 0.7350 - val_accuracy: 0.9565 - val_auc_1: 0.9288 - val_loss: 0.2147 - val_precision_1: 1.0000 - val_recall_1: 0.6471 - learning_rate: 1.2500e-04\n",
            "Epoch 80/100\n",
            "\u001b[1m18/21\u001b[0m \u001b[32m━━━━━━━━━━━━━━━━━\u001b[0m\u001b[37m━━━\u001b[0m \u001b[1m0s\u001b[0m 10ms/step - accuracy: 0.9723 - auc_1: 0.9628 - loss: 0.1924 - precision_1: 0.9032 - recall_1: 0.7294\n",
            "Epoch 80: val_loss did not improve from 0.20540\n",
            "\u001b[1m21/21\u001b[0m \u001b[32m━━━━━━━━━━━━━━━━━━━━\u001b[0m\u001b[37m\u001b[0m \u001b[1m0s\u001b[0m 14ms/step - accuracy: 0.9719 - auc_1: 0.9630 - loss: 0.1917 - precision_1: 0.9116 - recall_1: 0.7221 - val_accuracy: 0.9638 - val_auc_1: 0.9293 - val_loss: 0.2111 - val_precision_1: 1.0000 - val_recall_1: 0.7059 - learning_rate: 1.2500e-04\n",
            "Epoch 81/100\n",
            "\u001b[1m20/21\u001b[0m \u001b[32m━━━━━━━━━━━━━━━━━━━\u001b[0m\u001b[37m━\u001b[0m \u001b[1m0s\u001b[0m 15ms/step - accuracy: 0.9761 - auc_1: 0.9900 - loss: 0.1583 - precision_1: 0.9255 - recall_1: 0.7113\n",
            "Epoch 81: ReduceLROnPlateau reducing learning rate to 6.25000029685907e-05.\n",
            "\n",
            "Epoch 81: val_loss did not improve from 0.20540\n",
            "\u001b[1m21/21\u001b[0m \u001b[32m━━━━━━━━━━━━━━━━━━━━\u001b[0m\u001b[37m\u001b[0m \u001b[1m0s\u001b[0m 21ms/step - accuracy: 0.9755 - auc_1: 0.9894 - loss: 0.1595 - precision_1: 0.9276 - recall_1: 0.7078 - val_accuracy: 0.9710 - val_auc_1: 0.9349 - val_loss: 0.2079 - val_precision_1: 1.0000 - val_recall_1: 0.7647 - learning_rate: 1.2500e-04\n",
            "Epoch 82/100\n",
            "\u001b[1m21/21\u001b[0m \u001b[32m━━━━━━━━━━━━━━━━━━━━\u001b[0m\u001b[37m\u001b[0m \u001b[1m0s\u001b[0m 14ms/step - accuracy: 0.9716 - auc_1: 0.9815 - loss: 0.1727 - precision_1: 0.8380 - recall_1: 0.7759\n",
            "Epoch 82: val_loss did not improve from 0.20540\n",
            "\u001b[1m21/21\u001b[0m \u001b[32m━━━━━━━━━━━━━━━━━━━━\u001b[0m\u001b[37m\u001b[0m \u001b[1m0s\u001b[0m 21ms/step - accuracy: 0.9714 - auc_1: 0.9816 - loss: 0.1730 - precision_1: 0.8387 - recall_1: 0.7745 - val_accuracy: 0.9638 - val_auc_1: 0.9387 - val_loss: 0.2085 - val_precision_1: 1.0000 - val_recall_1: 0.7059 - learning_rate: 6.2500e-05\n",
            "Epoch 83/100\n",
            "\u001b[1m20/21\u001b[0m \u001b[32m━━━━━━━━━━━━━━━━━━━\u001b[0m\u001b[37m━\u001b[0m \u001b[1m0s\u001b[0m 14ms/step - accuracy: 0.9852 - auc_1: 0.9865 - loss: 0.1560 - precision_1: 0.9725 - recall_1: 0.8641\n",
            "Epoch 83: val_loss did not improve from 0.20540\n",
            "\u001b[1m21/21\u001b[0m \u001b[32m━━━━━━━━━━━━━━━━━━━━\u001b[0m\u001b[37m\u001b[0m \u001b[1m1s\u001b[0m 21ms/step - accuracy: 0.9849 - auc_1: 0.9865 - loss: 0.1560 - precision_1: 0.9712 - recall_1: 0.8600 - val_accuracy: 0.9565 - val_auc_1: 0.9387 - val_loss: 0.2162 - val_precision_1: 1.0000 - val_recall_1: 0.6471 - learning_rate: 6.2500e-05\n",
            "Epoch 84/100\n",
            "\u001b[1m21/21\u001b[0m \u001b[32m━━━━━━━━━━━━━━━━━━━━\u001b[0m\u001b[37m\u001b[0m \u001b[1m0s\u001b[0m 14ms/step - accuracy: 0.9588 - auc_1: 0.9750 - loss: 0.1842 - precision_1: 0.7696 - recall_1: 0.7101\n",
            "Epoch 84: val_loss did not improve from 0.20540\n",
            "\u001b[1m21/21\u001b[0m \u001b[32m━━━━━━━━━━━━━━━━━━━━\u001b[0m\u001b[37m\u001b[0m \u001b[1m1s\u001b[0m 19ms/step - accuracy: 0.9590 - auc_1: 0.9746 - loss: 0.1843 - precision_1: 0.7730 - recall_1: 0.7092 - val_accuracy: 0.9638 - val_auc_1: 0.9358 - val_loss: 0.2120 - val_precision_1: 1.0000 - val_recall_1: 0.7059 - learning_rate: 6.2500e-05\n",
            "Epoch 85/100\n",
            "\u001b[1m19/21\u001b[0m \u001b[32m━━━━━━━━━━━━━━━━━━\u001b[0m\u001b[37m━━\u001b[0m \u001b[1m0s\u001b[0m 9ms/step - accuracy: 0.9695 - auc_1: 0.9879 - loss: 0.1681 - precision_1: 0.9134 - recall_1: 0.7783\n",
            "Epoch 85: val_loss did not improve from 0.20540\n",
            "\u001b[1m21/21\u001b[0m \u001b[32m━━━━━━━━━━━━━━━━━━━━\u001b[0m\u001b[37m\u001b[0m \u001b[1m0s\u001b[0m 14ms/step - accuracy: 0.9705 - auc_1: 0.9868 - loss: 0.1683 - precision_1: 0.9163 - recall_1: 0.7788 - val_accuracy: 0.9638 - val_auc_1: 0.9380 - val_loss: 0.2108 - val_precision_1: 1.0000 - val_recall_1: 0.7059 - learning_rate: 6.2500e-05\n",
            "Epoch 86/100\n",
            "\u001b[1m19/21\u001b[0m \u001b[32m━━━━━━━━━━━━━━━━━━\u001b[0m\u001b[37m━━\u001b[0m \u001b[1m0s\u001b[0m 9ms/step - accuracy: 0.9707 - auc_1: 0.9675 - loss: 0.1953 - precision_1: 0.9762 - recall_1: 0.7056\n",
            "Epoch 86: ReduceLROnPlateau reducing learning rate to 3.125000148429535e-05.\n",
            "\n",
            "Epoch 86: val_loss did not improve from 0.20540\n",
            "\u001b[1m21/21\u001b[0m \u001b[32m━━━━━━━━━━━━━━━━━━━━\u001b[0m\u001b[37m\u001b[0m \u001b[1m0s\u001b[0m 14ms/step - accuracy: 0.9716 - auc_1: 0.9681 - loss: 0.1940 - precision_1: 0.9732 - recall_1: 0.7140 - val_accuracy: 0.9565 - val_auc_1: 0.9361 - val_loss: 0.2239 - val_precision_1: 1.0000 - val_recall_1: 0.6471 - learning_rate: 6.2500e-05\n",
            "Epoch 86: early stopping\n",
            "Restoring model weights from the end of the best epoch: 76.\n"
          ]
        }
      ]
    },
    {
      "cell_type": "markdown",
      "source": [
        "## *Model Evaluation*"
      ],
      "metadata": {
        "id": "8lABL4wbd0TB"
      }
    },
    {
      "cell_type": "markdown",
      "source": [
        "### utilities"
      ],
      "metadata": {
        "id": "-Sx6LJ5W18KV"
      }
    },
    {
      "cell_type": "code",
      "source": [
        "def evaluate_binary_classifier(model, X_test, y_test, class_names=['No Recurrence', 'Recurrence']):\n",
        "    \"\"\"\n",
        "    Comprehensive evaluation of binary classifier with various metrics and plots\n",
        "\n",
        "    Parameters:\n",
        "    -----------\n",
        "    model : keras.Model\n",
        "        Trained model to evaluate\n",
        "    X_test, y_test : array-like\n",
        "        Test data and labels\n",
        "    class_names : list, default=['No Recurrence', 'Recurrence']\n",
        "        Names of the classes for plotting\n",
        "\n",
        "    Returns:\n",
        "    --------\n",
        "    dict\n",
        "        Dictionary of evaluation metrics\n",
        "    \"\"\"\n",
        "    # Get predictions\n",
        "    y_pred_prob = model.predict(X_test)\n",
        "    y_pred = (y_pred_prob > 0.5).astype(int)\n",
        "\n",
        "    # Calculate metrics\n",
        "    test_loss, test_accuracy, test_auc, test_precision, test_recall = model.evaluate(X_test, y_test, verbose=0)\n",
        "\n",
        "    # Classification report\n",
        "    report = classification_report(y_test, y_pred, target_names=class_names, output_dict=True)\n",
        "    print(classification_report(y_test, y_pred, target_names=class_names))\n",
        "\n",
        "    # Confusion matrix\n",
        "    cm = confusion_matrix(y_test, y_pred)\n",
        "    plt.figure(figsize=(8, 6))\n",
        "    plt.imshow(cm, interpolation='nearest', cmap=plt.cm.Blues)\n",
        "    plt.title('Confusion Matrix')\n",
        "    plt.colorbar()\n",
        "    tick_marks = np.arange(len(class_names))\n",
        "    plt.xticks(tick_marks, class_names)\n",
        "    plt.yticks(tick_marks, class_names)\n",
        "    plt.xlabel('Predicted Label')\n",
        "    plt.ylabel('True Label')\n",
        "\n",
        "    # Add text annotations to the confusion matrix\n",
        "    thresh = cm.max() / 2\n",
        "    for i in range(cm.shape[0]):\n",
        "        for j in range(cm.shape[1]):\n",
        "            plt.text(j, i, format(cm[i, j], 'd'),\n",
        "                    horizontalalignment=\"center\",\n",
        "                    color=\"white\" if cm[i, j] > thresh else \"black\")\n",
        "    plt.tight_layout()\n",
        "    plt.savefig('confusion_matrix_advanced.png')\n",
        "    plt.show()\n",
        "\n",
        "    # ROC curve\n",
        "    fpr, tpr, _ = roc_curve(y_test, y_pred_prob)\n",
        "    roc_auc = auc(fpr, tpr)\n",
        "\n",
        "    plt.figure(figsize=(8, 6))\n",
        "    plt.plot(fpr, tpr, color='darkorange', lw=2, label=f'ROC curve (area = {roc_auc:.2f})')\n",
        "    plt.plot([0, 1], [0, 1], color='navy', lw=2, linestyle='--')\n",
        "    plt.xlim([0.0, 1.0])\n",
        "    plt.ylim([0.0, 1.05])\n",
        "    plt.xlabel('False Positive Rate')\n",
        "    plt.ylabel('True Positive Rate')\n",
        "    plt.title('Receiver Operating Characteristic')\n",
        "    plt.legend(loc=\"lower right\")\n",
        "    plt.savefig('roc_curve_advanced.png')\n",
        "    plt.show()\n",
        "\n",
        "    # Precision-Recall curve\n",
        "    precision, recall, _ = precision_recall_curve(y_test, y_pred_prob)\n",
        "    pr_auc = auc(recall, precision)\n",
        "\n",
        "    plt.figure(figsize=(8, 6))\n",
        "    plt.plot(recall, precision, color='blue', lw=2, label=f'PR curve (area = {pr_auc:.2f})')\n",
        "    plt.xlabel('Recall')\n",
        "    plt.ylabel('Precision')\n",
        "    plt.title('Precision-Recall Curve')\n",
        "    plt.legend(loc=\"lower left\")\n",
        "    plt.savefig('pr_curve_advanced.png')\n",
        "    plt.show()\n",
        "\n",
        "    # Return all metrics in a dictionary\n",
        "    metrics = {\n",
        "        'accuracy': test_accuracy,\n",
        "        'auc': test_auc,\n",
        "        'precision': test_precision,\n",
        "        'recall': test_recall,\n",
        "        'f1_score': report['weighted avg']['f1-score'],\n",
        "        'confusion_matrix': cm,\n",
        "        'roc_auc': roc_auc,\n",
        "        'pr_auc': pr_auc\n",
        "    }\n",
        "\n",
        "    return metrics"
      ],
      "metadata": {
        "id": "Dy0b9c8g1veQ"
      },
      "execution_count": 23,
      "outputs": []
    },
    {
      "cell_type": "markdown",
      "source": [
        "### scripts"
      ],
      "metadata": {
        "id": "pkKtaNsZ187z"
      }
    },
    {
      "cell_type": "code",
      "source": [
        "# Evaluate the model\n",
        "metrics = evaluate_binary_classifier(\n",
        "    model=advanced_model,\n",
        "    X_test=X_test_seq,\n",
        "    y_test=y_test\n",
        ")\n",
        "\n",
        "print(f\"Final model performance:\")\n",
        "print(f\"Accuracy: {metrics['accuracy']:.4f}\")\n",
        "print(f\"AUC: {metrics['auc']:.4f}\")\n",
        "print(f\"F1 Score: {metrics['f1_score']:.4f}\")"
      ],
      "metadata": {
        "colab": {
          "base_uri": "https://localhost:8080/",
          "height": 1000
        },
        "id": "zd-OcAwD1_DI",
        "outputId": "2eab2ad7-8ccd-44fc-f2b6-f822ff3b8946"
      },
      "execution_count": 24,
      "outputs": [
        {
          "output_type": "stream",
          "name": "stdout",
          "text": [
            "\u001b[1m5/5\u001b[0m \u001b[32m━━━━━━━━━━━━━━━━━━━━\u001b[0m\u001b[37m\u001b[0m \u001b[1m0s\u001b[0m 53ms/step\n",
            "               precision    recall  f1-score   support\n",
            "\n",
            "No Recurrence       0.98      1.00      0.99       124\n",
            "   Recurrence       1.00      0.87      0.93        15\n",
            "\n",
            "     accuracy                           0.99       139\n",
            "    macro avg       0.99      0.93      0.96       139\n",
            " weighted avg       0.99      0.99      0.99       139\n",
            "\n"
          ]
        },
        {
          "output_type": "display_data",
          "data": {
            "text/plain": [
              "<Figure size 800x600 with 2 Axes>"
            ],
            "image/png": "[encoded data removed]"
          },
          "metadata": {}
        },
        {
          "output_type": "display_data",
          "data": {
            "text/plain": [
              "<Figure size 800x600 with 1 Axes>"
            ],
            "image/png": "[encoded data removed]"
          },
          "metadata": {}
        },
        {
          "output_type": "display_data",
          "data": {
            "text/plain": [
              "<Figure size 800x600 with 1 Axes>"
            ],
            "image/png": "[encoded data removed]"
          },
          "metadata": {}
        },
        {
          "output_type": "stream",
          "name": "stdout",
          "text": [
            "Final model performance:\n",
            "Accuracy: 0.9856\n",
            "AUC: 1.0000\n",
            "F1 Score: 0.9852\n"
          ]
        }
      ]
    }
  ]
}