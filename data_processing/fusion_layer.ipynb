{
  "nbformat": 4,
  "nbformat_minor": 0,
  "metadata": {
    "colab": {
      "provenance": [],
      "gpuType": "T4"
    },
    "kernelspec": {
      "name": "python3",
      "display_name": "Python 3"
    },
    "language_info": {
      "name": "python"
    },
    "accelerator": "GPU"
  },
  "cells": [
    {
      "cell_type": "markdown",
      "source": [
        "# **Environment Setup and Imports**"
      ],
      "metadata": {
        "id": "CpFWLiq8mwvE"
      }
    },
    {
      "cell_type": "code",
      "source": [
        "import pickle\n",
        "import numpy as np\n",
        "import pandas as pd\n",
        "from collections import Counter\n",
        "from sklearn.model_selection import train_test_split\n",
        "from sklearn.metrics import confusion_matrix, classification_report, roc_auc_score\n",
        "from tensorflow.keras.models import Sequential\n",
        "from tensorflow.keras.layers import Dense, Dropout\n",
        "import tensorflow as tf"
      ],
      "metadata": {
        "id": "OeqA27HFmy3e"
      },
      "execution_count": null,
      "outputs": []
    },
    {
      "cell_type": "markdown",
      "source": [
        "# **Data Preprocessing**\n"
      ],
      "metadata": {
        "id": "mkGP7z-Fn8zW"
      }
    },
    {
      "cell_type": "markdown",
      "source": [
        "## *Data Loading*"
      ],
      "metadata": {
        "id": "2-ud0hHOpThF"
      }
    },
    {
      "cell_type": "code",
      "source": [
        "# --- Data Loading & Alignment ---\n",
        "with open('rnn_features.pkl','rb') as f:\n",
        "    rnn = pickle.load(f)\n",
        "with open('cnn_features.pkl','rb') as f:\n",
        "    cnn = pickle.load(f)\n",
        "\n",
        "# Build DataFrames\n",
        "df_rnn = pd.DataFrame(rnn['features'], index=rnn['ids'])\n",
        "df_rnn['label'] = rnn['labels']\n",
        "df_cnn = pd.DataFrame(cnn['features'], index=cnn['ids'])\n",
        "df_cnn['label'] = cnn['labels']\n",
        "\n",
        "# Align on common IDs and sync labels\n",
        "common = df_rnn.index.intersection(df_cnn.index)\n",
        "df_rnn = df_rnn.loc[common]\n",
        "df_cnn = df_cnn.loc[common]\n",
        "mismatch = df_rnn['label'] != df_cnn['label']\n",
        "if mismatch.any():\n",
        "    df_rnn.loc[mismatch, 'label'] = df_cnn.loc[mismatch, 'label']\n",
        "assert (df_rnn['label'] == df_cnn['label']).all(), \"Label sync failed\"\n",
        "\n",
        "# Prepare fused features and labels\n",
        "X = np.concatenate([\n",
        "    df_cnn.drop(columns='label').values,\n",
        "    df_rnn.drop(columns='label').values\n",
        "], axis=1)\n",
        "y = df_cnn['label'].values\n",
        "print(\"Fused feature shape:\", X.shape, \"Label distribution:\", Counter(y))"
      ],
      "metadata": {
        "colab": {
          "base_uri": "https://localhost:8080/",
          "height": 211
        },
        "id": "RTpIGq8GowzI",
        "outputId": "6ceecbb7-6bbd-4d5e-c24a-cb5839f99acf"
      },
      "execution_count": null,
      "outputs": [
        {
          "output_type": "error",
          "ename": "FileNotFoundError",
          "evalue": "[Errno 2] No such file or directory: 'rnn_features.pkl'",
          "traceback": [
            "\u001b[0;31m---------------------------------------------------------------------------\u001b[0m",
            "\u001b[0;31mFileNotFoundError\u001b[0m                         Traceback (most recent call last)",
            "\u001b[0;32m<ipython-input-2-4c178ccc8116>\u001b[0m in \u001b[0;36m<cell line: 0>\u001b[0;34m()\u001b[0m\n\u001b[1;32m      1\u001b[0m \u001b[0;31m# --- Data Loading & Alignment ---\u001b[0m\u001b[0;34m\u001b[0m\u001b[0;34m\u001b[0m\u001b[0m\n\u001b[0;32m----> 2\u001b[0;31m \u001b[0;32mwith\u001b[0m \u001b[0mopen\u001b[0m\u001b[0;34m(\u001b[0m\u001b[0;34m'rnn_features.pkl'\u001b[0m\u001b[0;34m,\u001b[0m\u001b[0;34m'rb'\u001b[0m\u001b[0;34m)\u001b[0m \u001b[0;32mas\u001b[0m \u001b[0mf\u001b[0m\u001b[0;34m:\u001b[0m\u001b[0;34m\u001b[0m\u001b[0;34m\u001b[0m\u001b[0m\n\u001b[0m\u001b[1;32m      3\u001b[0m     \u001b[0mrnn\u001b[0m \u001b[0;34m=\u001b[0m \u001b[0mpickle\u001b[0m\u001b[0;34m.\u001b[0m\u001b[0mload\u001b[0m\u001b[0;34m(\u001b[0m\u001b[0mf\u001b[0m\u001b[0;34m)\u001b[0m\u001b[0;34m\u001b[0m\u001b[0;34m\u001b[0m\u001b[0m\n\u001b[1;32m      4\u001b[0m \u001b[0;32mwith\u001b[0m \u001b[0mopen\u001b[0m\u001b[0;34m(\u001b[0m\u001b[0;34m'cnn_features.pkl'\u001b[0m\u001b[0;34m,\u001b[0m\u001b[0;34m'rb'\u001b[0m\u001b[0;34m)\u001b[0m \u001b[0;32mas\u001b[0m \u001b[0mf\u001b[0m\u001b[0;34m:\u001b[0m\u001b[0;34m\u001b[0m\u001b[0;34m\u001b[0m\u001b[0m\n\u001b[1;32m      5\u001b[0m     \u001b[0mcnn\u001b[0m \u001b[0;34m=\u001b[0m \u001b[0mpickle\u001b[0m\u001b[0;34m.\u001b[0m\u001b[0mload\u001b[0m\u001b[0;34m(\u001b[0m\u001b[0mf\u001b[0m\u001b[0;34m)\u001b[0m\u001b[0;34m\u001b[0m\u001b[0;34m\u001b[0m\u001b[0m\n",
            "\u001b[0;31mFileNotFoundError\u001b[0m: [Errno 2] No such file or directory: 'rnn_features.pkl'"
          ]
        }
      ]
    },
    {
      "cell_type": "markdown",
      "source": [
        "## *Data Splitting*"
      ],
      "metadata": {
        "id": "1I_1yxg4pAYG"
      }
    },
    {
      "cell_type": "code",
      "source": [
        "# --- Train/Validation/Test Split ---\n",
        "X_train, X_temp, y_train, y_temp = train_test_split(\n",
        "    X, y, test_size=0.30, random_state=42, stratify=y\n",
        ")\n",
        "# Second split: try stratified, fallback to unstratified if too few samples\n",
        "try:\n",
        "    X_val, X_test, y_val, y_test = train_test_split(\n",
        "        X_temp, y_temp, test_size=0.50, random_state=42, stratify=y_temp\n",
        "    )\n",
        "except ValueError:\n",
        "    X_val, X_test, y_val, y_test = train_test_split(\n",
        "        X_temp, y_temp, test_size=0.50, random_state=42\n",
        "    )\n",
        "print(\"Split sizes:\", Counter(y_train), Counter(y_val), Counter(y_test))"
      ],
      "metadata": {
        "colab": {
          "base_uri": "https://localhost:8080/"
        },
        "id": "aG2PUeSIyV6d",
        "outputId": "47512efa-a375-42e3-c1c3-73c0c0564925"
      },
      "execution_count": null,
      "outputs": [
        {
          "output_type": "stream",
          "name": "stdout",
          "text": [
            "Split sizes: Counter({np.float32(0.0): 66, np.float32(1.0): 4}) Counter({np.float32(0.0): 15}) Counter({np.float32(0.0): 14, np.float32(1.0): 1})\n"
          ]
        }
      ]
    },
    {
      "cell_type": "code",
      "source": [
        "# FIRST SPLIT (train vs temp)\n",
        "#strat1 = y if len(set(y))>1 else None\n",
        "#X_train, X_temp, y_train, y_temp = train_test_split(\n",
        "#    X, y,\n",
        "#    test_size=0.30,\n",
        "#    random_state=42,\n",
        "#    stratify=strat1\n",
        "#)\n",
        "#\n",
        "## SECOND SPLIT (val vs test) with pre-check\n",
        "#counts_temp = Counter(y_temp)\n",
        "## if any class has <2 samples, drop stratify\n",
        "#if any(c<2 for c in counts_temp.values()):\n",
        "#    print(\"Too few examples in one class for stratified split, splitting WITHOUT stratify\")\n",
        "#    strat2 = None\n",
        "#else:\n",
        "#    strat2 = y_temp\n",
        "#\n",
        "#X_val, X_test, y_val, y_test = train_test_split(\n",
        "#    X_temp, y_temp,\n",
        "#    test_size=0.50,\n",
        "#    random_state=42,\n",
        "#    stratify=strat2\n",
        "#)\n",
        "#\n",
        "#print(\"\\nSplit sizes:\")\n",
        "#print(\" Train:\", X_train.shape, Counter(y_train))\n",
        "#print(\" Val:  \", X_val.shape,   Counter(y_val))\n",
        "#print(\" Test: \", X_test.shape,  Counter(y_test))"
      ],
      "metadata": {
        "id": "4I6NDQPaqDfs"
      },
      "execution_count": null,
      "outputs": []
    },
    {
      "cell_type": "markdown",
      "source": [
        "# **Fusion Model**"
      ],
      "metadata": {
        "id": "isl162_wqe42"
      }
    },
    {
      "cell_type": "markdown",
      "source": [
        "## *Model Building*"
      ],
      "metadata": {
        "id": "haIRA7jOqjIJ"
      }
    },
    {
      "cell_type": "code",
      "source": [
        "# --- Baseline Fusion Model ---\n",
        "model = Sequential([\n",
        "    tf.keras.Input(shape=(X.shape[1],)),\n",
        "    Dense(128, activation='relu'), Dropout(0.3),\n",
        "    Dense(64, activation='relu'),  Dropout(0.3),\n",
        "    Dense(1, activation='sigmoid')\n",
        "])\n",
        "model.compile(\n",
        "    optimizer='adam',\n",
        "    loss='binary_crossentropy',\n",
        "    metrics=['accuracy', tf.keras.metrics.AUC(name='auc')]\n",
        ")\n",
        "model.summary()"
      ],
      "metadata": {
        "id": "rbSYV-b-qlSH",
        "colab": {
          "base_uri": "https://localhost:8080/",
          "height": 306
        },
        "outputId": "716838b6-4740-440f-86ed-f30e987685cd"
      },
      "execution_count": null,
      "outputs": [
        {
          "output_type": "display_data",
          "data": {
            "text/plain": [
              "\u001b[1mModel: \"sequential_338\"\u001b[0m\n"
            ],
            "text/html": [
              "<pre style=\"white-space:pre;overflow-x:auto;line-height:normal;font-family:Menlo,'DejaVu Sans Mono',consolas,'Courier New',monospace\"><span style=\"font-weight: bold\">Model: \"sequential_338\"</span>\n",
              "</pre>\n"
            ]
          },
          "metadata": {}
        },
        {
          "output_type": "display_data",
          "data": {
            "text/plain": [
              "┏━━━━━━━━━━━━━━━━━━━━━━━━━━━━━━━━━┳━━━━━━━━━━━━━━━━━━━━━━━━┳━━━━━━━━━━━━━━━┓\n",
              "┃\u001b[1m \u001b[0m\u001b[1mLayer (type)                   \u001b[0m\u001b[1m \u001b[0m┃\u001b[1m \u001b[0m\u001b[1mOutput Shape          \u001b[0m\u001b[1m \u001b[0m┃\u001b[1m \u001b[0m\u001b[1m      Param #\u001b[0m\u001b[1m \u001b[0m┃\n",
              "┡━━━━━━━━━━━━━━━━━━━━━━━━━━━━━━━━━╇━━━━━━━━━━━━━━━━━━━━━━━━╇━━━━━━━━━━━━━━━┩\n",
              "│ dense_1014 (\u001b[38;5;33mDense\u001b[0m)              │ (\u001b[38;5;45mNone\u001b[0m, \u001b[38;5;34m128\u001b[0m)            │        \u001b[38;5;34m20,608\u001b[0m │\n",
              "├─────────────────────────────────┼────────────────────────┼───────────────┤\n",
              "│ dropout_676 (\u001b[38;5;33mDropout\u001b[0m)           │ (\u001b[38;5;45mNone\u001b[0m, \u001b[38;5;34m128\u001b[0m)            │             \u001b[38;5;34m0\u001b[0m │\n",
              "├─────────────────────────────────┼────────────────────────┼───────────────┤\n",
              "│ dense_1015 (\u001b[38;5;33mDense\u001b[0m)              │ (\u001b[38;5;45mNone\u001b[0m, \u001b[38;5;34m64\u001b[0m)             │         \u001b[38;5;34m8,256\u001b[0m │\n",
              "├─────────────────────────────────┼────────────────────────┼───────────────┤\n",
              "│ dropout_677 (\u001b[38;5;33mDropout\u001b[0m)           │ (\u001b[38;5;45mNone\u001b[0m, \u001b[38;5;34m64\u001b[0m)             │             \u001b[38;5;34m0\u001b[0m │\n",
              "├─────────────────────────────────┼────────────────────────┼───────────────┤\n",
              "│ dense_1016 (\u001b[38;5;33mDense\u001b[0m)              │ (\u001b[38;5;45mNone\u001b[0m, \u001b[38;5;34m1\u001b[0m)              │            \u001b[38;5;34m65\u001b[0m │\n",
              "└─────────────────────────────────┴────────────────────────┴───────────────┘\n"
            ],
            "text/html": [
              "<pre style=\"white-space:pre;overflow-x:auto;line-height:normal;font-family:Menlo,'DejaVu Sans Mono',consolas,'Courier New',monospace\">┏━━━━━━━━━━━━━━━━━━━━━━━━━━━━━━━━━┳━━━━━━━━━━━━━━━━━━━━━━━━┳━━━━━━━━━━━━━━━┓\n",
              "┃<span style=\"font-weight: bold\"> Layer (type)                    </span>┃<span style=\"font-weight: bold\"> Output Shape           </span>┃<span style=\"font-weight: bold\">       Param # </span>┃\n",
              "┡━━━━━━━━━━━━━━━━━━━━━━━━━━━━━━━━━╇━━━━━━━━━━━━━━━━━━━━━━━━╇━━━━━━━━━━━━━━━┩\n",
              "│ dense_1014 (<span style=\"color: #0087ff; text-decoration-color: #0087ff\">Dense</span>)              │ (<span style=\"color: #00d7ff; text-decoration-color: #00d7ff\">None</span>, <span style=\"color: #00af00; text-decoration-color: #00af00\">128</span>)            │        <span style=\"color: #00af00; text-decoration-color: #00af00\">20,608</span> │\n",
              "├─────────────────────────────────┼────────────────────────┼───────────────┤\n",
              "│ dropout_676 (<span style=\"color: #0087ff; text-decoration-color: #0087ff\">Dropout</span>)           │ (<span style=\"color: #00d7ff; text-decoration-color: #00d7ff\">None</span>, <span style=\"color: #00af00; text-decoration-color: #00af00\">128</span>)            │             <span style=\"color: #00af00; text-decoration-color: #00af00\">0</span> │\n",
              "├─────────────────────────────────┼────────────────────────┼───────────────┤\n",
              "│ dense_1015 (<span style=\"color: #0087ff; text-decoration-color: #0087ff\">Dense</span>)              │ (<span style=\"color: #00d7ff; text-decoration-color: #00d7ff\">None</span>, <span style=\"color: #00af00; text-decoration-color: #00af00\">64</span>)             │         <span style=\"color: #00af00; text-decoration-color: #00af00\">8,256</span> │\n",
              "├─────────────────────────────────┼────────────────────────┼───────────────┤\n",
              "│ dropout_677 (<span style=\"color: #0087ff; text-decoration-color: #0087ff\">Dropout</span>)           │ (<span style=\"color: #00d7ff; text-decoration-color: #00d7ff\">None</span>, <span style=\"color: #00af00; text-decoration-color: #00af00\">64</span>)             │             <span style=\"color: #00af00; text-decoration-color: #00af00\">0</span> │\n",
              "├─────────────────────────────────┼────────────────────────┼───────────────┤\n",
              "│ dense_1016 (<span style=\"color: #0087ff; text-decoration-color: #0087ff\">Dense</span>)              │ (<span style=\"color: #00d7ff; text-decoration-color: #00d7ff\">None</span>, <span style=\"color: #00af00; text-decoration-color: #00af00\">1</span>)              │            <span style=\"color: #00af00; text-decoration-color: #00af00\">65</span> │\n",
              "└─────────────────────────────────┴────────────────────────┴───────────────┘\n",
              "</pre>\n"
            ]
          },
          "metadata": {}
        },
        {
          "output_type": "display_data",
          "data": {
            "text/plain": [
              "\u001b[1m Total params: \u001b[0m\u001b[38;5;34m28,929\u001b[0m (113.00 KB)\n"
            ],
            "text/html": [
              "<pre style=\"white-space:pre;overflow-x:auto;line-height:normal;font-family:Menlo,'DejaVu Sans Mono',consolas,'Courier New',monospace\"><span style=\"font-weight: bold\"> Total params: </span><span style=\"color: #00af00; text-decoration-color: #00af00\">28,929</span> (113.00 KB)\n",
              "</pre>\n"
            ]
          },
          "metadata": {}
        },
        {
          "output_type": "display_data",
          "data": {
            "text/plain": [
              "\u001b[1m Trainable params: \u001b[0m\u001b[38;5;34m28,929\u001b[0m (113.00 KB)\n"
            ],
            "text/html": [
              "<pre style=\"white-space:pre;overflow-x:auto;line-height:normal;font-family:Menlo,'DejaVu Sans Mono',consolas,'Courier New',monospace\"><span style=\"font-weight: bold\"> Trainable params: </span><span style=\"color: #00af00; text-decoration-color: #00af00\">28,929</span> (113.00 KB)\n",
              "</pre>\n"
            ]
          },
          "metadata": {}
        },
        {
          "output_type": "display_data",
          "data": {
            "text/plain": [
              "\u001b[1m Non-trainable params: \u001b[0m\u001b[38;5;34m0\u001b[0m (0.00 B)\n"
            ],
            "text/html": [
              "<pre style=\"white-space:pre;overflow-x:auto;line-height:normal;font-family:Menlo,'DejaVu Sans Mono',consolas,'Courier New',monospace\"><span style=\"font-weight: bold\"> Non-trainable params: </span><span style=\"color: #00af00; text-decoration-color: #00af00\">0</span> (0.00 B)\n",
              "</pre>\n"
            ]
          },
          "metadata": {}
        }
      ]
    },
    {
      "cell_type": "markdown",
      "source": [
        "## *Model Training*"
      ],
      "metadata": {
        "id": "QdU_P90_qnEm"
      }
    },
    {
      "cell_type": "code",
      "source": [
        "# --- Training ---\n",
        "history = model.fit(\n",
        "    X_train, y_train,\n",
        "    validation_data=(X_val, y_val),\n",
        "    epochs=50, batch_size=32, verbose=2\n",
        ")"
      ],
      "metadata": {
        "id": "CrG_1R4qqou2"
      },
      "execution_count": null,
      "outputs": []
    },
    {
      "cell_type": "markdown",
      "source": [
        "## *Model Evaluation*"
      ],
      "metadata": {
        "id": "7bDFZhSCqo5X"
      }
    },
    {
      "cell_type": "code",
      "source": [
        "# --- Evaluation on Test Set ---\n",
        "y_test_prob = model.predict(X_test).ravel()\n",
        "y_test_pred = (y_test_prob >= 0.5).astype(int)\n",
        "print(\"Confusion matrix on test set:\")\n",
        "print(confusion_matrix(y_test, y_test_pred))\n",
        "print(classification_report(y_test, y_test_pred))\n",
        "print(\"Test ROC AUC:\", roc_auc_score(y_test, y_test_prob))\n",
        "\n",
        "# --- Stratified K‑Fold Cross‑Validation ---\n",
        "from sklearn.model_selection import StratifiedKFold\n",
        "skf = StratifiedKFold(n_splits=5, shuffle=True, random_state=42)\n",
        "auc_scores = []\n",
        "for train_idx, test_idx in skf.split(X, y):\n",
        "    X_tr, X_te = X[train_idx], X[test_idx]\n",
        "    y_tr, y_te = y[train_idx], y[test_idx]\n",
        "    m = Sequential([\n",
        "        tf.keras.Input(shape=(X.shape[1],)),\n",
        "        Dense(128, activation='relu'), Dropout(0.3),\n",
        "        Dense(64, activation='relu'),  Dropout(0.3),\n",
        "        Dense(1, activation='sigmoid')\n",
        "    ])\n",
        "    m.compile(optimizer='adam', loss='binary_crossentropy', metrics=[])\n",
        "    m.fit(X_tr, y_tr, epochs=30, batch_size=32, verbose=0)\n",
        "    prob = m.predict(X_te).ravel()\n",
        "    auc_scores.append(roc_auc_score(y_te, prob))\n",
        "print(\"Stratified K-Fold mean ROC AUC:\", np.mean(auc_scores))\n"
      ],
      "metadata": {
        "id": "O1R760-Zqq4S",
        "colab": {
          "base_uri": "https://localhost:8080/"
        },
        "outputId": "d5bba16c-4675-4613-8b8b-3328dee670e0"
      },
      "execution_count": null,
      "outputs": [
        {
          "output_type": "stream",
          "name": "stdout",
          "text": [
            "\u001b[1m1/1\u001b[0m \u001b[32m━━━━━━━━━━━━━━━━━━━━\u001b[0m\u001b[37m\u001b[0m \u001b[1m0s\u001b[0m 70ms/step\n",
            "Confusion matrix on test set:\n",
            "[[14  0]\n",
            " [ 1  0]]\n",
            "              precision    recall  f1-score   support\n",
            "\n",
            "         0.0       0.93      1.00      0.97        14\n",
            "         1.0       0.00      0.00      0.00         1\n",
            "\n",
            "    accuracy                           0.93        15\n",
            "   macro avg       0.47      0.50      0.48        15\n",
            "weighted avg       0.87      0.93      0.90        15\n",
            "\n",
            "Test ROC AUC: 0.7142857142857143\n"
          ]
        },
        {
          "output_type": "stream",
          "name": "stderr",
          "text": [
            "/usr/local/lib/python3.11/dist-packages/sklearn/metrics/_classification.py:1565: UndefinedMetricWarning: Precision is ill-defined and being set to 0.0 in labels with no predicted samples. Use `zero_division` parameter to control this behavior.\n",
            "  _warn_prf(average, modifier, f\"{metric.capitalize()} is\", len(result))\n",
            "/usr/local/lib/python3.11/dist-packages/sklearn/metrics/_classification.py:1565: UndefinedMetricWarning: Precision is ill-defined and being set to 0.0 in labels with no predicted samples. Use `zero_division` parameter to control this behavior.\n",
            "  _warn_prf(average, modifier, f\"{metric.capitalize()} is\", len(result))\n",
            "/usr/local/lib/python3.11/dist-packages/sklearn/metrics/_classification.py:1565: UndefinedMetricWarning: Precision is ill-defined and being set to 0.0 in labels with no predicted samples. Use `zero_division` parameter to control this behavior.\n",
            "  _warn_prf(average, modifier, f\"{metric.capitalize()} is\", len(result))\n"
          ]
        },
        {
          "output_type": "stream",
          "name": "stdout",
          "text": [
            "\u001b[1m1/1\u001b[0m \u001b[32m━━━━━━━━━━━━━━━━━━━━\u001b[0m\u001b[37m\u001b[0m \u001b[1m0s\u001b[0m 69ms/step\n",
            "\u001b[1m1/1\u001b[0m \u001b[32m━━━━━━━━━━━━━━━━━━━━\u001b[0m\u001b[37m\u001b[0m \u001b[1m0s\u001b[0m 67ms/step\n",
            "\u001b[1m1/1\u001b[0m \u001b[32m━━━━━━━━━━━━━━━━━━━━\u001b[0m\u001b[37m\u001b[0m \u001b[1m0s\u001b[0m 66ms/step\n",
            "\u001b[1m1/1\u001b[0m \u001b[32m━━━━━━━━━━━━━━━━━━━━\u001b[0m\u001b[37m\u001b[0m \u001b[1m0s\u001b[0m 70ms/step\n",
            "\u001b[1m1/1\u001b[0m \u001b[32m━━━━━━━━━━━━━━━━━━━━\u001b[0m\u001b[37m\u001b[0m \u001b[1m0s\u001b[0m 72ms/step\n",
            "Stratified K-Fold mean ROC AUC: 0.5684210526315789\n"
          ]
        }
      ]
    }
  ]
}