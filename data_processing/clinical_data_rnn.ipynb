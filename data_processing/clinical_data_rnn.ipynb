{
  "nbformat": 4,
  "nbformat_minor": 0,
  "metadata": {
    "colab": {
      "provenance": [],
      "gpuType": "T4",
      "collapsed_sections": [
        "X4jWesX_BBkN",
        "dna3-dPtc2T4",
        "orrqr5RtBTS8",
        "eGfMLPPDdlru",
        "iyIn2j1lducS",
        "8lABL4wbd0TB"
      ]
    },
    "kernelspec": {
      "name": "python3",
      "display_name": "Python 3"
    },
    "language_info": {
      "name": "python"
    },
    "accelerator": "GPU"
  },
  "cells": [
    {
      "cell_type": "markdown",
      "source": [
        "# **Environment Setup and Imports**"
      ],
      "metadata": {
        "id": "X4jWesX_BBkN"
      }
    },
    {
      "cell_type": "code",
      "execution_count": null,
      "metadata": {
        "colab": {
          "base_uri": "https://localhost:8080/"
        },
        "id": "jxaoLrIWTcu4",
        "outputId": "2a85bf68-905e-4dc0-bed0-ca9513dd7b79"
      },
      "outputs": [
        {
          "output_type": "stream",
          "name": "stdout",
          "text": [
            "Cloning into 'Breast-Cancer-Prognosis-Prediction'...\n",
            "remote: Enumerating objects: 44, done.\u001b[K\n",
            "remote: Counting objects: 100% (44/44), done.\u001b[K\n",
            "remote: Compressing objects: 100% (40/40), done.\u001b[K\n",
            "remote: Total 44 (delta 12), reused 0 (delta 0), pack-reused 0 (from 0)\u001b[K\n",
            "Receiving objects: 100% (44/44), 795.10 KiB | 2.42 MiB/s, done.\n",
            "Resolving deltas: 100% (12/12), done.\n",
            "/content/Breast-Cancer-Prognosis-Prediction/Breast-Cancer-Prognosis-Prediction\n"
          ]
        }
      ],
      "source": [
        "import torch\n",
        "import re\n",
        "import torch.nn as nn\n",
        "import torch.optim as optim\n",
        "import tensorflow as tf\n",
        "from tensorflow import keras\n",
        "import numpy as np, pickle\n",
        "import pandas as pd\n",
        "import matplotlib.pyplot as plt\n",
        "import pickle\n",
        "from sklearn.preprocessing import LabelEncoder, StandardScaler\n",
        "from sklearn.impute import SimpleImputer\n",
        "from sklearn.model_selection import train_test_split\n",
        "from tensorflow.keras.models import Sequential\n",
        "from tensorflow.keras.layers import SimpleRNN, LSTM, GRU, Dense, Dropout\n",
        "from tensorflow.keras.optimizers import Adam\n",
        "from sklearn.metrics import classification_report, confusion_matrix, roc_curve, auc\n",
        "from tensorflow.keras.layers import Concatenate, BatchNormalization, Input, Bidirectional\n",
        "from tensorflow.keras.callbacks import EarlyStopping, ModelCheckpoint, ReduceLROnPlateau\n",
        "from tensorflow.keras.regularizers import l1_l2\n",
        "from tensorflow.keras.models import Sequential, Model, load_model\n",
        "from sklearn.metrics import classification_report, confusion_matrix, roc_curve, auc, precision_recall_curve\n",
        "\n",
        "# Clone repository and set working directory\n",
        "!git clone https://github.com/alexander-harmaty/Breast-Cancer-Prognosis-Prediction.git\n",
        "%cd Breast-Cancer-Prognosis-Prediction\n",
        "\n",
        "# Now you can load the dataset from the repo root\n",
        "file_path = './Clinical_and_Other_Features.xlsx'\n",
        "clinical_df = pd.read_excel(file_path, header=[1,2])"
      ]
    },
    {
      "cell_type": "markdown",
      "source": [
        "# **Data Preprocessing**"
      ],
      "metadata": {
        "id": "BMZPhb6TyB_-"
      }
    },
    {
      "cell_type": "markdown",
      "source": [
        "## *Data Loading and Header Processing*"
      ],
      "metadata": {
        "id": "dna3-dPtc2T4"
      }
    },
    {
      "cell_type": "markdown",
      "source": [
        "### utilities"
      ],
      "metadata": {
        "id": "-yIcEz5S1FK3"
      }
    },
    {
      "cell_type": "code",
      "source": [
        "# Function to merge multi-index headers to single index headers\n",
        "def merge_headers(col_tuple):\n",
        "    # Unpack the tuple: first-level and second-level names\n",
        "    first, second = col_tuple\n",
        "\n",
        "    # If newline characters exist, remove and replace with space\n",
        "    if isinstance(first, str):\n",
        "        first = first.replace('\\n', ' ').strip()\n",
        "    if isinstance(second, str):\n",
        "        second = second.replace('\\n', ' ').strip()\n",
        "\n",
        "    # If blank second-headers exist, return first-header only\n",
        "    if not second or 'Unnamed' in second:\n",
        "        return first\n",
        "    # Otherwise, return merged header\n",
        "    else:\n",
        "        return f\"{first} - {second}\""
      ],
      "metadata": {
        "id": "Zc2fAw6J0qQk"
      },
      "execution_count": null,
      "outputs": []
    },
    {
      "cell_type": "markdown",
      "source": [
        "### scripts"
      ],
      "metadata": {
        "id": "pijA_DhC1MbZ"
      }
    },
    {
      "cell_type": "code",
      "source": [
        "# Load the data\n",
        "file_path = './Clinical_and_Other_Features.xlsx'\n",
        "clinical_df = pd.read_excel(file_path, header=[1, 2])\n",
        "\n",
        "# Preprocess the column headers\n",
        "# Merge multi-index headers for all columns\n",
        "new_columns = [merge_headers(col) for col in clinical_df.columns]\n",
        "clinical_df.columns = new_columns\n",
        "\n",
        "# Print column info\n",
        "print(f\"Total columns: {len(clinical_df.columns)}\")\n",
        "print(f\"Sample size: {len(clinical_df)}\")"
      ],
      "metadata": {
        "colab": {
          "base_uri": "https://localhost:8080/"
        },
        "id": "PMAI1NtwbQYa",
        "outputId": "a8c3ce4c-f13b-43b1-84a8-1a37102de6bf"
      },
      "execution_count": null,
      "outputs": [
        {
          "output_type": "stream",
          "name": "stdout",
          "text": [
            "Total columns: 98\n",
            "Sample size: 922\n"
          ]
        }
      ]
    },
    {
      "cell_type": "markdown",
      "source": [
        "## *Data Encoding*\n"
      ],
      "metadata": {
        "id": "orrqr5RtBTS8"
      }
    },
    {
      "cell_type": "markdown",
      "source": [
        "### utilities"
      ],
      "metadata": {
        "id": "JqCBfzi91VHg"
      }
    },
    {
      "cell_type": "code",
      "source": [
        "def encode_clinical_data(df):\n",
        "    \"\"\"\n",
        "    Encodes clinical data with the understanding that real data starts at row 4.\n",
        "    Rows 1-3 contain header/metadata information.\n",
        "\n",
        "    Parameters:\n",
        "    -----------\n",
        "    df : pandas.DataFrame\n",
        "        The clinical dataframe to encode\n",
        "\n",
        "    Returns:\n",
        "    --------\n",
        "    pandas.DataFrame\n",
        "        The encoded dataframe with all columns properly processed\n",
        "    \"\"\"\n",
        "    # Create a copy to avoid modifying the original\n",
        "    encoded_df = df.copy()\n",
        "\n",
        "    # pull off patientIDs\n",
        "    patient_ids = encoded_df['Patient ID'].copy().reset_index(drop=True)\n",
        "    encoded_df = encoded_df.drop(columns=['Patient ID'])\n",
        "\n",
        "    # First, check if we need to handle the header rows\n",
        "    # If the dataframe has already been loaded with headers processed\n",
        "    # (i.e., headers are in column names), we don't need this step\n",
        "    if encoded_df.shape[0] >= 4:\n",
        "        print(\"Checking if data starts at row 4...\")\n",
        "        # Sample some values to see if first 3 rows appear to be headers\n",
        "        sample_col = encoded_df.columns[0]\n",
        "        first_rows = encoded_df.loc[0:3, sample_col].tolist()\n",
        "        print(f\"First rows of sample column: {first_rows}\")\n",
        "\n",
        "        # If first rows look like headers, remove them\n",
        "        if any(isinstance(val, str) and '=' in str(val) for val in first_rows):\n",
        "            print(\"First rows appear to contain metadata. Removing rows 0-3...\")\n",
        "            encoded_df = encoded_df.iloc[3:].reset_index(drop=True)\n",
        "            print(f\"Dataframe shape after removing header rows: {encoded_df.shape}\")\n",
        "\n",
        "    # Identify the target column\n",
        "    target_col = None\n",
        "    for col in encoded_df.columns:\n",
        "        if \"Recurrence event\" in col:\n",
        "            target_col = col\n",
        "            target_values = encoded_df[target_col].copy()\n",
        "            print(f\"Identified target column: {target_col}\")\n",
        "            break\n",
        "\n",
        "    # Process each column individually\n",
        "    all_columns = encoded_df.columns.tolist()\n",
        "    print(f\"Processing {len(all_columns)} total columns\")\n",
        "\n",
        "    for col in all_columns:\n",
        "        # Skip target column for now\n",
        "        if col == target_col:\n",
        "            continue\n",
        "\n",
        "        print(f\"Processing column: {col}\")\n",
        "\n",
        "        try:\n",
        "            # Check column data type\n",
        "            if encoded_df[col].dtype == 'object':\n",
        "                # Categorical column\n",
        "                print(f\"  Processing as categorical\")\n",
        "\n",
        "                # Fill missing values\n",
        "                encoded_df[col] = encoded_df[col].fillna(\"MISSING\")\n",
        "\n",
        "                # Convert to string\n",
        "                encoded_df[col] = encoded_df[col].astype(str)\n",
        "\n",
        "                # Apply label encoding\n",
        "                le = LabelEncoder()\n",
        "                encoded_df[col] = le.fit_transform(encoded_df[col])\n",
        "                print(f\"  Encoded {len(le.classes_)} unique values\")\n",
        "\n",
        "            else:\n",
        "                # Numeric column\n",
        "                print(f\"  Processing as numeric\")\n",
        "\n",
        "                # Handle missing values\n",
        "                if encoded_df[col].isna().any():\n",
        "                    if encoded_df[col].isna().all():\n",
        "                        encoded_df[col] = 0\n",
        "                        print(f\"  All values missing, filled with 0\")\n",
        "                    else:\n",
        "                        median = encoded_df[col].median()\n",
        "                        encoded_df[col] = encoded_df[col].fillna(median)\n",
        "                        print(f\"  Filled missing values with median: {median}\")\n",
        "\n",
        "                # Standardize if there's variance\n",
        "                if encoded_df[col].std() > 0:\n",
        "                    mean_val = encoded_df[col].mean()\n",
        "                    std_val = encoded_df[col].std()\n",
        "                    encoded_df[col] = (encoded_df[col] - mean_val) / std_val\n",
        "                    print(f\"  Standardized numeric column\")\n",
        "\n",
        "        except Exception as e:\n",
        "            print(f\"Error processing column {col}: {str(e)}\")\n",
        "\n",
        "            # Try alternative approach\n",
        "            try:\n",
        "                print(f\"  Trying alternative encoding approach\")\n",
        "\n",
        "                # Force to string and encode\n",
        "                encoded_df[col] = encoded_df[col].fillna(\"MISSING\")\n",
        "                encoded_df[col] = encoded_df[col].astype(str)\n",
        "                le = LabelEncoder()\n",
        "                encoded_df[col] = le.fit_transform(encoded_df[col])\n",
        "                print(f\"  Alternative encoding successful\")\n",
        "\n",
        "            except Exception as e2:\n",
        "                print(f\"  Alternative approach failed: {str(e2)}\")\n",
        "                print(f\"  Setting column to 0\")\n",
        "                encoded_df[col] = 0\n",
        "\n",
        "    # Restore target column\n",
        "    if target_col and 'target_values' in locals():\n",
        "        encoded_df[target_col] = target_values\n",
        "        print(f\"Restored target column: {target_col}\")\n",
        "\n",
        "    # Final check for any NaN values\n",
        "    if encoded_df.isna().any().any():\n",
        "        nan_cols = encoded_df.columns[encoded_df.isna().any()].tolist()\n",
        "        print(f\"Filling NaN values in {len(nan_cols)} columns\")\n",
        "        encoded_df = encoded_df.fillna(0)\n",
        "\n",
        "    # reattach patientIDs\n",
        "    encoded_df['Patient ID'] = patient_ids\n",
        "\n",
        "    print(f\"Final encoded dataframe shape: {encoded_df.shape}\")\n",
        "    return encoded_df"
      ],
      "metadata": {
        "id": "7BiYt8Pt4ubu"
      },
      "execution_count": null,
      "outputs": []
    },
    {
      "cell_type": "markdown",
      "source": [
        "### scripts"
      ],
      "metadata": {
        "id": "ufnoaq6i1XA5"
      }
    },
    {
      "cell_type": "code",
      "source": [
        "# target variable\n",
        "target_col = \"Recurrence event(s) - {0 = no, 1 = yes}\"\n",
        "if target_col not in clinical_df.columns:\n",
        "    # Find the correct column name by looking for a substring match\n",
        "    matching_cols = [col for col in clinical_df.columns if \"Recurrence event\" in col]\n",
        "    if matching_cols:\n",
        "        target_col = matching_cols[0]\n",
        "        print(f\"Found target column: {target_col}\")\n",
        "    else:\n",
        "        raise ValueError(\"Target column not found! Please check the column names.\")\n",
        "\n",
        "# Encode the data\n",
        "encoded_df = encode_clinical_data(clinical_df)\n",
        "print(f\"Encoded data shape: {encoded_df.shape}\")\n"
      ],
      "metadata": {
        "colab": {
          "base_uri": "https://localhost:8080/"
        },
        "collapsed": true,
        "id": "IQC5qbxJNonu",
        "outputId": "674564c5-ea7d-4e59-e60b-e87e2d7420cb"
      },
      "execution_count": null,
      "outputs": [
        {
          "output_type": "stream",
          "name": "stdout",
          "text": [
            "Checking if data starts at row 4...\n",
            "First rows of sample column: [6, 12, 10, 18]\n",
            "Identified target column: Recurrence event(s) - {0 = no, 1 = yes}\n",
            "Processing 97 total columns\n",
            "Processing column: Days to MRI (From the Date of Diagnosis)\n",
            "  Processing as numeric\n",
            "  Standardized numeric column\n",
            "Processing column: Manufacturer - GE MEDICAL SYSTEMS=0, MPTronic software=1, SIEMENS=2\n",
            "  Processing as numeric\n",
            "  Standardized numeric column\n",
            "Processing column: Manufacturer Model Name - Avanto=0, Optima MR450w=1, SIGNA EXCITE=2, SIGNA HDx=3, Signa HDxt=4, Skyra=5, Trio=6, TrioTim=7\n",
            "  Processing as numeric\n",
            "  Standardized numeric column\n",
            "Processing column: Scan Options - FAST_GEMS\\SAT_GEMS\\ACC_GEMS\\PFP\\FS=0,FAST_GEMS\\SAT_GEMS\\MP_GEMS\\ACC_GEMS\\PFP\\FS=1,FAST_GEMS\\SAT_GEMS\\MP_GEMS\\PFP\\FS=2,FAST_GEMS\\SAT_GEMS\\PFP\\FS=3,FS=4,PFP\\FS=5,PFP\\SFS=6,SAT_GEMS\\PFP\\FS=7,SFS=8\n",
            "  Processing as numeric\n",
            "  Standardized numeric column\n",
            "Processing column: Field Strength (Tesla) - 1.494=0,1.5=1,2.8936=2,3=3\n",
            "  Processing as numeric\n",
            "  Standardized numeric column\n",
            "Processing column: Patient Position During MRI - FFP=0,HFP=1\n",
            "  Processing as numeric\n",
            "  Standardized numeric column\n",
            "Processing column: Image Position of Patient\n",
            "  Processing as categorical\n",
            "  Encoded 921 unique values\n",
            "Processing column: Contrast Agent - GADAVIST=0,MAGNEVIST=1,MMAGNEVIST=2,MULTIHANCE=3,Name of agent not stated(but ContrastBolusAgent tag was present)=4, ContrastBolusAgent Tag Absent = 5\n",
            "  Processing as numeric\n",
            "  Filled missing values with median: 1.0\n",
            "  Standardized numeric column\n",
            "Processing column: Contrast Bolus Volume (mL) - 6=0,7=1,8=2,9=3,10=4,11=5,11.88=6,12=7,13=8,13.6=9,14=10,14.5=11,15=12,16=13,17=14,18=15,19=16,20=17,25=18\n",
            "  Processing as numeric\n",
            "  Filled missing values with median: 12.0\n",
            "  Standardized numeric column\n",
            "Processing column: TR (Repetition Time)\n",
            "  Processing as numeric\n",
            "  Standardized numeric column\n",
            "Processing column: TE (Echo Time)\n",
            "  Processing as numeric\n",
            "  Standardized numeric column\n",
            "Processing column: Acquisition Matrix - 320 X 320=0,340 X 340=1,350 X 350=2,360 X 360=3,384 X 360=4,384 X 384=5,448 X 251=6,448 X 381=7,448 X 430=8,448 X 448=9,512 X 358=10\n",
            "  Processing as numeric\n",
            "  Standardized numeric column\n",
            "Processing column: Slice Thickness - 0.9=0,0.95=1,1=2,1.04=3,1.06=4,1.1=5,1.12=6,1.15=7,1.2=8,1.23=9,1.24=10,1.25=11,1.3=12,1.4=13,1.45=14,1.5=15,1.6=16,1.8=17,2=18,2.2=19,2.5=20\n",
            "  Processing as numeric\n",
            "  Standardized numeric column\n",
            "Processing column: Rows - 320=0,448=1,512=2\n",
            "  Processing as numeric\n",
            "  Standardized numeric column\n",
            "Processing column: Columns - 320=0,448=1,512=2\n",
            "  Processing as numeric\n",
            "  Standardized numeric column\n",
            "Processing column: Reconstruction Diameter - 260=0,270=1,280=2,290=3,300=4,305=5,310=6,320=7,330=8,340=9,350=10,360=11,370=12,380=13,390=14,400=15,410=16,420=17,430=18,480=19\n",
            "  Processing as numeric\n",
            "  Filled missing values with median: 10.0\n",
            "  Standardized numeric column\n",
            "Processing column: Flip Angle - 7=0,8=1,10=2,12=3\n",
            "  Processing as numeric\n",
            "  Standardized numeric column\n",
            "Processing column: FOV Computed (Field of View) in cm - 250=0,260=1,270=2,280=3,290=4,300=5,303=6,305=7,310=8,320=9,330=10,340=11,345=12,346=13,350=14,360=15,365=16,370=17,375=18,380=19,390=20,400=21,410=22,420=23,430=24,440=25,480=26\n",
            "  Processing as numeric\n",
            "  Standardized numeric column\n",
            "Processing column: Date of Birth (Days) - (Taking date of diagnosis as day 0) [Functional Check : numeric entries will be negative only, non-numeric ones will be NA or NC ]\n",
            "  Processing as numeric\n",
            "  Standardized numeric column\n",
            "Processing column: Menopause (at diagnosis) - {0 = pre, 1 = post, 2 = N/A}\n",
            "  Processing as numeric\n",
            "  Standardized numeric column\n",
            "Processing column: Race and Ethnicity - {0 = N/A 1 = white, 2 = black, 3 = asian, 4 = native, 5 = hispanic, 6 = multi, 7 = hawa,    8 = amer indian}\n",
            "  Processing as numeric\n",
            "  Standardized numeric column\n",
            "Processing column: Metastatic at Presentation (Outside of Lymph Nodes) - {0 = no 1 = yes}\n",
            "  Processing as numeric\n",
            "  Standardized numeric column\n",
            "Processing column: ER - {0 = neg, 1 = pos}\n",
            "  Processing as numeric\n",
            "  Standardized numeric column\n",
            "Processing column: PR - {0 = neg, 1 = pos}\n",
            "  Processing as numeric\n",
            "  Standardized numeric column\n",
            "Processing column: HER2 - {0 = neg, 1 = pos, 2 = borderline}\n",
            "  Processing as numeric\n",
            "  Standardized numeric column\n",
            "Processing column: Mol Subtype - {0 = luminal-like, 1 = ER/PR pos, HER2 pos, 2 = her2, 3 = trip neg}\n",
            "  Processing as numeric\n",
            "  Standardized numeric column\n",
            "Processing column: Oncotype score\n",
            "  Processing as numeric\n",
            "  Filled missing values with median: 16.0\n",
            "  Standardized numeric column\n",
            "Processing column: Staging(Tumor Size)# [T]\n",
            "  Processing as numeric\n",
            "  Filled missing values with median: 2.0\n",
            "  Standardized numeric column\n",
            "Processing column: Staging(Nodes)#(Nx replaced by -1)[N]\n",
            "  Processing as numeric\n",
            "  Filled missing values with median: 0.0\n",
            "  Standardized numeric column\n",
            "Processing column: Staging(Metastasis)#(Mx -replaced by -1)[M]\n",
            "  Processing as numeric\n",
            "  Standardized numeric column\n",
            "Processing column: Tumor Grade - Tumor Grade(T) (Tubule)\n",
            "  Processing as numeric\n",
            "  Filled missing values with median: 3.0\n",
            "  Standardized numeric column\n",
            "Processing column: Tumor Grade - Tumor Grade(N) (Nuclear)\n",
            "  Processing as numeric\n",
            "  Filled missing values with median: 3.0\n",
            "  Standardized numeric column\n",
            "Processing column: Tumor Grade - Tumor Grade(M) (Mitotic)\n",
            "  Processing as numeric\n",
            "  Filled missing values with median: 1.0\n",
            "  Standardized numeric column\n",
            "Processing column: Nottingham grade - 1=low 2=intermediate 3=high\n",
            "  Processing as numeric\n",
            "  Filled missing values with median: 2.0\n",
            "  Standardized numeric column\n",
            "Processing column: Histologic type - 0=DCIS 1=ductal 2=lobular 3=metaplastic 4=LCIS 5=tubular 6=mixed 7=micropapillary 8=colloid 9=mucinous 10=medullary\n",
            "  Processing as numeric\n",
            "  Filled missing values with median: 1.0\n",
            "  Standardized numeric column\n",
            "Processing column: Tumor Location - Side of cancer L=left R=right\n",
            "  Processing as categorical\n",
            "  Encoded 3 unique values\n",
            "Processing column: Position - Position (every bx positive for invasive cancer)(used during annotation)\n",
            "  Processing as categorical\n",
            "  Encoded 261 unique values\n",
            "Processing column: Bilateral Information - Bilateral breast cancer? { 0=no 1=yes}\n",
            "  Processing as categorical\n",
            "  Encoded 3 unique values\n",
            "Processing column: Bilateral Information - If Bilateral, Different Rec Status {0=no 1=yes}\n",
            "  Processing as categorical\n",
            "  Encoded 4 unique values\n",
            "Processing column: Bilateral Information - Side Annotated {L=left R=right}\n",
            "  Processing as categorical\n",
            "  Encoded 4 unique values\n",
            "Processing column: For Other Side If Bilateral - Side of cancer (for the other side) {L=left, R=right}\n",
            "  Processing as categorical\n",
            "  Encoded 4 unique values\n",
            "Processing column: For Other Side If Bilateral - Oncotype score (for the other side){##}\n",
            "  Processing as categorical\n",
            "  Encoded 5 unique values\n",
            "Processing column: For Other Side If Bilateral - Nottingham grade (for the other side){#}\n",
            "  Processing as categorical\n",
            "  Encoded 6 unique values\n",
            "Processing column: For Other Side If Bilateral - ER (for the other side) {0 = neg, 1 = pos}\n",
            "  Processing as categorical\n",
            "  Encoded 3 unique values\n",
            "Processing column: For Other Side If Bilateral - PR (for the other side) {0 = neg, 1 = pos}\n",
            "  Processing as categorical\n",
            "  Encoded 3 unique values\n",
            "Processing column: For Other Side If Bilateral - HER2 (for the other side) {0 = neg, 1 = pos, 2=borderline}\n",
            "  Processing as categorical\n",
            "  Encoded 4 unique values\n",
            "Processing column: For Other Side If Bilateral - Mol Subtype (for the other side) {0 = luminal-like, 1 = ER/PR pos, HER2 pos, 2 = her2, 3 = trip neg}\n",
            "  Processing as categorical\n",
            "  Encoded 4 unique values\n",
            "Processing column: Multicentric/Multifocal - {0 = no, 1 = yes}\n",
            "  Processing as numeric\n",
            "  Standardized numeric column\n",
            "Processing column: Contralateral Breast Involvement - {0 = no, 1 = yes}\n",
            "  Processing as numeric\n",
            "  Standardized numeric column\n",
            "Processing column: Lymphadenopathy or Suspicious Nodes - {0 = no, 1 = yes}\n",
            "  Processing as numeric\n",
            "  Standardized numeric column\n",
            "Processing column: Skin/Nipple Invovlement - {0 = no, 1 = yes}\n",
            "  Processing as numeric\n",
            "  Standardized numeric column\n",
            "Processing column: Pec/Chest Involvement - {0 = no, 1 = yes}\n",
            "  Processing as numeric\n",
            "  Standardized numeric column\n",
            "Processing column: Surgery - {0 = no,1 = yes}\n",
            "  Processing as numeric\n",
            "  Filled missing values with median: 1.0\n",
            "  Standardized numeric column\n",
            "Processing column: Days to Surgery (from the date of diagnosis)\n",
            "  Processing as categorical\n",
            "  Encoded 232 unique values\n",
            "Processing column: Definitive Surgery Type - {0=BCS, 1=mastectomy}\n",
            "  Processing as categorical\n",
            "  Encoded 4 unique values\n",
            "Processing column: Neoadjuvant Radiation Therapy - {0 = no, 1 = yes}\n",
            "  Processing as numeric\n",
            "  Filled missing values with median: 0.0\n",
            "  Standardized numeric column\n",
            "Processing column: Adjuvant Radiation Therapy - {0 = no, 1 = yes}\n",
            "  Processing as numeric\n",
            "  Filled missing values with median: 1.0\n",
            "  Standardized numeric column\n",
            "Processing column: Clinical Response, Evaluated Through Imaging - {1=complete response on imaging, 2=not complete response, 3=imaging to assess treatment response is unavailable, NA=no neoadjuvant therapy or not enough information to assess neoadjuvant therapy status}\n",
            "  Processing as numeric\n",
            "  Filled missing values with median: 2.0\n",
            "  Standardized numeric column\n",
            "Processing column: Pathologic Response to Neoadjuvant Therapy - {1=complete response, 2=not complete response, 3=DCIS only remaining, 4=LCIS only remaining, 5=treatment response assessment unavailable, NA=no neoadjuvant therapy or not enough information to assess neoadjuvant therapy status}\n",
            "  Processing as numeric\n",
            "  Filled missing values with median: 2.0\n",
            "  Standardized numeric column\n",
            "Processing column: Days to local recurrence (from the date of diagnosis)\n",
            "  Processing as categorical\n",
            "  Encoded 17 unique values\n",
            "Processing column: Days to distant recurrence(from the date of diagnosis)\n",
            "  Processing as categorical\n",
            "  Encoded 73 unique values\n",
            "Processing column: Days to death (from the date of diagnosis)\n",
            "  Processing as categorical\n",
            "  Encoded 63 unique values\n",
            "Processing column: Days to last local recurrence free assessment (from the date of diagnosis)\n",
            "  Processing as categorical\n",
            "  Encoded 728 unique values\n",
            "Processing column: Days to last distant recurrence free assemssment(from the date of diagnosis)\n",
            "  Processing as categorical\n",
            "  Encoded 723 unique values\n",
            "Processing column: Age at last contact in EMR f/u(days)(from the date of diagnosis) ,last time patient known to be alive, unless age of death is reported(in such case the age of death\n",
            "Error processing column Age at last contact in EMR f/u(days)(from the date of diagnosis) ,last time patient known to be alive, unless age of death is reported(in such case the age of death: 'DataFrame' object has no attribute 'dtype'\n",
            "  Trying alternative encoding approach\n",
            "  Alternative approach failed: y should be a 1d array, got an array of shape (922, 2) instead.\n",
            "  Setting column to 0\n",
            "Processing column: Age at last contact in EMR f/u(days)(from the date of diagnosis) ,last time patient known to be alive, unless age of death is reported(in such case the age of death\n",
            "Error processing column Age at last contact in EMR f/u(days)(from the date of diagnosis) ,last time patient known to be alive, unless age of death is reported(in such case the age of death: 'DataFrame' object has no attribute 'dtype'\n",
            "  Trying alternative encoding approach\n",
            "  Alternative approach failed: y should be a 1d array, got an array of shape (922, 2) instead.\n",
            "  Setting column to 0\n",
            "Processing column: Age at mammo (days)\n",
            "  Processing as categorical\n",
            "  Encoded 55 unique values\n",
            "Processing column: Breast Density - {0=heterogeneous, 1=scattered, 2=minimal, 3=moderate, 4=extremely, 5=predominantly fatty}\n",
            "  Processing as categorical\n",
            "  Encoded 7 unique values\n",
            "Processing column: Shape - {0=oval, 1=irregular, 2=lobular, 3=reniform, 4=stellate}\n",
            "  Processing as categorical\n",
            "  Encoded 5 unique values\n",
            "Processing column: Margin - {0=obscured, 2=spiculated, 3=indistinct/ill-defined, 4=circumscribed}\n",
            "  Processing as categorical\n",
            "  Encoded 6 unique values\n",
            "Processing column: Architectural distortion\n",
            "  Processing as categorical\n",
            "  Encoded 3 unique values\n",
            "Processing column: Mass Density\n",
            "  Processing as categorical\n",
            "  Encoded 4 unique values\n",
            "Processing column: Calcifications - {0=pleomorphic, 1=yes, 2=heterogeneous 3=microcalc 4=linear, 5=clustered, 6=amorphous, 7=branching}\n",
            "  Processing as categorical\n",
            "  Encoded 16 unique values\n",
            "Processing column: Tumor Size (cm)\n",
            "Error processing column Tumor Size (cm): 'DataFrame' object has no attribute 'dtype'\n",
            "  Trying alternative encoding approach\n",
            "  Alternative approach failed: y should be a 1d array, got an array of shape (922, 2) instead.\n",
            "  Setting column to 0\n",
            "Processing column: Shape - {0=oval, 1=irregular, 2=lobular}\n",
            "  Processing as categorical\n",
            "  Encoded 10 unique values\n",
            "Processing column: Margin - {0=obscured, 1=ill-defined, 2=spiculated, 3=indistinct, 4=circumscribed, 5=microlobulated, 6=angular, 7=irregular}\n",
            "  Processing as categorical\n",
            "  Encoded 14 unique values\n",
            "Processing column: Tumor Size (cm)\n",
            "Error processing column Tumor Size (cm): 'DataFrame' object has no attribute 'dtype'\n",
            "  Trying alternative encoding approach\n",
            "  Alternative approach failed: y should be a 1d array, got an array of shape (922, 2) instead.\n",
            "  Setting column to 0\n",
            "Processing column: Echogenicity - {0=hypoechoic, 1=hyperechoic, 2=isoechoic, 3=anechoic, 4=irregular, 5=mixed, 6=boundary}\n",
            "  Processing as categorical\n",
            "  Encoded 18 unique values\n",
            "Processing column: Solid\n",
            "  Processing as categorical\n",
            "  Encoded 3 unique values\n",
            "Processing column: Posterior acoustic shadowing\n",
            "  Processing as categorical\n",
            "  Encoded 6 unique values\n",
            "Processing column: Neoadjuvant Chemotherapy - {0 = no, 1 = yes}\n",
            "  Processing as numeric\n",
            "  Filled missing values with median: 0.0\n",
            "  Standardized numeric column\n",
            "Processing column: Adjuvant Chemotherapy - {0 = no, 1 = yes}\n",
            "  Processing as numeric\n",
            "  Filled missing values with median: 0.0\n",
            "  Standardized numeric column\n",
            "Processing column: Neoadjuvant Endocrine Therapy Medications - {0 = no, 1 = yes}\n",
            "  Processing as numeric\n",
            "  Filled missing values with median: 0.0\n",
            "  Standardized numeric column\n",
            "Processing column: Adjuvant Endocrine Therapy Medications - {0 = no, 1 = yes}\n",
            "  Processing as numeric\n",
            "  Filled missing values with median: 1.0\n",
            "  Standardized numeric column\n",
            "Processing column: Known Ovarian Status - {0 = no, 1 = yes}\n",
            "  Processing as numeric\n",
            "  Standardized numeric column\n",
            "Processing column: Number of Ovaries In Situ - {0 = no ovaries intact, 1 = 1 ovary intact, 2 = 2 ovaries intact, NP = not pertinent to this case}\n",
            "  Processing as categorical\n",
            "  Encoded 4 unique values\n",
            "Processing column: Therapeutic or Prophylactic Oophorectomy as part of Endocrine Therapy - {0 = no, 1 = yes, NP = not pertinent}\n",
            "  Processing as numeric\n",
            "  Standardized numeric column\n",
            "Processing column: Neoadjuvant Anti-Her2 Neu Therapy - {0 = no, 1 = yes}\n",
            "  Processing as numeric\n",
            "  Filled missing values with median: 0.0\n",
            "  Standardized numeric column\n",
            "Processing column: Adjuvant Anti-Her2 Neu Therapy - {0 = no, 1 = yes}\n",
            "  Processing as numeric\n",
            "  Filled missing values with median: 0.0\n",
            "  Standardized numeric column\n",
            "Processing column: Received Neoadjuvant Therapy or Not - {1 = yes, 2 = no, NA = not applicable}\n",
            "  Processing as numeric\n",
            "  Filled missing values with median: 2.0\n",
            "  Standardized numeric column\n",
            "Processing column: Pathologic response to Neoadjuvant therapy: Pathologic stage (T) following neoadjuvant therapy - { -1 = TX;  0 = T0;  1 = T1;  2 = T2;  3 = T3;  4 = T4;  5 = Tis (DCIS);  NA = not applicable}\n",
            "  Processing as numeric\n",
            "  Filled missing values with median: 1.0\n",
            "  Standardized numeric column\n",
            "Processing column: Pathologic response to Neoadjuvant therapy:  Pathologic stage (N) following neoadjuvant therapy - { -1 = NX;  0 = N0;  1 = N1;  2 = N2;  3 = N3; NA = not applicable}\n",
            "  Processing as numeric\n",
            "  Filled missing values with median: 0.0\n",
            "  Standardized numeric column\n",
            "Processing column: Pathologic response to Neoadjuvant therapy:  Pathologic stage (M) following neoadjuvant therapy - { -1 = MX;  0 = M0;  1 = M1;  NA = not applicable}\n",
            "  Processing as numeric\n",
            "  Filled missing values with median: -1.0\n",
            "  Standardized numeric column\n",
            "Processing column: Overall Near-complete Response:  Stricter Definition - {0 = not complete or near-complete, 1 = complete, 2 = near-complete, 3 = pathologic assessment not available, NA = not applicable}  *Strict definition of Near-complete includes the following definitions [from column QK \"Near complete response (graded measure)\"]: 2 = Near complete (pathology report noted results constituted near-complete response to NAT) 3 = No residual disease, only atypical ductal hyperplasia 4 = No invasive carcinoma, DCIS only 5 = No invasive carcinoma, LCIS only 6 = 90% reduction in tumor volume 7 = 95% reduction 18 = 99% of tumor obliterated but extensive residual DCIS\n",
            "  Processing as numeric\n",
            "  Filled missing values with median: 0.0\n",
            "  Standardized numeric column\n",
            "Processing column: Overall Near-complete Response:  Looser Definition - {0 = not complete or near-complete, 1 = complete, 2 = near-complete, 3 = pathologic assessment not available, NA = not applicable}  *Loose definition of Near-complete includes the following definitions [from column QK \"Near complete response (graded measure)\"]: 2 = Near complete (pathology report noted results constituted near-complete response to NAT) 3 = No residual disease, only atypical ductal hyperplasia 4 = No invasive carcinoma, DCIS only 5 = No invasive carcinoma, LCIS only 6 = 90% reduction in tumor volume 7 = 95% reduction 8 = Near complete but DCIS 9 = 90% reduction with DCIS present 10 = No invasive disease but lymph nodes positive 11 = No residual disease, but positive LNs and DCIS 12 = Near complete response noted on path report, but positive LNs 13 = 98% reduction with positive LNs 14 = 95% fibrosis but positive lymph nodes 15 = 90% reduction with positive LNs 16 = > 95% reduction with only mucinous pools remaining 17 = 1mm residual invasive but extensive DCIS 18 = 99% of tumor obliterated but extensive residual DCIS\n",
            "  Processing as numeric\n",
            "  Filled missing values with median: 0.0\n",
            "  Standardized numeric column\n",
            "Processing column: Near-complete Response (Graded Measure) - {0 = Not complete or near-complete;  1 = Complete;  2 = Near complete (pathology report noted results constituted near-complete response to NAT);  3 = No residual disease, only atypical ductal hyperplasia;  4 = No invasive carcinoma, DCIS only;  5 = No invasive carcinoma, LCIS only;  6 = 90% reduction in tumor volume;  7 = 95% reduction;  8 = Near complete but DCIS;  9 = 90% reduction with DCIS present;  10 = No invasive disease but lymph nodes positive;  11 = No residual disease, but positive LNs and DCIS;  12 = Near complete response noted on path report, but positive LNs;  13 = 98% reduction with positive LNs;  14 = 95% fibrosis but positive lymph nodes;  15 = 90% reduction with positive LNs;  16 = > 95% reduction with only mucinous pools remaining;  17 = 1mm residual invasive but extensive DCIS;  18 = 99% of tumor obliterated but extensive residual DCIS;  19 = pathologic assessment not available; NA = not applicable} 0 = Not complete or near-complete 1 = Complete 2 = Near complete (pathology report noted results constituted near-complete response to NAT) 3 = No residual disease, only atypical ductal hyperplasia 4 = No invasive carcinoma, DCIS only 5 = No invasive carcinoma, LCIS only 6 = 90% reduction in tumor volume 7 = 95% reduction 8 = Near complete but DCIS 9 = 90% reduction with DCIS present 10 = No invasive disease but lymph nodes positive 11 = No residual disease, but positive LNs and DCIS 12 = Near complete response noted on path report, but positive LNs 13 = 98% reduction with positive LNs 14 = 95% fibrosis but positive lymph nodes 15 = 90% reduction with positive LNs 16 = > 95% reduction with only mucinous pools remaining 17 = 1mm residual invasive but extensive DCIS 18 = 99% of tumor obliterated but extensive residual DCIS 19 = pathologic assessment not available NA = not applicable\n",
            "  Processing as numeric\n",
            "  Filled missing values with median: 0.0\n",
            "  Standardized numeric column\n",
            "Restored target column: Recurrence event(s) - {0 = no, 1 = yes}\n",
            "Filling NaN values in 1 columns\n",
            "Final encoded dataframe shape: (922, 98)\n",
            "Encoded data shape: (922, 98)\n"
          ]
        }
      ]
    },
    {
      "cell_type": "markdown",
      "source": [
        "## *Data Spliitting and Reshaping*"
      ],
      "metadata": {
        "id": "eGfMLPPDdlru"
      }
    },
    {
      "cell_type": "markdown",
      "source": [
        "### utilities"
      ],
      "metadata": {
        "id": "8HEbY35u1ifD"
      }
    },
    {
      "cell_type": "code",
      "source": [],
      "metadata": {
        "id": "Tutwigmg1mFt"
      },
      "execution_count": null,
      "outputs": []
    },
    {
      "cell_type": "markdown",
      "source": [
        "### scripts"
      ],
      "metadata": {
        "id": "jqKEyyZw1j11"
      }
    },
    {
      "cell_type": "code",
      "source": [
        "# Split the data into features and target\n",
        "X = encoded_df.drop(columns=[target_col, 'Patient ID'])\n",
        "y = encoded_df[target_col]\n",
        "# X = encoded_df.drop(columns=[target_col]) if target_col in encoded_df.columns else encoded_df\n",
        "# y = encoded_df[target_col] if target_col in encoded_df.columns else None\n",
        "\n",
        "\n",
        "# Print info about target distribution\n",
        "if y is not None:\n",
        "    print(f\"Target distribution:\\n{y.value_counts()}\")\n",
        "else:\n",
        "    print(\"Warning: Target column not found in encoded dataframe!\")\n",
        "\n",
        "# Split data into train, validation, and test sets\n",
        "X_train, X_temp, y_train, y_temp = train_test_split(X, y, test_size=0.30, random_state=42)\n",
        "X_val, X_test, y_val, y_test = train_test_split(X_temp, y_temp, test_size=0.50, random_state=42)\n",
        "\n",
        "print(\"Training set size:\", X_train.shape, y_train.shape)\n",
        "print(\"Validation set size:\", X_val.shape, y_val.shape)\n",
        "print(\"Test set size:\", X_test.shape, y_test.shape)\n",
        "\n",
        "# Reshape data for RNN (sequence data)\n",
        "# RNNs expect input of shape (batch_size, time_steps, features)\n",
        "X_train_seq = np.expand_dims(X_train.values.astype('float32'), axis=1)\n",
        "X_val_seq   = np.expand_dims(X_val.values.astype('float32'),   axis=1)\n",
        "X_test_seq  = np.expand_dims(X_test.values.astype('float32'),  axis=1)\n",
        "# X_train_seq = np.expand_dims(X_train.values, axis=1)  # shape: (samples, 1, features)\n",
        "# X_val_seq = np.expand_dims(X_val.values, axis=1)\n",
        "# X_test_seq = np.expand_dims(X_test.values, axis=1)\n",
        "\n",
        "\n",
        "# Check for NaN values using np.isnan for NumPy arrays\n",
        "if np.isnan(X_test_seq).any():\n",
        "    print(\"Warning: NaN values found in test data! Filling with 0...\")\n",
        "    X_test_seq = np.nan_to_num(X_test_seq, nan=0.0)\n",
        "\n",
        "X_train_seq = np.nan_to_num(X_train_seq, nan=0.0)\n",
        "X_val_seq = np.nan_to_num(X_val_seq, nan=0.0)\n",
        "\n",
        "print(\"Sequence shapes:\")\n",
        "print(\"X_train_seq:\", X_train_seq.shape)\n",
        "print(\"X_val_seq:\", X_val_seq.shape)\n",
        "print(\"X_test_seq:\", X_test_seq.shape)"
      ],
      "metadata": {
        "colab": {
          "base_uri": "https://localhost:8080/"
        },
        "id": "hNL_3JdqbRR4",
        "outputId": "2e5256d3-5e15-41b9-eaf2-c5f895f87984"
      },
      "execution_count": null,
      "outputs": [
        {
          "output_type": "stream",
          "name": "stdout",
          "text": [
            "Target distribution:\n",
            "Recurrence event(s) - {0 = no, 1 = yes}\n",
            "0.0    835\n",
            "1.0     87\n",
            "Name: count, dtype: int64\n",
            "Training set size: (645, 96) (645,)\n",
            "Validation set size: (138, 96) (138,)\n",
            "Test set size: (139, 96) (139,)\n",
            "Sequence shapes:\n",
            "X_train_seq: (645, 1, 96)\n",
            "X_val_seq: (138, 1, 96)\n",
            "X_test_seq: (139, 1, 96)\n"
          ]
        }
      ]
    },
    {
      "cell_type": "markdown",
      "source": [
        "# **RNN Model**"
      ],
      "metadata": {
        "id": "4kXymPIuyRHe"
      }
    },
    {
      "cell_type": "markdown",
      "source": [
        "## *Model Building*"
      ],
      "metadata": {
        "id": "iyIn2j1lducS"
      }
    },
    {
      "cell_type": "markdown",
      "source": [
        "### utilities"
      ],
      "metadata": {
        "id": "dEccHIv91x6Z"
      }
    },
    {
      "cell_type": "code",
      "source": [
        "def build_advanced_rnn_model(input_shape, rnn_type='LSTM', units=64,\n",
        "                            bidirectional=True, attention=False,\n",
        "                            dropout_rate=0.3, l1_reg=0.0001, l2_reg=0.0001):\n",
        "    \"\"\"\n",
        "    Build an advanced RNN model with various architectural improvements:\n",
        "    - Bidirectional RNN layers\n",
        "    - Batch normalization\n",
        "    - Regularization (dropout, L1, L2)\n",
        "\n",
        "    Parameters:\n",
        "    -----------\n",
        "    input_shape : tuple\n",
        "        Shape of input data (time_steps, features)\n",
        "    rnn_type : str, default='LSTM'\n",
        "        Type of RNN layer ('LSTM' or 'GRU')\n",
        "    units : int, default=64\n",
        "        Number of RNN units\n",
        "    bidirectional : bool, default=True\n",
        "        Whether to use bidirectional RNNs\n",
        "    attention : bool, default=False\n",
        "        Whether to add an attention mechanism (simplified)\n",
        "    dropout_rate : float, default=0.3\n",
        "        Dropout rate for regularization\n",
        "    l1_reg : float, default=0.0001\n",
        "        L1 regularization strength\n",
        "    l2_reg : float, default=0.0001\n",
        "        L2 regularization strength\n",
        "\n",
        "    Returns:\n",
        "    --------\n",
        "    keras.Model\n",
        "        Compiled RNN model\n",
        "    \"\"\"\n",
        "    # Simple version for simpler architectural choices\n",
        "    if not bidirectional:\n",
        "        model = Sequential()\n",
        "\n",
        "        # Use specified RNN type\n",
        "        if rnn_type == 'LSTM':\n",
        "            model.add(LSTM(units, input_shape=input_shape,\n",
        "                          kernel_regularizer=l1_l2(l1=l1_reg, l2=l2_reg),\n",
        "                          recurrent_regularizer=l1_l2(l1=l1_reg, l2=l2_reg),\n",
        "                          return_sequences=False))\n",
        "        elif rnn_type == 'GRU':\n",
        "            model.add(GRU(units, input_shape=input_shape,\n",
        "                         kernel_regularizer=l1_l2(l1=l1_reg, l2=l2_reg),\n",
        "                         recurrent_regularizer=l1_l2(l1=l1_reg, l2=l2_reg),\n",
        "                         return_sequences=False))\n",
        "        else:\n",
        "            raise ValueError(f\"Unknown RNN type: {rnn_type}\")\n",
        "\n",
        "        model.add(BatchNormalization())\n",
        "        model.add(Dropout(dropout_rate))\n",
        "        model.add(Dense(32, activation='relu', kernel_regularizer=l1_l2(l1=l1_reg, l2=l2_reg)))\n",
        "        model.add(BatchNormalization())\n",
        "        model.add(Dropout(dropout_rate))\n",
        "        model.add(Dense(1, activation='sigmoid'))\n",
        "\n",
        "    # More complex model with bidirectional RNNs\n",
        "    else:\n",
        "        # Create functional API model for more flexibility\n",
        "        inputs = Input(shape=input_shape)\n",
        "\n",
        "        # Configure RNN layer based on parameters\n",
        "        if rnn_type == 'LSTM':\n",
        "            rnn_layer = LSTM(units,\n",
        "                            kernel_regularizer=l1_l2(l1=l1_reg, l2=l2_reg),\n",
        "                            recurrent_regularizer=l1_l2(l1=l1_reg, l2=l2_reg),\n",
        "                            return_sequences=False)  # No need for sequences in this implementation\n",
        "        elif rnn_type == 'GRU':\n",
        "            rnn_layer = GRU(units,\n",
        "                           kernel_regularizer=l1_l2(l1=l1_reg, l2=l2_reg),\n",
        "                           recurrent_regularizer=l1_l2(l1=l1_reg, l2=l2_reg),\n",
        "                           return_sequences=False)  # No need for sequences in this implementation\n",
        "        else:\n",
        "            raise ValueError(f\"Unknown RNN type: {rnn_type}\")\n",
        "\n",
        "        # Add bidirectional wrapper\n",
        "        rnn_output = Bidirectional(rnn_layer)(inputs)\n",
        "\n",
        "        # Add dense layers with regularization\n",
        "        x = BatchNormalization()(rnn_output)\n",
        "        x = Dropout(dropout_rate)(x)\n",
        "        x = Dense(32, activation='relu', kernel_regularizer=l1_l2(l1=l1_reg, l2=l2_reg))(x)\n",
        "        x = BatchNormalization()(x)\n",
        "        x = Dropout(dropout_rate)(x)\n",
        "        outputs = Dense(1, activation='sigmoid')(x)\n",
        "\n",
        "        model = Model(inputs=inputs, outputs=outputs)\n",
        "\n",
        "    # Compile model\n",
        "    model.compile(\n",
        "        optimizer=Adam(learning_rate=0.001),\n",
        "        loss='binary_crossentropy',\n",
        "        metrics=['accuracy', tf.keras.metrics.AUC(), tf.keras.metrics.Precision(), tf.keras.metrics.Recall()]\n",
        "    )\n",
        "\n",
        "    return model"
      ],
      "metadata": {
        "id": "1tS-F_e110-u"
      },
      "execution_count": null,
      "outputs": []
    },
    {
      "cell_type": "markdown",
      "source": [
        "### scripts"
      ],
      "metadata": {
        "id": "m590WBVs1yr3"
      }
    },
    {
      "cell_type": "code",
      "source": [
        "# Build the advanced RNN model\n",
        "input_shape = (X_train_seq.shape[1], X_train_seq.shape[2])  # (time_steps, features)\n",
        "advanced_model = build_advanced_rnn_model(\n",
        "    input_shape=input_shape,\n",
        "    rnn_type='LSTM',       # 'LSTM' or 'GRU'\n",
        "    units=128,             # Number of RNN units\n",
        "    bidirectional=True,    # Use bidirectional RNN\n",
        "    attention=False,       # Attention mechanism not needed for this data\n",
        "    dropout_rate=0.3,      # Dropout rate for regularization\n",
        "    l1_reg=0.0001,         # L1 regularization strength\n",
        "    l2_reg=0.0001          # L2 regularization strength\n",
        ")"
      ],
      "metadata": {
        "id": "osJrHsBW11gq"
      },
      "execution_count": null,
      "outputs": []
    },
    {
      "cell_type": "markdown",
      "source": [
        "## *Model Training*\n"
      ],
      "metadata": {
        "id": "-lXUsuB3eaf3"
      }
    },
    {
      "cell_type": "markdown",
      "source": [
        "### utilities"
      ],
      "metadata": {
        "id": "Ez4KTLkV13ah"
      }
    },
    {
      "cell_type": "code",
      "source": [
        "def train_with_advanced_callbacks(model, X_train, y_train, X_val, y_val,\n",
        "                                 batch_size=32, epochs=100,\n",
        "                                 early_stopping_patience=10,\n",
        "                                 reduce_lr_patience=5,\n",
        "                                 model_checkpoint_path='best_model.h5'):\n",
        "    \"\"\"\n",
        "    Train model with advanced callbacks for better performance\n",
        "\n",
        "    Parameters:\n",
        "    -----------\n",
        "    model : keras.Model\n",
        "        The compiled model to train\n",
        "    X_train, y_train : array-like\n",
        "        Training data and labels\n",
        "    X_val, y_val : array-like\n",
        "        Validation data and labels\n",
        "    batch_size : int, default=32\n",
        "        Batch size for training\n",
        "    epochs : int, default=100\n",
        "        Maximum number of epochs\n",
        "    early_stopping_patience : int, default=10\n",
        "        Patience for early stopping\n",
        "    reduce_lr_patience : int, default=5\n",
        "        Patience for learning rate reduction\n",
        "    model_checkpoint_path : str, default='best_model.h5'\n",
        "        Path to save the best model weights\n",
        "\n",
        "    Returns:\n",
        "    --------\n",
        "    history : dict\n",
        "        Training history\n",
        "    \"\"\"\n",
        "    # Define callbacks\n",
        "    callbacks = [\n",
        "        # Early stopping to prevent overfitting\n",
        "        EarlyStopping(\n",
        "            monitor='val_loss',\n",
        "            patience=early_stopping_patience,\n",
        "            restore_best_weights=True,\n",
        "            verbose=1\n",
        "        ),\n",
        "        # Reduce learning rate when validation loss plateaus\n",
        "        ReduceLROnPlateau(\n",
        "            monitor='val_loss',\n",
        "            factor=0.5,\n",
        "            patience=reduce_lr_patience,\n",
        "            min_lr=1e-6,\n",
        "            verbose=1\n",
        "        ),\n",
        "        # Save the best model based on validation loss\n",
        "        ModelCheckpoint(\n",
        "            filepath=model_checkpoint_path,\n",
        "            monitor='val_loss',\n",
        "            save_best_only=True,\n",
        "            verbose=1\n",
        "        )\n",
        "    ]\n",
        "\n",
        "    # Train the model\n",
        "    history = model.fit(\n",
        "        X_train, y_train,\n",
        "        validation_data=(X_val, y_val),\n",
        "        epochs=epochs,\n",
        "        batch_size=batch_size,\n",
        "        callbacks=callbacks,\n",
        "        verbose=1\n",
        "    )\n",
        "\n",
        "    return history"
      ],
      "metadata": {
        "id": "RHKFuH1neeUO"
      },
      "execution_count": null,
      "outputs": []
    },
    {
      "cell_type": "markdown",
      "source": [
        "### scripts"
      ],
      "metadata": {
        "id": "Fj-ZCiPe15i0"
      }
    },
    {
      "cell_type": "code",
      "source": [
        "# Train the model with advanced callbacks\n",
        "history = train_with_advanced_callbacks(\n",
        "    model=advanced_model,\n",
        "    X_train=X_train_seq,\n",
        "    y_train=y_train,\n",
        "    X_val=X_val_seq,\n",
        "    y_val=y_val,\n",
        "    batch_size=32,\n",
        "    epochs=100,\n",
        "    early_stopping_patience=10,\n",
        "    reduce_lr_patience=5,\n",
        "    model_checkpoint_path='best_rnn_model.h5'\n",
        ")"
      ],
      "metadata": {
        "colab": {
          "base_uri": "https://localhost:8080/"
        },
        "id": "wAzHvS3UfZmN",
        "outputId": "7d32797f-3c0c-4a72-e117-2b37cb93d318",
        "collapsed": true
      },
      "execution_count": null,
      "outputs": [
        {
          "output_type": "stream",
          "name": "stdout",
          "text": [
            "Epoch 1/100\n",
            "\u001b[1m21/21\u001b[0m \u001b[32m━━━━━━━━━━━━━━━━━━━━\u001b[0m\u001b[37m\u001b[0m \u001b[1m0s\u001b[0m 5ms/step - accuracy: 0.4588 - auc: 0.4402 - loss: 2.0034 - precision: 0.0871 - recall: 0.5333\n",
            "Epoch 1: val_loss improved from inf to 1.19006, saving model to best_rnn_model.h5\n"
          ]
        },
        {
          "output_type": "stream",
          "name": "stderr",
          "text": [
            "WARNING:absl:You are saving your model as an HDF5 file via `model.save()` or `keras.saving.save_model(model)`. This file format is considered legacy. We recommend using instead the native Keras format, e.g. `model.save('my_model.keras')` or `keras.saving.save_model(model, 'my_model.keras')`. \n"
          ]
        },
        {
          "output_type": "stream",
          "name": "stdout",
          "text": [
            "\b\b\b\b\b\b\b\b\b\b\b\b\b\b\b\b\b\b\b\b\b\b\b\b\b\b\b\b\b\b\b\b\b\b\b\b\b\b\b\b\b\b\b\b\b\b\b\b\b\b\b\b\b\b\b\b\b\b\b\b\b\b\b\b\b\b\b\b\b\b\b\b\b\b\b\b\b\b\b\b\b\b\b\b\b\b\b\b\b\b\b\b\b\b\b\b\b\b\b\b\b\b\b\b\b\b\b\b\b\b\b\b\b\b\b\b\b\b\b\b\b\b\b\r\u001b[1m21/21\u001b[0m \u001b[32m━━━━━━━━━━━━━━━━━━━━\u001b[0m\u001b[37m\u001b[0m \u001b[1m9s\u001b[0m 63ms/step - accuracy: 0.4607 - auc: 0.4420 - loss: 1.9951 - precision: 0.0873 - recall: 0.5338 - val_accuracy: 0.8768 - val_auc: 0.6697 - val_loss: 1.1901 - val_precision: 0.0000e+00 - val_recall: 0.0000e+00 - learning_rate: 0.0010\n",
            "Epoch 2/100\n",
            "\u001b[1m21/21\u001b[0m \u001b[32m━━━━━━━━━━━━━━━━━━━━\u001b[0m\u001b[37m\u001b[0m \u001b[1m0s\u001b[0m 5ms/step - accuracy: 0.6198 - auc: 0.6696 - loss: 1.3793 - precision: 0.1362 - recall: 0.6600\n",
            "Epoch 2: val_loss improved from 1.19006 to 0.93373, saving model to best_rnn_model.h5\n"
          ]
        },
        {
          "output_type": "stream",
          "name": "stderr",
          "text": [
            "WARNING:absl:You are saving your model as an HDF5 file via `model.save()` or `keras.saving.save_model(model)`. This file format is considered legacy. We recommend using instead the native Keras format, e.g. `model.save('my_model.keras')` or `keras.saving.save_model(model, 'my_model.keras')`. \n"
          ]
        },
        {
          "output_type": "stream",
          "name": "stdout",
          "text": [
            "\b\b\b\b\b\b\b\b\b\b\b\b\b\b\b\b\b\b\b\b\b\b\b\b\b\b\b\b\b\b\b\b\b\b\b\b\b\b\b\b\b\b\b\b\b\b\b\b\b\b\b\b\b\b\b\b\b\b\b\b\b\b\b\b\b\b\b\b\b\b\b\b\b\b\b\b\b\b\b\b\b\b\b\b\b\b\b\b\b\b\b\b\b\b\b\b\b\b\b\b\b\b\b\b\b\b\b\b\b\b\b\b\b\b\b\b\b\b\b\b\b\b\b\r\u001b[1m21/21\u001b[0m \u001b[32m━━━━━━━━━━━━━━━━━━━━\u001b[0m\u001b[37m\u001b[0m \u001b[1m1s\u001b[0m 10ms/step - accuracy: 0.6195 - auc: 0.6682 - loss: 1.3776 - precision: 0.1359 - recall: 0.6581 - val_accuracy: 0.8623 - val_auc: 0.6770 - val_loss: 0.9337 - val_precision: 0.0000e+00 - val_recall: 0.0000e+00 - learning_rate: 0.0010\n",
            "Epoch 3/100\n",
            "\u001b[1m21/21\u001b[0m \u001b[32m━━━━━━━━━━━━━━━━━━━━\u001b[0m\u001b[37m\u001b[0m \u001b[1m0s\u001b[0m 5ms/step - accuracy: 0.6180 - auc: 0.6620 - loss: 1.1203 - precision: 0.1463 - recall: 0.6966\n",
            "Epoch 3: val_loss improved from 0.93373 to 0.74959, saving model to best_rnn_model.h5\n"
          ]
        },
        {
          "output_type": "stream",
          "name": "stderr",
          "text": [
            "WARNING:absl:You are saving your model as an HDF5 file via `model.save()` or `keras.saving.save_model(model)`. This file format is considered legacy. We recommend using instead the native Keras format, e.g. `model.save('my_model.keras')` or `keras.saving.save_model(model, 'my_model.keras')`. \n"
          ]
        },
        {
          "output_type": "stream",
          "name": "stdout",
          "text": [
            "\b\b\b\b\b\b\b\b\b\b\b\b\b\b\b\b\b\b\b\b\b\b\b\b\b\b\b\b\b\b\b\b\b\b\b\b\b\b\b\b\b\b\b\b\b\b\b\b\b\b\b\b\b\b\b\b\b\b\b\b\b\b\b\b\b\b\b\b\b\b\b\b\b\b\b\b\b\b\b\b\b\b\b\b\b\b\b\b\b\b\b\b\b\b\b\b\b\b\b\b\b\b\b\b\b\b\b\b\b\b\b\b\b\b\b\b\b\b\b\b\b\b\b\r\u001b[1m21/21\u001b[0m \u001b[32m━━━━━━━━━━━━━━━━━━━━\u001b[0m\u001b[37m\u001b[0m \u001b[1m0s\u001b[0m 12ms/step - accuracy: 0.6181 - auc: 0.6605 - loss: 1.1191 - precision: 0.1455 - recall: 0.6922 - val_accuracy: 0.8696 - val_auc: 0.7129 - val_loss: 0.7496 - val_precision: 0.0000e+00 - val_recall: 0.0000e+00 - learning_rate: 0.0010\n",
            "Epoch 4/100\n",
            "\u001b[1m19/21\u001b[0m \u001b[32m━━━━━━━━━━━━━━━━━━\u001b[0m\u001b[37m━━\u001b[0m \u001b[1m0s\u001b[0m 6ms/step - accuracy: 0.6990 - auc: 0.7204 - loss: 0.8895 - precision: 0.1337 - recall: 0.6334\n",
            "Epoch 4: val_loss improved from 0.74959 to 0.70050, saving model to best_rnn_model.h5\n"
          ]
        },
        {
          "output_type": "stream",
          "name": "stderr",
          "text": [
            "WARNING:absl:You are saving your model as an HDF5 file via `model.save()` or `keras.saving.save_model(model)`. This file format is considered legacy. We recommend using instead the native Keras format, e.g. `model.save('my_model.keras')` or `keras.saving.save_model(model, 'my_model.keras')`. \n"
          ]
        },
        {
          "output_type": "stream",
          "name": "stdout",
          "text": [
            "\b\b\b\b\b\b\b\b\b\b\b\b\b\b\b\b\b\b\b\b\b\b\b\b\b\b\b\b\b\b\b\b\b\b\b\b\b\b\b\b\b\b\b\b\b\b\b\b\b\b\b\b\b\b\b\b\b\b\b\b\b\b\b\b\b\b\b\b\b\b\b\b\b\b\b\b\b\b\b\b\b\b\b\b\b\b\b\b\b\b\b\b\b\b\b\b\b\b\b\b\b\b\b\b\b\b\b\b\b\b\b\b\b\b\b\b\b\b\b\b\b\b\b\r\u001b[1m21/21\u001b[0m \u001b[32m━━━━━━━━━━━━━━━━━━━━\u001b[0m\u001b[37m\u001b[0m \u001b[1m0s\u001b[0m 11ms/step - accuracy: 0.6998 - auc: 0.7148 - loss: 0.8877 - precision: 0.1374 - recall: 0.6263 - val_accuracy: 0.8768 - val_auc: 0.6884 - val_loss: 0.7005 - val_precision: 0.0000e+00 - val_recall: 0.0000e+00 - learning_rate: 0.0010\n",
            "Epoch 5/100\n",
            "\u001b[1m19/21\u001b[0m \u001b[32m━━━━━━━━━━━━━━━━━━\u001b[0m\u001b[37m━━\u001b[0m \u001b[1m0s\u001b[0m 6ms/step - accuracy: 0.7024 - auc: 0.6096 - loss: 0.8176 - precision: 0.1426 - recall: 0.4782\n",
            "Epoch 5: val_loss improved from 0.70050 to 0.65680, saving model to best_rnn_model.h5\n"
          ]
        },
        {
          "output_type": "stream",
          "name": "stderr",
          "text": [
            "WARNING:absl:You are saving your model as an HDF5 file via `model.save()` or `keras.saving.save_model(model)`. This file format is considered legacy. We recommend using instead the native Keras format, e.g. `model.save('my_model.keras')` or `keras.saving.save_model(model, 'my_model.keras')`. \n"
          ]
        },
        {
          "output_type": "stream",
          "name": "stdout",
          "text": [
            "\b\b\b\b\b\b\b\b\b\b\b\b\b\b\b\b\b\b\b\b\b\b\b\b\b\b\b\b\b\b\b\b\b\b\b\b\b\b\b\b\b\b\b\b\b\b\b\b\b\b\b\b\b\b\b\b\b\b\b\b\b\b\b\b\b\b\b\b\b\b\b\b\b\b\b\b\b\b\b\b\b\b\b\b\b\b\b\b\b\b\b\b\b\b\b\b\b\b\b\b\b\b\b\b\b\b\b\b\b\b\b\b\b\b\b\b\b\b\b\b\b\b\b\r\u001b[1m21/21\u001b[0m \u001b[32m━━━━━━━━━━━━━━━━━━━━\u001b[0m\u001b[37m\u001b[0m \u001b[1m0s\u001b[0m 12ms/step - accuracy: 0.7075 - auc: 0.6200 - loss: 0.8120 - precision: 0.1469 - recall: 0.4873 - val_accuracy: 0.8551 - val_auc: 0.6894 - val_loss: 0.6568 - val_precision: 0.0000e+00 - val_recall: 0.0000e+00 - learning_rate: 0.0010\n",
            "Epoch 6/100\n",
            "\u001b[1m11/21\u001b[0m \u001b[32m━━━━━━━━━━\u001b[0m\u001b[37m━━━━━━━━━━\u001b[0m \u001b[1m0s\u001b[0m 5ms/step - accuracy: 0.7594 - auc: 0.8389 - loss: 0.7052 - precision: 0.1892 - recall: 0.8277 \n",
            "Epoch 6: val_loss improved from 0.65680 to 0.61630, saving model to best_rnn_model.h5\n"
          ]
        },
        {
          "output_type": "stream",
          "name": "stderr",
          "text": [
            "WARNING:absl:You are saving your model as an HDF5 file via `model.save()` or `keras.saving.save_model(model)`. This file format is considered legacy. We recommend using instead the native Keras format, e.g. `model.save('my_model.keras')` or `keras.saving.save_model(model, 'my_model.keras')`. \n"
          ]
        },
        {
          "output_type": "stream",
          "name": "stdout",
          "text": [
            "\b\b\b\b\b\b\b\b\b\b\b\b\b\b\b\b\b\b\b\b\b\b\b\b\b\b\b\b\b\b\b\b\b\b\b\b\b\b\b\b\b\b\b\b\b\b\b\b\b\b\b\b\b\b\b\b\b\b\b\b\b\b\b\b\b\b\b\b\b\b\b\b\b\b\b\b\b\b\b\b\b\b\b\b\b\b\b\b\b\b\b\b\b\b\b\b\b\b\b\b\b\b\b\b\b\b\b\b\b\b\b\b\b\b\b\b\b\b\b\b\b\b\b\r\u001b[1m21/21\u001b[0m \u001b[32m━━━━━━━━━━━━━━━━━━━━\u001b[0m\u001b[37m\u001b[0m \u001b[1m0s\u001b[0m 10ms/step - accuracy: 0.7693 - auc: 0.8096 - loss: 0.7023 - precision: 0.1974 - recall: 0.7468 - val_accuracy: 0.8841 - val_auc: 0.7124 - val_loss: 0.6163 - val_precision: 1.0000 - val_recall: 0.0588 - learning_rate: 0.0010\n",
            "Epoch 7/100\n",
            "\u001b[1m12/21\u001b[0m \u001b[32m━━━━━━━━━━━\u001b[0m\u001b[37m━━━━━━━━━\u001b[0m \u001b[1m0s\u001b[0m 5ms/step - accuracy: 0.7543 - auc: 0.6328 - loss: 0.7362 - precision: 0.1406 - recall: 0.4647 \n",
            "Epoch 7: val_loss improved from 0.61630 to 0.53850, saving model to best_rnn_model.h5\n"
          ]
        },
        {
          "output_type": "stream",
          "name": "stderr",
          "text": [
            "WARNING:absl:You are saving your model as an HDF5 file via `model.save()` or `keras.saving.save_model(model)`. This file format is considered legacy. We recommend using instead the native Keras format, e.g. `model.save('my_model.keras')` or `keras.saving.save_model(model, 'my_model.keras')`. \n"
          ]
        },
        {
          "output_type": "stream",
          "name": "stdout",
          "text": [
            "\b\b\b\b\b\b\b\b\b\b\b\b\b\b\b\b\b\b\b\b\b\b\b\b\b\b\b\b\b\b\b\b\b\b\b\b\b\b\b\b\b\b\b\b\b\b\b\b\b\b\b\b\b\b\b\b\b\b\b\b\b\b\b\b\b\b\b\b\b\b\b\b\b\b\b\b\b\b\b\b\b\b\b\b\b\b\b\b\b\b\b\b\b\b\b\b\b\b\b\b\b\b\b\b\b\b\b\b\b\b\b\b\b\b\b\b\b\b\b\b\b\b\b\r\u001b[1m21/21\u001b[0m \u001b[32m━━━━━━━━━━━━━━━━━━━━\u001b[0m\u001b[37m\u001b[0m \u001b[1m0s\u001b[0m 9ms/step - accuracy: 0.7606 - auc: 0.6482 - loss: 0.7198 - precision: 0.1530 - recall: 0.4598 - val_accuracy: 0.8768 - val_auc: 0.9047 - val_loss: 0.5385 - val_precision: 0.0000e+00 - val_recall: 0.0000e+00 - learning_rate: 0.0010\n",
            "Epoch 8/100\n",
            "\u001b[1m11/21\u001b[0m \u001b[32m━━━━━━━━━━\u001b[0m\u001b[37m━━━━━━━━━━\u001b[0m \u001b[1m0s\u001b[0m 5ms/step - accuracy: 0.8277 - auc: 0.7825 - loss: 0.6210 - precision: 0.3440 - recall: 0.5463 \n",
            "Epoch 8: val_loss did not improve from 0.53850\n",
            "\u001b[1m21/21\u001b[0m \u001b[32m━━━━━━━━━━━━━━━━━━━━\u001b[0m\u001b[37m\u001b[0m \u001b[1m0s\u001b[0m 10ms/step - accuracy: 0.8216 - auc: 0.7646 - loss: 0.6267 - precision: 0.2949 - recall: 0.5185 - val_accuracy: 0.8623 - val_auc: 0.7953 - val_loss: 0.5469 - val_precision: 0.2500 - val_recall: 0.0588 - learning_rate: 0.0010\n",
            "Epoch 9/100\n",
            "\u001b[1m13/21\u001b[0m \u001b[32m━━━━━━━━━━━━\u001b[0m\u001b[37m━━━━━━━━\u001b[0m \u001b[1m0s\u001b[0m 4ms/step - accuracy: 0.8845 - auc: 0.7759 - loss: 0.5772 - precision: 0.4534 - recall: 0.5230 \n",
            "Epoch 9: val_loss improved from 0.53850 to 0.53283, saving model to best_rnn_model.h5\n"
          ]
        },
        {
          "output_type": "stream",
          "name": "stderr",
          "text": [
            "WARNING:absl:You are saving your model as an HDF5 file via `model.save()` or `keras.saving.save_model(model)`. This file format is considered legacy. We recommend using instead the native Keras format, e.g. `model.save('my_model.keras')` or `keras.saving.save_model(model, 'my_model.keras')`. \n"
          ]
        },
        {
          "output_type": "stream",
          "name": "stdout",
          "text": [
            "\b\b\b\b\b\b\b\b\b\b\b\b\b\b\b\b\b\b\b\b\b\b\b\b\b\b\b\b\b\b\b\b\b\b\b\b\b\b\b\b\b\b\b\b\b\b\b\b\b\b\b\b\b\b\b\b\b\b\b\b\b\b\b\b\b\b\b\b\b\b\b\b\b\b\b\b\b\b\b\b\b\b\b\b\b\b\b\b\b\b\b\b\b\b\b\b\b\b\b\b\b\b\b\b\b\b\b\b\b\b\b\b\b\b\b\b\b\b\b\b\b\b\b\r\u001b[1m21/21\u001b[0m \u001b[32m━━━━━━━━━━━━━━━━━━━━\u001b[0m\u001b[37m\u001b[0m \u001b[1m0s\u001b[0m 11ms/step - accuracy: 0.8789 - auc: 0.7730 - loss: 0.5784 - precision: 0.4097 - recall: 0.5169 - val_accuracy: 0.8841 - val_auc: 0.8148 - val_loss: 0.5328 - val_precision: 1.0000 - val_recall: 0.0588 - learning_rate: 0.0010\n",
            "Epoch 10/100\n",
            "\u001b[1m12/21\u001b[0m \u001b[32m━━━━━━━━━━━\u001b[0m\u001b[37m━━━━━━━━━\u001b[0m \u001b[1m0s\u001b[0m 5ms/step - accuracy: 0.8855 - auc: 0.7779 - loss: 0.5547 - precision: 0.3660 - recall: 0.5129 \n",
            "Epoch 10: val_loss improved from 0.53283 to 0.50706, saving model to best_rnn_model.h5\n"
          ]
        },
        {
          "output_type": "stream",
          "name": "stderr",
          "text": [
            "WARNING:absl:You are saving your model as an HDF5 file via `model.save()` or `keras.saving.save_model(model)`. This file format is considered legacy. We recommend using instead the native Keras format, e.g. `model.save('my_model.keras')` or `keras.saving.save_model(model, 'my_model.keras')`. \n"
          ]
        },
        {
          "output_type": "stream",
          "name": "stdout",
          "text": [
            "\b\b\b\b\b\b\b\b\b\b\b\b\b\b\b\b\b\b\b\b\b\b\b\b\b\b\b\b\b\b\b\b\b\b\b\b\b\b\b\b\b\b\b\b\b\b\b\b\b\b\b\b\b\b\b\b\b\b\b\b\b\b\b\b\b\b\b\b\b\b\b\b\b\b\b\b\b\b\b\b\b\b\b\b\b\b\b\b\b\b\b\b\b\b\b\b\b\b\b\b\b\b\b\b\b\b\b\b\b\b\b\b\b\b\b\b\b\b\b\b\b\b\b\r\u001b[1m21/21\u001b[0m \u001b[32m━━━━━━━━━━━━━━━━━━━━\u001b[0m\u001b[37m\u001b[0m \u001b[1m0s\u001b[0m 9ms/step - accuracy: 0.8840 - auc: 0.7739 - loss: 0.5513 - precision: 0.3648 - recall: 0.4978 - val_accuracy: 0.8841 - val_auc: 0.8678 - val_loss: 0.5071 - val_precision: 1.0000 - val_recall: 0.0588 - learning_rate: 0.0010\n",
            "Epoch 11/100\n",
            "\u001b[1m12/21\u001b[0m \u001b[32m━━━━━━━━━━━\u001b[0m\u001b[37m━━━━━━━━━\u001b[0m \u001b[1m0s\u001b[0m 5ms/step - accuracy: 0.8961 - auc: 0.8724 - loss: 0.5002 - precision: 0.3739 - recall: 0.6335 \n",
            "Epoch 11: val_loss improved from 0.50706 to 0.48222, saving model to best_rnn_model.h5\n"
          ]
        },
        {
          "output_type": "stream",
          "name": "stderr",
          "text": [
            "WARNING:absl:You are saving your model as an HDF5 file via `model.save()` or `keras.saving.save_model(model)`. This file format is considered legacy. We recommend using instead the native Keras format, e.g. `model.save('my_model.keras')` or `keras.saving.save_model(model, 'my_model.keras')`. \n"
          ]
        },
        {
          "output_type": "stream",
          "name": "stdout",
          "text": [
            "\b\b\b\b\b\b\b\b\b\b\b\b\b\b\b\b\b\b\b\b\b\b\b\b\b\b\b\b\b\b\b\b\b\b\b\b\b\b\b\b\b\b\b\b\b\b\b\b\b\b\b\b\b\b\b\b\b\b\b\b\b\b\b\b\b\b\b\b\b\b\b\b\b\b\b\b\b\b\b\b\b\b\b\b\b\b\b\b\b\b\b\b\b\b\b\b\b\b\b\b\b\b\b\b\b\b\b\b\b\b\b\b\b\b\b\b\b\b\b\b\b\b\b\r\u001b[1m21/21\u001b[0m \u001b[32m━━━━━━━━━━━━━━━━━━━━\u001b[0m\u001b[37m\u001b[0m \u001b[1m0s\u001b[0m 11ms/step - accuracy: 0.8882 - auc: 0.8299 - loss: 0.5091 - precision: 0.3523 - recall: 0.5427 - val_accuracy: 0.8841 - val_auc: 0.8488 - val_loss: 0.4822 - val_precision: 1.0000 - val_recall: 0.0588 - learning_rate: 0.0010\n",
            "Epoch 12/100\n",
            "\u001b[1m19/21\u001b[0m \u001b[32m━━━━━━━━━━━━━━━━━━\u001b[0m\u001b[37m━━\u001b[0m \u001b[1m0s\u001b[0m 9ms/step - accuracy: 0.8816 - auc: 0.8414 - loss: 0.4968 - precision: 0.3674 - recall: 0.4654\n",
            "Epoch 12: val_loss did not improve from 0.48222\n",
            "\u001b[1m21/21\u001b[0m \u001b[32m━━━━━━━━━━━━━━━━━━━━\u001b[0m\u001b[37m\u001b[0m \u001b[1m0s\u001b[0m 13ms/step - accuracy: 0.8824 - auc: 0.8434 - loss: 0.4962 - precision: 0.3700 - recall: 0.4738 - val_accuracy: 0.8913 - val_auc: 0.8629 - val_loss: 0.4891 - val_precision: 0.7500 - val_recall: 0.1765 - learning_rate: 0.0010\n",
            "Epoch 13/100\n",
            "\u001b[1m19/21\u001b[0m \u001b[32m━━━━━━━━━━━━━━━━━━\u001b[0m\u001b[37m━━\u001b[0m \u001b[1m0s\u001b[0m 9ms/step - accuracy: 0.9129 - auc: 0.8195 - loss: 0.4713 - precision: 0.5053 - recall: 0.5315\n",
            "Epoch 13: val_loss did not improve from 0.48222\n",
            "\u001b[1m21/21\u001b[0m \u001b[32m━━━━━━━━━━━━━━━━━━━━\u001b[0m\u001b[37m\u001b[0m \u001b[1m0s\u001b[0m 13ms/step - accuracy: 0.9126 - auc: 0.8148 - loss: 0.4714 - precision: 0.5016 - recall: 0.5309 - val_accuracy: 0.8913 - val_auc: 0.8670 - val_loss: 0.4909 - val_precision: 1.0000 - val_recall: 0.1176 - learning_rate: 0.0010\n",
            "Epoch 14/100\n",
            "\u001b[1m16/21\u001b[0m \u001b[32m━━━━━━━━━━━━━━━\u001b[0m\u001b[37m━━━━━\u001b[0m \u001b[1m0s\u001b[0m 7ms/step - accuracy: 0.8680 - auc: 0.7966 - loss: 0.5163 - precision: 0.3228 - recall: 0.1909\n",
            "Epoch 14: val_loss did not improve from 0.48222\n",
            "\u001b[1m21/21\u001b[0m \u001b[32m━━━━━━━━━━━━━━━━━━━━\u001b[0m\u001b[37m\u001b[0m \u001b[1m0s\u001b[0m 13ms/step - accuracy: 0.8752 - auc: 0.8011 - loss: 0.5063 - precision: 0.3336 - recall: 0.2231 - val_accuracy: 0.9058 - val_auc: 0.7970 - val_loss: 0.5545 - val_precision: 0.6667 - val_recall: 0.4706 - learning_rate: 0.0010\n",
            "Epoch 15/100\n",
            "\u001b[1m15/21\u001b[0m \u001b[32m━━━━━━━━━━━━━━\u001b[0m\u001b[37m━━━━━━\u001b[0m \u001b[1m0s\u001b[0m 8ms/step - accuracy: 0.8947 - auc: 0.7620 - loss: 0.4662 - precision: 0.3367 - recall: 0.3191\n",
            "Epoch 15: val_loss did not improve from 0.48222\n",
            "\u001b[1m21/21\u001b[0m \u001b[32m━━━━━━━━━━━━━━━━━━━━\u001b[0m\u001b[37m\u001b[0m \u001b[1m0s\u001b[0m 14ms/step - accuracy: 0.9009 - auc: 0.7880 - loss: 0.4545 - precision: 0.3875 - recall: 0.3574 - val_accuracy: 0.8913 - val_auc: 0.8717 - val_loss: 0.5290 - val_precision: 0.5833 - val_recall: 0.4118 - learning_rate: 0.0010\n",
            "Epoch 16/100\n",
            "\u001b[1m13/21\u001b[0m \u001b[32m━━━━━━━━━━━━\u001b[0m\u001b[37m━━━━━━━━\u001b[0m \u001b[1m0s\u001b[0m 4ms/step - accuracy: 0.9230 - auc: 0.8320 - loss: 0.4319 - precision: 0.5635 - recall: 0.6055 \n",
            "Epoch 16: ReduceLROnPlateau reducing learning rate to 0.0005000000237487257.\n",
            "\n",
            "Epoch 16: val_loss did not improve from 0.48222\n",
            "\u001b[1m21/21\u001b[0m \u001b[32m━━━━━━━━━━━━━━━━━━━━\u001b[0m\u001b[37m\u001b[0m \u001b[1m0s\u001b[0m 7ms/step - accuracy: 0.9239 - auc: 0.8431 - loss: 0.4262 - precision: 0.5669 - recall: 0.5803 - val_accuracy: 0.9130 - val_auc: 0.8634 - val_loss: 0.5194 - val_precision: 0.6667 - val_recall: 0.5882 - learning_rate: 0.0010\n",
            "Epoch 17/100\n",
            "\u001b[1m12/21\u001b[0m \u001b[32m━━━━━━━━━━━\u001b[0m\u001b[37m━━━━━━━━━\u001b[0m \u001b[1m0s\u001b[0m 5ms/step - accuracy: 0.8935 - auc: 0.8584 - loss: 0.4313 - precision: 0.5978 - recall: 0.3939  \n",
            "Epoch 17: val_loss improved from 0.48222 to 0.44236, saving model to best_rnn_model.h5\n"
          ]
        },
        {
          "output_type": "stream",
          "name": "stderr",
          "text": [
            "WARNING:absl:You are saving your model as an HDF5 file via `model.save()` or `keras.saving.save_model(model)`. This file format is considered legacy. We recommend using instead the native Keras format, e.g. `model.save('my_model.keras')` or `keras.saving.save_model(model, 'my_model.keras')`. \n"
          ]
        },
        {
          "output_type": "stream",
          "name": "stdout",
          "text": [
            "\b\b\b\b\b\b\b\b\b\b\b\b\b\b\b\b\b\b\b\b\b\b\b\b\b\b\b\b\b\b\b\b\b\b\b\b\b\b\b\b\b\b\b\b\b\b\b\b\b\b\b\b\b\b\b\b\b\b\b\b\b\b\b\b\b\b\b\b\b\b\b\b\b\b\b\b\b\b\b\b\b\b\b\b\b\b\b\b\b\b\b\b\b\b\b\b\b\b\b\b\b\b\b\b\b\b\b\b\b\b\b\b\b\b\b\b\b\b\b\b\b\b\b\r\u001b[1m21/21\u001b[0m \u001b[32m━━━━━━━━━━━━━━━━━━━━\u001b[0m\u001b[37m\u001b[0m \u001b[1m0s\u001b[0m 9ms/step - accuracy: 0.9081 - auc: 0.8588 - loss: 0.4122 - precision: 0.5787 - recall: 0.4229 - val_accuracy: 0.8986 - val_auc: 0.8807 - val_loss: 0.4424 - val_precision: 0.7143 - val_recall: 0.2941 - learning_rate: 5.0000e-04\n",
            "Epoch 18/100\n",
            "\u001b[1m21/21\u001b[0m \u001b[32m━━━━━━━━━━━━━━━━━━━━\u001b[0m\u001b[37m\u001b[0m \u001b[1m0s\u001b[0m 5ms/step - accuracy: 0.9407 - auc: 0.9176 - loss: 0.3579 - precision: 0.6594 - recall: 0.6152\n",
            "Epoch 18: val_loss did not improve from 0.44236\n",
            "\u001b[1m21/21\u001b[0m \u001b[32m━━━━━━━━━━━━━━━━━━━━\u001b[0m\u001b[37m\u001b[0m \u001b[1m0s\u001b[0m 8ms/step - accuracy: 0.9402 - auc: 0.9161 - loss: 0.3587 - precision: 0.6567 - recall: 0.6121 - val_accuracy: 0.9203 - val_auc: 0.8865 - val_loss: 0.4655 - val_precision: 0.6875 - val_recall: 0.6471 - learning_rate: 5.0000e-04\n",
            "Epoch 19/100\n",
            "\u001b[1m11/21\u001b[0m \u001b[32m━━━━━━━━━━\u001b[0m\u001b[37m━━━━━━━━━━\u001b[0m \u001b[1m0s\u001b[0m 5ms/step - accuracy: 0.9380 - auc: 0.9491 - loss: 0.3423 - precision: 0.6475 - recall: 0.6938  \n",
            "Epoch 19: val_loss did not improve from 0.44236\n",
            "\u001b[1m21/21\u001b[0m \u001b[32m━━━━━━━━━━━━━━━━━━━━\u001b[0m\u001b[37m\u001b[0m \u001b[1m0s\u001b[0m 8ms/step - accuracy: 0.9442 - auc: 0.9348 - loss: 0.3423 - precision: 0.6866 - recall: 0.6896 - val_accuracy: 0.9130 - val_auc: 0.8772 - val_loss: 0.4515 - val_precision: 0.6667 - val_recall: 0.5882 - learning_rate: 5.0000e-04\n",
            "Epoch 20/100\n",
            "\u001b[1m21/21\u001b[0m \u001b[32m━━━━━━━━━━━━━━━━━━━━\u001b[0m\u001b[37m\u001b[0m \u001b[1m0s\u001b[0m 5ms/step - accuracy: 0.9463 - auc: 0.9022 - loss: 0.3515 - precision: 0.6279 - recall: 0.6762\n",
            "Epoch 20: val_loss improved from 0.44236 to 0.39853, saving model to best_rnn_model.h5\n"
          ]
        },
        {
          "output_type": "stream",
          "name": "stderr",
          "text": [
            "WARNING:absl:You are saving your model as an HDF5 file via `model.save()` or `keras.saving.save_model(model)`. This file format is considered legacy. We recommend using instead the native Keras format, e.g. `model.save('my_model.keras')` or `keras.saving.save_model(model, 'my_model.keras')`. \n"
          ]
        },
        {
          "output_type": "stream",
          "name": "stdout",
          "text": [
            "\b\b\b\b\b\b\b\b\b\b\b\b\b\b\b\b\b\b\b\b\b\b\b\b\b\b\b\b\b\b\b\b\b\b\b\b\b\b\b\b\b\b\b\b\b\b\b\b\b\b\b\b\b\b\b\b\b\b\b\b\b\b\b\b\b\b\b\b\b\b\b\b\b\b\b\b\b\b\b\b\b\b\b\b\b\b\b\b\b\b\b\b\b\b\b\b\b\b\b\b\b\b\b\b\b\b\b\b\b\b\b\b\b\b\b\b\b\b\b\b\b\b\b\r\u001b[1m21/21\u001b[0m \u001b[32m━━━━━━━━━━━━━━━━━━━━\u001b[0m\u001b[37m\u001b[0m \u001b[1m0s\u001b[0m 11ms/step - accuracy: 0.9459 - auc: 0.9017 - loss: 0.3516 - precision: 0.6296 - recall: 0.6703 - val_accuracy: 0.9203 - val_auc: 0.8943 - val_loss: 0.3985 - val_precision: 0.8750 - val_recall: 0.4118 - learning_rate: 5.0000e-04\n",
            "Epoch 21/100\n",
            "\u001b[1m11/21\u001b[0m \u001b[32m━━━━━━━━━━\u001b[0m\u001b[37m━━━━━━━━━━\u001b[0m \u001b[1m0s\u001b[0m 5ms/step - accuracy: 0.9666 - auc: 0.9073 - loss: 0.3167 - precision: 0.8594 - recall: 0.7424 \n",
            "Epoch 21: val_loss improved from 0.39853 to 0.36288, saving model to best_rnn_model.h5\n"
          ]
        },
        {
          "output_type": "stream",
          "name": "stderr",
          "text": [
            "WARNING:absl:You are saving your model as an HDF5 file via `model.save()` or `keras.saving.save_model(model)`. This file format is considered legacy. We recommend using instead the native Keras format, e.g. `model.save('my_model.keras')` or `keras.saving.save_model(model, 'my_model.keras')`. \n"
          ]
        },
        {
          "output_type": "stream",
          "name": "stdout",
          "text": [
            "\b\b\b\b\b\b\b\b\b\b\b\b\b\b\b\b\b\b\b\b\b\b\b\b\b\b\b\b\b\b\b\b\b\b\b\b\b\b\b\b\b\b\b\b\b\b\b\b\b\b\b\b\b\b\b\b\b\b\b\b\b\b\b\b\b\b\b\b\b\b\b\b\b\b\b\b\b\b\b\b\b\b\b\b\b\b\b\b\b\b\b\b\b\b\b\b\b\b\b\b\b\b\b\b\b\b\b\b\b\b\b\b\b\b\b\b\b\b\b\b\b\b\b\r\u001b[1m21/21\u001b[0m \u001b[32m━━━━━━━━━━━━━━━━━━━━\u001b[0m\u001b[37m\u001b[0m \u001b[1m0s\u001b[0m 10ms/step - accuracy: 0.9628 - auc: 0.9159 - loss: 0.3158 - precision: 0.8241 - recall: 0.7146 - val_accuracy: 0.9203 - val_auc: 0.9110 - val_loss: 0.3629 - val_precision: 0.8000 - val_recall: 0.4706 - learning_rate: 5.0000e-04\n",
            "Epoch 22/100\n",
            "\u001b[1m20/21\u001b[0m \u001b[32m━━━━━━━━━━━━━━━━━━━\u001b[0m\u001b[37m━\u001b[0m \u001b[1m0s\u001b[0m 6ms/step - accuracy: 0.9447 - auc: 0.9542 - loss: 0.3163 - precision: 0.6716 - recall: 0.5873\n",
            "Epoch 22: val_loss improved from 0.36288 to 0.33443, saving model to best_rnn_model.h5\n"
          ]
        },
        {
          "output_type": "stream",
          "name": "stderr",
          "text": [
            "WARNING:absl:You are saving your model as an HDF5 file via `model.save()` or `keras.saving.save_model(model)`. This file format is considered legacy. We recommend using instead the native Keras format, e.g. `model.save('my_model.keras')` or `keras.saving.save_model(model, 'my_model.keras')`. \n"
          ]
        },
        {
          "output_type": "stream",
          "name": "stdout",
          "text": [
            "\b\b\b\b\b\b\b\b\b\b\b\b\b\b\b\b\b\b\b\b\b\b\b\b\b\b\b\b\b\b\b\b\b\b\b\b\b\b\b\b\b\b\b\b\b\b\b\b\b\b\b\b\b\b\b\b\b\b\b\b\b\b\b\b\b\b\b\b\b\b\b\b\b\b\b\b\b\b\b\b\b\b\b\b\b\b\b\b\b\b\b\b\b\b\b\b\b\b\b\b\b\b\b\b\b\b\b\b\b\b\b\b\b\b\b\b\b\b\b\b\b\b\b\r\u001b[1m21/21\u001b[0m \u001b[32m━━━━━━━━━━━━━━━━━━━━\u001b[0m\u001b[37m\u001b[0m \u001b[1m0s\u001b[0m 10ms/step - accuracy: 0.9459 - auc: 0.9536 - loss: 0.3154 - precision: 0.6815 - recall: 0.5984 - val_accuracy: 0.9420 - val_auc: 0.9387 - val_loss: 0.3344 - val_precision: 0.8462 - val_recall: 0.6471 - learning_rate: 5.0000e-04\n",
            "Epoch 23/100\n",
            "\u001b[1m21/21\u001b[0m \u001b[32m━━━━━━━━━━━━━━━━━━━━\u001b[0m\u001b[37m\u001b[0m \u001b[1m0s\u001b[0m 5ms/step - accuracy: 0.9630 - auc: 0.9396 - loss: 0.2984 - precision: 0.7156 - recall: 0.7516\n",
            "Epoch 23: val_loss improved from 0.33443 to 0.33003, saving model to best_rnn_model.h5\n"
          ]
        },
        {
          "output_type": "stream",
          "name": "stderr",
          "text": [
            "WARNING:absl:You are saving your model as an HDF5 file via `model.save()` or `keras.saving.save_model(model)`. This file format is considered legacy. We recommend using instead the native Keras format, e.g. `model.save('my_model.keras')` or `keras.saving.save_model(model, 'my_model.keras')`. \n"
          ]
        },
        {
          "output_type": "stream",
          "name": "stdout",
          "text": [
            "\b\b\b\b\b\b\b\b\b\b\b\b\b\b\b\b\b\b\b\b\b\b\b\b\b\b\b\b\b\b\b\b\b\b\b\b\b\b\b\b\b\b\b\b\b\b\b\b\b\b\b\b\b\b\b\b\b\b\b\b\b\b\b\b\b\b\b\b\b\b\b\b\b\b\b\b\b\b\b\b\b\b\b\b\b\b\b\b\b\b\b\b\b\b\b\b\b\b\b\b\b\b\b\b\b\b\b\b\b\b\b\b\b\b\b\b\b\b\b\b\b\b\b\r\u001b[1m21/21\u001b[0m \u001b[32m━━━━━━━━━━━━━━━━━━━━\u001b[0m\u001b[37m\u001b[0m \u001b[1m0s\u001b[0m 10ms/step - accuracy: 0.9632 - auc: 0.9407 - loss: 0.2980 - precision: 0.7196 - recall: 0.7546 - val_accuracy: 0.9565 - val_auc: 0.9319 - val_loss: 0.3300 - val_precision: 0.8667 - val_recall: 0.7647 - learning_rate: 5.0000e-04\n",
            "Epoch 24/100\n",
            "\u001b[1m17/21\u001b[0m \u001b[32m━━━━━━━━━━━━━━━━\u001b[0m\u001b[37m━━━━\u001b[0m \u001b[1m0s\u001b[0m 7ms/step - accuracy: 0.9347 - auc: 0.9231 - loss: 0.3267 - precision: 0.7865 - recall: 0.6094\n",
            "Epoch 24: val_loss improved from 0.33003 to 0.31760, saving model to best_rnn_model.h5\n"
          ]
        },
        {
          "output_type": "stream",
          "name": "stderr",
          "text": [
            "WARNING:absl:You are saving your model as an HDF5 file via `model.save()` or `keras.saving.save_model(model)`. This file format is considered legacy. We recommend using instead the native Keras format, e.g. `model.save('my_model.keras')` or `keras.saving.save_model(model, 'my_model.keras')`. \n"
          ]
        },
        {
          "output_type": "stream",
          "name": "stdout",
          "text": [
            "\b\b\b\b\b\b\b\b\b\b\b\b\b\b\b\b\b\b\b\b\b\b\b\b\b\b\b\b\b\b\b\b\b\b\b\b\b\b\b\b\b\b\b\b\b\b\b\b\b\b\b\b\b\b\b\b\b\b\b\b\b\b\b\b\b\b\b\b\b\b\b\b\b\b\b\b\b\b\b\b\b\b\b\b\b\b\b\b\b\b\b\b\b\b\b\b\b\b\b\b\b\b\b\b\b\b\b\b\b\b\b\b\b\b\b\b\b\b\b\b\b\b\b\r\u001b[1m21/21\u001b[0m \u001b[32m━━━━━━━━━━━━━━━━━━━━\u001b[0m\u001b[37m\u001b[0m \u001b[1m0s\u001b[0m 12ms/step - accuracy: 0.9364 - auc: 0.9242 - loss: 0.3238 - precision: 0.7604 - recall: 0.6178 - val_accuracy: 0.9420 - val_auc: 0.9336 - val_loss: 0.3176 - val_precision: 0.9091 - val_recall: 0.5882 - learning_rate: 5.0000e-04\n",
            "Epoch 25/100\n",
            "\u001b[1m20/21\u001b[0m \u001b[32m━━━━━━━━━━━━━━━━━━━\u001b[0m\u001b[37m━\u001b[0m \u001b[1m0s\u001b[0m 6ms/step - accuracy: 0.9745 - auc: 0.9686 - loss: 0.2666 - precision: 0.8857 - recall: 0.8285\n",
            "Epoch 25: val_loss improved from 0.31760 to 0.31669, saving model to best_rnn_model.h5\n"
          ]
        },
        {
          "output_type": "stream",
          "name": "stderr",
          "text": [
            "WARNING:absl:You are saving your model as an HDF5 file via `model.save()` or `keras.saving.save_model(model)`. This file format is considered legacy. We recommend using instead the native Keras format, e.g. `model.save('my_model.keras')` or `keras.saving.save_model(model, 'my_model.keras')`. \n"
          ]
        },
        {
          "output_type": "stream",
          "name": "stdout",
          "text": [
            "\b\b\b\b\b\b\b\b\b\b\b\b\b\b\b\b\b\b\b\b\b\b\b\b\b\b\b\b\b\b\b\b\b\b\b\b\b\b\b\b\b\b\b\b\b\b\b\b\b\b\b\b\b\b\b\b\b\b\b\b\b\b\b\b\b\b\b\b\b\b\b\b\b\b\b\b\b\b\b\b\b\b\b\b\b\b\b\b\b\b\b\b\b\b\b\b\b\b\b\b\b\b\b\b\b\b\b\b\b\b\b\b\b\b\b\b\b\b\b\b\b\b\b\r\u001b[1m21/21\u001b[0m \u001b[32m━━━━━━━━━━━━━━━━━━━━\u001b[0m\u001b[37m\u001b[0m \u001b[1m0s\u001b[0m 12ms/step - accuracy: 0.9736 - auc: 0.9677 - loss: 0.2684 - precision: 0.8798 - recall: 0.8210 - val_accuracy: 0.9493 - val_auc: 0.9638 - val_loss: 0.3167 - val_precision: 1.0000 - val_recall: 0.5882 - learning_rate: 5.0000e-04\n",
            "Epoch 26/100\n",
            "\u001b[1m21/21\u001b[0m \u001b[32m━━━━━━━━━━━━━━━━━━━━\u001b[0m\u001b[37m\u001b[0m \u001b[1m0s\u001b[0m 5ms/step - accuracy: 0.9627 - auc: 0.9764 - loss: 0.2621 - precision: 0.8184 - recall: 0.7325\n",
            "Epoch 26: val_loss did not improve from 0.31669\n",
            "\u001b[1m21/21\u001b[0m \u001b[32m━━━━━━━━━━━━━━━━━━━━\u001b[0m\u001b[37m\u001b[0m \u001b[1m0s\u001b[0m 9ms/step - accuracy: 0.9623 - auc: 0.9754 - loss: 0.2632 - precision: 0.8165 - recall: 0.7282 - val_accuracy: 0.6667 - val_auc: 0.8960 - val_loss: 0.7340 - val_precision: 0.2542 - val_recall: 0.8824 - learning_rate: 5.0000e-04\n",
            "Epoch 27/100\n",
            "\u001b[1m21/21\u001b[0m \u001b[32m━━━━━━━━━━━━━━━━━━━━\u001b[0m\u001b[37m\u001b[0m \u001b[1m0s\u001b[0m 5ms/step - accuracy: 0.9493 - auc: 0.9388 - loss: 0.3204 - precision: 0.7461 - recall: 0.7096\n",
            "Epoch 27: val_loss did not improve from 0.31669\n",
            "\u001b[1m21/21\u001b[0m \u001b[32m━━━━━━━━━━━━━━━━━━━━\u001b[0m\u001b[37m\u001b[0m \u001b[1m0s\u001b[0m 8ms/step - accuracy: 0.9492 - auc: 0.9379 - loss: 0.3204 - precision: 0.7439 - recall: 0.7080 - val_accuracy: 0.9348 - val_auc: 0.9183 - val_loss: 0.4440 - val_precision: 0.8333 - val_recall: 0.5882 - learning_rate: 5.0000e-04\n",
            "Epoch 28/100\n",
            "\u001b[1m11/21\u001b[0m \u001b[32m━━━━━━━━━━\u001b[0m\u001b[37m━━━━━━━━━━\u001b[0m \u001b[1m0s\u001b[0m 5ms/step - accuracy: 0.9512 - auc: 0.9184 - loss: 0.3047 - precision: 0.8972 - recall: 0.6156  \n",
            "Epoch 28: val_loss did not improve from 0.31669\n",
            "\u001b[1m21/21\u001b[0m \u001b[32m━━━━━━━━━━━━━━━━━━━━\u001b[0m\u001b[37m\u001b[0m \u001b[1m0s\u001b[0m 8ms/step - accuracy: 0.9537 - auc: 0.9211 - loss: 0.2997 - precision: 0.8627 - recall: 0.6265 - val_accuracy: 0.9493 - val_auc: 0.9772 - val_loss: 0.3798 - val_precision: 0.8125 - val_recall: 0.7647 - learning_rate: 5.0000e-04\n",
            "Epoch 29/100\n",
            "\u001b[1m21/21\u001b[0m \u001b[32m━━━━━━━━━━━━━━━━━━━━\u001b[0m\u001b[37m\u001b[0m \u001b[1m0s\u001b[0m 5ms/step - accuracy: 0.9579 - auc: 0.9272 - loss: 0.2798 - precision: 0.7496 - recall: 0.6868\n",
            "Epoch 29: val_loss improved from 0.31669 to 0.27667, saving model to best_rnn_model.h5\n"
          ]
        },
        {
          "output_type": "stream",
          "name": "stderr",
          "text": [
            "WARNING:absl:You are saving your model as an HDF5 file via `model.save()` or `keras.saving.save_model(model)`. This file format is considered legacy. We recommend using instead the native Keras format, e.g. `model.save('my_model.keras')` or `keras.saving.save_model(model, 'my_model.keras')`. \n"
          ]
        },
        {
          "output_type": "stream",
          "name": "stdout",
          "text": [
            "\b\b\b\b\b\b\b\b\b\b\b\b\b\b\b\b\b\b\b\b\b\b\b\b\b\b\b\b\b\b\b\b\b\b\b\b\b\b\b\b\b\b\b\b\b\b\b\b\b\b\b\b\b\b\b\b\b\b\b\b\b\b\b\b\b\b\b\b\b\b\b\b\b\b\b\b\b\b\b\b\b\b\b\b\b\b\b\b\b\b\b\b\b\b\b\b\b\b\b\b\b\b\b\b\b\b\b\b\b\b\b\b\b\b\b\b\b\b\b\b\b\b\b\r\u001b[1m21/21\u001b[0m \u001b[32m━━━━━━━━━━━━━━━━━━━━\u001b[0m\u001b[37m\u001b[0m \u001b[1m0s\u001b[0m 10ms/step - accuracy: 0.9573 - auc: 0.9267 - loss: 0.2809 - precision: 0.7478 - recall: 0.6820 - val_accuracy: 0.9565 - val_auc: 0.9560 - val_loss: 0.2767 - val_precision: 0.8667 - val_recall: 0.7647 - learning_rate: 5.0000e-04\n",
            "Epoch 30/100\n",
            "\u001b[1m20/21\u001b[0m \u001b[32m━━━━━━━━━━━━━━━━━━━\u001b[0m\u001b[37m━\u001b[0m \u001b[1m0s\u001b[0m 5ms/step - accuracy: 0.9613 - auc: 0.9577 - loss: 0.2520 - precision: 0.8476 - recall: 0.6692\n",
            "Epoch 30: val_loss did not improve from 0.27667\n",
            "\u001b[1m21/21\u001b[0m \u001b[32m━━━━━━━━━━━━━━━━━━━━\u001b[0m\u001b[37m\u001b[0m \u001b[1m0s\u001b[0m 9ms/step - accuracy: 0.9609 - auc: 0.9552 - loss: 0.2541 - precision: 0.8460 - recall: 0.6645 - val_accuracy: 0.9638 - val_auc: 0.9473 - val_loss: 0.2824 - val_precision: 0.8750 - val_recall: 0.8235 - learning_rate: 5.0000e-04\n",
            "Epoch 31/100\n",
            "\u001b[1m11/21\u001b[0m \u001b[32m━━━━━━━━━━\u001b[0m\u001b[37m━━━━━━━━━━\u001b[0m \u001b[1m0s\u001b[0m 5ms/step - accuracy: 0.9407 - auc: 0.9617 - loss: 0.2961 - precision: 0.8128 - recall: 0.6267  \n",
            "Epoch 31: val_loss did not improve from 0.27667\n",
            "\u001b[1m21/21\u001b[0m \u001b[32m━━━━━━━━━━━━━━━━━━━━\u001b[0m\u001b[37m\u001b[0m \u001b[1m0s\u001b[0m 8ms/step - accuracy: 0.9486 - auc: 0.9625 - loss: 0.2830 - precision: 0.7898 - recall: 0.6701 - val_accuracy: 0.9565 - val_auc: 0.9645 - val_loss: 0.2825 - val_precision: 1.0000 - val_recall: 0.6471 - learning_rate: 5.0000e-04\n",
            "Epoch 32/100\n",
            "\u001b[1m12/21\u001b[0m \u001b[32m━━━━━━━━━━━\u001b[0m\u001b[37m━━━━━━━━━\u001b[0m \u001b[1m0s\u001b[0m 5ms/step - accuracy: 0.9767 - auc: 0.9546 - loss: 0.2357 - precision: 0.9571 - recall: 0.7014 \n",
            "Epoch 32: val_loss improved from 0.27667 to 0.27022, saving model to best_rnn_model.h5\n"
          ]
        },
        {
          "output_type": "stream",
          "name": "stderr",
          "text": [
            "WARNING:absl:You are saving your model as an HDF5 file via `model.save()` or `keras.saving.save_model(model)`. This file format is considered legacy. We recommend using instead the native Keras format, e.g. `model.save('my_model.keras')` or `keras.saving.save_model(model, 'my_model.keras')`. \n"
          ]
        },
        {
          "output_type": "stream",
          "name": "stdout",
          "text": [
            "\b\b\b\b\b\b\b\b\b\b\b\b\b\b\b\b\b\b\b\b\b\b\b\b\b\b\b\b\b\b\b\b\b\b\b\b\b\b\b\b\b\b\b\b\b\b\b\b\b\b\b\b\b\b\b\b\b\b\b\b\b\b\b\b\b\b\b\b\b\b\b\b\b\b\b\b\b\b\b\b\b\b\b\b\b\b\b\b\b\b\b\b\b\b\b\b\b\b\b\b\b\b\b\b\b\b\b\b\b\b\b\b\b\b\b\b\b\b\b\b\b\b\b\r\u001b[1m21/21\u001b[0m \u001b[32m━━━━━━━━━━━━━━━━━━━━\u001b[0m\u001b[37m\u001b[0m \u001b[1m0s\u001b[0m 9ms/step - accuracy: 0.9743 - auc: 0.9580 - loss: 0.2375 - precision: 0.9409 - recall: 0.7120 - val_accuracy: 0.9493 - val_auc: 0.9601 - val_loss: 0.2702 - val_precision: 0.7778 - val_recall: 0.8235 - learning_rate: 5.0000e-04\n",
            "Epoch 33/100\n",
            "\u001b[1m12/21\u001b[0m \u001b[32m━━━━━━━━━━━\u001b[0m\u001b[37m━━━━━━━━━\u001b[0m \u001b[1m0s\u001b[0m 5ms/step - accuracy: 0.9521 - auc: 0.9714 - loss: 0.2708 - precision: 0.8804 - recall: 0.6467  \n",
            "Epoch 33: val_loss did not improve from 0.27022\n",
            "\u001b[1m21/21\u001b[0m \u001b[32m━━━━━━━━━━━━━━━━━━━━\u001b[0m\u001b[37m\u001b[0m \u001b[1m0s\u001b[0m 8ms/step - accuracy: 0.9569 - auc: 0.9732 - loss: 0.2669 - precision: 0.8786 - recall: 0.6511 - val_accuracy: 0.9203 - val_auc: 0.9701 - val_loss: 0.2860 - val_precision: 0.8000 - val_recall: 0.4706 - learning_rate: 5.0000e-04\n",
            "Epoch 34/100\n",
            "\u001b[1m12/21\u001b[0m \u001b[32m━━━━━━━━━━━\u001b[0m\u001b[37m━━━━━━━━━\u001b[0m \u001b[1m0s\u001b[0m 5ms/step - accuracy: 0.9538 - auc: 0.9725 - loss: 0.2484 - precision: 0.9229 - recall: 0.6494  \n",
            "Epoch 34: val_loss improved from 0.27022 to 0.25901, saving model to best_rnn_model.h5\n"
          ]
        },
        {
          "output_type": "stream",
          "name": "stderr",
          "text": [
            "WARNING:absl:You are saving your model as an HDF5 file via `model.save()` or `keras.saving.save_model(model)`. This file format is considered legacy. We recommend using instead the native Keras format, e.g. `model.save('my_model.keras')` or `keras.saving.save_model(model, 'my_model.keras')`. \n"
          ]
        },
        {
          "output_type": "stream",
          "name": "stdout",
          "text": [
            "\b\b\b\b\b\b\b\b\b\b\b\b\b\b\b\b\b\b\b\b\b\b\b\b\b\b\b\b\b\b\b\b\b\b\b\b\b\b\b\b\b\b\b\b\b\b\b\b\b\b\b\b\b\b\b\b\b\b\b\b\b\b\b\b\b\b\b\b\b\b\b\b\b\b\b\b\b\b\b\b\b\b\b\b\b\b\b\b\b\b\b\b\b\b\b\b\b\b\b\b\b\b\b\b\b\b\b\b\b\b\b\b\b\b\b\b\b\b\b\b\b\b\b\r\u001b[1m21/21\u001b[0m \u001b[32m━━━━━━━━━━━━━━━━━━━━\u001b[0m\u001b[37m\u001b[0m \u001b[1m0s\u001b[0m 9ms/step - accuracy: 0.9538 - auc: 0.9623 - loss: 0.2528 - precision: 0.8738 - recall: 0.6493 - val_accuracy: 0.9565 - val_auc: 0.9475 - val_loss: 0.2590 - val_precision: 0.8235 - val_recall: 0.8235 - learning_rate: 5.0000e-04\n",
            "Epoch 35/100\n",
            "\u001b[1m18/21\u001b[0m \u001b[32m━━━━━━━━━━━━━━━━━\u001b[0m\u001b[37m━━━\u001b[0m \u001b[1m0s\u001b[0m 6ms/step - accuracy: 0.9567 - auc: 0.9410 - loss: 0.2669 - precision: 0.7990 - recall: 0.6574\n",
            "Epoch 35: val_loss improved from 0.25901 to 0.24524, saving model to best_rnn_model.h5\n"
          ]
        },
        {
          "output_type": "stream",
          "name": "stderr",
          "text": [
            "WARNING:absl:You are saving your model as an HDF5 file via `model.save()` or `keras.saving.save_model(model)`. This file format is considered legacy. We recommend using instead the native Keras format, e.g. `model.save('my_model.keras')` or `keras.saving.save_model(model, 'my_model.keras')`. \n"
          ]
        },
        {
          "output_type": "stream",
          "name": "stdout",
          "text": [
            "\b\b\b\b\b\b\b\b\b\b\b\b\b\b\b\b\b\b\b\b\b\b\b\b\b\b\b\b\b\b\b\b\b\b\b\b\b\b\b\b\b\b\b\b\b\b\b\b\b\b\b\b\b\b\b\b\b\b\b\b\b\b\b\b\b\b\b\b\b\b\b\b\b\b\b\b\b\b\b\b\b\b\b\b\b\b\b\b\b\b\b\b\b\b\b\b\b\b\b\b\b\b\b\b\b\b\b\b\b\b\b\b\b\b\b\b\b\b\b\b\b\b\b\r\u001b[1m21/21\u001b[0m \u001b[32m━━━━━━━━━━━━━━━━━━━━\u001b[0m\u001b[37m\u001b[0m \u001b[1m0s\u001b[0m 11ms/step - accuracy: 0.9585 - auc: 0.9404 - loss: 0.2649 - precision: 0.8147 - recall: 0.6665 - val_accuracy: 0.9565 - val_auc: 0.9730 - val_loss: 0.2452 - val_precision: 0.9231 - val_recall: 0.7059 - learning_rate: 5.0000e-04\n",
            "Epoch 36/100\n",
            "\u001b[1m12/21\u001b[0m \u001b[32m━━━━━━━━━━━\u001b[0m\u001b[37m━━━━━━━━━\u001b[0m \u001b[1m0s\u001b[0m 5ms/step - accuracy: 0.9572 - auc: 0.8935 - loss: 0.2740 - precision: 0.8932 - recall: 0.6004 \n",
            "Epoch 36: val_loss improved from 0.24524 to 0.23859, saving model to best_rnn_model.h5\n"
          ]
        },
        {
          "output_type": "stream",
          "name": "stderr",
          "text": [
            "WARNING:absl:You are saving your model as an HDF5 file via `model.save()` or `keras.saving.save_model(model)`. This file format is considered legacy. We recommend using instead the native Keras format, e.g. `model.save('my_model.keras')` or `keras.saving.save_model(model, 'my_model.keras')`. \n"
          ]
        },
        {
          "output_type": "stream",
          "name": "stdout",
          "text": [
            "\b\b\b\b\b\b\b\b\b\b\b\b\b\b\b\b\b\b\b\b\b\b\b\b\b\b\b\b\b\b\b\b\b\b\b\b\b\b\b\b\b\b\b\b\b\b\b\b\b\b\b\b\b\b\b\b\b\b\b\b\b\b\b\b\b\b\b\b\b\b\b\b\b\b\b\b\b\b\b\b\b\b\b\b\b\b\b\b\b\b\b\b\b\b\b\b\b\b\b\b\b\b\b\b\b\b\b\b\b\b\b\b\b\b\b\b\b\b\b\b\b\b\b\r\u001b[1m21/21\u001b[0m \u001b[32m━━━━━━━━━━━━━━━━━━━━\u001b[0m\u001b[37m\u001b[0m \u001b[1m0s\u001b[0m 9ms/step - accuracy: 0.9619 - auc: 0.9098 - loss: 0.2637 - precision: 0.8940 - recall: 0.6457 - val_accuracy: 0.9493 - val_auc: 0.9703 - val_loss: 0.2386 - val_precision: 0.8571 - val_recall: 0.7059 - learning_rate: 5.0000e-04\n",
            "Epoch 37/100\n",
            "\u001b[1m12/21\u001b[0m \u001b[32m━━━━━━━━━━━\u001b[0m\u001b[37m━━━━━━━━━\u001b[0m \u001b[1m0s\u001b[0m 5ms/step - accuracy: 0.9635 - auc: 0.9591 - loss: 0.2414 - precision: 0.6776 - recall: 0.8024 \n",
            "Epoch 37: val_loss did not improve from 0.23859\n",
            "\u001b[1m21/21\u001b[0m \u001b[32m━━━━━━━━━━━━━━━━━━━━\u001b[0m\u001b[37m\u001b[0m \u001b[1m0s\u001b[0m 8ms/step - accuracy: 0.9585 - auc: 0.9479 - loss: 0.2497 - precision: 0.7188 - recall: 0.7126 - val_accuracy: 0.9638 - val_auc: 0.9606 - val_loss: 0.2472 - val_precision: 0.8750 - val_recall: 0.8235 - learning_rate: 5.0000e-04\n",
            "Epoch 38/100\n",
            "\u001b[1m12/21\u001b[0m \u001b[32m━━━━━━━━━━━\u001b[0m\u001b[37m━━━━━━━━━\u001b[0m \u001b[1m0s\u001b[0m 5ms/step - accuracy: 0.9549 - auc: 0.9761 - loss: 0.2413 - precision: 0.8157 - recall: 0.7752 \n",
            "Epoch 38: val_loss improved from 0.23859 to 0.23236, saving model to best_rnn_model.h5\n"
          ]
        },
        {
          "output_type": "stream",
          "name": "stderr",
          "text": [
            "WARNING:absl:You are saving your model as an HDF5 file via `model.save()` or `keras.saving.save_model(model)`. This file format is considered legacy. We recommend using instead the native Keras format, e.g. `model.save('my_model.keras')` or `keras.saving.save_model(model, 'my_model.keras')`. \n"
          ]
        },
        {
          "output_type": "stream",
          "name": "stdout",
          "text": [
            "\b\b\b\b\b\b\b\b\b\b\b\b\b\b\b\b\b\b\b\b\b\b\b\b\b\b\b\b\b\b\b\b\b\b\b\b\b\b\b\b\b\b\b\b\b\b\b\b\b\b\b\b\b\b\b\b\b\b\b\b\b\b\b\b\b\b\b\b\b\b\b\b\b\b\b\b\b\b\b\b\b\b\b\b\b\b\b\b\b\b\b\b\b\b\b\b\b\b\b\b\b\b\b\b\b\b\b\b\b\b\b\b\b\b\b\b\b\b\b\b\b\b\b\r\u001b[1m21/21\u001b[0m \u001b[32m━━━━━━━━━━━━━━━━━━━━\u001b[0m\u001b[37m\u001b[0m \u001b[1m0s\u001b[0m 9ms/step - accuracy: 0.9651 - auc: 0.9764 - loss: 0.2325 - precision: 0.8542 - recall: 0.7934 - val_accuracy: 0.9710 - val_auc: 0.9696 - val_loss: 0.2324 - val_precision: 1.0000 - val_recall: 0.7647 - learning_rate: 5.0000e-04\n",
            "Epoch 39/100\n",
            "\u001b[1m11/21\u001b[0m \u001b[32m━━━━━━━━━━\u001b[0m\u001b[37m━━━━━━━━━━\u001b[0m \u001b[1m0s\u001b[0m 5ms/step - accuracy: 0.9803 - auc: 0.9706 - loss: 0.2188 - precision: 0.9926 - recall: 0.7686  \n",
            "Epoch 39: val_loss did not improve from 0.23236\n",
            "\u001b[1m21/21\u001b[0m \u001b[32m━━━━━━━━━━━━━━━━━━━━\u001b[0m\u001b[37m\u001b[0m \u001b[1m0s\u001b[0m 9ms/step - accuracy: 0.9762 - auc: 0.9687 - loss: 0.2243 - precision: 0.9286 - recall: 0.7766 - val_accuracy: 0.9783 - val_auc: 0.9604 - val_loss: 0.2838 - val_precision: 0.9375 - val_recall: 0.8824 - learning_rate: 5.0000e-04\n",
            "Epoch 40/100\n",
            "\u001b[1m12/21\u001b[0m \u001b[32m━━━━━━━━━━━\u001b[0m\u001b[37m━━━━━━━━━\u001b[0m \u001b[1m0s\u001b[0m 5ms/step - accuracy: 0.9709 - auc: 0.9632 - loss: 0.2270 - precision: 0.8223 - recall: 0.7888 \n",
            "Epoch 40: val_loss did not improve from 0.23236\n",
            "\u001b[1m21/21\u001b[0m \u001b[32m━━━━━━━━━━━━━━━━━━━━\u001b[0m\u001b[37m\u001b[0m \u001b[1m0s\u001b[0m 9ms/step - accuracy: 0.9664 - auc: 0.9525 - loss: 0.2370 - precision: 0.8006 - recall: 0.7436 - val_accuracy: 0.9710 - val_auc: 0.9677 - val_loss: 0.2407 - val_precision: 0.9333 - val_recall: 0.8235 - learning_rate: 5.0000e-04\n",
            "Epoch 41/100\n",
            "\u001b[1m21/21\u001b[0m \u001b[32m━━━━━━━━━━━━━━━━━━━━\u001b[0m\u001b[37m\u001b[0m \u001b[1m0s\u001b[0m 5ms/step - accuracy: 0.9738 - auc: 0.9661 - loss: 0.2217 - precision: 0.8844 - recall: 0.7905\n",
            "Epoch 41: val_loss did not improve from 0.23236\n",
            "\u001b[1m21/21\u001b[0m \u001b[32m━━━━━━━━━━━━━━━━━━━━\u001b[0m\u001b[37m\u001b[0m \u001b[1m0s\u001b[0m 8ms/step - accuracy: 0.9737 - auc: 0.9657 - loss: 0.2219 - precision: 0.8856 - recall: 0.7885 - val_accuracy: 0.9638 - val_auc: 0.9645 - val_loss: 0.2500 - val_precision: 0.8333 - val_recall: 0.8824 - learning_rate: 5.0000e-04\n",
            "Epoch 42/100\n",
            "\u001b[1m21/21\u001b[0m \u001b[32m━━━━━━━━━━━━━━━━━━━━\u001b[0m\u001b[37m\u001b[0m \u001b[1m0s\u001b[0m 5ms/step - accuracy: 0.9682 - auc: 0.9595 - loss: 0.2331 - precision: 0.8743 - recall: 0.7825\n",
            "Epoch 42: val_loss did not improve from 0.23236\n",
            "\u001b[1m21/21\u001b[0m \u001b[32m━━━━━━━━━━━━━━━━━━━━\u001b[0m\u001b[37m\u001b[0m \u001b[1m0s\u001b[0m 8ms/step - accuracy: 0.9680 - auc: 0.9588 - loss: 0.2337 - precision: 0.8719 - recall: 0.7808 - val_accuracy: 0.9710 - val_auc: 0.9565 - val_loss: 0.2541 - val_precision: 0.9333 - val_recall: 0.8235 - learning_rate: 5.0000e-04\n",
            "Epoch 43/100\n",
            "\u001b[1m21/21\u001b[0m \u001b[32m━━━━━━━━━━━━━━━━━━━━\u001b[0m\u001b[37m\u001b[0m \u001b[1m0s\u001b[0m 5ms/step - accuracy: 0.9684 - auc: 0.9658 - loss: 0.2233 - precision: 0.8843 - recall: 0.6864\n",
            "Epoch 43: ReduceLROnPlateau reducing learning rate to 0.0002500000118743628.\n",
            "\n",
            "Epoch 43: val_loss did not improve from 0.23236\n",
            "\u001b[1m21/21\u001b[0m \u001b[32m━━━━━━━━━━━━━━━━━━━━\u001b[0m\u001b[37m\u001b[0m \u001b[1m0s\u001b[0m 9ms/step - accuracy: 0.9684 - auc: 0.9663 - loss: 0.2230 - precision: 0.8863 - recall: 0.6866 - val_accuracy: 0.9638 - val_auc: 0.9453 - val_loss: 0.2692 - val_precision: 1.0000 - val_recall: 0.7059 - learning_rate: 5.0000e-04\n",
            "Epoch 44/100\n",
            "\u001b[1m12/21\u001b[0m \u001b[32m━━━━━━━━━━━\u001b[0m\u001b[37m━━━━━━━━━\u001b[0m \u001b[1m0s\u001b[0m 5ms/step - accuracy: 0.9718 - auc: 0.9894 - loss: 0.2031 - precision: 0.9237 - recall: 0.7352  \n",
            "Epoch 44: val_loss improved from 0.23236 to 0.20763, saving model to best_rnn_model.h5\n"
          ]
        },
        {
          "output_type": "stream",
          "name": "stderr",
          "text": [
            "WARNING:absl:You are saving your model as an HDF5 file via `model.save()` or `keras.saving.save_model(model)`. This file format is considered legacy. We recommend using instead the native Keras format, e.g. `model.save('my_model.keras')` or `keras.saving.save_model(model, 'my_model.keras')`. \n"
          ]
        },
        {
          "output_type": "stream",
          "name": "stdout",
          "text": [
            "\b\b\b\b\b\b\b\b\b\b\b\b\b\b\b\b\b\b\b\b\b\b\b\b\b\b\b\b\b\b\b\b\b\b\b\b\b\b\b\b\b\b\b\b\b\b\b\b\b\b\b\b\b\b\b\b\b\b\b\b\b\b\b\b\b\b\b\b\b\b\b\b\b\b\b\b\b\b\b\b\b\b\b\b\b\b\b\b\b\b\b\b\b\b\b\b\b\b\b\b\b\b\b\b\b\b\b\b\b\b\b\b\b\b\b\b\b\b\b\b\b\b\b\r\u001b[1m21/21\u001b[0m \u001b[32m━━━━━━━━━━━━━━━━━━━━\u001b[0m\u001b[37m\u001b[0m \u001b[1m0s\u001b[0m 11ms/step - accuracy: 0.9700 - auc: 0.9872 - loss: 0.2035 - precision: 0.8889 - recall: 0.7479 - val_accuracy: 0.9638 - val_auc: 0.9767 - val_loss: 0.2076 - val_precision: 0.9286 - val_recall: 0.7647 - learning_rate: 2.5000e-04\n",
            "Epoch 45/100\n",
            "\u001b[1m12/21\u001b[0m \u001b[32m━━━━━━━━━━━\u001b[0m\u001b[37m━━━━━━━━━\u001b[0m \u001b[1m0s\u001b[0m 5ms/step - accuracy: 0.9601 - auc: 0.9576 - loss: 0.2322 - precision: 0.8311 - recall: 0.7249 \n",
            "Epoch 45: val_loss did not improve from 0.20763\n",
            "\u001b[1m21/21\u001b[0m \u001b[32m━━━━━━━━━━━━━━━━━━━━\u001b[0m\u001b[37m\u001b[0m \u001b[1m0s\u001b[0m 8ms/step - accuracy: 0.9582 - auc: 0.9556 - loss: 0.2354 - precision: 0.8188 - recall: 0.7089 - val_accuracy: 0.9710 - val_auc: 0.9713 - val_loss: 0.2139 - val_precision: 1.0000 - val_recall: 0.7647 - learning_rate: 2.5000e-04\n",
            "Epoch 46/100\n",
            "\u001b[1m11/21\u001b[0m \u001b[32m━━━━━━━━━━\u001b[0m\u001b[37m━━━━━━━━━━\u001b[0m \u001b[1m0s\u001b[0m 5ms/step - accuracy: 0.9773 - auc: 0.9857 - loss: 0.1957 - precision: 0.9113 - recall: 0.7914  \n",
            "Epoch 46: val_loss did not improve from 0.20763\n",
            "\u001b[1m21/21\u001b[0m \u001b[32m━━━━━━━━━━━━━━━━━━━━\u001b[0m\u001b[37m\u001b[0m \u001b[1m0s\u001b[0m 8ms/step - accuracy: 0.9710 - auc: 0.9627 - loss: 0.2114 - precision: 0.8818 - recall: 0.7452 - val_accuracy: 0.9638 - val_auc: 0.9803 - val_loss: 0.2096 - val_precision: 1.0000 - val_recall: 0.7059 - learning_rate: 2.5000e-04\n",
            "Epoch 47/100\n",
            "\u001b[1m12/21\u001b[0m \u001b[32m━━━━━━━━━━━\u001b[0m\u001b[37m━━━━━━━━━\u001b[0m \u001b[1m0s\u001b[0m 5ms/step - accuracy: 0.9630 - auc: 0.9790 - loss: 0.2316 - precision: 0.9114 - recall: 0.7248 \n",
            "Epoch 47: val_loss improved from 0.20763 to 0.19958, saving model to best_rnn_model.h5\n"
          ]
        },
        {
          "output_type": "stream",
          "name": "stderr",
          "text": [
            "WARNING:absl:You are saving your model as an HDF5 file via `model.save()` or `keras.saving.save_model(model)`. This file format is considered legacy. We recommend using instead the native Keras format, e.g. `model.save('my_model.keras')` or `keras.saving.save_model(model, 'my_model.keras')`. \n"
          ]
        },
        {
          "output_type": "stream",
          "name": "stdout",
          "text": [
            "\b\b\b\b\b\b\b\b\b\b\b\b\b\b\b\b\b\b\b\b\b\b\b\b\b\b\b\b\b\b\b\b\b\b\b\b\b\b\b\b\b\b\b\b\b\b\b\b\b\b\b\b\b\b\b\b\b\b\b\b\b\b\b\b\b\b\b\b\b\b\b\b\b\b\b\b\b\b\b\b\b\b\b\b\b\b\b\b\b\b\b\b\b\b\b\b\b\b\b\b\b\b\b\b\b\b\b\b\b\b\b\b\b\b\b\b\b\b\b\b\b\b\b\r\u001b[1m21/21\u001b[0m \u001b[32m━━━━━━━━━━━━━━━━━━━━\u001b[0m\u001b[37m\u001b[0m \u001b[1m0s\u001b[0m 10ms/step - accuracy: 0.9657 - auc: 0.9778 - loss: 0.2224 - precision: 0.8694 - recall: 0.7532 - val_accuracy: 0.9710 - val_auc: 0.9718 - val_loss: 0.1996 - val_precision: 0.9333 - val_recall: 0.8235 - learning_rate: 2.5000e-04\n",
            "Epoch 48/100\n",
            "\u001b[1m13/21\u001b[0m \u001b[32m━━━━━━━━━━━━\u001b[0m\u001b[37m━━━━━━━━\u001b[0m \u001b[1m0s\u001b[0m 4ms/step - accuracy: 0.9813 - auc: 0.9902 - loss: 0.1875 - precision: 0.8637 - recall: 0.8588  \n",
            "Epoch 48: val_loss improved from 0.19958 to 0.19305, saving model to best_rnn_model.h5\n"
          ]
        },
        {
          "output_type": "stream",
          "name": "stderr",
          "text": [
            "WARNING:absl:You are saving your model as an HDF5 file via `model.save()` or `keras.saving.save_model(model)`. This file format is considered legacy. We recommend using instead the native Keras format, e.g. `model.save('my_model.keras')` or `keras.saving.save_model(model, 'my_model.keras')`. \n"
          ]
        },
        {
          "output_type": "stream",
          "name": "stdout",
          "text": [
            "\b\b\b\b\b\b\b\b\b\b\b\b\b\b\b\b\b\b\b\b\b\b\b\b\b\b\b\b\b\b\b\b\b\b\b\b\b\b\b\b\b\b\b\b\b\b\b\b\b\b\b\b\b\b\b\b\b\b\b\b\b\b\b\b\b\b\b\b\b\b\b\b\b\b\b\b\b\b\b\b\b\b\b\b\b\b\b\b\b\b\b\b\b\b\b\b\b\b\b\b\b\b\b\b\b\b\b\b\b\b\b\b\b\b\b\b\b\b\b\b\b\b\b\r\u001b[1m21/21\u001b[0m \u001b[32m━━━━━━━━━━━━━━━━━━━━\u001b[0m\u001b[37m\u001b[0m \u001b[1m0s\u001b[0m 9ms/step - accuracy: 0.9783 - auc: 0.9836 - loss: 0.1929 - precision: 0.8706 - recall: 0.8328 - val_accuracy: 0.9783 - val_auc: 0.9711 - val_loss: 0.1930 - val_precision: 1.0000 - val_recall: 0.8235 - learning_rate: 2.5000e-04\n",
            "Epoch 49/100\n",
            "\u001b[1m12/21\u001b[0m \u001b[32m━━━━━━━━━━━\u001b[0m\u001b[37m━━━━━━━━━\u001b[0m \u001b[1m0s\u001b[0m 5ms/step - accuracy: 0.9745 - auc: 0.9941 - loss: 0.1880 - precision: 0.7673 - recall: 0.9194 \n",
            "Epoch 49: val_loss did not improve from 0.19305\n",
            "\u001b[1m21/21\u001b[0m \u001b[32m━━━━━━━━━━━━━━━━━━━━\u001b[0m\u001b[37m\u001b[0m \u001b[1m0s\u001b[0m 8ms/step - accuracy: 0.9723 - auc: 0.9840 - loss: 0.1955 - precision: 0.7912 - recall: 0.8676 - val_accuracy: 0.9710 - val_auc: 0.9762 - val_loss: 0.2023 - val_precision: 1.0000 - val_recall: 0.7647 - learning_rate: 2.5000e-04\n",
            "Epoch 50/100\n",
            "\u001b[1m12/21\u001b[0m \u001b[32m━━━━━━━━━━━\u001b[0m\u001b[37m━━━━━━━━━\u001b[0m \u001b[1m0s\u001b[0m 5ms/step - accuracy: 0.9707 - auc: 0.9575 - loss: 0.2348 - precision: 0.9370 - recall: 0.7696 \n",
            "Epoch 50: val_loss did not improve from 0.19305\n",
            "\u001b[1m21/21\u001b[0m \u001b[32m━━━━━━━━━━━━━━━━━━━━\u001b[0m\u001b[37m\u001b[0m \u001b[1m0s\u001b[0m 8ms/step - accuracy: 0.9728 - auc: 0.9622 - loss: 0.2251 - precision: 0.9368 - recall: 0.7733 - val_accuracy: 0.9493 - val_auc: 0.9640 - val_loss: 0.2374 - val_precision: 1.0000 - val_recall: 0.5882 - learning_rate: 2.5000e-04\n",
            "Epoch 51/100\n",
            "\u001b[1m11/21\u001b[0m \u001b[32m━━━━━━━━━━\u001b[0m\u001b[37m━━━━━━━━━━\u001b[0m \u001b[1m0s\u001b[0m 5ms/step - accuracy: 0.9576 - auc: 0.9605 - loss: 0.2173 - precision: 0.7093 - recall: 0.6765  \n",
            "Epoch 51: val_loss did not improve from 0.19305\n",
            "\u001b[1m21/21\u001b[0m \u001b[32m━━━━━━━━━━━━━━━━━━━━\u001b[0m\u001b[37m\u001b[0m \u001b[1m0s\u001b[0m 8ms/step - accuracy: 0.9578 - auc: 0.9603 - loss: 0.2232 - precision: 0.7840 - recall: 0.6392 - val_accuracy: 0.9493 - val_auc: 0.9718 - val_loss: 0.2250 - val_precision: 1.0000 - val_recall: 0.5882 - learning_rate: 2.5000e-04\n",
            "Epoch 52/100\n",
            "\u001b[1m21/21\u001b[0m \u001b[32m━━━━━━━━━━━━━━━━━━━━\u001b[0m\u001b[37m\u001b[0m \u001b[1m0s\u001b[0m 5ms/step - accuracy: 0.9755 - auc: 0.9631 - loss: 0.2031 - precision: 0.9498 - recall: 0.7704\n",
            "Epoch 52: val_loss did not improve from 0.19305\n",
            "\u001b[1m21/21\u001b[0m \u001b[32m━━━━━━━━━━━━━━━━━━━━\u001b[0m\u001b[37m\u001b[0m \u001b[1m0s\u001b[0m 8ms/step - accuracy: 0.9753 - auc: 0.9631 - loss: 0.2033 - precision: 0.9481 - recall: 0.7693 - val_accuracy: 0.9710 - val_auc: 0.9648 - val_loss: 0.2052 - val_precision: 1.0000 - val_recall: 0.7647 - learning_rate: 2.5000e-04\n",
            "Epoch 53/100\n",
            "\u001b[1m19/21\u001b[0m \u001b[32m━━━━━━━━━━━━━━━━━━\u001b[0m\u001b[37m━━\u001b[0m \u001b[1m0s\u001b[0m 6ms/step - accuracy: 0.9767 - auc: 0.9699 - loss: 0.2003 - precision: 0.9520 - recall: 0.7748\n",
            "Epoch 53: ReduceLROnPlateau reducing learning rate to 0.0001250000059371814.\n",
            "\n",
            "Epoch 53: val_loss did not improve from 0.19305\n",
            "\u001b[1m21/21\u001b[0m \u001b[32m━━━━━━━━━━━━━━━━━━━━\u001b[0m\u001b[37m\u001b[0m \u001b[1m0s\u001b[0m 12ms/step - accuracy: 0.9758 - auc: 0.9701 - loss: 0.2013 - precision: 0.9462 - recall: 0.7683 - val_accuracy: 0.9710 - val_auc: 0.9684 - val_loss: 0.2052 - val_precision: 1.0000 - val_recall: 0.7647 - learning_rate: 2.5000e-04\n",
            "Epoch 54/100\n",
            "\u001b[1m20/21\u001b[0m \u001b[32m━━━━━━━━━━━━━━━━━━━\u001b[0m\u001b[37m━\u001b[0m \u001b[1m0s\u001b[0m 9ms/step - accuracy: 0.9624 - auc: 0.9730 - loss: 0.2287 - precision: 0.8117 - recall: 0.7033\n",
            "Epoch 54: val_loss did not improve from 0.19305\n",
            "\u001b[1m21/21\u001b[0m \u001b[32m━━━━━━━━━━━━━━━━━━━━\u001b[0m\u001b[37m\u001b[0m \u001b[1m0s\u001b[0m 15ms/step - accuracy: 0.9634 - auc: 0.9734 - loss: 0.2259 - precision: 0.8179 - recall: 0.7121 - val_accuracy: 0.9638 - val_auc: 0.9657 - val_loss: 0.2087 - val_precision: 1.0000 - val_recall: 0.7059 - learning_rate: 1.2500e-04\n",
            "Epoch 55/100\n",
            "\u001b[1m18/21\u001b[0m \u001b[32m━━━━━━━━━━━━━━━━━\u001b[0m\u001b[37m━━━\u001b[0m \u001b[1m0s\u001b[0m 9ms/step - accuracy: 0.9846 - auc: 0.9881 - loss: 0.1727 - precision: 0.9036 - recall: 0.9241\n",
            "Epoch 55: val_loss did not improve from 0.19305\n",
            "\u001b[1m21/21\u001b[0m \u001b[32m━━━━━━━━━━━━━━━━━━━━\u001b[0m\u001b[37m\u001b[0m \u001b[1m1s\u001b[0m 16ms/step - accuracy: 0.9851 - auc: 0.9880 - loss: 0.1716 - precision: 0.9108 - recall: 0.9212 - val_accuracy: 0.9783 - val_auc: 0.9436 - val_loss: 0.2132 - val_precision: 1.0000 - val_recall: 0.8235 - learning_rate: 1.2500e-04\n",
            "Epoch 56/100\n",
            "\u001b[1m11/21\u001b[0m \u001b[32m━━━━━━━━━━\u001b[0m\u001b[37m━━━━━━━━━━\u001b[0m \u001b[1m0s\u001b[0m 5ms/step - accuracy: 0.9727 - auc: 0.9951 - loss: 0.1750 - precision: 0.9567 - recall: 0.6986 \n",
            "Epoch 56: val_loss did not improve from 0.19305\n",
            "\u001b[1m21/21\u001b[0m \u001b[32m━━━━━━━━━━━━━━━━━━━━\u001b[0m\u001b[37m\u001b[0m \u001b[1m0s\u001b[0m 10ms/step - accuracy: 0.9700 - auc: 0.9840 - loss: 0.1893 - precision: 0.8986 - recall: 0.7176 - val_accuracy: 0.9710 - val_auc: 0.9528 - val_loss: 0.2134 - val_precision: 1.0000 - val_recall: 0.7647 - learning_rate: 1.2500e-04\n",
            "Epoch 57/100\n",
            "\u001b[1m18/21\u001b[0m \u001b[32m━━━━━━━━━━━━━━━━━\u001b[0m\u001b[37m━━━\u001b[0m \u001b[1m0s\u001b[0m 6ms/step - accuracy: 0.9631 - auc: 0.9497 - loss: 0.2245 - precision: 0.9121 - recall: 0.7130\n",
            "Epoch 57: val_loss did not improve from 0.19305\n",
            "\u001b[1m21/21\u001b[0m \u001b[32m━━━━━━━━━━━━━━━━━━━━\u001b[0m\u001b[37m\u001b[0m \u001b[1m0s\u001b[0m 9ms/step - accuracy: 0.9650 - auc: 0.9517 - loss: 0.2219 - precision: 0.9089 - recall: 0.7252 - val_accuracy: 0.9638 - val_auc: 0.9383 - val_loss: 0.2142 - val_precision: 1.0000 - val_recall: 0.7059 - learning_rate: 1.2500e-04\n",
            "Epoch 58/100\n",
            "\u001b[1m12/21\u001b[0m \u001b[32m━━━━━━━━━━━\u001b[0m\u001b[37m━━━━━━━━━\u001b[0m \u001b[1m0s\u001b[0m 5ms/step - accuracy: 0.9763 - auc: 0.9068 - loss: 0.2129 - precision: 0.7314 - recall: 0.5876         \n",
            "Epoch 58: ReduceLROnPlateau reducing learning rate to 6.25000029685907e-05.\n",
            "\n",
            "Epoch 58: val_loss did not improve from 0.19305\n",
            "\u001b[1m21/21\u001b[0m \u001b[32m━━━━━━━━━━━━━━━━━━━━\u001b[0m\u001b[37m\u001b[0m \u001b[1m0s\u001b[0m 8ms/step - accuracy: 0.9773 - auc: 0.9251 - loss: 0.2066 - precision: 0.8195 - recall: 0.6794 - val_accuracy: 0.9638 - val_auc: 0.9465 - val_loss: 0.2203 - val_precision: 1.0000 - val_recall: 0.7059 - learning_rate: 1.2500e-04\n",
            "Epoch 58: early stopping\n",
            "Restoring model weights from the end of the best epoch: 48.\n"
          ]
        }
      ]
    },
    {
      "cell_type": "markdown",
      "source": [
        "## *Model Evaluation*"
      ],
      "metadata": {
        "id": "8lABL4wbd0TB"
      }
    },
    {
      "cell_type": "markdown",
      "source": [
        "### utilities"
      ],
      "metadata": {
        "id": "-Sx6LJ5W18KV"
      }
    },
    {
      "cell_type": "code",
      "source": [
        "def evaluate_binary_classifier(model, X_test, y_test, class_names=['No Recurrence', 'Recurrence']):\n",
        "    \"\"\"\n",
        "    Comprehensive evaluation of binary classifier with various metrics and plots\n",
        "\n",
        "    Parameters:\n",
        "    -----------\n",
        "    model : keras.Model\n",
        "        Trained model to evaluate\n",
        "    X_test, y_test : array-like\n",
        "        Test data and labels\n",
        "    class_names : list, default=['No Recurrence', 'Recurrence']\n",
        "        Names of the classes for plotting\n",
        "\n",
        "    Returns:\n",
        "    --------\n",
        "    dict\n",
        "        Dictionary of evaluation metrics\n",
        "    \"\"\"\n",
        "    # Get predictions\n",
        "    y_pred_prob = model.predict(X_test)\n",
        "    y_pred = (y_pred_prob > 0.5).astype(int)\n",
        "\n",
        "    # Calculate metrics\n",
        "    test_loss, test_accuracy, test_auc, test_precision, test_recall = model.evaluate(X_test, y_test, verbose=0)\n",
        "\n",
        "    # Classification report\n",
        "    report = classification_report(y_test, y_pred, target_names=class_names, output_dict=True)\n",
        "    print(classification_report(y_test, y_pred, target_names=class_names))\n",
        "\n",
        "    # Confusion matrix\n",
        "    cm = confusion_matrix(y_test, y_pred)\n",
        "    plt.figure(figsize=(8, 6))\n",
        "    plt.imshow(cm, interpolation='nearest', cmap=plt.cm.Blues)\n",
        "    plt.title('Confusion Matrix')\n",
        "    plt.colorbar()\n",
        "    tick_marks = np.arange(len(class_names))\n",
        "    plt.xticks(tick_marks, class_names)\n",
        "    plt.yticks(tick_marks, class_names)\n",
        "    plt.xlabel('Predicted Label')\n",
        "    plt.ylabel('True Label')\n",
        "\n",
        "    # Add text annotations to the confusion matrix\n",
        "    thresh = cm.max() / 2\n",
        "    for i in range(cm.shape[0]):\n",
        "        for j in range(cm.shape[1]):\n",
        "            plt.text(j, i, format(cm[i, j], 'd'),\n",
        "                    horizontalalignment=\"center\",\n",
        "                    color=\"white\" if cm[i, j] > thresh else \"black\")\n",
        "    plt.tight_layout()\n",
        "    plt.savefig('confusion_matrix_advanced.png')\n",
        "    plt.show()\n",
        "\n",
        "    # ROC curve\n",
        "    fpr, tpr, _ = roc_curve(y_test, y_pred_prob)\n",
        "    roc_auc = auc(fpr, tpr)\n",
        "\n",
        "    plt.figure(figsize=(8, 6))\n",
        "    plt.plot(fpr, tpr, color='darkorange', lw=2, label=f'ROC curve (area = {roc_auc:.2f})')\n",
        "    plt.plot([0, 1], [0, 1], color='navy', lw=2, linestyle='--')\n",
        "    plt.xlim([0.0, 1.0])\n",
        "    plt.ylim([0.0, 1.05])\n",
        "    plt.xlabel('False Positive Rate')\n",
        "    plt.ylabel('True Positive Rate')\n",
        "    plt.title('Receiver Operating Characteristic')\n",
        "    plt.legend(loc=\"lower right\")\n",
        "    plt.savefig('roc_curve_advanced.png')\n",
        "    plt.show()\n",
        "\n",
        "    # Precision-Recall curve\n",
        "    precision, recall, _ = precision_recall_curve(y_test, y_pred_prob)\n",
        "    pr_auc = auc(recall, precision)\n",
        "\n",
        "    plt.figure(figsize=(8, 6))\n",
        "    plt.plot(recall, precision, color='blue', lw=2, label=f'PR curve (area = {pr_auc:.2f})')\n",
        "    plt.xlabel('Recall')\n",
        "    plt.ylabel('Precision')\n",
        "    plt.title('Precision-Recall Curve')\n",
        "    plt.legend(loc=\"lower left\")\n",
        "    plt.savefig('pr_curve_advanced.png')\n",
        "    plt.show()\n",
        "\n",
        "    # Return all metrics in a dictionary\n",
        "    metrics = {\n",
        "        'accuracy': test_accuracy,\n",
        "        'auc': test_auc,\n",
        "        'precision': test_precision,\n",
        "        'recall': test_recall,\n",
        "        'f1_score': report['weighted avg']['f1-score'],\n",
        "        'confusion_matrix': cm,\n",
        "        'roc_auc': roc_auc,\n",
        "        'pr_auc': pr_auc\n",
        "    }\n",
        "\n",
        "    return metrics"
      ],
      "metadata": {
        "id": "Dy0b9c8g1veQ"
      },
      "execution_count": null,
      "outputs": []
    },
    {
      "cell_type": "markdown",
      "source": [
        "### scripts"
      ],
      "metadata": {
        "id": "pkKtaNsZ187z"
      }
    },
    {
      "cell_type": "code",
      "source": [
        "# Evaluate the model\n",
        "metrics = evaluate_binary_classifier(\n",
        "    model=advanced_model,\n",
        "    X_test=X_test_seq,\n",
        "    y_test=y_test\n",
        ")\n",
        "\n",
        "print(f\"Final model performance:\")\n",
        "print(f\"Accuracy: {metrics['accuracy']:.4f}\")\n",
        "print(f\"AUC: {metrics['auc']:.4f}\")\n",
        "print(f\"F1 Score: {metrics['f1_score']:.4f}\")"
      ],
      "metadata": {
        "colab": {
          "base_uri": "https://localhost:8080/"
        },
        "id": "zd-OcAwD1_DI",
        "outputId": "81f7051f-d982-4a34-c45c-9178e5125d0c"
      },
      "execution_count": null,
      "outputs": [
        {
          "output_type": "stream",
          "name": "stdout",
          "text": [
            "\u001b[1m5/5\u001b[0m \u001b[32m━━━━━━━━━━━━━━━━━━━━\u001b[0m\u001b[37m\u001b[0m \u001b[1m0s\u001b[0m 62ms/step\n",
            "               precision    recall  f1-score   support\n",
            "\n",
            "No Recurrence       0.99      1.00      1.00       124\n",
            "   Recurrence       1.00      0.93      0.97        15\n",
            "\n",
            "     accuracy                           0.99       139\n",
            "    macro avg       1.00      0.97      0.98       139\n",
            " weighted avg       0.99      0.99      0.99       139\n",
            "\n"
          ]
        },
        {
          "output_type": "display_data",
          "data": {
            "text/plain": [
              "<Figure size 800x600 with 2 Axes>"
            ],
            "image/png": "[encoded data removed]"
          },
          "metadata": {}
        },
        {
          "output_type": "display_data",
          "data": {
            "text/plain": [
              "<Figure size 800x600 with 1 Axes>"
            ],
            "image/png": "[encoded data removed]"
          },
          "metadata": {}
        },
        {
          "output_type": "display_data",
          "data": {
            "text/plain": [
              "<Figure size 800x600 with 1 Axes>"
            ],
            "image/png": "[encoded data removed]"
          },
          "metadata": {}
        },
        {
          "output_type": "stream",
          "name": "stdout",
          "text": [
            "Final model performance:\n",
            "Accuracy: 0.9928\n",
            "AUC: 0.9976\n",
            "F1 Score: 0.9927\n"
          ]
        }
      ]
    },
    {
      "cell_type": "markdown",
      "source": [
        "# Pickle File"
      ],
      "metadata": {
        "id": "riwYSeJwlpEz"
      }
    },
    {
      "cell_type": "code",
      "source": [
        "from google.colab import files\n",
        "\n",
        "# Build pickle file\n",
        "best_rnn = load_model('best_rnn_model.h5')\n",
        "penult = best_rnn.layers[-3].output\n",
        "feat_extractor = Model(inputs=best_rnn.input, outputs=penult)\n",
        "rnn_feats = feat_extractor.predict(np.vstack((X_train_seq, X_val_seq, X_test_seq)))\n",
        "all_labels = np.concatenate([y_train, y_val, y_test])\n",
        "rnn_ids = encoded_df['Patient ID'].tolist()\n",
        "\n",
        "with open('rnn_features.pkl', 'wb') as f:\n",
        "    pickle.dump({\n",
        "      'features': rnn_feats,\n",
        "      'labels':   all_labels,\n",
        "      'ids':      rnn_ids,\n",
        "    }, f)\n",
        "\n",
        "print(\"Saved RNN features to rnn_features.pkl\")\n",
        "\n",
        "files.download('rnn_features.pkl')"
      ],
      "metadata": {
        "colab": {
          "base_uri": "https://localhost:8080/",
          "height": 69
        },
        "id": "bBMH6QqTlnwd",
        "outputId": "6887d42f-25e0-410c-9112-b1d96b3d3f90"
      },
      "execution_count": null,
      "outputs": [
        {
          "output_type": "stream",
          "name": "stderr",
          "text": [
            "WARNING:absl:Compiled the loaded model, but the compiled metrics have yet to be built. `model.compile_metrics` will be empty until you train or evaluate the model.\n"
          ]
        },
        {
          "output_type": "stream",
          "name": "stdout",
          "text": [
            "\u001b[1m29/29\u001b[0m \u001b[32m━━━━━━━━━━━━━━━━━━━━\u001b[0m\u001b[37m\u001b[0m \u001b[1m1s\u001b[0m 10ms/step\n",
            "Saved RNN features to rnn_features.pkl\n"
          ]
        },
        {
          "output_type": "display_data",
          "data": {
            "text/plain": [
              "<IPython.core.display.Javascript object>"
            ],
            "application/javascript": [
              "\n",
              "    async function download(id, filename, size) {\n",
              "      if (!google.colab.kernel.accessAllowed) {\n",
              "        return;\n",
              "      }\n",
              "      const div = document.createElement('div');\n",
              "      const label = document.createElement('label');\n",
              "      label.textContent = `Downloading \"${filename}\": `;\n",
              "      div.appendChild(label);\n",
              "      const progress = document.createElement('progress');\n",
              "      progress.max = size;\n",
              "      div.appendChild(progress);\n",
              "      document.body.appendChild(div);\n",
              "\n",
              "      const buffers = [];\n",
              "      let downloaded = 0;\n",
              "\n",
              "      const channel = await google.colab.kernel.comms.open(id);\n",
              "      // Send a message to notify the kernel that we're ready.\n",
              "      channel.send({})\n",
              "\n",
              "      for await (const message of channel.messages) {\n",
              "        // Send a message to notify the kernel that we're ready.\n",
              "        channel.send({})\n",
              "        if (message.buffers) {\n",
              "          for (const buffer of message.buffers) {\n",
              "            buffers.push(buffer);\n",
              "            downloaded += buffer.byteLength;\n",
              "            progress.value = downloaded;\n",
              "          }\n",
              "        }\n",
              "      }\n",
              "      const blob = new Blob(buffers, {type: 'application/binary'});\n",
              "      const a = document.createElement('a');\n",
              "      a.href = window.URL.createObjectURL(blob);\n",
              "      a.download = filename;\n",
              "      div.appendChild(a);\n",
              "      a.click();\n",
              "      div.remove();\n",
              "    }\n",
              "  "
            ]
          },
          "metadata": {}
        },
        {
          "output_type": "display_data",
          "data": {
            "text/plain": [
              "<IPython.core.display.Javascript object>"
            ],
            "application/javascript": [
              "download(\"download_d773f5d5-8916-4e61-9822-b4cbbb9d886d\", \"rnn_features.pkl\", 141331)"
            ]
          },
          "metadata": {}
        }
      ]
    }
  ]
}