{
 "cells": [
  {
   "cell_type": "markdown",
   "id": "6a3e386b-42eb-4c8d-bce2-9cfc476a347e",
   "metadata": {},
   "source": [
    "Importing Relevant Libraries"
   ]
  },
  {
   "cell_type": "code",
   "execution_count": 242,
   "id": "c9002377-0bf6-4be0-8df2-f8f886ad1b60",
   "metadata": {},
   "outputs": [],
   "source": [
    "import sys\n",
    "import os"
   ]
  },
  {
   "cell_type": "code",
   "execution_count": 243,
   "id": "18d8f923-8be5-4429-be46-1a43971547d6",
   "metadata": {},
   "outputs": [],
   "source": [
    "import pydicom\n",
    "import pandas as pd\n",
    "import SimpleITK as sitk\n",
    "import numpy as np\n",
    "import torch\n",
    "from torch.utils.data import Dataset\n",
    "from torchvision import transforms"
   ]
  },
  {
   "cell_type": "markdown",
   "id": "6d2f2ac3-7695-4cae-bb91-43f47038ad73",
   "metadata": {},
   "source": [
    "Helper functions for Loading Series\n",
    "TODO: EXPAND TO FULL SET"
   ]
  },
  {
   "cell_type": "code",
   "execution_count": 244,
   "id": "5af1a042-2297-4ae9-8fef-7d21c3472a09",
   "metadata": {},
   "outputs": [],
   "source": [
    "# Function to load DICOM series\n",
    "def load_dicom_series(series_dir, target_size=(224, 224)):\n",
    "    \"\"\"Load and normalize a DICOM series, return (1, H, W)\"\"\"\n",
    "    \"\"\"    #This is within the single folder-- this is within a single series (ex. 01-01-1990-NA-MRI BREAST BILATERAL WWO-97538\\26.000000-ax t1 tse c-58582)\n",
    "\"\"\"\n",
    "    slices = []\n",
    "    for file in sorted(os.listdir(series_dir)):\n",
    "        if file.endswith('.dcm'):\n",
    "            dcm = pydicom.dcmread(os.path.join(series_dir, file))\n",
    "            slices.append(dcm.pixel_array.astype(np.float32))\n",
    "    volume = np.stack(slices, axis=0)\n",
    "\n",
    "    # Collapse Z\n",
    "    image = np.mean(volume, axis=0)\n",
    "    image = (image - np.min(image)) / (np.max(image) - np.min(image) + 1e-5)\n",
    "\n",
    "    image = torch.tensor(image).unsqueeze(0)  # (1, H, W)\n",
    "    image = torch.nn.functional.interpolate(image.unsqueeze(0), size=target_size, mode='bilinear', align_corners=False)\n",
    "    return image.squeeze(0)  # (1, H, W)"
   ]
  },
  {
   "cell_type": "code",
   "execution_count": 245,
   "id": "577e1004-3ca1-465d-863d-dc70d7e1198a",
   "metadata": {},
   "outputs": [],
   "source": [
    "# Function to load DICOM series seg\n",
    "def load_nrrd_mask(nrrd_path):\n",
    "    #all nrrd should be available, something has gone wrong if not\n",
    "    \"\"\"Load NRRD segmentation mask and return binary mask tensor (1, H, W)\"\"\"\n",
    "    if not os.path.exists(nrrd_path):\n",
    "        return None\n",
    "    image = sitk.ReadImage(nrrd_path)\n",
    "    array = sitk.GetArrayFromImage(image)  # shape: (Z, H, W)\n",
    "    mask = (array > 0).astype(np.float32)\n",
    "    if mask.shape[0] > 1:\n",
    "        mask = np.mean(mask, axis=0)\n",
    "    else:\n",
    "        mask = mask[0]\n",
    "    return torch.tensor(mask).unsqueeze(0)  # shape: (1, H, W)"
   ]
  },
  {
   "cell_type": "code",
   "execution_count": 246,
   "id": "86e4f9cb-7d21-48dc-98f4-694ea4d1c172",
   "metadata": {},
   "outputs": [
    {
     "name": "stdout",
     "output_type": "stream",
     "text": [
      "True\n",
      "tensor([[[2.5396e-05, 3.7003e-04, 4.0368e-04,  ..., 3.1659e-04,\n",
      "          3.5772e-04, 3.5819e-04],\n",
      "         [3.6816e-04, 5.3052e-03, 5.6469e-03,  ..., 4.4556e-03,\n",
      "          5.0408e-03, 4.9562e-03],\n",
      "         [4.0119e-04, 5.5984e-03, 5.5269e-03,  ..., 4.4642e-03,\n",
      "          5.2574e-03, 4.7046e-03],\n",
      "         ...,\n",
      "         [7.9194e-03, 1.1006e-01, 1.0387e-01,  ..., 1.3180e-01,\n",
      "          1.3895e-01, 1.4201e-01],\n",
      "         [7.6901e-03, 1.0773e-01, 1.0672e-01,  ..., 1.3339e-01,\n",
      "          1.3905e-01, 1.4002e-01],\n",
      "         [7.4593e-03, 1.0429e-01, 1.0424e-01,  ..., 1.3543e-01,\n",
      "          1.3972e-01, 1.4050e-01]]])\n",
      "True\n",
      "tensor([[[0., 0., 0.,  ..., 0., 0., 0.],\n",
      "         [0., 0., 0.,  ..., 0., 0., 0.],\n",
      "         [0., 0., 0.,  ..., 0., 0., 0.],\n",
      "         ...,\n",
      "         [0., 0., 0.,  ..., 0., 0., 0.],\n",
      "         [0., 0., 0.,  ..., 0., 0., 0.],\n",
      "         [0., 0., 0.,  ..., 0., 0., 0.]]])\n"
     ]
    }
   ],
   "source": [
    "#Sanity check for dicom paths being real\n",
    "test_dicom_path = r\"D:\\brc\\image\\manifest-1654812109500\\Duke-Breast-Cancer-MRI\\Breast_MRI_001\\01-01-1990-NA-MRI BREAST BILATERAL WWO-97538\\26.000000-ax t1 tse c-58582\"\n",
    "print(os.path.exists(test_dicom_path))\n",
    "testSeriesLoadStack = load_dicom_series(test_dicom_path)\n",
    "print(testSeriesLoadStack)\n",
    "\n",
    "#Sanity check for seg data\n",
    "test_dicom_seg_path = r\"D:\\brc\\seg\\3dtest\\PKG - Duke-Breast-Cancer-MRI-Supplement-v3\\Duke-Breast-Cancer-MRI-Supplement-v3\\Segmentation_Masks_NRRD\\Breast_MRI_002\\Segmentation_Breast_MRI_002_Breast.seg.nrrd\"\n",
    "print(os.path.exists(test_dicom_seg_path))\n",
    "testDicomLoadSeries = load_nrrd_mask(test_dicom_seg_path)\n",
    "print(testDicomLoadSeries)"
   ]
  },
  {
   "cell_type": "markdown",
   "id": "e4441806-653c-4cfe-8ce6-e8f6b026fb8c",
   "metadata": {},
   "source": [
    "Test Dataset Class"
   ]
  },
  {
   "cell_type": "code",
   "execution_count": 247,
   "id": "f90fe859-ca41-4546-be74-a34e3200c6a3",
   "metadata": {},
   "outputs": [],
   "source": [
    "class BreastMRIDataset(Dataset):\n",
    "    def __init__(self, series_dirs, mask_paths, labels, transform=None, use_mask=True):\n",
    "        \"\"\"\n",
    "        series_dirs: list of directories with DICOM series\n",
    "        mask_paths: list of NRRD mask file paths (can be None)\n",
    "        labels: list of outcome labels\n",
    "        \"\"\"\n",
    "        self.series_dirs = series_dirs\n",
    "        self.mask_paths = mask_paths\n",
    "        self.labels = labels\n",
    "        self.transform = transform\n",
    "        self.use_mask = use_mask\n",
    "\n",
    "    def __len__(self):\n",
    "        return len(self.series_dirs)\n",
    "\n",
    "    def __getitem__(self, idx):\n",
    "        image = load_dicom_series(self.series_dirs[idx])  # (1, H, W)\n",
    "        mask = None\n",
    "        if self.use_mask and self.mask_paths[idx] is not None:\n",
    "            mask = load_nrrd_mask(self.mask_paths[idx])  # (1, H, W)\n",
    "\n",
    "        if self.transform:\n",
    "            image = self.transform(image)\n",
    "            if mask is not None:\n",
    "                mask = self.transform(mask)\n",
    "\n",
    "        label = torch.tensor(self.labels[idx], dtype=torch.float32)\n",
    "        return image, mask, label\n"
   ]
  },
  {
   "cell_type": "markdown",
   "id": "59d5534f-abeb-404f-8fba-650481eb4457",
   "metadata": {},
   "source": [
    "Functions for Accessing Training and Test"
   ]
  },
  {
   "cell_type": "code",
   "execution_count": 248,
   "id": "1d822324-f87c-414f-99c0-871f13781fed",
   "metadata": {},
   "outputs": [],
   "source": [
    "#pipeline:\n",
    "#trawl csv file of training ids\n",
    "#for every one, construct path to where the series is\n",
    "#for every one, construct path to where the mask (DENSE AND VESSELS) is\n",
    "#for every one return label"
   ]
  },
  {
   "cell_type": "code",
   "execution_count": 255,
   "id": "152678db-150b-4d1a-8b4c-356722605d36",
   "metadata": {},
   "outputs": [
    {
     "name": "stdout",
     "output_type": "stream",
     "text": [
      "True\n"
     ]
    }
   ],
   "source": [
    "baselineLocation = \"D:\\\\brc\\\\ids\"\n",
    "baselineLocationImgs = \"D:\\\\brc\\\\image\\\\manifest-1654812109500\\\\Duke-Breast-Cancer-MRI\"\n",
    "baselineLocationSeg = \"D:\\\\brc\\\\seg\\\\3dtest\\\\PKG - Duke-Breast-Cancer-MRI-Supplement-v3\\\\Duke-Breast-Cancer-MRI-Supplement-v3\\\\Segmentation_Masks_NRRD\"\n",
    "locationOfClin = \"D:\\\\brc\\\\clin\\\\clinical.csv\"\n",
    "print(os.path.exists(locationOfClin))"
   ]
  },
  {
   "cell_type": "code",
   "execution_count": 250,
   "id": "270290b4-443b-42f1-a02c-a8217ed778c3",
   "metadata": {},
   "outputs": [],
   "source": [
    "def trawlIdFile():\n",
    "    dir_list = os.listdir(baselineLocationSeg)\n",
    "    print(dir_list)\n",
    "    df = pd.DataFrame(dir_list, columns=['Name'])\n",
    "    return df"
   ]
  },
  {
   "cell_type": "code",
   "execution_count": 251,
   "id": "f5d43681-3dd0-47e7-94ce-49ef8e9faff9",
   "metadata": {},
   "outputs": [],
   "source": [
    "def buildPathToSeries(patient):\n",
    "    currentDir = os.path.join(baselineLocationImgs, patient)\n",
    "    folders = [f for f in os.listdir(currentDir) if os.path.isdir(os.path.join(currentDir, f))]\n",
    "        # Check if there is at least one folder\n",
    "    if folders:\n",
    "        # Grab the first folder (im just expecting the one but just in case)\n",
    "        firstFolder = folders[0]\n",
    "        currentDir = os.path.join(currentDir, firstFolder)\n",
    "        currentDir = os.path.join(currentDir, \"T1_IMGS\")\n",
    "    return currentDir\n"
   ]
  },
  {
   "cell_type": "code",
   "execution_count": 252,
   "id": "c957156d-18a3-46fe-ad25-5da4c03be9e4",
   "metadata": {},
   "outputs": [],
   "source": [
    "def buildPathToNrrd(patient):\n",
    "    currentDir = os.path.join(baselineLocationSeg, patient)\n",
    "    #Segmentation_Breast_MRI_018_Breast.seg.nrrd\n",
    "    string = \"Segmentation_\" + patient + \"_Breast.seg.nrrd\"\n",
    "    currentDir = os.path.join(currentDir, string)\n",
    "    return currentDir"
   ]
  },
  {
   "cell_type": "code",
   "execution_count": 264,
   "id": "2a375d1a-9575-427a-8c44-a8cddde5ac2c",
   "metadata": {},
   "outputs": [],
   "source": [
    "def trawlMyRecurrences():\n",
    "    df = pd.read_csv(locationOfClin)\n",
    "    df['Recurrence'] = pd.to_numeric(df['Recurrence'], downcast='integer', errors='coerce')\n",
    "    print(df)\n",
    "    return df"
   ]
  },
  {
   "cell_type": "code",
   "execution_count": 263,
   "id": "b69f5568-7410-4541-9700-f667a0cb31b7",
   "metadata": {},
   "outputs": [
    {
     "name": "stdout",
     "output_type": "stream",
     "text": [
      "               Name  Recurrence\n",
      "0    Breast_MRI_001         0.0\n",
      "1    Breast_MRI_002         0.0\n",
      "2    Breast_MRI_003         0.0\n",
      "3    Breast_MRI_004         0.0\n",
      "4    Breast_MRI_005         0.0\n",
      "..              ...         ...\n",
      "917  Breast_MRI_918         0.0\n",
      "918  Breast_MRI_919         0.0\n",
      "919  Breast_MRI_920         0.0\n",
      "920  Breast_MRI_921         0.0\n",
      "921  Breast_MRI_922         0.0\n",
      "\n",
      "[922 rows x 2 columns]\n"
     ]
    }
   ],
   "source": [
    "trawlMyRecurrences()"
   ]
  },
  {
   "cell_type": "code",
   "execution_count": 269,
   "id": "42ad5ee0-d8da-4466-8fb5-5d7082c5c4f2",
   "metadata": {},
   "outputs": [],
   "source": [
    "def constructSeriesDirAndMaskPaths():\n",
    "    series_dirs=[]\n",
    "    mask_paths=[]\n",
    "    df = trawlIdFile()\n",
    "    recurrencedf = trawlMyRecurrences()\n",
    "    filtered_rec = recurrencedf[recurrencedf['Name'].isin(df['Name'])]\n",
    "    labels = filtered_rec['Recurrence'].values.tolist()\n",
    "    print(labels)\n",
    "    for index, row in df.iterrows():\n",
    "        patient = row['Name']\n",
    "        #construct path to series\n",
    "        mgyPath = buildPathToSeries(patient)\n",
    "        if (os.path.exists(mgyPath)):\n",
    "            series_dirs.append(mgyPath)\n",
    "            mask_paths.append(buildPathToNrrd(patient))\n",
    "    return series_dirs, mask_paths, labels"
   ]
  },
  {
   "cell_type": "code",
   "execution_count": 270,
   "id": "ed3cb470-b5bc-4611-9dbb-1a1362be48f8",
   "metadata": {},
   "outputs": [
    {
     "name": "stdout",
     "output_type": "stream",
     "text": [
      "['Breast_MRI_002', 'Breast_MRI_006', 'Breast_MRI_018', 'Breast_MRI_021', 'Breast_MRI_023', 'Breast_MRI_025', 'Breast_MRI_031', 'Breast_MRI_041', 'Breast_MRI_054', 'Breast_MRI_076', 'Breast_MRI_080', 'Breast_MRI_087', 'Breast_MRI_089', 'Breast_MRI_105', 'Breast_MRI_112', 'Breast_MRI_124', 'Breast_MRI_141', 'Breast_MRI_143', 'Breast_MRI_148', 'Breast_MRI_166', 'Breast_MRI_170', 'Breast_MRI_186', 'Breast_MRI_204', 'Breast_MRI_229', 'Breast_MRI_230', 'Breast_MRI_238', 'Breast_MRI_246', 'Breast_MRI_272', 'Breast_MRI_279', 'Breast_MRI_280', 'Breast_MRI_286', 'Breast_MRI_287', 'Breast_MRI_290', 'Breast_MRI_302', 'Breast_MRI_320', 'Breast_MRI_329', 'Breast_MRI_334', 'Breast_MRI_337', 'Breast_MRI_338', 'Breast_MRI_339', 'Breast_MRI_354', 'Breast_MRI_359', 'Breast_MRI_363', 'Breast_MRI_369', 'Breast_MRI_370', 'Breast_MRI_383', 'Breast_MRI_392', 'Breast_MRI_426', 'Breast_MRI_435', 'Breast_MRI_440', 'Breast_MRI_464', 'Breast_MRI_466', 'Breast_MRI_489', 'Breast_MRI_492', 'Breast_MRI_495', 'Breast_MRI_497', 'Breast_MRI_501', 'Breast_MRI_503', 'Breast_MRI_525', 'Breast_MRI_528', 'Breast_MRI_529', 'Breast_MRI_530', 'Breast_MRI_553', 'Breast_MRI_561', 'Breast_MRI_562', 'Breast_MRI_572', 'Breast_MRI_575', 'Breast_MRI_587', 'Breast_MRI_595', 'Breast_MRI_602', 'Breast_MRI_612', 'Breast_MRI_616', 'Breast_MRI_618', 'Breast_MRI_636', 'Breast_MRI_640', 'Breast_MRI_652', 'Breast_MRI_670', 'Breast_MRI_681', 'Breast_MRI_686', 'Breast_MRI_688', 'Breast_MRI_693', 'Breast_MRI_694', 'Breast_MRI_705', 'Breast_MRI_723', 'Breast_MRI_726', 'Breast_MRI_727', 'Breast_MRI_741', 'Breast_MRI_762', 'Breast_MRI_773', 'Breast_MRI_781', 'Breast_MRI_788', 'Breast_MRI_797', 'Breast_MRI_802', 'Breast_MRI_805', 'Breast_MRI_819', 'Breast_MRI_827', 'Breast_MRI_832', 'Breast_MRI_876', 'Breast_MRI_888', 'Breast_MRI_902']\n",
      "               Name  Recurrence\n",
      "0    Breast_MRI_001         0.0\n",
      "1    Breast_MRI_002         0.0\n",
      "2    Breast_MRI_003         0.0\n",
      "3    Breast_MRI_004         0.0\n",
      "4    Breast_MRI_005         0.0\n",
      "..              ...         ...\n",
      "917  Breast_MRI_918         0.0\n",
      "918  Breast_MRI_919         0.0\n",
      "919  Breast_MRI_920         0.0\n",
      "920  Breast_MRI_921         0.0\n",
      "921  Breast_MRI_922         0.0\n",
      "\n",
      "[922 rows x 2 columns]\n",
      "[0.0, 0.0, 0.0, 0.0, 0.0, 0.0, 0.0, 0.0, 0.0, 0.0, 0.0, 0.0, 0.0, 0.0, 0.0, 0.0, 0.0, 0.0, 0.0, 0.0, 0.0, 0.0, 0.0, 0.0, 0.0, 0.0, 0.0, 0.0, 0.0, 0.0, 0.0, 0.0, 0.0, 0.0, 0.0, 0.0, 0.0, 0.0, 0.0, 0.0, 0.0, 0.0, 0.0, 0.0, 0.0, 1.0, 1.0, 0.0, 0.0, 0.0, 0.0, 0.0, 0.0, 0.0, 0.0, 0.0, 0.0, 0.0, 0.0, 0.0, 0.0, 0.0, 0.0, 0.0, 0.0, 0.0, 0.0, 0.0, 0.0, 0.0, 0.0, 0.0, 1.0, 0.0, 0.0, 0.0, 0.0, 0.0, 0.0, 0.0, 0.0, 0.0, 0.0, 0.0, 0.0, 0.0, 0.0, 1.0, 0.0, 0.0, 0.0, 0.0, 0.0, 0.0, 0.0, 0.0, 1.0, 0.0, 0.0, 0.0]\n"
     ]
    }
   ],
   "source": [
    "constructSeriesDirAndMaskPaths()"
   ]
  },
  {
   "cell_type": "code",
   "execution_count": null,
   "id": "9c94df11-259b-4d7d-abe7-6af617aebf5e",
   "metadata": {},
   "outputs": [],
   "source": [
    "from torchvision.transforms import Resize, Compose\n",
    "from torch.utils.data import DataLoader\n",
    "\n",
    "transform = Compose([\n",
    "    Resize((224, 224)),  # need to see if architecture allows for this\n",
    "])\n",
    "series, masks, recLabels = constructSeriesDirAndMaskPaths()\n",
    "dataset = BreastMRIDataset(\n",
    "    series_dirs=series,\n",
    "    mask_paths=masks,\n",
    "    labels=recLabels,\n",
    "    transform=transform,\n",
    "    use_mask=True,\n",
    ")\n",
    "\n",
    "loader = DataLoader(dataset, batch_size=8, shuffle=True)\n"
   ]
  },
  {
   "cell_type": "code",
   "execution_count": null,
   "id": "c23f4a05-1884-4e63-96fc-697715f8b278",
   "metadata": {},
   "outputs": [],
   "source": [
    "#put in pickl file  post-architecture so this isnt a pain for anyone"
   ]
  },
  {
   "cell_type": "code",
   "execution_count": null,
   "id": "6c813f61-3a38-4b85-8c24-1c95a2a1bd87",
   "metadata": {},
   "outputs": [],
   "source": []
  }
 ],
 "metadata": {
  "kernelspec": {
   "display_name": "Python 3 (ipykernel)",
   "language": "python",
   "name": "python3"
  },
  "language_info": {
   "codemirror_mode": {
    "name": "ipython",
    "version": 3
   },
   "file_extension": ".py",
   "mimetype": "text/x-python",
   "name": "python",
   "nbconvert_exporter": "python",
   "pygments_lexer": "ipython3",
   "version": "3.13.2"
  }
 },
 "nbformat": 4,
 "nbformat_minor": 5
}
