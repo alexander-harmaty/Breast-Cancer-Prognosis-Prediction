{
  "cells": [
    {
      "cell_type": "markdown",
      "metadata": {
        "id": "view-in-github",
        "colab_type": "text"
      },
      "source": [
        "<a href=\"https://colab.research.google.com/github/alexander-harmaty/Breast-Cancer-Prognosis-Prediction/blob/main/fusion_layer.ipynb\" target=\"_parent\"><img src=\"https://colab.research.google.com/assets/colab-badge.svg\" alt=\"Open In Colab\"/></a>"
      ]
    },
    {
      "cell_type": "markdown",
      "metadata": {
        "id": "CNMwIpFd2Oyc"
      },
      "source": [
        "<a href=\"https://colab.research.google.com/\" alt=\"Open In Colab\"><img src=\"https://colab.research.google.com/assets/colab-badge.svg\" alt=\"Open In Colab\"/></a>"
      ],
      "id": "CNMwIpFd2Oyc"
    },
    {
      "cell_type": "markdown",
      "metadata": {
        "id": "syHd1k-p2Oyf"
      },
      "source": [
        "# **Environment Setup and Imports**"
      ],
      "id": "syHd1k-p2Oyf"
    },
    {
      "cell_type": "code",
      "metadata": {
        "id": "zIQulVBb2Oyf"
      },
      "execution_count": 1,
      "outputs": [],
      "source": [
        "import pickle\n",
        "import numpy as np\n",
        "import pandas as pd\n",
        "from collections import Counter\n",
        "from sklearn.model_selection import train_test_split, StratifiedKFold\n",
        "from sklearn.metrics import confusion_matrix, classification_report, roc_auc_score\n",
        "import tensorflow as tf\n",
        "from tensorflow.keras import Input, Model\n",
        "from tensorflow.keras.layers import (\n",
        "    Dense, Dropout, BatchNormalization,\n",
        "    Concatenate, Multiply, Activation\n",
        ")\n"
      ],
      "id": "zIQulVBb2Oyf"
    },
    {
      "cell_type": "markdown",
      "metadata": {
        "id": "Q-K5oKJx2Oyi"
      },
      "source": [
        "# **Data Preprocessing**"
      ],
      "id": "Q-K5oKJx2Oyi"
    },
    {
      "cell_type": "markdown",
      "metadata": {
        "id": "oz9w1Yby2Oyi"
      },
      "source": [
        "## *Data Loading*"
      ],
      "id": "oz9w1Yby2Oyi"
    },
    {
      "cell_type": "code",
      "metadata": {
        "colab": {
          "base_uri": "https://localhost:8080/"
        },
        "id": "HTMBpH012Oyj",
        "outputId": "0c515925-23c4-47e4-ce1e-37b51aff9bf5"
      },
      "execution_count": 2,
      "outputs": [
        {
          "output_type": "stream",
          "name": "stdout",
          "text": [
            "Feature shapes: CNN: (100, 128) RNN: (100, 32)\n",
            "Label distribution: Counter({np.float64(0.0): 90, np.float64(1.0): 10})\n"
          ]
        }
      ],
      "source": [
        "# --- Data Loading & Alignment ---\n",
        "with open('rnn_features.pkl','rb') as f: rnn = pickle.load(f)\n",
        "with open('cnn_features.pkl','rb') as f: cnn = pickle.load(f)\n",
        "\n",
        "df_rnn = pd.DataFrame(rnn['features'], index=rnn['ids'])\n",
        "df_rnn['label'] = rnn['labels']\n",
        "df_cnn = pd.DataFrame(cnn['features'], index=cnn['ids'])\n",
        "df_cnn['label'] = cnn['labels']\n",
        "\n",
        "common = df_rnn.index.intersection(df_cnn.index)\n",
        "df_rnn = df_rnn.loc[common]\n",
        "df_cnn = df_cnn.loc[common]\n",
        "\n",
        "X_rnn = df_rnn.drop(columns='label').values\n",
        "X_cnn = df_cnn.drop(columns='label').values\n",
        "y     = df_rnn['label'].values\n",
        "\n",
        "print('Feature shapes:', 'CNN:', X_cnn.shape, 'RNN:', X_rnn.shape)\n",
        "print('Label distribution:', Counter(y))\n"
      ],
      "id": "HTMBpH012Oyj"
    },
    {
      "cell_type": "markdown",
      "metadata": {
        "id": "PyQiUfuR2Oyk"
      },
      "source": [
        "## *Feature Merging*\n",
        "single-input vs dual-input (choose which one to run)\n",
        "\n",
        "plan:\n",
        "\n",
        "*   single‑input fusion for baseline  \n",
        "*   dual‑input gated fusion for fine tuning"
      ],
      "id": "PyQiUfuR2Oyk"
    },
    {
      "cell_type": "markdown",
      "metadata": {
        "id": "nQNmaWgP2Oyl"
      },
      "source": [
        "### dual-input"
      ],
      "id": "nQNmaWgP2Oyl"
    },
    {
      "cell_type": "markdown",
      "metadata": {
        "id": "i-4lvEBV2Oym"
      },
      "source": [
        "## *Data Splitting*"
      ],
      "id": "i-4lvEBV2Oym"
    },
    {
      "cell_type": "code",
      "metadata": {
        "colab": {
          "base_uri": "https://localhost:8080/"
        },
        "id": "hdBMrFKu2Oym",
        "outputId": "6c7035ff-8da0-4b5b-895e-36617cac823b"
      },
      "execution_count": 3,
      "outputs": [
        {
          "output_type": "stream",
          "name": "stdout",
          "text": [
            "Split sizes: Counter({np.float64(0.0): 63, np.float64(1.0): 7}) Counter({np.float64(0.0): 13, np.float64(1.0): 2}) Counter({np.float64(0.0): 14, np.float64(1.0): 1})\n"
          ]
        }
      ],
      "source": [
        "# --- Train/Validation/Test Split ---\n",
        "Xc_train, Xc_temp, Xr_train, Xr_temp, y_train, y_temp = train_test_split(\n",
        "    X_cnn, X_rnn, y,\n",
        "    test_size=0.30, random_state=42, stratify=y\n",
        ")\n",
        "try:\n",
        "    Xc_val, Xc_test, Xr_val, Xr_test, y_val, y_test = train_test_split(\n",
        "        Xc_temp, Xr_temp, y_temp,\n",
        "        test_size=0.50, random_state=42, stratify=y_temp\n",
        "    )\n",
        "except ValueError:\n",
        "    Xc_val, Xc_test, Xr_val, Xr_test, y_val, y_test = train_test_split(\n",
        "        Xc_temp, Xr_temp, y_temp,\n",
        "        test_size=0.50, random_state=42\n",
        "    )\n",
        "print('Split sizes:', Counter(y_train), Counter(y_val), Counter(y_test))\n"
      ],
      "id": "hdBMrFKu2Oym"
    },
    {
      "cell_type": "markdown",
      "metadata": {
        "id": "tiBwe2o52Oym"
      },
      "source": [
        "# **Fusion Model**"
      ],
      "id": "tiBwe2o52Oym"
    },
    {
      "cell_type": "markdown",
      "metadata": {
        "id": "09ukvscR2Oym"
      },
      "source": [
        "## *Model Building*"
      ],
      "id": "09ukvscR2Oym"
    },
    {
      "cell_type": "code",
      "metadata": {
        "colab": {
          "base_uri": "https://localhost:8080/",
          "height": 986
        },
        "id": "7MkMV_-f2Oym",
        "outputId": "2fc74a30-aa70-4ed8-b81c-f043d322b9a4"
      },
      "execution_count": 4,
      "outputs": [
        {
          "output_type": "display_data",
          "data": {
            "text/plain": [
              "\u001b[1mModel: \"gated_fusion_model\"\u001b[0m\n"
            ],
            "text/html": [
              "<pre style=\"white-space:pre;overflow-x:auto;line-height:normal;font-family:Menlo,'DejaVu Sans Mono',consolas,'Courier New',monospace\"><span style=\"font-weight: bold\">Model: \"gated_fusion_model\"</span>\n",
              "</pre>\n"
            ]
          },
          "metadata": {}
        },
        {
          "output_type": "display_data",
          "data": {
            "text/plain": [
              "┏━━━━━━━━━━━━━━━━━━━━━┳━━━━━━━━━━━━━━━━━━━┳━━━━━━━━━━━━┳━━━━━━━━━━━━━━━━━━━┓\n",
              "┃\u001b[1m \u001b[0m\u001b[1mLayer (type)       \u001b[0m\u001b[1m \u001b[0m┃\u001b[1m \u001b[0m\u001b[1mOutput Shape     \u001b[0m\u001b[1m \u001b[0m┃\u001b[1m \u001b[0m\u001b[1m   Param #\u001b[0m\u001b[1m \u001b[0m┃\u001b[1m \u001b[0m\u001b[1mConnected to     \u001b[0m\u001b[1m \u001b[0m┃\n",
              "┡━━━━━━━━━━━━━━━━━━━━━╇━━━━━━━━━━━━━━━━━━━╇━━━━━━━━━━━━╇━━━━━━━━━━━━━━━━━━━┩\n",
              "│ cnn_in (\u001b[38;5;33mInputLayer\u001b[0m) │ (\u001b[38;5;45mNone\u001b[0m, \u001b[38;5;34m128\u001b[0m)       │          \u001b[38;5;34m0\u001b[0m │ -                 │\n",
              "├─────────────────────┼───────────────────┼────────────┼───────────────────┤\n",
              "│ rnn_in (\u001b[38;5;33mInputLayer\u001b[0m) │ (\u001b[38;5;45mNone\u001b[0m, \u001b[38;5;34m32\u001b[0m)        │          \u001b[38;5;34m0\u001b[0m │ -                 │\n",
              "├─────────────────────┼───────────────────┼────────────┼───────────────────┤\n",
              "│ dense (\u001b[38;5;33mDense\u001b[0m)       │ (\u001b[38;5;45mNone\u001b[0m, \u001b[38;5;34m128\u001b[0m)       │     \u001b[38;5;34m16,512\u001b[0m │ cnn_in[\u001b[38;5;34m0\u001b[0m][\u001b[38;5;34m0\u001b[0m]      │\n",
              "├─────────────────────┼───────────────────┼────────────┼───────────────────┤\n",
              "│ dense_1 (\u001b[38;5;33mDense\u001b[0m)     │ (\u001b[38;5;45mNone\u001b[0m, \u001b[38;5;34m128\u001b[0m)       │      \u001b[38;5;34m4,224\u001b[0m │ rnn_in[\u001b[38;5;34m0\u001b[0m][\u001b[38;5;34m0\u001b[0m]      │\n",
              "├─────────────────────┼───────────────────┼────────────┼───────────────────┤\n",
              "│ batch_normalization │ (\u001b[38;5;45mNone\u001b[0m, \u001b[38;5;34m128\u001b[0m)       │        \u001b[38;5;34m512\u001b[0m │ dense[\u001b[38;5;34m0\u001b[0m][\u001b[38;5;34m0\u001b[0m]       │\n",
              "│ (\u001b[38;5;33mBatchNormalizatio…\u001b[0m │                   │            │                   │\n",
              "├─────────────────────┼───────────────────┼────────────┼───────────────────┤\n",
              "│ batch_normalizatio… │ (\u001b[38;5;45mNone\u001b[0m, \u001b[38;5;34m128\u001b[0m)       │        \u001b[38;5;34m512\u001b[0m │ dense_1[\u001b[38;5;34m0\u001b[0m][\u001b[38;5;34m0\u001b[0m]     │\n",
              "│ (\u001b[38;5;33mBatchNormalizatio…\u001b[0m │                   │            │                   │\n",
              "├─────────────────────┼───────────────────┼────────────┼───────────────────┤\n",
              "│ dropout (\u001b[38;5;33mDropout\u001b[0m)   │ (\u001b[38;5;45mNone\u001b[0m, \u001b[38;5;34m128\u001b[0m)       │          \u001b[38;5;34m0\u001b[0m │ batch_normalizat… │\n",
              "├─────────────────────┼───────────────────┼────────────┼───────────────────┤\n",
              "│ dropout_1 (\u001b[38;5;33mDropout\u001b[0m) │ (\u001b[38;5;45mNone\u001b[0m, \u001b[38;5;34m128\u001b[0m)       │          \u001b[38;5;34m0\u001b[0m │ batch_normalizat… │\n",
              "├─────────────────────┼───────────────────┼────────────┼───────────────────┤\n",
              "│ concatenate         │ (\u001b[38;5;45mNone\u001b[0m, \u001b[38;5;34m256\u001b[0m)       │          \u001b[38;5;34m0\u001b[0m │ dropout[\u001b[38;5;34m0\u001b[0m][\u001b[38;5;34m0\u001b[0m],    │\n",
              "│ (\u001b[38;5;33mConcatenate\u001b[0m)       │                   │            │ dropout_1[\u001b[38;5;34m0\u001b[0m][\u001b[38;5;34m0\u001b[0m]   │\n",
              "├─────────────────────┼───────────────────┼────────────┼───────────────────┤\n",
              "│ fusion_gate (\u001b[38;5;33mDense\u001b[0m) │ (\u001b[38;5;45mNone\u001b[0m, \u001b[38;5;34m128\u001b[0m)       │     \u001b[38;5;34m32,896\u001b[0m │ concatenate[\u001b[38;5;34m0\u001b[0m][\u001b[38;5;34m0\u001b[0m] │\n",
              "├─────────────────────┼───────────────────┼────────────┼───────────────────┤\n",
              "│ subtract (\u001b[38;5;33mSubtract\u001b[0m) │ (\u001b[38;5;45mNone\u001b[0m, \u001b[38;5;34m128\u001b[0m)       │          \u001b[38;5;34m0\u001b[0m │ fusion_gate[\u001b[38;5;34m0\u001b[0m][\u001b[38;5;34m0\u001b[0m] │\n",
              "├─────────────────────┼───────────────────┼────────────┼───────────────────┤\n",
              "│ activation          │ (\u001b[38;5;45mNone\u001b[0m, \u001b[38;5;34m128\u001b[0m)       │          \u001b[38;5;34m0\u001b[0m │ subtract[\u001b[38;5;34m0\u001b[0m][\u001b[38;5;34m0\u001b[0m]    │\n",
              "│ (\u001b[38;5;33mActivation\u001b[0m)        │                   │            │                   │\n",
              "├─────────────────────┼───────────────────┼────────────┼───────────────────┤\n",
              "│ multiply (\u001b[38;5;33mMultiply\u001b[0m) │ (\u001b[38;5;45mNone\u001b[0m, \u001b[38;5;34m128\u001b[0m)       │          \u001b[38;5;34m0\u001b[0m │ fusion_gate[\u001b[38;5;34m0\u001b[0m][\u001b[38;5;34m0\u001b[0m… │\n",
              "│                     │                   │            │ dropout[\u001b[38;5;34m0\u001b[0m][\u001b[38;5;34m0\u001b[0m]     │\n",
              "├─────────────────────┼───────────────────┼────────────┼───────────────────┤\n",
              "│ multiply_1          │ (\u001b[38;5;45mNone\u001b[0m, \u001b[38;5;34m128\u001b[0m)       │          \u001b[38;5;34m0\u001b[0m │ activation[\u001b[38;5;34m0\u001b[0m][\u001b[38;5;34m0\u001b[0m], │\n",
              "│ (\u001b[38;5;33mMultiply\u001b[0m)          │                   │            │ dropout_1[\u001b[38;5;34m0\u001b[0m][\u001b[38;5;34m0\u001b[0m]   │\n",
              "├─────────────────────┼───────────────────┼────────────┼───────────────────┤\n",
              "│ add (\u001b[38;5;33mAdd\u001b[0m)           │ (\u001b[38;5;45mNone\u001b[0m, \u001b[38;5;34m128\u001b[0m)       │          \u001b[38;5;34m0\u001b[0m │ multiply[\u001b[38;5;34m0\u001b[0m][\u001b[38;5;34m0\u001b[0m],   │\n",
              "│                     │                   │            │ multiply_1[\u001b[38;5;34m0\u001b[0m][\u001b[38;5;34m0\u001b[0m]  │\n",
              "├─────────────────────┼───────────────────┼────────────┼───────────────────┤\n",
              "│ dense_2 (\u001b[38;5;33mDense\u001b[0m)     │ (\u001b[38;5;45mNone\u001b[0m, \u001b[38;5;34m64\u001b[0m)        │      \u001b[38;5;34m8,256\u001b[0m │ add[\u001b[38;5;34m0\u001b[0m][\u001b[38;5;34m0\u001b[0m]         │\n",
              "├─────────────────────┼───────────────────┼────────────┼───────────────────┤\n",
              "│ batch_normalizatio… │ (\u001b[38;5;45mNone\u001b[0m, \u001b[38;5;34m64\u001b[0m)        │        \u001b[38;5;34m256\u001b[0m │ dense_2[\u001b[38;5;34m0\u001b[0m][\u001b[38;5;34m0\u001b[0m]     │\n",
              "│ (\u001b[38;5;33mBatchNormalizatio…\u001b[0m │                   │            │                   │\n",
              "├─────────────────────┼───────────────────┼────────────┼───────────────────┤\n",
              "│ dropout_2 (\u001b[38;5;33mDropout\u001b[0m) │ (\u001b[38;5;45mNone\u001b[0m, \u001b[38;5;34m64\u001b[0m)        │          \u001b[38;5;34m0\u001b[0m │ batch_normalizat… │\n",
              "├─────────────────────┼───────────────────┼────────────┼───────────────────┤\n",
              "│ dense_3 (\u001b[38;5;33mDense\u001b[0m)     │ (\u001b[38;5;45mNone\u001b[0m, \u001b[38;5;34m32\u001b[0m)        │      \u001b[38;5;34m2,080\u001b[0m │ dropout_2[\u001b[38;5;34m0\u001b[0m][\u001b[38;5;34m0\u001b[0m]   │\n",
              "├─────────────────────┼───────────────────┼────────────┼───────────────────┤\n",
              "│ dropout_3 (\u001b[38;5;33mDropout\u001b[0m) │ (\u001b[38;5;45mNone\u001b[0m, \u001b[38;5;34m32\u001b[0m)        │          \u001b[38;5;34m0\u001b[0m │ dense_3[\u001b[38;5;34m0\u001b[0m][\u001b[38;5;34m0\u001b[0m]     │\n",
              "├─────────────────────┼───────────────────┼────────────┼───────────────────┤\n",
              "│ out (\u001b[38;5;33mDense\u001b[0m)         │ (\u001b[38;5;45mNone\u001b[0m, \u001b[38;5;34m1\u001b[0m)         │         \u001b[38;5;34m33\u001b[0m │ dropout_3[\u001b[38;5;34m0\u001b[0m][\u001b[38;5;34m0\u001b[0m]   │\n",
              "└─────────────────────┴───────────────────┴────────────┴───────────────────┘\n"
            ],
            "text/html": [
              "<pre style=\"white-space:pre;overflow-x:auto;line-height:normal;font-family:Menlo,'DejaVu Sans Mono',consolas,'Courier New',monospace\">┏━━━━━━━━━━━━━━━━━━━━━┳━━━━━━━━━━━━━━━━━━━┳━━━━━━━━━━━━┳━━━━━━━━━━━━━━━━━━━┓\n",
              "┃<span style=\"font-weight: bold\"> Layer (type)        </span>┃<span style=\"font-weight: bold\"> Output Shape      </span>┃<span style=\"font-weight: bold\">    Param # </span>┃<span style=\"font-weight: bold\"> Connected to      </span>┃\n",
              "┡━━━━━━━━━━━━━━━━━━━━━╇━━━━━━━━━━━━━━━━━━━╇━━━━━━━━━━━━╇━━━━━━━━━━━━━━━━━━━┩\n",
              "│ cnn_in (<span style=\"color: #0087ff; text-decoration-color: #0087ff\">InputLayer</span>) │ (<span style=\"color: #00d7ff; text-decoration-color: #00d7ff\">None</span>, <span style=\"color: #00af00; text-decoration-color: #00af00\">128</span>)       │          <span style=\"color: #00af00; text-decoration-color: #00af00\">0</span> │ -                 │\n",
              "├─────────────────────┼───────────────────┼────────────┼───────────────────┤\n",
              "│ rnn_in (<span style=\"color: #0087ff; text-decoration-color: #0087ff\">InputLayer</span>) │ (<span style=\"color: #00d7ff; text-decoration-color: #00d7ff\">None</span>, <span style=\"color: #00af00; text-decoration-color: #00af00\">32</span>)        │          <span style=\"color: #00af00; text-decoration-color: #00af00\">0</span> │ -                 │\n",
              "├─────────────────────┼───────────────────┼────────────┼───────────────────┤\n",
              "│ dense (<span style=\"color: #0087ff; text-decoration-color: #0087ff\">Dense</span>)       │ (<span style=\"color: #00d7ff; text-decoration-color: #00d7ff\">None</span>, <span style=\"color: #00af00; text-decoration-color: #00af00\">128</span>)       │     <span style=\"color: #00af00; text-decoration-color: #00af00\">16,512</span> │ cnn_in[<span style=\"color: #00af00; text-decoration-color: #00af00\">0</span>][<span style=\"color: #00af00; text-decoration-color: #00af00\">0</span>]      │\n",
              "├─────────────────────┼───────────────────┼────────────┼───────────────────┤\n",
              "│ dense_1 (<span style=\"color: #0087ff; text-decoration-color: #0087ff\">Dense</span>)     │ (<span style=\"color: #00d7ff; text-decoration-color: #00d7ff\">None</span>, <span style=\"color: #00af00; text-decoration-color: #00af00\">128</span>)       │      <span style=\"color: #00af00; text-decoration-color: #00af00\">4,224</span> │ rnn_in[<span style=\"color: #00af00; text-decoration-color: #00af00\">0</span>][<span style=\"color: #00af00; text-decoration-color: #00af00\">0</span>]      │\n",
              "├─────────────────────┼───────────────────┼────────────┼───────────────────┤\n",
              "│ batch_normalization │ (<span style=\"color: #00d7ff; text-decoration-color: #00d7ff\">None</span>, <span style=\"color: #00af00; text-decoration-color: #00af00\">128</span>)       │        <span style=\"color: #00af00; text-decoration-color: #00af00\">512</span> │ dense[<span style=\"color: #00af00; text-decoration-color: #00af00\">0</span>][<span style=\"color: #00af00; text-decoration-color: #00af00\">0</span>]       │\n",
              "│ (<span style=\"color: #0087ff; text-decoration-color: #0087ff\">BatchNormalizatio…</span> │                   │            │                   │\n",
              "├─────────────────────┼───────────────────┼────────────┼───────────────────┤\n",
              "│ batch_normalizatio… │ (<span style=\"color: #00d7ff; text-decoration-color: #00d7ff\">None</span>, <span style=\"color: #00af00; text-decoration-color: #00af00\">128</span>)       │        <span style=\"color: #00af00; text-decoration-color: #00af00\">512</span> │ dense_1[<span style=\"color: #00af00; text-decoration-color: #00af00\">0</span>][<span style=\"color: #00af00; text-decoration-color: #00af00\">0</span>]     │\n",
              "│ (<span style=\"color: #0087ff; text-decoration-color: #0087ff\">BatchNormalizatio…</span> │                   │            │                   │\n",
              "├─────────────────────┼───────────────────┼────────────┼───────────────────┤\n",
              "│ dropout (<span style=\"color: #0087ff; text-decoration-color: #0087ff\">Dropout</span>)   │ (<span style=\"color: #00d7ff; text-decoration-color: #00d7ff\">None</span>, <span style=\"color: #00af00; text-decoration-color: #00af00\">128</span>)       │          <span style=\"color: #00af00; text-decoration-color: #00af00\">0</span> │ batch_normalizat… │\n",
              "├─────────────────────┼───────────────────┼────────────┼───────────────────┤\n",
              "│ dropout_1 (<span style=\"color: #0087ff; text-decoration-color: #0087ff\">Dropout</span>) │ (<span style=\"color: #00d7ff; text-decoration-color: #00d7ff\">None</span>, <span style=\"color: #00af00; text-decoration-color: #00af00\">128</span>)       │          <span style=\"color: #00af00; text-decoration-color: #00af00\">0</span> │ batch_normalizat… │\n",
              "├─────────────────────┼───────────────────┼────────────┼───────────────────┤\n",
              "│ concatenate         │ (<span style=\"color: #00d7ff; text-decoration-color: #00d7ff\">None</span>, <span style=\"color: #00af00; text-decoration-color: #00af00\">256</span>)       │          <span style=\"color: #00af00; text-decoration-color: #00af00\">0</span> │ dropout[<span style=\"color: #00af00; text-decoration-color: #00af00\">0</span>][<span style=\"color: #00af00; text-decoration-color: #00af00\">0</span>],    │\n",
              "│ (<span style=\"color: #0087ff; text-decoration-color: #0087ff\">Concatenate</span>)       │                   │            │ dropout_1[<span style=\"color: #00af00; text-decoration-color: #00af00\">0</span>][<span style=\"color: #00af00; text-decoration-color: #00af00\">0</span>]   │\n",
              "├─────────────────────┼───────────────────┼────────────┼───────────────────┤\n",
              "│ fusion_gate (<span style=\"color: #0087ff; text-decoration-color: #0087ff\">Dense</span>) │ (<span style=\"color: #00d7ff; text-decoration-color: #00d7ff\">None</span>, <span style=\"color: #00af00; text-decoration-color: #00af00\">128</span>)       │     <span style=\"color: #00af00; text-decoration-color: #00af00\">32,896</span> │ concatenate[<span style=\"color: #00af00; text-decoration-color: #00af00\">0</span>][<span style=\"color: #00af00; text-decoration-color: #00af00\">0</span>] │\n",
              "├─────────────────────┼───────────────────┼────────────┼───────────────────┤\n",
              "│ subtract (<span style=\"color: #0087ff; text-decoration-color: #0087ff\">Subtract</span>) │ (<span style=\"color: #00d7ff; text-decoration-color: #00d7ff\">None</span>, <span style=\"color: #00af00; text-decoration-color: #00af00\">128</span>)       │          <span style=\"color: #00af00; text-decoration-color: #00af00\">0</span> │ fusion_gate[<span style=\"color: #00af00; text-decoration-color: #00af00\">0</span>][<span style=\"color: #00af00; text-decoration-color: #00af00\">0</span>] │\n",
              "├─────────────────────┼───────────────────┼────────────┼───────────────────┤\n",
              "│ activation          │ (<span style=\"color: #00d7ff; text-decoration-color: #00d7ff\">None</span>, <span style=\"color: #00af00; text-decoration-color: #00af00\">128</span>)       │          <span style=\"color: #00af00; text-decoration-color: #00af00\">0</span> │ subtract[<span style=\"color: #00af00; text-decoration-color: #00af00\">0</span>][<span style=\"color: #00af00; text-decoration-color: #00af00\">0</span>]    │\n",
              "│ (<span style=\"color: #0087ff; text-decoration-color: #0087ff\">Activation</span>)        │                   │            │                   │\n",
              "├─────────────────────┼───────────────────┼────────────┼───────────────────┤\n",
              "│ multiply (<span style=\"color: #0087ff; text-decoration-color: #0087ff\">Multiply</span>) │ (<span style=\"color: #00d7ff; text-decoration-color: #00d7ff\">None</span>, <span style=\"color: #00af00; text-decoration-color: #00af00\">128</span>)       │          <span style=\"color: #00af00; text-decoration-color: #00af00\">0</span> │ fusion_gate[<span style=\"color: #00af00; text-decoration-color: #00af00\">0</span>][<span style=\"color: #00af00; text-decoration-color: #00af00\">0</span>… │\n",
              "│                     │                   │            │ dropout[<span style=\"color: #00af00; text-decoration-color: #00af00\">0</span>][<span style=\"color: #00af00; text-decoration-color: #00af00\">0</span>]     │\n",
              "├─────────────────────┼───────────────────┼────────────┼───────────────────┤\n",
              "│ multiply_1          │ (<span style=\"color: #00d7ff; text-decoration-color: #00d7ff\">None</span>, <span style=\"color: #00af00; text-decoration-color: #00af00\">128</span>)       │          <span style=\"color: #00af00; text-decoration-color: #00af00\">0</span> │ activation[<span style=\"color: #00af00; text-decoration-color: #00af00\">0</span>][<span style=\"color: #00af00; text-decoration-color: #00af00\">0</span>], │\n",
              "│ (<span style=\"color: #0087ff; text-decoration-color: #0087ff\">Multiply</span>)          │                   │            │ dropout_1[<span style=\"color: #00af00; text-decoration-color: #00af00\">0</span>][<span style=\"color: #00af00; text-decoration-color: #00af00\">0</span>]   │\n",
              "├─────────────────────┼───────────────────┼────────────┼───────────────────┤\n",
              "│ add (<span style=\"color: #0087ff; text-decoration-color: #0087ff\">Add</span>)           │ (<span style=\"color: #00d7ff; text-decoration-color: #00d7ff\">None</span>, <span style=\"color: #00af00; text-decoration-color: #00af00\">128</span>)       │          <span style=\"color: #00af00; text-decoration-color: #00af00\">0</span> │ multiply[<span style=\"color: #00af00; text-decoration-color: #00af00\">0</span>][<span style=\"color: #00af00; text-decoration-color: #00af00\">0</span>],   │\n",
              "│                     │                   │            │ multiply_1[<span style=\"color: #00af00; text-decoration-color: #00af00\">0</span>][<span style=\"color: #00af00; text-decoration-color: #00af00\">0</span>]  │\n",
              "├─────────────────────┼───────────────────┼────────────┼───────────────────┤\n",
              "│ dense_2 (<span style=\"color: #0087ff; text-decoration-color: #0087ff\">Dense</span>)     │ (<span style=\"color: #00d7ff; text-decoration-color: #00d7ff\">None</span>, <span style=\"color: #00af00; text-decoration-color: #00af00\">64</span>)        │      <span style=\"color: #00af00; text-decoration-color: #00af00\">8,256</span> │ add[<span style=\"color: #00af00; text-decoration-color: #00af00\">0</span>][<span style=\"color: #00af00; text-decoration-color: #00af00\">0</span>]         │\n",
              "├─────────────────────┼───────────────────┼────────────┼───────────────────┤\n",
              "│ batch_normalizatio… │ (<span style=\"color: #00d7ff; text-decoration-color: #00d7ff\">None</span>, <span style=\"color: #00af00; text-decoration-color: #00af00\">64</span>)        │        <span style=\"color: #00af00; text-decoration-color: #00af00\">256</span> │ dense_2[<span style=\"color: #00af00; text-decoration-color: #00af00\">0</span>][<span style=\"color: #00af00; text-decoration-color: #00af00\">0</span>]     │\n",
              "│ (<span style=\"color: #0087ff; text-decoration-color: #0087ff\">BatchNormalizatio…</span> │                   │            │                   │\n",
              "├─────────────────────┼───────────────────┼────────────┼───────────────────┤\n",
              "│ dropout_2 (<span style=\"color: #0087ff; text-decoration-color: #0087ff\">Dropout</span>) │ (<span style=\"color: #00d7ff; text-decoration-color: #00d7ff\">None</span>, <span style=\"color: #00af00; text-decoration-color: #00af00\">64</span>)        │          <span style=\"color: #00af00; text-decoration-color: #00af00\">0</span> │ batch_normalizat… │\n",
              "├─────────────────────┼───────────────────┼────────────┼───────────────────┤\n",
              "│ dense_3 (<span style=\"color: #0087ff; text-decoration-color: #0087ff\">Dense</span>)     │ (<span style=\"color: #00d7ff; text-decoration-color: #00d7ff\">None</span>, <span style=\"color: #00af00; text-decoration-color: #00af00\">32</span>)        │      <span style=\"color: #00af00; text-decoration-color: #00af00\">2,080</span> │ dropout_2[<span style=\"color: #00af00; text-decoration-color: #00af00\">0</span>][<span style=\"color: #00af00; text-decoration-color: #00af00\">0</span>]   │\n",
              "├─────────────────────┼───────────────────┼────────────┼───────────────────┤\n",
              "│ dropout_3 (<span style=\"color: #0087ff; text-decoration-color: #0087ff\">Dropout</span>) │ (<span style=\"color: #00d7ff; text-decoration-color: #00d7ff\">None</span>, <span style=\"color: #00af00; text-decoration-color: #00af00\">32</span>)        │          <span style=\"color: #00af00; text-decoration-color: #00af00\">0</span> │ dense_3[<span style=\"color: #00af00; text-decoration-color: #00af00\">0</span>][<span style=\"color: #00af00; text-decoration-color: #00af00\">0</span>]     │\n",
              "├─────────────────────┼───────────────────┼────────────┼───────────────────┤\n",
              "│ out (<span style=\"color: #0087ff; text-decoration-color: #0087ff\">Dense</span>)         │ (<span style=\"color: #00d7ff; text-decoration-color: #00d7ff\">None</span>, <span style=\"color: #00af00; text-decoration-color: #00af00\">1</span>)         │         <span style=\"color: #00af00; text-decoration-color: #00af00\">33</span> │ dropout_3[<span style=\"color: #00af00; text-decoration-color: #00af00\">0</span>][<span style=\"color: #00af00; text-decoration-color: #00af00\">0</span>]   │\n",
              "└─────────────────────┴───────────────────┴────────────┴───────────────────┘\n",
              "</pre>\n"
            ]
          },
          "metadata": {}
        },
        {
          "output_type": "display_data",
          "data": {
            "text/plain": [
              "\u001b[1m Total params: \u001b[0m\u001b[38;5;34m65,281\u001b[0m (255.00 KB)\n"
            ],
            "text/html": [
              "<pre style=\"white-space:pre;overflow-x:auto;line-height:normal;font-family:Menlo,'DejaVu Sans Mono',consolas,'Courier New',monospace\"><span style=\"font-weight: bold\"> Total params: </span><span style=\"color: #00af00; text-decoration-color: #00af00\">65,281</span> (255.00 KB)\n",
              "</pre>\n"
            ]
          },
          "metadata": {}
        },
        {
          "output_type": "display_data",
          "data": {
            "text/plain": [
              "\u001b[1m Trainable params: \u001b[0m\u001b[38;5;34m64,641\u001b[0m (252.50 KB)\n"
            ],
            "text/html": [
              "<pre style=\"white-space:pre;overflow-x:auto;line-height:normal;font-family:Menlo,'DejaVu Sans Mono',consolas,'Courier New',monospace\"><span style=\"font-weight: bold\"> Trainable params: </span><span style=\"color: #00af00; text-decoration-color: #00af00\">64,641</span> (252.50 KB)\n",
              "</pre>\n"
            ]
          },
          "metadata": {}
        },
        {
          "output_type": "display_data",
          "data": {
            "text/plain": [
              "\u001b[1m Non-trainable params: \u001b[0m\u001b[38;5;34m640\u001b[0m (2.50 KB)\n"
            ],
            "text/html": [
              "<pre style=\"white-space:pre;overflow-x:auto;line-height:normal;font-family:Menlo,'DejaVu Sans Mono',consolas,'Courier New',monospace\"><span style=\"font-weight: bold\"> Non-trainable params: </span><span style=\"color: #00af00; text-decoration-color: #00af00\">640</span> (2.50 KB)\n",
              "</pre>\n"
            ]
          },
          "metadata": {}
        }
      ],
      "source": [
        "# --- Build gated fusion model ---\n",
        "input_cnn = Input(shape=(X_cnn.shape[1],), name='cnn_in')\n",
        "input_rnn = Input(shape=(X_rnn.shape[1],), name='rnn_in')\n",
        "\n",
        "# Modality-specific projections\n",
        "proj_cnn = Dense(128, activation='relu')(input_cnn)\n",
        "proj_cnn = BatchNormalization()(proj_cnn)\n",
        "proj_cnn = Dropout(0.3)(proj_cnn)\n",
        "\n",
        "proj_rnn = Dense(128, activation='relu')(input_rnn)\n",
        "proj_rnn = BatchNormalization()(proj_rnn)\n",
        "proj_rnn = Dropout(0.3)(proj_rnn)\n",
        "\n",
        "# Gating mechanism\n",
        "gate = Concatenate()([proj_cnn, proj_rnn])\n",
        "gate = Dense(128, activation='sigmoid', name='fusion_gate')(gate)\n",
        "\n",
        "# Elementwise fusion\n",
        "fused_cnn = Multiply()([gate, proj_cnn])\n",
        "inv_gate = Activation('linear')(1.0 - gate)\n",
        "fused_rnn = Multiply()([inv_gate, proj_rnn])\n",
        "fused = tf.keras.layers.Add()([fused_cnn, fused_rnn])\n",
        "\n",
        "# Joint MLP\n",
        "x = Dense(64, activation='relu')(fused)\n",
        "x = BatchNormalization()(x)\n",
        "x = Dropout(0.3)(x)\n",
        "x = Dense(32, activation='relu')(x)\n",
        "x = Dropout(0.3)(x)\n",
        "output = Dense(1, activation='sigmoid', name='out')(x)\n",
        "\n",
        "model = Model(inputs=[input_cnn, input_rnn], outputs=output, name='gated_fusion_model')\n",
        "model.compile(optimizer='adam', loss='binary_crossentropy', metrics=['accuracy', tf.keras.metrics.AUC(name='auc')])\n",
        "model.summary()\n"
      ],
      "id": "7MkMV_-f2Oym"
    },
    {
      "cell_type": "markdown",
      "metadata": {
        "id": "B7-qeflW2Oyn"
      },
      "source": [
        "## *Model Training*"
      ],
      "id": "B7-qeflW2Oyn"
    },
    {
      "cell_type": "code",
      "metadata": {
        "colab": {
          "base_uri": "https://localhost:8080/"
        },
        "id": "jikZUwUx2Oyn",
        "outputId": "1ac79899-5276-4e5f-9b18-791c84075cdf"
      },
      "execution_count": 5,
      "outputs": [
        {
          "output_type": "stream",
          "name": "stdout",
          "text": [
            "Epoch 1/50\n",
            "3/3 - 6s - 2s/step - accuracy: 0.5714 - auc: 0.5737 - loss: 0.7059 - val_accuracy: 0.9333 - val_auc: 1.0000 - val_loss: 0.6001\n",
            "Epoch 2/50\n",
            "3/3 - 1s - 236ms/step - accuracy: 0.7000 - auc: 0.6678 - loss: 0.6865 - val_accuracy: 1.0000 - val_auc: 1.0000 - val_loss: 0.5789\n",
            "Epoch 3/50\n",
            "3/3 - 0s - 70ms/step - accuracy: 0.5857 - auc: 0.8549 - loss: 0.6599 - val_accuracy: 1.0000 - val_auc: 1.0000 - val_loss: 0.5591\n",
            "Epoch 4/50\n",
            "3/3 - 0s - 98ms/step - accuracy: 0.7429 - auc: 0.8832 - loss: 0.4597 - val_accuracy: 1.0000 - val_auc: 1.0000 - val_loss: 0.5394\n",
            "Epoch 5/50\n",
            "3/3 - 0s - 59ms/step - accuracy: 0.7571 - auc: 0.8764 - loss: 0.4769 - val_accuracy: 1.0000 - val_auc: 1.0000 - val_loss: 0.5211\n",
            "Epoch 6/50\n",
            "3/3 - 0s - 107ms/step - accuracy: 0.8429 - auc: 0.9830 - loss: 0.3766 - val_accuracy: 1.0000 - val_auc: 1.0000 - val_loss: 0.5036\n",
            "Epoch 7/50\n",
            "3/3 - 0s - 59ms/step - accuracy: 0.9429 - auc: 1.0000 - loss: 0.2549 - val_accuracy: 1.0000 - val_auc: 1.0000 - val_loss: 0.4879\n",
            "Epoch 8/50\n",
            "3/3 - 0s - 107ms/step - accuracy: 0.8714 - auc: 0.8753 - loss: 0.3719 - val_accuracy: 1.0000 - val_auc: 1.0000 - val_loss: 0.4696\n",
            "Epoch 9/50\n",
            "3/3 - 0s - 73ms/step - accuracy: 0.8714 - auc: 0.9977 - loss: 0.2876 - val_accuracy: 1.0000 - val_auc: 1.0000 - val_loss: 0.4531\n",
            "Epoch 10/50\n",
            "3/3 - 0s - 74ms/step - accuracy: 0.9429 - auc: 0.9977 - loss: 0.2143 - val_accuracy: 1.0000 - val_auc: 1.0000 - val_loss: 0.4372\n",
            "Epoch 11/50\n",
            "3/3 - 0s - 85ms/step - accuracy: 0.9286 - auc: 0.9909 - loss: 0.2185 - val_accuracy: 1.0000 - val_auc: 1.0000 - val_loss: 0.4215\n",
            "Epoch 12/50\n",
            "3/3 - 0s - 42ms/step - accuracy: 0.9571 - auc: 0.9841 - loss: 0.2778 - val_accuracy: 1.0000 - val_auc: 1.0000 - val_loss: 0.4057\n",
            "Epoch 13/50\n",
            "3/3 - 0s - 48ms/step - accuracy: 0.9429 - auc: 1.0000 - loss: 0.1994 - val_accuracy: 1.0000 - val_auc: 1.0000 - val_loss: 0.3894\n",
            "Epoch 14/50\n",
            "3/3 - 0s - 48ms/step - accuracy: 0.9429 - auc: 0.9864 - loss: 0.2236 - val_accuracy: 1.0000 - val_auc: 1.0000 - val_loss: 0.3712\n",
            "Epoch 15/50\n",
            "3/3 - 0s - 43ms/step - accuracy: 0.9714 - auc: 1.0000 - loss: 0.1699 - val_accuracy: 1.0000 - val_auc: 1.0000 - val_loss: 0.3562\n",
            "Epoch 16/50\n",
            "3/3 - 0s - 43ms/step - accuracy: 1.0000 - auc: 1.0000 - loss: 0.1423 - val_accuracy: 1.0000 - val_auc: 1.0000 - val_loss: 0.3432\n",
            "Epoch 17/50\n",
            "3/3 - 0s - 42ms/step - accuracy: 0.9857 - auc: 1.0000 - loss: 0.1425 - val_accuracy: 1.0000 - val_auc: 1.0000 - val_loss: 0.3305\n",
            "Epoch 18/50\n",
            "3/3 - 0s - 43ms/step - accuracy: 0.9714 - auc: 0.9977 - loss: 0.1479 - val_accuracy: 1.0000 - val_auc: 1.0000 - val_loss: 0.3176\n",
            "Epoch 19/50\n",
            "3/3 - 0s - 56ms/step - accuracy: 1.0000 - auc: 1.0000 - loss: 0.1052 - val_accuracy: 1.0000 - val_auc: 1.0000 - val_loss: 0.3041\n",
            "Epoch 20/50\n",
            "3/3 - 0s - 46ms/step - accuracy: 0.9714 - auc: 1.0000 - loss: 0.1290 - val_accuracy: 1.0000 - val_auc: 1.0000 - val_loss: 0.2893\n",
            "Epoch 21/50\n",
            "3/3 - 0s - 46ms/step - accuracy: 0.9714 - auc: 1.0000 - loss: 0.1251 - val_accuracy: 1.0000 - val_auc: 1.0000 - val_loss: 0.2752\n",
            "Epoch 22/50\n",
            "3/3 - 0s - 37ms/step - accuracy: 0.9714 - auc: 1.0000 - loss: 0.1180 - val_accuracy: 1.0000 - val_auc: 1.0000 - val_loss: 0.2590\n",
            "Epoch 23/50\n",
            "3/3 - 0s - 45ms/step - accuracy: 0.9857 - auc: 1.0000 - loss: 0.0998 - val_accuracy: 1.0000 - val_auc: 1.0000 - val_loss: 0.2456\n",
            "Epoch 24/50\n",
            "3/3 - 0s - 37ms/step - accuracy: 0.9857 - auc: 1.0000 - loss: 0.1136 - val_accuracy: 1.0000 - val_auc: 1.0000 - val_loss: 0.2332\n",
            "Epoch 25/50\n",
            "3/3 - 0s - 57ms/step - accuracy: 0.9714 - auc: 0.9955 - loss: 0.1077 - val_accuracy: 1.0000 - val_auc: 1.0000 - val_loss: 0.2213\n",
            "Epoch 26/50\n",
            "3/3 - 0s - 38ms/step - accuracy: 1.0000 - auc: 1.0000 - loss: 0.0896 - val_accuracy: 1.0000 - val_auc: 1.0000 - val_loss: 0.2097\n",
            "Epoch 27/50\n",
            "3/3 - 0s - 39ms/step - accuracy: 1.0000 - auc: 1.0000 - loss: 0.0613 - val_accuracy: 1.0000 - val_auc: 1.0000 - val_loss: 0.2018\n",
            "Epoch 28/50\n",
            "3/3 - 0s - 37ms/step - accuracy: 0.9571 - auc: 1.0000 - loss: 0.1352 - val_accuracy: 1.0000 - val_auc: 1.0000 - val_loss: 0.1931\n",
            "Epoch 29/50\n",
            "3/3 - 0s - 43ms/step - accuracy: 1.0000 - auc: 1.0000 - loss: 0.0619 - val_accuracy: 1.0000 - val_auc: 1.0000 - val_loss: 0.1851\n",
            "Epoch 30/50\n",
            "3/3 - 0s - 43ms/step - accuracy: 1.0000 - auc: 1.0000 - loss: 0.0725 - val_accuracy: 1.0000 - val_auc: 1.0000 - val_loss: 0.1772\n",
            "Epoch 31/50\n",
            "3/3 - 0s - 38ms/step - accuracy: 1.0000 - auc: 1.0000 - loss: 0.0863 - val_accuracy: 1.0000 - val_auc: 1.0000 - val_loss: 0.1688\n",
            "Epoch 32/50\n",
            "3/3 - 0s - 39ms/step - accuracy: 0.9857 - auc: 1.0000 - loss: 0.0798 - val_accuracy: 1.0000 - val_auc: 1.0000 - val_loss: 0.1603\n",
            "Epoch 33/50\n",
            "3/3 - 0s - 45ms/step - accuracy: 0.9857 - auc: 1.0000 - loss: 0.0919 - val_accuracy: 1.0000 - val_auc: 1.0000 - val_loss: 0.1517\n",
            "Epoch 34/50\n",
            "3/3 - 0s - 44ms/step - accuracy: 1.0000 - auc: 1.0000 - loss: 0.0720 - val_accuracy: 1.0000 - val_auc: 1.0000 - val_loss: 0.1413\n",
            "Epoch 35/50\n",
            "3/3 - 0s - 46ms/step - accuracy: 0.9714 - auc: 0.9955 - loss: 0.0808 - val_accuracy: 1.0000 - val_auc: 1.0000 - val_loss: 0.1320\n",
            "Epoch 36/50\n",
            "3/3 - 0s - 52ms/step - accuracy: 0.9857 - auc: 1.0000 - loss: 0.0655 - val_accuracy: 1.0000 - val_auc: 1.0000 - val_loss: 0.1235\n",
            "Epoch 37/50\n",
            "3/3 - 0s - 39ms/step - accuracy: 0.9857 - auc: 1.0000 - loss: 0.0727 - val_accuracy: 1.0000 - val_auc: 1.0000 - val_loss: 0.1144\n",
            "Epoch 38/50\n",
            "3/3 - 0s - 44ms/step - accuracy: 1.0000 - auc: 1.0000 - loss: 0.0457 - val_accuracy: 1.0000 - val_auc: 1.0000 - val_loss: 0.1048\n",
            "Epoch 39/50\n",
            "3/3 - 0s - 47ms/step - accuracy: 1.0000 - auc: 1.0000 - loss: 0.0381 - val_accuracy: 1.0000 - val_auc: 1.0000 - val_loss: 0.0962\n",
            "Epoch 40/50\n",
            "3/3 - 0s - 41ms/step - accuracy: 1.0000 - auc: 1.0000 - loss: 0.0540 - val_accuracy: 1.0000 - val_auc: 1.0000 - val_loss: 0.0882\n",
            "Epoch 41/50\n",
            "3/3 - 0s - 38ms/step - accuracy: 1.0000 - auc: 1.0000 - loss: 0.0624 - val_accuracy: 1.0000 - val_auc: 1.0000 - val_loss: 0.0803\n",
            "Epoch 42/50\n",
            "3/3 - 0s - 38ms/step - accuracy: 1.0000 - auc: 1.0000 - loss: 0.0284 - val_accuracy: 1.0000 - val_auc: 1.0000 - val_loss: 0.0747\n",
            "Epoch 43/50\n",
            "3/3 - 0s - 44ms/step - accuracy: 0.9714 - auc: 0.9977 - loss: 0.0833 - val_accuracy: 1.0000 - val_auc: 1.0000 - val_loss: 0.0691\n",
            "Epoch 44/50\n",
            "3/3 - 0s - 45ms/step - accuracy: 0.9857 - auc: 1.0000 - loss: 0.0540 - val_accuracy: 1.0000 - val_auc: 1.0000 - val_loss: 0.0639\n",
            "Epoch 45/50\n",
            "3/3 - 0s - 36ms/step - accuracy: 1.0000 - auc: 1.0000 - loss: 0.0411 - val_accuracy: 1.0000 - val_auc: 1.0000 - val_loss: 0.0600\n",
            "Epoch 46/50\n",
            "3/3 - 0s - 37ms/step - accuracy: 1.0000 - auc: 1.0000 - loss: 0.0371 - val_accuracy: 1.0000 - val_auc: 1.0000 - val_loss: 0.0559\n",
            "Epoch 47/50\n",
            "3/3 - 0s - 46ms/step - accuracy: 1.0000 - auc: 1.0000 - loss: 0.0412 - val_accuracy: 1.0000 - val_auc: 1.0000 - val_loss: 0.0523\n",
            "Epoch 48/50\n",
            "3/3 - 0s - 44ms/step - accuracy: 0.9857 - auc: 1.0000 - loss: 0.0396 - val_accuracy: 1.0000 - val_auc: 1.0000 - val_loss: 0.0489\n",
            "Epoch 49/50\n",
            "3/3 - 0s - 45ms/step - accuracy: 1.0000 - auc: 1.0000 - loss: 0.0350 - val_accuracy: 1.0000 - val_auc: 1.0000 - val_loss: 0.0464\n",
            "Epoch 50/50\n",
            "3/3 - 0s - 45ms/step - accuracy: 1.0000 - auc: 1.0000 - loss: 0.0320 - val_accuracy: 1.0000 - val_auc: 1.0000 - val_loss: 0.0435\n"
          ]
        }
      ],
      "source": [
        "# --- Training ---\n",
        "history = model.fit(\n",
        "    {'cnn_in': Xc_train, 'rnn_in': Xr_train},\n",
        "    y_train,\n",
        "    validation_data=({'cnn_in': Xc_val, 'rnn_in': Xr_val}, y_val),\n",
        "    epochs=50, batch_size=32, verbose=2\n",
        ")\n"
      ],
      "id": "jikZUwUx2Oyn"
    },
    {
      "cell_type": "markdown",
      "metadata": {
        "id": "EDsLSUdl2Oyn"
      },
      "source": [
        "## *Model Evaluation*"
      ],
      "id": "EDsLSUdl2Oyn"
    },
    {
      "cell_type": "code",
      "metadata": {
        "colab": {
          "base_uri": "https://localhost:8080/"
        },
        "id": "XRYZyn-H2Oyn",
        "outputId": "2ed81fab-edc9-42ea-a10f-169b05b5d0a0"
      },
      "execution_count": 6,
      "outputs": [
        {
          "output_type": "stream",
          "name": "stdout",
          "text": [
            "\u001b[1m1/1\u001b[0m \u001b[32m━━━━━━━━━━━━━━━━━━━━\u001b[0m\u001b[37m\u001b[0m \u001b[1m0s\u001b[0m 171ms/step\n",
            "Confusion matrix on test set:\n",
            "[[14  0]\n",
            " [ 0  1]]\n",
            "              precision    recall  f1-score   support\n",
            "\n",
            "         0.0       1.00      1.00      1.00        14\n",
            "         1.0       1.00      1.00      1.00         1\n",
            "\n",
            "    accuracy                           1.00        15\n",
            "   macro avg       1.00      1.00      1.00        15\n",
            "weighted avg       1.00      1.00      1.00        15\n",
            "\n",
            "Test ROC AUC: 1.0\n",
            "\u001b[1m1/1\u001b[0m \u001b[32m━━━━━━━━━━━━━━━━━━━━\u001b[0m\u001b[37m\u001b[0m \u001b[1m0s\u001b[0m 164ms/step\n",
            "\u001b[1m1/1\u001b[0m \u001b[32m━━━━━━━━━━━━━━━━━━━━\u001b[0m\u001b[37m\u001b[0m \u001b[1m0s\u001b[0m 167ms/step\n",
            "\u001b[1m1/1\u001b[0m \u001b[32m━━━━━━━━━━━━━━━━━━━━\u001b[0m\u001b[37m\u001b[0m \u001b[1m0s\u001b[0m 154ms/step\n"
          ]
        },
        {
          "output_type": "stream",
          "name": "stderr",
          "text": [
            "WARNING:tensorflow:5 out of the last 5 calls to <function TensorFlowTrainer.make_predict_function.<locals>.one_step_on_data_distributed at 0x7a0dd70804a0> triggered tf.function retracing. Tracing is expensive and the excessive number of tracings could be due to (1) creating @tf.function repeatedly in a loop, (2) passing tensors with different shapes, (3) passing Python objects instead of tensors. For (1), please define your @tf.function outside of the loop. For (2), @tf.function has reduce_retracing=True option that can avoid unnecessary retracing. For (3), please refer to https://www.tensorflow.org/guide/function#controlling_retracing and https://www.tensorflow.org/api_docs/python/tf/function for  more details.\n"
          ]
        },
        {
          "output_type": "stream",
          "name": "stdout",
          "text": [
            "\u001b[1m1/1\u001b[0m \u001b[32m━━━━━━━━━━━━━━━━━━━━\u001b[0m\u001b[37m\u001b[0m \u001b[1m0s\u001b[0m 168ms/step\n"
          ]
        },
        {
          "output_type": "stream",
          "name": "stderr",
          "text": [
            "WARNING:tensorflow:6 out of the last 6 calls to <function TensorFlowTrainer.make_predict_function.<locals>.one_step_on_data_distributed at 0x7a0dd5abef20> triggered tf.function retracing. Tracing is expensive and the excessive number of tracings could be due to (1) creating @tf.function repeatedly in a loop, (2) passing tensors with different shapes, (3) passing Python objects instead of tensors. For (1), please define your @tf.function outside of the loop. For (2), @tf.function has reduce_retracing=True option that can avoid unnecessary retracing. For (3), please refer to https://www.tensorflow.org/guide/function#controlling_retracing and https://www.tensorflow.org/api_docs/python/tf/function for  more details.\n"
          ]
        },
        {
          "output_type": "stream",
          "name": "stdout",
          "text": [
            "\u001b[1m1/1\u001b[0m \u001b[32m━━━━━━━━━━━━━━━━━━━━\u001b[0m\u001b[37m\u001b[0m \u001b[1m0s\u001b[0m 163ms/step\n",
            "Stratified K-Fold mean ROC AUC: 1.0\n"
          ]
        }
      ],
      "source": [
        "# --- Evaluation on Test Set ---\n",
        "y_test_prob = model.predict({'cnn_in': Xc_test, 'rnn_in': Xr_test}).ravel()\n",
        "y_test_pred = (y_test_prob >= 0.5).astype(int)\n",
        "print('Confusion matrix on test set:')\n",
        "print(confusion_matrix(y_test, y_test_pred))\n",
        "print(classification_report(y_test, y_test_pred))\n",
        "print('Test ROC AUC:', roc_auc_score(y_test, y_test_prob))\n",
        "\n",
        "# --- Stratified K-Fold Cross-Validation ---\n",
        "skf = StratifiedKFold(n_splits=5, shuffle=True, random_state=42)\n",
        "auc_scores = []\n",
        "for train_idx, test_idx in skf.split(X_cnn, y):\n",
        "    Xc_tr, Xc_te = X_cnn[train_idx], X_cnn[test_idx]\n",
        "    Xr_tr, Xr_te = X_rnn[train_idx], X_rnn[test_idx]\n",
        "    y_tr, y_te = y[train_idx], y[test_idx]\n",
        "    # Reinitialize model for each fold\n",
        "    m = tf.keras.models.clone_model(model)\n",
        "    m.compile(optimizer='adam', loss='binary_crossentropy')\n",
        "    m.fit(\n",
        "        {'cnn_in': Xc_tr, 'rnn_in': Xr_tr},\n",
        "        y_tr,\n",
        "        epochs=30, batch_size=32, verbose=0\n",
        "    )\n",
        "    prob = m.predict({'cnn_in': Xc_te, 'rnn_in': Xr_te}).ravel()\n",
        "    auc_scores.append(roc_auc_score(y_te, prob))\n",
        "print('Stratified K-Fold mean ROC AUC:', np.mean(auc_scores))\n"
      ],
      "id": "XRYZyn-H2Oyn"
    }
  ],
  "metadata": {
    "kernelspec": {
      "display_name": "Python 3",
      "language": "python",
      "name": "python3"
    },
    "language_info": {
      "name": "python",
      "version": ""
    },
    "colab": {
      "provenance": [],
      "include_colab_link": true
    }
  },
  "nbformat": 4,
  "nbformat_minor": 5
}