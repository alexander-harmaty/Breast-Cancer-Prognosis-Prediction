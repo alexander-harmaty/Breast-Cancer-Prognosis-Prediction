{
  "nbformat": 4,
  "nbformat_minor": 0,
  "metadata": {
    "colab": {
      "provenance": [],
      "gpuType": "T4",
      "include_colab_link": true
    },
    "kernelspec": {
      "name": "python3",
      "display_name": "Python 3"
    },
    "language_info": {
      "name": "python"
    },
    "accelerator": "GPU"
  },
  "cells": [
    {
      "cell_type": "markdown",
      "metadata": {
        "id": "view-in-github",
        "colab_type": "text"
      },
      "source": [
        "<a href=\"https://colab.research.google.com/github/aoloo-r/Breast-Cancer-Prognosis-Prediction/blob/main/Clinical_Data_RNN.ipynb\" target=\"_parent\"><img src=\"https://colab.research.google.com/assets/colab-badge.svg\" alt=\"Open In Colab\"/></a>"
      ]
    },
    {
      "cell_type": "markdown",
      "source": [
        "# Environment Setup"
      ],
      "metadata": {
        "id": "X4jWesX_BBkN"
      }
    },
    {
      "cell_type": "code",
      "execution_count": 1,
      "metadata": {
        "colab": {
          "base_uri": "https://localhost:8080/"
        },
        "id": "jxaoLrIWTcu4",
        "outputId": "fd722123-b542-4dd6-fcdb-6d9ba2d5242b"
      },
      "outputs": [
        {
          "output_type": "stream",
          "name": "stdout",
          "text": [
            "Drive already mounted at /content/drive; to attempt to forcibly remount, call drive.mount(\"/content/drive\", force_remount=True).\n",
            "/content/drive/MyDrive\n"
          ]
        }
      ],
      "source": [
        "import torch\n",
        "import re\n",
        "import torch.nn as nn\n",
        "import torch.optim as optim\n",
        "import tensorflow as tf\n",
        "from tensorflow import keras\n",
        "import numpy as np\n",
        "import pandas as pd\n",
        "import matplotlib.pyplot as plt\n",
        "from sklearn.preprocessing import LabelEncoder, StandardScaler\n",
        "from sklearn.impute import SimpleImputer\n",
        "from sklearn.model_selection import train_test_split\n",
        "from tensorflow.keras.models import Sequential\n",
        "from tensorflow.keras.layers import SimpleRNN, LSTM, GRU, Dense, Dropout\n",
        "from tensorflow.keras.optimizers import Adam\n",
        "from sklearn.metrics import classification_report, confusion_matrix, roc_curve, auc\n",
        "from tensorflow.keras.layers import Concatenate, BatchNormalization, Input, Bidirectional\n",
        "from tensorflow.keras.callbacks import EarlyStopping, ModelCheckpoint, ReduceLROnPlateau\n",
        "from tensorflow.keras.regularizers import l1_l2\n",
        "from tensorflow.keras.models import Sequential, Model\n",
        "from sklearn.metrics import classification_report, confusion_matrix, roc_curve, auc, precision_recall_curve\n",
        "\n",
        "# Mount dataset folder from Google Drive to environment\n",
        "from google.colab import drive\n",
        "drive.mount('/content/drive')\n",
        "%cd /content/drive/MyDrive/"
      ]
    },
    {
      "cell_type": "markdown",
      "source": [
        "# Data Preprocessing\n",
        "**data encoding is currently incomplete**"
      ],
      "metadata": {
        "id": "orrqr5RtBTS8"
      }
    },
    {
      "cell_type": "code",
      "source": [
        "def encode_clinical_data(df):\n",
        "    \"\"\"\n",
        "    Encodes clinical data with the understanding that real data starts at row 4.\n",
        "    Rows 1-3 contain header/metadata information.\n",
        "\n",
        "    Parameters:\n",
        "    -----------\n",
        "    df : pandas.DataFrame\n",
        "        The clinical dataframe to encode\n",
        "\n",
        "    Returns:\n",
        "    --------\n",
        "    pandas.DataFrame\n",
        "        The encoded dataframe with all columns properly processed\n",
        "    \"\"\"\n",
        "    # Create a copy to avoid modifying the original\n",
        "    encoded_df = df.copy()\n",
        "\n",
        "    # First, check if we need to handle the header rows\n",
        "    # If the dataframe has already been loaded with headers processed\n",
        "    # (i.e., headers are in column names), we don't need this step\n",
        "    if encoded_df.shape[0] >= 4:\n",
        "        print(\"Checking if data starts at row 4...\")\n",
        "        # Sample some values to see if first 3 rows appear to be headers\n",
        "        sample_col = encoded_df.columns[0]\n",
        "        first_rows = encoded_df.loc[0:3, sample_col].tolist()\n",
        "        print(f\"First rows of sample column: {first_rows}\")\n",
        "\n",
        "        # If first rows look like headers, remove them\n",
        "        if any(isinstance(val, str) and '=' in str(val) for val in first_rows):\n",
        "            print(\"First rows appear to contain metadata. Removing rows 0-3...\")\n",
        "            encoded_df = encoded_df.iloc[3:].reset_index(drop=True)\n",
        "            print(f\"Dataframe shape after removing header rows: {encoded_df.shape}\")\n",
        "\n",
        "    # Identify the target column\n",
        "    target_col = None\n",
        "    for col in encoded_df.columns:\n",
        "        if \"Recurrence event\" in col:\n",
        "            target_col = col\n",
        "            target_values = encoded_df[target_col].copy()\n",
        "            print(f\"Identified target column: {target_col}\")\n",
        "            break\n",
        "\n",
        "    # Process each column individually\n",
        "    all_columns = encoded_df.columns.tolist()\n",
        "    print(f\"Processing {len(all_columns)} total columns\")\n",
        "\n",
        "    for col in all_columns:\n",
        "        # Skip target column for now\n",
        "        if col == target_col:\n",
        "            continue\n",
        "\n",
        "        print(f\"Processing column: {col}\")\n",
        "\n",
        "        try:\n",
        "            # Check column data type\n",
        "            if encoded_df[col].dtype == 'object':\n",
        "                # Categorical column\n",
        "                print(f\"  Processing as categorical\")\n",
        "\n",
        "                # Fill missing values\n",
        "                encoded_df[col] = encoded_df[col].fillna(\"MISSING\")\n",
        "\n",
        "                # Convert to string\n",
        "                encoded_df[col] = encoded_df[col].astype(str)\n",
        "\n",
        "                # Apply label encoding\n",
        "                le = LabelEncoder()\n",
        "                encoded_df[col] = le.fit_transform(encoded_df[col])\n",
        "                print(f\"  Encoded {len(le.classes_)} unique values\")\n",
        "\n",
        "            else:\n",
        "                # Numeric column\n",
        "                print(f\"  Processing as numeric\")\n",
        "\n",
        "                # Handle missing values\n",
        "                if encoded_df[col].isna().any():\n",
        "                    if encoded_df[col].isna().all():\n",
        "                        encoded_df[col] = 0\n",
        "                        print(f\"  All values missing, filled with 0\")\n",
        "                    else:\n",
        "                        median = encoded_df[col].median()\n",
        "                        encoded_df[col] = encoded_df[col].fillna(median)\n",
        "                        print(f\"  Filled missing values with median: {median}\")\n",
        "\n",
        "                # Standardize if there's variance\n",
        "                if encoded_df[col].std() > 0:\n",
        "                    mean_val = encoded_df[col].mean()\n",
        "                    std_val = encoded_df[col].std()\n",
        "                    encoded_df[col] = (encoded_df[col] - mean_val) / std_val\n",
        "                    print(f\"  Standardized numeric column\")\n",
        "\n",
        "        except Exception as e:\n",
        "            print(f\"Error processing column {col}: {str(e)}\")\n",
        "\n",
        "            # Try alternative approach\n",
        "            try:\n",
        "                print(f\"  Trying alternative encoding approach\")\n",
        "\n",
        "                # Force to string and encode\n",
        "                encoded_df[col] = encoded_df[col].fillna(\"MISSING\")\n",
        "                encoded_df[col] = encoded_df[col].astype(str)\n",
        "                le = LabelEncoder()\n",
        "                encoded_df[col] = le.fit_transform(encoded_df[col])\n",
        "                print(f\"  Alternative encoding successful\")\n",
        "\n",
        "            except Exception as e2:\n",
        "                print(f\"  Alternative approach failed: {str(e2)}\")\n",
        "                print(f\"  Setting column to 0\")\n",
        "                encoded_df[col] = 0\n",
        "\n",
        "    # Restore target column\n",
        "    if target_col and 'target_values' in locals():\n",
        "        encoded_df[target_col] = target_values\n",
        "        print(f\"Restored target column: {target_col}\")\n",
        "\n",
        "    # Final check for any NaN values\n",
        "    if encoded_df.isna().any().any():\n",
        "        nan_cols = encoded_df.columns[encoded_df.isna().any()].tolist()\n",
        "        print(f\"Filling NaN values in {len(nan_cols)} columns\")\n",
        "        encoded_df = encoded_df.fillna(0)\n",
        "\n",
        "    print(f\"Final encoded dataframe shape: {encoded_df.shape}\")\n",
        "    return encoded_df"
      ],
      "metadata": {
        "id": "7BiYt8Pt4ubu"
      },
      "execution_count": 2,
      "outputs": []
    },
    {
      "cell_type": "code",
      "source": [
        "# Load the data\n",
        "file_path = 'Clinical_and_Other_Features.xlsx'\n",
        "clinical_df = pd.read_excel(file_path, header=[1, 2])\n",
        "\n",
        "# Function to merge multi-index headers to single index headers\n",
        "def merge_headers(col_tuple):\n",
        "    # Unpack the tuple: first-level and second-level names\n",
        "    first, second = col_tuple\n",
        "\n",
        "    # If newline characters exist, remove and replace with space\n",
        "    if isinstance(first, str):\n",
        "        first = first.replace('\\n', ' ').strip()\n",
        "    if isinstance(second, str):\n",
        "        second = second.replace('\\n', ' ').strip()\n",
        "\n",
        "    # If blank second-headers exist, return first-header only\n",
        "    if not second or 'Unnamed' in second:\n",
        "        return first\n",
        "    # Otherwise, return merged header\n",
        "    else:\n",
        "        return f\"{first} - {second}\"\n",
        "\n",
        "# Preprocess the column headers\n",
        "# Merge multi-index headers for all columns\n",
        "new_columns = [merge_headers(col) for col in clinical_df.columns]\n",
        "clinical_df.columns = new_columns\n",
        "\n",
        "# Print column info\n",
        "print(f\"Total columns: {len(clinical_df.columns)}\")\n",
        "print(f\"Sample size: {len(clinical_df)}\")"
      ],
      "metadata": {
        "colab": {
          "base_uri": "https://localhost:8080/"
        },
        "id": "PMAI1NtwbQYa",
        "outputId": "20505676-5528-436f-b16f-131551f5de99"
      },
      "execution_count": 3,
      "outputs": [
        {
          "output_type": "stream",
          "name": "stdout",
          "text": [
            "Total columns: 98\n",
            "Sample size: 922\n"
          ]
        }
      ]
    },
    {
      "cell_type": "code",
      "source": [
        "# target variable\n",
        "target_col = \"Recurrence event(s) - {0 = no, 1 = yes}\"\n",
        "if target_col not in clinical_df.columns:\n",
        "    # Find the correct column name by looking for a substring match\n",
        "    matching_cols = [col for col in clinical_df.columns if \"Recurrence event\" in col]\n",
        "    if matching_cols:\n",
        "        target_col = matching_cols[0]\n",
        "        print(f\"Found target column: {target_col}\")\n",
        "    else:\n",
        "        raise ValueError(\"Target column not found! Please check the column names.\")\n",
        "\n",
        "# Encode the data\n",
        "encoded_df = encode_clinical_data(clinical_df)\n",
        "print(f\"Encoded data shape: {encoded_df.shape}\")\n"
      ],
      "metadata": {
        "colab": {
          "base_uri": "https://localhost:8080/"
        },
        "collapsed": true,
        "id": "IQC5qbxJNonu",
        "outputId": "fbf78c68-27f0-4887-fb91-8b4ba56635a9"
      },
      "execution_count": 4,
      "outputs": [
        {
          "output_type": "stream",
          "name": "stdout",
          "text": [
            "Checking if data starts at row 4...\n",
            "First rows of sample column: ['Breast_MRI_001', 'Breast_MRI_002', 'Breast_MRI_003', 'Breast_MRI_004']\n",
            "Identified target column: Recurrence event(s) - {0 = no, 1 = yes}\n",
            "Processing 98 total columns\n",
            "Processing column: Patient ID\n",
            "  Processing as categorical\n",
            "  Encoded 922 unique values\n",
            "Processing column: Days to MRI (From the Date of Diagnosis)\n",
            "  Processing as numeric\n",
            "  Standardized numeric column\n",
            "Processing column: Manufacturer - GE MEDICAL SYSTEMS=0, MPTronic software=1, SIEMENS=2\n",
            "  Processing as numeric\n",
            "  Standardized numeric column\n",
            "Processing column: Manufacturer Model Name - Avanto=0, Optima MR450w=1, SIGNA EXCITE=2, SIGNA HDx=3, Signa HDxt=4, Skyra=5, Trio=6, TrioTim=7\n",
            "  Processing as numeric\n",
            "  Standardized numeric column\n",
            "Processing column: Scan Options - FAST_GEMS\\SAT_GEMS\\ACC_GEMS\\PFP\\FS=0,FAST_GEMS\\SAT_GEMS\\MP_GEMS\\ACC_GEMS\\PFP\\FS=1,FAST_GEMS\\SAT_GEMS\\MP_GEMS\\PFP\\FS=2,FAST_GEMS\\SAT_GEMS\\PFP\\FS=3,FS=4,PFP\\FS=5,PFP\\SFS=6,SAT_GEMS\\PFP\\FS=7,SFS=8\n",
            "  Processing as numeric\n",
            "  Standardized numeric column\n",
            "Processing column: Field Strength (Tesla) - 1.494=0,1.5=1,2.8936=2,3=3\n",
            "  Processing as numeric\n",
            "  Standardized numeric column\n",
            "Processing column: Patient Position During MRI - FFP=0,HFP=1\n",
            "  Processing as numeric\n",
            "  Standardized numeric column\n",
            "Processing column: Image Position of Patient\n",
            "  Processing as categorical\n",
            "  Encoded 921 unique values\n",
            "Processing column: Contrast Agent - GADAVIST=0,MAGNEVIST=1,MMAGNEVIST=2,MULTIHANCE=3,Name of agent not stated(but ContrastBolusAgent tag was present)=4, ContrastBolusAgent Tag Absent = 5\n",
            "  Processing as numeric\n",
            "  Filled missing values with median: 1.0\n",
            "  Standardized numeric column\n",
            "Processing column: Contrast Bolus Volume (mL) - 6=0,7=1,8=2,9=3,10=4,11=5,11.88=6,12=7,13=8,13.6=9,14=10,14.5=11,15=12,16=13,17=14,18=15,19=16,20=17,25=18\n",
            "  Processing as numeric\n",
            "  Filled missing values with median: 12.0\n",
            "  Standardized numeric column\n",
            "Processing column: TR (Repetition Time)\n",
            "  Processing as numeric\n",
            "  Standardized numeric column\n",
            "Processing column: TE (Echo Time)\n",
            "  Processing as numeric\n",
            "  Standardized numeric column\n",
            "Processing column: Acquisition Matrix - 320 X 320=0,340 X 340=1,350 X 350=2,360 X 360=3,384 X 360=4,384 X 384=5,448 X 251=6,448 X 381=7,448 X 430=8,448 X 448=9,512 X 358=10\n",
            "  Processing as numeric\n",
            "  Standardized numeric column\n",
            "Processing column: Slice Thickness - 0.9=0,0.95=1,1=2,1.04=3,1.06=4,1.1=5,1.12=6,1.15=7,1.2=8,1.23=9,1.24=10,1.25=11,1.3=12,1.4=13,1.45=14,1.5=15,1.6=16,1.8=17,2=18,2.2=19,2.5=20\n",
            "  Processing as numeric\n",
            "  Standardized numeric column\n",
            "Processing column: Rows - 320=0,448=1,512=2\n",
            "  Processing as numeric\n",
            "  Standardized numeric column\n",
            "Processing column: Columns - 320=0,448=1,512=2\n",
            "  Processing as numeric\n",
            "  Standardized numeric column\n",
            "Processing column: Reconstruction Diameter - 260=0,270=1,280=2,290=3,300=4,305=5,310=6,320=7,330=8,340=9,350=10,360=11,370=12,380=13,390=14,400=15,410=16,420=17,430=18,480=19\n",
            "  Processing as numeric\n",
            "  Filled missing values with median: 10.0\n",
            "  Standardized numeric column\n",
            "Processing column: Flip Angle - 7=0,8=1,10=2,12=3\n",
            "  Processing as numeric\n",
            "  Standardized numeric column\n",
            "Processing column: FOV Computed (Field of View) in cm - 250=0,260=1,270=2,280=3,290=4,300=5,303=6,305=7,310=8,320=9,330=10,340=11,345=12,346=13,350=14,360=15,365=16,370=17,375=18,380=19,390=20,400=21,410=22,420=23,430=24,440=25,480=26\n",
            "  Processing as numeric\n",
            "  Standardized numeric column\n",
            "Processing column: Date of Birth (Days) - (Taking date of diagnosis as day 0) [Functional Check : numeric entries will be negative only, non-numeric ones will be NA or NC ]\n",
            "  Processing as numeric\n",
            "  Standardized numeric column\n",
            "Processing column: Menopause (at diagnosis) - {0 = pre, 1 = post, 2 = N/A}\n",
            "  Processing as numeric\n",
            "  Standardized numeric column\n",
            "Processing column: Race and Ethnicity - {0 = N/A 1 = white, 2 = black, 3 = asian, 4 = native, 5 = hispanic, 6 = multi, 7 = hawa,    8 = amer indian}\n",
            "  Processing as numeric\n",
            "  Standardized numeric column\n",
            "Processing column: Metastatic at Presentation (Outside of Lymph Nodes) - {0 = no 1 = yes}\n",
            "  Processing as numeric\n",
            "  Standardized numeric column\n",
            "Processing column: ER - {0 = neg, 1 = pos}\n",
            "  Processing as numeric\n",
            "  Standardized numeric column\n",
            "Processing column: PR - {0 = neg, 1 = pos}\n",
            "  Processing as numeric\n",
            "  Standardized numeric column\n",
            "Processing column: HER2 - {0 = neg, 1 = pos, 2 = borderline}\n",
            "  Processing as numeric\n",
            "  Standardized numeric column\n",
            "Processing column: Mol Subtype - {0 = luminal-like, 1 = ER/PR pos, HER2 pos, 2 = her2, 3 = trip neg}\n",
            "  Processing as numeric\n",
            "  Standardized numeric column\n",
            "Processing column: Oncotype score\n",
            "  Processing as numeric\n",
            "  Filled missing values with median: 16.0\n",
            "  Standardized numeric column\n",
            "Processing column: Staging(Tumor Size)# [T]\n",
            "  Processing as numeric\n",
            "  Filled missing values with median: 2.0\n",
            "  Standardized numeric column\n",
            "Processing column: Staging(Nodes)#(Nx replaced by -1)[N]\n",
            "  Processing as numeric\n",
            "  Filled missing values with median: 0.0\n",
            "  Standardized numeric column\n",
            "Processing column: Staging(Metastasis)#(Mx -replaced by -1)[M]\n",
            "  Processing as numeric\n",
            "  Standardized numeric column\n",
            "Processing column: Tumor Grade - Tumor Grade(T) (Tubule)\n",
            "  Processing as numeric\n",
            "  Filled missing values with median: 3.0\n",
            "  Standardized numeric column\n",
            "Processing column: Tumor Grade - Tumor Grade(N) (Nuclear)\n",
            "  Processing as numeric\n",
            "  Filled missing values with median: 3.0\n",
            "  Standardized numeric column\n",
            "Processing column: Tumor Grade - Tumor Grade(M) (Mitotic)\n",
            "  Processing as numeric\n",
            "  Filled missing values with median: 1.0\n",
            "  Standardized numeric column\n",
            "Processing column: Nottingham grade - 1=low 2=intermediate 3=high\n",
            "  Processing as numeric\n",
            "  Filled missing values with median: 2.0\n",
            "  Standardized numeric column\n",
            "Processing column: Histologic type - 0=DCIS 1=ductal 2=lobular 3=metaplastic 4=LCIS 5=tubular 6=mixed 7=micropapillary 8=colloid 9=mucinous 10=medullary\n",
            "  Processing as numeric\n",
            "  Filled missing values with median: 1.0\n",
            "  Standardized numeric column\n",
            "Processing column: Tumor Location - Side of cancer L=left R=right\n",
            "  Processing as categorical\n",
            "  Encoded 3 unique values\n",
            "Processing column: Position - Position (every bx positive for invasive cancer)(used during annotation)\n",
            "  Processing as categorical\n",
            "  Encoded 261 unique values\n",
            "Processing column: Bilateral Information - Bilateral breast cancer? { 0=no 1=yes}\n",
            "  Processing as categorical\n",
            "  Encoded 3 unique values\n",
            "Processing column: Bilateral Information - If Bilateral, Different Rec Status {0=no 1=yes}\n",
            "  Processing as categorical\n",
            "  Encoded 4 unique values\n",
            "Processing column: Bilateral Information - Side Annotated {L=left R=right}\n",
            "  Processing as categorical\n",
            "  Encoded 4 unique values\n",
            "Processing column: For Other Side If Bilateral - Side of cancer (for the other side) {L=left, R=right}\n",
            "  Processing as categorical\n",
            "  Encoded 4 unique values\n",
            "Processing column: For Other Side If Bilateral - Oncotype score (for the other side){##}\n",
            "  Processing as categorical\n",
            "  Encoded 5 unique values\n",
            "Processing column: For Other Side If Bilateral - Nottingham grade (for the other side){#}\n",
            "  Processing as categorical\n",
            "  Encoded 6 unique values\n",
            "Processing column: For Other Side If Bilateral - ER (for the other side) {0 = neg, 1 = pos}\n",
            "  Processing as categorical\n",
            "  Encoded 3 unique values\n",
            "Processing column: For Other Side If Bilateral - PR (for the other side) {0 = neg, 1 = pos}\n",
            "  Processing as categorical\n",
            "  Encoded 3 unique values\n",
            "Processing column: For Other Side If Bilateral - HER2 (for the other side) {0 = neg, 1 = pos, 2=borderline}\n",
            "  Processing as categorical\n",
            "  Encoded 4 unique values\n",
            "Processing column: For Other Side If Bilateral - Mol Subtype (for the other side) {0 = luminal-like, 1 = ER/PR pos, HER2 pos, 2 = her2, 3 = trip neg}\n",
            "  Processing as categorical\n",
            "  Encoded 4 unique values\n",
            "Processing column: Multicentric/Multifocal - {0 = no, 1 = yes}\n",
            "  Processing as numeric\n",
            "  Standardized numeric column\n",
            "Processing column: Contralateral Breast Involvement - {0 = no, 1 = yes}\n",
            "  Processing as numeric\n",
            "  Standardized numeric column\n",
            "Processing column: Lymphadenopathy or Suspicious Nodes - {0 = no, 1 = yes}\n",
            "  Processing as numeric\n",
            "  Standardized numeric column\n",
            "Processing column: Skin/Nipple Invovlement - {0 = no, 1 = yes}\n",
            "  Processing as numeric\n",
            "  Standardized numeric column\n",
            "Processing column: Pec/Chest Involvement - {0 = no, 1 = yes}\n",
            "  Processing as numeric\n",
            "  Standardized numeric column\n",
            "Processing column: Surgery - {0 = no,1 = yes}\n",
            "  Processing as numeric\n",
            "  Filled missing values with median: 1.0\n",
            "  Standardized numeric column\n",
            "Processing column: Days to Surgery (from the date of diagnosis)\n",
            "  Processing as categorical\n",
            "  Encoded 232 unique values\n",
            "Processing column: Definitive Surgery Type - {0=BCS, 1=mastectomy}\n",
            "  Processing as categorical\n",
            "  Encoded 4 unique values\n",
            "Processing column: Neoadjuvant Radiation Therapy - {0 = no, 1 = yes}\n",
            "  Processing as numeric\n",
            "  Filled missing values with median: 0.0\n",
            "  Standardized numeric column\n",
            "Processing column: Adjuvant Radiation Therapy - {0 = no, 1 = yes}\n",
            "  Processing as numeric\n",
            "  Filled missing values with median: 1.0\n",
            "  Standardized numeric column\n",
            "Processing column: Clinical Response, Evaluated Through Imaging - {1=complete response on imaging, 2=not complete response, 3=imaging to assess treatment response is unavailable, NA=no neoadjuvant therapy or not enough information to assess neoadjuvant therapy status}\n",
            "  Processing as numeric\n",
            "  Filled missing values with median: 2.0\n",
            "  Standardized numeric column\n",
            "Processing column: Pathologic Response to Neoadjuvant Therapy - {1=complete response, 2=not complete response, 3=DCIS only remaining, 4=LCIS only remaining, 5=treatment response assessment unavailable, NA=no neoadjuvant therapy or not enough information to assess neoadjuvant therapy status}\n",
            "  Processing as numeric\n",
            "  Filled missing values with median: 2.0\n",
            "  Standardized numeric column\n",
            "Processing column: Days to local recurrence (from the date of diagnosis)\n",
            "  Processing as categorical\n",
            "  Encoded 17 unique values\n",
            "Processing column: Days to distant recurrence(from the date of diagnosis)\n",
            "  Processing as categorical\n",
            "  Encoded 73 unique values\n",
            "Processing column: Days to death (from the date of diagnosis)\n",
            "  Processing as categorical\n",
            "  Encoded 63 unique values\n",
            "Processing column: Days to last local recurrence free assessment (from the date of diagnosis)\n",
            "  Processing as categorical\n",
            "  Encoded 728 unique values\n",
            "Processing column: Days to last distant recurrence free assemssment(from the date of diagnosis)\n",
            "  Processing as categorical\n",
            "  Encoded 723 unique values\n",
            "Processing column: Age at last contact in EMR f/u(days)(from the date of diagnosis) ,last time patient known to be alive, unless age of death is reported(in such case the age of death\n",
            "Error processing column Age at last contact in EMR f/u(days)(from the date of diagnosis) ,last time patient known to be alive, unless age of death is reported(in such case the age of death: 'DataFrame' object has no attribute 'dtype'\n",
            "  Trying alternative encoding approach\n",
            "  Alternative approach failed: y should be a 1d array, got an array of shape (922, 2) instead.\n",
            "  Setting column to 0\n",
            "Processing column: Age at last contact in EMR f/u(days)(from the date of diagnosis) ,last time patient known to be alive, unless age of death is reported(in such case the age of death\n",
            "Error processing column Age at last contact in EMR f/u(days)(from the date of diagnosis) ,last time patient known to be alive, unless age of death is reported(in such case the age of death: 'DataFrame' object has no attribute 'dtype'\n",
            "  Trying alternative encoding approach\n",
            "  Alternative approach failed: y should be a 1d array, got an array of shape (922, 2) instead.\n",
            "  Setting column to 0\n",
            "Processing column: Age at mammo (days)\n",
            "  Processing as categorical\n",
            "  Encoded 55 unique values\n",
            "Processing column: Breast Density - {0=heterogeneous, 1=scattered, 2=minimal, 3=moderate, 4=extremely, 5=predominantly fatty}\n",
            "  Processing as categorical\n",
            "  Encoded 7 unique values\n",
            "Processing column: Shape - {0=oval, 1=irregular, 2=lobular, 3=reniform, 4=stellate}\n",
            "  Processing as categorical\n",
            "  Encoded 5 unique values\n",
            "Processing column: Margin - {0=obscured, 2=spiculated, 3=indistinct/ill-defined, 4=circumscribed}\n",
            "  Processing as categorical\n",
            "  Encoded 6 unique values\n",
            "Processing column: Architectural distortion\n",
            "  Processing as categorical\n",
            "  Encoded 3 unique values\n",
            "Processing column: Mass Density\n",
            "  Processing as categorical\n",
            "  Encoded 4 unique values\n",
            "Processing column: Calcifications - {0=pleomorphic, 1=yes, 2=heterogeneous 3=microcalc 4=linear, 5=clustered, 6=amorphous, 7=branching}\n",
            "  Processing as categorical\n",
            "  Encoded 16 unique values\n",
            "Processing column: Tumor Size (cm)\n",
            "Error processing column Tumor Size (cm): 'DataFrame' object has no attribute 'dtype'\n",
            "  Trying alternative encoding approach\n",
            "  Alternative approach failed: y should be a 1d array, got an array of shape (922, 2) instead.\n",
            "  Setting column to 0\n",
            "Processing column: Shape - {0=oval, 1=irregular, 2=lobular}\n",
            "  Processing as categorical\n",
            "  Encoded 10 unique values\n",
            "Processing column: Margin - {0=obscured, 1=ill-defined, 2=spiculated, 3=indistinct, 4=circumscribed, 5=microlobulated, 6=angular, 7=irregular}\n",
            "  Processing as categorical\n",
            "  Encoded 14 unique values\n",
            "Processing column: Tumor Size (cm)\n",
            "Error processing column Tumor Size (cm): 'DataFrame' object has no attribute 'dtype'\n",
            "  Trying alternative encoding approach\n",
            "  Alternative approach failed: y should be a 1d array, got an array of shape (922, 2) instead.\n",
            "  Setting column to 0\n",
            "Processing column: Echogenicity - {0=hypoechoic, 1=hyperechoic, 2=isoechoic, 3=anechoic, 4=irregular, 5=mixed, 6=boundary}\n",
            "  Processing as categorical\n",
            "  Encoded 18 unique values\n",
            "Processing column: Solid\n",
            "  Processing as categorical\n",
            "  Encoded 3 unique values\n",
            "Processing column: Posterior acoustic shadowing\n",
            "  Processing as categorical\n",
            "  Encoded 6 unique values\n",
            "Processing column: Neoadjuvant Chemotherapy - {0 = no, 1 = yes}\n",
            "  Processing as numeric\n",
            "  Filled missing values with median: 0.0\n",
            "  Standardized numeric column\n",
            "Processing column: Adjuvant Chemotherapy - {0 = no, 1 = yes}\n",
            "  Processing as numeric\n",
            "  Filled missing values with median: 0.0\n",
            "  Standardized numeric column\n",
            "Processing column: Neoadjuvant Endocrine Therapy Medications - {0 = no, 1 = yes}\n",
            "  Processing as numeric\n",
            "  Filled missing values with median: 0.0\n",
            "  Standardized numeric column\n",
            "Processing column: Adjuvant Endocrine Therapy Medications - {0 = no, 1 = yes}\n",
            "  Processing as numeric\n",
            "  Filled missing values with median: 1.0\n",
            "  Standardized numeric column\n",
            "Processing column: Known Ovarian Status - {0 = no, 1 = yes}\n",
            "  Processing as numeric\n",
            "  Standardized numeric column\n",
            "Processing column: Number of Ovaries In Situ - {0 = no ovaries intact, 1 = 1 ovary intact, 2 = 2 ovaries intact, NP = not pertinent to this case}\n",
            "  Processing as categorical\n",
            "  Encoded 4 unique values\n",
            "Processing column: Therapeutic or Prophylactic Oophorectomy as part of Endocrine Therapy - {0 = no, 1 = yes, NP = not pertinent}\n",
            "  Processing as numeric\n",
            "  Standardized numeric column\n",
            "Processing column: Neoadjuvant Anti-Her2 Neu Therapy - {0 = no, 1 = yes}\n",
            "  Processing as numeric\n",
            "  Filled missing values with median: 0.0\n",
            "  Standardized numeric column\n",
            "Processing column: Adjuvant Anti-Her2 Neu Therapy - {0 = no, 1 = yes}\n",
            "  Processing as numeric\n",
            "  Filled missing values with median: 0.0\n",
            "  Standardized numeric column\n",
            "Processing column: Received Neoadjuvant Therapy or Not - {1 = yes, 2 = no, NA = not applicable}\n",
            "  Processing as numeric\n",
            "  Filled missing values with median: 2.0\n",
            "  Standardized numeric column\n",
            "Processing column: Pathologic response to Neoadjuvant therapy: Pathologic stage (T) following neoadjuvant therapy - { -1 = TX;  0 = T0;  1 = T1;  2 = T2;  3 = T3;  4 = T4;  5 = Tis (DCIS);  NA = not applicable}\n",
            "  Processing as numeric\n",
            "  Filled missing values with median: 1.0\n",
            "  Standardized numeric column\n",
            "Processing column: Pathologic response to Neoadjuvant therapy:  Pathologic stage (N) following neoadjuvant therapy - { -1 = NX;  0 = N0;  1 = N1;  2 = N2;  3 = N3; NA = not applicable}\n",
            "  Processing as numeric\n",
            "  Filled missing values with median: 0.0\n",
            "  Standardized numeric column\n",
            "Processing column: Pathologic response to Neoadjuvant therapy:  Pathologic stage (M) following neoadjuvant therapy - { -1 = MX;  0 = M0;  1 = M1;  NA = not applicable}\n",
            "  Processing as numeric\n",
            "  Filled missing values with median: -1.0\n",
            "  Standardized numeric column\n",
            "Processing column: Overall Near-complete Response:  Stricter Definition - {0 = not complete or near-complete, 1 = complete, 2 = near-complete, 3 = pathologic assessment not available, NA = not applicable}  *Strict definition of Near-complete includes the following definitions [from column QK \"Near complete response (graded measure)\"]: 2 = Near complete (pathology report noted results constituted near-complete response to NAT) 3 = No residual disease, only atypical ductal hyperplasia 4 = No invasive carcinoma, DCIS only 5 = No invasive carcinoma, LCIS only 6 = 90% reduction in tumor volume 7 = 95% reduction 18 = 99% of tumor obliterated but extensive residual DCIS\n",
            "  Processing as numeric\n",
            "  Filled missing values with median: 0.0\n",
            "  Standardized numeric column\n",
            "Processing column: Overall Near-complete Response:  Looser Definition - {0 = not complete or near-complete, 1 = complete, 2 = near-complete, 3 = pathologic assessment not available, NA = not applicable}  *Loose definition of Near-complete includes the following definitions [from column QK \"Near complete response (graded measure)\"]: 2 = Near complete (pathology report noted results constituted near-complete response to NAT) 3 = No residual disease, only atypical ductal hyperplasia 4 = No invasive carcinoma, DCIS only 5 = No invasive carcinoma, LCIS only 6 = 90% reduction in tumor volume 7 = 95% reduction 8 = Near complete but DCIS 9 = 90% reduction with DCIS present 10 = No invasive disease but lymph nodes positive 11 = No residual disease, but positive LNs and DCIS 12 = Near complete response noted on path report, but positive LNs 13 = 98% reduction with positive LNs 14 = 95% fibrosis but positive lymph nodes 15 = 90% reduction with positive LNs 16 = > 95% reduction with only mucinous pools remaining 17 = 1mm residual invasive but extensive DCIS 18 = 99% of tumor obliterated but extensive residual DCIS\n",
            "  Processing as numeric\n",
            "  Filled missing values with median: 0.0\n",
            "  Standardized numeric column\n",
            "Processing column: Near-complete Response (Graded Measure) - {0 = Not complete or near-complete;  1 = Complete;  2 = Near complete (pathology report noted results constituted near-complete response to NAT);  3 = No residual disease, only atypical ductal hyperplasia;  4 = No invasive carcinoma, DCIS only;  5 = No invasive carcinoma, LCIS only;  6 = 90% reduction in tumor volume;  7 = 95% reduction;  8 = Near complete but DCIS;  9 = 90% reduction with DCIS present;  10 = No invasive disease but lymph nodes positive;  11 = No residual disease, but positive LNs and DCIS;  12 = Near complete response noted on path report, but positive LNs;  13 = 98% reduction with positive LNs;  14 = 95% fibrosis but positive lymph nodes;  15 = 90% reduction with positive LNs;  16 = > 95% reduction with only mucinous pools remaining;  17 = 1mm residual invasive but extensive DCIS;  18 = 99% of tumor obliterated but extensive residual DCIS;  19 = pathologic assessment not available; NA = not applicable} 0 = Not complete or near-complete 1 = Complete 2 = Near complete (pathology report noted results constituted near-complete response to NAT) 3 = No residual disease, only atypical ductal hyperplasia 4 = No invasive carcinoma, DCIS only 5 = No invasive carcinoma, LCIS only 6 = 90% reduction in tumor volume 7 = 95% reduction 8 = Near complete but DCIS 9 = 90% reduction with DCIS present 10 = No invasive disease but lymph nodes positive 11 = No residual disease, but positive LNs and DCIS 12 = Near complete response noted on path report, but positive LNs 13 = 98% reduction with positive LNs 14 = 95% fibrosis but positive lymph nodes 15 = 90% reduction with positive LNs 16 = > 95% reduction with only mucinous pools remaining 17 = 1mm residual invasive but extensive DCIS 18 = 99% of tumor obliterated but extensive residual DCIS 19 = pathologic assessment not available NA = not applicable\n",
            "  Processing as numeric\n",
            "  Filled missing values with median: 0.0\n",
            "  Standardized numeric column\n",
            "Restored target column: Recurrence event(s) - {0 = no, 1 = yes}\n",
            "Filling NaN values in 1 columns\n",
            "Final encoded dataframe shape: (922, 98)\n",
            "Encoded data shape: (922, 98)\n"
          ]
        }
      ]
    },
    {
      "cell_type": "code",
      "source": [
        "# Split the data into features and target\n",
        "X = encoded_df.drop(columns=[target_col]) if target_col in encoded_df.columns else encoded_df\n",
        "y = encoded_df[target_col] if target_col in encoded_df.columns else None\n",
        "\n",
        "# Print info about target distribution\n",
        "if y is not None:\n",
        "    print(f\"Target distribution:\\n{y.value_counts()}\")\n",
        "else:\n",
        "    print(\"Warning: Target column not found in encoded dataframe!\")\n",
        "\n",
        "# Split data into train, validation, and test sets\n",
        "X_train, X_temp, y_train, y_temp = train_test_split(X, y, test_size=0.30, random_state=42)\n",
        "X_val, X_test, y_val, y_test = train_test_split(X_temp, y_temp, test_size=0.50, random_state=42)\n",
        "\n",
        "print(\"Training set size:\", X_train.shape, y_train.shape)\n",
        "print(\"Validation set size:\", X_val.shape, y_val.shape)\n",
        "print(\"Test set size:\", X_test.shape, y_test.shape)\n",
        "\n",
        "# Reshape data for RNN (sequence data)\n",
        "# RNNs expect input of shape (batch_size, time_steps, features)\n",
        "X_train_seq = np.expand_dims(X_train.values, axis=1)  # shape: (samples, 1, features)\n",
        "X_val_seq = np.expand_dims(X_val.values, axis=1)\n",
        "X_test_seq = np.expand_dims(X_test.values, axis=1)\n",
        "\n",
        "\n",
        "# Check for NaN values using np.isnan for NumPy arrays\n",
        "if np.isnan(X_test_seq).any():\n",
        "    print(\"Warning: NaN values found in test data! Filling with 0...\")\n",
        "    X_test_seq = np.nan_to_num(X_test_seq, nan=0.0)\n",
        "\n",
        "X_train_seq = np.nan_to_num(X_train_seq, nan=0.0)\n",
        "X_val_seq = np.nan_to_num(X_val_seq, nan=0.0)\n",
        "\n",
        "print(\"Sequence shapes:\")\n",
        "print(\"X_train_seq:\", X_train_seq.shape)\n",
        "print(\"X_val_seq:\", X_val_seq.shape)\n",
        "print(\"X_test_seq:\", X_test_seq.shape)"
      ],
      "metadata": {
        "colab": {
          "base_uri": "https://localhost:8080/"
        },
        "id": "hNL_3JdqbRR4",
        "outputId": "ad550056-f8ee-4240-f09c-ffc722aae968"
      },
      "execution_count": 5,
      "outputs": [
        {
          "output_type": "stream",
          "name": "stdout",
          "text": [
            "Target distribution:\n",
            "Recurrence event(s) - {0 = no, 1 = yes}\n",
            "0.0    835\n",
            "1.0     87\n",
            "Name: count, dtype: int64\n",
            "Training set size: (645, 97) (645,)\n",
            "Validation set size: (138, 97) (138,)\n",
            "Test set size: (139, 97) (139,)\n",
            "Sequence shapes:\n",
            "X_train_seq: (645, 1, 97)\n",
            "X_val_seq: (138, 1, 97)\n",
            "X_test_seq: (139, 1, 97)\n"
          ]
        }
      ]
    },
    {
      "cell_type": "markdown",
      "source": [
        "# RNN Model Training Pipeline\n",
        "**must complete encoding before training**"
      ],
      "metadata": {
        "id": "-lXUsuB3eaf3"
      }
    },
    {
      "cell_type": "code",
      "source": [
        "def build_advanced_rnn_model(input_shape, rnn_type='LSTM', units=64,\n",
        "                            bidirectional=True, attention=False,\n",
        "                            dropout_rate=0.3, l1_reg=0.0001, l2_reg=0.0001):\n",
        "    \"\"\"\n",
        "    Build an advanced RNN model with various architectural improvements:\n",
        "    - Bidirectional RNN layers\n",
        "    - Batch normalization\n",
        "    - Regularization (dropout, L1, L2)\n",
        "\n",
        "    Parameters:\n",
        "    -----------\n",
        "    input_shape : tuple\n",
        "        Shape of input data (time_steps, features)\n",
        "    rnn_type : str, default='LSTM'\n",
        "        Type of RNN layer ('LSTM' or 'GRU')\n",
        "    units : int, default=64\n",
        "        Number of RNN units\n",
        "    bidirectional : bool, default=True\n",
        "        Whether to use bidirectional RNNs\n",
        "    attention : bool, default=False\n",
        "        Whether to add an attention mechanism (simplified)\n",
        "    dropout_rate : float, default=0.3\n",
        "        Dropout rate for regularization\n",
        "    l1_reg : float, default=0.0001\n",
        "        L1 regularization strength\n",
        "    l2_reg : float, default=0.0001\n",
        "        L2 regularization strength\n",
        "\n",
        "    Returns:\n",
        "    --------\n",
        "    keras.Model\n",
        "        Compiled RNN model\n",
        "    \"\"\"\n",
        "    # Simple version for simpler architectural choices\n",
        "    if not bidirectional:\n",
        "        model = Sequential()\n",
        "\n",
        "        # Use specified RNN type\n",
        "        if rnn_type == 'LSTM':\n",
        "            model.add(LSTM(units, input_shape=input_shape,\n",
        "                          kernel_regularizer=l1_l2(l1=l1_reg, l2=l2_reg),\n",
        "                          recurrent_regularizer=l1_l2(l1=l1_reg, l2=l2_reg),\n",
        "                          return_sequences=False))\n",
        "        elif rnn_type == 'GRU':\n",
        "            model.add(GRU(units, input_shape=input_shape,\n",
        "                         kernel_regularizer=l1_l2(l1=l1_reg, l2=l2_reg),\n",
        "                         recurrent_regularizer=l1_l2(l1=l1_reg, l2=l2_reg),\n",
        "                         return_sequences=False))\n",
        "        else:\n",
        "            raise ValueError(f\"Unknown RNN type: {rnn_type}\")\n",
        "\n",
        "        model.add(BatchNormalization())\n",
        "        model.add(Dropout(dropout_rate))\n",
        "        model.add(Dense(32, activation='relu', kernel_regularizer=l1_l2(l1=l1_reg, l2=l2_reg)))\n",
        "        model.add(BatchNormalization())\n",
        "        model.add(Dropout(dropout_rate))\n",
        "        model.add(Dense(1, activation='sigmoid'))\n",
        "\n",
        "    # More complex model with bidirectional RNNs\n",
        "    else:\n",
        "        # Create functional API model for more flexibility\n",
        "        inputs = Input(shape=input_shape)\n",
        "\n",
        "        # Configure RNN layer based on parameters\n",
        "        if rnn_type == 'LSTM':\n",
        "            rnn_layer = LSTM(units,\n",
        "                            kernel_regularizer=l1_l2(l1=l1_reg, l2=l2_reg),\n",
        "                            recurrent_regularizer=l1_l2(l1=l1_reg, l2=l2_reg),\n",
        "                            return_sequences=False)  # No need for sequences in this implementation\n",
        "        elif rnn_type == 'GRU':\n",
        "            rnn_layer = GRU(units,\n",
        "                           kernel_regularizer=l1_l2(l1=l1_reg, l2=l2_reg),\n",
        "                           recurrent_regularizer=l1_l2(l1=l1_reg, l2=l2_reg),\n",
        "                           return_sequences=False)  # No need for sequences in this implementation\n",
        "        else:\n",
        "            raise ValueError(f\"Unknown RNN type: {rnn_type}\")\n",
        "\n",
        "        # Add bidirectional wrapper\n",
        "        rnn_output = Bidirectional(rnn_layer)(inputs)\n",
        "\n",
        "        # Add dense layers with regularization\n",
        "        x = BatchNormalization()(rnn_output)\n",
        "        x = Dropout(dropout_rate)(x)\n",
        "        x = Dense(32, activation='relu', kernel_regularizer=l1_l2(l1=l1_reg, l2=l2_reg))(x)\n",
        "        x = BatchNormalization()(x)\n",
        "        x = Dropout(dropout_rate)(x)\n",
        "        outputs = Dense(1, activation='sigmoid')(x)\n",
        "\n",
        "        model = Model(inputs=inputs, outputs=outputs)\n",
        "\n",
        "    # Compile model\n",
        "    model.compile(\n",
        "        optimizer=Adam(learning_rate=0.001),\n",
        "        loss='binary_crossentropy',\n",
        "        metrics=['accuracy', tf.keras.metrics.AUC(), tf.keras.metrics.Precision(), tf.keras.metrics.Recall()]\n",
        "    )\n",
        "\n",
        "    return model\n",
        "\n",
        "def train_with_advanced_callbacks(model, X_train, y_train, X_val, y_val,\n",
        "                                 batch_size=32, epochs=100,\n",
        "                                 early_stopping_patience=10,\n",
        "                                 reduce_lr_patience=5,\n",
        "                                 model_checkpoint_path='best_model.h5'):\n",
        "    \"\"\"\n",
        "    Train model with advanced callbacks for better performance\n",
        "\n",
        "    Parameters:\n",
        "    -----------\n",
        "    model : keras.Model\n",
        "        The compiled model to train\n",
        "    X_train, y_train : array-like\n",
        "        Training data and labels\n",
        "    X_val, y_val : array-like\n",
        "        Validation data and labels\n",
        "    batch_size : int, default=32\n",
        "        Batch size for training\n",
        "    epochs : int, default=100\n",
        "        Maximum number of epochs\n",
        "    early_stopping_patience : int, default=10\n",
        "        Patience for early stopping\n",
        "    reduce_lr_patience : int, default=5\n",
        "        Patience for learning rate reduction\n",
        "    model_checkpoint_path : str, default='best_model.h5'\n",
        "        Path to save the best model weights\n",
        "\n",
        "    Returns:\n",
        "    --------\n",
        "    history : dict\n",
        "        Training history\n",
        "    \"\"\"\n",
        "    # Define callbacks\n",
        "    callbacks = [\n",
        "        # Early stopping to prevent overfitting\n",
        "        EarlyStopping(\n",
        "            monitor='val_loss',\n",
        "            patience=early_stopping_patience,\n",
        "            restore_best_weights=True,\n",
        "            verbose=1\n",
        "        ),\n",
        "        # Reduce learning rate when validation loss plateaus\n",
        "        ReduceLROnPlateau(\n",
        "            monitor='val_loss',\n",
        "            factor=0.5,\n",
        "            patience=reduce_lr_patience,\n",
        "            min_lr=1e-6,\n",
        "            verbose=1\n",
        "        ),\n",
        "        # Save the best model based on validation loss\n",
        "        ModelCheckpoint(\n",
        "            filepath=model_checkpoint_path,\n",
        "            monitor='val_loss',\n",
        "            save_best_only=True,\n",
        "            verbose=1\n",
        "        )\n",
        "    ]\n",
        "\n",
        "    # Train the model\n",
        "    history = model.fit(\n",
        "        X_train, y_train,\n",
        "        validation_data=(X_val, y_val),\n",
        "        epochs=epochs,\n",
        "        batch_size=batch_size,\n",
        "        callbacks=callbacks,\n",
        "        verbose=1\n",
        "    )\n",
        "\n",
        "    return history\n",
        "\n",
        "def evaluate_binary_classifier(model, X_test, y_test, class_names=['No Recurrence', 'Recurrence']):\n",
        "    \"\"\"\n",
        "    Comprehensive evaluation of binary classifier with various metrics and plots\n",
        "\n",
        "    Parameters:\n",
        "    -----------\n",
        "    model : keras.Model\n",
        "        Trained model to evaluate\n",
        "    X_test, y_test : array-like\n",
        "        Test data and labels\n",
        "    class_names : list, default=['No Recurrence', 'Recurrence']\n",
        "        Names of the classes for plotting\n",
        "\n",
        "    Returns:\n",
        "    --------\n",
        "    dict\n",
        "        Dictionary of evaluation metrics\n",
        "    \"\"\"\n",
        "    # Get predictions\n",
        "    y_pred_prob = model.predict(X_test)\n",
        "    y_pred = (y_pred_prob > 0.5).astype(int)\n",
        "\n",
        "    # Calculate metrics\n",
        "    test_loss, test_accuracy, test_auc, test_precision, test_recall = model.evaluate(X_test, y_test, verbose=0)\n",
        "\n",
        "    # Classification report\n",
        "    report = classification_report(y_test, y_pred, target_names=class_names, output_dict=True)\n",
        "    print(classification_report(y_test, y_pred, target_names=class_names))\n",
        "\n",
        "    # Confusion matrix\n",
        "    cm = confusion_matrix(y_test, y_pred)\n",
        "    plt.figure(figsize=(8, 6))\n",
        "    plt.imshow(cm, interpolation='nearest', cmap=plt.cm.Blues)\n",
        "    plt.title('Confusion Matrix')\n",
        "    plt.colorbar()\n",
        "    tick_marks = np.arange(len(class_names))\n",
        "    plt.xticks(tick_marks, class_names)\n",
        "    plt.yticks(tick_marks, class_names)\n",
        "    plt.xlabel('Predicted Label')\n",
        "    plt.ylabel('True Label')\n",
        "\n",
        "    # Add text annotations to the confusion matrix\n",
        "    thresh = cm.max() / 2\n",
        "    for i in range(cm.shape[0]):\n",
        "        for j in range(cm.shape[1]):\n",
        "            plt.text(j, i, format(cm[i, j], 'd'),\n",
        "                    horizontalalignment=\"center\",\n",
        "                    color=\"white\" if cm[i, j] > thresh else \"black\")\n",
        "    plt.tight_layout()\n",
        "    plt.savefig('confusion_matrix_advanced.png')\n",
        "    plt.show()\n",
        "\n",
        "    # ROC curve\n",
        "    fpr, tpr, _ = roc_curve(y_test, y_pred_prob)\n",
        "    roc_auc = auc(fpr, tpr)\n",
        "\n",
        "    plt.figure(figsize=(8, 6))\n",
        "    plt.plot(fpr, tpr, color='darkorange', lw=2, label=f'ROC curve (area = {roc_auc:.2f})')\n",
        "    plt.plot([0, 1], [0, 1], color='navy', lw=2, linestyle='--')\n",
        "    plt.xlim([0.0, 1.0])\n",
        "    plt.ylim([0.0, 1.05])\n",
        "    plt.xlabel('False Positive Rate')\n",
        "    plt.ylabel('True Positive Rate')\n",
        "    plt.title('Receiver Operating Characteristic')\n",
        "    plt.legend(loc=\"lower right\")\n",
        "    plt.savefig('roc_curve_advanced.png')\n",
        "    plt.show()\n",
        "\n",
        "    # Precision-Recall curve\n",
        "    precision, recall, _ = precision_recall_curve(y_test, y_pred_prob)\n",
        "    pr_auc = auc(recall, precision)\n",
        "\n",
        "    plt.figure(figsize=(8, 6))\n",
        "    plt.plot(recall, precision, color='blue', lw=2, label=f'PR curve (area = {pr_auc:.2f})')\n",
        "    plt.xlabel('Recall')\n",
        "    plt.ylabel('Precision')\n",
        "    plt.title('Precision-Recall Curve')\n",
        "    plt.legend(loc=\"lower left\")\n",
        "    plt.savefig('pr_curve_advanced.png')\n",
        "    plt.show()\n",
        "\n",
        "    # Return all metrics in a dictionary\n",
        "    metrics = {\n",
        "        'accuracy': test_accuracy,\n",
        "        'auc': test_auc,\n",
        "        'precision': test_precision,\n",
        "        'recall': test_recall,\n",
        "        'f1_score': report['weighted avg']['f1-score'],\n",
        "        'confusion_matrix': cm,\n",
        "        'roc_auc': roc_auc,\n",
        "        'pr_auc': pr_auc\n",
        "    }\n",
        "\n",
        "    return metrics\n"
      ],
      "metadata": {
        "id": "RHKFuH1neeUO"
      },
      "execution_count": 6,
      "outputs": []
    },
    {
      "cell_type": "code",
      "source": [
        "\n",
        "# Build the advanced RNN model\n",
        "input_shape = (X_train_seq.shape[1], X_train_seq.shape[2])  # (time_steps, features)\n",
        "advanced_model = build_advanced_rnn_model(\n",
        "    input_shape=input_shape,\n",
        "    rnn_type='LSTM',       # 'LSTM' or 'GRU'\n",
        "    units=128,             # Number of RNN units\n",
        "    bidirectional=True,    # Use bidirectional RNN\n",
        "    attention=False,       # Attention mechanism not needed for this data\n",
        "    dropout_rate=0.3,      # Dropout rate for regularization\n",
        "    l1_reg=0.0001,         # L1 regularization strength\n",
        "    l2_reg=0.0001          # L2 regularization strength\n",
        ")\n",
        "\n",
        "# Train the model with advanced callbacks\n",
        "history = train_with_advanced_callbacks(\n",
        "    model=advanced_model,\n",
        "    X_train=X_train_seq,\n",
        "    y_train=y_train,\n",
        "    X_val=X_val_seq,\n",
        "    y_val=y_val,\n",
        "    batch_size=32,\n",
        "    epochs=100,\n",
        "    early_stopping_patience=10,\n",
        "    reduce_lr_patience=5\n",
        ")\n",
        "\n",
        "# Evaluate the model\n",
        "metrics = evaluate_binary_classifier(\n",
        "    model=advanced_model,\n",
        "    X_test=X_test_seq,\n",
        "    y_test=y_test\n",
        ")\n",
        "\n",
        "print(f\"Final model performance:\")\n",
        "print(f\"Accuracy: {metrics['accuracy']:.4f}\")\n",
        "print(f\"AUC: {metrics['auc']:.4f}\")\n",
        "print(f\"F1 Score: {metrics['f1_score']:.4f}\")"
      ],
      "metadata": {
        "colab": {
          "base_uri": "https://localhost:8080/",
          "height": 1000
        },
        "id": "wAzHvS3UfZmN",
        "outputId": "4005f6b6-32ab-45c8-a94c-63bf8b594c92"
      },
      "execution_count": 7,
      "outputs": [
        {
          "output_type": "stream",
          "name": "stdout",
          "text": [
            "Epoch 1/100\n",
            "\u001b[1m17/21\u001b[0m \u001b[32m━━━━━━━━━━━━━━━━\u001b[0m\u001b[37m━━━━\u001b[0m \u001b[1m0s\u001b[0m 10ms/step - accuracy: 0.4815 - auc: 0.4650 - loss: 1.8997 - precision: 0.1157 - recall: 0.4837\n",
            "Epoch 1: val_loss improved from inf to 1.29444, saving model to best_model.h5\n"
          ]
        },
        {
          "output_type": "stream",
          "name": "stderr",
          "text": [
            "WARNING:absl:You are saving your model as an HDF5 file via `model.save()` or `keras.saving.save_model(model)`. This file format is considered legacy. We recommend using instead the native Keras format, e.g. `model.save('my_model.keras')` or `keras.saving.save_model(model, 'my_model.keras')`. \n"
          ]
        },
        {
          "output_type": "stream",
          "name": "stdout",
          "text": [
            "\b\b\b\b\b\b\b\b\b\b\b\b\b\b\b\b\b\b\b\b\b\b\b\b\b\b\b\b\b\b\b\b\b\b\b\b\b\b\b\b\b\b\b\b\b\b\b\b\b\b\b\b\b\b\b\b\b\b\b\b\b\b\b\b\b\b\b\b\b\b\b\b\b\b\b\b\b\b\b\b\b\b\b\b\b\b\b\b\b\b\b\b\b\b\b\b\b\b\b\b\b\b\b\b\b\b\b\b\b\b\b\b\b\b\b\b\b\b\b\b\b\b\b\b\r\u001b[1m21/21\u001b[0m \u001b[32m━━━━━━━━━━━━━━━━━━━━\u001b[0m\u001b[37m\u001b[0m \u001b[1m17s\u001b[0m 106ms/step - accuracy: 0.4861 - auc: 0.4726 - loss: 1.8644 - precision: 0.1085 - recall: 0.4843 - val_accuracy: 0.7971 - val_auc: 0.5552 - val_loss: 1.2944 - val_precision: 0.0769 - val_recall: 0.0588 - learning_rate: 0.0010\n",
            "Epoch 2/100\n",
            "\u001b[1m20/21\u001b[0m \u001b[32m━━━━━━━━━━━━━━━━━━━\u001b[0m\u001b[37m━\u001b[0m \u001b[1m0s\u001b[0m 15ms/step - accuracy: 0.6137 - auc: 0.6102 - loss: 1.3506 - precision: 0.1221 - recall: 0.5888\n",
            "Epoch 2: val_loss improved from 1.29444 to 1.04250, saving model to best_model.h5\n"
          ]
        },
        {
          "output_type": "stream",
          "name": "stderr",
          "text": [
            "WARNING:absl:You are saving your model as an HDF5 file via `model.save()` or `keras.saving.save_model(model)`. This file format is considered legacy. We recommend using instead the native Keras format, e.g. `model.save('my_model.keras')` or `keras.saving.save_model(model, 'my_model.keras')`. \n"
          ]
        },
        {
          "output_type": "stream",
          "name": "stdout",
          "text": [
            "\b\b\b\b\b\b\b\b\b\b\b\b\b\b\b\b\b\b\b\b\b\b\b\b\b\b\b\b\b\b\b\b\b\b\b\b\b\b\b\b\b\b\b\b\b\b\b\b\b\b\b\b\b\b\b\b\b\b\b\b\b\b\b\b\b\b\b\b\b\b\b\b\b\b\b\b\b\b\b\b\b\b\b\b\b\b\b\b\b\b\b\b\b\b\b\b\b\b\b\b\b\b\b\b\b\b\b\b\b\b\b\b\b\b\b\b\b\b\b\b\b\b\b\b\r\u001b[1m21/21\u001b[0m \u001b[32m━━━━━━━━━━━━━━━━━━━━\u001b[0m\u001b[37m\u001b[0m \u001b[1m1s\u001b[0m 26ms/step - accuracy: 0.6118 - auc: 0.6089 - loss: 1.3463 - precision: 0.1212 - recall: 0.5848 - val_accuracy: 0.8478 - val_auc: 0.5297 - val_loss: 1.0425 - val_precision: 0.1667 - val_recall: 0.0588 - learning_rate: 0.0010\n",
            "Epoch 3/100\n",
            "\u001b[1m21/21\u001b[0m \u001b[32m━━━━━━━━━━━━━━━━━━━━\u001b[0m\u001b[37m\u001b[0m \u001b[1m0s\u001b[0m 15ms/step - accuracy: 0.5950 - auc: 0.6466 - loss: 1.0938 - precision: 0.0926 - recall: 0.5582\n",
            "Epoch 3: val_loss improved from 1.04250 to 0.90886, saving model to best_model.h5\n"
          ]
        },
        {
          "output_type": "stream",
          "name": "stderr",
          "text": [
            "WARNING:absl:You are saving your model as an HDF5 file via `model.save()` or `keras.saving.save_model(model)`. This file format is considered legacy. We recommend using instead the native Keras format, e.g. `model.save('my_model.keras')` or `keras.saving.save_model(model, 'my_model.keras')`. \n"
          ]
        },
        {
          "output_type": "stream",
          "name": "stdout",
          "text": [
            "\b\b\b\b\b\b\b\b\b\b\b\b\b\b\b\b\b\b\b\b\b\b\b\b\b\b\b\b\b\b\b\b\b\b\b\b\b\b\b\b\b\b\b\b\b\b\b\b\b\b\b\b\b\b\b\b\b\b\b\b\b\b\b\b\b\b\b\b\b\b\b\b\b\b\b\b\b\b\b\b\b\b\b\b\b\b\b\b\b\b\b\b\b\b\b\b\b\b\b\b\b\b\b\b\b\b\b\b\b\b\b\b\b\b\b\b\b\b\b\b\b\b\b\b\r\u001b[1m21/21\u001b[0m \u001b[32m━━━━━━━━━━━━━━━━━━━━\u001b[0m\u001b[37m\u001b[0m \u001b[1m1s\u001b[0m 26ms/step - accuracy: 0.5965 - auc: 0.6478 - loss: 1.0914 - precision: 0.0945 - recall: 0.5610 - val_accuracy: 0.7971 - val_auc: 0.6077 - val_loss: 0.9089 - val_precision: 0.2105 - val_recall: 0.2353 - learning_rate: 0.0010\n",
            "Epoch 4/100\n",
            "\u001b[1m20/21\u001b[0m \u001b[32m━━━━━━━━━━━━━━━━━━━\u001b[0m\u001b[37m━\u001b[0m \u001b[1m0s\u001b[0m 15ms/step - accuracy: 0.6613 - auc: 0.5782 - loss: 0.9242 - precision: 0.1141 - recall: 0.4465\n",
            "Epoch 4: val_loss improved from 0.90886 to 0.79657, saving model to best_model.h5\n"
          ]
        },
        {
          "output_type": "stream",
          "name": "stderr",
          "text": [
            "WARNING:absl:You are saving your model as an HDF5 file via `model.save()` or `keras.saving.save_model(model)`. This file format is considered legacy. We recommend using instead the native Keras format, e.g. `model.save('my_model.keras')` or `keras.saving.save_model(model, 'my_model.keras')`. \n"
          ]
        },
        {
          "output_type": "stream",
          "name": "stdout",
          "text": [
            "\b\b\b\b\b\b\b\b\b\b\b\b\b\b\b\b\b\b\b\b\b\b\b\b\b\b\b\b\b\b\b\b\b\b\b\b\b\b\b\b\b\b\b\b\b\b\b\b\b\b\b\b\b\b\b\b\b\b\b\b\b\b\b\b\b\b\b\b\b\b\b\b\b\b\b\b\b\b\b\b\b\b\b\b\b\b\b\b\b\b\b\b\b\b\b\b\b\b\b\b\b\b\b\b\b\b\b\b\b\b\b\b\b\b\b\b\b\b\b\b\b\b\b\b\r\u001b[1m21/21\u001b[0m \u001b[32m━━━━━━━━━━━━━━━━━━━━\u001b[0m\u001b[37m\u001b[0m \u001b[1m1s\u001b[0m 28ms/step - accuracy: 0.6636 - auc: 0.5826 - loss: 0.9207 - precision: 0.1156 - recall: 0.4489 - val_accuracy: 0.8406 - val_auc: 0.6330 - val_loss: 0.7966 - val_precision: 0.2727 - val_recall: 0.1765 - learning_rate: 0.0010\n",
            "Epoch 5/100\n",
            "\u001b[1m18/21\u001b[0m \u001b[32m━━━━━━━━━━━━━━━━━\u001b[0m\u001b[37m━━━\u001b[0m \u001b[1m0s\u001b[0m 16ms/step - accuracy: 0.7288 - auc: 0.7543 - loss: 0.7879 - precision: 0.1708 - recall: 0.6116\n",
            "Epoch 5: val_loss improved from 0.79657 to 0.73091, saving model to best_model.h5\n"
          ]
        },
        {
          "output_type": "stream",
          "name": "stderr",
          "text": [
            "WARNING:absl:You are saving your model as an HDF5 file via `model.save()` or `keras.saving.save_model(model)`. This file format is considered legacy. We recommend using instead the native Keras format, e.g. `model.save('my_model.keras')` or `keras.saving.save_model(model, 'my_model.keras')`. \n"
          ]
        },
        {
          "output_type": "stream",
          "name": "stdout",
          "text": [
            "\b\b\b\b\b\b\b\b\b\b\b\b\b\b\b\b\b\b\b\b\b\b\b\b\b\b\b\b\b\b\b\b\b\b\b\b\b\b\b\b\b\b\b\b\b\b\b\b\b\b\b\b\b\b\b\b\b\b\b\b\b\b\b\b\b\b\b\b\b\b\b\b\b\b\b\b\b\b\b\b\b\b\b\b\b\b\b\b\b\b\b\b\b\b\b\b\b\b\b\b\b\b\b\b\b\b\b\b\b\b\b\b\b\b\b\b\b\b\b\b\b\b\b\b\r\u001b[1m21/21\u001b[0m \u001b[32m━━━━━━━━━━━━━━━━━━━━\u001b[0m\u001b[37m\u001b[0m \u001b[1m1s\u001b[0m 26ms/step - accuracy: 0.7290 - auc: 0.7451 - loss: 0.7873 - precision: 0.1697 - recall: 0.5968 - val_accuracy: 0.8696 - val_auc: 0.6804 - val_loss: 0.7309 - val_precision: 0.4000 - val_recall: 0.1176 - learning_rate: 0.0010\n",
            "Epoch 6/100\n",
            "\u001b[1m19/21\u001b[0m \u001b[32m━━━━━━━━━━━━━━━━━━\u001b[0m\u001b[37m━━\u001b[0m \u001b[1m0s\u001b[0m 9ms/step - accuracy: 0.7752 - auc: 0.7609 - loss: 0.7122 - precision: 0.2169 - recall: 0.6085\n",
            "Epoch 6: val_loss improved from 0.73091 to 0.71901, saving model to best_model.h5\n"
          ]
        },
        {
          "output_type": "stream",
          "name": "stderr",
          "text": [
            "WARNING:absl:You are saving your model as an HDF5 file via `model.save()` or `keras.saving.save_model(model)`. This file format is considered legacy. We recommend using instead the native Keras format, e.g. `model.save('my_model.keras')` or `keras.saving.save_model(model, 'my_model.keras')`. \n"
          ]
        },
        {
          "output_type": "stream",
          "name": "stdout",
          "text": [
            "\b\b\b\b\b\b\b\b\b\b\b\b\b\b\b\b\b\b\b\b\b\b\b\b\b\b\b\b\b\b\b\b\b\b\b\b\b\b\b\b\b\b\b\b\b\b\b\b\b\b\b\b\b\b\b\b\b\b\b\b\b\b\b\b\b\b\b\b\b\b\b\b\b\b\b\b\b\b\b\b\b\b\b\b\b\b\b\b\b\b\b\b\b\b\b\b\b\b\b\b\b\b\b\b\b\b\b\b\b\b\b\b\b\b\b\b\b\b\b\b\b\b\b\r\u001b[1m21/21\u001b[0m \u001b[32m━━━━━━━━━━━━━━━━━━━━\u001b[0m\u001b[37m\u001b[0m \u001b[1m0s\u001b[0m 17ms/step - accuracy: 0.7738 - auc: 0.7493 - loss: 0.7129 - precision: 0.2094 - recall: 0.5825 - val_accuracy: 0.8768 - val_auc: 0.5540 - val_loss: 0.7190 - val_precision: 0.5000 - val_recall: 0.0588 - learning_rate: 0.0010\n",
            "Epoch 7/100\n",
            "\u001b[1m19/21\u001b[0m \u001b[32m━━━━━━━━━━━━━━━━━━\u001b[0m\u001b[37m━━\u001b[0m \u001b[1m0s\u001b[0m 9ms/step - accuracy: 0.8069 - auc: 0.6918 - loss: 0.6668 - precision: 0.1964 - recall: 0.4235\n",
            "Epoch 7: val_loss improved from 0.71901 to 0.69643, saving model to best_model.h5\n"
          ]
        },
        {
          "output_type": "stream",
          "name": "stderr",
          "text": [
            "WARNING:absl:You are saving your model as an HDF5 file via `model.save()` or `keras.saving.save_model(model)`. This file format is considered legacy. We recommend using instead the native Keras format, e.g. `model.save('my_model.keras')` or `keras.saving.save_model(model, 'my_model.keras')`. \n"
          ]
        },
        {
          "output_type": "stream",
          "name": "stdout",
          "text": [
            "\b\b\b\b\b\b\b\b\b\b\b\b\b\b\b\b\b\b\b\b\b\b\b\b\b\b\b\b\b\b\b\b\b\b\b\b\b\b\b\b\b\b\b\b\b\b\b\b\b\b\b\b\b\b\b\b\b\b\b\b\b\b\b\b\b\b\b\b\b\b\b\b\b\b\b\b\b\b\b\b\b\b\b\b\b\b\b\b\b\b\b\b\b\b\b\b\b\b\b\b\b\b\b\b\b\b\b\b\b\b\b\b\b\b\b\b\b\b\b\b\b\b\b\r\u001b[1m21/21\u001b[0m \u001b[32m━━━━━━━━━━━━━━━━━━━━\u001b[0m\u001b[37m\u001b[0m \u001b[1m0s\u001b[0m 18ms/step - accuracy: 0.8085 - auc: 0.6940 - loss: 0.6652 - precision: 0.1987 - recall: 0.4228 - val_accuracy: 0.8551 - val_auc: 0.6298 - val_loss: 0.6964 - val_precision: 0.2000 - val_recall: 0.0588 - learning_rate: 0.0010\n",
            "Epoch 8/100\n",
            "\u001b[1m17/21\u001b[0m \u001b[32m━━━━━━━━━━━━━━━━\u001b[0m\u001b[37m━━━━\u001b[0m \u001b[1m0s\u001b[0m 10ms/step - accuracy: 0.8583 - auc: 0.7922 - loss: 0.6170 - precision: 0.2749 - recall: 0.5506\n",
            "Epoch 8: val_loss improved from 0.69643 to 0.66628, saving model to best_model.h5\n"
          ]
        },
        {
          "output_type": "stream",
          "name": "stderr",
          "text": [
            "WARNING:absl:You are saving your model as an HDF5 file via `model.save()` or `keras.saving.save_model(model)`. This file format is considered legacy. We recommend using instead the native Keras format, e.g. `model.save('my_model.keras')` or `keras.saving.save_model(model, 'my_model.keras')`. \n"
          ]
        },
        {
          "output_type": "stream",
          "name": "stdout",
          "text": [
            "\b\b\b\b\b\b\b\b\b\b\b\b\b\b\b\b\b\b\b\b\b\b\b\b\b\b\b\b\b\b\b\b\b\b\b\b\b\b\b\b\b\b\b\b\b\b\b\b\b\b\b\b\b\b\b\b\b\b\b\b\b\b\b\b\b\b\b\b\b\b\b\b\b\b\b\b\b\b\b\b\b\b\b\b\b\b\b\b\b\b\b\b\b\b\b\b\b\b\b\b\b\b\b\b\b\b\b\b\b\b\b\b\b\b\b\b\b\b\b\b\b\b\b\b\r\u001b[1m21/21\u001b[0m \u001b[32m━━━━━━━━━━━━━━━━━━━━\u001b[0m\u001b[37m\u001b[0m \u001b[1m1s\u001b[0m 20ms/step - accuracy: 0.8530 - auc: 0.7898 - loss: 0.6149 - precision: 0.2690 - recall: 0.5340 - val_accuracy: 0.8623 - val_auc: 0.6585 - val_loss: 0.6663 - val_precision: 0.2500 - val_recall: 0.0588 - learning_rate: 0.0010\n",
            "Epoch 9/100\n",
            "\u001b[1m19/21\u001b[0m \u001b[32m━━━━━━━━━━━━━━━━━━\u001b[0m\u001b[37m━━\u001b[0m \u001b[1m0s\u001b[0m 9ms/step - accuracy: 0.8478 - auc: 0.7119 - loss: 0.6133 - precision: 0.2300 - recall: 0.3510\n",
            "Epoch 9: val_loss improved from 0.66628 to 0.59554, saving model to best_model.h5\n"
          ]
        },
        {
          "output_type": "stream",
          "name": "stderr",
          "text": [
            "WARNING:absl:You are saving your model as an HDF5 file via `model.save()` or `keras.saving.save_model(model)`. This file format is considered legacy. We recommend using instead the native Keras format, e.g. `model.save('my_model.keras')` or `keras.saving.save_model(model, 'my_model.keras')`. \n"
          ]
        },
        {
          "output_type": "stream",
          "name": "stdout",
          "text": [
            "\b\b\b\b\b\b\b\b\b\b\b\b\b\b\b\b\b\b\b\b\b\b\b\b\b\b\b\b\b\b\b\b\b\b\b\b\b\b\b\b\b\b\b\b\b\b\b\b\b\b\b\b\b\b\b\b\b\b\b\b\b\b\b\b\b\b\b\b\b\b\b\b\b\b\b\b\b\b\b\b\b\b\b\b\b\b\b\b\b\b\b\b\b\b\b\b\b\b\b\b\b\b\b\b\b\b\b\b\b\b\b\b\b\b\b\b\b\b\b\b\b\b\b\r\u001b[1m21/21\u001b[0m \u001b[32m━━━━━━━━━━━━━━━━━━━━\u001b[0m\u001b[37m\u001b[0m \u001b[1m1s\u001b[0m 18ms/step - accuracy: 0.8467 - auc: 0.7084 - loss: 0.6126 - precision: 0.2288 - recall: 0.3502 - val_accuracy: 0.8841 - val_auc: 0.6441 - val_loss: 0.5955 - val_precision: 1.0000 - val_recall: 0.0588 - learning_rate: 0.0010\n",
            "Epoch 10/100\n",
            "\u001b[1m19/21\u001b[0m \u001b[32m━━━━━━━━━━━━━━━━━━\u001b[0m\u001b[37m━━\u001b[0m \u001b[1m0s\u001b[0m 9ms/step - accuracy: 0.8557 - auc: 0.7388 - loss: 0.5685 - precision: 0.3227 - recall: 0.4558\n",
            "Epoch 10: val_loss improved from 0.59554 to 0.56659, saving model to best_model.h5\n"
          ]
        },
        {
          "output_type": "stream",
          "name": "stderr",
          "text": [
            "WARNING:absl:You are saving your model as an HDF5 file via `model.save()` or `keras.saving.save_model(model)`. This file format is considered legacy. We recommend using instead the native Keras format, e.g. `model.save('my_model.keras')` or `keras.saving.save_model(model, 'my_model.keras')`. \n"
          ]
        },
        {
          "output_type": "stream",
          "name": "stdout",
          "text": [
            "\b\b\b\b\b\b\b\b\b\b\b\b\b\b\b\b\b\b\b\b\b\b\b\b\b\b\b\b\b\b\b\b\b\b\b\b\b\b\b\b\b\b\b\b\b\b\b\b\b\b\b\b\b\b\b\b\b\b\b\b\b\b\b\b\b\b\b\b\b\b\b\b\b\b\b\b\b\b\b\b\b\b\b\b\b\b\b\b\b\b\b\b\b\b\b\b\b\b\b\b\b\b\b\b\b\b\b\b\b\b\b\b\b\b\b\b\b\b\b\b\b\b\b\r\u001b[1m21/21\u001b[0m \u001b[32m━━━━━━━━━━━━━━━━━━━━\u001b[0m\u001b[37m\u001b[0m \u001b[1m0s\u001b[0m 19ms/step - accuracy: 0.8556 - auc: 0.7333 - loss: 0.5686 - precision: 0.3128 - recall: 0.4407 - val_accuracy: 0.8913 - val_auc: 0.7120 - val_loss: 0.5666 - val_precision: 1.0000 - val_recall: 0.1176 - learning_rate: 0.0010\n",
            "Epoch 11/100\n",
            "\u001b[1m18/21\u001b[0m \u001b[32m━━━━━━━━━━━━━━━━━\u001b[0m\u001b[37m━━━\u001b[0m \u001b[1m0s\u001b[0m 10ms/step - accuracy: 0.8574 - auc: 0.6930 - loss: 0.5557 - precision: 0.2155 - recall: 0.2813\n",
            "Epoch 11: val_loss improved from 0.56659 to 0.56460, saving model to best_model.h5\n"
          ]
        },
        {
          "output_type": "stream",
          "name": "stderr",
          "text": [
            "WARNING:absl:You are saving your model as an HDF5 file via `model.save()` or `keras.saving.save_model(model)`. This file format is considered legacy. We recommend using instead the native Keras format, e.g. `model.save('my_model.keras')` or `keras.saving.save_model(model, 'my_model.keras')`. \n"
          ]
        },
        {
          "output_type": "stream",
          "name": "stdout",
          "text": [
            "\b\b\b\b\b\b\b\b\b\b\b\b\b\b\b\b\b\b\b\b\b\b\b\b\b\b\b\b\b\b\b\b\b\b\b\b\b\b\b\b\b\b\b\b\b\b\b\b\b\b\b\b\b\b\b\b\b\b\b\b\b\b\b\b\b\b\b\b\b\b\b\b\b\b\b\b\b\b\b\b\b\b\b\b\b\b\b\b\b\b\b\b\b\b\b\b\b\b\b\b\b\b\b\b\b\b\b\b\b\b\b\b\b\b\b\b\b\b\b\b\b\b\b\b\r\u001b[1m21/21\u001b[0m \u001b[32m━━━━━━━━━━━━━━━━━━━━\u001b[0m\u001b[37m\u001b[0m \u001b[1m1s\u001b[0m 18ms/step - accuracy: 0.8571 - auc: 0.6928 - loss: 0.5548 - precision: 0.2155 - recall: 0.2794 - val_accuracy: 0.8913 - val_auc: 0.6558 - val_loss: 0.5646 - val_precision: 1.0000 - val_recall: 0.1176 - learning_rate: 0.0010\n",
            "Epoch 12/100\n",
            "\u001b[1m18/21\u001b[0m \u001b[32m━━━━━━━━━━━━━━━━━\u001b[0m\u001b[37m━━━\u001b[0m \u001b[1m0s\u001b[0m 10ms/step - accuracy: 0.8870 - auc: 0.6620 - loss: 0.5195 - precision: 0.2575 - recall: 0.2165\n",
            "Epoch 12: val_loss improved from 0.56460 to 0.50151, saving model to best_model.h5\n"
          ]
        },
        {
          "output_type": "stream",
          "name": "stderr",
          "text": [
            "WARNING:absl:You are saving your model as an HDF5 file via `model.save()` or `keras.saving.save_model(model)`. This file format is considered legacy. We recommend using instead the native Keras format, e.g. `model.save('my_model.keras')` or `keras.saving.save_model(model, 'my_model.keras')`. \n"
          ]
        },
        {
          "output_type": "stream",
          "name": "stdout",
          "text": [
            "\b\b\b\b\b\b\b\b\b\b\b\b\b\b\b\b\b\b\b\b\b\b\b\b\b\b\b\b\b\b\b\b\b\b\b\b\b\b\b\b\b\b\b\b\b\b\b\b\b\b\b\b\b\b\b\b\b\b\b\b\b\b\b\b\b\b\b\b\b\b\b\b\b\b\b\b\b\b\b\b\b\b\b\b\b\b\b\b\b\b\b\b\b\b\b\b\b\b\b\b\b\b\b\b\b\b\b\b\b\b\b\b\b\b\b\b\b\b\b\b\b\b\b\b\r\u001b[1m21/21\u001b[0m \u001b[32m━━━━━━━━━━━━━━━━━━━━\u001b[0m\u001b[37m\u001b[0m \u001b[1m0s\u001b[0m 18ms/step - accuracy: 0.8869 - auc: 0.6785 - loss: 0.5166 - precision: 0.2632 - recall: 0.2217 - val_accuracy: 0.8913 - val_auc: 0.7581 - val_loss: 0.5015 - val_precision: 1.0000 - val_recall: 0.1176 - learning_rate: 0.0010\n",
            "Epoch 13/100\n",
            "\u001b[1m18/21\u001b[0m \u001b[32m━━━━━━━━━━━━━━━━━\u001b[0m\u001b[37m━━━\u001b[0m \u001b[1m0s\u001b[0m 10ms/step - accuracy: 0.8985 - auc: 0.7893 - loss: 0.4704 - precision: 0.3964 - recall: 0.4123\n",
            "Epoch 13: val_loss did not improve from 0.50151\n",
            "\u001b[1m21/21\u001b[0m \u001b[32m━━━━━━━━━━━━━━━━━━━━\u001b[0m\u001b[37m\u001b[0m \u001b[1m1s\u001b[0m 14ms/step - accuracy: 0.8978 - auc: 0.7820 - loss: 0.4727 - precision: 0.3925 - recall: 0.3990 - val_accuracy: 0.8841 - val_auc: 0.7073 - val_loss: 0.5108 - val_precision: 0.6667 - val_recall: 0.1176 - learning_rate: 0.0010\n",
            "Epoch 14/100\n",
            "\u001b[1m18/21\u001b[0m \u001b[32m━━━━━━━━━━━━━━━━━\u001b[0m\u001b[37m━━━\u001b[0m \u001b[1m0s\u001b[0m 9ms/step - accuracy: 0.9077 - auc: 0.8085 - loss: 0.4577 - precision: 0.5284 - recall: 0.3628\n",
            "Epoch 14: val_loss improved from 0.50151 to 0.46749, saving model to best_model.h5\n"
          ]
        },
        {
          "output_type": "stream",
          "name": "stderr",
          "text": [
            "WARNING:absl:You are saving your model as an HDF5 file via `model.save()` or `keras.saving.save_model(model)`. This file format is considered legacy. We recommend using instead the native Keras format, e.g. `model.save('my_model.keras')` or `keras.saving.save_model(model, 'my_model.keras')`. \n"
          ]
        },
        {
          "output_type": "stream",
          "name": "stdout",
          "text": [
            "\b\b\b\b\b\b\b\b\b\b\b\b\b\b\b\b\b\b\b\b\b\b\b\b\b\b\b\b\b\b\b\b\b\b\b\b\b\b\b\b\b\b\b\b\b\b\b\b\b\b\b\b\b\b\b\b\b\b\b\b\b\b\b\b\b\b\b\b\b\b\b\b\b\b\b\b\b\b\b\b\b\b\b\b\b\b\b\b\b\b\b\b\b\b\b\b\b\b\b\b\b\b\b\b\b\b\b\b\b\b\b\b\b\b\b\b\b\b\b\b\b\b\b\r\u001b[1m21/21\u001b[0m \u001b[32m━━━━━━━━━━━━━━━━━━━━\u001b[0m\u001b[37m\u001b[0m \u001b[1m0s\u001b[0m 18ms/step - accuracy: 0.9088 - auc: 0.8102 - loss: 0.4546 - precision: 0.5207 - recall: 0.3730 - val_accuracy: 0.8986 - val_auc: 0.8600 - val_loss: 0.4675 - val_precision: 1.0000 - val_recall: 0.1765 - learning_rate: 0.0010\n",
            "Epoch 15/100\n",
            "\u001b[1m19/21\u001b[0m \u001b[32m━━━━━━━━━━━━━━━━━━\u001b[0m\u001b[37m━━\u001b[0m \u001b[1m0s\u001b[0m 9ms/step - accuracy: 0.9177 - auc: 0.8513 - loss: 0.4099 - precision: 0.5532 - recall: 0.3159\n",
            "Epoch 15: val_loss did not improve from 0.46749\n",
            "\u001b[1m21/21\u001b[0m \u001b[32m━━━━━━━━━━━━━━━━━━━━\u001b[0m\u001b[37m\u001b[0m \u001b[1m1s\u001b[0m 15ms/step - accuracy: 0.9182 - auc: 0.8497 - loss: 0.4098 - precision: 0.5538 - recall: 0.3249 - val_accuracy: 0.8986 - val_auc: 0.8675 - val_loss: 0.4677 - val_precision: 0.8000 - val_recall: 0.2353 - learning_rate: 0.0010\n",
            "Epoch 16/100\n",
            "\u001b[1m18/21\u001b[0m \u001b[32m━━━━━━━━━━━━━━━━━\u001b[0m\u001b[37m━━━\u001b[0m \u001b[1m0s\u001b[0m 9ms/step - accuracy: 0.9004 - auc: 0.8017 - loss: 0.4293 - precision: 0.5183 - recall: 0.2938 \n",
            "Epoch 16: val_loss improved from 0.46749 to 0.43611, saving model to best_model.h5\n"
          ]
        },
        {
          "output_type": "stream",
          "name": "stderr",
          "text": [
            "WARNING:absl:You are saving your model as an HDF5 file via `model.save()` or `keras.saving.save_model(model)`. This file format is considered legacy. We recommend using instead the native Keras format, e.g. `model.save('my_model.keras')` or `keras.saving.save_model(model, 'my_model.keras')`. \n"
          ]
        },
        {
          "output_type": "stream",
          "name": "stdout",
          "text": [
            "\b\b\b\b\b\b\b\b\b\b\b\b\b\b\b\b\b\b\b\b\b\b\b\b\b\b\b\b\b\b\b\b\b\b\b\b\b\b\b\b\b\b\b\b\b\b\b\b\b\b\b\b\b\b\b\b\b\b\b\b\b\b\b\b\b\b\b\b\b\b\b\b\b\b\b\b\b\b\b\b\b\b\b\b\b\b\b\b\b\b\b\b\b\b\b\b\b\b\b\b\b\b\b\b\b\b\b\b\b\b\b\b\b\b\b\b\b\b\b\b\b\b\b\r\u001b[1m21/21\u001b[0m \u001b[32m━━━━━━━━━━━━━━━━━━━━\u001b[0m\u001b[37m\u001b[0m \u001b[1m1s\u001b[0m 19ms/step - accuracy: 0.9030 - auc: 0.8072 - loss: 0.4245 - precision: 0.5144 - recall: 0.3094 - val_accuracy: 0.8841 - val_auc: 0.8140 - val_loss: 0.4361 - val_precision: 1.0000 - val_recall: 0.0588 - learning_rate: 0.0010\n",
            "Epoch 17/100\n",
            "\u001b[1m21/21\u001b[0m \u001b[32m━━━━━━━━━━━━━━━━━━━━\u001b[0m\u001b[37m\u001b[0m \u001b[1m0s\u001b[0m 14ms/step - accuracy: 0.9193 - auc: 0.7989 - loss: 0.3933 - precision: 0.5564 - recall: 0.4559\n",
            "Epoch 17: val_loss did not improve from 0.43611\n",
            "\u001b[1m21/21\u001b[0m \u001b[32m━━━━━━━━━━━━━━━━━━━━\u001b[0m\u001b[37m\u001b[0m \u001b[1m0s\u001b[0m 20ms/step - accuracy: 0.9185 - auc: 0.7974 - loss: 0.3943 - precision: 0.5497 - recall: 0.4501 - val_accuracy: 0.8696 - val_auc: 0.7618 - val_loss: 0.4933 - val_precision: 0.4000 - val_recall: 0.1176 - learning_rate: 0.0010\n",
            "Epoch 18/100\n",
            "\u001b[1m21/21\u001b[0m \u001b[32m━━━━━━━━━━━━━━━━━━━━\u001b[0m\u001b[37m\u001b[0m \u001b[1m0s\u001b[0m 13ms/step - accuracy: 0.8994 - auc: 0.7218 - loss: 0.4246 - precision: 0.3399 - recall: 0.2418\n",
            "Epoch 18: val_loss improved from 0.43611 to 0.41393, saving model to best_model.h5\n"
          ]
        },
        {
          "output_type": "stream",
          "name": "stderr",
          "text": [
            "WARNING:absl:You are saving your model as an HDF5 file via `model.save()` or `keras.saving.save_model(model)`. This file format is considered legacy. We recommend using instead the native Keras format, e.g. `model.save('my_model.keras')` or `keras.saving.save_model(model, 'my_model.keras')`. \n"
          ]
        },
        {
          "output_type": "stream",
          "name": "stdout",
          "text": [
            "\b\b\b\b\b\b\b\b\b\b\b\b\b\b\b\b\b\b\b\b\b\b\b\b\b\b\b\b\b\b\b\b\b\b\b\b\b\b\b\b\b\b\b\b\b\b\b\b\b\b\b\b\b\b\b\b\b\b\b\b\b\b\b\b\b\b\b\b\b\b\b\b\b\b\b\b\b\b\b\b\b\b\b\b\b\b\b\b\b\b\b\b\b\b\b\b\b\b\b\b\b\b\b\b\b\b\b\b\b\b\b\b\b\b\b\b\b\b\b\b\b\b\b\b\r\u001b[1m21/21\u001b[0m \u001b[32m━━━━━━━━━━━━━━━━━━━━\u001b[0m\u001b[37m\u001b[0m \u001b[1m1s\u001b[0m 30ms/step - accuracy: 0.9000 - auc: 0.7246 - loss: 0.4236 - precision: 0.3460 - recall: 0.2465 - val_accuracy: 0.8841 - val_auc: 0.8930 - val_loss: 0.4139 - val_precision: 1.0000 - val_recall: 0.0588 - learning_rate: 0.0010\n",
            "Epoch 19/100\n",
            "\u001b[1m20/21\u001b[0m \u001b[32m━━━━━━━━━━━━━━━━━━━\u001b[0m\u001b[37m━\u001b[0m \u001b[1m0s\u001b[0m 15ms/step - accuracy: 0.9323 - auc: 0.8908 - loss: 0.3461 - precision: 0.6905 - recall: 0.4224\n",
            "Epoch 19: val_loss improved from 0.41393 to 0.38455, saving model to best_model.h5\n"
          ]
        },
        {
          "output_type": "stream",
          "name": "stderr",
          "text": [
            "WARNING:absl:You are saving your model as an HDF5 file via `model.save()` or `keras.saving.save_model(model)`. This file format is considered legacy. We recommend using instead the native Keras format, e.g. `model.save('my_model.keras')` or `keras.saving.save_model(model, 'my_model.keras')`. \n"
          ]
        },
        {
          "output_type": "stream",
          "name": "stdout",
          "text": [
            "\b\b\b\b\b\b\b\b\b\b\b\b\b\b\b\b\b\b\b\b\b\b\b\b\b\b\b\b\b\b\b\b\b\b\b\b\b\b\b\b\b\b\b\b\b\b\b\b\b\b\b\b\b\b\b\b\b\b\b\b\b\b\b\b\b\b\b\b\b\b\b\b\b\b\b\b\b\b\b\b\b\b\b\b\b\b\b\b\b\b\b\b\b\b\b\b\b\b\b\b\b\b\b\b\b\b\b\b\b\b\b\b\b\b\b\b\b\b\b\b\b\b\b\b\r\u001b[1m21/21\u001b[0m \u001b[32m━━━━━━━━━━━━━━━━━━━━\u001b[0m\u001b[37m\u001b[0m \u001b[1m1s\u001b[0m 27ms/step - accuracy: 0.9322 - auc: 0.8901 - loss: 0.3461 - precision: 0.6852 - recall: 0.4237 - val_accuracy: 0.9058 - val_auc: 0.8945 - val_loss: 0.3845 - val_precision: 1.0000 - val_recall: 0.2353 - learning_rate: 0.0010\n",
            "Epoch 20/100\n",
            "\u001b[1m20/21\u001b[0m \u001b[32m━━━━━━━━━━━━━━━━━━━\u001b[0m\u001b[37m━\u001b[0m \u001b[1m0s\u001b[0m 16ms/step - accuracy: 0.9534 - auc: 0.8574 - loss: 0.3338 - precision: 0.7527 - recall: 0.6174\n",
            "Epoch 20: val_loss improved from 0.38455 to 0.37318, saving model to best_model.h5\n"
          ]
        },
        {
          "output_type": "stream",
          "name": "stderr",
          "text": [
            "WARNING:absl:You are saving your model as an HDF5 file via `model.save()` or `keras.saving.save_model(model)`. This file format is considered legacy. We recommend using instead the native Keras format, e.g. `model.save('my_model.keras')` or `keras.saving.save_model(model, 'my_model.keras')`. \n"
          ]
        },
        {
          "output_type": "stream",
          "name": "stdout",
          "text": [
            "\b\b\b\b\b\b\b\b\b\b\b\b\b\b\b\b\b\b\b\b\b\b\b\b\b\b\b\b\b\b\b\b\b\b\b\b\b\b\b\b\b\b\b\b\b\b\b\b\b\b\b\b\b\b\b\b\b\b\b\b\b\b\b\b\b\b\b\b\b\b\b\b\b\b\b\b\b\b\b\b\b\b\b\b\b\b\b\b\b\b\b\b\b\b\b\b\b\b\b\b\b\b\b\b\b\b\b\b\b\b\b\b\b\b\b\b\b\b\b\b\b\b\b\b\r\u001b[1m21/21\u001b[0m \u001b[32m━━━━━━━━━━━━━━━━━━━━\u001b[0m\u001b[37m\u001b[0m \u001b[1m1s\u001b[0m 28ms/step - accuracy: 0.9527 - auc: 0.8577 - loss: 0.3340 - precision: 0.7525 - recall: 0.6109 - val_accuracy: 0.8913 - val_auc: 0.9161 - val_loss: 0.3732 - val_precision: 1.0000 - val_recall: 0.1176 - learning_rate: 0.0010\n",
            "Epoch 21/100\n",
            "\u001b[1m19/21\u001b[0m \u001b[32m━━━━━━━━━━━━━━━━━━\u001b[0m\u001b[37m━━\u001b[0m \u001b[1m0s\u001b[0m 16ms/step - accuracy: 0.9496 - auc: 0.8419 - loss: 0.3316 - precision: 0.8917 - recall: 0.5065\n",
            "Epoch 21: val_loss did not improve from 0.37318\n",
            "\u001b[1m21/21\u001b[0m \u001b[32m━━━━━━━━━━━━━━━━━━━━\u001b[0m\u001b[37m\u001b[0m \u001b[1m1s\u001b[0m 26ms/step - accuracy: 0.9486 - auc: 0.8424 - loss: 0.3314 - precision: 0.8744 - recall: 0.5019 - val_accuracy: 0.8913 - val_auc: 0.8469 - val_loss: 0.4131 - val_precision: 1.0000 - val_recall: 0.1176 - learning_rate: 0.0010\n",
            "Epoch 22/100\n",
            "\u001b[1m20/21\u001b[0m \u001b[32m━━━━━━━━━━━━━━━━━━━\u001b[0m\u001b[37m━\u001b[0m \u001b[1m0s\u001b[0m 12ms/step - accuracy: 0.9266 - auc: 0.7825 - loss: 0.3717 - precision: 0.7312 - recall: 0.3486\n",
            "Epoch 22: val_loss improved from 0.37318 to 0.36482, saving model to best_model.h5\n"
          ]
        },
        {
          "output_type": "stream",
          "name": "stderr",
          "text": [
            "WARNING:absl:You are saving your model as an HDF5 file via `model.save()` or `keras.saving.save_model(model)`. This file format is considered legacy. We recommend using instead the native Keras format, e.g. `model.save('my_model.keras')` or `keras.saving.save_model(model, 'my_model.keras')`. \n"
          ]
        },
        {
          "output_type": "stream",
          "name": "stdout",
          "text": [
            "\b\b\b\b\b\b\b\b\b\b\b\b\b\b\b\b\b\b\b\b\b\b\b\b\b\b\b\b\b\b\b\b\b\b\b\b\b\b\b\b\b\b\b\b\b\b\b\b\b\b\b\b\b\b\b\b\b\b\b\b\b\b\b\b\b\b\b\b\b\b\b\b\b\b\b\b\b\b\b\b\b\b\b\b\b\b\b\b\b\b\b\b\b\b\b\b\b\b\b\b\b\b\b\b\b\b\b\b\b\b\b\b\b\b\b\b\b\b\b\b\b\b\b\b\r\u001b[1m21/21\u001b[0m \u001b[32m━━━━━━━━━━━━━━━━━━━━\u001b[0m\u001b[37m\u001b[0m \u001b[1m0s\u001b[0m 20ms/step - accuracy: 0.9279 - auc: 0.7879 - loss: 0.3683 - precision: 0.7368 - recall: 0.3550 - val_accuracy: 0.9058 - val_auc: 0.9035 - val_loss: 0.3648 - val_precision: 1.0000 - val_recall: 0.2353 - learning_rate: 0.0010\n",
            "Epoch 23/100\n",
            "\u001b[1m19/21\u001b[0m \u001b[32m━━━━━━━━━━━━━━━━━━\u001b[0m\u001b[37m━━\u001b[0m \u001b[1m0s\u001b[0m 9ms/step - accuracy: 0.9608 - auc: 0.8747 - loss: 0.3080 - precision: 0.9093 - recall: 0.6083\n",
            "Epoch 23: val_loss did not improve from 0.36482\n",
            "\u001b[1m21/21\u001b[0m \u001b[32m━━━━━━━━━━━━━━━━━━━━\u001b[0m\u001b[37m\u001b[0m \u001b[1m0s\u001b[0m 14ms/step - accuracy: 0.9596 - auc: 0.8695 - loss: 0.3107 - precision: 0.8990 - recall: 0.5997 - val_accuracy: 0.9203 - val_auc: 0.8148 - val_loss: 0.3694 - val_precision: 1.0000 - val_recall: 0.3529 - learning_rate: 0.0010\n",
            "Epoch 24/100\n",
            "\u001b[1m18/21\u001b[0m \u001b[32m━━━━━━━━━━━━━━━━━\u001b[0m\u001b[37m━━━\u001b[0m \u001b[1m0s\u001b[0m 10ms/step - accuracy: 0.9456 - auc: 0.7923 - loss: 0.3240 - precision: 0.7953 - recall: 0.3399\n",
            "Epoch 24: val_loss improved from 0.36482 to 0.34362, saving model to best_model.h5\n"
          ]
        },
        {
          "output_type": "stream",
          "name": "stderr",
          "text": [
            "WARNING:absl:You are saving your model as an HDF5 file via `model.save()` or `keras.saving.save_model(model)`. This file format is considered legacy. We recommend using instead the native Keras format, e.g. `model.save('my_model.keras')` or `keras.saving.save_model(model, 'my_model.keras')`. \n"
          ]
        },
        {
          "output_type": "stream",
          "name": "stdout",
          "text": [
            "\b\b\b\b\b\b\b\b\b\b\b\b\b\b\b\b\b\b\b\b\b\b\b\b\b\b\b\b\b\b\b\b\b\b\b\b\b\b\b\b\b\b\b\b\b\b\b\b\b\b\b\b\b\b\b\b\b\b\b\b\b\b\b\b\b\b\b\b\b\b\b\b\b\b\b\b\b\b\b\b\b\b\b\b\b\b\b\b\b\b\b\b\b\b\b\b\b\b\b\b\b\b\b\b\b\b\b\b\b\b\b\b\b\b\b\b\b\b\b\b\b\b\b\b\r\u001b[1m21/21\u001b[0m \u001b[32m━━━━━━━━━━━━━━━━━━━━\u001b[0m\u001b[37m\u001b[0m \u001b[1m0s\u001b[0m 22ms/step - accuracy: 0.9448 - auc: 0.7970 - loss: 0.3248 - precision: 0.7997 - recall: 0.3501 - val_accuracy: 0.9348 - val_auc: 0.8607 - val_loss: 0.3436 - val_precision: 1.0000 - val_recall: 0.4706 - learning_rate: 0.0010\n",
            "Epoch 25/100\n",
            "\u001b[1m21/21\u001b[0m \u001b[32m━━━━━━━━━━━━━━━━━━━━\u001b[0m\u001b[37m\u001b[0m \u001b[1m0s\u001b[0m 14ms/step - accuracy: 0.9482 - auc: 0.9202 - loss: 0.2886 - precision: 0.7232 - recall: 0.6077\n",
            "Epoch 25: val_loss improved from 0.34362 to 0.29651, saving model to best_model.h5\n"
          ]
        },
        {
          "output_type": "stream",
          "name": "stderr",
          "text": [
            "WARNING:absl:You are saving your model as an HDF5 file via `model.save()` or `keras.saving.save_model(model)`. This file format is considered legacy. We recommend using instead the native Keras format, e.g. `model.save('my_model.keras')` or `keras.saving.save_model(model, 'my_model.keras')`. \n"
          ]
        },
        {
          "output_type": "stream",
          "name": "stdout",
          "text": [
            "\b\b\b\b\b\b\b\b\b\b\b\b\b\b\b\b\b\b\b\b\b\b\b\b\b\b\b\b\b\b\b\b\b\b\b\b\b\b\b\b\b\b\b\b\b\b\b\b\b\b\b\b\b\b\b\b\b\b\b\b\b\b\b\b\b\b\b\b\b\b\b\b\b\b\b\b\b\b\b\b\b\b\b\b\b\b\b\b\b\b\b\b\b\b\b\b\b\b\b\b\b\b\b\b\b\b\b\b\b\b\b\b\b\b\b\b\b\b\b\b\b\b\b\b\r\u001b[1m21/21\u001b[0m \u001b[32m━━━━━━━━━━━━━━━━━━━━\u001b[0m\u001b[37m\u001b[0m \u001b[1m1s\u001b[0m 26ms/step - accuracy: 0.9483 - auc: 0.9199 - loss: 0.2887 - precision: 0.7246 - recall: 0.6082 - val_accuracy: 0.9493 - val_auc: 0.9183 - val_loss: 0.2965 - val_precision: 1.0000 - val_recall: 0.5882 - learning_rate: 0.0010\n",
            "Epoch 26/100\n",
            "\u001b[1m21/21\u001b[0m \u001b[32m━━━━━━━━━━━━━━━━━━━━\u001b[0m\u001b[37m\u001b[0m \u001b[1m0s\u001b[0m 14ms/step - accuracy: 0.9271 - auc: 0.8870 - loss: 0.3175 - precision: 0.6854 - recall: 0.4636\n",
            "Epoch 26: val_loss did not improve from 0.29651\n",
            "\u001b[1m21/21\u001b[0m \u001b[32m━━━━━━━━━━━━━━━━━━━━\u001b[0m\u001b[37m\u001b[0m \u001b[1m0s\u001b[0m 21ms/step - accuracy: 0.9278 - auc: 0.8880 - loss: 0.3169 - precision: 0.6864 - recall: 0.4665 - val_accuracy: 0.9420 - val_auc: 0.8994 - val_loss: 0.3027 - val_precision: 1.0000 - val_recall: 0.5294 - learning_rate: 0.0010\n",
            "Epoch 27/100\n",
            "\u001b[1m21/21\u001b[0m \u001b[32m━━━━━━━━━━━━━━━━━━━━\u001b[0m\u001b[37m\u001b[0m \u001b[1m0s\u001b[0m 15ms/step - accuracy: 0.9586 - auc: 0.8612 - loss: 0.2791 - precision: 0.8788 - recall: 0.5746\n",
            "Epoch 27: val_loss did not improve from 0.29651\n",
            "\u001b[1m21/21\u001b[0m \u001b[32m━━━━━━━━━━━━━━━━━━━━\u001b[0m\u001b[37m\u001b[0m \u001b[1m1s\u001b[0m 21ms/step - accuracy: 0.9583 - auc: 0.8623 - loss: 0.2794 - precision: 0.8762 - recall: 0.5749 - val_accuracy: 0.9493 - val_auc: 0.8316 - val_loss: 0.3135 - val_precision: 1.0000 - val_recall: 0.5882 - learning_rate: 0.0010\n",
            "Epoch 28/100\n",
            "\u001b[1m20/21\u001b[0m \u001b[32m━━━━━━━━━━━━━━━━━━━\u001b[0m\u001b[37m━\u001b[0m \u001b[1m0s\u001b[0m 15ms/step - accuracy: 0.9511 - auc: 0.9343 - loss: 0.2615 - precision: 0.7826 - recall: 0.5679\n",
            "Epoch 28: val_loss did not improve from 0.29651\n",
            "\u001b[1m21/21\u001b[0m \u001b[32m━━━━━━━━━━━━━━━━━━━━\u001b[0m\u001b[37m\u001b[0m \u001b[1m1s\u001b[0m 22ms/step - accuracy: 0.9508 - auc: 0.9315 - loss: 0.2630 - precision: 0.7827 - recall: 0.5642 - val_accuracy: 0.8986 - val_auc: 0.7414 - val_loss: 0.4407 - val_precision: 1.0000 - val_recall: 0.1765 - learning_rate: 0.0010\n",
            "Epoch 29/100\n",
            "\u001b[1m16/21\u001b[0m \u001b[32m━━━━━━━━━━━━━━━\u001b[0m\u001b[37m━━━━━\u001b[0m \u001b[1m0s\u001b[0m 15ms/step - accuracy: 0.9354 - auc: 0.7245 - loss: 0.3443 - precision: 0.8879 - recall: 0.1753\n",
            "Epoch 29: val_loss did not improve from 0.29651\n",
            "\u001b[1m21/21\u001b[0m \u001b[32m━━━━━━━━━━━━━━━━━━━━\u001b[0m\u001b[37m\u001b[0m \u001b[1m0s\u001b[0m 18ms/step - accuracy: 0.9355 - auc: 0.7405 - loss: 0.3410 - precision: 0.8789 - recall: 0.2050 - val_accuracy: 0.9420 - val_auc: 0.8422 - val_loss: 0.3246 - val_precision: 1.0000 - val_recall: 0.5294 - learning_rate: 0.0010\n",
            "Epoch 30/100\n",
            "\u001b[1m19/21\u001b[0m \u001b[32m━━━━━━━━━━━━━━━━━━\u001b[0m\u001b[37m━━\u001b[0m \u001b[1m0s\u001b[0m 9ms/step - accuracy: 0.9393 - auc: 0.8685 - loss: 0.3049 - precision: 0.6556 - recall: 0.5013\n",
            "Epoch 30: val_loss improved from 0.29651 to 0.29295, saving model to best_model.h5\n"
          ]
        },
        {
          "output_type": "stream",
          "name": "stderr",
          "text": [
            "WARNING:absl:You are saving your model as an HDF5 file via `model.save()` or `keras.saving.save_model(model)`. This file format is considered legacy. We recommend using instead the native Keras format, e.g. `model.save('my_model.keras')` or `keras.saving.save_model(model, 'my_model.keras')`. \n"
          ]
        },
        {
          "output_type": "stream",
          "name": "stdout",
          "text": [
            "\b\b\b\b\b\b\b\b\b\b\b\b\b\b\b\b\b\b\b\b\b\b\b\b\b\b\b\b\b\b\b\b\b\b\b\b\b\b\b\b\b\b\b\b\b\b\b\b\b\b\b\b\b\b\b\b\b\b\b\b\b\b\b\b\b\b\b\b\b\b\b\b\b\b\b\b\b\b\b\b\b\b\b\b\b\b\b\b\b\b\b\b\b\b\b\b\b\b\b\b\b\b\b\b\b\b\b\b\b\b\b\b\b\b\b\b\b\b\b\b\b\b\b\r\u001b[1m21/21\u001b[0m \u001b[32m━━━━━━━━━━━━━━━━━━━━\u001b[0m\u001b[37m\u001b[0m \u001b[1m0s\u001b[0m 19ms/step - accuracy: 0.9410 - auc: 0.8684 - loss: 0.3031 - precision: 0.6772 - recall: 0.5094 - val_accuracy: 0.9565 - val_auc: 0.8561 - val_loss: 0.2929 - val_precision: 1.0000 - val_recall: 0.6471 - learning_rate: 0.0010\n",
            "Epoch 31/100\n",
            "\u001b[1m19/21\u001b[0m \u001b[32m━━━━━━━━━━━━━━━━━━\u001b[0m\u001b[37m━━\u001b[0m \u001b[1m0s\u001b[0m 9ms/step - accuracy: 0.9584 - auc: 0.9182 - loss: 0.2542 - precision: 0.8837 - recall: 0.5997\n",
            "Epoch 31: val_loss did not improve from 0.29295\n",
            "\u001b[1m21/21\u001b[0m \u001b[32m━━━━━━━━━━━━━━━━━━━━\u001b[0m\u001b[37m\u001b[0m \u001b[1m0s\u001b[0m 14ms/step - accuracy: 0.9575 - auc: 0.9156 - loss: 0.2566 - precision: 0.8768 - recall: 0.5923 - val_accuracy: 0.9420 - val_auc: 0.8741 - val_loss: 0.3038 - val_precision: 1.0000 - val_recall: 0.5294 - learning_rate: 0.0010\n",
            "Epoch 32/100\n",
            "\u001b[1m17/21\u001b[0m \u001b[32m━━━━━━━━━━━━━━━━\u001b[0m\u001b[37m━━━━\u001b[0m \u001b[1m0s\u001b[0m 10ms/step - accuracy: 0.9507 - auc: 0.8765 - loss: 0.2672 - precision: 0.7037 - recall: 0.5508\n",
            "Epoch 32: val_loss did not improve from 0.29295\n",
            "\u001b[1m21/21\u001b[0m \u001b[32m━━━━━━━━━━━━━━━━━━━━\u001b[0m\u001b[37m\u001b[0m \u001b[1m0s\u001b[0m 14ms/step - accuracy: 0.9505 - auc: 0.8822 - loss: 0.2673 - precision: 0.7259 - recall: 0.5478 - val_accuracy: 0.8841 - val_auc: 0.3354 - val_loss: 0.8389 - val_precision: 1.0000 - val_recall: 0.0588 - learning_rate: 0.0010\n",
            "Epoch 33/100\n",
            "\u001b[1m19/21\u001b[0m \u001b[32m━━━━━━━━━━━━━━━━━━\u001b[0m\u001b[37m━━\u001b[0m \u001b[1m0s\u001b[0m 9ms/step - accuracy: 0.8927 - auc: 0.7848 - loss: 0.3922 - precision: 0.3870 - recall: 0.3020\n",
            "Epoch 33: val_loss did not improve from 0.29295\n",
            "\u001b[1m21/21\u001b[0m \u001b[32m━━━━━━━━━━━━━━━━━━━━\u001b[0m\u001b[37m\u001b[0m \u001b[1m1s\u001b[0m 14ms/step - accuracy: 0.8968 - auc: 0.7950 - loss: 0.3820 - precision: 0.4107 - recall: 0.3182 - val_accuracy: 0.9275 - val_auc: 0.7973 - val_loss: 0.4021 - val_precision: 1.0000 - val_recall: 0.4118 - learning_rate: 0.0010\n",
            "Epoch 34/100\n",
            "\u001b[1m19/21\u001b[0m \u001b[32m━━━━━━━━━━━━━━━━━━\u001b[0m\u001b[37m━━\u001b[0m \u001b[1m0s\u001b[0m 9ms/step - accuracy: 0.9588 - auc: 0.8792 - loss: 0.2653 - precision: 0.8705 - recall: 0.5947\n",
            "Epoch 34: val_loss improved from 0.29295 to 0.26728, saving model to best_model.h5\n"
          ]
        },
        {
          "output_type": "stream",
          "name": "stderr",
          "text": [
            "WARNING:absl:You are saving your model as an HDF5 file via `model.save()` or `keras.saving.save_model(model)`. This file format is considered legacy. We recommend using instead the native Keras format, e.g. `model.save('my_model.keras')` or `keras.saving.save_model(model, 'my_model.keras')`. \n"
          ]
        },
        {
          "output_type": "stream",
          "name": "stdout",
          "text": [
            "\b\b\b\b\b\b\b\b\b\b\b\b\b\b\b\b\b\b\b\b\b\b\b\b\b\b\b\b\b\b\b\b\b\b\b\b\b\b\b\b\b\b\b\b\b\b\b\b\b\b\b\b\b\b\b\b\b\b\b\b\b\b\b\b\b\b\b\b\b\b\b\b\b\b\b\b\b\b\b\b\b\b\b\b\b\b\b\b\b\b\b\b\b\b\b\b\b\b\b\b\b\b\b\b\b\b\b\b\b\b\b\b\b\b\b\b\b\b\b\b\b\b\b\r\u001b[1m21/21\u001b[0m \u001b[32m━━━━━━━━━━━━━━━━━━━━\u001b[0m\u001b[37m\u001b[0m \u001b[1m1s\u001b[0m 18ms/step - accuracy: 0.9583 - auc: 0.8794 - loss: 0.2659 - precision: 0.8754 - recall: 0.5860 - val_accuracy: 0.9638 - val_auc: 0.9215 - val_loss: 0.2673 - val_precision: 1.0000 - val_recall: 0.7059 - learning_rate: 0.0010\n",
            "Epoch 35/100\n",
            "\u001b[1m19/21\u001b[0m \u001b[32m━━━━━━━━━━━━━━━━━━\u001b[0m\u001b[37m━━\u001b[0m \u001b[1m0s\u001b[0m 9ms/step - accuracy: 0.9488 - auc: 0.8620 - loss: 0.2577 - precision: 0.7086 - recall: 0.5565\n",
            "Epoch 35: val_loss did not improve from 0.26728\n",
            "\u001b[1m21/21\u001b[0m \u001b[32m━━━━━━━━━━━━━━━━━━━━\u001b[0m\u001b[37m\u001b[0m \u001b[1m0s\u001b[0m 15ms/step - accuracy: 0.9471 - auc: 0.8666 - loss: 0.2615 - precision: 0.7083 - recall: 0.5401 - val_accuracy: 0.9565 - val_auc: 0.9118 - val_loss: 0.2782 - val_precision: 1.0000 - val_recall: 0.6471 - learning_rate: 0.0010\n",
            "Epoch 36/100\n",
            "\u001b[1m19/21\u001b[0m \u001b[32m━━━━━━━━━━━━━━━━━━\u001b[0m\u001b[37m━━\u001b[0m \u001b[1m0s\u001b[0m 9ms/step - accuracy: 0.9445 - auc: 0.9199 - loss: 0.2646 - precision: 0.8244 - recall: 0.4662\n",
            "Epoch 36: val_loss did not improve from 0.26728\n",
            "\u001b[1m21/21\u001b[0m \u001b[32m━━━━━━━━━━━━━━━━━━━━\u001b[0m\u001b[37m\u001b[0m \u001b[1m1s\u001b[0m 13ms/step - accuracy: 0.9450 - auc: 0.9182 - loss: 0.2655 - precision: 0.8196 - recall: 0.4770 - val_accuracy: 0.9420 - val_auc: 0.9088 - val_loss: 0.3344 - val_precision: 1.0000 - val_recall: 0.5294 - learning_rate: 0.0010\n",
            "Epoch 37/100\n",
            "\u001b[1m19/21\u001b[0m \u001b[32m━━━━━━━━━━━━━━━━━━\u001b[0m\u001b[37m━━\u001b[0m \u001b[1m0s\u001b[0m 9ms/step - accuracy: 0.9584 - auc: 0.8234 - loss: 0.2680 - precision: 0.7994 - recall: 0.5079\n",
            "Epoch 37: val_loss did not improve from 0.26728\n",
            "\u001b[1m21/21\u001b[0m \u001b[32m━━━━━━━━━━━━━━━━━━━━\u001b[0m\u001b[37m\u001b[0m \u001b[1m1s\u001b[0m 15ms/step - accuracy: 0.9582 - auc: 0.8310 - loss: 0.2684 - precision: 0.8094 - recall: 0.5180 - val_accuracy: 0.9493 - val_auc: 0.9123 - val_loss: 0.3019 - val_precision: 1.0000 - val_recall: 0.5882 - learning_rate: 0.0010\n",
            "Epoch 38/100\n",
            "\u001b[1m19/21\u001b[0m \u001b[32m━━━━━━━━━━━━━━━━━━\u001b[0m\u001b[37m━━\u001b[0m \u001b[1m0s\u001b[0m 9ms/step - accuracy: 0.9340 - auc: 0.8344 - loss: 0.3161 - precision: 0.8889 - recall: 0.4163\n",
            "Epoch 38: val_loss did not improve from 0.26728\n",
            "\u001b[1m21/21\u001b[0m \u001b[32m━━━━━━━━━━━━━━━━━━━━\u001b[0m\u001b[37m\u001b[0m \u001b[1m1s\u001b[0m 13ms/step - accuracy: 0.9343 - auc: 0.8267 - loss: 0.3175 - precision: 0.8836 - recall: 0.4017 - val_accuracy: 0.9058 - val_auc: 0.7214 - val_loss: 0.4615 - val_precision: 1.0000 - val_recall: 0.2353 - learning_rate: 0.0010\n",
            "Epoch 39/100\n",
            "\u001b[1m19/21\u001b[0m \u001b[32m━━━━━━━━━━━━━━━━━━\u001b[0m\u001b[37m━━\u001b[0m \u001b[1m0s\u001b[0m 9ms/step - accuracy: 0.9224 - auc: 0.7181 - loss: 0.3575 - precision: 0.7140 - recall: 0.2279\n",
            "Epoch 39: ReduceLROnPlateau reducing learning rate to 0.0005000000237487257.\n",
            "\n",
            "Epoch 39: val_loss did not improve from 0.26728\n",
            "\u001b[1m21/21\u001b[0m \u001b[32m━━━━━━━━━━━━━━━━━━━━\u001b[0m\u001b[37m\u001b[0m \u001b[1m0s\u001b[0m 14ms/step - accuracy: 0.9233 - auc: 0.7224 - loss: 0.3556 - precision: 0.7171 - recall: 0.2316 - val_accuracy: 0.9058 - val_auc: 0.7020 - val_loss: 0.4793 - val_precision: 1.0000 - val_recall: 0.2353 - learning_rate: 0.0010\n",
            "Epoch 40/100\n",
            "\u001b[1m19/21\u001b[0m \u001b[32m━━━━━━━━━━━━━━━━━━\u001b[0m\u001b[37m━━\u001b[0m \u001b[1m0s\u001b[0m 9ms/step - accuracy: 0.9417 - auc: 0.8438 - loss: 0.2921 - precision: 0.7917 - recall: 0.4271\n",
            "Epoch 40: val_loss did not improve from 0.26728\n",
            "\u001b[1m21/21\u001b[0m \u001b[32m━━━━━━━━━━━━━━━━━━━━\u001b[0m\u001b[37m\u001b[0m \u001b[1m1s\u001b[0m 15ms/step - accuracy: 0.9399 - auc: 0.8405 - loss: 0.2954 - precision: 0.7811 - recall: 0.4060 - val_accuracy: 0.8986 - val_auc: 0.6582 - val_loss: 0.5638 - val_precision: 1.0000 - val_recall: 0.1765 - learning_rate: 5.0000e-04\n",
            "Epoch 41/100\n",
            "\u001b[1m17/21\u001b[0m \u001b[32m━━━━━━━━━━━━━━━━\u001b[0m\u001b[37m━━━━\u001b[0m \u001b[1m0s\u001b[0m 10ms/step - accuracy: 0.9229 - auc: 0.8292 - loss: 0.3223 - precision: 0.7681 - recall: 0.3517\n",
            "Epoch 41: val_loss did not improve from 0.26728\n",
            "\u001b[1m21/21\u001b[0m \u001b[32m━━━━━━━━━━━━━━━━━━━━\u001b[0m\u001b[37m\u001b[0m \u001b[1m1s\u001b[0m 15ms/step - accuracy: 0.9250 - auc: 0.8309 - loss: 0.3179 - precision: 0.7677 - recall: 0.3412 - val_accuracy: 0.9058 - val_auc: 0.7944 - val_loss: 0.4685 - val_precision: 1.0000 - val_recall: 0.2353 - learning_rate: 5.0000e-04\n",
            "Epoch 42/100\n",
            "\u001b[1m17/21\u001b[0m \u001b[32m━━━━━━━━━━━━━━━━\u001b[0m\u001b[37m━━━━\u001b[0m \u001b[1m0s\u001b[0m 10ms/step - accuracy: 0.9414 - auc: 0.8540 - loss: 0.2870 - precision: 0.8314 - recall: 0.3604\n",
            "Epoch 42: val_loss did not improve from 0.26728\n",
            "\u001b[1m21/21\u001b[0m \u001b[32m━━━━━━━━━━━━━━━━━━━━\u001b[0m\u001b[37m\u001b[0m \u001b[1m1s\u001b[0m 14ms/step - accuracy: 0.9390 - auc: 0.8549 - loss: 0.2892 - precision: 0.8111 - recall: 0.3408 - val_accuracy: 0.9130 - val_auc: 0.7365 - val_loss: 0.5044 - val_precision: 1.0000 - val_recall: 0.2941 - learning_rate: 5.0000e-04\n",
            "Epoch 43/100\n",
            "\u001b[1m18/21\u001b[0m \u001b[32m━━━━━━━━━━━━━━━━━\u001b[0m\u001b[37m━━━\u001b[0m \u001b[1m0s\u001b[0m 10ms/step - accuracy: 0.9579 - auc: 0.9137 - loss: 0.2384 - precision: 0.9324 - recall: 0.4104\n",
            "Epoch 43: val_loss did not improve from 0.26728\n",
            "\u001b[1m21/21\u001b[0m \u001b[32m━━━━━━━━━━━━━━━━━━━━\u001b[0m\u001b[37m\u001b[0m \u001b[1m1s\u001b[0m 15ms/step - accuracy: 0.9558 - auc: 0.9108 - loss: 0.2426 - precision: 0.9227 - recall: 0.4106 - val_accuracy: 0.8986 - val_auc: 0.7309 - val_loss: 0.5050 - val_precision: 1.0000 - val_recall: 0.1765 - learning_rate: 5.0000e-04\n",
            "Epoch 44/100\n",
            "\u001b[1m19/21\u001b[0m \u001b[32m━━━━━━━━━━━━━━━━━━\u001b[0m\u001b[37m━━\u001b[0m \u001b[1m0s\u001b[0m 9ms/step - accuracy: 0.9193 - auc: 0.8601 - loss: 0.3187 - precision: 0.6554 - recall: 0.3008\n",
            "Epoch 44: ReduceLROnPlateau reducing learning rate to 0.0002500000118743628.\n",
            "\n",
            "Epoch 44: val_loss did not improve from 0.26728\n",
            "\u001b[1m21/21\u001b[0m \u001b[32m━━━━━━━━━━━━━━━━━━━━\u001b[0m\u001b[37m\u001b[0m \u001b[1m0s\u001b[0m 15ms/step - accuracy: 0.9206 - auc: 0.8622 - loss: 0.3147 - precision: 0.6540 - recall: 0.3094 - val_accuracy: 0.8986 - val_auc: 0.7795 - val_loss: 0.4598 - val_precision: 1.0000 - val_recall: 0.1765 - learning_rate: 5.0000e-04\n",
            "Epoch 44: early stopping\n",
            "Restoring model weights from the end of the best epoch: 34.\n",
            "\u001b[1m5/5\u001b[0m \u001b[32m━━━━━━━━━━━━━━━━━━━━\u001b[0m\u001b[37m\u001b[0m \u001b[1m0s\u001b[0m 56ms/step\n",
            "               precision    recall  f1-score   support\n",
            "\n",
            "No Recurrence       0.98      1.00      0.99       124\n",
            "   Recurrence       1.00      0.80      0.89        15\n",
            "\n",
            "     accuracy                           0.98       139\n",
            "    macro avg       0.99      0.90      0.94       139\n",
            " weighted avg       0.98      0.98      0.98       139\n",
            "\n"
          ]
        },
        {
          "output_type": "display_data",
          "data": {
            "text/plain": [
              "<Figure size 800x600 with 2 Axes>"
            ],
            "image/png": "[encoded data removed]"
          },
          "metadata": {}
        },
        {
          "output_type": "display_data",
          "data": {
            "text/plain": [
              "<Figure size 800x600 with 1 Axes>"
            ],
            "image/png": "[encoded data removed]"
          },
          "metadata": {}
        },
        {
          "output_type": "display_data",
          "data": {
            "text/plain": [
              "<Figure size 800x600 with 1 Axes>"
            ],
            "image/png": "[encoded data removed]"
          },
          "metadata": {}
        },
        {
          "output_type": "stream",
          "name": "stdout",
          "text": [
            "Final model performance:\n",
            "Accuracy: 0.9784\n",
            "AUC: 0.9376\n",
            "F1 Score: 0.9773\n"
          ]
        }
      ]
    }
  ]
}