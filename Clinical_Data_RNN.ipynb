{
  "nbformat": 4,
  "nbformat_minor": 0,
  "metadata": {
    "colab": {
      "provenance": [],
      "gpuType": "T4",
      "authorship_tag": "ABX9TyPtlVVvH7SojoUC8kkLOweW",
      "include_colab_link": true
    },
    "kernelspec": {
      "name": "python3",
      "display_name": "Python 3"
    },
    "language_info": {
      "name": "python"
    },
    "accelerator": "GPU"
  },
  "cells": [
    {
      "cell_type": "markdown",
      "metadata": {
        "id": "view-in-github",
        "colab_type": "text"
      },
      "source": [
        "<a href=\"https://colab.research.google.com/github/alexander-harmaty/Breast-Cancer-Prognosis-Prediction/blob/main/Clinical_Data_RNN.ipynb\" target=\"_parent\"><img src=\"https://colab.research.google.com/assets/colab-badge.svg\" alt=\"Open In Colab\"/></a>"
      ]
    },
    {
      "cell_type": "markdown",
      "source": [
        "# Environment Setup"
      ],
      "metadata": {
        "id": "X4jWesX_BBkN"
      }
    },
    {
      "cell_type": "code",
      "execution_count": 31,
      "metadata": {
        "colab": {
          "base_uri": "https://localhost:8080/"
        },
        "id": "jxaoLrIWTcu4",
        "outputId": "8c4d60e6-47fa-412b-de4d-5ea287842cc9"
      },
      "outputs": [
        {
          "output_type": "stream",
          "name": "stdout",
          "text": [
            "Drive already mounted at /content/drive; to attempt to forcibly remount, call drive.mount(\"/content/drive\", force_remount=True).\n",
            "/content/drive/My Drive/Breast_Cancer_Datasets\n"
          ]
        }
      ],
      "source": [
        "# Import tools and libraries\n",
        "import torch\n",
        "import torch.nn as nn\n",
        "import torch.optim as optim\n",
        "import tensorflow as tf\n",
        "from tensorflow import keras\n",
        "import numpy as np\n",
        "import pandas as pd\n",
        "import matplotlib.pyplot as plt\n",
        "\n",
        "# Mount dataset folder from Google Drive to environment\n",
        "from google.colab import drive\n",
        "drive.mount('/content/drive')\n",
        "%cd /content/drive/My\\ Drive/Breast_Cancer_Datasets/"
      ]
    },
    {
      "cell_type": "markdown",
      "source": [
        "# Data Preprocessing\n",
        "**data encoding is currently incomplete**"
      ],
      "metadata": {
        "id": "orrqr5RtBTS8"
      }
    },
    {
      "cell_type": "code",
      "source": [
        "# Function to merge multi-index headers to single index headers\n",
        "def merge_headers(col_tuple):\n",
        "\n",
        "    # Unpack the tuple: first-level and second-level names\n",
        "    first, second = col_tuple\n",
        "\n",
        "    # If newline characters exist, remove and replace with space\n",
        "    if isinstance(first, str):\n",
        "        first = first.replace('\\n', ' ').strip()\n",
        "    if isinstance(second, str):\n",
        "        second = second.replace('\\n', ' ').strip()\n",
        "\n",
        "    # If blank second-headers exist, return first-header only\n",
        "    if not second or 'Unnamed' in second:\n",
        "        return first\n",
        "    # Otherwise, return merged header\n",
        "    else:\n",
        "        return f\"{first} - {second}\""
      ],
      "metadata": {
        "id": "HesslGFqN2Br"
      },
      "execution_count": 32,
      "outputs": []
    },
    {
      "cell_type": "code",
      "source": [
        "# Load clinical dataset with a multi-index header\n",
        "file_path = 'Clinical_and_Other_Features.xlsx'\n",
        "clinical_df = pd.read_excel(file_path, header=[1, 2])\n",
        "\n",
        "# Drop the column at index 67. (col BP in .xlsx is a blank grouping divider)\n",
        "col_to_drop = clinical_df.columns[67]\n",
        "clinical_df = clinical_df.drop(columns=[col_to_drop])\n",
        "\n",
        "# Merge multi-index headers for all columns\n",
        "new_columns = [merge_headers(col) for col in clinical_df.columns]\n",
        "clinical_df.columns = new_columns\n",
        "\n",
        "# Test to check columns\n",
        "print(\"\\nList of columns with their indices:\")\n",
        "for idx, col in enumerate(clinical_df.columns.tolist()):\n",
        "    print(idx, col)"
      ],
      "metadata": {
        "colab": {
          "base_uri": "https://localhost:8080/"
        },
        "collapsed": true,
        "id": "PMAI1NtwbQYa",
        "outputId": "602ed00a-5b6f-430b-e988-8e5e1ae73983"
      },
      "execution_count": 33,
      "outputs": [
        {
          "output_type": "stream",
          "name": "stdout",
          "text": [
            "\n",
            "List of columns with their indices:\n",
            "0 Patient ID\n",
            "1 Days to MRI (From the Date of Diagnosis)\n",
            "2 Manufacturer - GE MEDICAL SYSTEMS=0, MPTronic software=1, SIEMENS=2\n",
            "3 Manufacturer Model Name - Avanto=0, Optima MR450w=1, SIGNA EXCITE=2, SIGNA HDx=3, Signa HDxt=4, Skyra=5, Trio=6, TrioTim=7\n",
            "4 Scan Options - FAST_GEMS\\SAT_GEMS\\ACC_GEMS\\PFP\\FS=0,FAST_GEMS\\SAT_GEMS\\MP_GEMS\\ACC_GEMS\\PFP\\FS=1,FAST_GEMS\\SAT_GEMS\\MP_GEMS\\PFP\\FS=2,FAST_GEMS\\SAT_GEMS\\PFP\\FS=3,FS=4,PFP\\FS=5,PFP\\SFS=6,SAT_GEMS\\PFP\\FS=7,SFS=8\n",
            "5 Field Strength (Tesla) - 1.494=0,1.5=1,2.8936=2,3=3\n",
            "6 Patient Position During MRI - FFP=0,HFP=1\n",
            "7 Image Position of Patient\n",
            "8 Contrast Agent - GADAVIST=0,MAGNEVIST=1,MMAGNEVIST=2,MULTIHANCE=3,Name of agent not stated(but ContrastBolusAgent tag was present)=4, ContrastBolusAgent Tag Absent = 5\n",
            "9 Contrast Bolus Volume (mL) - 6=0,7=1,8=2,9=3,10=4,11=5,11.88=6,12=7,13=8,13.6=9,14=10,14.5=11,15=12,16=13,17=14,18=15,19=16,20=17,25=18\n",
            "10 TR (Repetition Time)\n",
            "11 TE (Echo Time)\n",
            "12 Acquisition Matrix - 320 X 320=0,340 X 340=1,350 X 350=2,360 X 360=3,384 X 360=4,384 X 384=5,448 X 251=6,448 X 381=7,448 X 430=8,448 X 448=9,512 X 358=10\n",
            "13 Slice Thickness - 0.9=0,0.95=1,1=2,1.04=3,1.06=4,1.1=5,1.12=6,1.15=7,1.2=8,1.23=9,1.24=10,1.25=11,1.3=12,1.4=13,1.45=14,1.5=15,1.6=16,1.8=17,2=18,2.2=19,2.5=20\n",
            "14 Rows - 320=0,448=1,512=2\n",
            "15 Columns - 320=0,448=1,512=2\n",
            "16 Reconstruction Diameter - 260=0,270=1,280=2,290=3,300=4,305=5,310=6,320=7,330=8,340=9,350=10,360=11,370=12,380=13,390=14,400=15,410=16,420=17,430=18,480=19\n",
            "17 Flip Angle - 7=0,8=1,10=2,12=3\n",
            "18 FOV Computed (Field of View) in cm - 250=0,260=1,270=2,280=3,290=4,300=5,303=6,305=7,310=8,320=9,330=10,340=11,345=12,346=13,350=14,360=15,365=16,370=17,375=18,380=19,390=20,400=21,410=22,420=23,430=24,440=25,480=26\n",
            "19 Date of Birth (Days) - (Taking date of diagnosis as day 0) [Functional Check : numeric entries will be negative only, non-numeric ones will be NA or NC ]\n",
            "20 Menopause (at diagnosis) - {0 = pre, 1 = post, 2 = N/A}\n",
            "21 Race and Ethnicity - {0 = N/A 1 = white, 2 = black, 3 = asian, 4 = native, 5 = hispanic, 6 = multi, 7 = hawa,    8 = amer indian}\n",
            "22 Metastatic at Presentation (Outside of Lymph Nodes) - {0 = no 1 = yes}\n",
            "23 ER - {0 = neg, 1 = pos}\n",
            "24 PR - {0 = neg, 1 = pos}\n",
            "25 HER2 - {0 = neg, 1 = pos, 2 = borderline}\n",
            "26 Mol Subtype - {0 = luminal-like, 1 = ER/PR pos, HER2 pos, 2 = her2, 3 = trip neg}\n",
            "27 Oncotype score\n",
            "28 Staging(Tumor Size)# [T]\n",
            "29 Staging(Nodes)#(Nx replaced by -1)[N]\n",
            "30 Staging(Metastasis)#(Mx -replaced by -1)[M]\n",
            "31 Tumor Grade - Tumor Grade(T) (Tubule)\n",
            "32 Tumor Grade - Tumor Grade(N) (Nuclear)\n",
            "33 Tumor Grade - Tumor Grade(M) (Mitotic)\n",
            "34 Nottingham grade - 1=low 2=intermediate 3=high\n",
            "35 Histologic type - 0=DCIS 1=ductal 2=lobular 3=metaplastic 4=LCIS 5=tubular 6=mixed 7=micropapillary 8=colloid 9=mucinous 10=medullary\n",
            "36 Tumor Location - Side of cancer L=left R=right\n",
            "37 Position - Position (every bx positive for invasive cancer)(used during annotation)\n",
            "38 Bilateral Information - Bilateral breast cancer? { 0=no 1=yes}\n",
            "39 Bilateral Information - If Bilateral, Different Rec Status {0=no 1=yes}\n",
            "40 Bilateral Information - Side Annotated {L=left R=right}\n",
            "41 For Other Side If Bilateral - Side of cancer (for the other side) {L=left, R=right}\n",
            "42 For Other Side If Bilateral - Oncotype score (for the other side){##}\n",
            "43 For Other Side If Bilateral - Nottingham grade (for the other side){#}\n",
            "44 For Other Side If Bilateral - ER (for the other side) {0 = neg, 1 = pos}\n",
            "45 For Other Side If Bilateral - PR (for the other side) {0 = neg, 1 = pos}\n",
            "46 For Other Side If Bilateral - HER2 (for the other side) {0 = neg, 1 = pos, 2=borderline}\n",
            "47 For Other Side If Bilateral - Mol Subtype (for the other side) {0 = luminal-like, 1 = ER/PR pos, HER2 pos, 2 = her2, 3 = trip neg}\n",
            "48 Multicentric/Multifocal - {0 = no, 1 = yes}\n",
            "49 Contralateral Breast Involvement - {0 = no, 1 = yes}\n",
            "50 Lymphadenopathy or Suspicious Nodes - {0 = no, 1 = yes}\n",
            "51 Skin/Nipple Invovlement - {0 = no, 1 = yes}\n",
            "52 Pec/Chest Involvement - {0 = no, 1 = yes}\n",
            "53 Surgery - {0 = no,1 = yes}\n",
            "54 Days to Surgery (from the date of diagnosis)\n",
            "55 Definitive Surgery Type - {0=BCS, 1=mastectomy}\n",
            "56 Neoadjuvant Radiation Therapy - {0 = no, 1 = yes}\n",
            "57 Adjuvant Radiation Therapy - {0 = no, 1 = yes}\n",
            "58 Clinical Response, Evaluated Through Imaging - {1=complete response on imaging, 2=not complete response, 3=imaging to assess treatment response is unavailable, NA=no neoadjuvant therapy or not enough information to assess neoadjuvant therapy status}\n",
            "59 Pathologic Response to Neoadjuvant Therapy - {1=complete response, 2=not complete response, 3=DCIS only remaining, 4=LCIS only remaining, 5=treatment response assessment unavailable, NA=no neoadjuvant therapy or not enough information to assess neoadjuvant therapy status}\n",
            "60 Recurrence event(s) - {0 = no, 1 = yes}\n",
            "61 Days to local recurrence (from the date of diagnosis)\n",
            "62 Days to distant recurrence(from the date of diagnosis)\n",
            "63 Days to death (from the date of diagnosis)\n",
            "64 Days to last local recurrence free assessment (from the date of diagnosis)\n",
            "65 Days to last distant recurrence free assemssment(from the date of diagnosis)\n",
            "66 Age at last contact in EMR f/u(days)(from the date of diagnosis) ,last time patient known to be alive, unless age of death is reported(in such case the age of death\n",
            "67 Age at mammo (days)\n",
            "68 Breast Density - {0=heterogeneous, 1=scattered, 2=minimal, 3=moderate, 4=extremely, 5=predominantly fatty}\n",
            "69 Shape - {0=oval, 1=irregular, 2=lobular, 3=reniform, 4=stellate}\n",
            "70 Margin - {0=obscured, 2=spiculated, 3=indistinct/ill-defined, 4=circumscribed}\n",
            "71 Architectural distortion\n",
            "72 Mass Density\n",
            "73 Calcifications - {0=pleomorphic, 1=yes, 2=heterogeneous 3=microcalc 4=linear, 5=clustered, 6=amorphous, 7=branching}\n",
            "74 Tumor Size (cm)\n",
            "75 Shape - {0=oval, 1=irregular, 2=lobular}\n",
            "76 Margin - {0=obscured, 1=ill-defined, 2=spiculated, 3=indistinct, 4=circumscribed, 5=microlobulated, 6=angular, 7=irregular}\n",
            "77 Tumor Size (cm)\n",
            "78 Echogenicity - {0=hypoechoic, 1=hyperechoic, 2=isoechoic, 3=anechoic, 4=irregular, 5=mixed, 6=boundary}\n",
            "79 Solid\n",
            "80 Posterior acoustic shadowing\n",
            "81 Neoadjuvant Chemotherapy - {0 = no, 1 = yes}\n",
            "82 Adjuvant Chemotherapy - {0 = no, 1 = yes}\n",
            "83 Neoadjuvant Endocrine Therapy Medications - {0 = no, 1 = yes}\n",
            "84 Adjuvant Endocrine Therapy Medications - {0 = no, 1 = yes}\n",
            "85 Known Ovarian Status - {0 = no, 1 = yes}\n",
            "86 Number of Ovaries In Situ - {0 = no ovaries intact, 1 = 1 ovary intact, 2 = 2 ovaries intact, NP = not pertinent to this case}\n",
            "87 Therapeutic or Prophylactic Oophorectomy as part of Endocrine Therapy - {0 = no, 1 = yes, NP = not pertinent}\n",
            "88 Neoadjuvant Anti-Her2 Neu Therapy - {0 = no, 1 = yes}\n",
            "89 Adjuvant Anti-Her2 Neu Therapy - {0 = no, 1 = yes}\n",
            "90 Received Neoadjuvant Therapy or Not - {1 = yes, 2 = no, NA = not applicable}\n",
            "91 Pathologic response to Neoadjuvant therapy: Pathologic stage (T) following neoadjuvant therapy - { -1 = TX;  0 = T0;  1 = T1;  2 = T2;  3 = T3;  4 = T4;  5 = Tis (DCIS);  NA = not applicable}\n",
            "92 Pathologic response to Neoadjuvant therapy:  Pathologic stage (N) following neoadjuvant therapy - { -1 = NX;  0 = N0;  1 = N1;  2 = N2;  3 = N3; NA = not applicable}\n",
            "93 Pathologic response to Neoadjuvant therapy:  Pathologic stage (M) following neoadjuvant therapy - { -1 = MX;  0 = M0;  1 = M1;  NA = not applicable}\n",
            "94 Overall Near-complete Response:  Stricter Definition - {0 = not complete or near-complete, 1 = complete, 2 = near-complete, 3 = pathologic assessment not available, NA = not applicable}  *Strict definition of Near-complete includes the following definitions [from column QK \"Near complete response (graded measure)\"]: 2 = Near complete (pathology report noted results constituted near-complete response to NAT) 3 = No residual disease, only atypical ductal hyperplasia 4 = No invasive carcinoma, DCIS only 5 = No invasive carcinoma, LCIS only 6 = 90% reduction in tumor volume 7 = 95% reduction 18 = 99% of tumor obliterated but extensive residual DCIS\n",
            "95 Overall Near-complete Response:  Looser Definition - {0 = not complete or near-complete, 1 = complete, 2 = near-complete, 3 = pathologic assessment not available, NA = not applicable}  *Loose definition of Near-complete includes the following definitions [from column QK \"Near complete response (graded measure)\"]: 2 = Near complete (pathology report noted results constituted near-complete response to NAT) 3 = No residual disease, only atypical ductal hyperplasia 4 = No invasive carcinoma, DCIS only 5 = No invasive carcinoma, LCIS only 6 = 90% reduction in tumor volume 7 = 95% reduction 8 = Near complete but DCIS 9 = 90% reduction with DCIS present 10 = No invasive disease but lymph nodes positive 11 = No residual disease, but positive LNs and DCIS 12 = Near complete response noted on path report, but positive LNs 13 = 98% reduction with positive LNs 14 = 95% fibrosis but positive lymph nodes 15 = 90% reduction with positive LNs 16 = > 95% reduction with only mucinous pools remaining 17 = 1mm residual invasive but extensive DCIS 18 = 99% of tumor obliterated but extensive residual DCIS\n",
            "96 Near-complete Response (Graded Measure) - {0 = Not complete or near-complete;  1 = Complete;  2 = Near complete (pathology report noted results constituted near-complete response to NAT);  3 = No residual disease, only atypical ductal hyperplasia;  4 = No invasive carcinoma, DCIS only;  5 = No invasive carcinoma, LCIS only;  6 = 90% reduction in tumor volume;  7 = 95% reduction;  8 = Near complete but DCIS;  9 = 90% reduction with DCIS present;  10 = No invasive disease but lymph nodes positive;  11 = No residual disease, but positive LNs and DCIS;  12 = Near complete response noted on path report, but positive LNs;  13 = 98% reduction with positive LNs;  14 = 95% fibrosis but positive lymph nodes;  15 = 90% reduction with positive LNs;  16 = > 95% reduction with only mucinous pools remaining;  17 = 1mm residual invasive but extensive DCIS;  18 = 99% of tumor obliterated but extensive residual DCIS;  19 = pathologic assessment not available; NA = not applicable} 0 = Not complete or near-complete 1 = Complete 2 = Near complete (pathology report noted results constituted near-complete response to NAT) 3 = No residual disease, only atypical ductal hyperplasia 4 = No invasive carcinoma, DCIS only 5 = No invasive carcinoma, LCIS only 6 = 90% reduction in tumor volume 7 = 95% reduction 8 = Near complete but DCIS 9 = 90% reduction with DCIS present 10 = No invasive disease but lymph nodes positive 11 = No residual disease, but positive LNs and DCIS 12 = Near complete response noted on path report, but positive LNs 13 = 98% reduction with positive LNs 14 = 95% fibrosis but positive lymph nodes 15 = 90% reduction with positive LNs 16 = > 95% reduction with only mucinous pools remaining 17 = 1mm residual invasive but extensive DCIS 18 = 99% of tumor obliterated but extensive residual DCIS 19 = pathologic assessment not available NA = not applicable\n"
          ]
        }
      ]
    },
    {
      "cell_type": "code",
      "source": [
        "from sklearn.model_selection import train_test_split\n",
        "\n",
        "# Specify the target variable \"Recurrence event(s)\"\n",
        "target_col = clinical_df.columns[60]\n",
        "\n",
        "# Separate features (X) and target (y)\n",
        "X = clinical_df.drop(columns=[target_col])\n",
        "y = clinical_df[target_col]\n",
        "\n",
        "# First split: 70% training, 30% temporary (for validation + test)\n",
        "X_train, X_temp, y_train, y_temp = train_test_split(X, y, test_size=0.30, random_state=42)\n",
        "\n",
        "# Second split: Split the temporary set into validation and test (each 15% of the total data)\n",
        "X_val, X_test, y_val, y_test = train_test_split(X_temp, y_temp, test_size=0.50, random_state=42)\n",
        "\n",
        "print(\"Target column name:\", target_col)\n",
        "print(\"Training set size:\", X_train.shape, y_train.shape)\n",
        "print(\"Validation set size:\", X_val.shape, y_val.shape)\n",
        "print(\"Test set size:\", X_test.shape, y_test.shape)"
      ],
      "metadata": {
        "colab": {
          "base_uri": "https://localhost:8080/"
        },
        "collapsed": true,
        "id": "59g4cadGLe9E",
        "outputId": "e04d1465-68be-4ce8-b4f8-b232c91caa88"
      },
      "execution_count": 39,
      "outputs": [
        {
          "output_type": "stream",
          "name": "stdout",
          "text": [
            "Target column name: Recurrence event(s) - {0 = no, 1 = yes}\n",
            "Training set size: (645, 96) (645,)\n",
            "Validation set size: (138, 96) (138,)\n",
            "Test set size: (139, 96) (139,)\n"
          ]
        }
      ]
    },
    {
      "cell_type": "markdown",
      "source": [
        "# RNN Model Training Pipeline\n",
        "**must complete encoding before training**"
      ],
      "metadata": {
        "id": "-lXUsuB3eaf3"
      }
    },
    {
      "cell_type": "code",
      "source": [
        "from tensorflow.keras.models import Sequential\n",
        "from tensorflow.keras.layers import SimpleRNN, Dense, Dropout\n",
        "from tensorflow.keras.optimizers import Adam\n",
        "\n",
        "X_train_seq = np.expand_dims(X_train.values, axis=1)  # shape: (645, 1, 96)\n",
        "X_val_seq   = np.expand_dims(X_val.values, axis=1)      # shape: (138, 1, 96)\n",
        "X_test_seq  = np.expand_dims(X_test.values, axis=1)     # shape: (139, 1, 96)\n",
        "\n",
        "# Build a simple RNN model\n",
        "model = Sequential()\n",
        "\n",
        "# Add a SimpleRNN layer with 32 units\n",
        "model.add(SimpleRNN(32, input_shape=(X_train_seq.shape[1], X_train_seq.shape[2]), activation='relu'))\n",
        "model.add(Dropout(0.2))\n",
        "\n",
        "# Final Dense layer for binary classification (Recurrence event: 0 or 1)\n",
        "model.add(Dense(1, activation='sigmoid'))\n",
        "\n",
        "# Compile the model with binary crossentropy loss and the Adam optimizer.\n",
        "model.compile(optimizer=Adam(learning_rate=0.001), loss='binary_crossentropy', metrics=['accuracy'])\n",
        "\n",
        "# Print model summary to verify the architecture\n",
        "model.summary()\n",
        "\n",
        "# Train the model\n",
        "history = model.fit(\n",
        "    X_train_seq,\n",
        "    y_train,\n",
        "    validation_data=(X_val_seq, y_val),\n",
        "    epochs=20,\n",
        "    batch_size=32\n",
        ")\n",
        "\n",
        "# Evaluate the model on the test set\n",
        "test_loss, test_accuracy = model.evaluate(X_test_seq, y_test)\n",
        "print(\"Test accuracy:\", test_accuracy)\n"
      ],
      "metadata": {
        "colab": {
          "base_uri": "https://localhost:8080/",
          "height": 597
        },
        "id": "RHKFuH1neeUO",
        "outputId": "013eaa16-deec-4fd6-adae-414f5e78c7ef"
      },
      "execution_count": 41,
      "outputs": [
        {
          "output_type": "display_data",
          "data": {
            "text/plain": [
              "\u001b[1mModel: \"sequential_1\"\u001b[0m\n"
            ],
            "text/html": [
              "<pre style=\"white-space:pre;overflow-x:auto;line-height:normal;font-family:Menlo,'DejaVu Sans Mono',consolas,'Courier New',monospace\"><span style=\"font-weight: bold\">Model: \"sequential_1\"</span>\n",
              "</pre>\n"
            ]
          },
          "metadata": {}
        },
        {
          "output_type": "display_data",
          "data": {
            "text/plain": [
              "┏━━━━━━━━━━━━━━━━━━━━━━━━━━━━━━━━━━━━━━┳━━━━━━━━━━━━━━━━━━━━━━━━━━━━━┳━━━━━━━━━━━━━━━━━┓\n",
              "┃\u001b[1m \u001b[0m\u001b[1mLayer (type)                        \u001b[0m\u001b[1m \u001b[0m┃\u001b[1m \u001b[0m\u001b[1mOutput Shape               \u001b[0m\u001b[1m \u001b[0m┃\u001b[1m \u001b[0m\u001b[1m        Param #\u001b[0m\u001b[1m \u001b[0m┃\n",
              "┡━━━━━━━━━━━━━━━━━━━━━━━━━━━━━━━━━━━━━━╇━━━━━━━━━━━━━━━━━━━━━━━━━━━━━╇━━━━━━━━━━━━━━━━━┩\n",
              "│ simple_rnn_1 (\u001b[38;5;33mSimpleRNN\u001b[0m)             │ (\u001b[38;5;45mNone\u001b[0m, \u001b[38;5;34m32\u001b[0m)                  │           \u001b[38;5;34m4,128\u001b[0m │\n",
              "├──────────────────────────────────────┼─────────────────────────────┼─────────────────┤\n",
              "│ dropout_1 (\u001b[38;5;33mDropout\u001b[0m)                  │ (\u001b[38;5;45mNone\u001b[0m, \u001b[38;5;34m32\u001b[0m)                  │               \u001b[38;5;34m0\u001b[0m │\n",
              "├──────────────────────────────────────┼─────────────────────────────┼─────────────────┤\n",
              "│ dense_1 (\u001b[38;5;33mDense\u001b[0m)                      │ (\u001b[38;5;45mNone\u001b[0m, \u001b[38;5;34m1\u001b[0m)                   │              \u001b[38;5;34m33\u001b[0m │\n",
              "└──────────────────────────────────────┴─────────────────────────────┴─────────────────┘\n"
            ],
            "text/html": [
              "<pre style=\"white-space:pre;overflow-x:auto;line-height:normal;font-family:Menlo,'DejaVu Sans Mono',consolas,'Courier New',monospace\">┏━━━━━━━━━━━━━━━━━━━━━━━━━━━━━━━━━━━━━━┳━━━━━━━━━━━━━━━━━━━━━━━━━━━━━┳━━━━━━━━━━━━━━━━━┓\n",
              "┃<span style=\"font-weight: bold\"> Layer (type)                         </span>┃<span style=\"font-weight: bold\"> Output Shape                </span>┃<span style=\"font-weight: bold\">         Param # </span>┃\n",
              "┡━━━━━━━━━━━━━━━━━━━━━━━━━━━━━━━━━━━━━━╇━━━━━━━━━━━━━━━━━━━━━━━━━━━━━╇━━━━━━━━━━━━━━━━━┩\n",
              "│ simple_rnn_1 (<span style=\"color: #0087ff; text-decoration-color: #0087ff\">SimpleRNN</span>)             │ (<span style=\"color: #00d7ff; text-decoration-color: #00d7ff\">None</span>, <span style=\"color: #00af00; text-decoration-color: #00af00\">32</span>)                  │           <span style=\"color: #00af00; text-decoration-color: #00af00\">4,128</span> │\n",
              "├──────────────────────────────────────┼─────────────────────────────┼─────────────────┤\n",
              "│ dropout_1 (<span style=\"color: #0087ff; text-decoration-color: #0087ff\">Dropout</span>)                  │ (<span style=\"color: #00d7ff; text-decoration-color: #00d7ff\">None</span>, <span style=\"color: #00af00; text-decoration-color: #00af00\">32</span>)                  │               <span style=\"color: #00af00; text-decoration-color: #00af00\">0</span> │\n",
              "├──────────────────────────────────────┼─────────────────────────────┼─────────────────┤\n",
              "│ dense_1 (<span style=\"color: #0087ff; text-decoration-color: #0087ff\">Dense</span>)                      │ (<span style=\"color: #00d7ff; text-decoration-color: #00d7ff\">None</span>, <span style=\"color: #00af00; text-decoration-color: #00af00\">1</span>)                   │              <span style=\"color: #00af00; text-decoration-color: #00af00\">33</span> │\n",
              "└──────────────────────────────────────┴─────────────────────────────┴─────────────────┘\n",
              "</pre>\n"
            ]
          },
          "metadata": {}
        },
        {
          "output_type": "display_data",
          "data": {
            "text/plain": [
              "\u001b[1m Total params: \u001b[0m\u001b[38;5;34m4,161\u001b[0m (16.25 KB)\n"
            ],
            "text/html": [
              "<pre style=\"white-space:pre;overflow-x:auto;line-height:normal;font-family:Menlo,'DejaVu Sans Mono',consolas,'Courier New',monospace\"><span style=\"font-weight: bold\"> Total params: </span><span style=\"color: #00af00; text-decoration-color: #00af00\">4,161</span> (16.25 KB)\n",
              "</pre>\n"
            ]
          },
          "metadata": {}
        },
        {
          "output_type": "display_data",
          "data": {
            "text/plain": [
              "\u001b[1m Trainable params: \u001b[0m\u001b[38;5;34m4,161\u001b[0m (16.25 KB)\n"
            ],
            "text/html": [
              "<pre style=\"white-space:pre;overflow-x:auto;line-height:normal;font-family:Menlo,'DejaVu Sans Mono',consolas,'Courier New',monospace\"><span style=\"font-weight: bold\"> Trainable params: </span><span style=\"color: #00af00; text-decoration-color: #00af00\">4,161</span> (16.25 KB)\n",
              "</pre>\n"
            ]
          },
          "metadata": {}
        },
        {
          "output_type": "display_data",
          "data": {
            "text/plain": [
              "\u001b[1m Non-trainable params: \u001b[0m\u001b[38;5;34m0\u001b[0m (0.00 B)\n"
            ],
            "text/html": [
              "<pre style=\"white-space:pre;overflow-x:auto;line-height:normal;font-family:Menlo,'DejaVu Sans Mono',consolas,'Courier New',monospace\"><span style=\"font-weight: bold\"> Non-trainable params: </span><span style=\"color: #00af00; text-decoration-color: #00af00\">0</span> (0.00 B)\n",
              "</pre>\n"
            ]
          },
          "metadata": {}
        },
        {
          "output_type": "error",
          "ename": "ValueError",
          "evalue": "Invalid dtype: object",
          "traceback": [
            "\u001b[0;31m---------------------------------------------------------------------------\u001b[0m",
            "\u001b[0;31mValueError\u001b[0m                                Traceback (most recent call last)",
            "\u001b[0;32m<ipython-input-41-27029945fdec>\u001b[0m in \u001b[0;36m<cell line: 0>\u001b[0;34m()\u001b[0m\n\u001b[1;32m     24\u001b[0m \u001b[0;34m\u001b[0m\u001b[0m\n\u001b[1;32m     25\u001b[0m \u001b[0;31m# Train the model\u001b[0m\u001b[0;34m\u001b[0m\u001b[0;34m\u001b[0m\u001b[0m\n\u001b[0;32m---> 26\u001b[0;31m history = model.fit(\n\u001b[0m\u001b[1;32m     27\u001b[0m     \u001b[0mX_train_seq\u001b[0m\u001b[0;34m,\u001b[0m\u001b[0;34m\u001b[0m\u001b[0;34m\u001b[0m\u001b[0m\n\u001b[1;32m     28\u001b[0m     \u001b[0my_train\u001b[0m\u001b[0;34m,\u001b[0m\u001b[0;34m\u001b[0m\u001b[0;34m\u001b[0m\u001b[0m\n",
            "\u001b[0;32m/usr/local/lib/python3.11/dist-packages/keras/src/utils/traceback_utils.py\u001b[0m in \u001b[0;36merror_handler\u001b[0;34m(*args, **kwargs)\u001b[0m\n\u001b[1;32m    120\u001b[0m             \u001b[0;31m# To get the full stack trace, call:\u001b[0m\u001b[0;34m\u001b[0m\u001b[0;34m\u001b[0m\u001b[0m\n\u001b[1;32m    121\u001b[0m             \u001b[0;31m# `keras.config.disable_traceback_filtering()`\u001b[0m\u001b[0;34m\u001b[0m\u001b[0;34m\u001b[0m\u001b[0m\n\u001b[0;32m--> 122\u001b[0;31m             \u001b[0;32mraise\u001b[0m \u001b[0me\u001b[0m\u001b[0;34m.\u001b[0m\u001b[0mwith_traceback\u001b[0m\u001b[0;34m(\u001b[0m\u001b[0mfiltered_tb\u001b[0m\u001b[0;34m)\u001b[0m \u001b[0;32mfrom\u001b[0m \u001b[0;32mNone\u001b[0m\u001b[0;34m\u001b[0m\u001b[0;34m\u001b[0m\u001b[0m\n\u001b[0m\u001b[1;32m    123\u001b[0m         \u001b[0;32mfinally\u001b[0m\u001b[0;34m:\u001b[0m\u001b[0;34m\u001b[0m\u001b[0;34m\u001b[0m\u001b[0m\n\u001b[1;32m    124\u001b[0m             \u001b[0;32mdel\u001b[0m \u001b[0mfiltered_tb\u001b[0m\u001b[0;34m\u001b[0m\u001b[0;34m\u001b[0m\u001b[0m\n",
            "\u001b[0;32m/usr/local/lib/python3.11/dist-packages/optree/ops.py\u001b[0m in \u001b[0;36mtree_map\u001b[0;34m(func, tree, is_leaf, none_is_leaf, namespace, *rests)\u001b[0m\n\u001b[1;32m    764\u001b[0m     \u001b[0mleaves\u001b[0m\u001b[0;34m,\u001b[0m \u001b[0mtreespec\u001b[0m \u001b[0;34m=\u001b[0m \u001b[0m_C\u001b[0m\u001b[0;34m.\u001b[0m\u001b[0mflatten\u001b[0m\u001b[0;34m(\u001b[0m\u001b[0mtree\u001b[0m\u001b[0;34m,\u001b[0m \u001b[0mis_leaf\u001b[0m\u001b[0;34m,\u001b[0m \u001b[0mnone_is_leaf\u001b[0m\u001b[0;34m,\u001b[0m \u001b[0mnamespace\u001b[0m\u001b[0;34m)\u001b[0m\u001b[0;34m\u001b[0m\u001b[0;34m\u001b[0m\u001b[0m\n\u001b[1;32m    765\u001b[0m     \u001b[0mflat_args\u001b[0m \u001b[0;34m=\u001b[0m \u001b[0;34m[\u001b[0m\u001b[0mleaves\u001b[0m\u001b[0;34m]\u001b[0m \u001b[0;34m+\u001b[0m \u001b[0;34m[\u001b[0m\u001b[0mtreespec\u001b[0m\u001b[0;34m.\u001b[0m\u001b[0mflatten_up_to\u001b[0m\u001b[0;34m(\u001b[0m\u001b[0mr\u001b[0m\u001b[0;34m)\u001b[0m \u001b[0;32mfor\u001b[0m \u001b[0mr\u001b[0m \u001b[0;32min\u001b[0m \u001b[0mrests\u001b[0m\u001b[0;34m]\u001b[0m\u001b[0;34m\u001b[0m\u001b[0;34m\u001b[0m\u001b[0m\n\u001b[0;32m--> 766\u001b[0;31m     \u001b[0;32mreturn\u001b[0m \u001b[0mtreespec\u001b[0m\u001b[0;34m.\u001b[0m\u001b[0munflatten\u001b[0m\u001b[0;34m(\u001b[0m\u001b[0mmap\u001b[0m\u001b[0;34m(\u001b[0m\u001b[0mfunc\u001b[0m\u001b[0;34m,\u001b[0m \u001b[0;34m*\u001b[0m\u001b[0mflat_args\u001b[0m\u001b[0;34m)\u001b[0m\u001b[0;34m)\u001b[0m\u001b[0;34m\u001b[0m\u001b[0;34m\u001b[0m\u001b[0m\n\u001b[0m\u001b[1;32m    767\u001b[0m \u001b[0;34m\u001b[0m\u001b[0m\n\u001b[1;32m    768\u001b[0m \u001b[0;34m\u001b[0m\u001b[0m\n",
            "\u001b[0;31mValueError\u001b[0m: Invalid dtype: object"
          ]
        }
      ]
    }
  ]
}