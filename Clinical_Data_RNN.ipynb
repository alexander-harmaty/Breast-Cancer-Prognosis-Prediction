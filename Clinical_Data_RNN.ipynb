{
  "nbformat": 4,
  "nbformat_minor": 0,
  "metadata": {
    "colab": {
      "provenance": [],
      "gpuType": "T4",
      "include_colab_link": true
    },
    "kernelspec": {
      "name": "python3",
      "display_name": "Python 3"
    },
    "language_info": {
      "name": "python"
    },
    "accelerator": "GPU"
  },
  "cells": [
    {
      "cell_type": "markdown",
      "metadata": {
        "id": "view-in-github",
        "colab_type": "text"
      },
      "source": [
        "<a href=\"https://colab.research.google.com/github/aoloo-r/Breast-Cancer-Prognosis-Prediction/blob/main/Clinical_Data_RNN.ipynb\" target=\"_parent\"><img src=\"https://colab.research.google.com/assets/colab-badge.svg\" alt=\"Open In Colab\"/></a>"
      ]
    },
    {
      "cell_type": "markdown",
      "source": [
        "# Environment Setup"
      ],
      "metadata": {
        "id": "X4jWesX_BBkN"
      }
    },
    {
      "cell_type": "code",
      "execution_count": 48,
      "metadata": {
        "colab": {
          "base_uri": "https://localhost:8080/"
        },
        "id": "jxaoLrIWTcu4",
        "outputId": "2d3ffe23-ce22-4a47-b604-373f6e522d35"
      },
      "outputs": [
        {
          "output_type": "stream",
          "name": "stdout",
          "text": [
            "Drive already mounted at /content/drive; to attempt to forcibly remount, call drive.mount(\"/content/drive\", force_remount=True).\n",
            "/content/drive/MyDrive\n"
          ]
        }
      ],
      "source": [
        "import torch\n",
        "import re\n",
        "import torch.nn as nn\n",
        "import torch.optim as optim\n",
        "import tensorflow as tf\n",
        "from tensorflow import keras\n",
        "import numpy as np\n",
        "import pandas as pd\n",
        "import matplotlib.pyplot as plt\n",
        "from sklearn.preprocessing import LabelEncoder, StandardScaler\n",
        "from sklearn.impute import SimpleImputer\n",
        "from sklearn.model_selection import train_test_split\n",
        "from tensorflow.keras.models import Sequential\n",
        "from tensorflow.keras.layers import SimpleRNN, LSTM, GRU, Dense, Dropout\n",
        "from tensorflow.keras.optimizers import Adam\n",
        "from sklearn.metrics import classification_report, confusion_matrix, roc_curve, auc\n",
        "\n",
        "# Mount dataset folder from Google Drive to environment\n",
        "from google.colab import drive\n",
        "drive.mount('/content/drive')\n",
        "%cd /content/drive/MyDrive/"
      ]
    },
    {
      "cell_type": "markdown",
      "source": [
        "# Data Preprocessing\n",
        "**data encoding is currently incomplete**"
      ],
      "metadata": {
        "id": "orrqr5RtBTS8"
      }
    },
    {
      "cell_type": "code",
      "source": [
        "import pandas as pd\n",
        "import numpy as np\n",
        "from sklearn.preprocessing import LabelEncoder, StandardScaler\n",
        "from sklearn.impute import SimpleImputer\n",
        "\n",
        "def encode_clinical_data(df):\n",
        "    \"\"\"\n",
        "    Encodes clinical data with the understanding that real data starts at row 4.\n",
        "    Rows 1-3 contain header/metadata information.\n",
        "\n",
        "    Parameters:\n",
        "    -----------\n",
        "    df : pandas.DataFrame\n",
        "        The clinical dataframe to encode\n",
        "\n",
        "    Returns:\n",
        "    --------\n",
        "    pandas.DataFrame\n",
        "        The encoded dataframe with all columns properly processed\n",
        "    \"\"\"\n",
        "    # Create a copy to avoid modifying the original\n",
        "    encoded_df = df.copy()\n",
        "\n",
        "    # First, check if we need to handle the header rows\n",
        "    # If the dataframe has already been loaded with headers processed\n",
        "    # (i.e., headers are in column names), we don't need this step\n",
        "    if encoded_df.shape[0] >= 4:\n",
        "        print(\"Checking if data starts at row 4...\")\n",
        "        # Sample some values to see if first 3 rows appear to be headers\n",
        "        sample_col = encoded_df.columns[0]\n",
        "        first_rows = encoded_df.loc[0:3, sample_col].tolist()\n",
        "        print(f\"First rows of sample column: {first_rows}\")\n",
        "\n",
        "        # If first rows look like headers, remove them\n",
        "        if any(isinstance(val, str) and '=' in str(val) for val in first_rows):\n",
        "            print(\"First rows appear to contain metadata. Removing rows 0-3...\")\n",
        "            encoded_df = encoded_df.iloc[3:].reset_index(drop=True)\n",
        "            print(f\"Dataframe shape after removing header rows: {encoded_df.shape}\")\n",
        "\n",
        "    # Identify the target column\n",
        "    target_col = None\n",
        "    for col in encoded_df.columns:\n",
        "        if \"Recurrence event\" in col:\n",
        "            target_col = col\n",
        "            target_values = encoded_df[target_col].copy()\n",
        "            print(f\"Identified target column: {target_col}\")\n",
        "            break\n",
        "\n",
        "    # Process each column individually\n",
        "    all_columns = encoded_df.columns.tolist()\n",
        "    print(f\"Processing {len(all_columns)} total columns\")\n",
        "\n",
        "    for col in all_columns:\n",
        "        # Skip target column for now\n",
        "        if col == target_col:\n",
        "            continue\n",
        "\n",
        "        print(f\"Processing column: {col}\")\n",
        "\n",
        "        try:\n",
        "            # Check column data type\n",
        "            if encoded_df[col].dtype == 'object':\n",
        "                # Categorical column\n",
        "                print(f\"  Processing as categorical\")\n",
        "\n",
        "                # Fill missing values\n",
        "                encoded_df[col] = encoded_df[col].fillna(\"MISSING\")\n",
        "\n",
        "                # Convert to string\n",
        "                encoded_df[col] = encoded_df[col].astype(str)\n",
        "\n",
        "                # Apply label encoding\n",
        "                le = LabelEncoder()\n",
        "                encoded_df[col] = le.fit_transform(encoded_df[col])\n",
        "                print(f\"  Encoded {len(le.classes_)} unique values\")\n",
        "\n",
        "            else:\n",
        "                # Numeric column\n",
        "                print(f\"  Processing as numeric\")\n",
        "\n",
        "                # Handle missing values\n",
        "                if encoded_df[col].isna().any():\n",
        "                    if encoded_df[col].isna().all():\n",
        "                        encoded_df[col] = 0\n",
        "                        print(f\"  All values missing, filled with 0\")\n",
        "                    else:\n",
        "                        median = encoded_df[col].median()\n",
        "                        encoded_df[col] = encoded_df[col].fillna(median)\n",
        "                        print(f\"  Filled missing values with median: {median}\")\n",
        "\n",
        "                # Standardize if there's variance\n",
        "                if encoded_df[col].std() > 0:\n",
        "                    mean_val = encoded_df[col].mean()\n",
        "                    std_val = encoded_df[col].std()\n",
        "                    encoded_df[col] = (encoded_df[col] - mean_val) / std_val\n",
        "                    print(f\"  Standardized numeric column\")\n",
        "\n",
        "        except Exception as e:\n",
        "            print(f\"Error processing column {col}: {str(e)}\")\n",
        "\n",
        "            # Try alternative approach\n",
        "            try:\n",
        "                print(f\"  Trying alternative encoding approach\")\n",
        "\n",
        "                # Force to string and encode\n",
        "                encoded_df[col] = encoded_df[col].fillna(\"MISSING\")\n",
        "                encoded_df[col] = encoded_df[col].astype(str)\n",
        "                le = LabelEncoder()\n",
        "                encoded_df[col] = le.fit_transform(encoded_df[col])\n",
        "                print(f\"  Alternative encoding successful\")\n",
        "\n",
        "            except Exception as e2:\n",
        "                print(f\"  Alternative approach failed: {str(e2)}\")\n",
        "                print(f\"  Setting column to 0\")\n",
        "                encoded_df[col] = 0\n",
        "\n",
        "    # Restore target column\n",
        "    if target_col and 'target_values' in locals():\n",
        "        encoded_df[target_col] = target_values\n",
        "        print(f\"Restored target column: {target_col}\")\n",
        "\n",
        "    # Final check for any NaN values\n",
        "    if encoded_df.isna().any().any():\n",
        "        nan_cols = encoded_df.columns[encoded_df.isna().any()].tolist()\n",
        "        print(f\"Filling NaN values in {len(nan_cols)} columns\")\n",
        "        encoded_df = encoded_df.fillna(0)\n",
        "\n",
        "    print(f\"Final encoded dataframe shape: {encoded_df.shape}\")\n",
        "    return encoded_df"
      ],
      "metadata": {
        "id": "7BiYt8Pt4ubu"
      },
      "execution_count": 61,
      "outputs": []
    },
    {
      "cell_type": "code",
      "source": [
        "# Load the data\n",
        "file_path = 'Clinical_and_Other_Features.xlsx'\n",
        "clinical_df = pd.read_excel(file_path, header=[1, 2])\n",
        "\n",
        "# Function to merge multi-index headers to single index headers\n",
        "def merge_headers(col_tuple):\n",
        "    # Unpack the tuple: first-level and second-level names\n",
        "    first, second = col_tuple\n",
        "\n",
        "    # If newline characters exist, remove and replace with space\n",
        "    if isinstance(first, str):\n",
        "        first = first.replace('\\n', ' ').strip()\n",
        "    if isinstance(second, str):\n",
        "        second = second.replace('\\n', ' ').strip()\n",
        "\n",
        "    # If blank second-headers exist, return first-header only\n",
        "    if not second or 'Unnamed' in second:\n",
        "        return first\n",
        "    # Otherwise, return merged header\n",
        "    else:\n",
        "        return f\"{first} - {second}\"\n",
        "\n",
        "# Preprocess the column headers\n",
        "# Merge multi-index headers for all columns\n",
        "new_columns = [merge_headers(col) for col in clinical_df.columns]\n",
        "clinical_df.columns = new_columns\n",
        "\n",
        "# Print column info\n",
        "print(f\"Total columns: {len(clinical_df.columns)}\")\n",
        "print(f\"Sample size: {len(clinical_df)}\")"
      ],
      "metadata": {
        "colab": {
          "base_uri": "https://localhost:8080/"
        },
        "id": "PMAI1NtwbQYa",
        "outputId": "7d510163-b80e-4b48-fdf4-8b53c9d94e4e"
      },
      "execution_count": 62,
      "outputs": [
        {
          "output_type": "stream",
          "name": "stdout",
          "text": [
            "Total columns: 98\n",
            "Sample size: 922\n"
          ]
        }
      ]
    },
    {
      "cell_type": "code",
      "source": [
        "# target variable\n",
        "target_col = \"Recurrence event(s) - {0 = no, 1 = yes}\"\n",
        "if target_col not in clinical_df.columns:\n",
        "    # Find the correct column name by looking for a substring match\n",
        "    matching_cols = [col for col in clinical_df.columns if \"Recurrence event\" in col]\n",
        "    if matching_cols:\n",
        "        target_col = matching_cols[0]\n",
        "        print(f\"Found target column: {target_col}\")\n",
        "    else:\n",
        "        raise ValueError(\"Target column not found! Please check the column names.\")\n",
        "# Check target variable for NaNs\n",
        "if np.isnan(y_test).any():\n",
        "    print(\"Warning: NaN values found in y_test! Using most common value...\")\n",
        "    most_common = int(np.round(np.nanmean(y_test)))\n",
        "    y_test = np.nan_to_num(y_test, nan=most_common)\n",
        "\n",
        "# Encode the data\n",
        "encoded_df = encode_clinical_data(clinical_df)\n",
        "print(f\"Encoded data shape: {encoded_df.shape}\")\n"
      ],
      "metadata": {
        "colab": {
          "base_uri": "https://localhost:8080/"
        },
        "collapsed": true,
        "id": "IQC5qbxJNonu",
        "outputId": "6875219b-5e85-4e50-b52b-a1d15bb9e9af"
      },
      "execution_count": 76,
      "outputs": [
        {
          "output_type": "stream",
          "name": "stdout",
          "text": [
            "Checking if data starts at row 4...\n",
            "First rows of sample column: ['Breast_MRI_001', 'Breast_MRI_002', 'Breast_MRI_003', 'Breast_MRI_004']\n",
            "Identified target column: Recurrence event(s) - {0 = no, 1 = yes}\n",
            "Processing 98 total columns\n",
            "Processing column: Patient ID\n",
            "  Processing as categorical\n",
            "  Encoded 922 unique values\n",
            "Processing column: Days to MRI (From the Date of Diagnosis)\n",
            "  Processing as numeric\n",
            "  Standardized numeric column\n",
            "Processing column: Manufacturer - GE MEDICAL SYSTEMS=0, MPTronic software=1, SIEMENS=2\n",
            "  Processing as numeric\n",
            "  Standardized numeric column\n",
            "Processing column: Manufacturer Model Name - Avanto=0, Optima MR450w=1, SIGNA EXCITE=2, SIGNA HDx=3, Signa HDxt=4, Skyra=5, Trio=6, TrioTim=7\n",
            "  Processing as numeric\n",
            "  Standardized numeric column\n",
            "Processing column: Scan Options - FAST_GEMS\\SAT_GEMS\\ACC_GEMS\\PFP\\FS=0,FAST_GEMS\\SAT_GEMS\\MP_GEMS\\ACC_GEMS\\PFP\\FS=1,FAST_GEMS\\SAT_GEMS\\MP_GEMS\\PFP\\FS=2,FAST_GEMS\\SAT_GEMS\\PFP\\FS=3,FS=4,PFP\\FS=5,PFP\\SFS=6,SAT_GEMS\\PFP\\FS=7,SFS=8\n",
            "  Processing as numeric\n",
            "  Standardized numeric column\n",
            "Processing column: Field Strength (Tesla) - 1.494=0,1.5=1,2.8936=2,3=3\n",
            "  Processing as numeric\n",
            "  Standardized numeric column\n",
            "Processing column: Patient Position During MRI - FFP=0,HFP=1\n",
            "  Processing as numeric\n",
            "  Standardized numeric column\n",
            "Processing column: Image Position of Patient\n",
            "  Processing as categorical\n",
            "  Encoded 921 unique values\n",
            "Processing column: Contrast Agent - GADAVIST=0,MAGNEVIST=1,MMAGNEVIST=2,MULTIHANCE=3,Name of agent not stated(but ContrastBolusAgent tag was present)=4, ContrastBolusAgent Tag Absent = 5\n",
            "  Processing as numeric\n",
            "  Filled missing values with median: 1.0\n",
            "  Standardized numeric column\n",
            "Processing column: Contrast Bolus Volume (mL) - 6=0,7=1,8=2,9=3,10=4,11=5,11.88=6,12=7,13=8,13.6=9,14=10,14.5=11,15=12,16=13,17=14,18=15,19=16,20=17,25=18\n",
            "  Processing as numeric\n",
            "  Filled missing values with median: 12.0\n",
            "  Standardized numeric column\n",
            "Processing column: TR (Repetition Time)\n",
            "  Processing as numeric\n",
            "  Standardized numeric column\n",
            "Processing column: TE (Echo Time)\n",
            "  Processing as numeric\n",
            "  Standardized numeric column\n",
            "Processing column: Acquisition Matrix - 320 X 320=0,340 X 340=1,350 X 350=2,360 X 360=3,384 X 360=4,384 X 384=5,448 X 251=6,448 X 381=7,448 X 430=8,448 X 448=9,512 X 358=10\n",
            "  Processing as numeric\n",
            "  Standardized numeric column\n",
            "Processing column: Slice Thickness - 0.9=0,0.95=1,1=2,1.04=3,1.06=4,1.1=5,1.12=6,1.15=7,1.2=8,1.23=9,1.24=10,1.25=11,1.3=12,1.4=13,1.45=14,1.5=15,1.6=16,1.8=17,2=18,2.2=19,2.5=20\n",
            "  Processing as numeric\n",
            "  Standardized numeric column\n",
            "Processing column: Rows - 320=0,448=1,512=2\n",
            "  Processing as numeric\n",
            "  Standardized numeric column\n",
            "Processing column: Columns - 320=0,448=1,512=2\n",
            "  Processing as numeric\n",
            "  Standardized numeric column\n",
            "Processing column: Reconstruction Diameter - 260=0,270=1,280=2,290=3,300=4,305=5,310=6,320=7,330=8,340=9,350=10,360=11,370=12,380=13,390=14,400=15,410=16,420=17,430=18,480=19\n",
            "  Processing as numeric\n",
            "  Filled missing values with median: 10.0\n",
            "  Standardized numeric column\n",
            "Processing column: Flip Angle - 7=0,8=1,10=2,12=3\n",
            "  Processing as numeric\n",
            "  Standardized numeric column\n",
            "Processing column: FOV Computed (Field of View) in cm - 250=0,260=1,270=2,280=3,290=4,300=5,303=6,305=7,310=8,320=9,330=10,340=11,345=12,346=13,350=14,360=15,365=16,370=17,375=18,380=19,390=20,400=21,410=22,420=23,430=24,440=25,480=26\n",
            "  Processing as numeric\n",
            "  Standardized numeric column\n",
            "Processing column: Date of Birth (Days) - (Taking date of diagnosis as day 0) [Functional Check : numeric entries will be negative only, non-numeric ones will be NA or NC ]\n",
            "  Processing as numeric\n",
            "  Standardized numeric column\n",
            "Processing column: Menopause (at diagnosis) - {0 = pre, 1 = post, 2 = N/A}\n",
            "  Processing as numeric\n",
            "  Standardized numeric column\n",
            "Processing column: Race and Ethnicity - {0 = N/A 1 = white, 2 = black, 3 = asian, 4 = native, 5 = hispanic, 6 = multi, 7 = hawa,    8 = amer indian}\n",
            "  Processing as numeric\n",
            "  Standardized numeric column\n",
            "Processing column: Metastatic at Presentation (Outside of Lymph Nodes) - {0 = no 1 = yes}\n",
            "  Processing as numeric\n",
            "  Standardized numeric column\n",
            "Processing column: ER - {0 = neg, 1 = pos}\n",
            "  Processing as numeric\n",
            "  Standardized numeric column\n",
            "Processing column: PR - {0 = neg, 1 = pos}\n",
            "  Processing as numeric\n",
            "  Standardized numeric column\n",
            "Processing column: HER2 - {0 = neg, 1 = pos, 2 = borderline}\n",
            "  Processing as numeric\n",
            "  Standardized numeric column\n",
            "Processing column: Mol Subtype - {0 = luminal-like, 1 = ER/PR pos, HER2 pos, 2 = her2, 3 = trip neg}\n",
            "  Processing as numeric\n",
            "  Standardized numeric column\n",
            "Processing column: Oncotype score\n",
            "  Processing as numeric\n",
            "  Filled missing values with median: 16.0\n",
            "  Standardized numeric column\n",
            "Processing column: Staging(Tumor Size)# [T]\n",
            "  Processing as numeric\n",
            "  Filled missing values with median: 2.0\n",
            "  Standardized numeric column\n",
            "Processing column: Staging(Nodes)#(Nx replaced by -1)[N]\n",
            "  Processing as numeric\n",
            "  Filled missing values with median: 0.0\n",
            "  Standardized numeric column\n",
            "Processing column: Staging(Metastasis)#(Mx -replaced by -1)[M]\n",
            "  Processing as numeric\n",
            "  Standardized numeric column\n",
            "Processing column: Tumor Grade - Tumor Grade(T) (Tubule)\n",
            "  Processing as numeric\n",
            "  Filled missing values with median: 3.0\n",
            "  Standardized numeric column\n",
            "Processing column: Tumor Grade - Tumor Grade(N) (Nuclear)\n",
            "  Processing as numeric\n",
            "  Filled missing values with median: 3.0\n",
            "  Standardized numeric column\n",
            "Processing column: Tumor Grade - Tumor Grade(M) (Mitotic)\n",
            "  Processing as numeric\n",
            "  Filled missing values with median: 1.0\n",
            "  Standardized numeric column\n",
            "Processing column: Nottingham grade - 1=low 2=intermediate 3=high\n",
            "  Processing as numeric\n",
            "  Filled missing values with median: 2.0\n",
            "  Standardized numeric column\n",
            "Processing column: Histologic type - 0=DCIS 1=ductal 2=lobular 3=metaplastic 4=LCIS 5=tubular 6=mixed 7=micropapillary 8=colloid 9=mucinous 10=medullary\n",
            "  Processing as numeric\n",
            "  Filled missing values with median: 1.0\n",
            "  Standardized numeric column\n",
            "Processing column: Tumor Location - Side of cancer L=left R=right\n",
            "  Processing as categorical\n",
            "  Encoded 3 unique values\n",
            "Processing column: Position - Position (every bx positive for invasive cancer)(used during annotation)\n",
            "  Processing as categorical\n",
            "  Encoded 261 unique values\n",
            "Processing column: Bilateral Information - Bilateral breast cancer? { 0=no 1=yes}\n",
            "  Processing as categorical\n",
            "  Encoded 3 unique values\n",
            "Processing column: Bilateral Information - If Bilateral, Different Rec Status {0=no 1=yes}\n",
            "  Processing as categorical\n",
            "  Encoded 4 unique values\n",
            "Processing column: Bilateral Information - Side Annotated {L=left R=right}\n",
            "  Processing as categorical\n",
            "  Encoded 4 unique values\n",
            "Processing column: For Other Side If Bilateral - Side of cancer (for the other side) {L=left, R=right}\n",
            "  Processing as categorical\n",
            "  Encoded 4 unique values\n",
            "Processing column: For Other Side If Bilateral - Oncotype score (for the other side){##}\n",
            "  Processing as categorical\n",
            "  Encoded 5 unique values\n",
            "Processing column: For Other Side If Bilateral - Nottingham grade (for the other side){#}\n",
            "  Processing as categorical\n",
            "  Encoded 6 unique values\n",
            "Processing column: For Other Side If Bilateral - ER (for the other side) {0 = neg, 1 = pos}\n",
            "  Processing as categorical\n",
            "  Encoded 3 unique values\n",
            "Processing column: For Other Side If Bilateral - PR (for the other side) {0 = neg, 1 = pos}\n",
            "  Processing as categorical\n",
            "  Encoded 3 unique values\n",
            "Processing column: For Other Side If Bilateral - HER2 (for the other side) {0 = neg, 1 = pos, 2=borderline}\n",
            "  Processing as categorical\n",
            "  Encoded 4 unique values\n",
            "Processing column: For Other Side If Bilateral - Mol Subtype (for the other side) {0 = luminal-like, 1 = ER/PR pos, HER2 pos, 2 = her2, 3 = trip neg}\n",
            "  Processing as categorical\n",
            "  Encoded 4 unique values\n",
            "Processing column: Multicentric/Multifocal - {0 = no, 1 = yes}\n",
            "  Processing as numeric\n",
            "  Standardized numeric column\n",
            "Processing column: Contralateral Breast Involvement - {0 = no, 1 = yes}\n",
            "  Processing as numeric\n",
            "  Standardized numeric column\n",
            "Processing column: Lymphadenopathy or Suspicious Nodes - {0 = no, 1 = yes}\n",
            "  Processing as numeric\n",
            "  Standardized numeric column\n",
            "Processing column: Skin/Nipple Invovlement - {0 = no, 1 = yes}\n",
            "  Processing as numeric\n",
            "  Standardized numeric column\n",
            "Processing column: Pec/Chest Involvement - {0 = no, 1 = yes}\n",
            "  Processing as numeric\n",
            "  Standardized numeric column\n",
            "Processing column: Surgery - {0 = no,1 = yes}\n",
            "  Processing as numeric\n",
            "  Filled missing values with median: 1.0\n",
            "  Standardized numeric column\n",
            "Processing column: Days to Surgery (from the date of diagnosis)\n",
            "  Processing as categorical\n",
            "  Encoded 232 unique values\n",
            "Processing column: Definitive Surgery Type - {0=BCS, 1=mastectomy}\n",
            "  Processing as categorical\n",
            "  Encoded 4 unique values\n",
            "Processing column: Neoadjuvant Radiation Therapy - {0 = no, 1 = yes}\n",
            "  Processing as numeric\n",
            "  Filled missing values with median: 0.0\n",
            "  Standardized numeric column\n",
            "Processing column: Adjuvant Radiation Therapy - {0 = no, 1 = yes}\n",
            "  Processing as numeric\n",
            "  Filled missing values with median: 1.0\n",
            "  Standardized numeric column\n",
            "Processing column: Clinical Response, Evaluated Through Imaging - {1=complete response on imaging, 2=not complete response, 3=imaging to assess treatment response is unavailable, NA=no neoadjuvant therapy or not enough information to assess neoadjuvant therapy status}\n",
            "  Processing as numeric\n",
            "  Filled missing values with median: 2.0\n",
            "  Standardized numeric column\n",
            "Processing column: Pathologic Response to Neoadjuvant Therapy - {1=complete response, 2=not complete response, 3=DCIS only remaining, 4=LCIS only remaining, 5=treatment response assessment unavailable, NA=no neoadjuvant therapy or not enough information to assess neoadjuvant therapy status}\n",
            "  Processing as numeric\n",
            "  Filled missing values with median: 2.0\n",
            "  Standardized numeric column\n",
            "Processing column: Days to local recurrence (from the date of diagnosis)\n",
            "  Processing as categorical\n",
            "  Encoded 17 unique values\n",
            "Processing column: Days to distant recurrence(from the date of diagnosis)\n",
            "  Processing as categorical\n",
            "  Encoded 73 unique values\n",
            "Processing column: Days to death (from the date of diagnosis)\n",
            "  Processing as categorical\n",
            "  Encoded 63 unique values\n",
            "Processing column: Days to last local recurrence free assessment (from the date of diagnosis)\n",
            "  Processing as categorical\n",
            "  Encoded 728 unique values\n",
            "Processing column: Days to last distant recurrence free assemssment(from the date of diagnosis)\n",
            "  Processing as categorical\n",
            "  Encoded 723 unique values\n",
            "Processing column: Age at last contact in EMR f/u(days)(from the date of diagnosis) ,last time patient known to be alive, unless age of death is reported(in such case the age of death\n",
            "Error processing column Age at last contact in EMR f/u(days)(from the date of diagnosis) ,last time patient known to be alive, unless age of death is reported(in such case the age of death: 'DataFrame' object has no attribute 'dtype'\n",
            "  Trying alternative encoding approach\n",
            "  Alternative approach failed: y should be a 1d array, got an array of shape (922, 2) instead.\n",
            "  Setting column to 0\n",
            "Processing column: Age at last contact in EMR f/u(days)(from the date of diagnosis) ,last time patient known to be alive, unless age of death is reported(in such case the age of death\n",
            "Error processing column Age at last contact in EMR f/u(days)(from the date of diagnosis) ,last time patient known to be alive, unless age of death is reported(in such case the age of death: 'DataFrame' object has no attribute 'dtype'\n",
            "  Trying alternative encoding approach\n",
            "  Alternative approach failed: y should be a 1d array, got an array of shape (922, 2) instead.\n",
            "  Setting column to 0\n",
            "Processing column: Age at mammo (days)\n",
            "  Processing as categorical\n",
            "  Encoded 55 unique values\n",
            "Processing column: Breast Density - {0=heterogeneous, 1=scattered, 2=minimal, 3=moderate, 4=extremely, 5=predominantly fatty}\n",
            "  Processing as categorical\n",
            "  Encoded 7 unique values\n",
            "Processing column: Shape - {0=oval, 1=irregular, 2=lobular, 3=reniform, 4=stellate}\n",
            "  Processing as categorical\n",
            "  Encoded 5 unique values\n",
            "Processing column: Margin - {0=obscured, 2=spiculated, 3=indistinct/ill-defined, 4=circumscribed}\n",
            "  Processing as categorical\n",
            "  Encoded 6 unique values\n",
            "Processing column: Architectural distortion\n",
            "  Processing as categorical\n",
            "  Encoded 3 unique values\n",
            "Processing column: Mass Density\n",
            "  Processing as categorical\n",
            "  Encoded 4 unique values\n",
            "Processing column: Calcifications - {0=pleomorphic, 1=yes, 2=heterogeneous 3=microcalc 4=linear, 5=clustered, 6=amorphous, 7=branching}\n",
            "  Processing as categorical\n",
            "  Encoded 16 unique values\n",
            "Processing column: Tumor Size (cm)\n",
            "Error processing column Tumor Size (cm): 'DataFrame' object has no attribute 'dtype'\n",
            "  Trying alternative encoding approach\n",
            "  Alternative approach failed: y should be a 1d array, got an array of shape (922, 2) instead.\n",
            "  Setting column to 0\n",
            "Processing column: Shape - {0=oval, 1=irregular, 2=lobular}\n",
            "  Processing as categorical\n",
            "  Encoded 10 unique values\n",
            "Processing column: Margin - {0=obscured, 1=ill-defined, 2=spiculated, 3=indistinct, 4=circumscribed, 5=microlobulated, 6=angular, 7=irregular}\n",
            "  Processing as categorical\n",
            "  Encoded 14 unique values\n",
            "Processing column: Tumor Size (cm)\n",
            "Error processing column Tumor Size (cm): 'DataFrame' object has no attribute 'dtype'\n",
            "  Trying alternative encoding approach\n",
            "  Alternative approach failed: y should be a 1d array, got an array of shape (922, 2) instead.\n",
            "  Setting column to 0\n",
            "Processing column: Echogenicity - {0=hypoechoic, 1=hyperechoic, 2=isoechoic, 3=anechoic, 4=irregular, 5=mixed, 6=boundary}\n",
            "  Processing as categorical\n",
            "  Encoded 18 unique values\n",
            "Processing column: Solid\n",
            "  Processing as categorical\n",
            "  Encoded 3 unique values\n",
            "Processing column: Posterior acoustic shadowing\n",
            "  Processing as categorical\n",
            "  Encoded 6 unique values\n",
            "Processing column: Neoadjuvant Chemotherapy - {0 = no, 1 = yes}\n",
            "  Processing as numeric\n",
            "  Filled missing values with median: 0.0\n",
            "  Standardized numeric column\n",
            "Processing column: Adjuvant Chemotherapy - {0 = no, 1 = yes}\n",
            "  Processing as numeric\n",
            "  Filled missing values with median: 0.0\n",
            "  Standardized numeric column\n",
            "Processing column: Neoadjuvant Endocrine Therapy Medications - {0 = no, 1 = yes}\n",
            "  Processing as numeric\n",
            "  Filled missing values with median: 0.0\n",
            "  Standardized numeric column\n",
            "Processing column: Adjuvant Endocrine Therapy Medications - {0 = no, 1 = yes}\n",
            "  Processing as numeric\n",
            "  Filled missing values with median: 1.0\n",
            "  Standardized numeric column\n",
            "Processing column: Known Ovarian Status - {0 = no, 1 = yes}\n",
            "  Processing as numeric\n",
            "  Standardized numeric column\n",
            "Processing column: Number of Ovaries In Situ - {0 = no ovaries intact, 1 = 1 ovary intact, 2 = 2 ovaries intact, NP = not pertinent to this case}\n",
            "  Processing as categorical\n",
            "  Encoded 4 unique values\n",
            "Processing column: Therapeutic or Prophylactic Oophorectomy as part of Endocrine Therapy - {0 = no, 1 = yes, NP = not pertinent}\n",
            "  Processing as numeric\n",
            "  Standardized numeric column\n",
            "Processing column: Neoadjuvant Anti-Her2 Neu Therapy - {0 = no, 1 = yes}\n",
            "  Processing as numeric\n",
            "  Filled missing values with median: 0.0\n",
            "  Standardized numeric column\n",
            "Processing column: Adjuvant Anti-Her2 Neu Therapy - {0 = no, 1 = yes}\n",
            "  Processing as numeric\n",
            "  Filled missing values with median: 0.0\n",
            "  Standardized numeric column\n",
            "Processing column: Received Neoadjuvant Therapy or Not - {1 = yes, 2 = no, NA = not applicable}\n",
            "  Processing as numeric\n",
            "  Filled missing values with median: 2.0\n",
            "  Standardized numeric column\n",
            "Processing column: Pathologic response to Neoadjuvant therapy: Pathologic stage (T) following neoadjuvant therapy - { -1 = TX;  0 = T0;  1 = T1;  2 = T2;  3 = T3;  4 = T4;  5 = Tis (DCIS);  NA = not applicable}\n",
            "  Processing as numeric\n",
            "  Filled missing values with median: 1.0\n",
            "  Standardized numeric column\n",
            "Processing column: Pathologic response to Neoadjuvant therapy:  Pathologic stage (N) following neoadjuvant therapy - { -1 = NX;  0 = N0;  1 = N1;  2 = N2;  3 = N3; NA = not applicable}\n",
            "  Processing as numeric\n",
            "  Filled missing values with median: 0.0\n",
            "  Standardized numeric column\n",
            "Processing column: Pathologic response to Neoadjuvant therapy:  Pathologic stage (M) following neoadjuvant therapy - { -1 = MX;  0 = M0;  1 = M1;  NA = not applicable}\n",
            "  Processing as numeric\n",
            "  Filled missing values with median: -1.0\n",
            "  Standardized numeric column\n",
            "Processing column: Overall Near-complete Response:  Stricter Definition - {0 = not complete or near-complete, 1 = complete, 2 = near-complete, 3 = pathologic assessment not available, NA = not applicable}  *Strict definition of Near-complete includes the following definitions [from column QK \"Near complete response (graded measure)\"]: 2 = Near complete (pathology report noted results constituted near-complete response to NAT) 3 = No residual disease, only atypical ductal hyperplasia 4 = No invasive carcinoma, DCIS only 5 = No invasive carcinoma, LCIS only 6 = 90% reduction in tumor volume 7 = 95% reduction 18 = 99% of tumor obliterated but extensive residual DCIS\n",
            "  Processing as numeric\n",
            "  Filled missing values with median: 0.0\n",
            "  Standardized numeric column\n",
            "Processing column: Overall Near-complete Response:  Looser Definition - {0 = not complete or near-complete, 1 = complete, 2 = near-complete, 3 = pathologic assessment not available, NA = not applicable}  *Loose definition of Near-complete includes the following definitions [from column QK \"Near complete response (graded measure)\"]: 2 = Near complete (pathology report noted results constituted near-complete response to NAT) 3 = No residual disease, only atypical ductal hyperplasia 4 = No invasive carcinoma, DCIS only 5 = No invasive carcinoma, LCIS only 6 = 90% reduction in tumor volume 7 = 95% reduction 8 = Near complete but DCIS 9 = 90% reduction with DCIS present 10 = No invasive disease but lymph nodes positive 11 = No residual disease, but positive LNs and DCIS 12 = Near complete response noted on path report, but positive LNs 13 = 98% reduction with positive LNs 14 = 95% fibrosis but positive lymph nodes 15 = 90% reduction with positive LNs 16 = > 95% reduction with only mucinous pools remaining 17 = 1mm residual invasive but extensive DCIS 18 = 99% of tumor obliterated but extensive residual DCIS\n",
            "  Processing as numeric\n",
            "  Filled missing values with median: 0.0\n",
            "  Standardized numeric column\n",
            "Processing column: Near-complete Response (Graded Measure) - {0 = Not complete or near-complete;  1 = Complete;  2 = Near complete (pathology report noted results constituted near-complete response to NAT);  3 = No residual disease, only atypical ductal hyperplasia;  4 = No invasive carcinoma, DCIS only;  5 = No invasive carcinoma, LCIS only;  6 = 90% reduction in tumor volume;  7 = 95% reduction;  8 = Near complete but DCIS;  9 = 90% reduction with DCIS present;  10 = No invasive disease but lymph nodes positive;  11 = No residual disease, but positive LNs and DCIS;  12 = Near complete response noted on path report, but positive LNs;  13 = 98% reduction with positive LNs;  14 = 95% fibrosis but positive lymph nodes;  15 = 90% reduction with positive LNs;  16 = > 95% reduction with only mucinous pools remaining;  17 = 1mm residual invasive but extensive DCIS;  18 = 99% of tumor obliterated but extensive residual DCIS;  19 = pathologic assessment not available; NA = not applicable} 0 = Not complete or near-complete 1 = Complete 2 = Near complete (pathology report noted results constituted near-complete response to NAT) 3 = No residual disease, only atypical ductal hyperplasia 4 = No invasive carcinoma, DCIS only 5 = No invasive carcinoma, LCIS only 6 = 90% reduction in tumor volume 7 = 95% reduction 8 = Near complete but DCIS 9 = 90% reduction with DCIS present 10 = No invasive disease but lymph nodes positive 11 = No residual disease, but positive LNs and DCIS 12 = Near complete response noted on path report, but positive LNs 13 = 98% reduction with positive LNs 14 = 95% fibrosis but positive lymph nodes 15 = 90% reduction with positive LNs 16 = > 95% reduction with only mucinous pools remaining 17 = 1mm residual invasive but extensive DCIS 18 = 99% of tumor obliterated but extensive residual DCIS 19 = pathologic assessment not available NA = not applicable\n",
            "  Processing as numeric\n",
            "  Filled missing values with median: 0.0\n",
            "  Standardized numeric column\n",
            "Restored target column: Recurrence event(s) - {0 = no, 1 = yes}\n",
            "Filling NaN values in 1 columns\n",
            "Final encoded dataframe shape: (922, 98)\n",
            "Encoded data shape: (922, 98)\n"
          ]
        }
      ]
    },
    {
      "cell_type": "code",
      "source": [
        "# Split the data into features and target\n",
        "X = encoded_df.drop(columns=[target_col]) if target_col in encoded_df.columns else encoded_df\n",
        "y = encoded_df[target_col] if target_col in encoded_df.columns else None\n",
        "\n",
        "# Print info about target distribution\n",
        "if y is not None:\n",
        "    print(f\"Target distribution:\\n{y.value_counts()}\")\n",
        "else:\n",
        "    print(\"Warning: Target column not found in encoded dataframe!\")\n",
        "\n",
        "# Split data into train, validation, and test sets\n",
        "X_train, X_temp, y_train, y_temp = train_test_split(X, y, test_size=0.30, random_state=42)\n",
        "X_val, X_test, y_val, y_test = train_test_split(X_temp, y_temp, test_size=0.50, random_state=42)\n",
        "\n",
        "print(\"Training set size:\", X_train.shape, y_train.shape)\n",
        "print(\"Validation set size:\", X_val.shape, y_val.shape)\n",
        "print(\"Test set size:\", X_test.shape, y_test.shape)\n",
        "\n",
        "# Reshape data for RNN (sequence data)\n",
        "# RNNs expect input of shape (batch_size, time_steps, features)\n",
        "X_train_seq = np.expand_dims(X_train.values, axis=1)  # shape: (samples, 1, features)\n",
        "X_val_seq = np.expand_dims(X_val.values, axis=1)\n",
        "X_test_seq = np.expand_dims(X_test.values, axis=1)\n",
        "\n",
        "\n",
        "# Check for NaN values using np.isnan for NumPy arrays\n",
        "if np.isnan(X_test_seq).any():\n",
        "    print(\"Warning: NaN values found in test data! Filling with 0...\")\n",
        "    X_test_seq = np.nan_to_num(X_test_seq, nan=0.0)\n",
        "\n",
        "X_train_seq = np.nan_to_num(X_train_seq, nan=0.0)\n",
        "X_val_seq = np.nan_to_num(X_val_seq, nan=0.0)\n",
        "\n",
        "print(\"Sequence shapes:\")\n",
        "print(\"X_train_seq:\", X_train_seq.shape)\n",
        "print(\"X_val_seq:\", X_val_seq.shape)\n",
        "print(\"X_test_seq:\", X_test_seq.shape)"
      ],
      "metadata": {
        "colab": {
          "base_uri": "https://localhost:8080/"
        },
        "id": "hNL_3JdqbRR4",
        "outputId": "d1b9d761-b719-409e-a52b-bd46cf87854a"
      },
      "execution_count": 77,
      "outputs": [
        {
          "output_type": "stream",
          "name": "stdout",
          "text": [
            "Target distribution:\n",
            "Recurrence event(s) - {0 = no, 1 = yes}\n",
            "0.0    835\n",
            "1.0     87\n",
            "Name: count, dtype: int64\n",
            "Training set size: (645, 97) (645,)\n",
            "Validation set size: (138, 97) (138,)\n",
            "Test set size: (139, 97) (139,)\n",
            "Sequence shapes:\n",
            "X_train_seq: (645, 1, 97)\n",
            "X_val_seq: (138, 1, 97)\n",
            "X_test_seq: (139, 1, 97)\n"
          ]
        }
      ]
    },
    {
      "cell_type": "markdown",
      "source": [
        "# RNN Model Training Pipeline\n",
        "**must complete encoding before training**"
      ],
      "metadata": {
        "id": "-lXUsuB3eaf3"
      }
    },
    {
      "cell_type": "code",
      "source": [
        "from tensorflow.keras.layers import Concatenate, BatchNormalization\n",
        "from tensorflow.keras.callbacks import EarlyStopping, ModelCheckpoint, ReduceLROnPlateau\n",
        "from tensorflow.keras.regularizers import l1_l2\n",
        "from sklearn.metrics import classification_report, confusion_matrix, roc_curve, auc, precision_recall_curve\n",
        "\n",
        "def build_advanced_rnn_model(input_shape, rnn_type='LSTM', units=64,\n",
        "                            bidirectional=True, attention=False,\n",
        "                            dropout_rate=0.3, l1_reg=0.0001, l2_reg=0.0001):\n",
        "    \"\"\"\n",
        "    Build an advanced RNN model with various architectural improvements:\n",
        "    - Bidirectional RNN layers\n",
        "    - Batch normalization\n",
        "    - Regularization (dropout, L1, L2)\n",
        "\n",
        "    Parameters:\n",
        "    -----------\n",
        "    input_shape : tuple\n",
        "        Shape of input data (time_steps, features)\n",
        "    rnn_type : str, default='LSTM'\n",
        "        Type of RNN layer ('LSTM' or 'GRU')\n",
        "    units : int, default=64\n",
        "        Number of RNN units\n",
        "    bidirectional : bool, default=True\n",
        "        Whether to use bidirectional RNNs\n",
        "    attention : bool, default=False\n",
        "        Whether to add an attention mechanism (simplified)\n",
        "    dropout_rate : float, default=0.3\n",
        "        Dropout rate for regularization\n",
        "    l1_reg : float, default=0.0001\n",
        "        L1 regularization strength\n",
        "    l2_reg : float, default=0.0001\n",
        "        L2 regularization strength\n",
        "\n",
        "    Returns:\n",
        "    --------\n",
        "    keras.Model\n",
        "        Compiled RNN model\n",
        "    \"\"\"\n",
        "    # Simple version for simpler architectural choices\n",
        "    if not bidirectional:\n",
        "        model = Sequential()\n",
        "\n",
        "        # Use specified RNN type\n",
        "        if rnn_type == 'LSTM':\n",
        "            model.add(LSTM(units, input_shape=input_shape,\n",
        "                          kernel_regularizer=l1_l2(l1=l1_reg, l2=l2_reg),\n",
        "                          recurrent_regularizer=l1_l2(l1=l1_reg, l2=l2_reg),\n",
        "                          return_sequences=False))\n",
        "        elif rnn_type == 'GRU':\n",
        "            model.add(GRU(units, input_shape=input_shape,\n",
        "                         kernel_regularizer=l1_l2(l1=l1_reg, l2=l2_reg),\n",
        "                         recurrent_regularizer=l1_l2(l1=l1_reg, l2=l2_reg),\n",
        "                         return_sequences=False))\n",
        "        else:\n",
        "            raise ValueError(f\"Unknown RNN type: {rnn_type}\")\n",
        "\n",
        "        model.add(BatchNormalization())\n",
        "        model.add(Dropout(dropout_rate))\n",
        "        model.add(Dense(32, activation='relu', kernel_regularizer=l1_l2(l1=l1_reg, l2=l2_reg)))\n",
        "        model.add(BatchNormalization())\n",
        "        model.add(Dropout(dropout_rate))\n",
        "        model.add(Dense(1, activation='sigmoid'))\n",
        "\n",
        "    # More complex model with bidirectional RNNs\n",
        "    else:\n",
        "        # Create functional API model for more flexibility\n",
        "        inputs = Input(shape=input_shape)\n",
        "\n",
        "        # Configure RNN layer based on parameters\n",
        "        if rnn_type == 'LSTM':\n",
        "            rnn_layer = LSTM(units,\n",
        "                            kernel_regularizer=l1_l2(l1=l1_reg, l2=l2_reg),\n",
        "                            recurrent_regularizer=l1_l2(l1=l1_reg, l2=l2_reg),\n",
        "                            return_sequences=False)  # No need for sequences in this implementation\n",
        "        elif rnn_type == 'GRU':\n",
        "            rnn_layer = GRU(units,\n",
        "                           kernel_regularizer=l1_l2(l1=l1_reg, l2=l2_reg),\n",
        "                           recurrent_regularizer=l1_l2(l1=l1_reg, l2=l2_reg),\n",
        "                           return_sequences=False)  # No need for sequences in this implementation\n",
        "        else:\n",
        "            raise ValueError(f\"Unknown RNN type: {rnn_type}\")\n",
        "\n",
        "        # Add bidirectional wrapper\n",
        "        rnn_output = Bidirectional(rnn_layer)(inputs)\n",
        "\n",
        "        # Add dense layers with regularization\n",
        "        x = BatchNormalization()(rnn_output)\n",
        "        x = Dropout(dropout_rate)(x)\n",
        "        x = Dense(32, activation='relu', kernel_regularizer=l1_l2(l1=l1_reg, l2=l2_reg))(x)\n",
        "        x = BatchNormalization()(x)\n",
        "        x = Dropout(dropout_rate)(x)\n",
        "        outputs = Dense(1, activation='sigmoid')(x)\n",
        "\n",
        "        model = Model(inputs=inputs, outputs=outputs)\n",
        "\n",
        "    # Compile model\n",
        "    model.compile(\n",
        "        optimizer=Adam(learning_rate=0.001),\n",
        "        loss='binary_crossentropy',\n",
        "        metrics=['accuracy', tf.keras.metrics.AUC(), tf.keras.metrics.Precision(), tf.keras.metrics.Recall()]\n",
        "    )\n",
        "\n",
        "    return model\n",
        "\n",
        "def train_with_advanced_callbacks(model, X_train, y_train, X_val, y_val,\n",
        "                                 batch_size=32, epochs=100,\n",
        "                                 early_stopping_patience=10,\n",
        "                                 reduce_lr_patience=5,\n",
        "                                 model_checkpoint_path='best_model.h5'):\n",
        "    \"\"\"\n",
        "    Train model with advanced callbacks for better performance\n",
        "\n",
        "    Parameters:\n",
        "    -----------\n",
        "    model : keras.Model\n",
        "        The compiled model to train\n",
        "    X_train, y_train : array-like\n",
        "        Training data and labels\n",
        "    X_val, y_val : array-like\n",
        "        Validation data and labels\n",
        "    batch_size : int, default=32\n",
        "        Batch size for training\n",
        "    epochs : int, default=100\n",
        "        Maximum number of epochs\n",
        "    early_stopping_patience : int, default=10\n",
        "        Patience for early stopping\n",
        "    reduce_lr_patience : int, default=5\n",
        "        Patience for learning rate reduction\n",
        "    model_checkpoint_path : str, default='best_model.h5'\n",
        "        Path to save the best model weights\n",
        "\n",
        "    Returns:\n",
        "    --------\n",
        "    history : dict\n",
        "        Training history\n",
        "    \"\"\"\n",
        "    # Define callbacks\n",
        "    callbacks = [\n",
        "        # Early stopping to prevent overfitting\n",
        "        EarlyStopping(\n",
        "            monitor='val_loss',\n",
        "            patience=early_stopping_patience,\n",
        "            restore_best_weights=True,\n",
        "            verbose=1\n",
        "        ),\n",
        "        # Reduce learning rate when validation loss plateaus\n",
        "        ReduceLROnPlateau(\n",
        "            monitor='val_loss',\n",
        "            factor=0.5,\n",
        "            patience=reduce_lr_patience,\n",
        "            min_lr=1e-6,\n",
        "            verbose=1\n",
        "        ),\n",
        "        # Save the best model based on validation loss\n",
        "        ModelCheckpoint(\n",
        "            filepath=model_checkpoint_path,\n",
        "            monitor='val_loss',\n",
        "            save_best_only=True,\n",
        "            verbose=1\n",
        "        )\n",
        "    ]\n",
        "\n",
        "    # Train the model\n",
        "    history = model.fit(\n",
        "        X_train, y_train,\n",
        "        validation_data=(X_val, y_val),\n",
        "        epochs=epochs,\n",
        "        batch_size=batch_size,\n",
        "        callbacks=callbacks,\n",
        "        verbose=1\n",
        "    )\n",
        "\n",
        "    return history\n",
        "\n",
        "def evaluate_binary_classifier(model, X_test, y_test, class_names=['No Recurrence', 'Recurrence']):\n",
        "    \"\"\"\n",
        "    Comprehensive evaluation of binary classifier with various metrics and plots\n",
        "\n",
        "    Parameters:\n",
        "    -----------\n",
        "    model : keras.Model\n",
        "        Trained model to evaluate\n",
        "    X_test, y_test : array-like\n",
        "        Test data and labels\n",
        "    class_names : list, default=['No Recurrence', 'Recurrence']\n",
        "        Names of the classes for plotting\n",
        "\n",
        "    Returns:\n",
        "    --------\n",
        "    dict\n",
        "        Dictionary of evaluation metrics\n",
        "    \"\"\"\n",
        "    # Get predictions\n",
        "    y_pred_prob = model.predict(X_test)\n",
        "    y_pred = (y_pred_prob > 0.5).astype(int)\n",
        "\n",
        "    # Calculate metrics\n",
        "    test_loss, test_accuracy, test_auc, test_precision, test_recall = model.evaluate(X_test, y_test, verbose=0)\n",
        "\n",
        "    # Classification report\n",
        "    report = classification_report(y_test, y_pred, target_names=class_names, output_dict=True)\n",
        "    print(classification_report(y_test, y_pred, target_names=class_names))\n",
        "\n",
        "    # Confusion matrix\n",
        "    cm = confusion_matrix(y_test, y_pred)\n",
        "    plt.figure(figsize=(8, 6))\n",
        "    plt.imshow(cm, interpolation='nearest', cmap=plt.cm.Blues)\n",
        "    plt.title('Confusion Matrix')\n",
        "    plt.colorbar()\n",
        "    tick_marks = np.arange(len(class_names))\n",
        "    plt.xticks(tick_marks, class_names)\n",
        "    plt.yticks(tick_marks, class_names)\n",
        "    plt.xlabel('Predicted Label')\n",
        "    plt.ylabel('True Label')\n",
        "\n",
        "    # Add text annotations to the confusion matrix\n",
        "    thresh = cm.max() / 2\n",
        "    for i in range(cm.shape[0]):\n",
        "        for j in range(cm.shape[1]):\n",
        "            plt.text(j, i, format(cm[i, j], 'd'),\n",
        "                    horizontalalignment=\"center\",\n",
        "                    color=\"white\" if cm[i, j] > thresh else \"black\")\n",
        "    plt.tight_layout()\n",
        "    plt.savefig('confusion_matrix_advanced.png')\n",
        "    plt.show()\n",
        "\n",
        "    # ROC curve\n",
        "    fpr, tpr, _ = roc_curve(y_test, y_pred_prob)\n",
        "    roc_auc = auc(fpr, tpr)\n",
        "\n",
        "    plt.figure(figsize=(8, 6))\n",
        "    plt.plot(fpr, tpr, color='darkorange', lw=2, label=f'ROC curve (area = {roc_auc:.2f})')\n",
        "    plt.plot([0, 1], [0, 1], color='navy', lw=2, linestyle='--')\n",
        "    plt.xlim([0.0, 1.0])\n",
        "    plt.ylim([0.0, 1.05])\n",
        "    plt.xlabel('False Positive Rate')\n",
        "    plt.ylabel('True Positive Rate')\n",
        "    plt.title('Receiver Operating Characteristic')\n",
        "    plt.legend(loc=\"lower right\")\n",
        "    plt.savefig('roc_curve_advanced.png')\n",
        "    plt.show()\n",
        "\n",
        "    # Precision-Recall curve\n",
        "    precision, recall, _ = precision_recall_curve(y_test, y_pred_prob)\n",
        "    pr_auc = auc(recall, precision)\n",
        "\n",
        "    plt.figure(figsize=(8, 6))\n",
        "    plt.plot(recall, precision, color='blue', lw=2, label=f'PR curve (area = {pr_auc:.2f})')\n",
        "    plt.xlabel('Recall')\n",
        "    plt.ylabel('Precision')\n",
        "    plt.title('Precision-Recall Curve')\n",
        "    plt.legend(loc=\"lower left\")\n",
        "    plt.savefig('pr_curve_advanced.png')\n",
        "    plt.show()\n",
        "\n",
        "    # Return all metrics in a dictionary\n",
        "    metrics = {\n",
        "        'accuracy': test_accuracy,\n",
        "        'auc': test_auc,\n",
        "        'precision': test_precision,\n",
        "        'recall': test_recall,\n",
        "        'f1_score': report['weighted avg']['f1-score'],\n",
        "        'confusion_matrix': cm,\n",
        "        'roc_auc': roc_auc,\n",
        "        'pr_auc': pr_auc\n",
        "    }\n",
        "\n",
        "    return metrics\n"
      ],
      "metadata": {
        "id": "RHKFuH1neeUO"
      },
      "execution_count": 78,
      "outputs": []
    },
    {
      "cell_type": "code",
      "source": [
        "# Example usage:\n",
        "\n",
        "# Build the advanced RNN model\n",
        "input_shape = (X_train_seq.shape[1], X_train_seq.shape[2])  # (time_steps, features)\n",
        "advanced_model = build_advanced_rnn_model(\n",
        "    input_shape=input_shape,\n",
        "    rnn_type='LSTM',       # 'LSTM' or 'GRU'\n",
        "    units=128,             # Number of RNN units\n",
        "    bidirectional=True,    # Use bidirectional RNN\n",
        "    attention=False,       # Attention mechanism not needed for this data\n",
        "    dropout_rate=0.3,      # Dropout rate for regularization\n",
        "    l1_reg=0.0001,         # L1 regularization strength\n",
        "    l2_reg=0.0001          # L2 regularization strength\n",
        ")\n",
        "\n",
        "# Train the model with advanced callbacks\n",
        "history = train_with_advanced_callbacks(\n",
        "    model=advanced_model,\n",
        "    X_train=X_train_seq,\n",
        "    y_train=y_train,\n",
        "    X_val=X_val_seq,\n",
        "    y_val=y_val,\n",
        "    batch_size=32,\n",
        "    epochs=100,\n",
        "    early_stopping_patience=10,\n",
        "    reduce_lr_patience=5\n",
        ")\n",
        "\n",
        "# Evaluate the model\n",
        "metrics = evaluate_binary_classifier(\n",
        "    model=advanced_model,\n",
        "    X_test=X_test_seq,\n",
        "    y_test=y_test\n",
        ")\n",
        "\n",
        "print(f\"Final model performance:\")\n",
        "print(f\"Accuracy: {metrics['accuracy']:.4f}\")\n",
        "print(f\"AUC: {metrics['auc']:.4f}\")\n",
        "print(f\"F1 Score: {metrics['f1_score']:.4f}\")"
      ],
      "metadata": {
        "colab": {
          "base_uri": "https://localhost:8080/",
          "height": 1000
        },
        "id": "wAzHvS3UfZmN",
        "outputId": "a5508b7c-e825-47da-ec7a-3fbcd2441d10"
      },
      "execution_count": 79,
      "outputs": [
        {
          "output_type": "stream",
          "name": "stdout",
          "text": [
            "Epoch 1/100\n",
            "\u001b[1m18/21\u001b[0m \u001b[32m━━━━━━━━━━━━━━━━━\u001b[0m\u001b[37m━━━\u001b[0m \u001b[1m0s\u001b[0m 10ms/step - accuracy: 0.5541 - auc_2: 0.4570 - loss: 1.9347 - precision_2: 0.0528 - recall_2: 0.3362\n",
            "Epoch 1: val_loss improved from inf to 1.37332, saving model to best_model.h5\n"
          ]
        },
        {
          "output_type": "stream",
          "name": "stderr",
          "text": [
            "WARNING:absl:You are saving your model as an HDF5 file via `model.save()` or `keras.saving.save_model(model)`. This file format is considered legacy. We recommend using instead the native Keras format, e.g. `model.save('my_model.keras')` or `keras.saving.save_model(model, 'my_model.keras')`. \n"
          ]
        },
        {
          "output_type": "stream",
          "name": "stdout",
          "text": [
            "\b\b\b\b\b\b\b\b\b\b\b\b\b\b\b\b\b\b\b\b\b\b\b\b\b\b\b\b\b\b\b\b\b\b\b\b\b\b\b\b\b\b\b\b\b\b\b\b\b\b\b\b\b\b\b\b\b\b\b\b\b\b\b\b\b\b\b\b\b\b\b\b\b\b\b\b\b\b\b\b\b\b\b\b\b\b\b\b\b\b\b\b\b\b\b\b\b\b\b\b\b\b\b\b\b\b\b\b\b\b\b\b\b\b\b\b\b\b\b\b\b\b\b\b\b\b\b\b\b\b\r\u001b[1m21/21\u001b[0m \u001b[32m━━━━━━━━━━━━━━━━━━━━\u001b[0m\u001b[37m\u001b[0m \u001b[1m6s\u001b[0m 59ms/step - accuracy: 0.5544 - auc_2: 0.4650 - loss: 1.9075 - precision_2: 0.0584 - recall_2: 0.3510 - val_accuracy: 0.5652 - val_auc_2: 0.5107 - val_loss: 1.3733 - val_precision_2: 0.1356 - val_recall_2: 0.4706 - learning_rate: 0.0010\n",
            "Epoch 2/100\n",
            "\u001b[1m19/21\u001b[0m \u001b[32m━━━━━━━━━━━━━━━━━━\u001b[0m\u001b[37m━━\u001b[0m \u001b[1m0s\u001b[0m 10ms/step - accuracy: 0.5963 - auc_2: 0.5888 - loss: 1.3755 - precision_2: 0.0982 - recall_2: 0.4985\n",
            "Epoch 2: val_loss improved from 1.37332 to 1.05187, saving model to best_model.h5\n"
          ]
        },
        {
          "output_type": "stream",
          "name": "stderr",
          "text": [
            "WARNING:absl:You are saving your model as an HDF5 file via `model.save()` or `keras.saving.save_model(model)`. This file format is considered legacy. We recommend using instead the native Keras format, e.g. `model.save('my_model.keras')` or `keras.saving.save_model(model, 'my_model.keras')`. \n"
          ]
        },
        {
          "output_type": "stream",
          "name": "stdout",
          "text": [
            "\b\b\b\b\b\b\b\b\b\b\b\b\b\b\b\b\b\b\b\b\b\b\b\b\b\b\b\b\b\b\b\b\b\b\b\b\b\b\b\b\b\b\b\b\b\b\b\b\b\b\b\b\b\b\b\b\b\b\b\b\b\b\b\b\b\b\b\b\b\b\b\b\b\b\b\b\b\b\b\b\b\b\b\b\b\b\b\b\b\b\b\b\b\b\b\b\b\b\b\b\b\b\b\b\b\b\b\b\b\b\b\b\b\b\b\b\b\b\b\b\b\b\b\b\b\b\b\b\b\b\r\u001b[1m21/21\u001b[0m \u001b[32m━━━━━━━━━━━━━━━━━━━━\u001b[0m\u001b[37m\u001b[0m \u001b[1m0s\u001b[0m 19ms/step - accuracy: 0.5981 - auc_2: 0.5827 - loss: 1.3686 - precision_2: 0.0969 - recall_2: 0.4826 - val_accuracy: 0.7971 - val_auc_2: 0.5044 - val_loss: 1.0519 - val_precision_2: 0.1333 - val_recall_2: 0.1176 - learning_rate: 0.0010\n",
            "Epoch 3/100\n",
            "\u001b[1m18/21\u001b[0m \u001b[32m━━━━━━━━━━━━━━━━━\u001b[0m\u001b[37m━━━\u001b[0m \u001b[1m0s\u001b[0m 9ms/step - accuracy: 0.6457 - auc_2: 0.6594 - loss: 1.1030 - precision_2: 0.1141 - recall_2: 0.6076 \n",
            "Epoch 3: val_loss improved from 1.05187 to 0.88904, saving model to best_model.h5\n"
          ]
        },
        {
          "output_type": "stream",
          "name": "stderr",
          "text": [
            "WARNING:absl:You are saving your model as an HDF5 file via `model.save()` or `keras.saving.save_model(model)`. This file format is considered legacy. We recommend using instead the native Keras format, e.g. `model.save('my_model.keras')` or `keras.saving.save_model(model, 'my_model.keras')`. \n"
          ]
        },
        {
          "output_type": "stream",
          "name": "stdout",
          "text": [
            "\b\b\b\b\b\b\b\b\b\b\b\b\b\b\b\b\b\b\b\b\b\b\b\b\b\b\b\b\b\b\b\b\b\b\b\b\b\b\b\b\b\b\b\b\b\b\b\b\b\b\b\b\b\b\b\b\b\b\b\b\b\b\b\b\b\b\b\b\b\b\b\b\b\b\b\b\b\b\b\b\b\b\b\b\b\b\b\b\b\b\b\b\b\b\b\b\b\b\b\b\b\b\b\b\b\b\b\b\b\b\b\b\b\b\b\b\b\b\b\b\b\b\b\b\b\b\b\b\b\r\u001b[1m21/21\u001b[0m \u001b[32m━━━━━━━━━━━━━━━━━━━━\u001b[0m\u001b[37m\u001b[0m \u001b[1m0s\u001b[0m 19ms/step - accuracy: 0.6459 - auc_2: 0.6542 - loss: 1.0938 - precision_2: 0.1165 - recall_2: 0.5944 - val_accuracy: 0.8188 - val_auc_2: 0.6320 - val_loss: 0.8890 - val_precision_2: 0.2778 - val_recall_2: 0.2941 - learning_rate: 0.0010\n",
            "Epoch 4/100\n",
            "\u001b[1m19/21\u001b[0m \u001b[32m━━━━━━━━━━━━━━━━━━\u001b[0m\u001b[37m━━\u001b[0m \u001b[1m0s\u001b[0m 9ms/step - accuracy: 0.6999 - auc_2: 0.6541 - loss: 0.9482 - precision_2: 0.1855 - recall_2: 0.6466\n",
            "Epoch 4: val_loss improved from 0.88904 to 0.79721, saving model to best_model.h5\n"
          ]
        },
        {
          "output_type": "stream",
          "name": "stderr",
          "text": [
            "WARNING:absl:You are saving your model as an HDF5 file via `model.save()` or `keras.saving.save_model(model)`. This file format is considered legacy. We recommend using instead the native Keras format, e.g. `model.save('my_model.keras')` or `keras.saving.save_model(model, 'my_model.keras')`. \n"
          ]
        },
        {
          "output_type": "stream",
          "name": "stdout",
          "text": [
            "\b\b\b\b\b\b\b\b\b\b\b\b\b\b\b\b\b\b\b\b\b\b\b\b\b\b\b\b\b\b\b\b\b\b\b\b\b\b\b\b\b\b\b\b\b\b\b\b\b\b\b\b\b\b\b\b\b\b\b\b\b\b\b\b\b\b\b\b\b\b\b\b\b\b\b\b\b\b\b\b\b\b\b\b\b\b\b\b\b\b\b\b\b\b\b\b\b\b\b\b\b\b\b\b\b\b\b\b\b\b\b\b\b\b\b\b\b\b\b\b\b\b\b\b\b\b\b\b\b\r\u001b[1m21/21\u001b[0m \u001b[32m━━━━━━━━━━━━━━━━━━━━\u001b[0m\u001b[37m\u001b[0m \u001b[1m0s\u001b[0m 19ms/step - accuracy: 0.7012 - auc_2: 0.6576 - loss: 0.9396 - precision_2: 0.1820 - recall_2: 0.6357 - val_accuracy: 0.8623 - val_auc_2: 0.5377 - val_loss: 0.7972 - val_precision_2: 0.3333 - val_recall_2: 0.1176 - learning_rate: 0.0010\n",
            "Epoch 5/100\n",
            "\u001b[1m18/21\u001b[0m \u001b[32m━━━━━━━━━━━━━━━━━\u001b[0m\u001b[37m━━━\u001b[0m \u001b[1m0s\u001b[0m 10ms/step - accuracy: 0.7251 - auc_2: 0.7158 - loss: 0.7747 - precision_2: 0.1321 - recall_2: 0.5316\n",
            "Epoch 5: val_loss improved from 0.79721 to 0.73188, saving model to best_model.h5\n"
          ]
        },
        {
          "output_type": "stream",
          "name": "stderr",
          "text": [
            "WARNING:absl:You are saving your model as an HDF5 file via `model.save()` or `keras.saving.save_model(model)`. This file format is considered legacy. We recommend using instead the native Keras format, e.g. `model.save('my_model.keras')` or `keras.saving.save_model(model, 'my_model.keras')`. \n"
          ]
        },
        {
          "output_type": "stream",
          "name": "stdout",
          "text": [
            "\b\b\b\b\b\b\b\b\b\b\b\b\b\b\b\b\b\b\b\b\b\b\b\b\b\b\b\b\b\b\b\b\b\b\b\b\b\b\b\b\b\b\b\b\b\b\b\b\b\b\b\b\b\b\b\b\b\b\b\b\b\b\b\b\b\b\b\b\b\b\b\b\b\b\b\b\b\b\b\b\b\b\b\b\b\b\b\b\b\b\b\b\b\b\b\b\b\b\b\b\b\b\b\b\b\b\b\b\b\b\b\b\b\b\b\b\b\b\b\b\b\b\b\b\b\b\b\b\b\b\r\u001b[1m21/21\u001b[0m \u001b[32m━━━━━━━━━━━━━━━━━━━━\u001b[0m\u001b[37m\u001b[0m \u001b[1m0s\u001b[0m 19ms/step - accuracy: 0.7277 - auc_2: 0.7150 - loss: 0.7735 - precision_2: 0.1390 - recall_2: 0.5322 - val_accuracy: 0.8551 - val_auc_2: 0.6128 - val_loss: 0.7319 - val_precision_2: 0.2000 - val_recall_2: 0.0588 - learning_rate: 0.0010\n",
            "Epoch 6/100\n",
            "\u001b[1m18/21\u001b[0m \u001b[32m━━━━━━━━━━━━━━━━━\u001b[0m\u001b[37m━━━\u001b[0m \u001b[1m0s\u001b[0m 10ms/step - accuracy: 0.7502 - auc_2: 0.7141 - loss: 0.7282 - precision_2: 0.1810 - recall_2: 0.5210\n",
            "Epoch 6: val_loss improved from 0.73188 to 0.69461, saving model to best_model.h5\n"
          ]
        },
        {
          "output_type": "stream",
          "name": "stderr",
          "text": [
            "WARNING:absl:You are saving your model as an HDF5 file via `model.save()` or `keras.saving.save_model(model)`. This file format is considered legacy. We recommend using instead the native Keras format, e.g. `model.save('my_model.keras')` or `keras.saving.save_model(model, 'my_model.keras')`. \n"
          ]
        },
        {
          "output_type": "stream",
          "name": "stdout",
          "text": [
            "\b\b\b\b\b\b\b\b\b\b\b\b\b\b\b\b\b\b\b\b\b\b\b\b\b\b\b\b\b\b\b\b\b\b\b\b\b\b\b\b\b\b\b\b\b\b\b\b\b\b\b\b\b\b\b\b\b\b\b\b\b\b\b\b\b\b\b\b\b\b\b\b\b\b\b\b\b\b\b\b\b\b\b\b\b\b\b\b\b\b\b\b\b\b\b\b\b\b\b\b\b\b\b\b\b\b\b\b\b\b\b\b\b\b\b\b\b\b\b\b\b\b\b\b\b\b\b\b\b\b\r\u001b[1m21/21\u001b[0m \u001b[32m━━━━━━━━━━━━━━━━━━━━\u001b[0m\u001b[37m\u001b[0m \u001b[1m0s\u001b[0m 19ms/step - accuracy: 0.7497 - auc_2: 0.7069 - loss: 0.7291 - precision_2: 0.1769 - recall_2: 0.5101 - val_accuracy: 0.8696 - val_auc_2: 0.5058 - val_loss: 0.6946 - val_precision_2: 0.0000e+00 - val_recall_2: 0.0000e+00 - learning_rate: 0.0010\n",
            "Epoch 7/100\n",
            "\u001b[1m17/21\u001b[0m \u001b[32m━━━━━━━━━━━━━━━━\u001b[0m\u001b[37m━━━━\u001b[0m \u001b[1m0s\u001b[0m 10ms/step - accuracy: 0.7955 - auc_2: 0.7120 - loss: 0.6703 - precision_2: 0.2215 - recall_2: 0.4728\n",
            "Epoch 7: val_loss improved from 0.69461 to 0.64460, saving model to best_model.h5\n"
          ]
        },
        {
          "output_type": "stream",
          "name": "stderr",
          "text": [
            "WARNING:absl:You are saving your model as an HDF5 file via `model.save()` or `keras.saving.save_model(model)`. This file format is considered legacy. We recommend using instead the native Keras format, e.g. `model.save('my_model.keras')` or `keras.saving.save_model(model, 'my_model.keras')`. \n"
          ]
        },
        {
          "output_type": "stream",
          "name": "stdout",
          "text": [
            "\b\b\b\b\b\b\b\b\b\b\b\b\b\b\b\b\b\b\b\b\b\b\b\b\b\b\b\b\b\b\b\b\b\b\b\b\b\b\b\b\b\b\b\b\b\b\b\b\b\b\b\b\b\b\b\b\b\b\b\b\b\b\b\b\b\b\b\b\b\b\b\b\b\b\b\b\b\b\b\b\b\b\b\b\b\b\b\b\b\b\b\b\b\b\b\b\b\b\b\b\b\b\b\b\b\b\b\b\b\b\b\b\b\b\b\b\b\b\b\b\b\b\b\b\b\b\b\b\b\b\r\u001b[1m21/21\u001b[0m \u001b[32m━━━━━━━━━━━━━━━━━━━━\u001b[0m\u001b[37m\u001b[0m \u001b[1m1s\u001b[0m 18ms/step - accuracy: 0.7984 - auc_2: 0.7135 - loss: 0.6680 - precision_2: 0.2215 - recall_2: 0.4764 - val_accuracy: 0.8696 - val_auc_2: 0.5846 - val_loss: 0.6446 - val_precision_2: 0.0000e+00 - val_recall_2: 0.0000e+00 - learning_rate: 0.0010\n",
            "Epoch 8/100\n",
            "\u001b[1m17/21\u001b[0m \u001b[32m━━━━━━━━━━━━━━━━\u001b[0m\u001b[37m━━━━\u001b[0m \u001b[1m0s\u001b[0m 10ms/step - accuracy: 0.8226 - auc_2: 0.6951 - loss: 0.6376 - precision_2: 0.2128 - recall_2: 0.3732\n",
            "Epoch 8: val_loss improved from 0.64460 to 0.59347, saving model to best_model.h5\n"
          ]
        },
        {
          "output_type": "stream",
          "name": "stderr",
          "text": [
            "WARNING:absl:You are saving your model as an HDF5 file via `model.save()` or `keras.saving.save_model(model)`. This file format is considered legacy. We recommend using instead the native Keras format, e.g. `model.save('my_model.keras')` or `keras.saving.save_model(model, 'my_model.keras')`. \n"
          ]
        },
        {
          "output_type": "stream",
          "name": "stdout",
          "text": [
            "\b\b\b\b\b\b\b\b\b\b\b\b\b\b\b\b\b\b\b\b\b\b\b\b\b\b\b\b\b\b\b\b\b\b\b\b\b\b\b\b\b\b\b\b\b\b\b\b\b\b\b\b\b\b\b\b\b\b\b\b\b\b\b\b\b\b\b\b\b\b\b\b\b\b\b\b\b\b\b\b\b\b\b\b\b\b\b\b\b\b\b\b\b\b\b\b\b\b\b\b\b\b\b\b\b\b\b\b\b\b\b\b\b\b\b\b\b\b\b\b\b\b\b\b\b\b\b\b\b\b\r\u001b[1m21/21\u001b[0m \u001b[32m━━━━━━━━━━━━━━━━━━━━\u001b[0m\u001b[37m\u001b[0m \u001b[1m1s\u001b[0m 19ms/step - accuracy: 0.8205 - auc_2: 0.6939 - loss: 0.6376 - precision_2: 0.2078 - recall_2: 0.3745 - val_accuracy: 0.8768 - val_auc_2: 0.6337 - val_loss: 0.5935 - val_precision_2: 0.0000e+00 - val_recall_2: 0.0000e+00 - learning_rate: 0.0010\n",
            "Epoch 9/100\n",
            "\u001b[1m19/21\u001b[0m \u001b[32m━━━━━━━━━━━━━━━━━━\u001b[0m\u001b[37m━━\u001b[0m \u001b[1m0s\u001b[0m 9ms/step - accuracy: 0.8139 - auc_2: 0.6632 - loss: 0.6332 - precision_2: 0.1975 - recall_2: 0.3430\n",
            "Epoch 9: val_loss improved from 0.59347 to 0.57783, saving model to best_model.h5\n"
          ]
        },
        {
          "output_type": "stream",
          "name": "stderr",
          "text": [
            "WARNING:absl:You are saving your model as an HDF5 file via `model.save()` or `keras.saving.save_model(model)`. This file format is considered legacy. We recommend using instead the native Keras format, e.g. `model.save('my_model.keras')` or `keras.saving.save_model(model, 'my_model.keras')`. \n"
          ]
        },
        {
          "output_type": "stream",
          "name": "stdout",
          "text": [
            "\b\b\b\b\b\b\b\b\b\b\b\b\b\b\b\b\b\b\b\b\b\b\b\b\b\b\b\b\b\b\b\b\b\b\b\b\b\b\b\b\b\b\b\b\b\b\b\b\b\b\b\b\b\b\b\b\b\b\b\b\b\b\b\b\b\b\b\b\b\b\b\b\b\b\b\b\b\b\b\b\b\b\b\b\b\b\b\b\b\b\b\b\b\b\b\b\b\b\b\b\b\b\b\b\b\b\b\b\b\b\b\b\b\b\b\b\b\b\b\b\b\b\b\b\b\b\b\b\b\r\u001b[1m21/21\u001b[0m \u001b[32m━━━━━━━━━━━━━━━━━━━━\u001b[0m\u001b[37m\u001b[0m \u001b[1m1s\u001b[0m 20ms/step - accuracy: 0.8153 - auc_2: 0.6653 - loss: 0.6315 - precision_2: 0.1972 - recall_2: 0.3428 - val_accuracy: 0.8768 - val_auc_2: 0.6437 - val_loss: 0.5778 - val_precision_2: 0.0000e+00 - val_recall_2: 0.0000e+00 - learning_rate: 0.0010\n",
            "Epoch 10/100\n",
            "\u001b[1m21/21\u001b[0m \u001b[32m━━━━━━━━━━━━━━━━━━━━\u001b[0m\u001b[37m\u001b[0m \u001b[1m0s\u001b[0m 15ms/step - accuracy: 0.8564 - auc_2: 0.6406 - loss: 0.5775 - precision_2: 0.1820 - recall_2: 0.2434\n",
            "Epoch 10: val_loss improved from 0.57783 to 0.56142, saving model to best_model.h5\n"
          ]
        },
        {
          "output_type": "stream",
          "name": "stderr",
          "text": [
            "WARNING:absl:You are saving your model as an HDF5 file via `model.save()` or `keras.saving.save_model(model)`. This file format is considered legacy. We recommend using instead the native Keras format, e.g. `model.save('my_model.keras')` or `keras.saving.save_model(model, 'my_model.keras')`. \n"
          ]
        },
        {
          "output_type": "stream",
          "name": "stdout",
          "text": [
            "\b\b\b\b\b\b\b\b\b\b\b\b\b\b\b\b\b\b\b\b\b\b\b\b\b\b\b\b\b\b\b\b\b\b\b\b\b\b\b\b\b\b\b\b\b\b\b\b\b\b\b\b\b\b\b\b\b\b\b\b\b\b\b\b\b\b\b\b\b\b\b\b\b\b\b\b\b\b\b\b\b\b\b\b\b\b\b\b\b\b\b\b\b\b\b\b\b\b\b\b\b\b\b\b\b\b\b\b\b\b\b\b\b\b\b\b\b\b\b\b\b\b\b\b\b\b\b\b\b\b\r\u001b[1m21/21\u001b[0m \u001b[32m━━━━━━━━━━━━━━━━━━━━\u001b[0m\u001b[37m\u001b[0m \u001b[1m1s\u001b[0m 30ms/step - accuracy: 0.8567 - auc_2: 0.6414 - loss: 0.5777 - precision_2: 0.1847 - recall_2: 0.2455 - val_accuracy: 0.8768 - val_auc_2: 0.7380 - val_loss: 0.5614 - val_precision_2: 0.0000e+00 - val_recall_2: 0.0000e+00 - learning_rate: 0.0010\n",
            "Epoch 11/100\n",
            "\u001b[1m21/21\u001b[0m \u001b[32m━━━━━━━━━━━━━━━━━━━━\u001b[0m\u001b[37m\u001b[0m \u001b[1m0s\u001b[0m 14ms/step - accuracy: 0.8609 - auc_2: 0.7490 - loss: 0.5389 - precision_2: 0.2833 - recall_2: 0.3260\n",
            "Epoch 11: val_loss improved from 0.56142 to 0.52963, saving model to best_model.h5\n"
          ]
        },
        {
          "output_type": "stream",
          "name": "stderr",
          "text": [
            "WARNING:absl:You are saving your model as an HDF5 file via `model.save()` or `keras.saving.save_model(model)`. This file format is considered legacy. We recommend using instead the native Keras format, e.g. `model.save('my_model.keras')` or `keras.saving.save_model(model, 'my_model.keras')`. \n"
          ]
        },
        {
          "output_type": "stream",
          "name": "stdout",
          "text": [
            "\b\b\b\b\b\b\b\b\b\b\b\b\b\b\b\b\b\b\b\b\b\b\b\b\b\b\b\b\b\b\b\b\b\b\b\b\b\b\b\b\b\b\b\b\b\b\b\b\b\b\b\b\b\b\b\b\b\b\b\b\b\b\b\b\b\b\b\b\b\b\b\b\b\b\b\b\b\b\b\b\b\b\b\b\b\b\b\b\b\b\b\b\b\b\b\b\b\b\b\b\b\b\b\b\b\b\b\b\b\b\b\b\b\b\b\b\b\b\b\b\b\b\b\b\b\b\b\b\b\b\r\u001b[1m21/21\u001b[0m \u001b[32m━━━━━━━━━━━━━━━━━━━━\u001b[0m\u001b[37m\u001b[0m \u001b[1m1s\u001b[0m 25ms/step - accuracy: 0.8607 - auc_2: 0.7461 - loss: 0.5395 - precision_2: 0.2798 - recall_2: 0.3219 - val_accuracy: 0.8768 - val_auc_2: 0.7331 - val_loss: 0.5296 - val_precision_2: 0.0000e+00 - val_recall_2: 0.0000e+00 - learning_rate: 0.0010\n",
            "Epoch 12/100\n",
            "\u001b[1m20/21\u001b[0m \u001b[32m━━━━━━━━━━━━━━━━━━━\u001b[0m\u001b[37m━\u001b[0m \u001b[1m0s\u001b[0m 15ms/step - accuracy: 0.8730 - auc_2: 0.7045 - loss: 0.5254 - precision_2: 0.2396 - recall_2: 0.2454\n",
            "Epoch 12: val_loss improved from 0.52963 to 0.51202, saving model to best_model.h5\n"
          ]
        },
        {
          "output_type": "stream",
          "name": "stderr",
          "text": [
            "WARNING:absl:You are saving your model as an HDF5 file via `model.save()` or `keras.saving.save_model(model)`. This file format is considered legacy. We recommend using instead the native Keras format, e.g. `model.save('my_model.keras')` or `keras.saving.save_model(model, 'my_model.keras')`. \n"
          ]
        },
        {
          "output_type": "stream",
          "name": "stdout",
          "text": [
            "\b\b\b\b\b\b\b\b\b\b\b\b\b\b\b\b\b\b\b\b\b\b\b\b\b\b\b\b\b\b\b\b\b\b\b\b\b\b\b\b\b\b\b\b\b\b\b\b\b\b\b\b\b\b\b\b\b\b\b\b\b\b\b\b\b\b\b\b\b\b\b\b\b\b\b\b\b\b\b\b\b\b\b\b\b\b\b\b\b\b\b\b\b\b\b\b\b\b\b\b\b\b\b\b\b\b\b\b\b\b\b\b\b\b\b\b\b\b\b\b\b\b\b\b\b\b\b\b\b\b\r\u001b[1m21/21\u001b[0m \u001b[32m━━━━━━━━━━━━━━━━━━━━\u001b[0m\u001b[37m\u001b[0m \u001b[1m1s\u001b[0m 28ms/step - accuracy: 0.8740 - auc_2: 0.7060 - loss: 0.5246 - precision_2: 0.2465 - recall_2: 0.2512 - val_accuracy: 0.8768 - val_auc_2: 0.7385 - val_loss: 0.5120 - val_precision_2: 0.0000e+00 - val_recall_2: 0.0000e+00 - learning_rate: 0.0010\n",
            "Epoch 13/100\n",
            "\u001b[1m21/21\u001b[0m \u001b[32m━━━━━━━━━━━━━━━━━━━━\u001b[0m\u001b[37m\u001b[0m \u001b[1m0s\u001b[0m 11ms/step - accuracy: 0.8663 - auc_2: 0.7214 - loss: 0.5068 - precision_2: 0.2015 - recall_2: 0.2105\n",
            "Epoch 13: val_loss did not improve from 0.51202\n",
            "\u001b[1m21/21\u001b[0m \u001b[32m━━━━━━━━━━━━━━━━━━━━\u001b[0m\u001b[37m\u001b[0m \u001b[1m0s\u001b[0m 16ms/step - accuracy: 0.8664 - auc_2: 0.7209 - loss: 0.5068 - precision_2: 0.2028 - recall_2: 0.2117 - val_accuracy: 0.8768 - val_auc_2: 0.6648 - val_loss: 0.5192 - val_precision_2: 0.0000e+00 - val_recall_2: 0.0000e+00 - learning_rate: 0.0010\n",
            "Epoch 14/100\n",
            "\u001b[1m18/21\u001b[0m \u001b[32m━━━━━━━━━━━━━━━━━\u001b[0m\u001b[37m━━━\u001b[0m \u001b[1m0s\u001b[0m 10ms/step - accuracy: 0.8953 - auc_2: 0.7831 - loss: 0.4580 - precision_2: 0.3312 - recall_2: 0.2116\n",
            "Epoch 14: val_loss did not improve from 0.51202\n",
            "\u001b[1m21/21\u001b[0m \u001b[32m━━━━━━━━━━━━━━━━━━━━\u001b[0m\u001b[37m\u001b[0m \u001b[1m1s\u001b[0m 15ms/step - accuracy: 0.8930 - auc_2: 0.7732 - loss: 0.4609 - precision_2: 0.3216 - recall_2: 0.2171 - val_accuracy: 0.8768 - val_auc_2: 0.6339 - val_loss: 0.5195 - val_precision_2: 0.0000e+00 - val_recall_2: 0.0000e+00 - learning_rate: 0.0010\n",
            "Epoch 15/100\n",
            "\u001b[1m19/21\u001b[0m \u001b[32m━━━━━━━━━━━━━━━━━━\u001b[0m\u001b[37m━━\u001b[0m \u001b[1m0s\u001b[0m 9ms/step - accuracy: 0.9007 - auc_2: 0.7401 - loss: 0.4591 - precision_2: 0.2992 - recall_2: 0.2281\n",
            "Epoch 15: val_loss improved from 0.51202 to 0.49894, saving model to best_model.h5\n"
          ]
        },
        {
          "output_type": "stream",
          "name": "stderr",
          "text": [
            "WARNING:absl:You are saving your model as an HDF5 file via `model.save()` or `keras.saving.save_model(model)`. This file format is considered legacy. We recommend using instead the native Keras format, e.g. `model.save('my_model.keras')` or `keras.saving.save_model(model, 'my_model.keras')`. \n"
          ]
        },
        {
          "output_type": "stream",
          "name": "stdout",
          "text": [
            "\b\b\b\b\b\b\b\b\b\b\b\b\b\b\b\b\b\b\b\b\b\b\b\b\b\b\b\b\b\b\b\b\b\b\b\b\b\b\b\b\b\b\b\b\b\b\b\b\b\b\b\b\b\b\b\b\b\b\b\b\b\b\b\b\b\b\b\b\b\b\b\b\b\b\b\b\b\b\b\b\b\b\b\b\b\b\b\b\b\b\b\b\b\b\b\b\b\b\b\b\b\b\b\b\b\b\b\b\b\b\b\b\b\b\b\b\b\b\b\b\b\b\b\b\b\b\b\b\b\r\u001b[1m21/21\u001b[0m \u001b[32m━━━━━━━━━━━━━━━━━━━━\u001b[0m\u001b[37m\u001b[0m \u001b[1m0s\u001b[0m 19ms/step - accuracy: 0.9009 - auc_2: 0.7388 - loss: 0.4591 - precision_2: 0.3106 - recall_2: 0.2294 - val_accuracy: 0.8841 - val_auc_2: 0.6570 - val_loss: 0.4989 - val_precision_2: 1.0000 - val_recall_2: 0.0588 - learning_rate: 0.0010\n",
            "Epoch 16/100\n",
            "\u001b[1m19/21\u001b[0m \u001b[32m━━━━━━━━━━━━━━━━━━\u001b[0m\u001b[37m━━\u001b[0m \u001b[1m0s\u001b[0m 9ms/step - accuracy: 0.9107 - auc_2: 0.6625 - loss: 0.4771 - precision_2: 0.5121 - recall_2: 0.2560\n",
            "Epoch 16: val_loss did not improve from 0.49894\n",
            "\u001b[1m21/21\u001b[0m \u001b[32m━━━━━━━━━━━━━━━━━━━━\u001b[0m\u001b[37m\u001b[0m \u001b[1m1s\u001b[0m 15ms/step - accuracy: 0.9103 - auc_2: 0.6701 - loss: 0.4744 - precision_2: 0.5005 - recall_2: 0.2606 - val_accuracy: 0.8768 - val_auc_2: 0.6104 - val_loss: 0.5204 - val_precision_2: 0.0000e+00 - val_recall_2: 0.0000e+00 - learning_rate: 0.0010\n",
            "Epoch 17/100\n",
            "\u001b[1m18/21\u001b[0m \u001b[32m━━━━━━━━━━━━━━━━━\u001b[0m\u001b[37m━━━\u001b[0m \u001b[1m0s\u001b[0m 10ms/step - accuracy: 0.9118 - auc_2: 0.8595 - loss: 0.4106 - precision_2: 0.5421 - recall_2: 0.3831\n",
            "Epoch 17: val_loss did not improve from 0.49894\n",
            "\u001b[1m21/21\u001b[0m \u001b[32m━━━━━━━━━━━━━━━━━━━━\u001b[0m\u001b[37m\u001b[0m \u001b[1m1s\u001b[0m 15ms/step - accuracy: 0.9112 - auc_2: 0.8532 - loss: 0.4124 - precision_2: 0.5271 - recall_2: 0.3802 - val_accuracy: 0.8768 - val_auc_2: 0.6162 - val_loss: 0.5113 - val_precision_2: 0.0000e+00 - val_recall_2: 0.0000e+00 - learning_rate: 0.0010\n",
            "Epoch 18/100\n",
            "\u001b[1m18/21\u001b[0m \u001b[32m━━━━━━━━━━━━━━━━━\u001b[0m\u001b[37m━━━\u001b[0m \u001b[1m0s\u001b[0m 10ms/step - accuracy: 0.9093 - auc_2: 0.7967 - loss: 0.4078 - precision_2: 0.4683 - recall_2: 0.3182\n",
            "Epoch 18: val_loss did not improve from 0.49894\n",
            "\u001b[1m21/21\u001b[0m \u001b[32m━━━━━━━━━━━━━━━━━━━━\u001b[0m\u001b[37m\u001b[0m \u001b[1m1s\u001b[0m 14ms/step - accuracy: 0.9086 - auc_2: 0.7927 - loss: 0.4091 - precision_2: 0.4600 - recall_2: 0.3128 - val_accuracy: 0.8768 - val_auc_2: 0.6118 - val_loss: 0.5073 - val_precision_2: 0.0000e+00 - val_recall_2: 0.0000e+00 - learning_rate: 0.0010\n",
            "Epoch 19/100\n",
            "\u001b[1m19/21\u001b[0m \u001b[32m━━━━━━━━━━━━━━━━━━\u001b[0m\u001b[37m━━\u001b[0m \u001b[1m0s\u001b[0m 9ms/step - accuracy: 0.9176 - auc_2: 0.7881 - loss: 0.4204 - precision_2: 0.5238 - recall_2: 0.3682\n",
            "Epoch 19: val_loss did not improve from 0.49894\n",
            "\u001b[1m21/21\u001b[0m \u001b[32m━━━━━━━━━━━━━━━━━━━━\u001b[0m\u001b[37m\u001b[0m \u001b[1m0s\u001b[0m 15ms/step - accuracy: 0.9173 - auc_2: 0.7859 - loss: 0.4197 - precision_2: 0.5206 - recall_2: 0.3604 - val_accuracy: 0.8841 - val_auc_2: 0.5450 - val_loss: 0.5157 - val_precision_2: 1.0000 - val_recall_2: 0.0588 - learning_rate: 0.0010\n",
            "Epoch 20/100\n",
            "\u001b[1m18/21\u001b[0m \u001b[32m━━━━━━━━━━━━━━━━━\u001b[0m\u001b[37m━━━\u001b[0m \u001b[1m0s\u001b[0m 10ms/step - accuracy: 0.8960 - auc_2: 0.7634 - loss: 0.4213 - precision_2: 0.3810 - recall_2: 0.2138\n",
            "Epoch 20: ReduceLROnPlateau reducing learning rate to 0.0005000000237487257.\n",
            "\n",
            "Epoch 20: val_loss did not improve from 0.49894\n",
            "\u001b[1m21/21\u001b[0m \u001b[32m━━━━━━━━━━━━━━━━━━━━\u001b[0m\u001b[37m\u001b[0m \u001b[1m1s\u001b[0m 15ms/step - accuracy: 0.8972 - auc_2: 0.7672 - loss: 0.4177 - precision_2: 0.3815 - recall_2: 0.2179 - val_accuracy: 0.8841 - val_auc_2: 0.6298 - val_loss: 0.5063 - val_precision_2: 1.0000 - val_recall_2: 0.0588 - learning_rate: 0.0010\n",
            "Epoch 21/100\n",
            "\u001b[1m19/21\u001b[0m \u001b[32m━━━━━━━━━━━━━━━━━━\u001b[0m\u001b[37m━━\u001b[0m \u001b[1m0s\u001b[0m 9ms/step - accuracy: 0.8994 - auc_2: 0.8501 - loss: 0.3813 - precision_2: 0.3702 - recall_2: 0.1585\n",
            "Epoch 21: val_loss did not improve from 0.49894\n",
            "\u001b[1m21/21\u001b[0m \u001b[32m━━━━━━━━━━━━━━━━━━━━\u001b[0m\u001b[37m\u001b[0m \u001b[1m0s\u001b[0m 15ms/step - accuracy: 0.8996 - auc_2: 0.8454 - loss: 0.3827 - precision_2: 0.3687 - recall_2: 0.1642 - val_accuracy: 0.8841 - val_auc_2: 0.6366 - val_loss: 0.5003 - val_precision_2: 1.0000 - val_recall_2: 0.0588 - learning_rate: 5.0000e-04\n",
            "Epoch 22/100\n",
            "\u001b[1m19/21\u001b[0m \u001b[32m━━━━━━━━━━━━━━━━━━\u001b[0m\u001b[37m━━\u001b[0m \u001b[1m0s\u001b[0m 9ms/step - accuracy: 0.9018 - auc_2: 0.8148 - loss: 0.3843 - precision_2: 0.3008 - recall_2: 0.1376\n",
            "Epoch 22: val_loss improved from 0.49894 to 0.48484, saving model to best_model.h5\n"
          ]
        },
        {
          "output_type": "stream",
          "name": "stderr",
          "text": [
            "WARNING:absl:You are saving your model as an HDF5 file via `model.save()` or `keras.saving.save_model(model)`. This file format is considered legacy. We recommend using instead the native Keras format, e.g. `model.save('my_model.keras')` or `keras.saving.save_model(model, 'my_model.keras')`. \n"
          ]
        },
        {
          "output_type": "stream",
          "name": "stdout",
          "text": [
            "\b\b\b\b\b\b\b\b\b\b\b\b\b\b\b\b\b\b\b\b\b\b\b\b\b\b\b\b\b\b\b\b\b\b\b\b\b\b\b\b\b\b\b\b\b\b\b\b\b\b\b\b\b\b\b\b\b\b\b\b\b\b\b\b\b\b\b\b\b\b\b\b\b\b\b\b\b\b\b\b\b\b\b\b\b\b\b\b\b\b\b\b\b\b\b\b\b\b\b\b\b\b\b\b\b\b\b\b\b\b\b\b\b\b\b\b\b\b\b\b\b\b\b\b\b\b\b\b\b\r\u001b[1m21/21\u001b[0m \u001b[32m━━━━━━━━━━━━━━━━━━━━\u001b[0m\u001b[37m\u001b[0m \u001b[1m1s\u001b[0m 18ms/step - accuracy: 0.9036 - auc_2: 0.8188 - loss: 0.3821 - precision_2: 0.3280 - recall_2: 0.1535 - val_accuracy: 0.8841 - val_auc_2: 0.6915 - val_loss: 0.4848 - val_precision_2: 1.0000 - val_recall_2: 0.0588 - learning_rate: 5.0000e-04\n",
            "Epoch 23/100\n",
            "\u001b[1m19/21\u001b[0m \u001b[32m━━━━━━━━━━━━━━━━━━\u001b[0m\u001b[37m━━\u001b[0m \u001b[1m0s\u001b[0m 9ms/step - accuracy: 0.9291 - auc_2: 0.8114 - loss: 0.3724 - precision_2: 0.6875 - recall_2: 0.3184\n",
            "Epoch 23: val_loss did not improve from 0.48484\n",
            "\u001b[1m21/21\u001b[0m \u001b[32m━━━━━━━━━━━━━━━━━━━━\u001b[0m\u001b[37m\u001b[0m \u001b[1m0s\u001b[0m 15ms/step - accuracy: 0.9288 - auc_2: 0.8120 - loss: 0.3727 - precision_2: 0.6847 - recall_2: 0.3147 - val_accuracy: 0.8768 - val_auc_2: 0.6818 - val_loss: 0.5298 - val_precision_2: 0.0000e+00 - val_recall_2: 0.0000e+00 - learning_rate: 5.0000e-04\n",
            "Epoch 24/100\n",
            "\u001b[1m18/21\u001b[0m \u001b[32m━━━━━━━━━━━━━━━━━\u001b[0m\u001b[37m━━━\u001b[0m \u001b[1m0s\u001b[0m 10ms/step - accuracy: 0.9196 - auc_2: 0.8199 - loss: 0.3663 - precision_2: 0.5922 - recall_2: 0.2641\n",
            "Epoch 24: val_loss improved from 0.48484 to 0.46997, saving model to best_model.h5\n"
          ]
        },
        {
          "output_type": "stream",
          "name": "stderr",
          "text": [
            "WARNING:absl:You are saving your model as an HDF5 file via `model.save()` or `keras.saving.save_model(model)`. This file format is considered legacy. We recommend using instead the native Keras format, e.g. `model.save('my_model.keras')` or `keras.saving.save_model(model, 'my_model.keras')`. \n"
          ]
        },
        {
          "output_type": "stream",
          "name": "stdout",
          "text": [
            "\b\b\b\b\b\b\b\b\b\b\b\b\b\b\b\b\b\b\b\b\b\b\b\b\b\b\b\b\b\b\b\b\b\b\b\b\b\b\b\b\b\b\b\b\b\b\b\b\b\b\b\b\b\b\b\b\b\b\b\b\b\b\b\b\b\b\b\b\b\b\b\b\b\b\b\b\b\b\b\b\b\b\b\b\b\b\b\b\b\b\b\b\b\b\b\b\b\b\b\b\b\b\b\b\b\b\b\b\b\b\b\b\b\b\b\b\b\b\b\b\b\b\b\b\b\b\b\b\b\b\r\u001b[1m21/21\u001b[0m \u001b[32m━━━━━━━━━━━━━━━━━━━━\u001b[0m\u001b[37m\u001b[0m \u001b[1m1s\u001b[0m 18ms/step - accuracy: 0.9206 - auc_2: 0.8262 - loss: 0.3634 - precision_2: 0.6001 - recall_2: 0.2722 - val_accuracy: 0.8841 - val_auc_2: 0.7018 - val_loss: 0.4700 - val_precision_2: 1.0000 - val_recall_2: 0.0588 - learning_rate: 5.0000e-04\n",
            "Epoch 25/100\n",
            "\u001b[1m17/21\u001b[0m \u001b[32m━━━━━━━━━━━━━━━━\u001b[0m\u001b[37m━━━━\u001b[0m \u001b[1m0s\u001b[0m 10ms/step - accuracy: 0.9187 - auc_2: 0.8196 - loss: 0.3707 - precision_2: 0.5441 - recall_2: 0.3773\n",
            "Epoch 25: val_loss did not improve from 0.46997\n",
            "\u001b[1m21/21\u001b[0m \u001b[32m━━━━━━━━━━━━━━━━━━━━\u001b[0m\u001b[37m\u001b[0m \u001b[1m1s\u001b[0m 15ms/step - accuracy: 0.9175 - auc_2: 0.8138 - loss: 0.3722 - precision_2: 0.5332 - recall_2: 0.3523 - val_accuracy: 0.8841 - val_auc_2: 0.7044 - val_loss: 0.4713 - val_precision_2: 1.0000 - val_recall_2: 0.0588 - learning_rate: 5.0000e-04\n",
            "Epoch 26/100\n",
            "\u001b[1m21/21\u001b[0m \u001b[32m━━━━━━━━━━━━━━━━━━━━\u001b[0m\u001b[37m\u001b[0m \u001b[1m0s\u001b[0m 10ms/step - accuracy: 0.9265 - auc_2: 0.7892 - loss: 0.3587 - precision_2: 0.5681 - recall_2: 0.2693\n",
            "Epoch 26: val_loss improved from 0.46997 to 0.45809, saving model to best_model.h5\n"
          ]
        },
        {
          "output_type": "stream",
          "name": "stderr",
          "text": [
            "WARNING:absl:You are saving your model as an HDF5 file via `model.save()` or `keras.saving.save_model(model)`. This file format is considered legacy. We recommend using instead the native Keras format, e.g. `model.save('my_model.keras')` or `keras.saving.save_model(model, 'my_model.keras')`. \n"
          ]
        },
        {
          "output_type": "stream",
          "name": "stdout",
          "text": [
            "\b\b\b\b\b\b\b\b\b\b\b\b\b\b\b\b\b\b\b\b\b\b\b\b\b\b\b\b\b\b\b\b\b\b\b\b\b\b\b\b\b\b\b\b\b\b\b\b\b\b\b\b\b\b\b\b\b\b\b\b\b\b\b\b\b\b\b\b\b\b\b\b\b\b\b\b\b\b\b\b\b\b\b\b\b\b\b\b\b\b\b\b\b\b\b\b\b\b\b\b\b\b\b\b\b\b\b\b\b\b\b\b\b\b\b\b\b\b\b\b\b\b\b\b\b\b\b\b\b\b\r\u001b[1m21/21\u001b[0m \u001b[32m━━━━━━━━━━━━━━━━━━━━\u001b[0m\u001b[37m\u001b[0m \u001b[1m0s\u001b[0m 19ms/step - accuracy: 0.9263 - auc_2: 0.7906 - loss: 0.3586 - precision_2: 0.5692 - recall_2: 0.2703 - val_accuracy: 0.8841 - val_auc_2: 0.7333 - val_loss: 0.4581 - val_precision_2: 1.0000 - val_recall_2: 0.0588 - learning_rate: 5.0000e-04\n",
            "Epoch 27/100\n",
            "\u001b[1m18/21\u001b[0m \u001b[32m━━━━━━━━━━━━━━━━━\u001b[0m\u001b[37m━━━\u001b[0m \u001b[1m0s\u001b[0m 10ms/step - accuracy: 0.9293 - auc_2: 0.8436 - loss: 0.3444 - precision_2: 0.5779 - recall_2: 0.2905\n",
            "Epoch 27: val_loss did not improve from 0.45809\n",
            "\u001b[1m21/21\u001b[0m \u001b[32m━━━━━━━━━━━━━━━━━━━━\u001b[0m\u001b[37m\u001b[0m \u001b[1m1s\u001b[0m 15ms/step - accuracy: 0.9264 - auc_2: 0.8339 - loss: 0.3503 - precision_2: 0.5612 - recall_2: 0.2813 - val_accuracy: 0.8841 - val_auc_2: 0.7190 - val_loss: 0.4615 - val_precision_2: 1.0000 - val_recall_2: 0.0588 - learning_rate: 5.0000e-04\n",
            "Epoch 28/100\n",
            "\u001b[1m19/21\u001b[0m \u001b[32m━━━━━━━━━━━━━━━━━━\u001b[0m\u001b[37m━━\u001b[0m \u001b[1m0s\u001b[0m 9ms/step - accuracy: 0.9262 - auc_2: 0.8321 - loss: 0.3498 - precision_2: 0.6237 - recall_2: 0.2375\n",
            "Epoch 28: val_loss improved from 0.45809 to 0.45026, saving model to best_model.h5\n"
          ]
        },
        {
          "output_type": "stream",
          "name": "stderr",
          "text": [
            "WARNING:absl:You are saving your model as an HDF5 file via `model.save()` or `keras.saving.save_model(model)`. This file format is considered legacy. We recommend using instead the native Keras format, e.g. `model.save('my_model.keras')` or `keras.saving.save_model(model, 'my_model.keras')`. \n"
          ]
        },
        {
          "output_type": "stream",
          "name": "stdout",
          "text": [
            "\b\b\b\b\b\b\b\b\b\b\b\b\b\b\b\b\b\b\b\b\b\b\b\b\b\b\b\b\b\b\b\b\b\b\b\b\b\b\b\b\b\b\b\b\b\b\b\b\b\b\b\b\b\b\b\b\b\b\b\b\b\b\b\b\b\b\b\b\b\b\b\b\b\b\b\b\b\b\b\b\b\b\b\b\b\b\b\b\b\b\b\b\b\b\b\b\b\b\b\b\b\b\b\b\b\b\b\b\b\b\b\b\b\b\b\b\b\b\b\b\b\b\b\b\b\b\b\b\b\r\u001b[1m21/21\u001b[0m \u001b[32m━━━━━━━━━━━━━━━━━━━━\u001b[0m\u001b[37m\u001b[0m \u001b[1m1s\u001b[0m 19ms/step - accuracy: 0.9266 - auc_2: 0.8286 - loss: 0.3510 - precision_2: 0.6335 - recall_2: 0.2450 - val_accuracy: 0.8913 - val_auc_2: 0.7314 - val_loss: 0.4503 - val_precision_2: 1.0000 - val_recall_2: 0.1176 - learning_rate: 5.0000e-04\n",
            "Epoch 29/100\n",
            "\u001b[1m17/21\u001b[0m \u001b[32m━━━━━━━━━━━━━━━━\u001b[0m\u001b[37m━━━━\u001b[0m \u001b[1m0s\u001b[0m 10ms/step - accuracy: 0.9190 - auc_2: 0.8316 - loss: 0.3596 - precision_2: 0.6836 - recall_2: 0.3525\n",
            "Epoch 29: val_loss did not improve from 0.45026\n",
            "\u001b[1m21/21\u001b[0m \u001b[32m━━━━━━━━━━━━━━━━━━━━\u001b[0m\u001b[37m\u001b[0m \u001b[1m0s\u001b[0m 14ms/step - accuracy: 0.9193 - auc_2: 0.8272 - loss: 0.3584 - precision_2: 0.6528 - recall_2: 0.3376 - val_accuracy: 0.8986 - val_auc_2: 0.7309 - val_loss: 0.4505 - val_precision_2: 1.0000 - val_recall_2: 0.1765 - learning_rate: 5.0000e-04\n",
            "Epoch 30/100\n",
            "\u001b[1m18/21\u001b[0m \u001b[32m━━━━━━━━━━━━━━━━━\u001b[0m\u001b[37m━━━\u001b[0m \u001b[1m0s\u001b[0m 9ms/step - accuracy: 0.9354 - auc_2: 0.7697 - loss: 0.3410 - precision_2: 0.5248 - recall_2: 0.3709\n",
            "Epoch 30: val_loss did not improve from 0.45026\n",
            "\u001b[1m21/21\u001b[0m \u001b[32m━━━━━━━━━━━━━━━━━━━━\u001b[0m\u001b[37m\u001b[0m \u001b[1m0s\u001b[0m 15ms/step - accuracy: 0.9326 - auc_2: 0.7719 - loss: 0.3465 - precision_2: 0.5327 - recall_2: 0.3523 - val_accuracy: 0.8913 - val_auc_2: 0.6784 - val_loss: 0.4726 - val_precision_2: 1.0000 - val_recall_2: 0.1176 - learning_rate: 5.0000e-04\n",
            "Epoch 31/100\n",
            "\u001b[1m19/21\u001b[0m \u001b[32m━━━━━━━━━━━━━━━━━━\u001b[0m\u001b[37m━━\u001b[0m \u001b[1m0s\u001b[0m 9ms/step - accuracy: 0.8836 - auc_2: 0.8324 - loss: 0.3739 - precision_2: 0.2449 - recall_2: 0.1444\n",
            "Epoch 31: val_loss did not improve from 0.45026\n",
            "\u001b[1m21/21\u001b[0m \u001b[32m━━━━━━━━━━━━━━━━━━━━\u001b[0m\u001b[37m\u001b[0m \u001b[1m0s\u001b[0m 15ms/step - accuracy: 0.8866 - auc_2: 0.8335 - loss: 0.3723 - precision_2: 0.2682 - recall_2: 0.1594 - val_accuracy: 0.8841 - val_auc_2: 0.6940 - val_loss: 0.4634 - val_precision_2: 1.0000 - val_recall_2: 0.0588 - learning_rate: 5.0000e-04\n",
            "Epoch 32/100\n",
            "\u001b[1m17/21\u001b[0m \u001b[32m━━━━━━━━━━━━━━━━\u001b[0m\u001b[37m━━━━\u001b[0m \u001b[1m0s\u001b[0m 10ms/step - accuracy: 0.9360 - auc_2: 0.8204 - loss: 0.2997 - precision_2: 0.4151 - recall_2: 0.2464\n",
            "Epoch 32: val_loss did not improve from 0.45026\n",
            "\u001b[1m21/21\u001b[0m \u001b[32m━━━━━━━━━━━━━━━━━━━━\u001b[0m\u001b[37m\u001b[0m \u001b[1m0s\u001b[0m 20ms/step - accuracy: 0.9319 - auc_2: 0.8270 - loss: 0.3088 - precision_2: 0.4429 - recall_2: 0.2406 - val_accuracy: 0.8841 - val_auc_2: 0.7076 - val_loss: 0.4567 - val_precision_2: 1.0000 - val_recall_2: 0.0588 - learning_rate: 5.0000e-04\n",
            "Epoch 33/100\n",
            "\u001b[1m18/21\u001b[0m \u001b[32m━━━━━━━━━━━━━━━━━\u001b[0m\u001b[37m━━━\u001b[0m \u001b[1m0s\u001b[0m 10ms/step - accuracy: 0.9197 - auc_2: 0.7654 - loss: 0.3564 - precision_2: 0.4930 - recall_2: 0.3078\n",
            "Epoch 33: ReduceLROnPlateau reducing learning rate to 0.0002500000118743628.\n",
            "\n",
            "Epoch 33: val_loss did not improve from 0.45026\n",
            "\u001b[1m21/21\u001b[0m \u001b[32m━━━━━━━━━━━━━━━━━━━━\u001b[0m\u001b[37m\u001b[0m \u001b[1m0s\u001b[0m 21ms/step - accuracy: 0.9193 - auc_2: 0.7745 - loss: 0.3558 - precision_2: 0.5045 - recall_2: 0.2981 - val_accuracy: 0.8841 - val_auc_2: 0.7185 - val_loss: 0.4535 - val_precision_2: 1.0000 - val_recall_2: 0.0588 - learning_rate: 5.0000e-04\n",
            "Epoch 34/100\n",
            "\u001b[1m20/21\u001b[0m \u001b[32m━━━━━━━━━━━━━━━━━━━\u001b[0m\u001b[37m━\u001b[0m \u001b[1m0s\u001b[0m 15ms/step - accuracy: 0.9254 - auc_2: 0.7923 - loss: 0.3434 - precision_2: 0.4908 - recall_2: 0.2800\n",
            "Epoch 34: val_loss did not improve from 0.45026\n",
            "\u001b[1m21/21\u001b[0m \u001b[32m━━━━━━━━━━━━━━━━━━━━\u001b[0m\u001b[37m\u001b[0m \u001b[1m1s\u001b[0m 21ms/step - accuracy: 0.9255 - auc_2: 0.7969 - loss: 0.3430 - precision_2: 0.5046 - recall_2: 0.2843 - val_accuracy: 0.8841 - val_auc_2: 0.7090 - val_loss: 0.4544 - val_precision_2: 1.0000 - val_recall_2: 0.0588 - learning_rate: 2.5000e-04\n",
            "Epoch 35/100\n",
            "\u001b[1m20/21\u001b[0m \u001b[32m━━━━━━━━━━━━━━━━━━━\u001b[0m\u001b[37m━\u001b[0m \u001b[1m0s\u001b[0m 15ms/step - accuracy: 0.9346 - auc_2: 0.9188 - loss: 0.3015 - precision_2: 0.7407 - recall_2: 0.4251\n",
            "Epoch 35: val_loss did not improve from 0.45026\n",
            "\u001b[1m21/21\u001b[0m \u001b[32m━━━━━━━━━━━━━━━━━━━━\u001b[0m\u001b[37m\u001b[0m \u001b[1m0s\u001b[0m 22ms/step - accuracy: 0.9343 - auc_2: 0.9156 - loss: 0.3027 - precision_2: 0.7339 - recall_2: 0.4228 - val_accuracy: 0.8841 - val_auc_2: 0.7059 - val_loss: 0.4569 - val_precision_2: 1.0000 - val_recall_2: 0.0588 - learning_rate: 2.5000e-04\n",
            "Epoch 36/100\n",
            "\u001b[1m18/21\u001b[0m \u001b[32m━━━━━━━━━━━━━━━━━\u001b[0m\u001b[37m━━━\u001b[0m \u001b[1m0s\u001b[0m 16ms/step - accuracy: 0.9293 - auc_2: 0.8364 - loss: 0.3225 - precision_2: 0.7038 - recall_2: 0.2774\n",
            "Epoch 36: val_loss improved from 0.45026 to 0.44591, saving model to best_model.h5\n"
          ]
        },
        {
          "output_type": "stream",
          "name": "stderr",
          "text": [
            "WARNING:absl:You are saving your model as an HDF5 file via `model.save()` or `keras.saving.save_model(model)`. This file format is considered legacy. We recommend using instead the native Keras format, e.g. `model.save('my_model.keras')` or `keras.saving.save_model(model, 'my_model.keras')`. \n"
          ]
        },
        {
          "output_type": "stream",
          "name": "stdout",
          "text": [
            "\b\b\b\b\b\b\b\b\b\b\b\b\b\b\b\b\b\b\b\b\b\b\b\b\b\b\b\b\b\b\b\b\b\b\b\b\b\b\b\b\b\b\b\b\b\b\b\b\b\b\b\b\b\b\b\b\b\b\b\b\b\b\b\b\b\b\b\b\b\b\b\b\b\b\b\b\b\b\b\b\b\b\b\b\b\b\b\b\b\b\b\b\b\b\b\b\b\b\b\b\b\b\b\b\b\b\b\b\b\b\b\b\b\b\b\b\b\b\b\b\b\b\b\b\b\b\b\b\b\b\r\u001b[1m21/21\u001b[0m \u001b[32m━━━━━━━━━━━━━━━━━━━━\u001b[0m\u001b[37m\u001b[0m \u001b[1m1s\u001b[0m 31ms/step - accuracy: 0.9298 - auc_2: 0.8419 - loss: 0.3203 - precision_2: 0.7081 - recall_2: 0.2873 - val_accuracy: 0.8841 - val_auc_2: 0.7426 - val_loss: 0.4459 - val_precision_2: 1.0000 - val_recall_2: 0.0588 - learning_rate: 2.5000e-04\n",
            "Epoch 37/100\n",
            "\u001b[1m16/21\u001b[0m \u001b[32m━━━━━━━━━━━━━━━\u001b[0m\u001b[37m━━━━━\u001b[0m \u001b[1m0s\u001b[0m 11ms/step - accuracy: 0.9320 - auc_2: 0.8677 - loss: 0.3190 - precision_2: 0.7353 - recall_2: 0.2289\n",
            "Epoch 37: val_loss improved from 0.44591 to 0.44501, saving model to best_model.h5\n"
          ]
        },
        {
          "output_type": "stream",
          "name": "stderr",
          "text": [
            "WARNING:absl:You are saving your model as an HDF5 file via `model.save()` or `keras.saving.save_model(model)`. This file format is considered legacy. We recommend using instead the native Keras format, e.g. `model.save('my_model.keras')` or `keras.saving.save_model(model, 'my_model.keras')`. \n"
          ]
        },
        {
          "output_type": "stream",
          "name": "stdout",
          "text": [
            "\b\b\b\b\b\b\b\b\b\b\b\b\b\b\b\b\b\b\b\b\b\b\b\b\b\b\b\b\b\b\b\b\b\b\b\b\b\b\b\b\b\b\b\b\b\b\b\b\b\b\b\b\b\b\b\b\b\b\b\b\b\b\b\b\b\b\b\b\b\b\b\b\b\b\b\b\b\b\b\b\b\b\b\b\b\b\b\b\b\b\b\b\b\b\b\b\b\b\b\b\b\b\b\b\b\b\b\b\b\b\b\b\b\b\b\b\b\b\b\b\b\b\b\b\b\b\b\b\b\b\r\u001b[1m21/21\u001b[0m \u001b[32m━━━━━━━━━━━━━━━━━━━━\u001b[0m\u001b[37m\u001b[0m \u001b[1m1s\u001b[0m 19ms/step - accuracy: 0.9327 - auc_2: 0.8725 - loss: 0.3161 - precision_2: 0.7393 - recall_2: 0.2498 - val_accuracy: 0.8841 - val_auc_2: 0.7455 - val_loss: 0.4450 - val_precision_2: 1.0000 - val_recall_2: 0.0588 - learning_rate: 2.5000e-04\n",
            "Epoch 38/100\n",
            "\u001b[1m18/21\u001b[0m \u001b[32m━━━━━━━━━━━━━━━━━\u001b[0m\u001b[37m━━━\u001b[0m \u001b[1m0s\u001b[0m 10ms/step - accuracy: 0.9513 - auc_2: 0.8918 - loss: 0.2919 - precision_2: 0.8226 - recall_2: 0.4993\n",
            "Epoch 38: val_loss did not improve from 0.44501\n",
            "\u001b[1m21/21\u001b[0m \u001b[32m━━━━━━━━━━━━━━━━━━━━\u001b[0m\u001b[37m\u001b[0m \u001b[1m1s\u001b[0m 15ms/step - accuracy: 0.9496 - auc_2: 0.8949 - loss: 0.2931 - precision_2: 0.8209 - recall_2: 0.4821 - val_accuracy: 0.8913 - val_auc_2: 0.7380 - val_loss: 0.4461 - val_precision_2: 1.0000 - val_recall_2: 0.1176 - learning_rate: 2.5000e-04\n",
            "Epoch 39/100\n",
            "\u001b[1m18/21\u001b[0m \u001b[32m━━━━━━━━━━━━━━━━━\u001b[0m\u001b[37m━━━\u001b[0m \u001b[1m0s\u001b[0m 10ms/step - accuracy: 0.9259 - auc_2: 0.8492 - loss: 0.3246 - precision_2: 0.6271 - recall_2: 0.3116\n",
            "Epoch 39: val_loss did not improve from 0.44501\n",
            "\u001b[1m21/21\u001b[0m \u001b[32m━━━━━━━━━━━━━━━━━━━━\u001b[0m\u001b[37m\u001b[0m \u001b[1m0s\u001b[0m 14ms/step - accuracy: 0.9270 - auc_2: 0.8533 - loss: 0.3221 - precision_2: 0.6374 - recall_2: 0.3208 - val_accuracy: 0.8841 - val_auc_2: 0.7217 - val_loss: 0.4539 - val_precision_2: 0.6667 - val_recall_2: 0.1176 - learning_rate: 2.5000e-04\n",
            "Epoch 40/100\n",
            "\u001b[1m19/21\u001b[0m \u001b[32m━━━━━━━━━━━━━━━━━━\u001b[0m\u001b[37m━━\u001b[0m \u001b[1m0s\u001b[0m 9ms/step - accuracy: 0.9274 - auc_2: 0.8965 - loss: 0.3098 - precision_2: 0.7560 - recall_2: 0.3118\n",
            "Epoch 40: val_loss did not improve from 0.44501\n",
            "\u001b[1m21/21\u001b[0m \u001b[32m━━━━━━━━━━━━━━━━━━━━\u001b[0m\u001b[37m\u001b[0m \u001b[1m0s\u001b[0m 14ms/step - accuracy: 0.9287 - auc_2: 0.8955 - loss: 0.3082 - precision_2: 0.7578 - recall_2: 0.3195 - val_accuracy: 0.8913 - val_auc_2: 0.7251 - val_loss: 0.4491 - val_precision_2: 1.0000 - val_recall_2: 0.1176 - learning_rate: 2.5000e-04\n",
            "Epoch 41/100\n",
            "\u001b[1m18/21\u001b[0m \u001b[32m━━━━━━━━━━━━━━━━━\u001b[0m\u001b[37m━━━\u001b[0m \u001b[1m0s\u001b[0m 10ms/step - accuracy: 0.9373 - auc_2: 0.9194 - loss: 0.2825 - precision_2: 0.5056 - recall_2: 0.2642\n",
            "Epoch 41: val_loss improved from 0.44501 to 0.44056, saving model to best_model.h5\n"
          ]
        },
        {
          "output_type": "stream",
          "name": "stderr",
          "text": [
            "WARNING:absl:You are saving your model as an HDF5 file via `model.save()` or `keras.saving.save_model(model)`. This file format is considered legacy. We recommend using instead the native Keras format, e.g. `model.save('my_model.keras')` or `keras.saving.save_model(model, 'my_model.keras')`. \n"
          ]
        },
        {
          "output_type": "stream",
          "name": "stdout",
          "text": [
            "\b\b\b\b\b\b\b\b\b\b\b\b\b\b\b\b\b\b\b\b\b\b\b\b\b\b\b\b\b\b\b\b\b\b\b\b\b\b\b\b\b\b\b\b\b\b\b\b\b\b\b\b\b\b\b\b\b\b\b\b\b\b\b\b\b\b\b\b\b\b\b\b\b\b\b\b\b\b\b\b\b\b\b\b\b\b\b\b\b\b\b\b\b\b\b\b\b\b\b\b\b\b\b\b\b\b\b\b\b\b\b\b\b\b\b\b\b\b\b\b\b\b\b\b\b\b\b\b\b\b\r\u001b[1m21/21\u001b[0m \u001b[32m━━━━━━━━━━━━━━━━━━━━\u001b[0m\u001b[37m\u001b[0m \u001b[1m1s\u001b[0m 18ms/step - accuracy: 0.9358 - auc_2: 0.9149 - loss: 0.2864 - precision_2: 0.5330 - recall_2: 0.2799 - val_accuracy: 0.8913 - val_auc_2: 0.7336 - val_loss: 0.4406 - val_precision_2: 1.0000 - val_recall_2: 0.1176 - learning_rate: 2.5000e-04\n",
            "Epoch 42/100\n",
            "\u001b[1m19/21\u001b[0m \u001b[32m━━━━━━━━━━━━━━━━━━\u001b[0m\u001b[37m━━\u001b[0m \u001b[1m0s\u001b[0m 9ms/step - accuracy: 0.9289 - auc_2: 0.8793 - loss: 0.3236 - precision_2: 0.6780 - recall_2: 0.3402\n",
            "Epoch 42: val_loss improved from 0.44056 to 0.42851, saving model to best_model.h5\n"
          ]
        },
        {
          "output_type": "stream",
          "name": "stderr",
          "text": [
            "WARNING:absl:You are saving your model as an HDF5 file via `model.save()` or `keras.saving.save_model(model)`. This file format is considered legacy. We recommend using instead the native Keras format, e.g. `model.save('my_model.keras')` or `keras.saving.save_model(model, 'my_model.keras')`. \n"
          ]
        },
        {
          "output_type": "stream",
          "name": "stdout",
          "text": [
            "\b\b\b\b\b\b\b\b\b\b\b\b\b\b\b\b\b\b\b\b\b\b\b\b\b\b\b\b\b\b\b\b\b\b\b\b\b\b\b\b\b\b\b\b\b\b\b\b\b\b\b\b\b\b\b\b\b\b\b\b\b\b\b\b\b\b\b\b\b\b\b\b\b\b\b\b\b\b\b\b\b\b\b\b\b\b\b\b\b\b\b\b\b\b\b\b\b\b\b\b\b\b\b\b\b\b\b\b\b\b\b\b\b\b\b\b\b\b\b\b\b\b\b\b\b\b\b\b\b\r\u001b[1m21/21\u001b[0m \u001b[32m━━━━━━━━━━━━━━━━━━━━\u001b[0m\u001b[37m\u001b[0m \u001b[1m0s\u001b[0m 18ms/step - accuracy: 0.9294 - auc_2: 0.8805 - loss: 0.3209 - precision_2: 0.6827 - recall_2: 0.3409 - val_accuracy: 0.8913 - val_auc_2: 0.7472 - val_loss: 0.4285 - val_precision_2: 1.0000 - val_recall_2: 0.1176 - learning_rate: 2.5000e-04\n",
            "Epoch 43/100\n",
            "\u001b[1m19/21\u001b[0m \u001b[32m━━━━━━━━━━━━━━━━━━\u001b[0m\u001b[37m━━\u001b[0m \u001b[1m0s\u001b[0m 9ms/step - accuracy: 0.9518 - auc_2: 0.8757 - loss: 0.2741 - precision_2: 0.7293 - recall_2: 0.5320\n",
            "Epoch 43: val_loss improved from 0.42851 to 0.42165, saving model to best_model.h5\n"
          ]
        },
        {
          "output_type": "stream",
          "name": "stderr",
          "text": [
            "WARNING:absl:You are saving your model as an HDF5 file via `model.save()` or `keras.saving.save_model(model)`. This file format is considered legacy. We recommend using instead the native Keras format, e.g. `model.save('my_model.keras')` or `keras.saving.save_model(model, 'my_model.keras')`. \n"
          ]
        },
        {
          "output_type": "stream",
          "name": "stdout",
          "text": [
            "\b\b\b\b\b\b\b\b\b\b\b\b\b\b\b\b\b\b\b\b\b\b\b\b\b\b\b\b\b\b\b\b\b\b\b\b\b\b\b\b\b\b\b\b\b\b\b\b\b\b\b\b\b\b\b\b\b\b\b\b\b\b\b\b\b\b\b\b\b\b\b\b\b\b\b\b\b\b\b\b\b\b\b\b\b\b\b\b\b\b\b\b\b\b\b\b\b\b\b\b\b\b\b\b\b\b\b\b\b\b\b\b\b\b\b\b\b\b\b\b\b\b\b\b\b\b\b\b\b\r\u001b[1m21/21\u001b[0m \u001b[32m━━━━━━━━━━━━━━━━━━━━\u001b[0m\u001b[37m\u001b[0m \u001b[1m0s\u001b[0m 18ms/step - accuracy: 0.9504 - auc_2: 0.8773 - loss: 0.2770 - precision_2: 0.7342 - recall_2: 0.5219 - val_accuracy: 0.8913 - val_auc_2: 0.7722 - val_loss: 0.4217 - val_precision_2: 1.0000 - val_recall_2: 0.1176 - learning_rate: 2.5000e-04\n",
            "Epoch 44/100\n",
            "\u001b[1m19/21\u001b[0m \u001b[32m━━━━━━━━━━━━━━━━━━\u001b[0m\u001b[37m━━\u001b[0m \u001b[1m0s\u001b[0m 9ms/step - accuracy: 0.9480 - auc_2: 0.9028 - loss: 0.2805 - precision_2: 0.7354 - recall_2: 0.4086\n",
            "Epoch 44: val_loss did not improve from 0.42165\n",
            "\u001b[1m21/21\u001b[0m \u001b[32m━━━━━━━━━━━━━━━━━━━━\u001b[0m\u001b[37m\u001b[0m \u001b[1m1s\u001b[0m 14ms/step - accuracy: 0.9445 - auc_2: 0.9003 - loss: 0.2840 - precision_2: 0.7118 - recall_2: 0.3984 - val_accuracy: 0.8841 - val_auc_2: 0.7513 - val_loss: 0.4376 - val_precision_2: 0.6667 - val_recall_2: 0.1176 - learning_rate: 2.5000e-04\n",
            "Epoch 45/100\n",
            "\u001b[1m17/21\u001b[0m \u001b[32m━━━━━━━━━━━━━━━━\u001b[0m\u001b[37m━━━━\u001b[0m \u001b[1m0s\u001b[0m 10ms/step - accuracy: 0.9319 - auc_2: 0.8399 - loss: 0.3146 - precision_2: 0.6132 - recall_2: 0.2466\n",
            "Epoch 45: val_loss did not improve from 0.42165\n",
            "\u001b[1m21/21\u001b[0m \u001b[32m━━━━━━━━━━━━━━━━━━━━\u001b[0m\u001b[37m\u001b[0m \u001b[1m1s\u001b[0m 14ms/step - accuracy: 0.9295 - auc_2: 0.8461 - loss: 0.3149 - precision_2: 0.6031 - recall_2: 0.2510 - val_accuracy: 0.8841 - val_auc_2: 0.7448 - val_loss: 0.4340 - val_precision_2: 0.6667 - val_recall_2: 0.1176 - learning_rate: 2.5000e-04\n",
            "Epoch 46/100\n",
            "\u001b[1m16/21\u001b[0m \u001b[32m━━━━━━━━━━━━━━━\u001b[0m\u001b[37m━━━━━\u001b[0m \u001b[1m0s\u001b[0m 10ms/step - accuracy: 0.9434 - auc_2: 0.9182 - loss: 0.2796 - precision_2: 0.7061 - recall_2: 0.4913\n",
            "Epoch 46: val_loss improved from 0.42165 to 0.41847, saving model to best_model.h5\n"
          ]
        },
        {
          "output_type": "stream",
          "name": "stderr",
          "text": [
            "WARNING:absl:You are saving your model as an HDF5 file via `model.save()` or `keras.saving.save_model(model)`. This file format is considered legacy. We recommend using instead the native Keras format, e.g. `model.save('my_model.keras')` or `keras.saving.save_model(model, 'my_model.keras')`. \n"
          ]
        },
        {
          "output_type": "stream",
          "name": "stdout",
          "text": [
            "\b\b\b\b\b\b\b\b\b\b\b\b\b\b\b\b\b\b\b\b\b\b\b\b\b\b\b\b\b\b\b\b\b\b\b\b\b\b\b\b\b\b\b\b\b\b\b\b\b\b\b\b\b\b\b\b\b\b\b\b\b\b\b\b\b\b\b\b\b\b\b\b\b\b\b\b\b\b\b\b\b\b\b\b\b\b\b\b\b\b\b\b\b\b\b\b\b\b\b\b\b\b\b\b\b\b\b\b\b\b\b\b\b\b\b\b\b\b\b\b\b\b\b\b\b\b\b\b\b\b\r\u001b[1m21/21\u001b[0m \u001b[32m━━━━━━━━━━━━━━━━━━━━\u001b[0m\u001b[37m\u001b[0m \u001b[1m1s\u001b[0m 20ms/step - accuracy: 0.9418 - auc_2: 0.9109 - loss: 0.2841 - precision_2: 0.7120 - recall_2: 0.4723 - val_accuracy: 0.8986 - val_auc_2: 0.7827 - val_loss: 0.4185 - val_precision_2: 1.0000 - val_recall_2: 0.1765 - learning_rate: 2.5000e-04\n",
            "Epoch 47/100\n",
            "\u001b[1m16/21\u001b[0m \u001b[32m━━━━━━━━━━━━━━━\u001b[0m\u001b[37m━━━━━\u001b[0m \u001b[1m0s\u001b[0m 11ms/step - accuracy: 0.9354 - auc_2: 0.8977 - loss: 0.2866 - precision_2: 0.6822 - recall_2: 0.4551\n",
            "Epoch 47: val_loss improved from 0.41847 to 0.40871, saving model to best_model.h5\n"
          ]
        },
        {
          "output_type": "stream",
          "name": "stderr",
          "text": [
            "WARNING:absl:You are saving your model as an HDF5 file via `model.save()` or `keras.saving.save_model(model)`. This file format is considered legacy. We recommend using instead the native Keras format, e.g. `model.save('my_model.keras')` or `keras.saving.save_model(model, 'my_model.keras')`. \n"
          ]
        },
        {
          "output_type": "stream",
          "name": "stdout",
          "text": [
            "\b\b\b\b\b\b\b\b\b\b\b\b\b\b\b\b\b\b\b\b\b\b\b\b\b\b\b\b\b\b\b\b\b\b\b\b\b\b\b\b\b\b\b\b\b\b\b\b\b\b\b\b\b\b\b\b\b\b\b\b\b\b\b\b\b\b\b\b\b\b\b\b\b\b\b\b\b\b\b\b\b\b\b\b\b\b\b\b\b\b\b\b\b\b\b\b\b\b\b\b\b\b\b\b\b\b\b\b\b\b\b\b\b\b\b\b\b\b\b\b\b\b\b\b\b\b\b\b\b\b\r\u001b[1m21/21\u001b[0m \u001b[32m━━━━━━━━━━━━━━━━━━━━\u001b[0m\u001b[37m\u001b[0m \u001b[1m0s\u001b[0m 19ms/step - accuracy: 0.9359 - auc_2: 0.8954 - loss: 0.2894 - precision_2: 0.6989 - recall_2: 0.4397 - val_accuracy: 0.8768 - val_auc_2: 0.8342 - val_loss: 0.4087 - val_precision_2: 0.5000 - val_recall_2: 0.1176 - learning_rate: 2.5000e-04\n",
            "Epoch 48/100\n",
            "\u001b[1m16/21\u001b[0m \u001b[32m━━━━━━━━━━━━━━━\u001b[0m\u001b[37m━━━━━\u001b[0m \u001b[1m0s\u001b[0m 10ms/step - accuracy: 0.9271 - auc_2: 0.8859 - loss: 0.2858 - precision_2: 0.4879 - recall_2: 0.3323\n",
            "Epoch 48: val_loss did not improve from 0.40871\n",
            "\u001b[1m21/21\u001b[0m \u001b[32m━━━━━━━━━━━━━━━━━━━━\u001b[0m\u001b[37m\u001b[0m \u001b[1m0s\u001b[0m 15ms/step - accuracy: 0.9284 - auc_2: 0.8915 - loss: 0.2866 - precision_2: 0.5394 - recall_2: 0.3416 - val_accuracy: 0.8913 - val_auc_2: 0.8167 - val_loss: 0.4178 - val_precision_2: 1.0000 - val_recall_2: 0.1176 - learning_rate: 2.5000e-04\n",
            "Epoch 49/100\n",
            "\u001b[1m19/21\u001b[0m \u001b[32m━━━━━━━━━━━━━━━━━━\u001b[0m\u001b[37m━━\u001b[0m \u001b[1m0s\u001b[0m 9ms/step - accuracy: 0.9341 - auc_2: 0.9208 - loss: 0.2888 - precision_2: 0.8383 - recall_2: 0.3721 \n",
            "Epoch 49: val_loss did not improve from 0.40871\n",
            "\u001b[1m21/21\u001b[0m \u001b[32m━━━━━━━━━━━━━━━━━━━━\u001b[0m\u001b[37m\u001b[0m \u001b[1m0s\u001b[0m 14ms/step - accuracy: 0.9353 - auc_2: 0.9200 - loss: 0.2873 - precision_2: 0.8360 - recall_2: 0.3787 - val_accuracy: 0.8913 - val_auc_2: 0.8413 - val_loss: 0.4146 - val_precision_2: 1.0000 - val_recall_2: 0.1176 - learning_rate: 2.5000e-04\n",
            "Epoch 50/100\n",
            "\u001b[1m19/21\u001b[0m \u001b[32m━━━━━━━━━━━━━━━━━━\u001b[0m\u001b[37m━━\u001b[0m \u001b[1m0s\u001b[0m 9ms/step - accuracy: 0.9519 - auc_2: 0.8542 - loss: 0.2686 - precision_2: 0.8550 - recall_2: 0.3478\n",
            "Epoch 50: val_loss did not improve from 0.40871\n",
            "\u001b[1m21/21\u001b[0m \u001b[32m━━━━━━━━━━━━━━━━━━━━\u001b[0m\u001b[37m\u001b[0m \u001b[1m1s\u001b[0m 14ms/step - accuracy: 0.9498 - auc_2: 0.8590 - loss: 0.2717 - precision_2: 0.8433 - recall_2: 0.3499 - val_accuracy: 0.8913 - val_auc_2: 0.8308 - val_loss: 0.4185 - val_precision_2: 1.0000 - val_recall_2: 0.1176 - learning_rate: 2.5000e-04\n",
            "Epoch 51/100\n",
            "\u001b[1m19/21\u001b[0m \u001b[32m━━━━━━━━━━━━━━━━━━\u001b[0m\u001b[37m━━\u001b[0m \u001b[1m0s\u001b[0m 9ms/step - accuracy: 0.9268 - auc_2: 0.8735 - loss: 0.2973 - precision_2: 0.4708 - recall_2: 0.3568\n",
            "Epoch 51: val_loss improved from 0.40871 to 0.37551, saving model to best_model.h5\n"
          ]
        },
        {
          "output_type": "stream",
          "name": "stderr",
          "text": [
            "WARNING:absl:You are saving your model as an HDF5 file via `model.save()` or `keras.saving.save_model(model)`. This file format is considered legacy. We recommend using instead the native Keras format, e.g. `model.save('my_model.keras')` or `keras.saving.save_model(model, 'my_model.keras')`. \n"
          ]
        },
        {
          "output_type": "stream",
          "name": "stdout",
          "text": [
            "\b\b\b\b\b\b\b\b\b\b\b\b\b\b\b\b\b\b\b\b\b\b\b\b\b\b\b\b\b\b\b\b\b\b\b\b\b\b\b\b\b\b\b\b\b\b\b\b\b\b\b\b\b\b\b\b\b\b\b\b\b\b\b\b\b\b\b\b\b\b\b\b\b\b\b\b\b\b\b\b\b\b\b\b\b\b\b\b\b\b\b\b\b\b\b\b\b\b\b\b\b\b\b\b\b\b\b\b\b\b\b\b\b\b\b\b\b\b\b\b\b\b\b\b\b\b\b\b\b\r\u001b[1m21/21\u001b[0m \u001b[32m━━━━━━━━━━━━━━━━━━━━\u001b[0m\u001b[37m\u001b[0m \u001b[1m0s\u001b[0m 19ms/step - accuracy: 0.9281 - auc_2: 0.8749 - loss: 0.2971 - precision_2: 0.5013 - recall_2: 0.3702 - val_accuracy: 0.9058 - val_auc_2: 0.8476 - val_loss: 0.3755 - val_precision_2: 1.0000 - val_recall_2: 0.2353 - learning_rate: 2.5000e-04\n",
            "Epoch 52/100\n",
            "\u001b[1m18/21\u001b[0m \u001b[32m━━━━━━━━━━━━━━━━━\u001b[0m\u001b[37m━━━\u001b[0m \u001b[1m0s\u001b[0m 10ms/step - accuracy: 0.9392 - auc_2: 0.9045 - loss: 0.2893 - precision_2: 0.7186 - recall_2: 0.4506\n",
            "Epoch 52: val_loss did not improve from 0.37551\n",
            "\u001b[1m21/21\u001b[0m \u001b[32m━━━━━━━━━━━━━━━━━━━━\u001b[0m\u001b[37m\u001b[0m \u001b[1m1s\u001b[0m 15ms/step - accuracy: 0.9394 - auc_2: 0.9059 - loss: 0.2879 - precision_2: 0.7262 - recall_2: 0.4483 - val_accuracy: 0.8913 - val_auc_2: 0.8235 - val_loss: 0.4268 - val_precision_2: 1.0000 - val_recall_2: 0.1176 - learning_rate: 2.5000e-04\n",
            "Epoch 53/100\n",
            "\u001b[1m18/21\u001b[0m \u001b[32m━━━━━━━━━━━━━━━━━\u001b[0m\u001b[37m━━━\u001b[0m \u001b[1m0s\u001b[0m 10ms/step - accuracy: 0.9530 - auc_2: 0.9283 - loss: 0.2611 - precision_2: 0.7691 - recall_2: 0.5692\n",
            "Epoch 53: val_loss did not improve from 0.37551\n",
            "\u001b[1m21/21\u001b[0m \u001b[32m━━━━━━━━━━━━━━━━━━━━\u001b[0m\u001b[37m\u001b[0m \u001b[1m0s\u001b[0m 15ms/step - accuracy: 0.9521 - auc_2: 0.9228 - loss: 0.2639 - precision_2: 0.7785 - recall_2: 0.5579 - val_accuracy: 0.8841 - val_auc_2: 0.8393 - val_loss: 0.4344 - val_precision_2: 1.0000 - val_recall_2: 0.0588 - learning_rate: 2.5000e-04\n",
            "Epoch 54/100\n",
            "\u001b[1m20/21\u001b[0m \u001b[32m━━━━━━━━━━━━━━━━━━━\u001b[0m\u001b[37m━\u001b[0m \u001b[1m0s\u001b[0m 11ms/step - accuracy: 0.9449 - auc_2: 0.9289 - loss: 0.2615 - precision_2: 0.8061 - recall_2: 0.5142\n",
            "Epoch 54: val_loss did not improve from 0.37551\n",
            "\u001b[1m21/21\u001b[0m \u001b[32m━━━━━━━━━━━━━━━━━━━━\u001b[0m\u001b[37m\u001b[0m \u001b[1m0s\u001b[0m 16ms/step - accuracy: 0.9455 - auc_2: 0.9285 - loss: 0.2615 - precision_2: 0.8104 - recall_2: 0.5154 - val_accuracy: 0.8841 - val_auc_2: 0.8313 - val_loss: 0.4248 - val_precision_2: 1.0000 - val_recall_2: 0.0588 - learning_rate: 2.5000e-04\n",
            "Epoch 55/100\n",
            "\u001b[1m19/21\u001b[0m \u001b[32m━━━━━━━━━━━━━━━━━━\u001b[0m\u001b[37m━━\u001b[0m \u001b[1m0s\u001b[0m 9ms/step - accuracy: 0.9408 - auc_2: 0.9350 - loss: 0.2623 - precision_2: 0.6820 - recall_2: 0.4785\n",
            "Epoch 55: val_loss did not improve from 0.37551\n",
            "\u001b[1m21/21\u001b[0m \u001b[32m━━━━━━━━━━━━━━━━━━━━\u001b[0m\u001b[37m\u001b[0m \u001b[1m1s\u001b[0m 14ms/step - accuracy: 0.9408 - auc_2: 0.9329 - loss: 0.2639 - precision_2: 0.6923 - recall_2: 0.4752 - val_accuracy: 0.8841 - val_auc_2: 0.8286 - val_loss: 0.4293 - val_precision_2: 1.0000 - val_recall_2: 0.0588 - learning_rate: 2.5000e-04\n",
            "Epoch 56/100\n",
            "\u001b[1m21/21\u001b[0m \u001b[32m━━━━━━━━━━━━━━━━━━━━\u001b[0m\u001b[37m\u001b[0m \u001b[1m0s\u001b[0m 11ms/step - accuracy: 0.9417 - auc_2: 0.8595 - loss: 0.2934 - precision_2: 0.8097 - recall_2: 0.3586\n",
            "Epoch 56: ReduceLROnPlateau reducing learning rate to 0.0001250000059371814.\n",
            "\n",
            "Epoch 56: val_loss did not improve from 0.37551\n",
            "\u001b[1m21/21\u001b[0m \u001b[32m━━━━━━━━━━━━━━━━━━━━\u001b[0m\u001b[37m\u001b[0m \u001b[1m1s\u001b[0m 16ms/step - accuracy: 0.9416 - auc_2: 0.8604 - loss: 0.2933 - precision_2: 0.8096 - recall_2: 0.3596 - val_accuracy: 0.8913 - val_auc_2: 0.8323 - val_loss: 0.4061 - val_precision_2: 1.0000 - val_recall_2: 0.1176 - learning_rate: 2.5000e-04\n",
            "Epoch 57/100\n",
            "\u001b[1m16/21\u001b[0m \u001b[32m━━━━━━━━━━━━━━━\u001b[0m\u001b[37m━━━━━\u001b[0m \u001b[1m0s\u001b[0m 11ms/step - accuracy: 0.9453 - auc_2: 0.9035 - loss: 0.2642 - precision_2: 0.7681 - recall_2: 0.3917\n",
            "Epoch 57: val_loss did not improve from 0.37551\n",
            "\u001b[1m21/21\u001b[0m \u001b[32m━━━━━━━━━━━━━━━━━━━━\u001b[0m\u001b[37m\u001b[0m \u001b[1m0s\u001b[0m 15ms/step - accuracy: 0.9452 - auc_2: 0.9121 - loss: 0.2619 - precision_2: 0.7732 - recall_2: 0.4197 - val_accuracy: 0.8913 - val_auc_2: 0.8459 - val_loss: 0.4021 - val_precision_2: 1.0000 - val_recall_2: 0.1176 - learning_rate: 1.2500e-04\n",
            "Epoch 58/100\n",
            "\u001b[1m20/21\u001b[0m \u001b[32m━━━━━━━━━━━━━━━━━━━\u001b[0m\u001b[37m━\u001b[0m \u001b[1m0s\u001b[0m 16ms/step - accuracy: 0.9499 - auc_2: 0.9421 - loss: 0.2632 - precision_2: 0.8258 - recall_2: 0.5950\n",
            "Epoch 58: val_loss did not improve from 0.37551\n",
            "\u001b[1m21/21\u001b[0m \u001b[32m━━━━━━━━━━━━━━━━━━━━\u001b[0m\u001b[37m\u001b[0m \u001b[1m1s\u001b[0m 23ms/step - accuracy: 0.9494 - auc_2: 0.9412 - loss: 0.2634 - precision_2: 0.8183 - recall_2: 0.5889 - val_accuracy: 0.8841 - val_auc_2: 0.8240 - val_loss: 0.4208 - val_precision_2: 1.0000 - val_recall_2: 0.0588 - learning_rate: 1.2500e-04\n",
            "Epoch 59/100\n",
            "\u001b[1m20/21\u001b[0m \u001b[32m━━━━━━━━━━━━━━━━━━━\u001b[0m\u001b[37m━\u001b[0m \u001b[1m0s\u001b[0m 16ms/step - accuracy: 0.9550 - auc_2: 0.9423 - loss: 0.2372 - precision_2: 0.8162 - recall_2: 0.5450\n",
            "Epoch 59: val_loss did not improve from 0.37551\n",
            "\u001b[1m21/21\u001b[0m \u001b[32m━━━━━━━━━━━━━━━━━━━━\u001b[0m\u001b[37m\u001b[0m \u001b[1m1s\u001b[0m 25ms/step - accuracy: 0.9542 - auc_2: 0.9414 - loss: 0.2390 - precision_2: 0.8159 - recall_2: 0.5384 - val_accuracy: 0.8913 - val_auc_2: 0.8529 - val_loss: 0.4009 - val_precision_2: 1.0000 - val_recall_2: 0.1176 - learning_rate: 1.2500e-04\n",
            "Epoch 60/100\n",
            "\u001b[1m19/21\u001b[0m \u001b[32m━━━━━━━━━━━━━━━━━━\u001b[0m\u001b[37m━━\u001b[0m \u001b[1m0s\u001b[0m 16ms/step - accuracy: 0.9651 - auc_2: 0.8128 - loss: 0.2535 - precision_2: 0.7007 - recall_2: 0.5554\n",
            "Epoch 60: val_loss did not improve from 0.37551\n",
            "\u001b[1m21/21\u001b[0m \u001b[32m━━━━━━━━━━━━━━━━━━━━\u001b[0m\u001b[37m\u001b[0m \u001b[1m1s\u001b[0m 27ms/step - accuracy: 0.9634 - auc_2: 0.8244 - loss: 0.2564 - precision_2: 0.7215 - recall_2: 0.5520 - val_accuracy: 0.8913 - val_auc_2: 0.8367 - val_loss: 0.4044 - val_precision_2: 1.0000 - val_recall_2: 0.1176 - learning_rate: 1.2500e-04\n",
            "Epoch 61/100\n",
            "\u001b[1m21/21\u001b[0m \u001b[32m━━━━━━━━━━━━━━━━━━━━\u001b[0m\u001b[37m\u001b[0m \u001b[1m0s\u001b[0m 17ms/step - accuracy: 0.9378 - auc_2: 0.9525 - loss: 0.2509 - precision_2: 0.7098 - recall_2: 0.3380\n",
            "Epoch 61: ReduceLROnPlateau reducing learning rate to 6.25000029685907e-05.\n",
            "\n",
            "Epoch 61: val_loss did not improve from 0.37551\n",
            "\u001b[1m21/21\u001b[0m \u001b[32m━━━━━━━━━━━━━━━━━━━━\u001b[0m\u001b[37m\u001b[0m \u001b[1m1s\u001b[0m 25ms/step - accuracy: 0.9378 - auc_2: 0.9514 - loss: 0.2514 - precision_2: 0.7120 - recall_2: 0.3408 - val_accuracy: 0.9058 - val_auc_2: 0.8707 - val_loss: 0.3764 - val_precision_2: 1.0000 - val_recall_2: 0.2353 - learning_rate: 1.2500e-04\n",
            "Epoch 61: early stopping\n",
            "Restoring model weights from the end of the best epoch: 51.\n"
          ]
        },
        {
          "output_type": "stream",
          "name": "stderr",
          "text": [
            "WARNING:tensorflow:5 out of the last 11 calls to <function TensorFlowTrainer.make_predict_function.<locals>.one_step_on_data_distributed at 0x7810d4459a80> triggered tf.function retracing. Tracing is expensive and the excessive number of tracings could be due to (1) creating @tf.function repeatedly in a loop, (2) passing tensors with different shapes, (3) passing Python objects instead of tensors. For (1), please define your @tf.function outside of the loop. For (2), @tf.function has reduce_retracing=True option that can avoid unnecessary retracing. For (3), please refer to https://www.tensorflow.org/guide/function#controlling_retracing and https://www.tensorflow.org/api_docs/python/tf/function for  more details.\n"
          ]
        },
        {
          "output_type": "stream",
          "name": "stdout",
          "text": [
            "\r\u001b[1m1/5\u001b[0m \u001b[32m━━━━\u001b[0m\u001b[37m━━━━━━━━━━━━━━━━\u001b[0m \u001b[1m1s\u001b[0m 320ms/step"
          ]
        },
        {
          "output_type": "stream",
          "name": "stderr",
          "text": [
            "WARNING:tensorflow:5 out of the last 11 calls to <function TensorFlowTrainer.make_predict_function.<locals>.one_step_on_data_distributed at 0x7810d4459a80> triggered tf.function retracing. Tracing is expensive and the excessive number of tracings could be due to (1) creating @tf.function repeatedly in a loop, (2) passing tensors with different shapes, (3) passing Python objects instead of tensors. For (1), please define your @tf.function outside of the loop. For (2), @tf.function has reduce_retracing=True option that can avoid unnecessary retracing. For (3), please refer to https://www.tensorflow.org/guide/function#controlling_retracing and https://www.tensorflow.org/api_docs/python/tf/function for  more details.\n"
          ]
        },
        {
          "output_type": "stream",
          "name": "stdout",
          "text": [
            "\u001b[1m5/5\u001b[0m \u001b[32m━━━━━━━━━━━━━━━━━━━━\u001b[0m\u001b[37m\u001b[0m \u001b[1m1s\u001b[0m 66ms/step\n",
            "               precision    recall  f1-score   support\n",
            "\n",
            "No Recurrence       0.92      1.00      0.96       124\n",
            "   Recurrence       1.00      0.27      0.42        15\n",
            "\n",
            "     accuracy                           0.92       139\n",
            "    macro avg       0.96      0.63      0.69       139\n",
            " weighted avg       0.93      0.92      0.90       139\n",
            "\n"
          ]
        },
        {
          "output_type": "display_data",
          "data": {
            "text/plain": [
              "<Figure size 800x600 with 2 Axes>"
            ],
            "image/png": "[encoded data removed]"
          },
          "metadata": {}
        },
        {
          "output_type": "display_data",
          "data": {
            "text/plain": [
              "<Figure size 800x600 with 1 Axes>"
            ],
            "image/png": "[encoded data removed]"
          },
          "metadata": {}
        },
        {
          "output_type": "display_data",
          "data": {
            "text/plain": [
              "<Figure size 800x600 with 1 Axes>"
            ],
            "image/png": "[encoded data removed]"
          },
          "metadata": {}
        },
        {
          "output_type": "stream",
          "name": "stdout",
          "text": [
            "Final model performance:\n",
            "Accuracy: 0.9209\n",
            "AUC: 0.8567\n",
            "F1 Score: 0.8996\n"
          ]
        }
      ]
    }
  ]
}